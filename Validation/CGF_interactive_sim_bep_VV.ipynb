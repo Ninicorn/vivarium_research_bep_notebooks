{
 "cells": [
  {
   "cell_type": "markdown",
   "metadata": {},
   "source": [
    "Interactive sim\n",
    "install environment in a terminal:\n",
    "\n",
    "1) conda activate gates_bep\n",
    "\n",
    "2) then type in this command: ipython kernel install --name gates_bep --user"
   ]
  },
  {
   "cell_type": "markdown",
   "metadata": {},
   "source": [
    "NOTE: it takes about 12 seconds per time-step"
   ]
  },
  {
   "cell_type": "code",
   "execution_count": 1,
   "metadata": {},
   "outputs": [
    {
     "name": "stdout",
     "output_type": "stream",
     "text": [
      "nicoly\n",
      "Wed Oct  7 20:08:22 PDT 2020\n"
     ]
    }
   ],
   "source": [
    "!whoami\n",
    "!date"
   ]
  },
  {
   "cell_type": "code",
   "execution_count": 2,
   "metadata": {
    "scrolled": true
   },
   "outputs": [
    {
     "data": {
      "text/html": [
       "<style>.container { width:100% !important; }</style>"
      ],
      "text/plain": [
       "<IPython.core.display.HTML object>"
      ]
     },
     "metadata": {},
     "output_type": "display_data"
    }
   ],
   "source": [
    "from IPython.core.display import display, HTML\n",
    "display(HTML(\"<style>.container { width:100% !important; }</style>\")) #makes the display bars longer and spread out 100% across the screen width"
   ]
  },
  {
   "cell_type": "code",
   "execution_count": 3,
   "metadata": {},
   "outputs": [],
   "source": [
    "import pandas as pd\n",
    "from numpy.random import randn\n",
    "from numpy.random import seed\n",
    "from numpy import mean\n",
    "from numpy import std\n",
    "from numpy import cov\n",
    "from matplotlib import pyplot\n",
    "from scipy.stats import pearsonr\n",
    "from scipy.stats import spearmanr\n",
    "from scipy.stats import stats"
   ]
  },
  {
   "cell_type": "markdown",
   "metadata": {},
   "source": [
    "# 1. Set up interactive sim by first the InteractiveContext modules that runs interactive sims, and make specs "
   ]
  },
  {
   "cell_type": "code",
   "execution_count": 4,
   "metadata": {},
   "outputs": [],
   "source": [
    "#This is the interactive context module from vivarium that runs the simulation \n",
    "\n",
    "from vivarium import InteractiveContext"
   ]
  },
  {
   "cell_type": "code",
   "execution_count": 5,
   "metadata": {
    "scrolled": true
   },
   "outputs": [],
   "source": [
    "!make_specs #uses the model_spec.in to create the yaml files \n",
    "\n",
    "#india_nocorr.yaml does not have the correlation structure for wasting/stunting and birthweight.  "
   ]
  },
  {
   "cell_type": "code",
   "execution_count": 6,
   "metadata": {
    "scrolled": true
   },
   "outputs": [
    {
     "name": "stdout",
     "output_type": "stream",
     "text": [
      "/ihme/homes/nicoly/vivarium_gates_bep/src/vivarium_gates_bep/model_specifications\n",
      "\u001b[0m\u001b[01;34mbranches\u001b[0m/             india_nocorr.yaml  mali.yaml      pakistan.yaml\n",
      "bw_risk_corr_spec.in  india.yaml         model_spec.in  tanzania.yaml\n"
     ]
    }
   ],
   "source": [
    "#look for the file path of the yaml files (feb 2020 model)\n",
    "\n",
    "%pwd \n",
    "# %cd ..\n",
    "# %ls\n",
    "%cd /ihme/homes/nicoly/vivarium_gates_bep/src/vivarium_gates_bep/model_specifications\n",
    "%ls\n",
    "# %cd /ihme/homes/nicoly/vivarium_gates_bep/src/vivarium_gates_bep/src/vivarium_gates_bep/model_specifications\n",
    "# ! changes locally\n",
    "# % changes in python (the running interpreter)"
   ]
  },
  {
   "cell_type": "code",
   "execution_count": 7,
   "metadata": {},
   "outputs": [
    {
     "name": "stdout",
     "output_type": "stream",
     "text": [
      "\u001b[0m\u001b[01;34mbranches\u001b[0m/             india_nocorr.yaml  mali.yaml      pakistan.yaml\r\n",
      "bw_risk_corr_spec.in  india.yaml         model_spec.in  tanzania.yaml\r\n"
     ]
    }
   ],
   "source": [
    "%pwd\n",
    "%ls"
   ]
  },
  {
   "cell_type": "code",
   "execution_count": 8,
   "metadata": {},
   "outputs": [],
   "source": [
    "# can go into the branches folder, then can look at the specs; this will tell me change the scenario names\n",
    "# %less scenarios.yaml <--this doesnt work so need to manually overide with terminal and nano"
   ]
  },
  {
   "cell_type": "code",
   "execution_count": 9,
   "metadata": {},
   "outputs": [],
   "source": [
    "#lets me look into the contents of india.yaml file\n",
    "\n",
    "%less india.yaml\n",
    "#opens up the yaml file so we can look into the yaml file, look under maternal_supplementation to check what scenario this is. Currently at baseline. Can change it to run interactive sim on other scenarios"
   ]
  },
  {
   "cell_type": "markdown",
   "metadata": {},
   "source": [
    "Last git pull for vivarium_gates_bep repo: october 1 2020\n",
    "\n",
    "These are the specs for interactive sim (eg. India)\n",
    "\n",
    "    input_data:\n",
    "        location: India\n",
    "        input_draw_number: 0\n",
    "        artifact_path: /share/costeffectiveness/artifacts/vivarium_conic_lsff/india.hdf\n",
    "    interpolation:\n",
    "        order: 0\n",
    "        extrapolate: True\n",
    "    randomness:\n",
    "        map_size: 1_000_000\n",
    "        key_columns: ['entrance_time', 'age']\n",
    "        random_seed: 0\n",
    "        \n",
    "    population:\n",
    "        population_size: 10_000\n",
    "        age_start: 0\n",
    "        age_end: 0\n",
    "        \n",
    "    maternal_supplementation:\n",
    "        scenario: 'baseline'"
   ]
  },
  {
   "cell_type": "markdown",
   "metadata": {},
   "source": [
    "# 1. DEFINE SIM with InteractiveContext"
   ]
  },
  {
   "cell_type": "code",
   "execution_count": 10,
   "metadata": {
    "scrolled": true
   },
   "outputs": [
    {
     "name": "stderr",
     "output_type": "stream",
     "text": [
      "2020-10-07 20:08:38.779 | DEBUG    | vivarium.framework.values:register_value_modifier:373 - Registering metrics.1.population_manager.metrics as modifier to metrics\n",
      "2020-10-07 20:08:39.120 | DEBUG    | vivarium.framework.artifact.manager:_load_artifact:66 - Running simulation from artifact located at /share/costeffectiveness/artifacts/vivarium_gates_bep/india.hdf.\n",
      "2020-10-07 20:08:39.121 | DEBUG    | vivarium.framework.artifact.manager:_load_artifact:67 - Artifact base filter terms are ['draw == 0', \"location == 'India' | location == 'Global'\"].\n",
      "2020-10-07 20:08:39.122 | DEBUG    | vivarium.framework.artifact.manager:_load_artifact:68 - Artifact additional filter terms are None.\n",
      "2020-10-07 20:08:39.826 | DEBUG    | vivarium.framework.values:_register_value_producer:323 - Registering value pipeline protein_energy_malnutrition.disability_weight\n",
      "2020-10-07 20:08:39.829 | DEBUG    | vivarium.framework.values:register_value_modifier:373 - Registering disability_weight.1.protein_energy_malnutrition.disability_weight as modifier to disability_weight\n",
      "2020-10-07 20:08:40.480 | DEBUG    | vivarium.framework.values:register_value_modifier:373 - Registering cause_specific_mortality_rate.1.risk_attributable_disease.cause.protein_energy_malnutrition.risk_factor.child_wasting.adjust_cause_specific_mortality_rate as modifier to cause_specific_mortality_rate\n",
      "2020-10-07 20:08:41.139 | DEBUG    | vivarium.framework.values:_register_value_producer:323 - Registering value pipeline protein_energy_malnutrition.excess_mortality_rate\n",
      "2020-10-07 20:08:41.141 | DEBUG    | vivarium.framework.values:_register_value_producer:323 - Registering value pipeline protein_energy_malnutrition.excess_mortality_rate.population_attributable_fraction\n",
      "2020-10-07 20:08:41.142 | DEBUG    | vivarium.framework.values:register_value_modifier:373 - Registering mortality_rate.1.risk_attributable_disease.cause.protein_energy_malnutrition.risk_factor.child_wasting.adjust_mortality_rate as modifier to mortality_rate\n",
      "2020-10-07 20:08:41.149 | DEBUG    | vivarium.framework.values:_register_value_producer:323 - Registering value pipeline child_wasting.propensity\n",
      "2020-10-07 20:08:41.149 | DEBUG    | vivarium.framework.values:_register_value_producer:323 - Registering value pipeline child_wasting.exposure\n",
      "2020-10-07 20:08:55.867 | DEBUG    | vivarium.framework.values:register_value_modifier:373 - Registering diarrheal_diseases.incidence_rate.1.risk_effect.risk_factor.child_wasting.cause.diarrheal_diseases.incidence_rate.adjust_target as modifier to diarrheal_diseases.incidence_rate\n",
      "2020-10-07 20:08:55.869 | DEBUG    | vivarium.framework.values:register_value_modifier:373 - Registering diarrheal_diseases.incidence_rate.paf.1.lookup_table_18 as modifier to diarrheal_diseases.incidence_rate.paf\n",
      "2020-10-07 20:08:56.698 | DEBUG    | vivarium.framework.values:register_value_modifier:373 - Registering measles.incidence_rate.1.risk_effect.risk_factor.child_wasting.cause.measles.incidence_rate.adjust_target as modifier to measles.incidence_rate\n",
      "2020-10-07 20:08:56.699 | DEBUG    | vivarium.framework.values:register_value_modifier:373 - Registering measles.incidence_rate.paf.1.lookup_table_20 as modifier to measles.incidence_rate.paf\n",
      "2020-10-07 20:08:57.535 | DEBUG    | vivarium.framework.values:register_value_modifier:373 - Registering lower_respiratory_infections.incidence_rate.1.risk_effect.risk_factor.child_wasting.cause.lower_respiratory_infections.incidence_rate.adjust_target as modifier to lower_respiratory_infections.incidence_rate\n",
      "2020-10-07 20:08:57.537 | DEBUG    | vivarium.framework.values:register_value_modifier:373 - Registering lower_respiratory_infections.incidence_rate.paf.1.lookup_table_22 as modifier to lower_respiratory_infections.incidence_rate.paf\n",
      "2020-10-07 20:08:57.540 | DEBUG    | vivarium.framework.values:_register_value_producer:323 - Registering value pipeline child_stunting.propensity\n",
      "2020-10-07 20:08:57.541 | DEBUG    | vivarium.framework.values:_register_value_producer:323 - Registering value pipeline child_stunting.exposure\n",
      "2020-10-07 20:09:10.422 | DEBUG    | vivarium.framework.values:register_value_modifier:373 - Registering diarrheal_diseases.incidence_rate.2.risk_effect.risk_factor.child_stunting.cause.diarrheal_diseases.incidence_rate.adjust_target as modifier to diarrheal_diseases.incidence_rate\n",
      "2020-10-07 20:09:10.424 | DEBUG    | vivarium.framework.values:register_value_modifier:373 - Registering diarrheal_diseases.incidence_rate.paf.2.lookup_table_37 as modifier to diarrheal_diseases.incidence_rate.paf\n",
      "2020-10-07 20:09:11.226 | DEBUG    | vivarium.framework.values:register_value_modifier:373 - Registering measles.incidence_rate.2.risk_effect.risk_factor.child_stunting.cause.measles.incidence_rate.adjust_target as modifier to measles.incidence_rate\n",
      "2020-10-07 20:09:11.228 | DEBUG    | vivarium.framework.values:register_value_modifier:373 - Registering measles.incidence_rate.paf.2.lookup_table_39 as modifier to measles.incidence_rate.paf\n",
      "2020-10-07 20:09:12.056 | DEBUG    | vivarium.framework.values:register_value_modifier:373 - Registering lower_respiratory_infections.incidence_rate.2.risk_effect.risk_factor.child_stunting.cause.lower_respiratory_infections.incidence_rate.adjust_target as modifier to lower_respiratory_infections.incidence_rate\n",
      "2020-10-07 20:09:12.057 | DEBUG    | vivarium.framework.values:register_value_modifier:373 - Registering lower_respiratory_infections.incidence_rate.paf.2.lookup_table_41 as modifier to lower_respiratory_infections.incidence_rate.paf\n",
      "2020-10-07 20:09:14.162 | DEBUG    | vivarium.framework.values:_register_value_producer:323 - Registering value pipeline cause_specific_mortality_rate\n",
      "2020-10-07 20:09:25.371 | DEBUG    | vivarium.framework.values:_register_value_producer:323 - Registering value pipeline affected_unmodeled.csmr\n",
      "2020-10-07 20:09:25.373 | DEBUG    | vivarium.framework.values:_register_value_producer:323 - Registering value pipeline affected_unmodeled.csmr.population_attributable_fraction\n",
      "2020-10-07 20:09:25.374 | DEBUG    | vivarium.framework.values:_register_value_producer:323 - Registering value pipeline mortality_rate\n",
      "2020-10-07 20:09:25.375 | DEBUG    | vivarium.framework.values:_register_value_producer:323 - Registering value pipeline all_causes.mortality_hazard\n",
      "2020-10-07 20:09:25.375 | DEBUG    | vivarium.framework.values:_register_value_producer:323 - Registering value pipeline all_causes.mortality_hazard.population_attributable_fraction\n",
      "2020-10-07 20:09:27.452 | DEBUG    | vivarium.framework.values:register_value_modifier:373 - Registering cause_specific_mortality_rate.2.disease_model.diarrheal_diseases.adjust_cause_specific_mortality_rate as modifier to cause_specific_mortality_rate\n",
      "2020-10-07 20:09:27.456 | DEBUG    | vivarium.framework.values:register_value_modifier:373 - Registering metrics.2.disease_model.diarrheal_diseases.metrics as modifier to metrics\n",
      "2020-10-07 20:09:27.457 | DEBUG    | vivarium.framework.values:register_value_modifier:373 - Registering metrics.3.state.susceptible_to_diarrheal_diseases.metrics as modifier to metrics\n",
      "2020-10-07 20:09:28.322 | DEBUG    | vivarium.framework.values:_register_value_producer:323 - Registering value pipeline diarrheal_diseases.incidence_rate\n",
      "2020-10-07 20:09:28.324 | DEBUG    | vivarium.framework.values:_register_value_producer:323 - Registering value pipeline diarrheal_diseases.incidence_rate.paf\n",
      "2020-10-07 20:09:28.325 | DEBUG    | vivarium.framework.values:register_value_modifier:373 - Registering metrics.4.state.diarrheal_diseases.metrics as modifier to metrics\n",
      "2020-10-07 20:09:29.111 | DEBUG    | vivarium.framework.values:_register_value_producer:323 - Registering value pipeline diarrheal_diseases.dwell_time\n",
      "2020-10-07 20:09:29.924 | DEBUG    | vivarium.framework.values:_register_value_producer:323 - Registering value pipeline diarrheal_diseases.disability_weight\n",
      "2020-10-07 20:09:29.925 | DEBUG    | vivarium.framework.values:register_value_modifier:373 - Registering disability_weight.2.diarrheal_diseases.disability_weight as modifier to disability_weight\n",
      "2020-10-07 20:09:30.730 | DEBUG    | vivarium.framework.values:_register_value_producer:323 - Registering value pipeline diarrheal_diseases.excess_mortality_rate\n"
     ]
    },
    {
     "name": "stderr",
     "output_type": "stream",
     "text": [
      "2020-10-07 20:09:30.731 | DEBUG    | vivarium.framework.values:_register_value_producer:323 - Registering value pipeline diarrheal_diseases.excess_mortality_rate.population_attributable_fraction\n",
      "2020-10-07 20:09:30.732 | DEBUG    | vivarium.framework.values:register_value_modifier:373 - Registering mortality_rate.2.state.diarrheal_diseases.adjust_mortality_rate as modifier to mortality_rate\n",
      "2020-10-07 20:09:31.420 | DEBUG    | vivarium.framework.values:_register_value_producer:323 - Registering value pipeline diarrheal_diseases.remission_rate\n",
      "2020-10-07 20:09:31.421 | DEBUG    | vivarium.framework.values:_register_value_producer:323 - Registering value pipeline diarrheal_diseases.remission_rate.paf\n",
      "2020-10-07 20:09:32.245 | DEBUG    | vivarium.framework.values:register_value_modifier:373 - Registering cause_specific_mortality_rate.3.disease_model.measles.adjust_cause_specific_mortality_rate as modifier to cause_specific_mortality_rate\n",
      "2020-10-07 20:09:32.247 | DEBUG    | vivarium.framework.values:register_value_modifier:373 - Registering metrics.5.disease_model.measles.metrics as modifier to metrics\n",
      "2020-10-07 20:09:32.249 | DEBUG    | vivarium.framework.values:register_value_modifier:373 - Registering metrics.6.state.susceptible_to_measles.metrics as modifier to metrics\n",
      "2020-10-07 20:09:33.047 | DEBUG    | vivarium.framework.values:_register_value_producer:323 - Registering value pipeline measles.incidence_rate\n",
      "2020-10-07 20:09:33.048 | DEBUG    | vivarium.framework.values:_register_value_producer:323 - Registering value pipeline measles.incidence_rate.paf\n",
      "2020-10-07 20:09:33.049 | DEBUG    | vivarium.framework.values:register_value_modifier:373 - Registering metrics.7.state.measles.metrics as modifier to metrics\n",
      "2020-10-07 20:09:33.799 | DEBUG    | vivarium.framework.values:_register_value_producer:323 - Registering value pipeline measles.dwell_time\n",
      "2020-10-07 20:09:34.702 | DEBUG    | vivarium.framework.values:_register_value_producer:323 - Registering value pipeline measles.disability_weight\n",
      "2020-10-07 20:09:34.703 | DEBUG    | vivarium.framework.values:register_value_modifier:373 - Registering disability_weight.3.measles.disability_weight as modifier to disability_weight\n",
      "2020-10-07 20:09:35.489 | DEBUG    | vivarium.framework.values:_register_value_producer:323 - Registering value pipeline measles.excess_mortality_rate\n",
      "2020-10-07 20:09:35.490 | DEBUG    | vivarium.framework.values:_register_value_producer:323 - Registering value pipeline measles.excess_mortality_rate.population_attributable_fraction\n",
      "2020-10-07 20:09:35.491 | DEBUG    | vivarium.framework.values:register_value_modifier:373 - Registering mortality_rate.3.state.measles.adjust_mortality_rate as modifier to mortality_rate\n",
      "2020-10-07 20:09:35.492 | DEBUG    | vivarium.framework.values:register_value_modifier:373 - Registering metrics.8.state.recovered_from_measles.metrics as modifier to metrics\n",
      "2020-10-07 20:09:36.506 | DEBUG    | vivarium.framework.values:register_value_modifier:373 - Registering cause_specific_mortality_rate.4.disease_model.lower_respiratory_infections.adjust_cause_specific_mortality_rate as modifier to cause_specific_mortality_rate\n",
      "2020-10-07 20:09:36.507 | DEBUG    | vivarium.framework.values:register_value_modifier:373 - Registering metrics.9.disease_model.lower_respiratory_infections.metrics as modifier to metrics\n",
      "2020-10-07 20:09:36.508 | DEBUG    | vivarium.framework.values:register_value_modifier:373 - Registering metrics.10.state.susceptible_to_lower_respiratory_infections.metrics as modifier to metrics\n",
      "2020-10-07 20:09:37.377 | DEBUG    | vivarium.framework.values:_register_value_producer:323 - Registering value pipeline lower_respiratory_infections.incidence_rate\n",
      "2020-10-07 20:09:37.378 | DEBUG    | vivarium.framework.values:_register_value_producer:323 - Registering value pipeline lower_respiratory_infections.incidence_rate.paf\n",
      "2020-10-07 20:09:37.379 | DEBUG    | vivarium.framework.values:register_value_modifier:373 - Registering metrics.11.state.lower_respiratory_infections.metrics as modifier to metrics\n",
      "2020-10-07 20:09:38.545 | DEBUG    | vivarium.framework.values:_register_value_producer:323 - Registering value pipeline lower_respiratory_infections.dwell_time\n",
      "2020-10-07 20:09:39.307 | DEBUG    | vivarium.framework.values:_register_value_producer:323 - Registering value pipeline lower_respiratory_infections.disability_weight\n",
      "2020-10-07 20:09:39.309 | DEBUG    | vivarium.framework.values:register_value_modifier:373 - Registering disability_weight.4.lower_respiratory_infections.disability_weight as modifier to disability_weight\n",
      "2020-10-07 20:09:40.329 | DEBUG    | vivarium.framework.values:_register_value_producer:323 - Registering value pipeline lower_respiratory_infections.excess_mortality_rate\n",
      "2020-10-07 20:09:40.330 | DEBUG    | vivarium.framework.values:_register_value_producer:323 - Registering value pipeline lower_respiratory_infections.excess_mortality_rate.population_attributable_fraction\n",
      "2020-10-07 20:09:40.331 | DEBUG    | vivarium.framework.values:register_value_modifier:373 - Registering mortality_rate.4.state.lower_respiratory_infections.adjust_mortality_rate as modifier to mortality_rate\n",
      "2020-10-07 20:09:40.936 | DEBUG    | vivarium.framework.values:_register_value_producer:323 - Registering value pipeline lower_respiratory_infections.remission_rate\n",
      "2020-10-07 20:09:40.938 | DEBUG    | vivarium.framework.values:_register_value_producer:323 - Registering value pipeline lower_respiratory_infections.remission_rate.paf\n",
      "2020-10-07 20:09:45.798 | DEBUG    | vivarium.framework.values:_register_value_producer:323 - Registering value pipeline low_birth_weight_and_short_gestation.raw_exposure\n",
      "2020-10-07 20:09:45.800 | DEBUG    | vivarium.framework.values:_register_value_producer:323 - Registering value pipeline low_birth_weight_and_short_gestation.exposure\n",
      "2020-10-07 20:09:47.146 | DEBUG    | vivarium.framework.values:register_value_modifier:373 - Registering affected_unmodeled.csmr.1.risk_effect.risk_factor.low_birth_weight_and_short_gestation.cause.affected_unmodeled.csmr.adjust_target as modifier to affected_unmodeled.csmr\n",
      "2020-10-07 20:09:47.147 | DEBUG    | vivarium.framework.values:register_value_modifier:373 - Registering affected_unmodeled.csmr.population_attributable_fraction.1.lookup_table_81 as modifier to affected_unmodeled.csmr.population_attributable_fraction\n",
      "2020-10-07 20:09:48.359 | DEBUG    | vivarium.framework.values:register_value_modifier:373 - Registering lower_respiratory_infections.excess_mortality_rate.1.risk_effect.risk_factor.low_birth_weight_and_short_gestation.cause.lower_respiratory_infections.excess_mortality_rate.adjust_target as modifier to lower_respiratory_infections.excess_mortality_rate\n",
      "2020-10-07 20:09:48.360 | DEBUG    | vivarium.framework.values:register_value_modifier:373 - Registering lower_respiratory_infections.excess_mortality_rate.population_attributable_fraction.1.lookup_table_83 as modifier to lower_respiratory_infections.excess_mortality_rate.population_attributable_fraction\n",
      "2020-10-07 20:09:49.570 | DEBUG    | vivarium.framework.values:register_value_modifier:373 - Registering diarrheal_diseases.excess_mortality_rate.1.risk_effect.risk_factor.low_birth_weight_and_short_gestation.cause.diarrheal_diseases.excess_mortality_rate.adjust_target as modifier to diarrheal_diseases.excess_mortality_rate\n",
      "2020-10-07 20:09:49.571 | DEBUG    | vivarium.framework.values:register_value_modifier:373 - Registering diarrheal_diseases.excess_mortality_rate.population_attributable_fraction.1.lookup_table_85 as modifier to diarrheal_diseases.excess_mortality_rate.population_attributable_fraction\n",
      "2020-10-07 20:09:50.251 | DEBUG    | vivarium.framework.values:register_value_modifier:373 - Registering metrics.12.mortality_observer.metrics as modifier to metrics\n",
      "2020-10-07 20:09:50.334 | DEBUG    | vivarium.framework.values:_register_value_producer:323 - Registering value pipeline disability_weight\n",
      "2020-10-07 20:09:50.336 | DEBUG    | vivarium.framework.values:register_value_modifier:373 - Registering metrics.13.disability_observer.metrics as modifier to metrics\n",
      "2020-10-07 20:09:50.340 | DEBUG    | vivarium.framework.values:register_value_modifier:373 - Registering metrics.14.disease_observer.diarrheal_diseases.metrics as modifier to metrics\n"
     ]
    },
    {
     "name": "stderr",
     "output_type": "stream",
     "text": [
      "2020-10-07 20:09:50.341 | DEBUG    | vivarium.framework.values:register_value_modifier:373 - Registering metrics.15.disease_observer.measles.metrics as modifier to metrics\n",
      "2020-10-07 20:09:50.343 | DEBUG    | vivarium.framework.values:register_value_modifier:373 - Registering metrics.16.disease_observer.lower_respiratory_infections.metrics as modifier to metrics\n",
      "2020-10-07 20:09:50.345 | DEBUG    | vivarium.framework.values:register_value_modifier:373 - Registering metrics.17.disease_observer.protein_energy_malnutrition.metrics as modifier to metrics\n",
      "2020-10-07 20:09:50.346 | DEBUG    | vivarium.framework.values:register_value_modifier:373 - Registering metrics.18.risk_observer.child_growth_failure.metrics as modifier to metrics\n",
      "2020-10-07 20:09:50.347 | DEBUG    | vivarium.framework.values:register_value_modifier:373 - Registering metrics.19.risk_observer.low_birth_weight_and_short_gestation.metrics as modifier to metrics\n",
      "2020-10-07 20:09:50.348 | DEBUG    | vivarium.framework.values:register_value_modifier:373 - Registering metrics.20.risk.maternal_malnutrition.metrics as modifier to metrics\n",
      "2020-10-07 20:10:16.973 | DEBUG    | vivarium.framework.values:register_value_modifier:373 - Registering low_birth_weight_and_short_gestation.exposure.1.risk_effect.maternal_malnutrition.adjust_birth_weight as modifier to low_birth_weight_and_short_gestation.exposure\n",
      "2020-10-07 20:10:17.118 | DEBUG    | vivarium.framework.values:register_value_modifier:373 - Registering low_birth_weight_and_short_gestation.exposure.2.treatment_effect.maternal_supplementation.adjust_lbwsg as modifier to low_birth_weight_and_short_gestation.exposure\n",
      "2020-10-07 20:10:17.119 | DEBUG    | vivarium.framework.values:_register_value_producer:323 - Registering value pipeline metrics\n"
     ]
    }
   ],
   "source": [
    "#Define sim (use full filepath)\n",
    "#currently running on no correlation structures\n",
    "\n",
    "sim_india = InteractiveContext('/ihme/homes/nicoly/vivarium_gates_bep/src/vivarium_gates_bep/model_specifications/india.yaml') #gives model before time-steps"
   ]
  },
  {
   "cell_type": "code",
   "execution_count": 11,
   "metadata": {
    "scrolled": true
   },
   "outputs": [
    {
     "name": "stderr",
     "output_type": "stream",
     "text": [
      "2020-10-07 20:10:52.084 | DEBUG    | vivarium.framework.values:register_value_modifier:373 - Registering metrics.1.population_manager.metrics as modifier to metrics\n",
      "2020-10-07 20:10:52.544 | DEBUG    | vivarium.framework.artifact.manager:_load_artifact:66 - Running simulation from artifact located at /share/costeffectiveness/artifacts/vivarium_gates_bep/pakistan.hdf.\n",
      "2020-10-07 20:10:52.545 | DEBUG    | vivarium.framework.artifact.manager:_load_artifact:67 - Artifact base filter terms are ['draw == 0', \"location == 'Pakistan' | location == 'Global'\"].\n",
      "2020-10-07 20:10:52.546 | DEBUG    | vivarium.framework.artifact.manager:_load_artifact:68 - Artifact additional filter terms are None.\n",
      "2020-10-07 20:10:54.288 | DEBUG    | vivarium.framework.values:_register_value_producer:323 - Registering value pipeline protein_energy_malnutrition.disability_weight\n",
      "2020-10-07 20:10:54.289 | DEBUG    | vivarium.framework.values:register_value_modifier:373 - Registering disability_weight.1.protein_energy_malnutrition.disability_weight as modifier to disability_weight\n",
      "2020-10-07 20:10:55.361 | DEBUG    | vivarium.framework.values:register_value_modifier:373 - Registering cause_specific_mortality_rate.1.risk_attributable_disease.cause.protein_energy_malnutrition.risk_factor.child_wasting.adjust_cause_specific_mortality_rate as modifier to cause_specific_mortality_rate\n",
      "2020-10-07 20:10:56.397 | DEBUG    | vivarium.framework.values:_register_value_producer:323 - Registering value pipeline protein_energy_malnutrition.excess_mortality_rate\n",
      "2020-10-07 20:10:56.400 | DEBUG    | vivarium.framework.values:_register_value_producer:323 - Registering value pipeline protein_energy_malnutrition.excess_mortality_rate.population_attributable_fraction\n",
      "2020-10-07 20:10:56.400 | DEBUG    | vivarium.framework.values:register_value_modifier:373 - Registering mortality_rate.1.risk_attributable_disease.cause.protein_energy_malnutrition.risk_factor.child_wasting.adjust_mortality_rate as modifier to mortality_rate\n",
      "2020-10-07 20:10:56.507 | DEBUG    | vivarium.framework.values:_register_value_producer:323 - Registering value pipeline child_wasting.propensity\n",
      "2020-10-07 20:10:56.508 | DEBUG    | vivarium.framework.values:_register_value_producer:323 - Registering value pipeline child_wasting.exposure\n",
      "2020-10-07 20:11:13.398 | DEBUG    | vivarium.framework.values:register_value_modifier:373 - Registering diarrheal_diseases.incidence_rate.1.risk_effect.risk_factor.child_wasting.cause.diarrheal_diseases.incidence_rate.adjust_target as modifier to diarrheal_diseases.incidence_rate\n",
      "2020-10-07 20:11:13.400 | DEBUG    | vivarium.framework.values:register_value_modifier:373 - Registering diarrheal_diseases.incidence_rate.paf.1.lookup_table_18 as modifier to diarrheal_diseases.incidence_rate.paf\n",
      "2020-10-07 20:11:14.276 | DEBUG    | vivarium.framework.values:register_value_modifier:373 - Registering measles.incidence_rate.1.risk_effect.risk_factor.child_wasting.cause.measles.incidence_rate.adjust_target as modifier to measles.incidence_rate\n",
      "2020-10-07 20:11:14.278 | DEBUG    | vivarium.framework.values:register_value_modifier:373 - Registering measles.incidence_rate.paf.1.lookup_table_20 as modifier to measles.incidence_rate.paf\n",
      "2020-10-07 20:11:15.085 | DEBUG    | vivarium.framework.values:register_value_modifier:373 - Registering lower_respiratory_infections.incidence_rate.1.risk_effect.risk_factor.child_wasting.cause.lower_respiratory_infections.incidence_rate.adjust_target as modifier to lower_respiratory_infections.incidence_rate\n",
      "2020-10-07 20:11:15.088 | DEBUG    | vivarium.framework.values:register_value_modifier:373 - Registering lower_respiratory_infections.incidence_rate.paf.1.lookup_table_22 as modifier to lower_respiratory_infections.incidence_rate.paf\n",
      "2020-10-07 20:11:15.088 | DEBUG    | vivarium.framework.values:_register_value_producer:323 - Registering value pipeline child_stunting.propensity\n",
      "2020-10-07 20:11:15.089 | DEBUG    | vivarium.framework.values:_register_value_producer:323 - Registering value pipeline child_stunting.exposure\n",
      "/share/code/nicoly/miniconda/envs/gates_bep/lib/python3.6/site-packages/risk_distributions/risk_distributions.py:416: RuntimeWarning: overflow encountered in double_scalars\n",
      "  return (m - mean_guess) ** 2 + (s ** 2 - var_guess) ** 2\n",
      "2020-10-07 20:11:26.719 | DEBUG    | vivarium.framework.values:register_value_modifier:373 - Registering diarrheal_diseases.incidence_rate.2.risk_effect.risk_factor.child_stunting.cause.diarrheal_diseases.incidence_rate.adjust_target as modifier to diarrheal_diseases.incidence_rate\n",
      "2020-10-07 20:11:26.723 | DEBUG    | vivarium.framework.values:register_value_modifier:373 - Registering diarrheal_diseases.incidence_rate.paf.2.lookup_table_37 as modifier to diarrheal_diseases.incidence_rate.paf\n",
      "2020-10-07 20:11:27.547 | DEBUG    | vivarium.framework.values:register_value_modifier:373 - Registering measles.incidence_rate.2.risk_effect.risk_factor.child_stunting.cause.measles.incidence_rate.adjust_target as modifier to measles.incidence_rate\n",
      "2020-10-07 20:11:27.548 | DEBUG    | vivarium.framework.values:register_value_modifier:373 - Registering measles.incidence_rate.paf.2.lookup_table_39 as modifier to measles.incidence_rate.paf\n",
      "2020-10-07 20:11:28.348 | DEBUG    | vivarium.framework.values:register_value_modifier:373 - Registering lower_respiratory_infections.incidence_rate.2.risk_effect.risk_factor.child_stunting.cause.lower_respiratory_infections.incidence_rate.adjust_target as modifier to lower_respiratory_infections.incidence_rate\n",
      "2020-10-07 20:11:28.349 | DEBUG    | vivarium.framework.values:register_value_modifier:373 - Registering lower_respiratory_infections.incidence_rate.paf.2.lookup_table_41 as modifier to lower_respiratory_infections.incidence_rate.paf\n",
      "2020-10-07 20:11:29.656 | DEBUG    | vivarium.framework.values:_register_value_producer:323 - Registering value pipeline cause_specific_mortality_rate\n",
      "2020-10-07 20:11:33.641 | DEBUG    | vivarium.framework.values:_register_value_producer:323 - Registering value pipeline affected_unmodeled.csmr\n",
      "2020-10-07 20:11:33.643 | DEBUG    | vivarium.framework.values:_register_value_producer:323 - Registering value pipeline affected_unmodeled.csmr.population_attributable_fraction\n",
      "2020-10-07 20:11:33.644 | DEBUG    | vivarium.framework.values:_register_value_producer:323 - Registering value pipeline mortality_rate\n",
      "2020-10-07 20:11:33.644 | DEBUG    | vivarium.framework.values:_register_value_producer:323 - Registering value pipeline all_causes.mortality_hazard\n",
      "2020-10-07 20:11:33.645 | DEBUG    | vivarium.framework.values:_register_value_producer:323 - Registering value pipeline all_causes.mortality_hazard.population_attributable_fraction\n",
      "2020-10-07 20:11:34.814 | DEBUG    | vivarium.framework.values:register_value_modifier:373 - Registering cause_specific_mortality_rate.2.disease_model.diarrheal_diseases.adjust_cause_specific_mortality_rate as modifier to cause_specific_mortality_rate\n",
      "2020-10-07 20:11:34.817 | DEBUG    | vivarium.framework.values:register_value_modifier:373 - Registering metrics.2.disease_model.diarrheal_diseases.metrics as modifier to metrics\n",
      "2020-10-07 20:11:34.818 | DEBUG    | vivarium.framework.values:register_value_modifier:373 - Registering metrics.3.state.susceptible_to_diarrheal_diseases.metrics as modifier to metrics\n",
      "2020-10-07 20:11:35.443 | DEBUG    | vivarium.framework.values:_register_value_producer:323 - Registering value pipeline diarrheal_diseases.incidence_rate\n",
      "2020-10-07 20:11:35.444 | DEBUG    | vivarium.framework.values:_register_value_producer:323 - Registering value pipeline diarrheal_diseases.incidence_rate.paf\n",
      "2020-10-07 20:11:35.445 | DEBUG    | vivarium.framework.values:register_value_modifier:373 - Registering metrics.4.state.diarrheal_diseases.metrics as modifier to metrics\n",
      "2020-10-07 20:11:36.080 | DEBUG    | vivarium.framework.values:_register_value_producer:323 - Registering value pipeline diarrheal_diseases.dwell_time\n",
      "2020-10-07 20:11:36.742 | DEBUG    | vivarium.framework.values:_register_value_producer:323 - Registering value pipeline diarrheal_diseases.disability_weight\n",
      "2020-10-07 20:11:36.744 | DEBUG    | vivarium.framework.values:register_value_modifier:373 - Registering disability_weight.2.diarrheal_diseases.disability_weight as modifier to disability_weight\n"
     ]
    },
    {
     "name": "stderr",
     "output_type": "stream",
     "text": [
      "2020-10-07 20:11:37.372 | DEBUG    | vivarium.framework.values:_register_value_producer:323 - Registering value pipeline diarrheal_diseases.excess_mortality_rate\n",
      "2020-10-07 20:11:37.373 | DEBUG    | vivarium.framework.values:_register_value_producer:323 - Registering value pipeline diarrheal_diseases.excess_mortality_rate.population_attributable_fraction\n",
      "2020-10-07 20:11:37.374 | DEBUG    | vivarium.framework.values:register_value_modifier:373 - Registering mortality_rate.2.state.diarrheal_diseases.adjust_mortality_rate as modifier to mortality_rate\n",
      "2020-10-07 20:11:38.062 | DEBUG    | vivarium.framework.values:_register_value_producer:323 - Registering value pipeline diarrheal_diseases.remission_rate\n",
      "2020-10-07 20:11:38.064 | DEBUG    | vivarium.framework.values:_register_value_producer:323 - Registering value pipeline diarrheal_diseases.remission_rate.paf\n",
      "2020-10-07 20:11:38.684 | DEBUG    | vivarium.framework.values:register_value_modifier:373 - Registering cause_specific_mortality_rate.3.disease_model.measles.adjust_cause_specific_mortality_rate as modifier to cause_specific_mortality_rate\n",
      "2020-10-07 20:11:38.685 | DEBUG    | vivarium.framework.values:register_value_modifier:373 - Registering metrics.5.disease_model.measles.metrics as modifier to metrics\n",
      "2020-10-07 20:11:38.686 | DEBUG    | vivarium.framework.values:register_value_modifier:373 - Registering metrics.6.state.susceptible_to_measles.metrics as modifier to metrics\n",
      "2020-10-07 20:11:39.293 | DEBUG    | vivarium.framework.values:_register_value_producer:323 - Registering value pipeline measles.incidence_rate\n",
      "2020-10-07 20:11:39.294 | DEBUG    | vivarium.framework.values:_register_value_producer:323 - Registering value pipeline measles.incidence_rate.paf\n",
      "2020-10-07 20:11:39.295 | DEBUG    | vivarium.framework.values:register_value_modifier:373 - Registering metrics.7.state.measles.metrics as modifier to metrics\n",
      "2020-10-07 20:11:39.910 | DEBUG    | vivarium.framework.values:_register_value_producer:323 - Registering value pipeline measles.dwell_time\n",
      "2020-10-07 20:11:40.659 | DEBUG    | vivarium.framework.values:_register_value_producer:323 - Registering value pipeline measles.disability_weight\n",
      "2020-10-07 20:11:40.660 | DEBUG    | vivarium.framework.values:register_value_modifier:373 - Registering disability_weight.3.measles.disability_weight as modifier to disability_weight\n",
      "2020-10-07 20:11:41.359 | DEBUG    | vivarium.framework.values:_register_value_producer:323 - Registering value pipeline measles.excess_mortality_rate\n",
      "2020-10-07 20:11:41.360 | DEBUG    | vivarium.framework.values:_register_value_producer:323 - Registering value pipeline measles.excess_mortality_rate.population_attributable_fraction\n",
      "2020-10-07 20:11:41.361 | DEBUG    | vivarium.framework.values:register_value_modifier:373 - Registering mortality_rate.3.state.measles.adjust_mortality_rate as modifier to mortality_rate\n",
      "2020-10-07 20:11:41.362 | DEBUG    | vivarium.framework.values:register_value_modifier:373 - Registering metrics.8.state.recovered_from_measles.metrics as modifier to metrics\n",
      "2020-10-07 20:11:42.215 | DEBUG    | vivarium.framework.values:register_value_modifier:373 - Registering cause_specific_mortality_rate.4.disease_model.lower_respiratory_infections.adjust_cause_specific_mortality_rate as modifier to cause_specific_mortality_rate\n",
      "2020-10-07 20:11:42.216 | DEBUG    | vivarium.framework.values:register_value_modifier:373 - Registering metrics.9.disease_model.lower_respiratory_infections.metrics as modifier to metrics\n",
      "2020-10-07 20:11:42.217 | DEBUG    | vivarium.framework.values:register_value_modifier:373 - Registering metrics.10.state.susceptible_to_lower_respiratory_infections.metrics as modifier to metrics\n",
      "2020-10-07 20:11:42.842 | DEBUG    | vivarium.framework.values:_register_value_producer:323 - Registering value pipeline lower_respiratory_infections.incidence_rate\n",
      "2020-10-07 20:11:42.843 | DEBUG    | vivarium.framework.values:_register_value_producer:323 - Registering value pipeline lower_respiratory_infections.incidence_rate.paf\n",
      "2020-10-07 20:11:42.844 | DEBUG    | vivarium.framework.values:register_value_modifier:373 - Registering metrics.11.state.lower_respiratory_infections.metrics as modifier to metrics\n",
      "2020-10-07 20:11:43.768 | DEBUG    | vivarium.framework.values:_register_value_producer:323 - Registering value pipeline lower_respiratory_infections.dwell_time\n",
      "2020-10-07 20:11:44.462 | DEBUG    | vivarium.framework.values:_register_value_producer:323 - Registering value pipeline lower_respiratory_infections.disability_weight\n",
      "2020-10-07 20:11:44.463 | DEBUG    | vivarium.framework.values:register_value_modifier:373 - Registering disability_weight.4.lower_respiratory_infections.disability_weight as modifier to disability_weight\n",
      "2020-10-07 20:11:45.110 | DEBUG    | vivarium.framework.values:_register_value_producer:323 - Registering value pipeline lower_respiratory_infections.excess_mortality_rate\n",
      "2020-10-07 20:11:45.111 | DEBUG    | vivarium.framework.values:_register_value_producer:323 - Registering value pipeline lower_respiratory_infections.excess_mortality_rate.population_attributable_fraction\n",
      "2020-10-07 20:11:45.111 | DEBUG    | vivarium.framework.values:register_value_modifier:373 - Registering mortality_rate.4.state.lower_respiratory_infections.adjust_mortality_rate as modifier to mortality_rate\n",
      "2020-10-07 20:11:45.715 | DEBUG    | vivarium.framework.values:_register_value_producer:323 - Registering value pipeline lower_respiratory_infections.remission_rate\n",
      "2020-10-07 20:11:45.716 | DEBUG    | vivarium.framework.values:_register_value_producer:323 - Registering value pipeline lower_respiratory_infections.remission_rate.paf\n",
      "2020-10-07 20:11:50.731 | DEBUG    | vivarium.framework.values:_register_value_producer:323 - Registering value pipeline low_birth_weight_and_short_gestation.raw_exposure\n",
      "2020-10-07 20:11:50.734 | DEBUG    | vivarium.framework.values:_register_value_producer:323 - Registering value pipeline low_birth_weight_and_short_gestation.exposure\n",
      "2020-10-07 20:11:52.564 | DEBUG    | vivarium.framework.values:register_value_modifier:373 - Registering affected_unmodeled.csmr.1.risk_effect.risk_factor.low_birth_weight_and_short_gestation.cause.affected_unmodeled.csmr.adjust_target as modifier to affected_unmodeled.csmr\n",
      "2020-10-07 20:11:52.566 | DEBUG    | vivarium.framework.values:register_value_modifier:373 - Registering affected_unmodeled.csmr.population_attributable_fraction.1.lookup_table_81 as modifier to affected_unmodeled.csmr.population_attributable_fraction\n",
      "2020-10-07 20:11:53.922 | DEBUG    | vivarium.framework.values:register_value_modifier:373 - Registering lower_respiratory_infections.excess_mortality_rate.1.risk_effect.risk_factor.low_birth_weight_and_short_gestation.cause.lower_respiratory_infections.excess_mortality_rate.adjust_target as modifier to lower_respiratory_infections.excess_mortality_rate\n",
      "2020-10-07 20:11:53.924 | DEBUG    | vivarium.framework.values:register_value_modifier:373 - Registering lower_respiratory_infections.excess_mortality_rate.population_attributable_fraction.1.lookup_table_83 as modifier to lower_respiratory_infections.excess_mortality_rate.population_attributable_fraction\n",
      "2020-10-07 20:11:55.220 | DEBUG    | vivarium.framework.values:register_value_modifier:373 - Registering diarrheal_diseases.excess_mortality_rate.1.risk_effect.risk_factor.low_birth_weight_and_short_gestation.cause.diarrheal_diseases.excess_mortality_rate.adjust_target as modifier to diarrheal_diseases.excess_mortality_rate\n",
      "2020-10-07 20:11:55.223 | DEBUG    | vivarium.framework.values:register_value_modifier:373 - Registering diarrheal_diseases.excess_mortality_rate.population_attributable_fraction.1.lookup_table_85 as modifier to diarrheal_diseases.excess_mortality_rate.population_attributable_fraction\n",
      "2020-10-07 20:11:55.870 | DEBUG    | vivarium.framework.values:register_value_modifier:373 - Registering metrics.12.mortality_observer.metrics as modifier to metrics\n",
      "2020-10-07 20:11:55.976 | DEBUG    | vivarium.framework.values:_register_value_producer:323 - Registering value pipeline disability_weight\n",
      "2020-10-07 20:11:55.977 | DEBUG    | vivarium.framework.values:register_value_modifier:373 - Registering metrics.13.disability_observer.metrics as modifier to metrics\n"
     ]
    },
    {
     "name": "stderr",
     "output_type": "stream",
     "text": [
      "2020-10-07 20:11:55.980 | DEBUG    | vivarium.framework.values:register_value_modifier:373 - Registering metrics.14.disease_observer.diarrheal_diseases.metrics as modifier to metrics\n",
      "2020-10-07 20:11:55.982 | DEBUG    | vivarium.framework.values:register_value_modifier:373 - Registering metrics.15.disease_observer.measles.metrics as modifier to metrics\n",
      "2020-10-07 20:11:55.983 | DEBUG    | vivarium.framework.values:register_value_modifier:373 - Registering metrics.16.disease_observer.lower_respiratory_infections.metrics as modifier to metrics\n",
      "2020-10-07 20:11:55.985 | DEBUG    | vivarium.framework.values:register_value_modifier:373 - Registering metrics.17.disease_observer.protein_energy_malnutrition.metrics as modifier to metrics\n",
      "2020-10-07 20:11:55.986 | DEBUG    | vivarium.framework.values:register_value_modifier:373 - Registering metrics.18.risk_observer.child_growth_failure.metrics as modifier to metrics\n",
      "2020-10-07 20:11:55.986 | DEBUG    | vivarium.framework.values:register_value_modifier:373 - Registering metrics.19.risk_observer.low_birth_weight_and_short_gestation.metrics as modifier to metrics\n",
      "2020-10-07 20:11:55.988 | DEBUG    | vivarium.framework.values:register_value_modifier:373 - Registering metrics.20.risk.maternal_malnutrition.metrics as modifier to metrics\n",
      "2020-10-07 20:12:19.593 | DEBUG    | vivarium.framework.values:register_value_modifier:373 - Registering low_birth_weight_and_short_gestation.exposure.1.risk_effect.maternal_malnutrition.adjust_birth_weight as modifier to low_birth_weight_and_short_gestation.exposure\n",
      "2020-10-07 20:12:19.716 | DEBUG    | vivarium.framework.values:register_value_modifier:373 - Registering low_birth_weight_and_short_gestation.exposure.2.treatment_effect.maternal_supplementation.adjust_lbwsg as modifier to low_birth_weight_and_short_gestation.exposure\n",
      "2020-10-07 20:12:19.717 | DEBUG    | vivarium.framework.values:_register_value_producer:323 - Registering value pipeline metrics\n"
     ]
    }
   ],
   "source": [
    "#Define sim (use full filepath)\n",
    "\n",
    "sim_pakistan = InteractiveContext('/ihme/homes/nicoly/vivarium_gates_bep/src/vivarium_gates_bep/model_specifications/pakistan.yaml') #gives model before time-steps"
   ]
  },
  {
   "cell_type": "code",
   "execution_count": 12,
   "metadata": {
    "scrolled": true
   },
   "outputs": [
    {
     "name": "stderr",
     "output_type": "stream",
     "text": [
      "2020-10-07 20:12:41.972 | DEBUG    | vivarium.framework.values:register_value_modifier:373 - Registering metrics.1.population_manager.metrics as modifier to metrics\n",
      "2020-10-07 20:12:42.214 | DEBUG    | vivarium.framework.artifact.manager:_load_artifact:66 - Running simulation from artifact located at /share/costeffectiveness/artifacts/vivarium_gates_bep/mali.hdf.\n",
      "2020-10-07 20:12:42.214 | DEBUG    | vivarium.framework.artifact.manager:_load_artifact:67 - Artifact base filter terms are ['draw == 0', \"location == 'Mali' | location == 'Global'\"].\n",
      "2020-10-07 20:12:42.215 | DEBUG    | vivarium.framework.artifact.manager:_load_artifact:68 - Artifact additional filter terms are None.\n",
      "2020-10-07 20:12:44.165 | DEBUG    | vivarium.framework.values:_register_value_producer:323 - Registering value pipeline protein_energy_malnutrition.disability_weight\n",
      "2020-10-07 20:12:44.166 | DEBUG    | vivarium.framework.values:register_value_modifier:373 - Registering disability_weight.1.protein_energy_malnutrition.disability_weight as modifier to disability_weight\n",
      "2020-10-07 20:12:45.460 | DEBUG    | vivarium.framework.values:register_value_modifier:373 - Registering cause_specific_mortality_rate.1.risk_attributable_disease.cause.protein_energy_malnutrition.risk_factor.child_wasting.adjust_cause_specific_mortality_rate as modifier to cause_specific_mortality_rate\n",
      "2020-10-07 20:12:46.805 | DEBUG    | vivarium.framework.values:_register_value_producer:323 - Registering value pipeline protein_energy_malnutrition.excess_mortality_rate\n",
      "2020-10-07 20:12:46.807 | DEBUG    | vivarium.framework.values:_register_value_producer:323 - Registering value pipeline protein_energy_malnutrition.excess_mortality_rate.population_attributable_fraction\n",
      "2020-10-07 20:12:46.808 | DEBUG    | vivarium.framework.values:register_value_modifier:373 - Registering mortality_rate.1.risk_attributable_disease.cause.protein_energy_malnutrition.risk_factor.child_wasting.adjust_mortality_rate as modifier to mortality_rate\n",
      "2020-10-07 20:12:47.152 | DEBUG    | vivarium.framework.values:_register_value_producer:323 - Registering value pipeline child_wasting.propensity\n",
      "2020-10-07 20:12:47.153 | DEBUG    | vivarium.framework.values:_register_value_producer:323 - Registering value pipeline child_wasting.exposure\n",
      "2020-10-07 20:13:05.756 | DEBUG    | vivarium.framework.values:register_value_modifier:373 - Registering diarrheal_diseases.incidence_rate.1.risk_effect.risk_factor.child_wasting.cause.diarrheal_diseases.incidence_rate.adjust_target as modifier to diarrheal_diseases.incidence_rate\n",
      "2020-10-07 20:13:05.757 | DEBUG    | vivarium.framework.values:register_value_modifier:373 - Registering diarrheal_diseases.incidence_rate.paf.1.lookup_table_18 as modifier to diarrheal_diseases.incidence_rate.paf\n",
      "2020-10-07 20:13:06.574 | DEBUG    | vivarium.framework.values:register_value_modifier:373 - Registering measles.incidence_rate.1.risk_effect.risk_factor.child_wasting.cause.measles.incidence_rate.adjust_target as modifier to measles.incidence_rate\n",
      "2020-10-07 20:13:06.575 | DEBUG    | vivarium.framework.values:register_value_modifier:373 - Registering measles.incidence_rate.paf.1.lookup_table_20 as modifier to measles.incidence_rate.paf\n",
      "2020-10-07 20:13:07.397 | DEBUG    | vivarium.framework.values:register_value_modifier:373 - Registering lower_respiratory_infections.incidence_rate.1.risk_effect.risk_factor.child_wasting.cause.lower_respiratory_infections.incidence_rate.adjust_target as modifier to lower_respiratory_infections.incidence_rate\n",
      "2020-10-07 20:13:07.399 | DEBUG    | vivarium.framework.values:register_value_modifier:373 - Registering lower_respiratory_infections.incidence_rate.paf.1.lookup_table_22 as modifier to lower_respiratory_infections.incidence_rate.paf\n",
      "2020-10-07 20:13:07.400 | DEBUG    | vivarium.framework.values:_register_value_producer:323 - Registering value pipeline child_stunting.propensity\n",
      "2020-10-07 20:13:07.400 | DEBUG    | vivarium.framework.values:_register_value_producer:323 - Registering value pipeline child_stunting.exposure\n",
      "2020-10-07 20:13:21.392 | DEBUG    | vivarium.framework.values:register_value_modifier:373 - Registering diarrheal_diseases.incidence_rate.2.risk_effect.risk_factor.child_stunting.cause.diarrheal_diseases.incidence_rate.adjust_target as modifier to diarrheal_diseases.incidence_rate\n",
      "2020-10-07 20:13:21.394 | DEBUG    | vivarium.framework.values:register_value_modifier:373 - Registering diarrheal_diseases.incidence_rate.paf.2.lookup_table_37 as modifier to diarrheal_diseases.incidence_rate.paf\n",
      "2020-10-07 20:13:22.228 | DEBUG    | vivarium.framework.values:register_value_modifier:373 - Registering measles.incidence_rate.2.risk_effect.risk_factor.child_stunting.cause.measles.incidence_rate.adjust_target as modifier to measles.incidence_rate\n",
      "2020-10-07 20:13:22.230 | DEBUG    | vivarium.framework.values:register_value_modifier:373 - Registering measles.incidence_rate.paf.2.lookup_table_39 as modifier to measles.incidence_rate.paf\n",
      "2020-10-07 20:13:23.096 | DEBUG    | vivarium.framework.values:register_value_modifier:373 - Registering lower_respiratory_infections.incidence_rate.2.risk_effect.risk_factor.child_stunting.cause.lower_respiratory_infections.incidence_rate.adjust_target as modifier to lower_respiratory_infections.incidence_rate\n",
      "2020-10-07 20:13:23.097 | DEBUG    | vivarium.framework.values:register_value_modifier:373 - Registering lower_respiratory_infections.incidence_rate.paf.2.lookup_table_41 as modifier to lower_respiratory_infections.incidence_rate.paf\n",
      "2020-10-07 20:13:23.893 | DEBUG    | vivarium.framework.values:_register_value_producer:323 - Registering value pipeline cause_specific_mortality_rate\n",
      "2020-10-07 20:13:27.111 | DEBUG    | vivarium.framework.values:_register_value_producer:323 - Registering value pipeline affected_unmodeled.csmr\n",
      "2020-10-07 20:13:27.113 | DEBUG    | vivarium.framework.values:_register_value_producer:323 - Registering value pipeline affected_unmodeled.csmr.population_attributable_fraction\n",
      "2020-10-07 20:13:27.114 | DEBUG    | vivarium.framework.values:_register_value_producer:323 - Registering value pipeline mortality_rate\n",
      "2020-10-07 20:13:27.114 | DEBUG    | vivarium.framework.values:_register_value_producer:323 - Registering value pipeline all_causes.mortality_hazard\n",
      "2020-10-07 20:13:27.120 | DEBUG    | vivarium.framework.values:_register_value_producer:323 - Registering value pipeline all_causes.mortality_hazard.population_attributable_fraction\n",
      "2020-10-07 20:13:28.260 | DEBUG    | vivarium.framework.values:register_value_modifier:373 - Registering cause_specific_mortality_rate.2.disease_model.diarrheal_diseases.adjust_cause_specific_mortality_rate as modifier to cause_specific_mortality_rate\n",
      "2020-10-07 20:13:28.262 | DEBUG    | vivarium.framework.values:register_value_modifier:373 - Registering metrics.2.disease_model.diarrheal_diseases.metrics as modifier to metrics\n",
      "2020-10-07 20:13:28.262 | DEBUG    | vivarium.framework.values:register_value_modifier:373 - Registering metrics.3.state.susceptible_to_diarrheal_diseases.metrics as modifier to metrics\n",
      "2020-10-07 20:13:28.861 | DEBUG    | vivarium.framework.values:_register_value_producer:323 - Registering value pipeline diarrheal_diseases.incidence_rate\n",
      "2020-10-07 20:13:28.862 | DEBUG    | vivarium.framework.values:_register_value_producer:323 - Registering value pipeline diarrheal_diseases.incidence_rate.paf\n",
      "2020-10-07 20:13:28.863 | DEBUG    | vivarium.framework.values:register_value_modifier:373 - Registering metrics.4.state.diarrheal_diseases.metrics as modifier to metrics\n",
      "2020-10-07 20:13:29.546 | DEBUG    | vivarium.framework.values:_register_value_producer:323 - Registering value pipeline diarrheal_diseases.dwell_time\n",
      "2020-10-07 20:13:30.145 | DEBUG    | vivarium.framework.values:_register_value_producer:323 - Registering value pipeline diarrheal_diseases.disability_weight\n",
      "2020-10-07 20:13:30.146 | DEBUG    | vivarium.framework.values:register_value_modifier:373 - Registering disability_weight.2.diarrheal_diseases.disability_weight as modifier to disability_weight\n",
      "2020-10-07 20:13:30.774 | DEBUG    | vivarium.framework.values:_register_value_producer:323 - Registering value pipeline diarrheal_diseases.excess_mortality_rate\n"
     ]
    },
    {
     "name": "stderr",
     "output_type": "stream",
     "text": [
      "2020-10-07 20:13:30.775 | DEBUG    | vivarium.framework.values:_register_value_producer:323 - Registering value pipeline diarrheal_diseases.excess_mortality_rate.population_attributable_fraction\n",
      "2020-10-07 20:13:30.776 | DEBUG    | vivarium.framework.values:register_value_modifier:373 - Registering mortality_rate.2.state.diarrheal_diseases.adjust_mortality_rate as modifier to mortality_rate\n",
      "2020-10-07 20:13:31.395 | DEBUG    | vivarium.framework.values:_register_value_producer:323 - Registering value pipeline diarrheal_diseases.remission_rate\n",
      "2020-10-07 20:13:31.397 | DEBUG    | vivarium.framework.values:_register_value_producer:323 - Registering value pipeline diarrheal_diseases.remission_rate.paf\n",
      "2020-10-07 20:13:32.026 | DEBUG    | vivarium.framework.values:register_value_modifier:373 - Registering cause_specific_mortality_rate.3.disease_model.measles.adjust_cause_specific_mortality_rate as modifier to cause_specific_mortality_rate\n",
      "2020-10-07 20:13:32.028 | DEBUG    | vivarium.framework.values:register_value_modifier:373 - Registering metrics.5.disease_model.measles.metrics as modifier to metrics\n",
      "2020-10-07 20:13:32.029 | DEBUG    | vivarium.framework.values:register_value_modifier:373 - Registering metrics.6.state.susceptible_to_measles.metrics as modifier to metrics\n",
      "2020-10-07 20:13:32.646 | DEBUG    | vivarium.framework.values:_register_value_producer:323 - Registering value pipeline measles.incidence_rate\n",
      "2020-10-07 20:13:32.647 | DEBUG    | vivarium.framework.values:_register_value_producer:323 - Registering value pipeline measles.incidence_rate.paf\n",
      "2020-10-07 20:13:32.648 | DEBUG    | vivarium.framework.values:register_value_modifier:373 - Registering metrics.7.state.measles.metrics as modifier to metrics\n",
      "2020-10-07 20:13:33.256 | DEBUG    | vivarium.framework.values:_register_value_producer:323 - Registering value pipeline measles.dwell_time\n",
      "2020-10-07 20:13:33.872 | DEBUG    | vivarium.framework.values:_register_value_producer:323 - Registering value pipeline measles.disability_weight\n",
      "2020-10-07 20:13:33.873 | DEBUG    | vivarium.framework.values:register_value_modifier:373 - Registering disability_weight.3.measles.disability_weight as modifier to disability_weight\n",
      "2020-10-07 20:13:34.486 | DEBUG    | vivarium.framework.values:_register_value_producer:323 - Registering value pipeline measles.excess_mortality_rate\n",
      "2020-10-07 20:13:34.487 | DEBUG    | vivarium.framework.values:_register_value_producer:323 - Registering value pipeline measles.excess_mortality_rate.population_attributable_fraction\n",
      "2020-10-07 20:13:34.488 | DEBUG    | vivarium.framework.values:register_value_modifier:373 - Registering mortality_rate.3.state.measles.adjust_mortality_rate as modifier to mortality_rate\n",
      "2020-10-07 20:13:34.489 | DEBUG    | vivarium.framework.values:register_value_modifier:373 - Registering metrics.8.state.recovered_from_measles.metrics as modifier to metrics\n",
      "2020-10-07 20:13:35.135 | DEBUG    | vivarium.framework.values:register_value_modifier:373 - Registering cause_specific_mortality_rate.4.disease_model.lower_respiratory_infections.adjust_cause_specific_mortality_rate as modifier to cause_specific_mortality_rate\n",
      "2020-10-07 20:13:35.136 | DEBUG    | vivarium.framework.values:register_value_modifier:373 - Registering metrics.9.disease_model.lower_respiratory_infections.metrics as modifier to metrics\n",
      "2020-10-07 20:13:35.137 | DEBUG    | vivarium.framework.values:register_value_modifier:373 - Registering metrics.10.state.susceptible_to_lower_respiratory_infections.metrics as modifier to metrics\n",
      "2020-10-07 20:13:35.792 | DEBUG    | vivarium.framework.values:_register_value_producer:323 - Registering value pipeline lower_respiratory_infections.incidence_rate\n",
      "2020-10-07 20:13:35.793 | DEBUG    | vivarium.framework.values:_register_value_producer:323 - Registering value pipeline lower_respiratory_infections.incidence_rate.paf\n",
      "2020-10-07 20:13:35.794 | DEBUG    | vivarium.framework.values:register_value_modifier:373 - Registering metrics.11.state.lower_respiratory_infections.metrics as modifier to metrics\n",
      "2020-10-07 20:13:36.559 | DEBUG    | vivarium.framework.values:_register_value_producer:323 - Registering value pipeline lower_respiratory_infections.dwell_time\n",
      "2020-10-07 20:13:37.187 | DEBUG    | vivarium.framework.values:_register_value_producer:323 - Registering value pipeline lower_respiratory_infections.disability_weight\n",
      "2020-10-07 20:13:37.189 | DEBUG    | vivarium.framework.values:register_value_modifier:373 - Registering disability_weight.4.lower_respiratory_infections.disability_weight as modifier to disability_weight\n",
      "2020-10-07 20:13:37.807 | DEBUG    | vivarium.framework.values:_register_value_producer:323 - Registering value pipeline lower_respiratory_infections.excess_mortality_rate\n",
      "2020-10-07 20:13:37.809 | DEBUG    | vivarium.framework.values:_register_value_producer:323 - Registering value pipeline lower_respiratory_infections.excess_mortality_rate.population_attributable_fraction\n",
      "2020-10-07 20:13:37.810 | DEBUG    | vivarium.framework.values:register_value_modifier:373 - Registering mortality_rate.4.state.lower_respiratory_infections.adjust_mortality_rate as modifier to mortality_rate\n",
      "2020-10-07 20:13:38.420 | DEBUG    | vivarium.framework.values:_register_value_producer:323 - Registering value pipeline lower_respiratory_infections.remission_rate\n",
      "2020-10-07 20:13:38.421 | DEBUG    | vivarium.framework.values:_register_value_producer:323 - Registering value pipeline lower_respiratory_infections.remission_rate.paf\n",
      "2020-10-07 20:13:44.152 | DEBUG    | vivarium.framework.values:_register_value_producer:323 - Registering value pipeline low_birth_weight_and_short_gestation.raw_exposure\n",
      "2020-10-07 20:13:44.153 | DEBUG    | vivarium.framework.values:_register_value_producer:323 - Registering value pipeline low_birth_weight_and_short_gestation.exposure\n",
      "2020-10-07 20:13:45.544 | DEBUG    | vivarium.framework.values:register_value_modifier:373 - Registering affected_unmodeled.csmr.1.risk_effect.risk_factor.low_birth_weight_and_short_gestation.cause.affected_unmodeled.csmr.adjust_target as modifier to affected_unmodeled.csmr\n",
      "2020-10-07 20:13:45.545 | DEBUG    | vivarium.framework.values:register_value_modifier:373 - Registering affected_unmodeled.csmr.population_attributable_fraction.1.lookup_table_81 as modifier to affected_unmodeled.csmr.population_attributable_fraction\n",
      "2020-10-07 20:13:46.859 | DEBUG    | vivarium.framework.values:register_value_modifier:373 - Registering lower_respiratory_infections.excess_mortality_rate.1.risk_effect.risk_factor.low_birth_weight_and_short_gestation.cause.lower_respiratory_infections.excess_mortality_rate.adjust_target as modifier to lower_respiratory_infections.excess_mortality_rate\n",
      "2020-10-07 20:13:46.860 | DEBUG    | vivarium.framework.values:register_value_modifier:373 - Registering lower_respiratory_infections.excess_mortality_rate.population_attributable_fraction.1.lookup_table_83 as modifier to lower_respiratory_infections.excess_mortality_rate.population_attributable_fraction\n",
      "2020-10-07 20:13:49.546 | DEBUG    | vivarium.framework.values:register_value_modifier:373 - Registering diarrheal_diseases.excess_mortality_rate.1.risk_effect.risk_factor.low_birth_weight_and_short_gestation.cause.diarrheal_diseases.excess_mortality_rate.adjust_target as modifier to diarrheal_diseases.excess_mortality_rate\n",
      "2020-10-07 20:13:49.547 | DEBUG    | vivarium.framework.values:register_value_modifier:373 - Registering diarrheal_diseases.excess_mortality_rate.population_attributable_fraction.1.lookup_table_85 as modifier to diarrheal_diseases.excess_mortality_rate.population_attributable_fraction\n",
      "2020-10-07 20:13:50.929 | DEBUG    | vivarium.framework.values:register_value_modifier:373 - Registering metrics.12.mortality_observer.metrics as modifier to metrics\n",
      "2020-10-07 20:13:51.229 | DEBUG    | vivarium.framework.values:_register_value_producer:323 - Registering value pipeline disability_weight\n",
      "2020-10-07 20:13:51.230 | DEBUG    | vivarium.framework.values:register_value_modifier:373 - Registering metrics.13.disability_observer.metrics as modifier to metrics\n",
      "2020-10-07 20:13:51.234 | DEBUG    | vivarium.framework.values:register_value_modifier:373 - Registering metrics.14.disease_observer.diarrheal_diseases.metrics as modifier to metrics\n"
     ]
    },
    {
     "name": "stderr",
     "output_type": "stream",
     "text": [
      "2020-10-07 20:13:51.235 | DEBUG    | vivarium.framework.values:register_value_modifier:373 - Registering metrics.15.disease_observer.measles.metrics as modifier to metrics\n",
      "2020-10-07 20:13:51.237 | DEBUG    | vivarium.framework.values:register_value_modifier:373 - Registering metrics.16.disease_observer.lower_respiratory_infections.metrics as modifier to metrics\n",
      "2020-10-07 20:13:51.239 | DEBUG    | vivarium.framework.values:register_value_modifier:373 - Registering metrics.17.disease_observer.protein_energy_malnutrition.metrics as modifier to metrics\n",
      "2020-10-07 20:13:51.240 | DEBUG    | vivarium.framework.values:register_value_modifier:373 - Registering metrics.18.risk_observer.child_growth_failure.metrics as modifier to metrics\n",
      "2020-10-07 20:13:51.240 | DEBUG    | vivarium.framework.values:register_value_modifier:373 - Registering metrics.19.risk_observer.low_birth_weight_and_short_gestation.metrics as modifier to metrics\n",
      "2020-10-07 20:13:51.242 | DEBUG    | vivarium.framework.values:register_value_modifier:373 - Registering metrics.20.risk.maternal_malnutrition.metrics as modifier to metrics\n",
      "2020-10-07 20:14:19.642 | DEBUG    | vivarium.framework.values:register_value_modifier:373 - Registering low_birth_weight_and_short_gestation.exposure.1.risk_effect.maternal_malnutrition.adjust_birth_weight as modifier to low_birth_weight_and_short_gestation.exposure\n",
      "2020-10-07 20:14:19.873 | DEBUG    | vivarium.framework.values:register_value_modifier:373 - Registering low_birth_weight_and_short_gestation.exposure.2.treatment_effect.maternal_supplementation.adjust_lbwsg as modifier to low_birth_weight_and_short_gestation.exposure\n",
      "2020-10-07 20:14:19.919 | DEBUG    | vivarium.framework.values:_register_value_producer:323 - Registering value pipeline metrics\n"
     ]
    }
   ],
   "source": [
    "#Define sim (use full filepath)\n",
    "\n",
    "sim_mali = InteractiveContext('/ihme/homes/nicoly/vivarium_gates_bep/src/vivarium_gates_bep/model_specifications/mali.yaml')"
   ]
  },
  {
   "cell_type": "code",
   "execution_count": 13,
   "metadata": {},
   "outputs": [
    {
     "name": "stderr",
     "output_type": "stream",
     "text": [
      "2020-10-07 20:14:50.842 | DEBUG    | vivarium.framework.values:register_value_modifier:373 - Registering metrics.1.population_manager.metrics as modifier to metrics\n",
      "2020-10-07 20:14:50.912 | DEBUG    | vivarium.framework.artifact.manager:_load_artifact:66 - Running simulation from artifact located at /share/costeffectiveness/artifacts/vivarium_gates_bep/tanzania.hdf.\n",
      "2020-10-07 20:14:50.912 | DEBUG    | vivarium.framework.artifact.manager:_load_artifact:67 - Artifact base filter terms are ['draw == 0', \"location == 'Tanzania' | location == 'Global'\"].\n",
      "2020-10-07 20:14:50.913 | DEBUG    | vivarium.framework.artifact.manager:_load_artifact:68 - Artifact additional filter terms are None.\n",
      "2020-10-07 20:14:51.594 | DEBUG    | vivarium.framework.values:_register_value_producer:323 - Registering value pipeline protein_energy_malnutrition.disability_weight\n",
      "2020-10-07 20:14:51.596 | DEBUG    | vivarium.framework.values:register_value_modifier:373 - Registering disability_weight.1.protein_energy_malnutrition.disability_weight as modifier to disability_weight\n",
      "2020-10-07 20:14:52.288 | DEBUG    | vivarium.framework.values:register_value_modifier:373 - Registering cause_specific_mortality_rate.1.risk_attributable_disease.cause.protein_energy_malnutrition.risk_factor.child_wasting.adjust_cause_specific_mortality_rate as modifier to cause_specific_mortality_rate\n",
      "2020-10-07 20:14:52.903 | DEBUG    | vivarium.framework.values:_register_value_producer:323 - Registering value pipeline protein_energy_malnutrition.excess_mortality_rate\n",
      "2020-10-07 20:14:52.905 | DEBUG    | vivarium.framework.values:_register_value_producer:323 - Registering value pipeline protein_energy_malnutrition.excess_mortality_rate.population_attributable_fraction\n",
      "2020-10-07 20:14:52.905 | DEBUG    | vivarium.framework.values:register_value_modifier:373 - Registering mortality_rate.1.risk_attributable_disease.cause.protein_energy_malnutrition.risk_factor.child_wasting.adjust_mortality_rate as modifier to mortality_rate\n",
      "2020-10-07 20:14:52.910 | DEBUG    | vivarium.framework.values:_register_value_producer:323 - Registering value pipeline child_wasting.propensity\n",
      "2020-10-07 20:14:52.911 | DEBUG    | vivarium.framework.values:_register_value_producer:323 - Registering value pipeline child_wasting.exposure\n",
      "2020-10-07 20:15:07.243 | DEBUG    | vivarium.framework.values:register_value_modifier:373 - Registering diarrheal_diseases.incidence_rate.1.risk_effect.risk_factor.child_wasting.cause.diarrheal_diseases.incidence_rate.adjust_target as modifier to diarrheal_diseases.incidence_rate\n",
      "2020-10-07 20:15:07.245 | DEBUG    | vivarium.framework.values:register_value_modifier:373 - Registering diarrheal_diseases.incidence_rate.paf.1.lookup_table_18 as modifier to diarrheal_diseases.incidence_rate.paf\n",
      "2020-10-07 20:15:08.046 | DEBUG    | vivarium.framework.values:register_value_modifier:373 - Registering measles.incidence_rate.1.risk_effect.risk_factor.child_wasting.cause.measles.incidence_rate.adjust_target as modifier to measles.incidence_rate\n",
      "2020-10-07 20:15:08.047 | DEBUG    | vivarium.framework.values:register_value_modifier:373 - Registering measles.incidence_rate.paf.1.lookup_table_20 as modifier to measles.incidence_rate.paf\n",
      "2020-10-07 20:15:08.854 | DEBUG    | vivarium.framework.values:register_value_modifier:373 - Registering lower_respiratory_infections.incidence_rate.1.risk_effect.risk_factor.child_wasting.cause.lower_respiratory_infections.incidence_rate.adjust_target as modifier to lower_respiratory_infections.incidence_rate\n",
      "2020-10-07 20:15:08.857 | DEBUG    | vivarium.framework.values:register_value_modifier:373 - Registering lower_respiratory_infections.incidence_rate.paf.1.lookup_table_22 as modifier to lower_respiratory_infections.incidence_rate.paf\n",
      "2020-10-07 20:15:08.858 | DEBUG    | vivarium.framework.values:_register_value_producer:323 - Registering value pipeline child_stunting.propensity\n",
      "2020-10-07 20:15:08.859 | DEBUG    | vivarium.framework.values:_register_value_producer:323 - Registering value pipeline child_stunting.exposure\n",
      "2020-10-07 20:15:21.045 | DEBUG    | vivarium.framework.values:register_value_modifier:373 - Registering diarrheal_diseases.incidence_rate.2.risk_effect.risk_factor.child_stunting.cause.diarrheal_diseases.incidence_rate.adjust_target as modifier to diarrheal_diseases.incidence_rate\n",
      "2020-10-07 20:15:21.047 | DEBUG    | vivarium.framework.values:register_value_modifier:373 - Registering diarrheal_diseases.incidence_rate.paf.2.lookup_table_37 as modifier to diarrheal_diseases.incidence_rate.paf\n",
      "2020-10-07 20:15:21.873 | DEBUG    | vivarium.framework.values:register_value_modifier:373 - Registering measles.incidence_rate.2.risk_effect.risk_factor.child_stunting.cause.measles.incidence_rate.adjust_target as modifier to measles.incidence_rate\n",
      "2020-10-07 20:15:21.875 | DEBUG    | vivarium.framework.values:register_value_modifier:373 - Registering measles.incidence_rate.paf.2.lookup_table_39 as modifier to measles.incidence_rate.paf\n",
      "2020-10-07 20:15:22.694 | DEBUG    | vivarium.framework.values:register_value_modifier:373 - Registering lower_respiratory_infections.incidence_rate.2.risk_effect.risk_factor.child_stunting.cause.lower_respiratory_infections.incidence_rate.adjust_target as modifier to lower_respiratory_infections.incidence_rate\n",
      "2020-10-07 20:15:22.695 | DEBUG    | vivarium.framework.values:register_value_modifier:373 - Registering lower_respiratory_infections.incidence_rate.paf.2.lookup_table_41 as modifier to lower_respiratory_infections.incidence_rate.paf\n",
      "2020-10-07 20:15:23.539 | DEBUG    | vivarium.framework.values:_register_value_producer:323 - Registering value pipeline cause_specific_mortality_rate\n",
      "2020-10-07 20:15:26.835 | DEBUG    | vivarium.framework.values:_register_value_producer:323 - Registering value pipeline affected_unmodeled.csmr\n",
      "2020-10-07 20:15:26.837 | DEBUG    | vivarium.framework.values:_register_value_producer:323 - Registering value pipeline affected_unmodeled.csmr.population_attributable_fraction\n",
      "2020-10-07 20:15:26.837 | DEBUG    | vivarium.framework.values:_register_value_producer:323 - Registering value pipeline mortality_rate\n",
      "2020-10-07 20:15:26.838 | DEBUG    | vivarium.framework.values:_register_value_producer:323 - Registering value pipeline all_causes.mortality_hazard\n",
      "2020-10-07 20:15:26.839 | DEBUG    | vivarium.framework.values:_register_value_producer:323 - Registering value pipeline all_causes.mortality_hazard.population_attributable_fraction\n",
      "2020-10-07 20:15:28.033 | DEBUG    | vivarium.framework.values:register_value_modifier:373 - Registering cause_specific_mortality_rate.2.disease_model.diarrheal_diseases.adjust_cause_specific_mortality_rate as modifier to cause_specific_mortality_rate\n",
      "2020-10-07 20:15:28.035 | DEBUG    | vivarium.framework.values:register_value_modifier:373 - Registering metrics.2.disease_model.diarrheal_diseases.metrics as modifier to metrics\n",
      "2020-10-07 20:15:28.036 | DEBUG    | vivarium.framework.values:register_value_modifier:373 - Registering metrics.3.state.susceptible_to_diarrheal_diseases.metrics as modifier to metrics\n",
      "2020-10-07 20:15:28.702 | DEBUG    | vivarium.framework.values:_register_value_producer:323 - Registering value pipeline diarrheal_diseases.incidence_rate\n",
      "2020-10-07 20:15:28.703 | DEBUG    | vivarium.framework.values:_register_value_producer:323 - Registering value pipeline diarrheal_diseases.incidence_rate.paf\n",
      "2020-10-07 20:15:28.704 | DEBUG    | vivarium.framework.values:register_value_modifier:373 - Registering metrics.4.state.diarrheal_diseases.metrics as modifier to metrics\n",
      "2020-10-07 20:15:29.403 | DEBUG    | vivarium.framework.values:_register_value_producer:323 - Registering value pipeline diarrheal_diseases.dwell_time\n",
      "2020-10-07 20:15:30.083 | DEBUG    | vivarium.framework.values:_register_value_producer:323 - Registering value pipeline diarrheal_diseases.disability_weight\n",
      "2020-10-07 20:15:30.084 | DEBUG    | vivarium.framework.values:register_value_modifier:373 - Registering disability_weight.2.diarrheal_diseases.disability_weight as modifier to disability_weight\n",
      "2020-10-07 20:15:30.979 | DEBUG    | vivarium.framework.values:_register_value_producer:323 - Registering value pipeline diarrheal_diseases.excess_mortality_rate\n"
     ]
    },
    {
     "name": "stderr",
     "output_type": "stream",
     "text": [
      "2020-10-07 20:15:30.981 | DEBUG    | vivarium.framework.values:_register_value_producer:323 - Registering value pipeline diarrheal_diseases.excess_mortality_rate.population_attributable_fraction\n",
      "2020-10-07 20:15:30.982 | DEBUG    | vivarium.framework.values:register_value_modifier:373 - Registering mortality_rate.2.state.diarrheal_diseases.adjust_mortality_rate as modifier to mortality_rate\n",
      "2020-10-07 20:15:31.691 | DEBUG    | vivarium.framework.values:_register_value_producer:323 - Registering value pipeline diarrheal_diseases.remission_rate\n",
      "2020-10-07 20:15:31.693 | DEBUG    | vivarium.framework.values:_register_value_producer:323 - Registering value pipeline diarrheal_diseases.remission_rate.paf\n",
      "2020-10-07 20:15:32.405 | DEBUG    | vivarium.framework.values:register_value_modifier:373 - Registering cause_specific_mortality_rate.3.disease_model.measles.adjust_cause_specific_mortality_rate as modifier to cause_specific_mortality_rate\n",
      "2020-10-07 20:15:32.407 | DEBUG    | vivarium.framework.values:register_value_modifier:373 - Registering metrics.5.disease_model.measles.metrics as modifier to metrics\n",
      "2020-10-07 20:15:32.408 | DEBUG    | vivarium.framework.values:register_value_modifier:373 - Registering metrics.6.state.susceptible_to_measles.metrics as modifier to metrics\n",
      "2020-10-07 20:15:33.138 | DEBUG    | vivarium.framework.values:_register_value_producer:323 - Registering value pipeline measles.incidence_rate\n",
      "2020-10-07 20:15:33.139 | DEBUG    | vivarium.framework.values:_register_value_producer:323 - Registering value pipeline measles.incidence_rate.paf\n",
      "2020-10-07 20:15:33.140 | DEBUG    | vivarium.framework.values:register_value_modifier:373 - Registering metrics.7.state.measles.metrics as modifier to metrics\n",
      "2020-10-07 20:15:33.755 | DEBUG    | vivarium.framework.values:_register_value_producer:323 - Registering value pipeline measles.dwell_time\n",
      "2020-10-07 20:15:34.553 | DEBUG    | vivarium.framework.values:_register_value_producer:323 - Registering value pipeline measles.disability_weight\n",
      "2020-10-07 20:15:34.555 | DEBUG    | vivarium.framework.values:register_value_modifier:373 - Registering disability_weight.3.measles.disability_weight as modifier to disability_weight\n",
      "2020-10-07 20:15:35.262 | DEBUG    | vivarium.framework.values:_register_value_producer:323 - Registering value pipeline measles.excess_mortality_rate\n",
      "2020-10-07 20:15:35.263 | DEBUG    | vivarium.framework.values:_register_value_producer:323 - Registering value pipeline measles.excess_mortality_rate.population_attributable_fraction\n",
      "2020-10-07 20:15:35.264 | DEBUG    | vivarium.framework.values:register_value_modifier:373 - Registering mortality_rate.3.state.measles.adjust_mortality_rate as modifier to mortality_rate\n",
      "2020-10-07 20:15:35.265 | DEBUG    | vivarium.framework.values:register_value_modifier:373 - Registering metrics.8.state.recovered_from_measles.metrics as modifier to metrics\n",
      "2020-10-07 20:15:36.022 | DEBUG    | vivarium.framework.values:register_value_modifier:373 - Registering cause_specific_mortality_rate.4.disease_model.lower_respiratory_infections.adjust_cause_specific_mortality_rate as modifier to cause_specific_mortality_rate\n",
      "2020-10-07 20:15:36.023 | DEBUG    | vivarium.framework.values:register_value_modifier:373 - Registering metrics.9.disease_model.lower_respiratory_infections.metrics as modifier to metrics\n",
      "2020-10-07 20:15:36.024 | DEBUG    | vivarium.framework.values:register_value_modifier:373 - Registering metrics.10.state.susceptible_to_lower_respiratory_infections.metrics as modifier to metrics\n",
      "2020-10-07 20:15:36.655 | DEBUG    | vivarium.framework.values:_register_value_producer:323 - Registering value pipeline lower_respiratory_infections.incidence_rate\n",
      "2020-10-07 20:15:36.656 | DEBUG    | vivarium.framework.values:_register_value_producer:323 - Registering value pipeline lower_respiratory_infections.incidence_rate.paf\n",
      "2020-10-07 20:15:36.657 | DEBUG    | vivarium.framework.values:register_value_modifier:373 - Registering metrics.11.state.lower_respiratory_infections.metrics as modifier to metrics\n",
      "2020-10-07 20:15:37.470 | DEBUG    | vivarium.framework.values:_register_value_producer:323 - Registering value pipeline lower_respiratory_infections.dwell_time\n",
      "2020-10-07 20:15:38.118 | DEBUG    | vivarium.framework.values:_register_value_producer:323 - Registering value pipeline lower_respiratory_infections.disability_weight\n",
      "2020-10-07 20:15:38.119 | DEBUG    | vivarium.framework.values:register_value_modifier:373 - Registering disability_weight.4.lower_respiratory_infections.disability_weight as modifier to disability_weight\n",
      "2020-10-07 20:15:38.857 | DEBUG    | vivarium.framework.values:_register_value_producer:323 - Registering value pipeline lower_respiratory_infections.excess_mortality_rate\n",
      "2020-10-07 20:15:38.859 | DEBUG    | vivarium.framework.values:_register_value_producer:323 - Registering value pipeline lower_respiratory_infections.excess_mortality_rate.population_attributable_fraction\n",
      "2020-10-07 20:15:38.860 | DEBUG    | vivarium.framework.values:register_value_modifier:373 - Registering mortality_rate.4.state.lower_respiratory_infections.adjust_mortality_rate as modifier to mortality_rate\n",
      "2020-10-07 20:15:39.642 | DEBUG    | vivarium.framework.values:_register_value_producer:323 - Registering value pipeline lower_respiratory_infections.remission_rate\n",
      "2020-10-07 20:15:39.644 | DEBUG    | vivarium.framework.values:_register_value_producer:323 - Registering value pipeline lower_respiratory_infections.remission_rate.paf\n",
      "2020-10-07 20:15:44.531 | DEBUG    | vivarium.framework.values:_register_value_producer:323 - Registering value pipeline low_birth_weight_and_short_gestation.raw_exposure\n",
      "2020-10-07 20:15:44.533 | DEBUG    | vivarium.framework.values:_register_value_producer:323 - Registering value pipeline low_birth_weight_and_short_gestation.exposure\n",
      "2020-10-07 20:15:45.812 | DEBUG    | vivarium.framework.values:register_value_modifier:373 - Registering affected_unmodeled.csmr.1.risk_effect.risk_factor.low_birth_weight_and_short_gestation.cause.affected_unmodeled.csmr.adjust_target as modifier to affected_unmodeled.csmr\n",
      "2020-10-07 20:15:45.814 | DEBUG    | vivarium.framework.values:register_value_modifier:373 - Registering affected_unmodeled.csmr.population_attributable_fraction.1.lookup_table_81 as modifier to affected_unmodeled.csmr.population_attributable_fraction\n",
      "2020-10-07 20:15:47.029 | DEBUG    | vivarium.framework.values:register_value_modifier:373 - Registering lower_respiratory_infections.excess_mortality_rate.1.risk_effect.risk_factor.low_birth_weight_and_short_gestation.cause.lower_respiratory_infections.excess_mortality_rate.adjust_target as modifier to lower_respiratory_infections.excess_mortality_rate\n",
      "2020-10-07 20:15:47.032 | DEBUG    | vivarium.framework.values:register_value_modifier:373 - Registering lower_respiratory_infections.excess_mortality_rate.population_attributable_fraction.1.lookup_table_83 as modifier to lower_respiratory_infections.excess_mortality_rate.population_attributable_fraction\n",
      "2020-10-07 20:15:48.314 | DEBUG    | vivarium.framework.values:register_value_modifier:373 - Registering diarrheal_diseases.excess_mortality_rate.1.risk_effect.risk_factor.low_birth_weight_and_short_gestation.cause.diarrheal_diseases.excess_mortality_rate.adjust_target as modifier to diarrheal_diseases.excess_mortality_rate\n",
      "2020-10-07 20:15:48.316 | DEBUG    | vivarium.framework.values:register_value_modifier:373 - Registering diarrheal_diseases.excess_mortality_rate.population_attributable_fraction.1.lookup_table_85 as modifier to diarrheal_diseases.excess_mortality_rate.population_attributable_fraction\n",
      "2020-10-07 20:15:49.191 | DEBUG    | vivarium.framework.values:register_value_modifier:373 - Registering metrics.12.mortality_observer.metrics as modifier to metrics\n",
      "2020-10-07 20:15:49.299 | DEBUG    | vivarium.framework.values:_register_value_producer:323 - Registering value pipeline disability_weight\n",
      "2020-10-07 20:15:49.300 | DEBUG    | vivarium.framework.values:register_value_modifier:373 - Registering metrics.13.disability_observer.metrics as modifier to metrics\n",
      "2020-10-07 20:15:49.303 | DEBUG    | vivarium.framework.values:register_value_modifier:373 - Registering metrics.14.disease_observer.diarrheal_diseases.metrics as modifier to metrics\n"
     ]
    },
    {
     "name": "stderr",
     "output_type": "stream",
     "text": [
      "2020-10-07 20:15:49.305 | DEBUG    | vivarium.framework.values:register_value_modifier:373 - Registering metrics.15.disease_observer.measles.metrics as modifier to metrics\n",
      "2020-10-07 20:15:49.306 | DEBUG    | vivarium.framework.values:register_value_modifier:373 - Registering metrics.16.disease_observer.lower_respiratory_infections.metrics as modifier to metrics\n",
      "2020-10-07 20:15:49.308 | DEBUG    | vivarium.framework.values:register_value_modifier:373 - Registering metrics.17.disease_observer.protein_energy_malnutrition.metrics as modifier to metrics\n",
      "2020-10-07 20:15:49.309 | DEBUG    | vivarium.framework.values:register_value_modifier:373 - Registering metrics.18.risk_observer.child_growth_failure.metrics as modifier to metrics\n",
      "2020-10-07 20:15:49.310 | DEBUG    | vivarium.framework.values:register_value_modifier:373 - Registering metrics.19.risk_observer.low_birth_weight_and_short_gestation.metrics as modifier to metrics\n",
      "2020-10-07 20:15:49.319 | DEBUG    | vivarium.framework.values:register_value_modifier:373 - Registering metrics.20.risk.maternal_malnutrition.metrics as modifier to metrics\n",
      "2020-10-07 20:16:13.302 | DEBUG    | vivarium.framework.values:register_value_modifier:373 - Registering low_birth_weight_and_short_gestation.exposure.1.risk_effect.maternal_malnutrition.adjust_birth_weight as modifier to low_birth_weight_and_short_gestation.exposure\n",
      "2020-10-07 20:16:13.714 | DEBUG    | vivarium.framework.values:register_value_modifier:373 - Registering low_birth_weight_and_short_gestation.exposure.2.treatment_effect.maternal_supplementation.adjust_lbwsg as modifier to low_birth_weight_and_short_gestation.exposure\n",
      "2020-10-07 20:16:13.715 | DEBUG    | vivarium.framework.values:_register_value_producer:323 - Registering value pipeline metrics\n"
     ]
    }
   ],
   "source": [
    "#Define sim (use full filepath)\n",
    "\n",
    "sim_tanzania = InteractiveContext('/ihme/homes/nicoly/vivarium_gates_bep/src/vivarium_gates_bep/model_specifications/tanzania.yaml') #gives model before time-steps"
   ]
  },
  {
   "cell_type": "markdown",
   "metadata": {},
   "source": [
    "# 2. Now can run the sim using TIME-STEPS"
   ]
  },
  {
   "cell_type": "markdown",
   "metadata": {},
   "source": [
    "## India"
   ]
  },
  {
   "cell_type": "code",
   "execution_count": 14,
   "metadata": {
    "scrolled": true
   },
   "outputs": [
    {
     "name": "stderr",
     "output_type": "stream",
     "text": [
      "2020-10-07 20:16:35.912 | DEBUG    | vivarium.framework.engine:step:140 - 2020-07-02 00:00:00\n",
      "2020-10-07 20:16:47.967 | DEBUG    | vivarium.framework.engine:step:140 - 2020-07-03 00:00:00\n",
      "2020-10-07 20:17:01.372 | DEBUG    | vivarium.framework.engine:step:140 - 2020-07-04 00:00:00\n",
      "2020-10-07 20:17:14.701 | DEBUG    | vivarium.framework.engine:step:140 - 2020-07-05 00:00:00\n",
      "2020-10-07 20:17:28.191 | DEBUG    | vivarium.framework.engine:step:140 - 2020-07-06 00:00:00\n",
      "2020-10-07 20:17:40.771 | DEBUG    | vivarium.framework.engine:step:140 - 2020-07-07 00:00:00\n",
      "2020-10-07 20:17:53.115 | DEBUG    | vivarium.framework.engine:step:140 - 2020-07-08 00:00:00\n",
      "2020-10-07 20:18:05.402 | DEBUG    | vivarium.framework.engine:step:140 - 2020-07-09 00:00:00\n",
      "2020-10-07 20:18:18.142 | DEBUG    | vivarium.framework.engine:step:140 - 2020-07-10 00:00:00\n",
      "2020-10-07 20:18:30.466 | DEBUG    | vivarium.framework.engine:step:140 - 2020-07-11 00:00:00\n",
      "2020-10-07 20:18:42.598 | DEBUG    | vivarium.framework.engine:step:140 - 2020-07-12 00:00:00\n",
      "2020-10-07 20:18:55.617 | DEBUG    | vivarium.framework.engine:step:140 - 2020-07-13 00:00:00\n",
      "2020-10-07 20:19:07.554 | DEBUG    | vivarium.framework.engine:step:140 - 2020-07-14 00:00:00\n",
      "2020-10-07 20:19:20.006 | DEBUG    | vivarium.framework.engine:step:140 - 2020-07-15 00:00:00\n",
      "2020-10-07 20:19:32.620 | DEBUG    | vivarium.framework.engine:step:140 - 2020-07-16 00:00:00\n",
      "2020-10-07 20:19:45.272 | DEBUG    | vivarium.framework.engine:step:140 - 2020-07-17 00:00:00\n",
      "2020-10-07 20:19:58.042 | DEBUG    | vivarium.framework.engine:step:140 - 2020-07-18 00:00:00\n",
      "2020-10-07 20:20:10.926 | DEBUG    | vivarium.framework.engine:step:140 - 2020-07-19 00:00:00\n",
      "2020-10-07 20:20:23.573 | DEBUG    | vivarium.framework.engine:step:140 - 2020-07-20 00:00:00\n",
      "2020-10-07 20:20:35.733 | DEBUG    | vivarium.framework.engine:step:140 - 2020-07-21 00:00:00\n",
      "2020-10-07 20:20:48.216 | DEBUG    | vivarium.framework.engine:step:140 - 2020-07-22 00:00:00\n",
      "2020-10-07 20:21:00.704 | DEBUG    | vivarium.framework.engine:step:140 - 2020-07-23 00:00:00\n",
      "2020-10-07 20:21:13.352 | DEBUG    | vivarium.framework.engine:step:140 - 2020-07-24 00:00:00\n",
      "2020-10-07 20:21:25.706 | DEBUG    | vivarium.framework.engine:step:140 - 2020-07-25 00:00:00\n",
      "2020-10-07 20:21:38.085 | DEBUG    | vivarium.framework.engine:step:140 - 2020-07-26 00:00:00\n",
      "2020-10-07 20:21:50.421 | DEBUG    | vivarium.framework.engine:step:140 - 2020-07-27 00:00:00\n",
      "2020-10-07 20:22:03.282 | DEBUG    | vivarium.framework.engine:step:140 - 2020-07-28 00:00:00\n",
      "2020-10-07 20:22:15.425 | DEBUG    | vivarium.framework.engine:step:140 - 2020-07-29 00:00:00\n",
      "2020-10-07 20:22:27.956 | DEBUG    | vivarium.framework.engine:step:140 - 2020-07-30 00:00:00\n"
     ]
    }
   ],
   "source": [
    "#run for sim which is India\n",
    "\n",
    "NUM_STEPS = 29\n",
    "\n",
    "# run time-steps                            \n",
    "for i in range(NUM_STEPS):\n",
    "    sim_india.step()"
   ]
  },
  {
   "cell_type": "markdown",
   "metadata": {},
   "source": [
    "## Pakistan"
   ]
  },
  {
   "cell_type": "code",
   "execution_count": 15,
   "metadata": {
    "scrolled": true
   },
   "outputs": [
    {
     "name": "stderr",
     "output_type": "stream",
     "text": [
      "2020-10-07 20:22:40.554 | DEBUG    | vivarium.framework.engine:step:140 - 2020-07-02 00:00:00\n",
      "2020-10-07 20:22:52.657 | DEBUG    | vivarium.framework.engine:step:140 - 2020-07-03 00:00:00\n",
      "2020-10-07 20:23:05.345 | DEBUG    | vivarium.framework.engine:step:140 - 2020-07-04 00:00:00\n",
      "2020-10-07 20:23:17.808 | DEBUG    | vivarium.framework.engine:step:140 - 2020-07-05 00:00:00\n",
      "2020-10-07 20:23:30.353 | DEBUG    | vivarium.framework.engine:step:140 - 2020-07-06 00:00:00\n",
      "2020-10-07 20:23:44.740 | DEBUG    | vivarium.framework.engine:step:140 - 2020-07-07 00:00:00\n",
      "2020-10-07 20:23:57.579 | DEBUG    | vivarium.framework.engine:step:140 - 2020-07-08 00:00:00\n",
      "2020-10-07 20:24:10.355 | DEBUG    | vivarium.framework.engine:step:140 - 2020-07-09 00:00:00\n",
      "2020-10-07 20:24:22.994 | DEBUG    | vivarium.framework.engine:step:140 - 2020-07-10 00:00:00\n",
      "2020-10-07 20:24:34.825 | DEBUG    | vivarium.framework.engine:step:140 - 2020-07-11 00:00:00\n",
      "2020-10-07 20:24:47.521 | DEBUG    | vivarium.framework.engine:step:140 - 2020-07-12 00:00:00\n",
      "2020-10-07 20:25:00.281 | DEBUG    | vivarium.framework.engine:step:140 - 2020-07-13 00:00:00\n",
      "2020-10-07 20:25:12.860 | DEBUG    | vivarium.framework.engine:step:140 - 2020-07-14 00:00:00\n",
      "2020-10-07 20:25:26.120 | DEBUG    | vivarium.framework.engine:step:140 - 2020-07-15 00:00:00\n",
      "2020-10-07 20:25:38.528 | DEBUG    | vivarium.framework.engine:step:140 - 2020-07-16 00:00:00\n",
      "2020-10-07 20:25:50.865 | DEBUG    | vivarium.framework.engine:step:140 - 2020-07-17 00:00:00\n",
      "2020-10-07 20:26:03.698 | DEBUG    | vivarium.framework.engine:step:140 - 2020-07-18 00:00:00\n",
      "2020-10-07 20:26:16.625 | DEBUG    | vivarium.framework.engine:step:140 - 2020-07-19 00:00:00\n",
      "2020-10-07 20:26:29.421 | DEBUG    | vivarium.framework.engine:step:140 - 2020-07-20 00:00:00\n",
      "2020-10-07 20:26:41.425 | DEBUG    | vivarium.framework.engine:step:140 - 2020-07-21 00:00:00\n",
      "2020-10-07 20:26:54.299 | DEBUG    | vivarium.framework.engine:step:140 - 2020-07-22 00:00:00\n",
      "2020-10-07 20:27:06.824 | DEBUG    | vivarium.framework.engine:step:140 - 2020-07-23 00:00:00\n",
      "2020-10-07 20:27:19.180 | DEBUG    | vivarium.framework.engine:step:140 - 2020-07-24 00:00:00\n",
      "2020-10-07 20:27:31.601 | DEBUG    | vivarium.framework.engine:step:140 - 2020-07-25 00:00:00\n",
      "2020-10-07 20:27:43.881 | DEBUG    | vivarium.framework.engine:step:140 - 2020-07-26 00:00:00\n",
      "2020-10-07 20:27:56.294 | DEBUG    | vivarium.framework.engine:step:140 - 2020-07-27 00:00:00\n",
      "2020-10-07 20:28:08.375 | DEBUG    | vivarium.framework.engine:step:140 - 2020-07-28 00:00:00\n",
      "2020-10-07 20:28:20.666 | DEBUG    | vivarium.framework.engine:step:140 - 2020-07-29 00:00:00\n",
      "2020-10-07 20:28:32.929 | DEBUG    | vivarium.framework.engine:step:140 - 2020-07-30 00:00:00\n"
     ]
    }
   ],
   "source": [
    "#run for sim_pakistan\n",
    "\n",
    "NUM_STEPS = 29\n",
    "\n",
    "# run time-steps  \\  \n",
    "for i in range(NUM_STEPS):\n",
    "    sim_pakistan.step()"
   ]
  },
  {
   "cell_type": "markdown",
   "metadata": {},
   "source": [
    "## Mali"
   ]
  },
  {
   "cell_type": "code",
   "execution_count": 16,
   "metadata": {
    "scrolled": true
   },
   "outputs": [
    {
     "name": "stderr",
     "output_type": "stream",
     "text": [
      "2020-10-07 20:28:45.184 | DEBUG    | vivarium.framework.engine:step:140 - 2020-07-02 00:00:00\n",
      "2020-10-07 20:28:57.263 | DEBUG    | vivarium.framework.engine:step:140 - 2020-07-03 00:00:00\n",
      "2020-10-07 20:29:09.617 | DEBUG    | vivarium.framework.engine:step:140 - 2020-07-04 00:00:00\n",
      "2020-10-07 20:29:21.784 | DEBUG    | vivarium.framework.engine:step:140 - 2020-07-05 00:00:00\n",
      "2020-10-07 20:29:34.163 | DEBUG    | vivarium.framework.engine:step:140 - 2020-07-06 00:00:00\n",
      "2020-10-07 20:29:47.348 | DEBUG    | vivarium.framework.engine:step:140 - 2020-07-07 00:00:00\n",
      "2020-10-07 20:29:59.920 | DEBUG    | vivarium.framework.engine:step:140 - 2020-07-08 00:00:00\n",
      "2020-10-07 20:30:12.635 | DEBUG    | vivarium.framework.engine:step:140 - 2020-07-09 00:00:00\n",
      "2020-10-07 20:30:25.586 | DEBUG    | vivarium.framework.engine:step:140 - 2020-07-10 00:00:00\n",
      "2020-10-07 20:30:38.355 | DEBUG    | vivarium.framework.engine:step:140 - 2020-07-11 00:00:00\n",
      "2020-10-07 20:30:50.840 | DEBUG    | vivarium.framework.engine:step:140 - 2020-07-12 00:00:00\n",
      "2020-10-07 20:31:03.514 | DEBUG    | vivarium.framework.engine:step:140 - 2020-07-13 00:00:00\n",
      "2020-10-07 20:31:16.330 | DEBUG    | vivarium.framework.engine:step:140 - 2020-07-14 00:00:00\n",
      "2020-10-07 20:31:29.287 | DEBUG    | vivarium.framework.engine:step:140 - 2020-07-15 00:00:00\n",
      "2020-10-07 20:31:41.929 | DEBUG    | vivarium.framework.engine:step:140 - 2020-07-16 00:00:00\n",
      "2020-10-07 20:31:54.765 | DEBUG    | vivarium.framework.engine:step:140 - 2020-07-17 00:00:00\n",
      "2020-10-07 20:32:07.415 | DEBUG    | vivarium.framework.engine:step:140 - 2020-07-18 00:00:00\n",
      "2020-10-07 20:32:20.246 | DEBUG    | vivarium.framework.engine:step:140 - 2020-07-19 00:00:00\n",
      "2020-10-07 20:32:32.987 | DEBUG    | vivarium.framework.engine:step:140 - 2020-07-20 00:00:00\n",
      "2020-10-07 20:32:45.590 | DEBUG    | vivarium.framework.engine:step:140 - 2020-07-21 00:00:00\n",
      "2020-10-07 20:32:58.442 | DEBUG    | vivarium.framework.engine:step:140 - 2020-07-22 00:00:00\n",
      "2020-10-07 20:33:11.093 | DEBUG    | vivarium.framework.engine:step:140 - 2020-07-23 00:00:00\n",
      "2020-10-07 20:33:23.503 | DEBUG    | vivarium.framework.engine:step:140 - 2020-07-24 00:00:00\n",
      "2020-10-07 20:33:35.969 | DEBUG    | vivarium.framework.engine:step:140 - 2020-07-25 00:00:00\n",
      "2020-10-07 20:33:48.733 | DEBUG    | vivarium.framework.engine:step:140 - 2020-07-26 00:00:00\n",
      "2020-10-07 20:34:00.873 | DEBUG    | vivarium.framework.engine:step:140 - 2020-07-27 00:00:00\n",
      "2020-10-07 20:34:13.881 | DEBUG    | vivarium.framework.engine:step:140 - 2020-07-28 00:00:00\n",
      "2020-10-07 20:34:26.442 | DEBUG    | vivarium.framework.engine:step:140 - 2020-07-29 00:00:00\n",
      "2020-10-07 20:34:38.805 | DEBUG    | vivarium.framework.engine:step:140 - 2020-07-30 00:00:00\n"
     ]
    }
   ],
   "source": [
    "#run for sim_mali\n",
    "\n",
    "NUM_STEPS = 29\n",
    "# 400 for 1 year\n",
    "# 32 for 1 month\n",
    "\n",
    "# run time-steps  \\  \n",
    "for i in range(NUM_STEPS):\n",
    "    sim_mali.step()"
   ]
  },
  {
   "cell_type": "markdown",
   "metadata": {},
   "source": [
    "## Tanzania"
   ]
  },
  {
   "cell_type": "code",
   "execution_count": 17,
   "metadata": {
    "scrolled": true
   },
   "outputs": [
    {
     "name": "stderr",
     "output_type": "stream",
     "text": [
      "2020-10-07 20:34:51.653 | DEBUG    | vivarium.framework.engine:step:140 - 2020-07-02 00:00:00\n",
      "2020-10-07 20:35:04.220 | DEBUG    | vivarium.framework.engine:step:140 - 2020-07-03 00:00:00\n",
      "2020-10-07 20:35:17.245 | DEBUG    | vivarium.framework.engine:step:140 - 2020-07-04 00:00:00\n",
      "2020-10-07 20:35:31.079 | DEBUG    | vivarium.framework.engine:step:140 - 2020-07-05 00:00:00\n",
      "2020-10-07 20:35:43.814 | DEBUG    | vivarium.framework.engine:step:140 - 2020-07-06 00:00:00\n",
      "2020-10-07 20:35:56.533 | DEBUG    | vivarium.framework.engine:step:140 - 2020-07-07 00:00:00\n",
      "2020-10-07 20:36:09.114 | DEBUG    | vivarium.framework.engine:step:140 - 2020-07-08 00:00:00\n",
      "2020-10-07 20:36:22.226 | DEBUG    | vivarium.framework.engine:step:140 - 2020-07-09 00:00:00\n",
      "2020-10-07 20:36:34.777 | DEBUG    | vivarium.framework.engine:step:140 - 2020-07-10 00:00:00\n",
      "2020-10-07 20:36:47.549 | DEBUG    | vivarium.framework.engine:step:140 - 2020-07-11 00:00:00\n",
      "2020-10-07 20:36:59.699 | DEBUG    | vivarium.framework.engine:step:140 - 2020-07-12 00:00:00\n",
      "2020-10-07 20:37:12.967 | DEBUG    | vivarium.framework.engine:step:140 - 2020-07-13 00:00:00\n",
      "2020-10-07 20:37:25.281 | DEBUG    | vivarium.framework.engine:step:140 - 2020-07-14 00:00:00\n",
      "2020-10-07 20:37:37.942 | DEBUG    | vivarium.framework.engine:step:140 - 2020-07-15 00:00:00\n",
      "2020-10-07 20:37:50.311 | DEBUG    | vivarium.framework.engine:step:140 - 2020-07-16 00:00:00\n",
      "2020-10-07 20:38:01.927 | DEBUG    | vivarium.framework.engine:step:140 - 2020-07-17 00:00:00\n",
      "2020-10-07 20:38:13.939 | DEBUG    | vivarium.framework.engine:step:140 - 2020-07-18 00:00:00\n",
      "2020-10-07 20:38:26.255 | DEBUG    | vivarium.framework.engine:step:140 - 2020-07-19 00:00:00\n",
      "2020-10-07 20:38:38.392 | DEBUG    | vivarium.framework.engine:step:140 - 2020-07-20 00:00:00\n",
      "2020-10-07 20:38:50.183 | DEBUG    | vivarium.framework.engine:step:140 - 2020-07-21 00:00:00\n",
      "2020-10-07 20:39:02.617 | DEBUG    | vivarium.framework.engine:step:140 - 2020-07-22 00:00:00\n",
      "2020-10-07 20:39:14.879 | DEBUG    | vivarium.framework.engine:step:140 - 2020-07-23 00:00:00\n",
      "2020-10-07 20:39:27.508 | DEBUG    | vivarium.framework.engine:step:140 - 2020-07-24 00:00:00\n",
      "2020-10-07 20:39:39.862 | DEBUG    | vivarium.framework.engine:step:140 - 2020-07-25 00:00:00\n",
      "2020-10-07 20:39:52.155 | DEBUG    | vivarium.framework.engine:step:140 - 2020-07-26 00:00:00\n",
      "2020-10-07 20:40:04.481 | DEBUG    | vivarium.framework.engine:step:140 - 2020-07-27 00:00:00\n",
      "2020-10-07 20:40:16.597 | DEBUG    | vivarium.framework.engine:step:140 - 2020-07-28 00:00:00\n",
      "2020-10-07 20:40:29.184 | DEBUG    | vivarium.framework.engine:step:140 - 2020-07-29 00:00:00\n",
      "2020-10-07 20:40:41.192 | DEBUG    | vivarium.framework.engine:step:140 - 2020-07-30 00:00:00\n"
     ]
    }
   ],
   "source": [
    "#run for sim_tanzania\n",
    "\n",
    "NUM_STEPS = 29\n",
    "\n",
    "# run time-steps  \\  \n",
    "for i in range(NUM_STEPS):\n",
    "    sim_tanzania.step()"
   ]
  },
  {
   "cell_type": "markdown",
   "metadata": {},
   "source": [
    "# 3. Get pop df after model has run the time-steps indicated in 2 above "
   ]
  },
  {
   "cell_type": "code",
   "execution_count": 18,
   "metadata": {},
   "outputs": [
    {
     "data": {
      "text/html": [
       "<div>\n",
       "<style scoped>\n",
       "    .dataframe tbody tr th:only-of-type {\n",
       "        vertical-align: middle;\n",
       "    }\n",
       "\n",
       "    .dataframe tbody tr th {\n",
       "        vertical-align: top;\n",
       "    }\n",
       "\n",
       "    .dataframe thead th {\n",
       "        text-align: right;\n",
       "    }\n",
       "</style>\n",
       "<table border=\"1\" class=\"dataframe\">\n",
       "  <thead>\n",
       "    <tr style=\"text-align: right;\">\n",
       "      <th></th>\n",
       "      <th>tracked</th>\n",
       "      <th>mother_malnourished</th>\n",
       "      <th>scenario_maternal_supplementation_type</th>\n",
       "      <th>baseline_maternal_supplementation_type</th>\n",
       "      <th>previous_protein_energy_malnutrition</th>\n",
       "      <th>previous_lower_respiratory_infections</th>\n",
       "      <th>previous_measles</th>\n",
       "      <th>previous_diarrheal_diseases</th>\n",
       "      <th>years_lived_with_disability</th>\n",
       "      <th>cause_of_death</th>\n",
       "      <th>...</th>\n",
       "      <th>diarrheal_diseases</th>\n",
       "      <th>diarrheal_diseases_event_count</th>\n",
       "      <th>diarrheal_diseases_event_time</th>\n",
       "      <th>susceptible_to_diarrheal_diseases_event_count</th>\n",
       "      <th>susceptible_to_diarrheal_diseases_event_time</th>\n",
       "      <th>child_stunting_propensity</th>\n",
       "      <th>child_wasting_propensity</th>\n",
       "      <th>protein_energy_malnutrition_event_time</th>\n",
       "      <th>susceptible_to_protein_energy_malnutrition_event_time</th>\n",
       "      <th>protein_energy_malnutrition</th>\n",
       "    </tr>\n",
       "  </thead>\n",
       "  <tbody>\n",
       "    <tr>\n",
       "      <th>0</th>\n",
       "      <td>True</td>\n",
       "      <td>normal</td>\n",
       "      <td>none</td>\n",
       "      <td>none</td>\n",
       "      <td>susceptible_to_protein_energy_malnutrition</td>\n",
       "      <td>susceptible_to_lower_respiratory_infections</td>\n",
       "      <td>susceptible_to_measles</td>\n",
       "      <td>susceptible_to_diarrheal_diseases</td>\n",
       "      <td>0.000000</td>\n",
       "      <td>other_causes</td>\n",
       "      <td>...</td>\n",
       "      <td>susceptible_to_diarrheal_diseases</td>\n",
       "      <td>0</td>\n",
       "      <td>NaT</td>\n",
       "      <td>0</td>\n",
       "      <td>NaT</td>\n",
       "      <td>0.332496</td>\n",
       "      <td>0.773213</td>\n",
       "      <td>NaT</td>\n",
       "      <td>NaT</td>\n",
       "      <td>susceptible_to_protein_energy_malnutrition</td>\n",
       "    </tr>\n",
       "    <tr>\n",
       "      <th>1</th>\n",
       "      <td>True</td>\n",
       "      <td>normal</td>\n",
       "      <td>none</td>\n",
       "      <td>none</td>\n",
       "      <td>susceptible_to_protein_energy_malnutrition</td>\n",
       "      <td>susceptible_to_lower_respiratory_infections</td>\n",
       "      <td>susceptible_to_measles</td>\n",
       "      <td>susceptible_to_diarrheal_diseases</td>\n",
       "      <td>0.001036</td>\n",
       "      <td>not_dead</td>\n",
       "      <td>...</td>\n",
       "      <td>susceptible_to_diarrheal_diseases</td>\n",
       "      <td>0</td>\n",
       "      <td>NaT</td>\n",
       "      <td>0</td>\n",
       "      <td>NaT</td>\n",
       "      <td>0.393300</td>\n",
       "      <td>0.123403</td>\n",
       "      <td>2020-07-01</td>\n",
       "      <td>2020-07-11</td>\n",
       "      <td>susceptible_to_protein_energy_malnutrition</td>\n",
       "    </tr>\n",
       "    <tr>\n",
       "      <th>2</th>\n",
       "      <td>True</td>\n",
       "      <td>normal</td>\n",
       "      <td>none</td>\n",
       "      <td>none</td>\n",
       "      <td>protein_energy_malnutrition</td>\n",
       "      <td>susceptible_to_lower_respiratory_infections</td>\n",
       "      <td>susceptible_to_measles</td>\n",
       "      <td>susceptible_to_diarrheal_diseases</td>\n",
       "      <td>0.002332</td>\n",
       "      <td>not_dead</td>\n",
       "      <td>...</td>\n",
       "      <td>susceptible_to_diarrheal_diseases</td>\n",
       "      <td>0</td>\n",
       "      <td>NaT</td>\n",
       "      <td>0</td>\n",
       "      <td>NaT</td>\n",
       "      <td>0.938984</td>\n",
       "      <td>0.100728</td>\n",
       "      <td>2020-07-01</td>\n",
       "      <td>NaT</td>\n",
       "      <td>protein_energy_malnutrition</td>\n",
       "    </tr>\n",
       "    <tr>\n",
       "      <th>3</th>\n",
       "      <td>True</td>\n",
       "      <td>normal</td>\n",
       "      <td>ifa</td>\n",
       "      <td>ifa</td>\n",
       "      <td>susceptible_to_protein_energy_malnutrition</td>\n",
       "      <td>susceptible_to_lower_respiratory_infections</td>\n",
       "      <td>susceptible_to_measles</td>\n",
       "      <td>susceptible_to_diarrheal_diseases</td>\n",
       "      <td>0.000000</td>\n",
       "      <td>not_dead</td>\n",
       "      <td>...</td>\n",
       "      <td>susceptible_to_diarrheal_diseases</td>\n",
       "      <td>0</td>\n",
       "      <td>NaT</td>\n",
       "      <td>0</td>\n",
       "      <td>NaT</td>\n",
       "      <td>0.609167</td>\n",
       "      <td>0.578352</td>\n",
       "      <td>NaT</td>\n",
       "      <td>NaT</td>\n",
       "      <td>susceptible_to_protein_energy_malnutrition</td>\n",
       "    </tr>\n",
       "    <tr>\n",
       "      <th>4</th>\n",
       "      <td>True</td>\n",
       "      <td>normal</td>\n",
       "      <td>none</td>\n",
       "      <td>none</td>\n",
       "      <td>susceptible_to_protein_energy_malnutrition</td>\n",
       "      <td>susceptible_to_lower_respiratory_infections</td>\n",
       "      <td>susceptible_to_measles</td>\n",
       "      <td>susceptible_to_diarrheal_diseases</td>\n",
       "      <td>0.000000</td>\n",
       "      <td>not_dead</td>\n",
       "      <td>...</td>\n",
       "      <td>susceptible_to_diarrheal_diseases</td>\n",
       "      <td>0</td>\n",
       "      <td>NaT</td>\n",
       "      <td>0</td>\n",
       "      <td>NaT</td>\n",
       "      <td>0.193016</td>\n",
       "      <td>0.973632</td>\n",
       "      <td>NaT</td>\n",
       "      <td>NaT</td>\n",
       "      <td>susceptible_to_protein_energy_malnutrition</td>\n",
       "    </tr>\n",
       "  </tbody>\n",
       "</table>\n",
       "<p>5 rows × 43 columns</p>\n",
       "</div>"
      ],
      "text/plain": [
       "   tracked mother_malnourished scenario_maternal_supplementation_type  \\\n",
       "0     True              normal                                   none   \n",
       "1     True              normal                                   none   \n",
       "2     True              normal                                   none   \n",
       "3     True              normal                                    ifa   \n",
       "4     True              normal                                   none   \n",
       "\n",
       "  baseline_maternal_supplementation_type  \\\n",
       "0                                   none   \n",
       "1                                   none   \n",
       "2                                   none   \n",
       "3                                    ifa   \n",
       "4                                   none   \n",
       "\n",
       "         previous_protein_energy_malnutrition  \\\n",
       "0  susceptible_to_protein_energy_malnutrition   \n",
       "1  susceptible_to_protein_energy_malnutrition   \n",
       "2                 protein_energy_malnutrition   \n",
       "3  susceptible_to_protein_energy_malnutrition   \n",
       "4  susceptible_to_protein_energy_malnutrition   \n",
       "\n",
       "         previous_lower_respiratory_infections        previous_measles  \\\n",
       "0  susceptible_to_lower_respiratory_infections  susceptible_to_measles   \n",
       "1  susceptible_to_lower_respiratory_infections  susceptible_to_measles   \n",
       "2  susceptible_to_lower_respiratory_infections  susceptible_to_measles   \n",
       "3  susceptible_to_lower_respiratory_infections  susceptible_to_measles   \n",
       "4  susceptible_to_lower_respiratory_infections  susceptible_to_measles   \n",
       "\n",
       "         previous_diarrheal_diseases  years_lived_with_disability  \\\n",
       "0  susceptible_to_diarrheal_diseases                     0.000000   \n",
       "1  susceptible_to_diarrheal_diseases                     0.001036   \n",
       "2  susceptible_to_diarrheal_diseases                     0.002332   \n",
       "3  susceptible_to_diarrheal_diseases                     0.000000   \n",
       "4  susceptible_to_diarrheal_diseases                     0.000000   \n",
       "\n",
       "  cause_of_death  ...                 diarrheal_diseases  \\\n",
       "0   other_causes  ...  susceptible_to_diarrheal_diseases   \n",
       "1       not_dead  ...  susceptible_to_diarrheal_diseases   \n",
       "2       not_dead  ...  susceptible_to_diarrheal_diseases   \n",
       "3       not_dead  ...  susceptible_to_diarrheal_diseases   \n",
       "4       not_dead  ...  susceptible_to_diarrheal_diseases   \n",
       "\n",
       "  diarrheal_diseases_event_count diarrheal_diseases_event_time  \\\n",
       "0                              0                           NaT   \n",
       "1                              0                           NaT   \n",
       "2                              0                           NaT   \n",
       "3                              0                           NaT   \n",
       "4                              0                           NaT   \n",
       "\n",
       "   susceptible_to_diarrheal_diseases_event_count  \\\n",
       "0                                              0   \n",
       "1                                              0   \n",
       "2                                              0   \n",
       "3                                              0   \n",
       "4                                              0   \n",
       "\n",
       "  susceptible_to_diarrheal_diseases_event_time child_stunting_propensity  \\\n",
       "0                                          NaT                  0.332496   \n",
       "1                                          NaT                  0.393300   \n",
       "2                                          NaT                  0.938984   \n",
       "3                                          NaT                  0.609167   \n",
       "4                                          NaT                  0.193016   \n",
       "\n",
       "   child_wasting_propensity protein_energy_malnutrition_event_time  \\\n",
       "0                  0.773213                                    NaT   \n",
       "1                  0.123403                             2020-07-01   \n",
       "2                  0.100728                             2020-07-01   \n",
       "3                  0.578352                                    NaT   \n",
       "4                  0.973632                                    NaT   \n",
       "\n",
       "   susceptible_to_protein_energy_malnutrition_event_time  \\\n",
       "0                                                NaT       \n",
       "1                                         2020-07-11       \n",
       "2                                                NaT       \n",
       "3                                                NaT       \n",
       "4                                                NaT       \n",
       "\n",
       "                  protein_energy_malnutrition  \n",
       "0  susceptible_to_protein_energy_malnutrition  \n",
       "1  susceptible_to_protein_energy_malnutrition  \n",
       "2                 protein_energy_malnutrition  \n",
       "3  susceptible_to_protein_energy_malnutrition  \n",
       "4  susceptible_to_protein_energy_malnutrition  \n",
       "\n",
       "[5 rows x 43 columns]"
      ]
     },
     "execution_count": 18,
     "metadata": {},
     "output_type": "execute_result"
    }
   ],
   "source": [
    "#co-variate population using get_population() method\n",
    "\n",
    "pop_india = sim_india.get_population()\n",
    "pop_pakistan = sim_pakistan.get_population()\n",
    "pop_mali = sim_mali.get_population()\n",
    "pop_tanzania = sim_tanzania.get_population()\n",
    "\n",
    "#check columns for one country\n",
    "pop_mali.head()\n",
    "\n",
    "#10,000 original simulants were specified in the yaml file, some would have died during time-steps (this is draw 0)"
   ]
  },
  {
   "cell_type": "markdown",
   "metadata": {},
   "source": [
    "# Explore pop df\n",
    "## note: explore pop columes alive (tells us whether the simulant has died or is still alive) This is an important column because we want to analyse the alive population only at 6 months\n",
    "\n",
    "pop_countryname.alive.head()"
   ]
  },
  {
   "cell_type": "code",
   "execution_count": 19,
   "metadata": {},
   "outputs": [
    {
     "data": {
      "text/plain": [
       "0    alive\n",
       "1    alive\n",
       "2    alive\n",
       "3    alive\n",
       "4    alive\n",
       "Name: alive, dtype: object"
      ]
     },
     "execution_count": 19,
     "metadata": {},
     "output_type": "execute_result"
    }
   ],
   "source": [
    "pop_india.alive.head()"
   ]
  },
  {
   "cell_type": "code",
   "execution_count": 20,
   "metadata": {},
   "outputs": [
    {
     "data": {
      "text/plain": [
       "0    3251.607412\n",
       "1    2764.606407\n",
       "2    3157.065097\n",
       "3    3306.544096\n",
       "4    4329.265723\n",
       "Name: birth_weight, dtype: float64"
      ]
     },
     "execution_count": 20,
     "metadata": {},
     "output_type": "execute_result"
    }
   ],
   "source": [
    "#explore pop columes birthweight \n",
    "\n",
    "pop_india.birth_weight.head()"
   ]
  },
  {
   "cell_type": "markdown",
   "metadata": {},
   "source": [
    "# 4. Get pipeline for interested variables (pipeline is a kind of method, so doesnt change in between sims. Only the values coming out of the pipeline changes)"
   ]
  },
  {
   "cell_type": "code",
   "execution_count": 21,
   "metadata": {
    "scrolled": false
   },
   "outputs": [
    {
     "data": {
      "text/plain": [
       "['metrics',\n",
       " 'protein_energy_malnutrition.disability_weight',\n",
       " 'disability_weight',\n",
       " 'cause_specific_mortality_rate',\n",
       " 'protein_energy_malnutrition.excess_mortality_rate',\n",
       " 'protein_energy_malnutrition.excess_mortality_rate.population_attributable_fraction',\n",
       " 'mortality_rate',\n",
       " 'child_wasting.exposure',\n",
       " 'child_wasting.propensity',\n",
       " 'diarrheal_diseases.incidence_rate',\n",
       " 'diarrheal_diseases.incidence_rate.paf',\n",
       " 'measles.incidence_rate',\n",
       " 'measles.incidence_rate.paf',\n",
       " 'lower_respiratory_infections.incidence_rate',\n",
       " 'lower_respiratory_infections.incidence_rate.paf',\n",
       " 'child_stunting.propensity',\n",
       " 'child_stunting.exposure',\n",
       " 'affected_unmodeled.csmr',\n",
       " 'affected_unmodeled.csmr.population_attributable_fraction',\n",
       " 'all_causes.mortality_hazard',\n",
       " 'all_causes.mortality_hazard.population_attributable_fraction',\n",
       " 'diarrheal_diseases.dwell_time',\n",
       " 'diarrheal_diseases.disability_weight',\n",
       " 'diarrheal_diseases.excess_mortality_rate',\n",
       " 'diarrheal_diseases.excess_mortality_rate.population_attributable_fraction',\n",
       " 'diarrheal_diseases.remission_rate',\n",
       " 'diarrheal_diseases.remission_rate.paf',\n",
       " 'measles.dwell_time',\n",
       " 'measles.disability_weight',\n",
       " 'measles.excess_mortality_rate',\n",
       " 'measles.excess_mortality_rate.population_attributable_fraction',\n",
       " 'lower_respiratory_infections.dwell_time',\n",
       " 'lower_respiratory_infections.disability_weight',\n",
       " 'lower_respiratory_infections.excess_mortality_rate',\n",
       " 'lower_respiratory_infections.excess_mortality_rate.population_attributable_fraction',\n",
       " 'lower_respiratory_infections.remission_rate',\n",
       " 'lower_respiratory_infections.remission_rate.paf',\n",
       " 'low_birth_weight_and_short_gestation.raw_exposure',\n",
       " 'low_birth_weight_and_short_gestation.exposure']"
      ]
     },
     "execution_count": 21,
     "metadata": {},
     "output_type": "execute_result"
    }
   ],
   "source": [
    "#list the key names of the pipeline\n",
    "\n",
    "sim_india.list_values()"
   ]
  },
  {
   "cell_type": "code",
   "execution_count": 22,
   "metadata": {},
   "outputs": [],
   "source": [
    "#interested pipelines : 'child_stunting.exposure', 'child_wasting.exposure'\n",
    "#this 'get_value' gets the wasting pipline values -not totall sure what this means! get some clarification\n",
    "# a pipeline is a 'python method thingie'\n",
    "\n",
    "#pipeline for india sim\n",
    "\n",
    "pipe_wasting_india = sim_india.get_value('child_wasting.exposure')\n",
    "pipe_stunting_india = sim_india.get_value('child_stunting.exposure')\n",
    "pipe_lbwsg_india = sim_india.get_value('low_birth_weight_and_short_gestation.exposure')"
   ]
  },
  {
   "cell_type": "code",
   "execution_count": 23,
   "metadata": {},
   "outputs": [],
   "source": [
    "#pipeline for pakistan sim\n",
    "\n",
    "pipe_wasting_pakistan = sim_pakistan.get_value('child_wasting.exposure')\n",
    "pipe_stunting_pakistan = sim_pakistan.get_value('child_stunting.exposure')\n",
    "pipe_lbwsg_pakistan = sim_pakistan.get_value('low_birth_weight_and_short_gestation.exposure')"
   ]
  },
  {
   "cell_type": "code",
   "execution_count": 24,
   "metadata": {},
   "outputs": [],
   "source": [
    "#pipeline for mali sim\n",
    "\n",
    "pipe_wasting_mali = sim_mali.get_value('child_wasting.exposure')\n",
    "pipe_stunting_mali = sim_mali.get_value('child_stunting.exposure')\n",
    "pipe_lbwsg_mali = sim_mali.get_value('low_birth_weight_and_short_gestation.exposure')"
   ]
  },
  {
   "cell_type": "code",
   "execution_count": 25,
   "metadata": {},
   "outputs": [],
   "source": [
    "#pipeline for tanzania sim\n",
    "\n",
    "pipe_wasting_tanzania = sim_tanzania.get_value('child_wasting.exposure')\n",
    "pipe_stunting_tanzania = sim_tanzania.get_value('child_stunting.exposure')\n",
    "pipe_lbwsg_tanzania = sim_tanzania.get_value('low_birth_weight_and_short_gestation.exposure')"
   ]
  },
  {
   "cell_type": "code",
   "execution_count": 26,
   "metadata": {
    "scrolled": true
   },
   "outputs": [
    {
     "data": {
      "text/plain": [
       "0    10.873008\n",
       "1     7.794404\n",
       "2     7.564095\n",
       "3     9.983417\n",
       "4    13.126815\n",
       "dtype: float64"
      ]
     },
     "execution_count": 26,
     "metadata": {},
     "output_type": "execute_result"
    }
   ],
   "source": [
    "#the skip_post_processor skips the conversion of the z-scores to cats 1-4 (this is a method, and shouldnt need to be re-run)\n",
    "\n",
    "#explore\n",
    "\n",
    "pipe_wasting_india(pop_india.index, skip_post_processor=True).head()"
   ]
  },
  {
   "cell_type": "code",
   "execution_count": 27,
   "metadata": {
    "scrolled": true
   },
   "outputs": [
    {
     "data": {
      "text/plain": [
       "0     8.684986\n",
       "1     9.058543\n",
       "2    12.729829\n",
       "3    10.110711\n",
       "4     7.869734\n",
       "dtype: float64"
      ]
     },
     "execution_count": 27,
     "metadata": {},
     "output_type": "execute_result"
    }
   ],
   "source": [
    "#stunting pipeline\n",
    "\n",
    "#explore\n",
    "\n",
    "pipe_stunting_india(pop_india.index, skip_post_processor=True).head()"
   ]
  },
  {
   "cell_type": "markdown",
   "metadata": {},
   "source": [
    "# 5a. Create mask to filter alive/dead population "
   ]
  },
  {
   "cell_type": "code",
   "execution_count": 28,
   "metadata": {},
   "outputs": [
    {
     "data": {
      "text/plain": [
       "0    True\n",
       "1    True\n",
       "2    True\n",
       "3    True\n",
       "4    True\n",
       "Name: alive, dtype: bool"
      ]
     },
     "execution_count": 28,
     "metadata": {},
     "output_type": "execute_result"
    }
   ],
   "source": [
    "# create mask; read more about masking here ->http://danielandreasen.github.io/:about/2015/01/19/masks-in-python/\n",
    "\n",
    "#(pop.alive == 'alive').all()\n",
    "\n",
    "mask_alive_india = pop_india.alive == 'alive'\n",
    "mask_alive_pakistan = pop_pakistan.alive == 'alive'\n",
    "mask_alive_mali = pop_mali.alive == 'alive'\n",
    "mask_alive_tanzania = pop_tanzania.alive == 'alive'\n",
    "\n",
    "#mask_alive[:5] = False\n",
    "mask_alive_india.head()"
   ]
  },
  {
   "cell_type": "code",
   "execution_count": 29,
   "metadata": {},
   "outputs": [
    {
     "data": {
      "text/html": [
       "<div>\n",
       "<style scoped>\n",
       "    .dataframe tbody tr th:only-of-type {\n",
       "        vertical-align: middle;\n",
       "    }\n",
       "\n",
       "    .dataframe tbody tr th {\n",
       "        vertical-align: top;\n",
       "    }\n",
       "\n",
       "    .dataframe thead th {\n",
       "        text-align: right;\n",
       "    }\n",
       "</style>\n",
       "<table border=\"1\" class=\"dataframe\">\n",
       "  <thead>\n",
       "    <tr style=\"text-align: right;\">\n",
       "      <th></th>\n",
       "      <th>tracked</th>\n",
       "      <th>mother_malnourished</th>\n",
       "      <th>scenario_maternal_supplementation_type</th>\n",
       "      <th>baseline_maternal_supplementation_type</th>\n",
       "      <th>previous_protein_energy_malnutrition</th>\n",
       "      <th>previous_lower_respiratory_infections</th>\n",
       "      <th>previous_measles</th>\n",
       "      <th>previous_diarrheal_diseases</th>\n",
       "      <th>years_lived_with_disability</th>\n",
       "      <th>cause_of_death</th>\n",
       "      <th>...</th>\n",
       "      <th>diarrheal_diseases</th>\n",
       "      <th>diarrheal_diseases_event_count</th>\n",
       "      <th>diarrheal_diseases_event_time</th>\n",
       "      <th>susceptible_to_diarrheal_diseases_event_count</th>\n",
       "      <th>susceptible_to_diarrheal_diseases_event_time</th>\n",
       "      <th>child_stunting_propensity</th>\n",
       "      <th>child_wasting_propensity</th>\n",
       "      <th>protein_energy_malnutrition_event_time</th>\n",
       "      <th>susceptible_to_protein_energy_malnutrition_event_time</th>\n",
       "      <th>protein_energy_malnutrition</th>\n",
       "    </tr>\n",
       "  </thead>\n",
       "  <tbody>\n",
       "    <tr>\n",
       "      <th>0</th>\n",
       "      <td>True</td>\n",
       "      <td>normal</td>\n",
       "      <td>none</td>\n",
       "      <td>none</td>\n",
       "      <td>susceptible_to_protein_energy_malnutrition</td>\n",
       "      <td>susceptible_to_lower_respiratory_infections</td>\n",
       "      <td>susceptible_to_measles</td>\n",
       "      <td>diarrheal_diseases</td>\n",
       "      <td>0.002212</td>\n",
       "      <td>not_dead</td>\n",
       "      <td>...</td>\n",
       "      <td>diarrheal_diseases</td>\n",
       "      <td>1</td>\n",
       "      <td>2020-07-26</td>\n",
       "      <td>0</td>\n",
       "      <td>NaT</td>\n",
       "      <td>0.332496</td>\n",
       "      <td>0.773213</td>\n",
       "      <td>NaT</td>\n",
       "      <td>NaT</td>\n",
       "      <td>susceptible_to_protein_energy_malnutrition</td>\n",
       "    </tr>\n",
       "    <tr>\n",
       "      <th>1</th>\n",
       "      <td>True</td>\n",
       "      <td>normal</td>\n",
       "      <td>none</td>\n",
       "      <td>none</td>\n",
       "      <td>protein_energy_malnutrition</td>\n",
       "      <td>susceptible_to_lower_respiratory_infections</td>\n",
       "      <td>susceptible_to_measles</td>\n",
       "      <td>susceptible_to_diarrheal_diseases</td>\n",
       "      <td>0.004842</td>\n",
       "      <td>not_dead</td>\n",
       "      <td>...</td>\n",
       "      <td>susceptible_to_diarrheal_diseases</td>\n",
       "      <td>0</td>\n",
       "      <td>NaT</td>\n",
       "      <td>0</td>\n",
       "      <td>NaT</td>\n",
       "      <td>0.393300</td>\n",
       "      <td>0.123403</td>\n",
       "      <td>2020-07-01</td>\n",
       "      <td>NaT</td>\n",
       "      <td>protein_energy_malnutrition</td>\n",
       "    </tr>\n",
       "    <tr>\n",
       "      <th>2</th>\n",
       "      <td>True</td>\n",
       "      <td>malnourished</td>\n",
       "      <td>none</td>\n",
       "      <td>none</td>\n",
       "      <td>protein_energy_malnutrition</td>\n",
       "      <td>susceptible_to_lower_respiratory_infections</td>\n",
       "      <td>susceptible_to_measles</td>\n",
       "      <td>susceptible_to_diarrheal_diseases</td>\n",
       "      <td>0.004916</td>\n",
       "      <td>not_dead</td>\n",
       "      <td>...</td>\n",
       "      <td>susceptible_to_diarrheal_diseases</td>\n",
       "      <td>0</td>\n",
       "      <td>NaT</td>\n",
       "      <td>0</td>\n",
       "      <td>NaT</td>\n",
       "      <td>0.938984</td>\n",
       "      <td>0.100728</td>\n",
       "      <td>2020-07-01</td>\n",
       "      <td>NaT</td>\n",
       "      <td>protein_energy_malnutrition</td>\n",
       "    </tr>\n",
       "    <tr>\n",
       "      <th>3</th>\n",
       "      <td>True</td>\n",
       "      <td>malnourished</td>\n",
       "      <td>ifa</td>\n",
       "      <td>ifa</td>\n",
       "      <td>susceptible_to_protein_energy_malnutrition</td>\n",
       "      <td>susceptible_to_lower_respiratory_infections</td>\n",
       "      <td>susceptible_to_measles</td>\n",
       "      <td>susceptible_to_diarrheal_diseases</td>\n",
       "      <td>0.000000</td>\n",
       "      <td>not_dead</td>\n",
       "      <td>...</td>\n",
       "      <td>susceptible_to_diarrheal_diseases</td>\n",
       "      <td>0</td>\n",
       "      <td>NaT</td>\n",
       "      <td>0</td>\n",
       "      <td>NaT</td>\n",
       "      <td>0.609167</td>\n",
       "      <td>0.578352</td>\n",
       "      <td>NaT</td>\n",
       "      <td>NaT</td>\n",
       "      <td>susceptible_to_protein_energy_malnutrition</td>\n",
       "    </tr>\n",
       "    <tr>\n",
       "      <th>4</th>\n",
       "      <td>True</td>\n",
       "      <td>normal</td>\n",
       "      <td>none</td>\n",
       "      <td>none</td>\n",
       "      <td>susceptible_to_protein_energy_malnutrition</td>\n",
       "      <td>susceptible_to_lower_respiratory_infections</td>\n",
       "      <td>susceptible_to_measles</td>\n",
       "      <td>susceptible_to_diarrheal_diseases</td>\n",
       "      <td>0.000000</td>\n",
       "      <td>not_dead</td>\n",
       "      <td>...</td>\n",
       "      <td>susceptible_to_diarrheal_diseases</td>\n",
       "      <td>0</td>\n",
       "      <td>NaT</td>\n",
       "      <td>0</td>\n",
       "      <td>NaT</td>\n",
       "      <td>0.193016</td>\n",
       "      <td>0.973632</td>\n",
       "      <td>NaT</td>\n",
       "      <td>NaT</td>\n",
       "      <td>susceptible_to_protein_energy_malnutrition</td>\n",
       "    </tr>\n",
       "  </tbody>\n",
       "</table>\n",
       "<p>5 rows × 43 columns</p>\n",
       "</div>"
      ],
      "text/plain": [
       "   tracked mother_malnourished scenario_maternal_supplementation_type  \\\n",
       "0     True              normal                                   none   \n",
       "1     True              normal                                   none   \n",
       "2     True        malnourished                                   none   \n",
       "3     True        malnourished                                    ifa   \n",
       "4     True              normal                                   none   \n",
       "\n",
       "  baseline_maternal_supplementation_type  \\\n",
       "0                                   none   \n",
       "1                                   none   \n",
       "2                                   none   \n",
       "3                                    ifa   \n",
       "4                                   none   \n",
       "\n",
       "         previous_protein_energy_malnutrition  \\\n",
       "0  susceptible_to_protein_energy_malnutrition   \n",
       "1                 protein_energy_malnutrition   \n",
       "2                 protein_energy_malnutrition   \n",
       "3  susceptible_to_protein_energy_malnutrition   \n",
       "4  susceptible_to_protein_energy_malnutrition   \n",
       "\n",
       "         previous_lower_respiratory_infections        previous_measles  \\\n",
       "0  susceptible_to_lower_respiratory_infections  susceptible_to_measles   \n",
       "1  susceptible_to_lower_respiratory_infections  susceptible_to_measles   \n",
       "2  susceptible_to_lower_respiratory_infections  susceptible_to_measles   \n",
       "3  susceptible_to_lower_respiratory_infections  susceptible_to_measles   \n",
       "4  susceptible_to_lower_respiratory_infections  susceptible_to_measles   \n",
       "\n",
       "         previous_diarrheal_diseases  years_lived_with_disability  \\\n",
       "0                 diarrheal_diseases                     0.002212   \n",
       "1  susceptible_to_diarrheal_diseases                     0.004842   \n",
       "2  susceptible_to_diarrheal_diseases                     0.004916   \n",
       "3  susceptible_to_diarrheal_diseases                     0.000000   \n",
       "4  susceptible_to_diarrheal_diseases                     0.000000   \n",
       "\n",
       "  cause_of_death  ...                 diarrheal_diseases  \\\n",
       "0       not_dead  ...                 diarrheal_diseases   \n",
       "1       not_dead  ...  susceptible_to_diarrheal_diseases   \n",
       "2       not_dead  ...  susceptible_to_diarrheal_diseases   \n",
       "3       not_dead  ...  susceptible_to_diarrheal_diseases   \n",
       "4       not_dead  ...  susceptible_to_diarrheal_diseases   \n",
       "\n",
       "  diarrheal_diseases_event_count diarrheal_diseases_event_time  \\\n",
       "0                              1                    2020-07-26   \n",
       "1                              0                           NaT   \n",
       "2                              0                           NaT   \n",
       "3                              0                           NaT   \n",
       "4                              0                           NaT   \n",
       "\n",
       "   susceptible_to_diarrheal_diseases_event_count  \\\n",
       "0                                              0   \n",
       "1                                              0   \n",
       "2                                              0   \n",
       "3                                              0   \n",
       "4                                              0   \n",
       "\n",
       "  susceptible_to_diarrheal_diseases_event_time child_stunting_propensity  \\\n",
       "0                                          NaT                  0.332496   \n",
       "1                                          NaT                  0.393300   \n",
       "2                                          NaT                  0.938984   \n",
       "3                                          NaT                  0.609167   \n",
       "4                                          NaT                  0.193016   \n",
       "\n",
       "   child_wasting_propensity protein_energy_malnutrition_event_time  \\\n",
       "0                  0.773213                                    NaT   \n",
       "1                  0.123403                             2020-07-01   \n",
       "2                  0.100728                             2020-07-01   \n",
       "3                  0.578352                                    NaT   \n",
       "4                  0.973632                                    NaT   \n",
       "\n",
       "   susceptible_to_protein_energy_malnutrition_event_time  \\\n",
       "0                                                NaT       \n",
       "1                                                NaT       \n",
       "2                                                NaT       \n",
       "3                                                NaT       \n",
       "4                                                NaT       \n",
       "\n",
       "                  protein_energy_malnutrition  \n",
       "0  susceptible_to_protein_energy_malnutrition  \n",
       "1                 protein_energy_malnutrition  \n",
       "2                 protein_energy_malnutrition  \n",
       "3  susceptible_to_protein_energy_malnutrition  \n",
       "4  susceptible_to_protein_energy_malnutrition  \n",
       "\n",
       "[5 rows x 43 columns]"
      ]
     },
     "execution_count": 29,
     "metadata": {},
     "output_type": "execute_result"
    }
   ],
   "source": [
    "#test mask alive\n",
    "\n",
    "pop_india[mask_alive_india].head()\n",
    "\n",
    "#pop[bolean series] --> if you pass a bolean series inside square brackets of a data frame, you get a dataframe where bolean is true\n",
    "# the boleans series is a different object, so make sure they have matching indexes"
   ]
  },
  {
   "cell_type": "markdown",
   "metadata": {},
   "source": [
    "# 5b. create index for alive population and dead population "
   ]
  },
  {
   "cell_type": "code",
   "execution_count": 30,
   "metadata": {},
   "outputs": [],
   "source": [
    "#another way to do it\n",
    "\n",
    "alive_pop_india = pop_india.loc[mask_alive_india, :]\n",
    "dead_pop_india = pop_india.loc[~mask_alive_india, :]\n",
    "\n",
    "alive_pop_pakistan = pop_pakistan.loc[mask_alive_pakistan, :]\n",
    "dead_pop_pakistan = pop_pakistan.loc[~mask_alive_pakistan, :]\n",
    "\n",
    "alive_pop_mali = pop_mali.loc[mask_alive_mali, :]\n",
    "dead_pop_mali = pop_mali.loc[~mask_alive_mali, :]\n",
    "\n",
    "alive_pop_tanzania = pop_tanzania.loc[mask_alive_tanzania, :]\n",
    "dead_pop_tanzania = pop_tanzania.loc[~mask_alive_tanzania, :]\n",
    "\n",
    "\n",
    "#----------------notes------------------------------------------------\n",
    "# pop.loc[mask_alive, ['mother_malnourished', 'tracked']].head() \n",
    "# two dimensions of dataframe where loc[row,columns]\n",
    "# here I'm saying i only want the rows defined by my ask, and the colon means all columns \n",
    "# .loc makes it more clear which filters I am using for rows and columns"
   ]
  },
  {
   "cell_type": "code",
   "execution_count": 31,
   "metadata": {
    "scrolled": false
   },
   "outputs": [
    {
     "data": {
      "text/plain": [
       "Int64Index([   0,    1,    2,    3,    4,    5,    6,    7,    8,    9,\n",
       "            ...\n",
       "            9990, 9991, 9992, 9993, 9994, 9995, 9996, 9997, 9998, 9999],\n",
       "           dtype='int64', length=9783)"
      ]
     },
     "execution_count": 31,
     "metadata": {},
     "output_type": "execute_result"
    }
   ],
   "source": [
    "alive_pop_india.index"
   ]
  },
  {
   "cell_type": "code",
   "execution_count": 32,
   "metadata": {},
   "outputs": [
    {
     "data": {
      "text/plain": [
       "Int64Index([ 167,  202,  231,  278,  421,  494,  509,  671,  702,  764,\n",
       "            ...\n",
       "            9677, 9690, 9712, 9786, 9808, 9851, 9862, 9894, 9941, 9943],\n",
       "           dtype='int64', length=217)"
      ]
     },
     "execution_count": 32,
     "metadata": {},
     "output_type": "execute_result"
    }
   ],
   "source": [
    "dead_pop_india.index"
   ]
  },
  {
   "cell_type": "code",
   "execution_count": 33,
   "metadata": {
    "scrolled": true
   },
   "outputs": [
    {
     "data": {
      "text/plain": [
       "Int64Index([   0,    1,    2,    3,    4,    5,    6,    7,    8,    9,\n",
       "            ...\n",
       "            9990, 9991, 9992, 9993, 9994, 9995, 9996, 9997, 9998, 9999],\n",
       "           dtype='int64', length=9783)"
      ]
     },
     "execution_count": 33,
     "metadata": {},
     "output_type": "execute_result"
    }
   ],
   "source": [
    "pop_india.index[mask_alive_india]\n",
    "\n",
    "#by default, this is giving us a pd index data frame with all the values where mask_alive = alive is TRUE\n",
    "#pop.index[mask_alive[~mask_alive].index] # ~ means mask_alive= False (~ this is the complement operator)"
   ]
  },
  {
   "cell_type": "markdown",
   "metadata": {},
   "source": [
    "# 5c. CREATE alive index to filter out the alive population only at time step"
   ]
  },
  {
   "cell_type": "code",
   "execution_count": 34,
   "metadata": {},
   "outputs": [],
   "source": [
    "#CREATE ALIVE INDEX\n",
    "\n",
    "alive_index_india = alive_pop_india.index\n",
    "alive_index_pakistan = alive_pop_pakistan.index\n",
    "alive_index_mali = alive_pop_mali.index\n",
    "alive_index_tanzania = alive_pop_tanzania.index"
   ]
  },
  {
   "cell_type": "markdown",
   "metadata": {},
   "source": [
    "# 6. Create dataframe with interested variables"
   ]
  },
  {
   "cell_type": "code",
   "execution_count": 35,
   "metadata": {},
   "outputs": [
    {
     "data": {
      "text/plain": [
       "9783"
      ]
     },
     "execution_count": 35,
     "metadata": {},
     "output_type": "execute_result"
    }
   ],
   "source": [
    "#get the dataframe with individual data to look at correlation between birthweight and wasting/stunting z scores\n",
    "\n",
    "india = pd.DataFrame({'stunting_india': pipe_stunting_india(alive_index_india, skip_post_processor=True),\n",
    "                    'wasting_india': pipe_wasting_india(alive_index_india, skip_post_processor=True),\n",
    "                    'lbwsg_india': pipe_lbwsg_india(alive_index_india, skip_post_processor=True).birth_weight,\n",
    "                    'birth_weight_india': pop_india.loc[alive_index_india].birth_weight,\n",
    "                    'mom_status_india': pop_india.loc[alive_index_india].mother_malnourished,\n",
    "                    'ifa_status_india': pop_india.loc[alive_index_india].baseline_maternal_supplementation_type,\n",
    "                    'alive_status_india': pop_india.loc[alive_index_india].alive })\n",
    "len(india)\n",
    "\n",
    "##note number who died is 10,000-len(df1)"
   ]
  },
  {
   "cell_type": "code",
   "execution_count": 36,
   "metadata": {},
   "outputs": [
    {
     "data": {
      "text/plain": [
       "9698"
      ]
     },
     "execution_count": 36,
     "metadata": {},
     "output_type": "execute_result"
    }
   ],
   "source": [
    "#PAKSITAN\n",
    "\n",
    "#get the dataframe with individual data to look at correlation between birthweight and wasting/stunting z scores\n",
    "\n",
    "pakistan = pd.DataFrame({'stunting_pakistan': pipe_stunting_pakistan(alive_index_pakistan, skip_post_processor=True),\n",
    "                    'wasting_pakistan': pipe_wasting_pakistan(alive_index_pakistan, skip_post_processor=True),\n",
    "                    'lbwsg_pakistan': pipe_lbwsg_pakistan(alive_index_pakistan, skip_post_processor=True).birth_weight,\n",
    "                    'birth_weight_pakistan': pop_pakistan.loc[alive_index_pakistan].birth_weight,\n",
    "                    'mom_status_pakistan': pop_pakistan.loc[alive_index_pakistan].mother_malnourished,\n",
    "                    'ifa_status_pakistan': pop_pakistan.loc[alive_index_pakistan].baseline_maternal_supplementation_type,\n",
    "                    'alive_status_pakistan': pop_pakistan.loc[alive_index_pakistan].alive })\n",
    "len(pakistan)\n",
    "\n",
    "\n",
    "##note number who died is 10,000-len(df1)"
   ]
  },
  {
   "cell_type": "code",
   "execution_count": 37,
   "metadata": {},
   "outputs": [
    {
     "data": {
      "text/plain": [
       "9516"
      ]
     },
     "execution_count": 37,
     "metadata": {},
     "output_type": "execute_result"
    }
   ],
   "source": [
    "#get the dataframe with individual data to look at correlation between birthweight and wasting/stunting z scores\n",
    "\n",
    "mali = pd.DataFrame({'stunting_mali': pipe_stunting_mali(alive_index_mali, skip_post_processor=True),\n",
    "                    'wasting_mali': pipe_wasting_mali(alive_index_mali, skip_post_processor=True),\n",
    "                    'lbwsg_mali': pipe_lbwsg_mali(alive_index_mali, skip_post_processor=True).birth_weight,\n",
    "                    'birth_weight_mali': pop_mali.loc[alive_index_mali].birth_weight,\n",
    "                    'mom_status_mali': pop_mali.loc[alive_index_mali].mother_malnourished,\n",
    "                    'ifa_status_mali': pop_mali.loc[alive_index_mali].baseline_maternal_supplementation_type,\n",
    "                    'alive_status_mali': pop_mali.loc[alive_index_mali].alive })\n",
    "len(mali)\n",
    "\n",
    "##note number who died is 10,000-len(df1)"
   ]
  },
  {
   "cell_type": "code",
   "execution_count": 38,
   "metadata": {},
   "outputs": [
    {
     "data": {
      "text/plain": [
       "9825"
      ]
     },
     "execution_count": 38,
     "metadata": {},
     "output_type": "execute_result"
    }
   ],
   "source": [
    "#TANZANIA\n",
    "\n",
    "#get the dataframe with individual data to look at correlation between birthweight and wasting/stunting z scores\n",
    "\n",
    "tanzania = pd.DataFrame({'stunting_tanzania': pipe_stunting_tanzania(alive_index_tanzania, skip_post_processor=True),\n",
    "                    'wasting_tanzania': pipe_wasting_tanzania(alive_index_tanzania, skip_post_processor=True),\n",
    "                    'lbwsg_tanzania': pipe_lbwsg_tanzania(alive_index_tanzania, skip_post_processor=True).birth_weight,\n",
    "                    'birth_weight_tanzania': pop_tanzania.loc[alive_index_tanzania].birth_weight,\n",
    "                    'mom_status_tanzania': pop_tanzania.loc[alive_index_tanzania].mother_malnourished,\n",
    "                    'ifa_status_tanzania': pop_tanzania.loc[alive_index_tanzania].baseline_maternal_supplementation_type,\n",
    "                    'alive_status_tanzania': pop_tanzania.loc[alive_index_tanzania].alive })\n",
    "len(tanzania)\n",
    "\n",
    "##note number who died is 10,000-len(df1)"
   ]
  },
  {
   "cell_type": "code",
   "execution_count": 39,
   "metadata": {
    "scrolled": true
   },
   "outputs": [
    {
     "data": {
      "text/html": [
       "<div>\n",
       "<style scoped>\n",
       "    .dataframe tbody tr th:only-of-type {\n",
       "        vertical-align: middle;\n",
       "    }\n",
       "\n",
       "    .dataframe tbody tr th {\n",
       "        vertical-align: top;\n",
       "    }\n",
       "\n",
       "    .dataframe thead th {\n",
       "        text-align: right;\n",
       "    }\n",
       "</style>\n",
       "<table border=\"1\" class=\"dataframe\">\n",
       "  <thead>\n",
       "    <tr style=\"text-align: right;\">\n",
       "      <th></th>\n",
       "      <th>stunting_india</th>\n",
       "      <th>wasting_india</th>\n",
       "      <th>lbwsg_india</th>\n",
       "      <th>birth_weight_india</th>\n",
       "      <th>mom_status_india</th>\n",
       "      <th>ifa_status_india</th>\n",
       "      <th>alive_status_india</th>\n",
       "    </tr>\n",
       "  </thead>\n",
       "  <tbody>\n",
       "    <tr>\n",
       "      <th>0</th>\n",
       "      <td>8.684986</td>\n",
       "      <td>10.873008</td>\n",
       "      <td>3248.124521</td>\n",
       "      <td>3251.607412</td>\n",
       "      <td>normal</td>\n",
       "      <td>none</td>\n",
       "      <td>alive</td>\n",
       "    </tr>\n",
       "    <tr>\n",
       "      <th>1</th>\n",
       "      <td>9.058543</td>\n",
       "      <td>7.794404</td>\n",
       "      <td>2761.123516</td>\n",
       "      <td>2764.606407</td>\n",
       "      <td>normal</td>\n",
       "      <td>none</td>\n",
       "      <td>alive</td>\n",
       "    </tr>\n",
       "    <tr>\n",
       "      <th>2</th>\n",
       "      <td>12.729829</td>\n",
       "      <td>7.564095</td>\n",
       "      <td>3037.187834</td>\n",
       "      <td>3157.065097</td>\n",
       "      <td>malnourished</td>\n",
       "      <td>none</td>\n",
       "      <td>alive</td>\n",
       "    </tr>\n",
       "    <tr>\n",
       "      <th>3</th>\n",
       "      <td>10.110711</td>\n",
       "      <td>9.983417</td>\n",
       "      <td>3262.159439</td>\n",
       "      <td>3306.544096</td>\n",
       "      <td>malnourished</td>\n",
       "      <td>ifa</td>\n",
       "      <td>alive</td>\n",
       "    </tr>\n",
       "    <tr>\n",
       "      <th>4</th>\n",
       "      <td>7.869734</td>\n",
       "      <td>13.126815</td>\n",
       "      <td>4325.782831</td>\n",
       "      <td>4329.265723</td>\n",
       "      <td>normal</td>\n",
       "      <td>none</td>\n",
       "      <td>alive</td>\n",
       "    </tr>\n",
       "  </tbody>\n",
       "</table>\n",
       "</div>"
      ],
      "text/plain": [
       "   stunting_india  wasting_india  lbwsg_india  birth_weight_india  \\\n",
       "0        8.684986      10.873008  3248.124521         3251.607412   \n",
       "1        9.058543       7.794404  2761.123516         2764.606407   \n",
       "2       12.729829       7.564095  3037.187834         3157.065097   \n",
       "3       10.110711       9.983417  3262.159439         3306.544096   \n",
       "4        7.869734      13.126815  4325.782831         4329.265723   \n",
       "\n",
       "  mom_status_india ifa_status_india alive_status_india  \n",
       "0           normal             none              alive  \n",
       "1           normal             none              alive  \n",
       "2     malnourished             none              alive  \n",
       "3     malnourished              ifa              alive  \n",
       "4           normal             none              alive  "
      ]
     },
     "execution_count": 39,
     "metadata": {},
     "output_type": "execute_result"
    }
   ],
   "source": [
    "india.head()"
   ]
  },
  {
   "cell_type": "markdown",
   "metadata": {},
   "source": [
    "# 7. Z-SCORES for stunting and wasting for each country"
   ]
  },
  {
   "cell_type": "markdown",
   "metadata": {},
   "source": [
    "# ----------------------------------------------------------\n",
    "## Individual z-score at 29 days\n",
    "\n"
   ]
  },
  {
   "cell_type": "code",
   "execution_count": 40,
   "metadata": {
    "scrolled": true
   },
   "outputs": [
    {
     "data": {
      "text/html": [
       "<div>\n",
       "<style scoped>\n",
       "    .dataframe tbody tr th:only-of-type {\n",
       "        vertical-align: middle;\n",
       "    }\n",
       "\n",
       "    .dataframe tbody tr th {\n",
       "        vertical-align: top;\n",
       "    }\n",
       "\n",
       "    .dataframe thead th {\n",
       "        text-align: right;\n",
       "    }\n",
       "</style>\n",
       "<table border=\"1\" class=\"dataframe\">\n",
       "  <thead>\n",
       "    <tr style=\"text-align: right;\">\n",
       "      <th></th>\n",
       "      <th>stunting_india</th>\n",
       "      <th>wasting_india</th>\n",
       "      <th>lbwsg_india</th>\n",
       "      <th>birth_weight_india</th>\n",
       "      <th>mom_status_india</th>\n",
       "      <th>ifa_status_india</th>\n",
       "      <th>alive_status_india</th>\n",
       "      <th>stunting_z_score_india</th>\n",
       "      <th>wasting_z_score_india</th>\n",
       "    </tr>\n",
       "  </thead>\n",
       "  <tbody>\n",
       "    <tr>\n",
       "      <th>0</th>\n",
       "      <td>8.684986</td>\n",
       "      <td>10.873008</td>\n",
       "      <td>3248.124521</td>\n",
       "      <td>3251.607412</td>\n",
       "      <td>normal</td>\n",
       "      <td>none</td>\n",
       "      <td>alive</td>\n",
       "      <td>-1.315014</td>\n",
       "      <td>0.873008</td>\n",
       "    </tr>\n",
       "    <tr>\n",
       "      <th>1</th>\n",
       "      <td>9.058543</td>\n",
       "      <td>7.794404</td>\n",
       "      <td>2761.123516</td>\n",
       "      <td>2764.606407</td>\n",
       "      <td>normal</td>\n",
       "      <td>none</td>\n",
       "      <td>alive</td>\n",
       "      <td>-0.941457</td>\n",
       "      <td>-2.205596</td>\n",
       "    </tr>\n",
       "    <tr>\n",
       "      <th>2</th>\n",
       "      <td>12.729829</td>\n",
       "      <td>7.564095</td>\n",
       "      <td>3037.187834</td>\n",
       "      <td>3157.065097</td>\n",
       "      <td>malnourished</td>\n",
       "      <td>none</td>\n",
       "      <td>alive</td>\n",
       "      <td>2.729829</td>\n",
       "      <td>-2.435905</td>\n",
       "    </tr>\n",
       "    <tr>\n",
       "      <th>3</th>\n",
       "      <td>10.110711</td>\n",
       "      <td>9.983417</td>\n",
       "      <td>3262.159439</td>\n",
       "      <td>3306.544096</td>\n",
       "      <td>malnourished</td>\n",
       "      <td>ifa</td>\n",
       "      <td>alive</td>\n",
       "      <td>0.110711</td>\n",
       "      <td>-0.016583</td>\n",
       "    </tr>\n",
       "    <tr>\n",
       "      <th>4</th>\n",
       "      <td>7.869734</td>\n",
       "      <td>13.126815</td>\n",
       "      <td>4325.782831</td>\n",
       "      <td>4329.265723</td>\n",
       "      <td>normal</td>\n",
       "      <td>none</td>\n",
       "      <td>alive</td>\n",
       "      <td>-2.130266</td>\n",
       "      <td>3.126815</td>\n",
       "    </tr>\n",
       "  </tbody>\n",
       "</table>\n",
       "</div>"
      ],
      "text/plain": [
       "   stunting_india  wasting_india  lbwsg_india  birth_weight_india  \\\n",
       "0        8.684986      10.873008  3248.124521         3251.607412   \n",
       "1        9.058543       7.794404  2761.123516         2764.606407   \n",
       "2       12.729829       7.564095  3037.187834         3157.065097   \n",
       "3       10.110711       9.983417  3262.159439         3306.544096   \n",
       "4        7.869734      13.126815  4325.782831         4329.265723   \n",
       "\n",
       "  mom_status_india ifa_status_india alive_status_india  \\\n",
       "0           normal             none              alive   \n",
       "1           normal             none              alive   \n",
       "2     malnourished             none              alive   \n",
       "3     malnourished              ifa              alive   \n",
       "4           normal             none              alive   \n",
       "\n",
       "   stunting_z_score_india  wasting_z_score_india  \n",
       "0               -1.315014               0.873008  \n",
       "1               -0.941457              -2.205596  \n",
       "2                2.729829              -2.435905  \n",
       "3                0.110711              -0.016583  \n",
       "4               -2.130266               3.126815  "
      ]
     },
     "execution_count": 40,
     "metadata": {},
     "output_type": "execute_result"
    }
   ],
   "source": [
    "def getZscores(df):\n",
    "    name =[x for x in globals() if globals()[x] is df][0]\n",
    "    df['stunting_z_score_%s' % name] = df['stunting_%s' % name] - 10\n",
    "    df['wasting_z_score_%s' % name] = df['wasting_%s' % name] -  10\n",
    "    return df\n",
    "\n",
    "india = getZscores(india)\n",
    "pakistan = getZscores(pakistan)\n",
    "mali = getZscores(mali)\n",
    "tanzania = getZscores(tanzania)\n",
    "\n",
    "india.head()\n",
    "# mali['stunting_z_score_mali'] = mali['stunting_mali'] -  10\n",
    "# mali['wasting_z_score_mali'] = mali['wasting_mali'] -  10\n",
    "# mali.head()"
   ]
  },
  {
   "cell_type": "markdown",
   "metadata": {},
   "source": [
    "# These are z-scores between 28 days and 1 year (29 days)"
   ]
  },
  {
   "cell_type": "code",
   "execution_count": 41,
   "metadata": {},
   "outputs": [
    {
     "name": "stdout",
     "output_type": "stream",
     "text": [
      "nicoly\n",
      "Wed Oct  7 20:41:03 PDT 2020\n"
     ]
    }
   ],
   "source": [
    "!whoami\n",
    "!date"
   ]
  },
  {
   "cell_type": "code",
   "execution_count": 42,
   "metadata": {
    "scrolled": true
   },
   "outputs": [
    {
     "name": "stdout",
     "output_type": "stream",
     "text": [
      "INTERACTIVE SIM Z-SCORES - \n",
      "\n",
      "\n",
      "\n",
      "stunting z-score in INDIA at 29 days =-0.4071155351971041\n",
      "stunting z-score in PAKISTAN at 29 days =-0.7940538210697202\n",
      "stunting z-score in MALI at 29 days =-0.9402277847903582\n",
      "stunting z-score in TANZANIA at 29 days =-0.6169836083203721\n",
      "\n",
      "\n",
      "\n",
      "wasting z-score in INDIA at 29 days =-0.32084207946296883\n",
      "wasting z-score in PAKISTAN at 29 days =-0.5153626709462085\n",
      "wasting z-score in MALI at 29 days =-0.4353003449260663\n",
      "wasting z-score in TANZANIA at 29 days =-0.0787215784984074\n"
     ]
    }
   ],
   "source": [
    "print('INTERACTIVE SIM Z-SCORES - ')\n",
    "\n",
    "print('\\n\\n')\n",
    "\n",
    "print('stunting z-score in INDIA at 29 days =' + str(india.stunting_z_score_india.mean()))\n",
    "print('stunting z-score in PAKISTAN at 29 days =' + str(pakistan.stunting_z_score_pakistan.mean()))\n",
    "print('stunting z-score in MALI at 29 days =' + str(mali.stunting_z_score_mali.mean()))\n",
    "print('stunting z-score in TANZANIA at 29 days =' + str(tanzania.stunting_z_score_tanzania.mean()))\n",
    "\n",
    "print('\\n\\n')\n",
    "\n",
    "print('wasting z-score in INDIA at 29 days =' + str(india.wasting_z_score_india.mean()))\n",
    "print('wasting z-score in PAKISTAN at 29 days =' + str(pakistan.wasting_z_score_pakistan.mean()))\n",
    "print('wasting z-score in MALI at 29 days =' + str(mali.wasting_z_score_mali.mean()))\n",
    "print('wasting z-score in TANZANIA at 29 days =' + str(tanzania.wasting_z_score_tanzania.mean()))\n",
    "\n",
    "#print(mali.wasting_z_score_mali.mean())"
   ]
  },
  {
   "cell_type": "markdown",
   "metadata": {},
   "source": [
    "# These are z-scores between 1 and 2 years (366 days)"
   ]
  },
  {
   "cell_type": "code",
   "execution_count": 43,
   "metadata": {},
   "outputs": [
    {
     "name": "stdout",
     "output_type": "stream",
     "text": [
      "nicoly\n",
      "Wed Oct  7 20:41:04 PDT 2020\n"
     ]
    }
   ],
   "source": [
    "!whoami\n",
    "!date"
   ]
  },
  {
   "cell_type": "code",
   "execution_count": 44,
   "metadata": {
    "scrolled": true
   },
   "outputs": [],
   "source": [
    "# print('INTERACTIVE SIM Z-SCORES at 366 days')\n",
    "\n",
    "# print('\\n\\n')\n",
    "\n",
    "# print('stunting z-score in INDIA at 366 days =' + str(india.stunting_z_score_india.mean()))\n",
    "# print('stunting z-score in PAKISTAN at 366 days =' + str(pakistan.stunting_z_score_pakistan.mean()))\n",
    "# print('stunting z-score in MALI at 366 days =' + str(mali.stunting_z_score_mali.mean()))\n",
    "# print('stunting z-score in TANZANIA at 366 days =' + str(tanzania.stunting_z_score_tanzania.mean()))\n",
    "\n",
    "# print('\\n\\n')\n",
    "\n",
    "# print('wasting z-score in INDIA at 366 days =' + str(india.wasting_z_score_india.mean()))\n",
    "# print('wasting z-score in PAKISTAN at 366 days =' + str(pakistan.wasting_z_score_pakistan.mean()))\n",
    "# print('wasting z-score in MALI at 366 days =' + str(mali.wasting_z_score_mali.mean()))\n",
    "# print('wasting z-score in TANZANIA at 366 days =' + str(tanzania.wasting_z_score_tanzania.mean()))\n",
    "\n",
    "#print(mali.wasting_z_score_mali.mean())"
   ]
  },
  {
   "cell_type": "markdown",
   "metadata": {},
   "source": [
    "INTERACTIVE SIM Z-SCORES at 400 days\n",
    "\n",
    "stunting z-score in INDIA at 400 days =-1.172899256226892\n",
    "\n",
    "stunting z-score in MALI at 400 days =-0.8384312035614117\n",
    "\n",
    "stunting z-score in PAKISTAN at 400 days =-1.3024843912649748\n",
    "\n",
    "stunting z-score in TANZANIA at 400 days =-1.3604136347038784\n",
    "\n",
    "\n",
    "\n",
    "wasting z-score in INDIA at 400 days =-0.41991340872671884\n",
    "\n",
    "wasting z-score in MALI at 400 days =-0.43360725548007645\n",
    "\n",
    "wasting z-score in PAKISTAN at 400 days =-0.6693549183133143\n",
    "\n",
    "wasting z-score in TANZANIA at 400 days =-0.050157331270338675"
   ]
  },
  {
   "cell_type": "code",
   "execution_count": 45,
   "metadata": {
    "scrolled": true
   },
   "outputs": [
    {
     "name": "stdout",
     "output_type": "stream",
     "text": [
      "1     8.327075\n",
      "2     7.769048\n",
      "3     9.894944\n",
      "4    12.198062\n",
      "5     7.341315\n",
      "Name: wasting_mali, dtype: float64\n",
      "9.564699655073934\n"
     ]
    }
   ],
   "source": [
    "print(mali.wasting_mali.head())\n",
    "print(mali.wasting_mali.mean())"
   ]
  },
  {
   "cell_type": "markdown",
   "metadata": {},
   "source": [
    "## =============================== CGF ends here ================================================"
   ]
  },
  {
   "cell_type": "markdown",
   "metadata": {},
   "source": [
    "## birthweight by mom status"
   ]
  },
  {
   "cell_type": "code",
   "execution_count": 46,
   "metadata": {
    "scrolled": false
   },
   "outputs": [
    {
     "ename": "NameError",
     "evalue": "name 'df1' is not defined",
     "output_type": "error",
     "traceback": [
      "\u001b[0;31m---------------------------------------------------------------------------\u001b[0m",
      "\u001b[0;31mNameError\u001b[0m                                 Traceback (most recent call last)",
      "\u001b[0;32m<ipython-input-46-2981c4fe87a4>\u001b[0m in \u001b[0;36m<module>\u001b[0;34m\u001b[0m\n\u001b[0;32m----> 1\u001b[0;31m \u001b[0mgb\u001b[0m \u001b[0;34m=\u001b[0m \u001b[0mdf1\u001b[0m\u001b[0;34m.\u001b[0m\u001b[0mgroupby\u001b[0m\u001b[0;34m(\u001b[0m\u001b[0;34m'mom_status'\u001b[0m\u001b[0;34m)\u001b[0m\u001b[0;34m\u001b[0m\u001b[0;34m\u001b[0m\u001b[0m\n\u001b[0m\u001b[1;32m      2\u001b[0m \u001b[0;34m\u001b[0m\u001b[0m\n\u001b[1;32m      3\u001b[0m \u001b[0mprint\u001b[0m\u001b[0;34m(\u001b[0m\u001b[0;34m'birthweight from malnourished mothers = '\u001b[0m \u001b[0;34m+\u001b[0m \u001b[0mstr\u001b[0m\u001b[0;34m(\u001b[0m\u001b[0mgb\u001b[0m\u001b[0;34m.\u001b[0m\u001b[0mget_group\u001b[0m\u001b[0;34m(\u001b[0m\u001b[0;34m'malnourished'\u001b[0m\u001b[0;34m)\u001b[0m\u001b[0;34m.\u001b[0m\u001b[0mlbwsg\u001b[0m\u001b[0;34m.\u001b[0m\u001b[0mmean\u001b[0m\u001b[0;34m(\u001b[0m\u001b[0;34m)\u001b[0m\u001b[0;34m)\u001b[0m\u001b[0;34m)\u001b[0m\u001b[0;34m\u001b[0m\u001b[0;34m\u001b[0m\u001b[0m\n\u001b[1;32m      4\u001b[0m \u001b[0mprint\u001b[0m\u001b[0;34m(\u001b[0m\u001b[0;34m'birthweight from normal mothers = '\u001b[0m \u001b[0;34m+\u001b[0m \u001b[0mstr\u001b[0m\u001b[0;34m(\u001b[0m\u001b[0mgb\u001b[0m\u001b[0;34m.\u001b[0m\u001b[0mget_group\u001b[0m\u001b[0;34m(\u001b[0m\u001b[0;34m'normal'\u001b[0m\u001b[0;34m)\u001b[0m\u001b[0;34m.\u001b[0m\u001b[0mlbwsg\u001b[0m\u001b[0;34m.\u001b[0m\u001b[0mmean\u001b[0m\u001b[0;34m(\u001b[0m\u001b[0;34m)\u001b[0m\u001b[0;34m)\u001b[0m\u001b[0;34m)\u001b[0m\u001b[0;34m\u001b[0m\u001b[0;34m\u001b[0m\u001b[0m\n\u001b[1;32m      5\u001b[0m \u001b[0mprint\u001b[0m\u001b[0;34m(\u001b[0m\u001b[0;34m'birthweight difference = '\u001b[0m \u001b[0;34m+\u001b[0m \u001b[0mstr\u001b[0m\u001b[0;34m(\u001b[0m\u001b[0mgb\u001b[0m\u001b[0;34m.\u001b[0m\u001b[0mget_group\u001b[0m\u001b[0;34m(\u001b[0m\u001b[0;34m'normal'\u001b[0m\u001b[0;34m)\u001b[0m\u001b[0;34m.\u001b[0m\u001b[0mlbwsg\u001b[0m\u001b[0;34m.\u001b[0m\u001b[0mmean\u001b[0m\u001b[0;34m(\u001b[0m\u001b[0;34m)\u001b[0m\u001b[0;34m-\u001b[0m\u001b[0mgb\u001b[0m\u001b[0;34m.\u001b[0m\u001b[0mget_group\u001b[0m\u001b[0;34m(\u001b[0m\u001b[0;34m'malnourished'\u001b[0m\u001b[0;34m)\u001b[0m\u001b[0;34m.\u001b[0m\u001b[0mlbwsg\u001b[0m\u001b[0;34m.\u001b[0m\u001b[0mmean\u001b[0m\u001b[0;34m(\u001b[0m\u001b[0;34m)\u001b[0m\u001b[0;34m)\u001b[0m\u001b[0;34m)\u001b[0m\u001b[0;34m\u001b[0m\u001b[0;34m\u001b[0m\u001b[0m\n",
      "\u001b[0;31mNameError\u001b[0m: name 'df1' is not defined"
     ]
    }
   ],
   "source": [
    "gb = df1.groupby('mom_status')\n",
    "\n",
    "print('birthweight from malnourished mothers = ' + str(gb.get_group('malnourished').lbwsg.mean()))\n",
    "print('birthweight from normal mothers = ' + str(gb.get_group('normal').lbwsg.mean()))\n",
    "print('birthweight difference = ' + str(gb.get_group('normal').lbwsg.mean()-gb.get_group('malnourished').lbwsg.mean()))\n",
    "\n",
    "# we want to update this to new data where we got the delta birthweight shift in grams from the literature of 160g"
   ]
  },
  {
   "cell_type": "code",
   "execution_count": null,
   "metadata": {},
   "outputs": [],
   "source": [
    "gb2 = df2.groupby('mom_status_mali')\n",
    "\n",
    "print('birthweight from malnourished mothers = ' + str(gb2.get_group('malnourished').lbwsg_mali.mean()))\n",
    "print('birthweight from normal mothers = ' + str(gb2.get_group('normal').lbwsg_mali.mean()))\n",
    "print('birthweight difference = ' + str(gb2.get_group('normal').lbwsg_mali.mean()-gb2.get_group('malnourished').lbwsg_mali.mean()))\n",
    "\n",
    "# we want to update this to new data where we got the delta birthweight shift in grams from the literature of 160g"
   ]
  },
  {
   "cell_type": "code",
   "execution_count": null,
   "metadata": {
    "scrolled": false
   },
   "outputs": [],
   "source": [
    "pyplot.scatter(df1.mom_status, df1.lbwsg)"
   ]
  },
  {
   "cell_type": "markdown",
   "metadata": {},
   "source": [
    "## stunting z-score by mom status"
   ]
  },
  {
   "cell_type": "code",
   "execution_count": null,
   "metadata": {},
   "outputs": [],
   "source": [
    "gb2 = df2.groupby('mom_status_mali')\n",
    "\n",
    "mal_stunted_mali = gb2.get_group('malnourished').stunting_mali.mean()-10\n",
    "norm_stunted_mali = gb2.get_group('normal').stunting_mali.mean()-10\n",
    "stunted_diff_mali = (mal_stunted) - (norm_stunted)\n",
    "\n",
    "\n",
    "print('stunting z-score from malnourished mothers = ' + str(mal_stunted_mali))\n",
    "print('stunting z-score from normal mothers = ' + str(norm_stunted_mali))\n",
    "print('stunting z-score difference = ' + str(stunted_diff_mali))"
   ]
  },
  {
   "cell_type": "code",
   "execution_count": null,
   "metadata": {},
   "outputs": [],
   "source": [
    "gb = df1.groupby('mom_status')\n",
    "\n",
    "mal_stunted = gb.get_group('malnourished').stunting.mean()-10\n",
    "norm_stunted = gb.get_group('normal').stunting.mean()-10\n",
    "stunted_diff = (mal_stunted) - (norm_stunted)\n",
    "\n",
    "\n",
    "print('stunting z-score from malnourished mothers = ' + str(mal_stunted))\n",
    "print('stunting z-score from normal mothers = ' + str(norm_stunted))\n",
    "print('stunting z-score difference = ' + str(stunted_diff))"
   ]
  },
  {
   "cell_type": "code",
   "execution_count": null,
   "metadata": {
    "scrolled": true
   },
   "outputs": [],
   "source": [
    "#scatter plot of z scores for stunting by mom status\n",
    "\n",
    "pyplot.scatter(df1.mom_status, df1.stunting-10)"
   ]
  },
  {
   "cell_type": "markdown",
   "metadata": {},
   "source": [
    "## wasting z-score by mom status"
   ]
  },
  {
   "cell_type": "code",
   "execution_count": null,
   "metadata": {},
   "outputs": [],
   "source": [
    "gb = df1.groupby('mom_status')\n",
    "\n",
    "mal_wasted = gb.get_group('malnourished').wasting.mean() -10\n",
    "norm_wasted = gb.get_group('normal').wasting.mean() -10\n",
    "wasted_diff = (mal_wasted) - (norm_wasted)\n",
    "\n",
    "\n",
    "print('wasting z-score from malnourished mothers = ' + str(mal_wasted))\n",
    "print('wasting z-score from normal mothers = ' + str(norm_wasted))\n",
    "print('wasting z-score difference = ' + str(wasted_diff))"
   ]
  },
  {
   "cell_type": "code",
   "execution_count": null,
   "metadata": {
    "scrolled": false
   },
   "outputs": [],
   "source": [
    "pyplot.scatter(df1.mom_status, df1.wasting-10)"
   ]
  },
  {
   "cell_type": "markdown",
   "metadata": {},
   "source": [
    "## Make scatter plots to visually inspect correlation"
   ]
  },
  {
   "cell_type": "code",
   "execution_count": null,
   "metadata": {},
   "outputs": [],
   "source": [
    "pyplot.scatter(df2.lbwsg_mali, df2.wasting_mali-10)\n",
    "pyplot.show()"
   ]
  },
  {
   "cell_type": "code",
   "execution_count": null,
   "metadata": {
    "scrolled": false
   },
   "outputs": [],
   "source": [
    "#get individual birthweight and individual WLZ - overall\n",
    "\n",
    "pyplot.scatter(df1.lbwsg, df1.wasting-10)\n",
    "pyplot.show()"
   ]
  },
  {
   "cell_type": "code",
   "execution_count": null,
   "metadata": {},
   "outputs": [],
   "source": [
    "#get individual birthweight and individual LAZ - overall\n",
    "\n",
    "pyplot.scatter(df1.lbwsg, df1.stunting-10)\n",
    "pyplot.show()"
   ]
  },
  {
   "cell_type": "code",
   "execution_count": null,
   "metadata": {},
   "outputs": [],
   "source": [
    "mask_mommal = df1.mom_status == 'malnourished'"
   ]
  },
  {
   "cell_type": "code",
   "execution_count": null,
   "metadata": {},
   "outputs": [],
   "source": [
    "#lbw and wasting among normal mothers\n",
    "\n",
    "pyplot.scatter(df1.loc[~mask_mommal,['lbwsg']], df1.loc[~mask_mommal,['wasting']]-10)"
   ]
  },
  {
   "cell_type": "code",
   "execution_count": null,
   "metadata": {
    "scrolled": false
   },
   "outputs": [],
   "source": [
    "#lbw and wasting among malnourished \n",
    "\n",
    "pyplot.scatter(df1.loc[mask_mommal,['lbwsg']], df1.loc[mask_mommal,['wasting']]-10)"
   ]
  },
  {
   "cell_type": "markdown",
   "metadata": {},
   "source": [
    "# 7. Calulcate correlation and spearman co-efficient"
   ]
  },
  {
   "cell_type": "markdown",
   "metadata": {},
   "source": [
    "correlation formula\n",
    "\n",
    "cov(X, Y) = (sum (x - mean(X)) * (y - mean(Y)) ) * 1/(n-1)"
   ]
  },
  {
   "cell_type": "code",
   "execution_count": null,
   "metadata": {},
   "outputs": [],
   "source": [
    "bw_mali = df2.lbwsg_mali\n",
    "laz_mali = df2.stunting_mali-10\n",
    "wlz_mali = df2.wasting_mali-10\n",
    "n_mali = len(df2)\n"
   ]
  },
  {
   "cell_type": "code",
   "execution_count": null,
   "metadata": {},
   "outputs": [],
   "source": [
    "bw = df1.lbwsg\n",
    "laz = df1.stunting-10\n",
    "wlz = df1.wasting-10\n",
    "n = len(df1)\n"
   ]
  },
  {
   "cell_type": "code",
   "execution_count": null,
   "metadata": {},
   "outputs": [],
   "source": [
    "#Covariance\n",
    "\n",
    "covariance_laz = cov(bw, laz)\n",
    "print(covariance_laz)"
   ]
  },
  {
   "cell_type": "code",
   "execution_count": null,
   "metadata": {
    "scrolled": true
   },
   "outputs": [],
   "source": [
    "covariance_wlz = cov(bw, wlz)\n",
    "print(covariance_wlz)"
   ]
  },
  {
   "cell_type": "code",
   "execution_count": null,
   "metadata": {},
   "outputs": [],
   "source": [
    "print(stats.spearmanr(bw_mali, laz_mali))"
   ]
  },
  {
   "cell_type": "code",
   "execution_count": null,
   "metadata": {
    "scrolled": true
   },
   "outputs": [],
   "source": [
    "print('spearman correlation coefficient for birthweight and laz at 6 months:')\n",
    "print(stats.spearmanr(bw, laz))\n",
    "\n",
    "print('spearman correlation coefficient for birthweight and wlz at 6 months:')\n",
    "print(stats.spearmanr(bw, wlz))"
   ]
  },
  {
   "cell_type": "markdown",
   "metadata": {},
   "source": [
    "Pearson formula\n",
    "\t\n",
    "Pearson's correlation coefficient = covariance(X, Y) / (stdv(X) * stdv(Y))\n",
    "\n",
    "Spearman formula\n",
    "\n",
    "Spearman's correlation coefficient = covariance(rank(X), rank(Y)) / (stdv(rank(X)) * stdv(rank(Y)))"
   ]
  },
  {
   "cell_type": "markdown",
   "metadata": {},
   "source": [
    "# Abie's proposal\n",
    "\n",
    "0) intialize simulants attributes for birthweight and gestational age \n",
    "\n",
    "1) find a pseudo propensity for birthweight between 0-1 which says effectively where individul lies in the birthweight distribution \n",
    "\n",
    "- eg. if simulant 0 has birthweight 3371g, figure out where this simulant lies in the percentile in the distribution this simulants lie\n",
    "\n",
    "2) initliaze a laz score to be correlated with the birthweight with the spearman correlation of 0.4 (from the maled data) \n",
    "\n",
    "\n",
    "\n"
   ]
  }
 ],
 "metadata": {
  "kernelspec": {
   "display_name": "gates_bep",
   "language": "python",
   "name": "gates_bep"
  },
  "language_info": {
   "codemirror_mode": {
    "name": "ipython",
    "version": 3
   },
   "file_extension": ".py",
   "mimetype": "text/x-python",
   "name": "python",
   "nbconvert_exporter": "python",
   "pygments_lexer": "ipython3",
   "version": "3.6.10"
  }
 },
 "nbformat": 4,
 "nbformat_minor": 4
}
