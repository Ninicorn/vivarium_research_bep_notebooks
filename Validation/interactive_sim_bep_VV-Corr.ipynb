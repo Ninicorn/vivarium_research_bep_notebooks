{
 "cells": [
  {
   "cell_type": "markdown",
   "metadata": {},
   "source": [
    "Interactive sim\n",
    "install environment in a terminal:\n",
    "\n",
    "1) conda activate gates_bep\n",
    "\n",
    "2) then type in this command: ipython kernel install --name gates_bep --user"
   ]
  },
  {
   "cell_type": "code",
   "execution_count": 9,
   "metadata": {
    "scrolled": true
   },
   "outputs": [
    {
     "data": {
      "text/html": [
       "<style>.container { width:100% !important; }</style>"
      ],
      "text/plain": [
       "<IPython.core.display.HTML object>"
      ]
     },
     "metadata": {},
     "output_type": "display_data"
    }
   ],
   "source": [
    "from IPython.core.display import display, HTML\n",
    "display(HTML(\"<style>.container { width:100% !important; }</style>\")) #makes the display bars longer and spread out 100% across the screen width"
   ]
  },
  {
   "cell_type": "code",
   "execution_count": 10,
   "metadata": {},
   "outputs": [],
   "source": [
    "import pandas as pd\n",
    "from numpy.random import randn\n",
    "from numpy.random import seed\n",
    "from numpy import mean\n",
    "from numpy import std\n",
    "from numpy import cov\n",
    "from matplotlib import pyplot\n",
    "from scipy.stats import pearsonr\n",
    "from scipy.stats import spearmanr\n",
    "from scipy.stats import stats"
   ]
  },
  {
   "cell_type": "markdown",
   "metadata": {},
   "source": [
    "# 1. Set up interactive sim by first the InteractiveContext modules that runs interactive sims, and make specs "
   ]
  },
  {
   "cell_type": "code",
   "execution_count": 11,
   "metadata": {},
   "outputs": [],
   "source": [
    "#This is the interactive context module from vivarium that runs the simulation \n",
    "\n",
    "from vivarium import InteractiveContext"
   ]
  },
  {
   "cell_type": "code",
   "execution_count": 12,
   "metadata": {
    "scrolled": true
   },
   "outputs": [],
   "source": [
    "!make_specs #uses the model_spec.in to create the yaml files \n"
   ]
  },
  {
   "cell_type": "code",
   "execution_count": 5,
   "metadata": {
    "scrolled": true
   },
   "outputs": [
    {
     "name": "stdout",
     "output_type": "stream",
     "text": [
      "/ihme/homes/nicoly/vivarium_gates_bep/src/vivarium_gates_bep/model_specifications/branches\n",
      "scenarios.yaml\n"
     ]
    }
   ],
   "source": [
    "#look for the file path of the yaml files (feb 2020 model)\n",
    "\n",
    "%pwd \n",
    "# %cd ..\n",
    "# %ls\n",
    "%cd /ihme/homes/nicoly/vivarium_gates_bep/src/vivarium_gates_bep/model_specifications/branches\n",
    "%ls\n",
    "# %cd /ihme/homes/nicoly/vivarium_gates_bep/src/vivarium_gates_bep/src/vivarium_gates_bep/model_specifications\n",
    "# ! changes locally\n",
    "# % changes in python (the running interpreter)"
   ]
  },
  {
   "cell_type": "code",
   "execution_count": 6,
   "metadata": {},
   "outputs": [
    {
     "name": "stdout",
     "output_type": "stream",
     "text": [
      "scenarios.yaml\r\n"
     ]
    }
   ],
   "source": [
    "%pwd\n",
    "%ls"
   ]
  },
  {
   "cell_type": "code",
   "execution_count": 7,
   "metadata": {},
   "outputs": [],
   "source": [
    "# can go into the branches folder, then can look at the specs; this will tell me change the scenario names\n",
    "# %less scenarios.yaml <--this doesnt work so need to manually overide with terminal and nano"
   ]
  },
  {
   "cell_type": "code",
   "execution_count": 112,
   "metadata": {},
   "outputs": [],
   "source": [
    "#lets me look into the contents of india.yaml file\n",
    "\n",
    "#%less india.yaml\n",
    "#look into the yaml file, look under maternal_supplementation to check what scenario this is. Currently at baseline. Can change it to run interactive sim on other scenarios"
   ]
  },
  {
   "cell_type": "markdown",
   "metadata": {},
   "source": [
    "These are the specs for interactive sim (eg. India)\n",
    "\n",
    "    input_data:\n",
    "        location: India\n",
    "        input_draw_number: 0\n",
    "        artifact_path: /share/costeffectiveness/artifacts/vivarium_conic_lsff/india.hdf\n",
    "    interpolation:\n",
    "        order: 0\n",
    "        extrapolate: True\n",
    "    randomness:\n",
    "        map_size: 1_000_000\n",
    "        key_columns: ['entrance_time', 'age']\n",
    "        random_seed: 0"
   ]
  },
  {
   "cell_type": "code",
   "execution_count": 14,
   "metadata": {},
   "outputs": [
    {
     "name": "stderr",
     "output_type": "stream",
     "text": [
      "2020-10-02 11:47:06.805 | DEBUG    | vivarium.framework.values:register_value_modifier:373 - Registering metrics.1.population_manager.metrics as modifier to metrics\n",
      "2020-10-02 11:47:06.811 | DEBUG    | vivarium.framework.artifact.manager:_load_artifact:66 - Running simulation from artifact located at /share/costeffectiveness/artifacts/vivarium_gates_bep/mali.hdf.\n",
      "2020-10-02 11:47:06.813 | DEBUG    | vivarium.framework.artifact.manager:_load_artifact:67 - Artifact base filter terms are ['draw == 0', \"location == 'Mali' | location == 'Global'\"].\n",
      "2020-10-02 11:47:06.814 | DEBUG    | vivarium.framework.artifact.manager:_load_artifact:68 - Artifact additional filter terms are None.\n",
      "2020-10-02 11:47:08.277 | DEBUG    | vivarium.framework.values:_register_value_producer:323 - Registering value pipeline protein_energy_malnutrition.disability_weight\n",
      "2020-10-02 11:47:08.280 | DEBUG    | vivarium.framework.values:register_value_modifier:373 - Registering disability_weight.1.protein_energy_malnutrition.disability_weight as modifier to disability_weight\n",
      "2020-10-02 11:47:08.951 | DEBUG    | vivarium.framework.values:register_value_modifier:373 - Registering cause_specific_mortality_rate.1.risk_attributable_disease.cause.protein_energy_malnutrition.risk_factor.child_wasting.adjust_cause_specific_mortality_rate as modifier to cause_specific_mortality_rate\n",
      "2020-10-02 11:47:09.406 | DEBUG    | vivarium.framework.values:_register_value_producer:323 - Registering value pipeline protein_energy_malnutrition.excess_mortality_rate\n",
      "2020-10-02 11:47:09.407 | DEBUG    | vivarium.framework.values:_register_value_producer:323 - Registering value pipeline protein_energy_malnutrition.excess_mortality_rate.population_attributable_fraction\n",
      "2020-10-02 11:47:09.408 | DEBUG    | vivarium.framework.values:register_value_modifier:373 - Registering mortality_rate.1.risk_attributable_disease.cause.protein_energy_malnutrition.risk_factor.child_wasting.adjust_mortality_rate as modifier to mortality_rate\n",
      "2020-10-02 11:47:11.255 | DEBUG    | vivarium.framework.values:register_value_modifier:373 - Registering diarrheal_diseases.incidence_rate.1.risk_effect.risk_factor.child_wasting.cause.diarrheal_diseases.incidence_rate.adjust_target as modifier to diarrheal_diseases.incidence_rate\n",
      "2020-10-02 11:47:11.258 | DEBUG    | vivarium.framework.values:register_value_modifier:373 - Registering diarrheal_diseases.incidence_rate.paf.1.lookup_table_5 as modifier to diarrheal_diseases.incidence_rate.paf\n",
      "2020-10-02 11:47:11.861 | DEBUG    | vivarium.framework.values:register_value_modifier:373 - Registering measles.incidence_rate.1.risk_effect.risk_factor.child_wasting.cause.measles.incidence_rate.adjust_target as modifier to measles.incidence_rate\n",
      "2020-10-02 11:47:11.863 | DEBUG    | vivarium.framework.values:register_value_modifier:373 - Registering measles.incidence_rate.paf.1.lookup_table_7 as modifier to measles.incidence_rate.paf\n",
      "2020-10-02 11:47:12.459 | DEBUG    | vivarium.framework.values:register_value_modifier:373 - Registering lower_respiratory_infections.incidence_rate.1.risk_effect.risk_factor.child_wasting.cause.lower_respiratory_infections.incidence_rate.adjust_target as modifier to lower_respiratory_infections.incidence_rate\n",
      "2020-10-02 11:47:12.461 | DEBUG    | vivarium.framework.values:register_value_modifier:373 - Registering lower_respiratory_infections.incidence_rate.paf.1.lookup_table_9 as modifier to lower_respiratory_infections.incidence_rate.paf\n",
      "2020-10-02 11:47:14.133 | DEBUG    | vivarium.framework.values:register_value_modifier:373 - Registering diarrheal_diseases.incidence_rate.2.risk_effect.risk_factor.child_stunting.cause.diarrheal_diseases.incidence_rate.adjust_target as modifier to diarrheal_diseases.incidence_rate\n",
      "2020-10-02 11:47:14.134 | DEBUG    | vivarium.framework.values:register_value_modifier:373 - Registering diarrheal_diseases.incidence_rate.paf.2.lookup_table_11 as modifier to diarrheal_diseases.incidence_rate.paf\n",
      "2020-10-02 11:47:14.725 | DEBUG    | vivarium.framework.values:register_value_modifier:373 - Registering measles.incidence_rate.2.risk_effect.risk_factor.child_stunting.cause.measles.incidence_rate.adjust_target as modifier to measles.incidence_rate\n",
      "2020-10-02 11:47:14.727 | DEBUG    | vivarium.framework.values:register_value_modifier:373 - Registering measles.incidence_rate.paf.2.lookup_table_13 as modifier to measles.incidence_rate.paf\n",
      "2020-10-02 11:47:15.328 | DEBUG    | vivarium.framework.values:register_value_modifier:373 - Registering lower_respiratory_infections.incidence_rate.2.risk_effect.risk_factor.child_stunting.cause.lower_respiratory_infections.incidence_rate.adjust_target as modifier to lower_respiratory_infections.incidence_rate\n",
      "2020-10-02 11:47:15.330 | DEBUG    | vivarium.framework.values:register_value_modifier:373 - Registering lower_respiratory_infections.incidence_rate.paf.2.lookup_table_15 as modifier to lower_respiratory_infections.incidence_rate.paf\n",
      "2020-10-02 11:47:16.059 | DEBUG    | vivarium.framework.values:_register_value_producer:323 - Registering value pipeline cause_specific_mortality_rate\n",
      "2020-10-02 11:47:18.684 | DEBUG    | vivarium.framework.values:_register_value_producer:323 - Registering value pipeline affected_unmodeled.csmr\n",
      "2020-10-02 11:47:18.685 | DEBUG    | vivarium.framework.values:_register_value_producer:323 - Registering value pipeline affected_unmodeled.csmr.population_attributable_fraction\n",
      "2020-10-02 11:47:18.686 | DEBUG    | vivarium.framework.values:_register_value_producer:323 - Registering value pipeline mortality_rate\n",
      "2020-10-02 11:47:18.687 | DEBUG    | vivarium.framework.values:_register_value_producer:323 - Registering value pipeline all_causes.mortality_hazard\n",
      "2020-10-02 11:47:18.688 | DEBUG    | vivarium.framework.values:_register_value_producer:323 - Registering value pipeline all_causes.mortality_hazard.population_attributable_fraction\n",
      "2020-10-02 11:47:19.598 | DEBUG    | vivarium.framework.values:register_value_modifier:373 - Registering cause_specific_mortality_rate.2.disease_model.diarrheal_diseases.adjust_cause_specific_mortality_rate as modifier to cause_specific_mortality_rate\n",
      "2020-10-02 11:47:19.599 | DEBUG    | vivarium.framework.values:register_value_modifier:373 - Registering metrics.2.disease_model.diarrheal_diseases.metrics as modifier to metrics\n",
      "2020-10-02 11:47:19.600 | DEBUG    | vivarium.framework.values:register_value_modifier:373 - Registering metrics.3.state.susceptible_to_diarrheal_diseases.metrics as modifier to metrics\n",
      "2020-10-02 11:47:20.074 | DEBUG    | vivarium.framework.values:_register_value_producer:323 - Registering value pipeline diarrheal_diseases.incidence_rate\n",
      "2020-10-02 11:47:20.076 | DEBUG    | vivarium.framework.values:_register_value_producer:323 - Registering value pipeline diarrheal_diseases.incidence_rate.paf\n",
      "2020-10-02 11:47:20.077 | DEBUG    | vivarium.framework.values:register_value_modifier:373 - Registering metrics.4.state.diarrheal_diseases.metrics as modifier to metrics\n",
      "2020-10-02 11:47:20.548 | DEBUG    | vivarium.framework.values:_register_value_producer:323 - Registering value pipeline diarrheal_diseases.dwell_time\n",
      "2020-10-02 11:47:21.166 | DEBUG    | vivarium.framework.values:_register_value_producer:323 - Registering value pipeline diarrheal_diseases.disability_weight\n",
      "2020-10-02 11:47:21.168 | DEBUG    | vivarium.framework.values:register_value_modifier:373 - Registering disability_weight.2.diarrheal_diseases.disability_weight as modifier to disability_weight\n",
      "2020-10-02 11:47:21.648 | DEBUG    | vivarium.framework.values:_register_value_producer:323 - Registering value pipeline diarrheal_diseases.excess_mortality_rate\n",
      "2020-10-02 11:47:21.649 | DEBUG    | vivarium.framework.values:_register_value_producer:323 - Registering value pipeline diarrheal_diseases.excess_mortality_rate.population_attributable_fraction\n",
      "2020-10-02 11:47:21.650 | DEBUG    | vivarium.framework.values:register_value_modifier:373 - Registering mortality_rate.2.state.diarrheal_diseases.adjust_mortality_rate as modifier to mortality_rate\n",
      "2020-10-02 11:47:22.118 | DEBUG    | vivarium.framework.values:_register_value_producer:323 - Registering value pipeline diarrheal_diseases.remission_rate\n"
     ]
    },
    {
     "name": "stderr",
     "output_type": "stream",
     "text": [
      "2020-10-02 11:47:22.119 | DEBUG    | vivarium.framework.values:_register_value_producer:323 - Registering value pipeline diarrheal_diseases.remission_rate.paf\n",
      "2020-10-02 11:47:22.572 | DEBUG    | vivarium.framework.values:register_value_modifier:373 - Registering cause_specific_mortality_rate.3.disease_model.measles.adjust_cause_specific_mortality_rate as modifier to cause_specific_mortality_rate\n",
      "2020-10-02 11:47:22.573 | DEBUG    | vivarium.framework.values:register_value_modifier:373 - Registering metrics.5.disease_model.measles.metrics as modifier to metrics\n",
      "2020-10-02 11:47:22.575 | DEBUG    | vivarium.framework.values:register_value_modifier:373 - Registering metrics.6.state.susceptible_to_measles.metrics as modifier to metrics\n",
      "2020-10-02 11:47:23.030 | DEBUG    | vivarium.framework.values:_register_value_producer:323 - Registering value pipeline measles.incidence_rate\n",
      "2020-10-02 11:47:23.032 | DEBUG    | vivarium.framework.values:_register_value_producer:323 - Registering value pipeline measles.incidence_rate.paf\n",
      "2020-10-02 11:47:23.034 | DEBUG    | vivarium.framework.values:register_value_modifier:373 - Registering metrics.7.state.measles.metrics as modifier to metrics\n",
      "2020-10-02 11:47:23.495 | DEBUG    | vivarium.framework.values:_register_value_producer:323 - Registering value pipeline measles.dwell_time\n",
      "2020-10-02 11:47:23.937 | DEBUG    | vivarium.framework.values:_register_value_producer:323 - Registering value pipeline measles.disability_weight\n",
      "2020-10-02 11:47:23.938 | DEBUG    | vivarium.framework.values:register_value_modifier:373 - Registering disability_weight.3.measles.disability_weight as modifier to disability_weight\n",
      "2020-10-02 11:47:24.388 | DEBUG    | vivarium.framework.values:_register_value_producer:323 - Registering value pipeline measles.excess_mortality_rate\n",
      "2020-10-02 11:47:24.389 | DEBUG    | vivarium.framework.values:_register_value_producer:323 - Registering value pipeline measles.excess_mortality_rate.population_attributable_fraction\n",
      "2020-10-02 11:47:24.390 | DEBUG    | vivarium.framework.values:register_value_modifier:373 - Registering mortality_rate.3.state.measles.adjust_mortality_rate as modifier to mortality_rate\n",
      "2020-10-02 11:47:24.391 | DEBUG    | vivarium.framework.values:register_value_modifier:373 - Registering metrics.8.state.recovered_from_measles.metrics as modifier to metrics\n",
      "2020-10-02 11:47:25.308 | DEBUG    | vivarium.framework.values:register_value_modifier:373 - Registering cause_specific_mortality_rate.4.disease_model.lower_respiratory_infections.adjust_cause_specific_mortality_rate as modifier to cause_specific_mortality_rate\n",
      "2020-10-02 11:47:25.309 | DEBUG    | vivarium.framework.values:register_value_modifier:373 - Registering metrics.9.disease_model.lower_respiratory_infections.metrics as modifier to metrics\n",
      "2020-10-02 11:47:25.311 | DEBUG    | vivarium.framework.values:register_value_modifier:373 - Registering metrics.10.state.susceptible_to_lower_respiratory_infections.metrics as modifier to metrics\n",
      "2020-10-02 11:47:25.808 | DEBUG    | vivarium.framework.values:_register_value_producer:323 - Registering value pipeline lower_respiratory_infections.incidence_rate\n",
      "2020-10-02 11:47:25.809 | DEBUG    | vivarium.framework.values:_register_value_producer:323 - Registering value pipeline lower_respiratory_infections.incidence_rate.paf\n",
      "2020-10-02 11:47:25.811 | DEBUG    | vivarium.framework.values:register_value_modifier:373 - Registering metrics.11.state.lower_respiratory_infections.metrics as modifier to metrics\n",
      "2020-10-02 11:47:26.472 | DEBUG    | vivarium.framework.values:_register_value_producer:323 - Registering value pipeline lower_respiratory_infections.dwell_time\n",
      "2020-10-02 11:47:27.053 | DEBUG    | vivarium.framework.values:_register_value_producer:323 - Registering value pipeline lower_respiratory_infections.disability_weight\n",
      "2020-10-02 11:47:27.054 | DEBUG    | vivarium.framework.values:register_value_modifier:373 - Registering disability_weight.4.lower_respiratory_infections.disability_weight as modifier to disability_weight\n",
      "2020-10-02 11:47:27.531 | DEBUG    | vivarium.framework.values:_register_value_producer:323 - Registering value pipeline lower_respiratory_infections.excess_mortality_rate\n",
      "2020-10-02 11:47:27.533 | DEBUG    | vivarium.framework.values:_register_value_producer:323 - Registering value pipeline lower_respiratory_infections.excess_mortality_rate.population_attributable_fraction\n",
      "2020-10-02 11:47:27.534 | DEBUG    | vivarium.framework.values:register_value_modifier:373 - Registering mortality_rate.4.state.lower_respiratory_infections.adjust_mortality_rate as modifier to mortality_rate\n",
      "2020-10-02 11:47:28.009 | DEBUG    | vivarium.framework.values:_register_value_producer:323 - Registering value pipeline lower_respiratory_infections.remission_rate\n",
      "2020-10-02 11:47:28.010 | DEBUG    | vivarium.framework.values:_register_value_producer:323 - Registering value pipeline lower_respiratory_infections.remission_rate.paf\n",
      "2020-10-02 11:47:28.011 | DEBUG    | vivarium.framework.values:_register_value_producer:323 - Registering value pipeline child_wasting.propensity\n",
      "2020-10-02 11:47:28.012 | DEBUG    | vivarium.framework.values:_register_value_producer:323 - Registering value pipeline child_wasting.exposure\n",
      "2020-10-02 11:47:34.594 | DEBUG    | vivarium.framework.values:_register_value_producer:323 - Registering value pipeline child_stunting.propensity\n",
      "2020-10-02 11:47:34.596 | DEBUG    | vivarium.framework.values:_register_value_producer:323 - Registering value pipeline child_stunting.exposure\n",
      "2020-10-02 11:47:42.588 | DEBUG    | vivarium.framework.values:_register_value_producer:323 - Registering value pipeline low_birth_weight_and_short_gestation.raw_exposure\n",
      "2020-10-02 11:47:42.590 | DEBUG    | vivarium.framework.values:_register_value_producer:323 - Registering value pipeline low_birth_weight_and_short_gestation.exposure\n",
      "2020-10-02 11:47:43.701 | DEBUG    | vivarium.framework.values:register_value_modifier:373 - Registering affected_unmodeled.csmr.1.risk_effect.risk_factor.low_birth_weight_and_short_gestation.cause.affected_unmodeled.csmr.adjust_target as modifier to affected_unmodeled.csmr\n",
      "2020-10-02 11:47:43.702 | DEBUG    | vivarium.framework.values:register_value_modifier:373 - Registering affected_unmodeled.csmr.population_attributable_fraction.1.lookup_table_81 as modifier to affected_unmodeled.csmr.population_attributable_fraction\n",
      "2020-10-02 11:47:44.637 | DEBUG    | vivarium.framework.values:register_value_modifier:373 - Registering lower_respiratory_infections.excess_mortality_rate.1.risk_effect.risk_factor.low_birth_weight_and_short_gestation.cause.lower_respiratory_infections.excess_mortality_rate.adjust_target as modifier to lower_respiratory_infections.excess_mortality_rate\n",
      "2020-10-02 11:47:44.639 | DEBUG    | vivarium.framework.values:register_value_modifier:373 - Registering lower_respiratory_infections.excess_mortality_rate.population_attributable_fraction.1.lookup_table_83 as modifier to lower_respiratory_infections.excess_mortality_rate.population_attributable_fraction\n",
      "2020-10-02 11:47:45.503 | DEBUG    | vivarium.framework.values:register_value_modifier:373 - Registering diarrheal_diseases.excess_mortality_rate.1.risk_effect.risk_factor.low_birth_weight_and_short_gestation.cause.diarrheal_diseases.excess_mortality_rate.adjust_target as modifier to diarrheal_diseases.excess_mortality_rate\n",
      "2020-10-02 11:47:45.504 | DEBUG    | vivarium.framework.values:register_value_modifier:373 - Registering diarrheal_diseases.excess_mortality_rate.population_attributable_fraction.1.lookup_table_85 as modifier to diarrheal_diseases.excess_mortality_rate.population_attributable_fraction\n",
      "2020-10-02 11:47:45.828 | DEBUG    | vivarium.framework.values:register_value_modifier:373 - Registering metrics.12.mortality_observer.metrics as modifier to metrics\n",
      "2020-10-02 11:47:45.888 | DEBUG    | vivarium.framework.values:_register_value_producer:323 - Registering value pipeline disability_weight\n",
      "2020-10-02 11:47:45.890 | DEBUG    | vivarium.framework.values:register_value_modifier:373 - Registering metrics.13.disability_observer.metrics as modifier to metrics\n",
      "2020-10-02 11:47:45.892 | DEBUG    | vivarium.framework.values:register_value_modifier:373 - Registering metrics.14.disease_observer.diarrheal_diseases.metrics as modifier to metrics\n"
     ]
    },
    {
     "name": "stderr",
     "output_type": "stream",
     "text": [
      "2020-10-02 11:47:45.894 | DEBUG    | vivarium.framework.values:register_value_modifier:373 - Registering metrics.15.disease_observer.measles.metrics as modifier to metrics\n",
      "2020-10-02 11:47:45.895 | DEBUG    | vivarium.framework.values:register_value_modifier:373 - Registering metrics.16.disease_observer.lower_respiratory_infections.metrics as modifier to metrics\n",
      "2020-10-02 11:47:45.897 | DEBUG    | vivarium.framework.values:register_value_modifier:373 - Registering metrics.17.disease_observer.protein_energy_malnutrition.metrics as modifier to metrics\n",
      "2020-10-02 11:47:45.907 | DEBUG    | vivarium.framework.values:register_value_modifier:373 - Registering metrics.18.risk_observer.child_growth_failure.metrics as modifier to metrics\n",
      "2020-10-02 11:47:45.908 | DEBUG    | vivarium.framework.values:register_value_modifier:373 - Registering metrics.19.risk_observer.low_birth_weight_and_short_gestation.metrics as modifier to metrics\n",
      "2020-10-02 11:47:45.909 | DEBUG    | vivarium.framework.values:register_value_modifier:373 - Registering metrics.20.risk.maternal_malnutrition.metrics as modifier to metrics\n",
      "2020-10-02 11:48:03.626 | DEBUG    | vivarium.framework.values:register_value_modifier:373 - Registering low_birth_weight_and_short_gestation.exposure.1.risk_effect.maternal_malnutrition.adjust_birth_weight as modifier to low_birth_weight_and_short_gestation.exposure\n",
      "2020-10-02 11:48:03.629 | DEBUG    | vivarium.framework.values:register_value_modifier:373 - Registering child_wasting.exposure.1.risk_effect.maternal_malnutrition.adjust_wasting as modifier to child_wasting.exposure\n",
      "2020-10-02 11:48:03.630 | DEBUG    | vivarium.framework.values:register_value_modifier:373 - Registering child_stunting.exposure.1.risk_effect.maternal_malnutrition.adjust_stunting as modifier to child_stunting.exposure\n",
      "2020-10-02 11:48:03.712 | DEBUG    | vivarium.framework.values:register_value_modifier:373 - Registering low_birth_weight_and_short_gestation.exposure.2.treatment_effect.maternal_supplementation.adjust_lbwsg as modifier to low_birth_weight_and_short_gestation.exposure\n",
      "2020-10-02 11:48:03.714 | DEBUG    | vivarium.framework.values:register_value_modifier:373 - Registering child_stunting.exposure.2.treatment_effect.maternal_supplementation.adjust_cgf as modifier to child_stunting.exposure\n",
      "2020-10-02 11:48:03.716 | DEBUG    | vivarium.framework.values:register_value_modifier:373 - Registering child_wasting.exposure.2.treatment_effect.maternal_supplementation.adjust_cgf as modifier to child_wasting.exposure\n",
      "2020-10-02 11:48:03.717 | DEBUG    | vivarium.framework.values:_register_value_producer:323 - Registering value pipeline metrics\n"
     ]
    }
   ],
   "source": [
    "#Define sim (use full filepath)\n",
    "\n",
    "sim_mali = InteractiveContext('/ihme/homes/nicoly/vivarium_gates_bep/src/vivarium_gates_bep/model_specifications/mali.yaml')"
   ]
  },
  {
   "cell_type": "code",
   "execution_count": 15,
   "metadata": {
    "scrolled": true
   },
   "outputs": [
    {
     "name": "stderr",
     "output_type": "stream",
     "text": [
      "2020-10-02 11:48:17.288 | DEBUG    | vivarium.framework.values:register_value_modifier:373 - Registering metrics.1.population_manager.metrics as modifier to metrics\n",
      "2020-10-02 11:48:17.315 | DEBUG    | vivarium.framework.artifact.manager:_load_artifact:66 - Running simulation from artifact located at /share/costeffectiveness/artifacts/vivarium_gates_bep/india.hdf.\n",
      "2020-10-02 11:48:17.316 | DEBUG    | vivarium.framework.artifact.manager:_load_artifact:67 - Artifact base filter terms are ['draw == 0', \"location == 'India' | location == 'Global'\"].\n",
      "2020-10-02 11:48:17.317 | DEBUG    | vivarium.framework.artifact.manager:_load_artifact:68 - Artifact additional filter terms are None.\n",
      "2020-10-02 11:48:17.946 | DEBUG    | vivarium.framework.values:_register_value_producer:323 - Registering value pipeline protein_energy_malnutrition.disability_weight\n",
      "2020-10-02 11:48:17.948 | DEBUG    | vivarium.framework.values:register_value_modifier:373 - Registering disability_weight.1.protein_energy_malnutrition.disability_weight as modifier to disability_weight\n",
      "2020-10-02 11:48:18.500 | DEBUG    | vivarium.framework.values:register_value_modifier:373 - Registering cause_specific_mortality_rate.1.risk_attributable_disease.cause.protein_energy_malnutrition.risk_factor.child_wasting.adjust_cause_specific_mortality_rate as modifier to cause_specific_mortality_rate\n",
      "2020-10-02 11:48:18.971 | DEBUG    | vivarium.framework.values:_register_value_producer:323 - Registering value pipeline protein_energy_malnutrition.excess_mortality_rate\n",
      "2020-10-02 11:48:18.972 | DEBUG    | vivarium.framework.values:_register_value_producer:323 - Registering value pipeline protein_energy_malnutrition.excess_mortality_rate.population_attributable_fraction\n",
      "2020-10-02 11:48:18.973 | DEBUG    | vivarium.framework.values:register_value_modifier:373 - Registering mortality_rate.1.risk_attributable_disease.cause.protein_energy_malnutrition.risk_factor.child_wasting.adjust_mortality_rate as modifier to mortality_rate\n",
      "2020-10-02 11:48:20.992 | DEBUG    | vivarium.framework.values:register_value_modifier:373 - Registering diarrheal_diseases.incidence_rate.1.risk_effect.risk_factor.child_wasting.cause.diarrheal_diseases.incidence_rate.adjust_target as modifier to diarrheal_diseases.incidence_rate\n",
      "2020-10-02 11:48:20.994 | DEBUG    | vivarium.framework.values:register_value_modifier:373 - Registering diarrheal_diseases.incidence_rate.paf.1.lookup_table_5 as modifier to diarrheal_diseases.incidence_rate.paf\n",
      "2020-10-02 11:48:21.625 | DEBUG    | vivarium.framework.values:register_value_modifier:373 - Registering measles.incidence_rate.1.risk_effect.risk_factor.child_wasting.cause.measles.incidence_rate.adjust_target as modifier to measles.incidence_rate\n",
      "2020-10-02 11:48:21.626 | DEBUG    | vivarium.framework.values:register_value_modifier:373 - Registering measles.incidence_rate.paf.1.lookup_table_7 as modifier to measles.incidence_rate.paf\n",
      "2020-10-02 11:48:22.235 | DEBUG    | vivarium.framework.values:register_value_modifier:373 - Registering lower_respiratory_infections.incidence_rate.1.risk_effect.risk_factor.child_wasting.cause.lower_respiratory_infections.incidence_rate.adjust_target as modifier to lower_respiratory_infections.incidence_rate\n",
      "2020-10-02 11:48:22.237 | DEBUG    | vivarium.framework.values:register_value_modifier:373 - Registering lower_respiratory_infections.incidence_rate.paf.1.lookup_table_9 as modifier to lower_respiratory_infections.incidence_rate.paf\n",
      "2020-10-02 11:48:24.050 | DEBUG    | vivarium.framework.values:register_value_modifier:373 - Registering diarrheal_diseases.incidence_rate.2.risk_effect.risk_factor.child_stunting.cause.diarrheal_diseases.incidence_rate.adjust_target as modifier to diarrheal_diseases.incidence_rate\n",
      "2020-10-02 11:48:24.051 | DEBUG    | vivarium.framework.values:register_value_modifier:373 - Registering diarrheal_diseases.incidence_rate.paf.2.lookup_table_11 as modifier to diarrheal_diseases.incidence_rate.paf\n",
      "2020-10-02 11:48:24.651 | DEBUG    | vivarium.framework.values:register_value_modifier:373 - Registering measles.incidence_rate.2.risk_effect.risk_factor.child_stunting.cause.measles.incidence_rate.adjust_target as modifier to measles.incidence_rate\n",
      "2020-10-02 11:48:24.653 | DEBUG    | vivarium.framework.values:register_value_modifier:373 - Registering measles.incidence_rate.paf.2.lookup_table_13 as modifier to measles.incidence_rate.paf\n",
      "2020-10-02 11:48:25.265 | DEBUG    | vivarium.framework.values:register_value_modifier:373 - Registering lower_respiratory_infections.incidence_rate.2.risk_effect.risk_factor.child_stunting.cause.lower_respiratory_infections.incidence_rate.adjust_target as modifier to lower_respiratory_infections.incidence_rate\n",
      "2020-10-02 11:48:25.267 | DEBUG    | vivarium.framework.values:register_value_modifier:373 - Registering lower_respiratory_infections.incidence_rate.paf.2.lookup_table_15 as modifier to lower_respiratory_infections.incidence_rate.paf\n",
      "2020-10-02 11:48:26.097 | DEBUG    | vivarium.framework.values:_register_value_producer:323 - Registering value pipeline cause_specific_mortality_rate\n",
      "2020-10-02 11:48:28.589 | DEBUG    | vivarium.framework.values:_register_value_producer:323 - Registering value pipeline affected_unmodeled.csmr\n",
      "2020-10-02 11:48:28.591 | DEBUG    | vivarium.framework.values:_register_value_producer:323 - Registering value pipeline affected_unmodeled.csmr.population_attributable_fraction\n",
      "2020-10-02 11:48:28.592 | DEBUG    | vivarium.framework.values:_register_value_producer:323 - Registering value pipeline mortality_rate\n",
      "2020-10-02 11:48:28.593 | DEBUG    | vivarium.framework.values:_register_value_producer:323 - Registering value pipeline all_causes.mortality_hazard\n",
      "2020-10-02 11:48:28.594 | DEBUG    | vivarium.framework.values:_register_value_producer:323 - Registering value pipeline all_causes.mortality_hazard.population_attributable_fraction\n",
      "2020-10-02 11:48:29.952 | DEBUG    | vivarium.framework.values:register_value_modifier:373 - Registering cause_specific_mortality_rate.2.disease_model.diarrheal_diseases.adjust_cause_specific_mortality_rate as modifier to cause_specific_mortality_rate\n",
      "2020-10-02 11:48:29.953 | DEBUG    | vivarium.framework.values:register_value_modifier:373 - Registering metrics.2.disease_model.diarrheal_diseases.metrics as modifier to metrics\n",
      "2020-10-02 11:48:29.954 | DEBUG    | vivarium.framework.values:register_value_modifier:373 - Registering metrics.3.state.susceptible_to_diarrheal_diseases.metrics as modifier to metrics\n",
      "2020-10-02 11:48:30.458 | DEBUG    | vivarium.framework.values:_register_value_producer:323 - Registering value pipeline diarrheal_diseases.incidence_rate\n",
      "2020-10-02 11:48:30.460 | DEBUG    | vivarium.framework.values:_register_value_producer:323 - Registering value pipeline diarrheal_diseases.incidence_rate.paf\n",
      "2020-10-02 11:48:30.461 | DEBUG    | vivarium.framework.values:register_value_modifier:373 - Registering metrics.4.state.diarrheal_diseases.metrics as modifier to metrics\n",
      "2020-10-02 11:48:30.965 | DEBUG    | vivarium.framework.values:_register_value_producer:323 - Registering value pipeline diarrheal_diseases.dwell_time\n",
      "2020-10-02 11:48:31.603 | DEBUG    | vivarium.framework.values:_register_value_producer:323 - Registering value pipeline diarrheal_diseases.disability_weight\n",
      "2020-10-02 11:48:31.604 | DEBUG    | vivarium.framework.values:register_value_modifier:373 - Registering disability_weight.2.diarrheal_diseases.disability_weight as modifier to disability_weight\n",
      "2020-10-02 11:48:32.089 | DEBUG    | vivarium.framework.values:_register_value_producer:323 - Registering value pipeline diarrheal_diseases.excess_mortality_rate\n",
      "2020-10-02 11:48:32.090 | DEBUG    | vivarium.framework.values:_register_value_producer:323 - Registering value pipeline diarrheal_diseases.excess_mortality_rate.population_attributable_fraction\n",
      "2020-10-02 11:48:32.091 | DEBUG    | vivarium.framework.values:register_value_modifier:373 - Registering mortality_rate.2.state.diarrheal_diseases.adjust_mortality_rate as modifier to mortality_rate\n",
      "2020-10-02 11:48:32.577 | DEBUG    | vivarium.framework.values:_register_value_producer:323 - Registering value pipeline diarrheal_diseases.remission_rate\n"
     ]
    },
    {
     "name": "stderr",
     "output_type": "stream",
     "text": [
      "2020-10-02 11:48:32.578 | DEBUG    | vivarium.framework.values:_register_value_producer:323 - Registering value pipeline diarrheal_diseases.remission_rate.paf\n",
      "2020-10-02 11:48:33.052 | DEBUG    | vivarium.framework.values:register_value_modifier:373 - Registering cause_specific_mortality_rate.3.disease_model.measles.adjust_cause_specific_mortality_rate as modifier to cause_specific_mortality_rate\n",
      "2020-10-02 11:48:33.054 | DEBUG    | vivarium.framework.values:register_value_modifier:373 - Registering metrics.5.disease_model.measles.metrics as modifier to metrics\n",
      "2020-10-02 11:48:33.055 | DEBUG    | vivarium.framework.values:register_value_modifier:373 - Registering metrics.6.state.susceptible_to_measles.metrics as modifier to metrics\n",
      "2020-10-02 11:48:33.513 | DEBUG    | vivarium.framework.values:_register_value_producer:323 - Registering value pipeline measles.incidence_rate\n",
      "2020-10-02 11:48:33.515 | DEBUG    | vivarium.framework.values:_register_value_producer:323 - Registering value pipeline measles.incidence_rate.paf\n",
      "2020-10-02 11:48:33.516 | DEBUG    | vivarium.framework.values:register_value_modifier:373 - Registering metrics.7.state.measles.metrics as modifier to metrics\n",
      "2020-10-02 11:48:34.033 | DEBUG    | vivarium.framework.values:_register_value_producer:323 - Registering value pipeline measles.dwell_time\n",
      "2020-10-02 11:48:34.484 | DEBUG    | vivarium.framework.values:_register_value_producer:323 - Registering value pipeline measles.disability_weight\n",
      "2020-10-02 11:48:34.485 | DEBUG    | vivarium.framework.values:register_value_modifier:373 - Registering disability_weight.3.measles.disability_weight as modifier to disability_weight\n",
      "2020-10-02 11:48:34.950 | DEBUG    | vivarium.framework.values:_register_value_producer:323 - Registering value pipeline measles.excess_mortality_rate\n",
      "2020-10-02 11:48:34.951 | DEBUG    | vivarium.framework.values:_register_value_producer:323 - Registering value pipeline measles.excess_mortality_rate.population_attributable_fraction\n",
      "2020-10-02 11:48:34.952 | DEBUG    | vivarium.framework.values:register_value_modifier:373 - Registering mortality_rate.3.state.measles.adjust_mortality_rate as modifier to mortality_rate\n",
      "2020-10-02 11:48:34.954 | DEBUG    | vivarium.framework.values:register_value_modifier:373 - Registering metrics.8.state.recovered_from_measles.metrics as modifier to metrics\n",
      "2020-10-02 11:48:36.183 | DEBUG    | vivarium.framework.values:register_value_modifier:373 - Registering cause_specific_mortality_rate.4.disease_model.lower_respiratory_infections.adjust_cause_specific_mortality_rate as modifier to cause_specific_mortality_rate\n",
      "2020-10-02 11:48:36.185 | DEBUG    | vivarium.framework.values:register_value_modifier:373 - Registering metrics.9.disease_model.lower_respiratory_infections.metrics as modifier to metrics\n",
      "2020-10-02 11:48:36.186 | DEBUG    | vivarium.framework.values:register_value_modifier:373 - Registering metrics.10.state.susceptible_to_lower_respiratory_infections.metrics as modifier to metrics\n",
      "2020-10-02 11:48:36.678 | DEBUG    | vivarium.framework.values:_register_value_producer:323 - Registering value pipeline lower_respiratory_infections.incidence_rate\n",
      "2020-10-02 11:48:36.679 | DEBUG    | vivarium.framework.values:_register_value_producer:323 - Registering value pipeline lower_respiratory_infections.incidence_rate.paf\n",
      "2020-10-02 11:48:36.680 | DEBUG    | vivarium.framework.values:register_value_modifier:373 - Registering metrics.11.state.lower_respiratory_infections.metrics as modifier to metrics\n",
      "2020-10-02 11:48:37.221 | DEBUG    | vivarium.framework.values:_register_value_producer:323 - Registering value pipeline lower_respiratory_infections.dwell_time\n",
      "2020-10-02 11:48:37.668 | DEBUG    | vivarium.framework.values:_register_value_producer:323 - Registering value pipeline lower_respiratory_infections.disability_weight\n",
      "2020-10-02 11:48:37.670 | DEBUG    | vivarium.framework.values:register_value_modifier:373 - Registering disability_weight.4.lower_respiratory_infections.disability_weight as modifier to disability_weight\n",
      "2020-10-02 11:48:38.138 | DEBUG    | vivarium.framework.values:_register_value_producer:323 - Registering value pipeline lower_respiratory_infections.excess_mortality_rate\n",
      "2020-10-02 11:48:38.139 | DEBUG    | vivarium.framework.values:_register_value_producer:323 - Registering value pipeline lower_respiratory_infections.excess_mortality_rate.population_attributable_fraction\n",
      "2020-10-02 11:48:38.140 | DEBUG    | vivarium.framework.values:register_value_modifier:373 - Registering mortality_rate.4.state.lower_respiratory_infections.adjust_mortality_rate as modifier to mortality_rate\n",
      "2020-10-02 11:48:38.601 | DEBUG    | vivarium.framework.values:_register_value_producer:323 - Registering value pipeline lower_respiratory_infections.remission_rate\n",
      "2020-10-02 11:48:38.602 | DEBUG    | vivarium.framework.values:_register_value_producer:323 - Registering value pipeline lower_respiratory_infections.remission_rate.paf\n",
      "2020-10-02 11:48:38.603 | DEBUG    | vivarium.framework.values:_register_value_producer:323 - Registering value pipeline child_wasting.propensity\n",
      "2020-10-02 11:48:38.604 | DEBUG    | vivarium.framework.values:_register_value_producer:323 - Registering value pipeline child_wasting.exposure\n",
      "2020-10-02 11:48:45.290 | DEBUG    | vivarium.framework.values:_register_value_producer:323 - Registering value pipeline child_stunting.propensity\n",
      "2020-10-02 11:48:45.293 | DEBUG    | vivarium.framework.values:_register_value_producer:323 - Registering value pipeline child_stunting.exposure\n",
      "2020-10-02 11:48:53.362 | DEBUG    | vivarium.framework.values:_register_value_producer:323 - Registering value pipeline low_birth_weight_and_short_gestation.raw_exposure\n",
      "2020-10-02 11:48:53.365 | DEBUG    | vivarium.framework.values:_register_value_producer:323 - Registering value pipeline low_birth_weight_and_short_gestation.exposure\n",
      "2020-10-02 11:48:54.281 | DEBUG    | vivarium.framework.values:register_value_modifier:373 - Registering affected_unmodeled.csmr.1.risk_effect.risk_factor.low_birth_weight_and_short_gestation.cause.affected_unmodeled.csmr.adjust_target as modifier to affected_unmodeled.csmr\n",
      "2020-10-02 11:48:54.283 | DEBUG    | vivarium.framework.values:register_value_modifier:373 - Registering affected_unmodeled.csmr.population_attributable_fraction.1.lookup_table_81 as modifier to affected_unmodeled.csmr.population_attributable_fraction\n",
      "2020-10-02 11:48:55.162 | DEBUG    | vivarium.framework.values:register_value_modifier:373 - Registering lower_respiratory_infections.excess_mortality_rate.1.risk_effect.risk_factor.low_birth_weight_and_short_gestation.cause.lower_respiratory_infections.excess_mortality_rate.adjust_target as modifier to lower_respiratory_infections.excess_mortality_rate\n",
      "2020-10-02 11:48:55.163 | DEBUG    | vivarium.framework.values:register_value_modifier:373 - Registering lower_respiratory_infections.excess_mortality_rate.population_attributable_fraction.1.lookup_table_83 as modifier to lower_respiratory_infections.excess_mortality_rate.population_attributable_fraction\n",
      "2020-10-02 11:48:56.033 | DEBUG    | vivarium.framework.values:register_value_modifier:373 - Registering diarrheal_diseases.excess_mortality_rate.1.risk_effect.risk_factor.low_birth_weight_and_short_gestation.cause.diarrheal_diseases.excess_mortality_rate.adjust_target as modifier to diarrheal_diseases.excess_mortality_rate\n",
      "2020-10-02 11:48:56.034 | DEBUG    | vivarium.framework.values:register_value_modifier:373 - Registering diarrheal_diseases.excess_mortality_rate.population_attributable_fraction.1.lookup_table_85 as modifier to diarrheal_diseases.excess_mortality_rate.population_attributable_fraction\n",
      "2020-10-02 11:48:56.390 | DEBUG    | vivarium.framework.values:register_value_modifier:373 - Registering metrics.12.mortality_observer.metrics as modifier to metrics\n",
      "2020-10-02 11:48:56.450 | DEBUG    | vivarium.framework.values:_register_value_producer:323 - Registering value pipeline disability_weight\n",
      "2020-10-02 11:48:56.452 | DEBUG    | vivarium.framework.values:register_value_modifier:373 - Registering metrics.13.disability_observer.metrics as modifier to metrics\n",
      "2020-10-02 11:48:56.454 | DEBUG    | vivarium.framework.values:register_value_modifier:373 - Registering metrics.14.disease_observer.diarrheal_diseases.metrics as modifier to metrics\n"
     ]
    },
    {
     "name": "stderr",
     "output_type": "stream",
     "text": [
      "2020-10-02 11:48:56.455 | DEBUG    | vivarium.framework.values:register_value_modifier:373 - Registering metrics.15.disease_observer.measles.metrics as modifier to metrics\n",
      "2020-10-02 11:48:56.457 | DEBUG    | vivarium.framework.values:register_value_modifier:373 - Registering metrics.16.disease_observer.lower_respiratory_infections.metrics as modifier to metrics\n",
      "2020-10-02 11:48:56.458 | DEBUG    | vivarium.framework.values:register_value_modifier:373 - Registering metrics.17.disease_observer.protein_energy_malnutrition.metrics as modifier to metrics\n",
      "2020-10-02 11:48:56.459 | DEBUG    | vivarium.framework.values:register_value_modifier:373 - Registering metrics.18.risk_observer.child_growth_failure.metrics as modifier to metrics\n",
      "2020-10-02 11:48:56.460 | DEBUG    | vivarium.framework.values:register_value_modifier:373 - Registering metrics.19.risk_observer.low_birth_weight_and_short_gestation.metrics as modifier to metrics\n",
      "2020-10-02 11:48:56.461 | DEBUG    | vivarium.framework.values:register_value_modifier:373 - Registering metrics.20.risk.maternal_malnutrition.metrics as modifier to metrics\n",
      "2020-10-02 11:49:13.539 | DEBUG    | vivarium.framework.values:register_value_modifier:373 - Registering low_birth_weight_and_short_gestation.exposure.1.risk_effect.maternal_malnutrition.adjust_birth_weight as modifier to low_birth_weight_and_short_gestation.exposure\n",
      "2020-10-02 11:49:13.541 | DEBUG    | vivarium.framework.values:register_value_modifier:373 - Registering child_wasting.exposure.1.risk_effect.maternal_malnutrition.adjust_wasting as modifier to child_wasting.exposure\n",
      "2020-10-02 11:49:13.542 | DEBUG    | vivarium.framework.values:register_value_modifier:373 - Registering child_stunting.exposure.1.risk_effect.maternal_malnutrition.adjust_stunting as modifier to child_stunting.exposure\n",
      "2020-10-02 11:49:13.622 | DEBUG    | vivarium.framework.values:register_value_modifier:373 - Registering low_birth_weight_and_short_gestation.exposure.2.treatment_effect.maternal_supplementation.adjust_lbwsg as modifier to low_birth_weight_and_short_gestation.exposure\n",
      "2020-10-02 11:49:13.624 | DEBUG    | vivarium.framework.values:register_value_modifier:373 - Registering child_stunting.exposure.2.treatment_effect.maternal_supplementation.adjust_cgf as modifier to child_stunting.exposure\n",
      "2020-10-02 11:49:13.625 | DEBUG    | vivarium.framework.values:register_value_modifier:373 - Registering child_wasting.exposure.2.treatment_effect.maternal_supplementation.adjust_cgf as modifier to child_wasting.exposure\n",
      "2020-10-02 11:49:13.626 | DEBUG    | vivarium.framework.values:_register_value_producer:323 - Registering value pipeline metrics\n"
     ]
    }
   ],
   "source": [
    "#Define sim (use full filepath)\n",
    "\n",
    "sim_india = InteractiveContext('/ihme/homes/nicoly/vivarium_gates_bep/src/vivarium_gates_bep/model_specifications/india.yaml') #gives model before time-steps"
   ]
  },
  {
   "cell_type": "code",
   "execution_count": 16,
   "metadata": {},
   "outputs": [
    {
     "name": "stderr",
     "output_type": "stream",
     "text": [
      "2020-10-02 11:49:27.235 | DEBUG    | vivarium.framework.values:register_value_modifier:373 - Registering metrics.1.population_manager.metrics as modifier to metrics\n",
      "2020-10-02 11:49:27.244 | DEBUG    | vivarium.framework.artifact.manager:_load_artifact:66 - Running simulation from artifact located at /share/costeffectiveness/artifacts/vivarium_gates_bep/pakistan.hdf.\n",
      "2020-10-02 11:49:27.245 | DEBUG    | vivarium.framework.artifact.manager:_load_artifact:67 - Artifact base filter terms are ['draw == 0', \"location == 'Pakistan' | location == 'Global'\"].\n",
      "2020-10-02 11:49:27.246 | DEBUG    | vivarium.framework.artifact.manager:_load_artifact:68 - Artifact additional filter terms are None.\n",
      "2020-10-02 11:49:27.850 | DEBUG    | vivarium.framework.values:_register_value_producer:323 - Registering value pipeline protein_energy_malnutrition.disability_weight\n",
      "2020-10-02 11:49:27.853 | DEBUG    | vivarium.framework.values:register_value_modifier:373 - Registering disability_weight.1.protein_energy_malnutrition.disability_weight as modifier to disability_weight\n",
      "2020-10-02 11:49:28.438 | DEBUG    | vivarium.framework.values:register_value_modifier:373 - Registering cause_specific_mortality_rate.1.risk_attributable_disease.cause.protein_energy_malnutrition.risk_factor.child_wasting.adjust_cause_specific_mortality_rate as modifier to cause_specific_mortality_rate\n",
      "2020-10-02 11:49:28.924 | DEBUG    | vivarium.framework.values:_register_value_producer:323 - Registering value pipeline protein_energy_malnutrition.excess_mortality_rate\n",
      "2020-10-02 11:49:28.926 | DEBUG    | vivarium.framework.values:_register_value_producer:323 - Registering value pipeline protein_energy_malnutrition.excess_mortality_rate.population_attributable_fraction\n",
      "2020-10-02 11:49:28.927 | DEBUG    | vivarium.framework.values:register_value_modifier:373 - Registering mortality_rate.1.risk_attributable_disease.cause.protein_energy_malnutrition.risk_factor.child_wasting.adjust_mortality_rate as modifier to mortality_rate\n",
      "2020-10-02 11:49:30.896 | DEBUG    | vivarium.framework.values:register_value_modifier:373 - Registering diarrheal_diseases.incidence_rate.1.risk_effect.risk_factor.child_wasting.cause.diarrheal_diseases.incidence_rate.adjust_target as modifier to diarrheal_diseases.incidence_rate\n",
      "2020-10-02 11:49:30.899 | DEBUG    | vivarium.framework.values:register_value_modifier:373 - Registering diarrheal_diseases.incidence_rate.paf.1.lookup_table_5 as modifier to diarrheal_diseases.incidence_rate.paf\n",
      "2020-10-02 11:49:31.510 | DEBUG    | vivarium.framework.values:register_value_modifier:373 - Registering measles.incidence_rate.1.risk_effect.risk_factor.child_wasting.cause.measles.incidence_rate.adjust_target as modifier to measles.incidence_rate\n",
      "2020-10-02 11:49:31.511 | DEBUG    | vivarium.framework.values:register_value_modifier:373 - Registering measles.incidence_rate.paf.1.lookup_table_7 as modifier to measles.incidence_rate.paf\n",
      "2020-10-02 11:49:32.124 | DEBUG    | vivarium.framework.values:register_value_modifier:373 - Registering lower_respiratory_infections.incidence_rate.1.risk_effect.risk_factor.child_wasting.cause.lower_respiratory_infections.incidence_rate.adjust_target as modifier to lower_respiratory_infections.incidence_rate\n",
      "2020-10-02 11:49:32.125 | DEBUG    | vivarium.framework.values:register_value_modifier:373 - Registering lower_respiratory_infections.incidence_rate.paf.1.lookup_table_9 as modifier to lower_respiratory_infections.incidence_rate.paf\n",
      "2020-10-02 11:49:33.924 | DEBUG    | vivarium.framework.values:register_value_modifier:373 - Registering diarrheal_diseases.incidence_rate.2.risk_effect.risk_factor.child_stunting.cause.diarrheal_diseases.incidence_rate.adjust_target as modifier to diarrheal_diseases.incidence_rate\n",
      "2020-10-02 11:49:33.927 | DEBUG    | vivarium.framework.values:register_value_modifier:373 - Registering diarrheal_diseases.incidence_rate.paf.2.lookup_table_11 as modifier to diarrheal_diseases.incidence_rate.paf\n",
      "2020-10-02 11:49:34.532 | DEBUG    | vivarium.framework.values:register_value_modifier:373 - Registering measles.incidence_rate.2.risk_effect.risk_factor.child_stunting.cause.measles.incidence_rate.adjust_target as modifier to measles.incidence_rate\n",
      "2020-10-02 11:49:34.533 | DEBUG    | vivarium.framework.values:register_value_modifier:373 - Registering measles.incidence_rate.paf.2.lookup_table_13 as modifier to measles.incidence_rate.paf\n",
      "2020-10-02 11:49:35.135 | DEBUG    | vivarium.framework.values:register_value_modifier:373 - Registering lower_respiratory_infections.incidence_rate.2.risk_effect.risk_factor.child_stunting.cause.lower_respiratory_infections.incidence_rate.adjust_target as modifier to lower_respiratory_infections.incidence_rate\n",
      "2020-10-02 11:49:35.137 | DEBUG    | vivarium.framework.values:register_value_modifier:373 - Registering lower_respiratory_infections.incidence_rate.paf.2.lookup_table_15 as modifier to lower_respiratory_infections.incidence_rate.paf\n",
      "2020-10-02 11:49:35.796 | DEBUG    | vivarium.framework.values:_register_value_producer:323 - Registering value pipeline cause_specific_mortality_rate\n",
      "2020-10-02 11:49:38.457 | DEBUG    | vivarium.framework.values:_register_value_producer:323 - Registering value pipeline affected_unmodeled.csmr\n",
      "2020-10-02 11:49:38.460 | DEBUG    | vivarium.framework.values:_register_value_producer:323 - Registering value pipeline affected_unmodeled.csmr.population_attributable_fraction\n",
      "2020-10-02 11:49:38.461 | DEBUG    | vivarium.framework.values:_register_value_producer:323 - Registering value pipeline mortality_rate\n",
      "2020-10-02 11:49:38.462 | DEBUG    | vivarium.framework.values:_register_value_producer:323 - Registering value pipeline all_causes.mortality_hazard\n",
      "2020-10-02 11:49:38.463 | DEBUG    | vivarium.framework.values:_register_value_producer:323 - Registering value pipeline all_causes.mortality_hazard.population_attributable_fraction\n",
      "2020-10-02 11:49:39.441 | DEBUG    | vivarium.framework.values:register_value_modifier:373 - Registering cause_specific_mortality_rate.2.disease_model.diarrheal_diseases.adjust_cause_specific_mortality_rate as modifier to cause_specific_mortality_rate\n",
      "2020-10-02 11:49:39.442 | DEBUG    | vivarium.framework.values:register_value_modifier:373 - Registering metrics.2.disease_model.diarrheal_diseases.metrics as modifier to metrics\n",
      "2020-10-02 11:49:39.443 | DEBUG    | vivarium.framework.values:register_value_modifier:373 - Registering metrics.3.state.susceptible_to_diarrheal_diseases.metrics as modifier to metrics\n",
      "2020-10-02 11:49:39.926 | DEBUG    | vivarium.framework.values:_register_value_producer:323 - Registering value pipeline diarrheal_diseases.incidence_rate\n",
      "2020-10-02 11:49:39.927 | DEBUG    | vivarium.framework.values:_register_value_producer:323 - Registering value pipeline diarrheal_diseases.incidence_rate.paf\n",
      "2020-10-02 11:49:39.929 | DEBUG    | vivarium.framework.values:register_value_modifier:373 - Registering metrics.4.state.diarrheal_diseases.metrics as modifier to metrics\n",
      "2020-10-02 11:49:40.403 | DEBUG    | vivarium.framework.values:_register_value_producer:323 - Registering value pipeline diarrheal_diseases.dwell_time\n",
      "2020-10-02 11:49:41.198 | DEBUG    | vivarium.framework.values:_register_value_producer:323 - Registering value pipeline diarrheal_diseases.disability_weight\n",
      "2020-10-02 11:49:41.200 | DEBUG    | vivarium.framework.values:register_value_modifier:373 - Registering disability_weight.2.diarrheal_diseases.disability_weight as modifier to disability_weight\n",
      "2020-10-02 11:49:41.683 | DEBUG    | vivarium.framework.values:_register_value_producer:323 - Registering value pipeline diarrheal_diseases.excess_mortality_rate\n",
      "2020-10-02 11:49:41.684 | DEBUG    | vivarium.framework.values:_register_value_producer:323 - Registering value pipeline diarrheal_diseases.excess_mortality_rate.population_attributable_fraction\n",
      "2020-10-02 11:49:41.685 | DEBUG    | vivarium.framework.values:register_value_modifier:373 - Registering mortality_rate.2.state.diarrheal_diseases.adjust_mortality_rate as modifier to mortality_rate\n",
      "2020-10-02 11:49:42.169 | DEBUG    | vivarium.framework.values:_register_value_producer:323 - Registering value pipeline diarrheal_diseases.remission_rate\n"
     ]
    },
    {
     "name": "stderr",
     "output_type": "stream",
     "text": [
      "2020-10-02 11:49:42.170 | DEBUG    | vivarium.framework.values:_register_value_producer:323 - Registering value pipeline diarrheal_diseases.remission_rate.paf\n",
      "2020-10-02 11:49:42.645 | DEBUG    | vivarium.framework.values:register_value_modifier:373 - Registering cause_specific_mortality_rate.3.disease_model.measles.adjust_cause_specific_mortality_rate as modifier to cause_specific_mortality_rate\n",
      "2020-10-02 11:49:42.646 | DEBUG    | vivarium.framework.values:register_value_modifier:373 - Registering metrics.5.disease_model.measles.metrics as modifier to metrics\n",
      "2020-10-02 11:49:42.648 | DEBUG    | vivarium.framework.values:register_value_modifier:373 - Registering metrics.6.state.susceptible_to_measles.metrics as modifier to metrics\n",
      "2020-10-02 11:49:43.099 | DEBUG    | vivarium.framework.values:_register_value_producer:323 - Registering value pipeline measles.incidence_rate\n",
      "2020-10-02 11:49:43.100 | DEBUG    | vivarium.framework.values:_register_value_producer:323 - Registering value pipeline measles.incidence_rate.paf\n",
      "2020-10-02 11:49:43.101 | DEBUG    | vivarium.framework.values:register_value_modifier:373 - Registering metrics.7.state.measles.metrics as modifier to metrics\n",
      "2020-10-02 11:49:43.556 | DEBUG    | vivarium.framework.values:_register_value_producer:323 - Registering value pipeline measles.dwell_time\n",
      "2020-10-02 11:49:44.003 | DEBUG    | vivarium.framework.values:_register_value_producer:323 - Registering value pipeline measles.disability_weight\n",
      "2020-10-02 11:49:44.005 | DEBUG    | vivarium.framework.values:register_value_modifier:373 - Registering disability_weight.3.measles.disability_weight as modifier to disability_weight\n",
      "2020-10-02 11:49:44.466 | DEBUG    | vivarium.framework.values:_register_value_producer:323 - Registering value pipeline measles.excess_mortality_rate\n",
      "2020-10-02 11:49:44.468 | DEBUG    | vivarium.framework.values:_register_value_producer:323 - Registering value pipeline measles.excess_mortality_rate.population_attributable_fraction\n",
      "2020-10-02 11:49:44.469 | DEBUG    | vivarium.framework.values:register_value_modifier:373 - Registering mortality_rate.3.state.measles.adjust_mortality_rate as modifier to mortality_rate\n",
      "2020-10-02 11:49:44.470 | DEBUG    | vivarium.framework.values:register_value_modifier:373 - Registering metrics.8.state.recovered_from_measles.metrics as modifier to metrics\n",
      "2020-10-02 11:49:45.447 | DEBUG    | vivarium.framework.values:register_value_modifier:373 - Registering cause_specific_mortality_rate.4.disease_model.lower_respiratory_infections.adjust_cause_specific_mortality_rate as modifier to cause_specific_mortality_rate\n",
      "2020-10-02 11:49:45.449 | DEBUG    | vivarium.framework.values:register_value_modifier:373 - Registering metrics.9.disease_model.lower_respiratory_infections.metrics as modifier to metrics\n",
      "2020-10-02 11:49:45.451 | DEBUG    | vivarium.framework.values:register_value_modifier:373 - Registering metrics.10.state.susceptible_to_lower_respiratory_infections.metrics as modifier to metrics\n",
      "2020-10-02 11:49:45.936 | DEBUG    | vivarium.framework.values:_register_value_producer:323 - Registering value pipeline lower_respiratory_infections.incidence_rate\n",
      "2020-10-02 11:49:45.937 | DEBUG    | vivarium.framework.values:_register_value_producer:323 - Registering value pipeline lower_respiratory_infections.incidence_rate.paf\n",
      "2020-10-02 11:49:45.938 | DEBUG    | vivarium.framework.values:register_value_modifier:373 - Registering metrics.11.state.lower_respiratory_infections.metrics as modifier to metrics\n",
      "2020-10-02 11:49:46.482 | DEBUG    | vivarium.framework.values:_register_value_producer:323 - Registering value pipeline lower_respiratory_infections.dwell_time\n",
      "2020-10-02 11:49:47.251 | DEBUG    | vivarium.framework.values:_register_value_producer:323 - Registering value pipeline lower_respiratory_infections.disability_weight\n",
      "2020-10-02 11:49:47.252 | DEBUG    | vivarium.framework.values:register_value_modifier:373 - Registering disability_weight.4.lower_respiratory_infections.disability_weight as modifier to disability_weight\n",
      "2020-10-02 11:49:47.736 | DEBUG    | vivarium.framework.values:_register_value_producer:323 - Registering value pipeline lower_respiratory_infections.excess_mortality_rate\n",
      "2020-10-02 11:49:47.737 | DEBUG    | vivarium.framework.values:_register_value_producer:323 - Registering value pipeline lower_respiratory_infections.excess_mortality_rate.population_attributable_fraction\n",
      "2020-10-02 11:49:47.738 | DEBUG    | vivarium.framework.values:register_value_modifier:373 - Registering mortality_rate.4.state.lower_respiratory_infections.adjust_mortality_rate as modifier to mortality_rate\n",
      "2020-10-02 11:49:48.195 | DEBUG    | vivarium.framework.values:_register_value_producer:323 - Registering value pipeline lower_respiratory_infections.remission_rate\n",
      "2020-10-02 11:49:48.196 | DEBUG    | vivarium.framework.values:_register_value_producer:323 - Registering value pipeline lower_respiratory_infections.remission_rate.paf\n",
      "2020-10-02 11:49:48.197 | DEBUG    | vivarium.framework.values:_register_value_producer:323 - Registering value pipeline child_wasting.propensity\n",
      "2020-10-02 11:49:48.198 | DEBUG    | vivarium.framework.values:_register_value_producer:323 - Registering value pipeline child_wasting.exposure\n",
      "2020-10-02 11:49:54.745 | DEBUG    | vivarium.framework.values:_register_value_producer:323 - Registering value pipeline child_stunting.propensity\n",
      "2020-10-02 11:49:54.746 | DEBUG    | vivarium.framework.values:_register_value_producer:323 - Registering value pipeline child_stunting.exposure\n",
      "/share/code/nicoly/miniconda/envs/gates_bep/lib/python3.6/site-packages/risk_distributions/risk_distributions.py:416: RuntimeWarning: overflow encountered in double_scalars\n",
      "  return (m - mean_guess) ** 2 + (s ** 2 - var_guess) ** 2\n",
      "2020-10-02 11:50:03.034 | DEBUG    | vivarium.framework.values:_register_value_producer:323 - Registering value pipeline low_birth_weight_and_short_gestation.raw_exposure\n",
      "2020-10-02 11:50:03.036 | DEBUG    | vivarium.framework.values:_register_value_producer:323 - Registering value pipeline low_birth_weight_and_short_gestation.exposure\n",
      "2020-10-02 11:50:04.297 | DEBUG    | vivarium.framework.values:register_value_modifier:373 - Registering affected_unmodeled.csmr.1.risk_effect.risk_factor.low_birth_weight_and_short_gestation.cause.affected_unmodeled.csmr.adjust_target as modifier to affected_unmodeled.csmr\n",
      "2020-10-02 11:50:04.299 | DEBUG    | vivarium.framework.values:register_value_modifier:373 - Registering affected_unmodeled.csmr.population_attributable_fraction.1.lookup_table_81 as modifier to affected_unmodeled.csmr.population_attributable_fraction\n",
      "2020-10-02 11:50:05.178 | DEBUG    | vivarium.framework.values:register_value_modifier:373 - Registering lower_respiratory_infections.excess_mortality_rate.1.risk_effect.risk_factor.low_birth_weight_and_short_gestation.cause.lower_respiratory_infections.excess_mortality_rate.adjust_target as modifier to lower_respiratory_infections.excess_mortality_rate\n",
      "2020-10-02 11:50:05.180 | DEBUG    | vivarium.framework.values:register_value_modifier:373 - Registering lower_respiratory_infections.excess_mortality_rate.population_attributable_fraction.1.lookup_table_83 as modifier to lower_respiratory_infections.excess_mortality_rate.population_attributable_fraction\n",
      "2020-10-02 11:50:06.021 | DEBUG    | vivarium.framework.values:register_value_modifier:373 - Registering diarrheal_diseases.excess_mortality_rate.1.risk_effect.risk_factor.low_birth_weight_and_short_gestation.cause.diarrheal_diseases.excess_mortality_rate.adjust_target as modifier to diarrheal_diseases.excess_mortality_rate\n",
      "2020-10-02 11:50:06.023 | DEBUG    | vivarium.framework.values:register_value_modifier:373 - Registering diarrheal_diseases.excess_mortality_rate.population_attributable_fraction.1.lookup_table_85 as modifier to diarrheal_diseases.excess_mortality_rate.population_attributable_fraction\n",
      "2020-10-02 11:50:06.402 | DEBUG    | vivarium.framework.values:register_value_modifier:373 - Registering metrics.12.mortality_observer.metrics as modifier to metrics\n",
      "2020-10-02 11:50:06.487 | DEBUG    | vivarium.framework.values:_register_value_producer:323 - Registering value pipeline disability_weight\n"
     ]
    },
    {
     "name": "stderr",
     "output_type": "stream",
     "text": [
      "2020-10-02 11:50:06.489 | DEBUG    | vivarium.framework.values:register_value_modifier:373 - Registering metrics.13.disability_observer.metrics as modifier to metrics\n",
      "2020-10-02 11:50:06.491 | DEBUG    | vivarium.framework.values:register_value_modifier:373 - Registering metrics.14.disease_observer.diarrheal_diseases.metrics as modifier to metrics\n",
      "2020-10-02 11:50:06.493 | DEBUG    | vivarium.framework.values:register_value_modifier:373 - Registering metrics.15.disease_observer.measles.metrics as modifier to metrics\n",
      "2020-10-02 11:50:06.494 | DEBUG    | vivarium.framework.values:register_value_modifier:373 - Registering metrics.16.disease_observer.lower_respiratory_infections.metrics as modifier to metrics\n",
      "2020-10-02 11:50:06.496 | DEBUG    | vivarium.framework.values:register_value_modifier:373 - Registering metrics.17.disease_observer.protein_energy_malnutrition.metrics as modifier to metrics\n",
      "2020-10-02 11:50:06.497 | DEBUG    | vivarium.framework.values:register_value_modifier:373 - Registering metrics.18.risk_observer.child_growth_failure.metrics as modifier to metrics\n",
      "2020-10-02 11:50:06.507 | DEBUG    | vivarium.framework.values:register_value_modifier:373 - Registering metrics.19.risk_observer.low_birth_weight_and_short_gestation.metrics as modifier to metrics\n",
      "2020-10-02 11:50:06.509 | DEBUG    | vivarium.framework.values:register_value_modifier:373 - Registering metrics.20.risk.maternal_malnutrition.metrics as modifier to metrics\n",
      "2020-10-02 11:50:23.914 | DEBUG    | vivarium.framework.values:register_value_modifier:373 - Registering low_birth_weight_and_short_gestation.exposure.1.risk_effect.maternal_malnutrition.adjust_birth_weight as modifier to low_birth_weight_and_short_gestation.exposure\n",
      "2020-10-02 11:50:23.917 | DEBUG    | vivarium.framework.values:register_value_modifier:373 - Registering child_wasting.exposure.1.risk_effect.maternal_malnutrition.adjust_wasting as modifier to child_wasting.exposure\n",
      "2020-10-02 11:50:23.918 | DEBUG    | vivarium.framework.values:register_value_modifier:373 - Registering child_stunting.exposure.1.risk_effect.maternal_malnutrition.adjust_stunting as modifier to child_stunting.exposure\n",
      "2020-10-02 11:50:23.986 | DEBUG    | vivarium.framework.values:register_value_modifier:373 - Registering low_birth_weight_and_short_gestation.exposure.2.treatment_effect.maternal_supplementation.adjust_lbwsg as modifier to low_birth_weight_and_short_gestation.exposure\n",
      "2020-10-02 11:50:23.988 | DEBUG    | vivarium.framework.values:register_value_modifier:373 - Registering child_stunting.exposure.2.treatment_effect.maternal_supplementation.adjust_cgf as modifier to child_stunting.exposure\n",
      "2020-10-02 11:50:23.989 | DEBUG    | vivarium.framework.values:register_value_modifier:373 - Registering child_wasting.exposure.2.treatment_effect.maternal_supplementation.adjust_cgf as modifier to child_wasting.exposure\n",
      "2020-10-02 11:50:23.990 | DEBUG    | vivarium.framework.values:_register_value_producer:323 - Registering value pipeline metrics\n"
     ]
    }
   ],
   "source": [
    "#Define sim (use full filepath)\n",
    "\n",
    "sim_pakistan = InteractiveContext('/ihme/homes/nicoly/vivarium_gates_bep/src/vivarium_gates_bep/model_specifications/pakistan.yaml') #gives model before time-steps"
   ]
  },
  {
   "cell_type": "code",
   "execution_count": 17,
   "metadata": {},
   "outputs": [
    {
     "name": "stderr",
     "output_type": "stream",
     "text": [
      "2020-10-02 11:50:37.824 | DEBUG    | vivarium.framework.values:register_value_modifier:373 - Registering metrics.1.population_manager.metrics as modifier to metrics\n",
      "2020-10-02 11:50:37.833 | DEBUG    | vivarium.framework.artifact.manager:_load_artifact:66 - Running simulation from artifact located at /share/costeffectiveness/artifacts/vivarium_gates_bep/tanzania.hdf.\n",
      "2020-10-02 11:50:37.835 | DEBUG    | vivarium.framework.artifact.manager:_load_artifact:67 - Artifact base filter terms are ['draw == 0', \"location == 'Tanzania' | location == 'Global'\"].\n",
      "2020-10-02 11:50:37.836 | DEBUG    | vivarium.framework.artifact.manager:_load_artifact:68 - Artifact additional filter terms are None.\n",
      "2020-10-02 11:50:38.593 | DEBUG    | vivarium.framework.values:_register_value_producer:323 - Registering value pipeline protein_energy_malnutrition.disability_weight\n",
      "2020-10-02 11:50:38.595 | DEBUG    | vivarium.framework.values:register_value_modifier:373 - Registering disability_weight.1.protein_energy_malnutrition.disability_weight as modifier to disability_weight\n",
      "2020-10-02 11:50:39.309 | DEBUG    | vivarium.framework.values:register_value_modifier:373 - Registering cause_specific_mortality_rate.1.risk_attributable_disease.cause.protein_energy_malnutrition.risk_factor.child_wasting.adjust_cause_specific_mortality_rate as modifier to cause_specific_mortality_rate\n",
      "2020-10-02 11:50:39.783 | DEBUG    | vivarium.framework.values:_register_value_producer:323 - Registering value pipeline protein_energy_malnutrition.excess_mortality_rate\n",
      "2020-10-02 11:50:39.785 | DEBUG    | vivarium.framework.values:_register_value_producer:323 - Registering value pipeline protein_energy_malnutrition.excess_mortality_rate.population_attributable_fraction\n",
      "2020-10-02 11:50:39.786 | DEBUG    | vivarium.framework.values:register_value_modifier:373 - Registering mortality_rate.1.risk_attributable_disease.cause.protein_energy_malnutrition.risk_factor.child_wasting.adjust_mortality_rate as modifier to mortality_rate\n",
      "2020-10-02 11:50:42.276 | DEBUG    | vivarium.framework.values:register_value_modifier:373 - Registering diarrheal_diseases.incidence_rate.1.risk_effect.risk_factor.child_wasting.cause.diarrheal_diseases.incidence_rate.adjust_target as modifier to diarrheal_diseases.incidence_rate\n",
      "2020-10-02 11:50:42.277 | DEBUG    | vivarium.framework.values:register_value_modifier:373 - Registering diarrheal_diseases.incidence_rate.paf.1.lookup_table_5 as modifier to diarrheal_diseases.incidence_rate.paf\n",
      "2020-10-02 11:50:42.908 | DEBUG    | vivarium.framework.values:register_value_modifier:373 - Registering measles.incidence_rate.1.risk_effect.risk_factor.child_wasting.cause.measles.incidence_rate.adjust_target as modifier to measles.incidence_rate\n",
      "2020-10-02 11:50:42.910 | DEBUG    | vivarium.framework.values:register_value_modifier:373 - Registering measles.incidence_rate.paf.1.lookup_table_7 as modifier to measles.incidence_rate.paf\n",
      "2020-10-02 11:50:43.541 | DEBUG    | vivarium.framework.values:register_value_modifier:373 - Registering lower_respiratory_infections.incidence_rate.1.risk_effect.risk_factor.child_wasting.cause.lower_respiratory_infections.incidence_rate.adjust_target as modifier to lower_respiratory_infections.incidence_rate\n",
      "2020-10-02 11:50:43.542 | DEBUG    | vivarium.framework.values:register_value_modifier:373 - Registering lower_respiratory_infections.incidence_rate.paf.1.lookup_table_9 as modifier to lower_respiratory_infections.incidence_rate.paf\n",
      "2020-10-02 11:50:45.355 | DEBUG    | vivarium.framework.values:register_value_modifier:373 - Registering diarrheal_diseases.incidence_rate.2.risk_effect.risk_factor.child_stunting.cause.diarrheal_diseases.incidence_rate.adjust_target as modifier to diarrheal_diseases.incidence_rate\n",
      "2020-10-02 11:50:45.357 | DEBUG    | vivarium.framework.values:register_value_modifier:373 - Registering diarrheal_diseases.incidence_rate.paf.2.lookup_table_11 as modifier to diarrheal_diseases.incidence_rate.paf\n",
      "2020-10-02 11:50:45.984 | DEBUG    | vivarium.framework.values:register_value_modifier:373 - Registering measles.incidence_rate.2.risk_effect.risk_factor.child_stunting.cause.measles.incidence_rate.adjust_target as modifier to measles.incidence_rate\n",
      "2020-10-02 11:50:45.986 | DEBUG    | vivarium.framework.values:register_value_modifier:373 - Registering measles.incidence_rate.paf.2.lookup_table_13 as modifier to measles.incidence_rate.paf\n",
      "2020-10-02 11:50:46.630 | DEBUG    | vivarium.framework.values:register_value_modifier:373 - Registering lower_respiratory_infections.incidence_rate.2.risk_effect.risk_factor.child_stunting.cause.lower_respiratory_infections.incidence_rate.adjust_target as modifier to lower_respiratory_infections.incidence_rate\n",
      "2020-10-02 11:50:46.631 | DEBUG    | vivarium.framework.values:register_value_modifier:373 - Registering lower_respiratory_infections.incidence_rate.paf.2.lookup_table_15 as modifier to lower_respiratory_infections.incidence_rate.paf\n",
      "2020-10-02 11:50:47.324 | DEBUG    | vivarium.framework.values:_register_value_producer:323 - Registering value pipeline cause_specific_mortality_rate\n",
      "2020-10-02 11:50:49.791 | DEBUG    | vivarium.framework.values:_register_value_producer:323 - Registering value pipeline affected_unmodeled.csmr\n",
      "2020-10-02 11:50:49.793 | DEBUG    | vivarium.framework.values:_register_value_producer:323 - Registering value pipeline affected_unmodeled.csmr.population_attributable_fraction\n",
      "2020-10-02 11:50:49.794 | DEBUG    | vivarium.framework.values:_register_value_producer:323 - Registering value pipeline mortality_rate\n",
      "2020-10-02 11:50:49.795 | DEBUG    | vivarium.framework.values:_register_value_producer:323 - Registering value pipeline all_causes.mortality_hazard\n",
      "2020-10-02 11:50:49.796 | DEBUG    | vivarium.framework.values:_register_value_producer:323 - Registering value pipeline all_causes.mortality_hazard.population_attributable_fraction\n",
      "2020-10-02 11:50:50.727 | DEBUG    | vivarium.framework.values:register_value_modifier:373 - Registering cause_specific_mortality_rate.2.disease_model.diarrheal_diseases.adjust_cause_specific_mortality_rate as modifier to cause_specific_mortality_rate\n",
      "2020-10-02 11:50:50.729 | DEBUG    | vivarium.framework.values:register_value_modifier:373 - Registering metrics.2.disease_model.diarrheal_diseases.metrics as modifier to metrics\n",
      "2020-10-02 11:50:50.731 | DEBUG    | vivarium.framework.values:register_value_modifier:373 - Registering metrics.3.state.susceptible_to_diarrheal_diseases.metrics as modifier to metrics\n",
      "2020-10-02 11:50:51.208 | DEBUG    | vivarium.framework.values:_register_value_producer:323 - Registering value pipeline diarrheal_diseases.incidence_rate\n",
      "2020-10-02 11:50:51.210 | DEBUG    | vivarium.framework.values:_register_value_producer:323 - Registering value pipeline diarrheal_diseases.incidence_rate.paf\n",
      "2020-10-02 11:50:51.211 | DEBUG    | vivarium.framework.values:register_value_modifier:373 - Registering metrics.4.state.diarrheal_diseases.metrics as modifier to metrics\n",
      "2020-10-02 11:50:51.692 | DEBUG    | vivarium.framework.values:_register_value_producer:323 - Registering value pipeline diarrheal_diseases.dwell_time\n",
      "2020-10-02 11:50:52.510 | DEBUG    | vivarium.framework.values:_register_value_producer:323 - Registering value pipeline diarrheal_diseases.disability_weight\n",
      "2020-10-02 11:50:52.512 | DEBUG    | vivarium.framework.values:register_value_modifier:373 - Registering disability_weight.2.diarrheal_diseases.disability_weight as modifier to disability_weight\n",
      "2020-10-02 11:50:52.988 | DEBUG    | vivarium.framework.values:_register_value_producer:323 - Registering value pipeline diarrheal_diseases.excess_mortality_rate\n",
      "2020-10-02 11:50:52.989 | DEBUG    | vivarium.framework.values:_register_value_producer:323 - Registering value pipeline diarrheal_diseases.excess_mortality_rate.population_attributable_fraction\n",
      "2020-10-02 11:50:52.990 | DEBUG    | vivarium.framework.values:register_value_modifier:373 - Registering mortality_rate.2.state.diarrheal_diseases.adjust_mortality_rate as modifier to mortality_rate\n",
      "2020-10-02 11:50:53.481 | DEBUG    | vivarium.framework.values:_register_value_producer:323 - Registering value pipeline diarrheal_diseases.remission_rate\n"
     ]
    },
    {
     "name": "stderr",
     "output_type": "stream",
     "text": [
      "2020-10-02 11:50:53.483 | DEBUG    | vivarium.framework.values:_register_value_producer:323 - Registering value pipeline diarrheal_diseases.remission_rate.paf\n",
      "2020-10-02 11:50:53.936 | DEBUG    | vivarium.framework.values:register_value_modifier:373 - Registering cause_specific_mortality_rate.3.disease_model.measles.adjust_cause_specific_mortality_rate as modifier to cause_specific_mortality_rate\n",
      "2020-10-02 11:50:53.937 | DEBUG    | vivarium.framework.values:register_value_modifier:373 - Registering metrics.5.disease_model.measles.metrics as modifier to metrics\n",
      "2020-10-02 11:50:53.938 | DEBUG    | vivarium.framework.values:register_value_modifier:373 - Registering metrics.6.state.susceptible_to_measles.metrics as modifier to metrics\n",
      "2020-10-02 11:50:54.398 | DEBUG    | vivarium.framework.values:_register_value_producer:323 - Registering value pipeline measles.incidence_rate\n",
      "2020-10-02 11:50:54.401 | DEBUG    | vivarium.framework.values:_register_value_producer:323 - Registering value pipeline measles.incidence_rate.paf\n",
      "2020-10-02 11:50:54.402 | DEBUG    | vivarium.framework.values:register_value_modifier:373 - Registering metrics.7.state.measles.metrics as modifier to metrics\n",
      "2020-10-02 11:50:54.857 | DEBUG    | vivarium.framework.values:_register_value_producer:323 - Registering value pipeline measles.dwell_time\n",
      "2020-10-02 11:50:55.289 | DEBUG    | vivarium.framework.values:_register_value_producer:323 - Registering value pipeline measles.disability_weight\n",
      "2020-10-02 11:50:55.291 | DEBUG    | vivarium.framework.values:register_value_modifier:373 - Registering disability_weight.3.measles.disability_weight as modifier to disability_weight\n",
      "2020-10-02 11:50:55.743 | DEBUG    | vivarium.framework.values:_register_value_producer:323 - Registering value pipeline measles.excess_mortality_rate\n",
      "2020-10-02 11:50:55.745 | DEBUG    | vivarium.framework.values:_register_value_producer:323 - Registering value pipeline measles.excess_mortality_rate.population_attributable_fraction\n",
      "2020-10-02 11:50:55.746 | DEBUG    | vivarium.framework.values:register_value_modifier:373 - Registering mortality_rate.3.state.measles.adjust_mortality_rate as modifier to mortality_rate\n",
      "2020-10-02 11:50:55.747 | DEBUG    | vivarium.framework.values:register_value_modifier:373 - Registering metrics.8.state.recovered_from_measles.metrics as modifier to metrics\n",
      "2020-10-02 11:50:56.446 | DEBUG    | vivarium.framework.values:register_value_modifier:373 - Registering cause_specific_mortality_rate.4.disease_model.lower_respiratory_infections.adjust_cause_specific_mortality_rate as modifier to cause_specific_mortality_rate\n",
      "2020-10-02 11:50:56.448 | DEBUG    | vivarium.framework.values:register_value_modifier:373 - Registering metrics.9.disease_model.lower_respiratory_infections.metrics as modifier to metrics\n",
      "2020-10-02 11:50:56.449 | DEBUG    | vivarium.framework.values:register_value_modifier:373 - Registering metrics.10.state.susceptible_to_lower_respiratory_infections.metrics as modifier to metrics\n",
      "2020-10-02 11:50:56.924 | DEBUG    | vivarium.framework.values:_register_value_producer:323 - Registering value pipeline lower_respiratory_infections.incidence_rate\n",
      "2020-10-02 11:50:56.926 | DEBUG    | vivarium.framework.values:_register_value_producer:323 - Registering value pipeline lower_respiratory_infections.incidence_rate.paf\n",
      "2020-10-02 11:50:56.927 | DEBUG    | vivarium.framework.values:register_value_modifier:373 - Registering metrics.11.state.lower_respiratory_infections.metrics as modifier to metrics\n",
      "2020-10-02 11:50:57.473 | DEBUG    | vivarium.framework.values:_register_value_producer:323 - Registering value pipeline lower_respiratory_infections.dwell_time\n",
      "2020-10-02 11:50:58.400 | DEBUG    | vivarium.framework.values:_register_value_producer:323 - Registering value pipeline lower_respiratory_infections.disability_weight\n",
      "2020-10-02 11:50:58.401 | DEBUG    | vivarium.framework.values:register_value_modifier:373 - Registering disability_weight.4.lower_respiratory_infections.disability_weight as modifier to disability_weight\n",
      "2020-10-02 11:50:58.879 | DEBUG    | vivarium.framework.values:_register_value_producer:323 - Registering value pipeline lower_respiratory_infections.excess_mortality_rate\n",
      "2020-10-02 11:50:58.881 | DEBUG    | vivarium.framework.values:_register_value_producer:323 - Registering value pipeline lower_respiratory_infections.excess_mortality_rate.population_attributable_fraction\n",
      "2020-10-02 11:50:58.883 | DEBUG    | vivarium.framework.values:register_value_modifier:373 - Registering mortality_rate.4.state.lower_respiratory_infections.adjust_mortality_rate as modifier to mortality_rate\n",
      "2020-10-02 11:50:59.356 | DEBUG    | vivarium.framework.values:_register_value_producer:323 - Registering value pipeline lower_respiratory_infections.remission_rate\n",
      "2020-10-02 11:50:59.357 | DEBUG    | vivarium.framework.values:_register_value_producer:323 - Registering value pipeline lower_respiratory_infections.remission_rate.paf\n",
      "2020-10-02 11:50:59.358 | DEBUG    | vivarium.framework.values:_register_value_producer:323 - Registering value pipeline child_wasting.propensity\n",
      "2020-10-02 11:50:59.359 | DEBUG    | vivarium.framework.values:_register_value_producer:323 - Registering value pipeline child_wasting.exposure\n",
      "2020-10-02 11:51:05.902 | DEBUG    | vivarium.framework.values:_register_value_producer:323 - Registering value pipeline child_stunting.propensity\n",
      "2020-10-02 11:51:05.907 | DEBUG    | vivarium.framework.values:_register_value_producer:323 - Registering value pipeline child_stunting.exposure\n",
      "2020-10-02 11:51:13.827 | DEBUG    | vivarium.framework.values:_register_value_producer:323 - Registering value pipeline low_birth_weight_and_short_gestation.raw_exposure\n",
      "2020-10-02 11:51:13.828 | DEBUG    | vivarium.framework.values:_register_value_producer:323 - Registering value pipeline low_birth_weight_and_short_gestation.exposure\n",
      "2020-10-02 11:51:14.724 | DEBUG    | vivarium.framework.values:register_value_modifier:373 - Registering affected_unmodeled.csmr.1.risk_effect.risk_factor.low_birth_weight_and_short_gestation.cause.affected_unmodeled.csmr.adjust_target as modifier to affected_unmodeled.csmr\n",
      "2020-10-02 11:51:14.725 | DEBUG    | vivarium.framework.values:register_value_modifier:373 - Registering affected_unmodeled.csmr.population_attributable_fraction.1.lookup_table_81 as modifier to affected_unmodeled.csmr.population_attributable_fraction\n",
      "2020-10-02 11:51:15.588 | DEBUG    | vivarium.framework.values:register_value_modifier:373 - Registering lower_respiratory_infections.excess_mortality_rate.1.risk_effect.risk_factor.low_birth_weight_and_short_gestation.cause.lower_respiratory_infections.excess_mortality_rate.adjust_target as modifier to lower_respiratory_infections.excess_mortality_rate\n",
      "2020-10-02 11:51:15.590 | DEBUG    | vivarium.framework.values:register_value_modifier:373 - Registering lower_respiratory_infections.excess_mortality_rate.population_attributable_fraction.1.lookup_table_83 as modifier to lower_respiratory_infections.excess_mortality_rate.population_attributable_fraction\n",
      "2020-10-02 11:51:16.441 | DEBUG    | vivarium.framework.values:register_value_modifier:373 - Registering diarrheal_diseases.excess_mortality_rate.1.risk_effect.risk_factor.low_birth_weight_and_short_gestation.cause.diarrheal_diseases.excess_mortality_rate.adjust_target as modifier to diarrheal_diseases.excess_mortality_rate\n",
      "2020-10-02 11:51:16.442 | DEBUG    | vivarium.framework.values:register_value_modifier:373 - Registering diarrheal_diseases.excess_mortality_rate.population_attributable_fraction.1.lookup_table_85 as modifier to diarrheal_diseases.excess_mortality_rate.population_attributable_fraction\n",
      "2020-10-02 11:51:16.819 | DEBUG    | vivarium.framework.values:register_value_modifier:373 - Registering metrics.12.mortality_observer.metrics as modifier to metrics\n",
      "2020-10-02 11:51:16.904 | DEBUG    | vivarium.framework.values:_register_value_producer:323 - Registering value pipeline disability_weight\n",
      "2020-10-02 11:51:16.905 | DEBUG    | vivarium.framework.values:register_value_modifier:373 - Registering metrics.13.disability_observer.metrics as modifier to metrics\n",
      "2020-10-02 11:51:16.908 | DEBUG    | vivarium.framework.values:register_value_modifier:373 - Registering metrics.14.disease_observer.diarrheal_diseases.metrics as modifier to metrics\n"
     ]
    },
    {
     "name": "stderr",
     "output_type": "stream",
     "text": [
      "2020-10-02 11:51:16.909 | DEBUG    | vivarium.framework.values:register_value_modifier:373 - Registering metrics.15.disease_observer.measles.metrics as modifier to metrics\n",
      "2020-10-02 11:51:16.911 | DEBUG    | vivarium.framework.values:register_value_modifier:373 - Registering metrics.16.disease_observer.lower_respiratory_infections.metrics as modifier to metrics\n",
      "2020-10-02 11:51:16.912 | DEBUG    | vivarium.framework.values:register_value_modifier:373 - Registering metrics.17.disease_observer.protein_energy_malnutrition.metrics as modifier to metrics\n",
      "2020-10-02 11:51:16.913 | DEBUG    | vivarium.framework.values:register_value_modifier:373 - Registering metrics.18.risk_observer.child_growth_failure.metrics as modifier to metrics\n",
      "2020-10-02 11:51:16.914 | DEBUG    | vivarium.framework.values:register_value_modifier:373 - Registering metrics.19.risk_observer.low_birth_weight_and_short_gestation.metrics as modifier to metrics\n",
      "2020-10-02 11:51:16.916 | DEBUG    | vivarium.framework.values:register_value_modifier:373 - Registering metrics.20.risk.maternal_malnutrition.metrics as modifier to metrics\n",
      "2020-10-02 11:51:34.302 | DEBUG    | vivarium.framework.values:register_value_modifier:373 - Registering low_birth_weight_and_short_gestation.exposure.1.risk_effect.maternal_malnutrition.adjust_birth_weight as modifier to low_birth_weight_and_short_gestation.exposure\n",
      "2020-10-02 11:51:34.308 | DEBUG    | vivarium.framework.values:register_value_modifier:373 - Registering child_wasting.exposure.1.risk_effect.maternal_malnutrition.adjust_wasting as modifier to child_wasting.exposure\n",
      "2020-10-02 11:51:34.309 | DEBUG    | vivarium.framework.values:register_value_modifier:373 - Registering child_stunting.exposure.1.risk_effect.maternal_malnutrition.adjust_stunting as modifier to child_stunting.exposure\n",
      "2020-10-02 11:51:34.375 | DEBUG    | vivarium.framework.values:register_value_modifier:373 - Registering low_birth_weight_and_short_gestation.exposure.2.treatment_effect.maternal_supplementation.adjust_lbwsg as modifier to low_birth_weight_and_short_gestation.exposure\n",
      "2020-10-02 11:51:34.377 | DEBUG    | vivarium.framework.values:register_value_modifier:373 - Registering child_stunting.exposure.2.treatment_effect.maternal_supplementation.adjust_cgf as modifier to child_stunting.exposure\n",
      "2020-10-02 11:51:34.378 | DEBUG    | vivarium.framework.values:register_value_modifier:373 - Registering child_wasting.exposure.2.treatment_effect.maternal_supplementation.adjust_cgf as modifier to child_wasting.exposure\n",
      "2020-10-02 11:51:34.379 | DEBUG    | vivarium.framework.values:_register_value_producer:323 - Registering value pipeline metrics\n"
     ]
    }
   ],
   "source": [
    "#Define sim (use full filepath)\n",
    "\n",
    "sim_tanzania = InteractiveContext('/ihme/homes/nicoly/vivarium_gates_bep/src/vivarium_gates_bep/model_specifications/tanzania.yaml') #gives model before time-steps"
   ]
  },
  {
   "cell_type": "markdown",
   "metadata": {},
   "source": [
    "# 2. Now can run the sim using time-steps "
   ]
  },
  {
   "cell_type": "code",
   "execution_count": 18,
   "metadata": {},
   "outputs": [
    {
     "name": "stderr",
     "output_type": "stream",
     "text": [
      "2020-10-02 11:51:47.794 | DEBUG    | vivarium.framework.engine:step:140 - 2020-07-02 00:00:00\n",
      "2020-10-02 11:51:56.997 | DEBUG    | vivarium.framework.engine:step:140 - 2020-07-03 00:00:00\n",
      "2020-10-02 11:52:06.698 | DEBUG    | vivarium.framework.engine:step:140 - 2020-07-04 00:00:00\n",
      "2020-10-02 11:52:16.238 | DEBUG    | vivarium.framework.engine:step:140 - 2020-07-05 00:00:00\n",
      "2020-10-02 11:52:25.815 | DEBUG    | vivarium.framework.engine:step:140 - 2020-07-06 00:00:00\n",
      "2020-10-02 11:52:35.286 | DEBUG    | vivarium.framework.engine:step:140 - 2020-07-07 00:00:00\n",
      "2020-10-02 11:52:44.955 | DEBUG    | vivarium.framework.engine:step:140 - 2020-07-08 00:00:00\n",
      "2020-10-02 11:52:54.515 | DEBUG    | vivarium.framework.engine:step:140 - 2020-07-09 00:00:00\n",
      "2020-10-02 11:53:04.328 | DEBUG    | vivarium.framework.engine:step:140 - 2020-07-10 00:00:00\n",
      "2020-10-02 11:53:14.015 | DEBUG    | vivarium.framework.engine:step:140 - 2020-07-11 00:00:00\n",
      "2020-10-02 11:53:23.776 | DEBUG    | vivarium.framework.engine:step:140 - 2020-07-12 00:00:00\n",
      "2020-10-02 11:53:33.947 | DEBUG    | vivarium.framework.engine:step:140 - 2020-07-13 00:00:00\n",
      "2020-10-02 11:53:43.847 | DEBUG    | vivarium.framework.engine:step:140 - 2020-07-14 00:00:00\n",
      "2020-10-02 11:53:53.822 | DEBUG    | vivarium.framework.engine:step:140 - 2020-07-15 00:00:00\n",
      "2020-10-02 11:54:03.879 | DEBUG    | vivarium.framework.engine:step:140 - 2020-07-16 00:00:00\n",
      "2020-10-02 11:54:14.203 | DEBUG    | vivarium.framework.engine:step:140 - 2020-07-17 00:00:00\n",
      "2020-10-02 11:54:24.108 | DEBUG    | vivarium.framework.engine:step:140 - 2020-07-18 00:00:00\n",
      "2020-10-02 11:54:34.379 | DEBUG    | vivarium.framework.engine:step:140 - 2020-07-19 00:00:00\n",
      "2020-10-02 11:54:44.808 | DEBUG    | vivarium.framework.engine:step:140 - 2020-07-20 00:00:00\n",
      "2020-10-02 11:54:54.940 | DEBUG    | vivarium.framework.engine:step:140 - 2020-07-21 00:00:00\n",
      "2020-10-02 11:55:05.537 | DEBUG    | vivarium.framework.engine:step:140 - 2020-07-22 00:00:00\n",
      "2020-10-02 11:55:16.187 | DEBUG    | vivarium.framework.engine:step:140 - 2020-07-23 00:00:00\n",
      "2020-10-02 11:55:26.848 | DEBUG    | vivarium.framework.engine:step:140 - 2020-07-24 00:00:00\n",
      "2020-10-02 11:55:37.742 | DEBUG    | vivarium.framework.engine:step:140 - 2020-07-25 00:00:00\n",
      "2020-10-02 11:55:48.479 | DEBUG    | vivarium.framework.engine:step:140 - 2020-07-26 00:00:00\n",
      "2020-10-02 11:55:59.316 | DEBUG    | vivarium.framework.engine:step:140 - 2020-07-27 00:00:00\n",
      "2020-10-02 11:56:10.144 | DEBUG    | vivarium.framework.engine:step:140 - 2020-07-28 00:00:00\n",
      "2020-10-02 11:56:20.911 | DEBUG    | vivarium.framework.engine:step:140 - 2020-07-29 00:00:00\n",
      "2020-10-02 11:56:31.913 | DEBUG    | vivarium.framework.engine:step:140 - 2020-07-30 00:00:00\n",
      "2020-10-02 11:56:43.186 | DEBUG    | vivarium.framework.engine:step:140 - 2020-07-31 00:00:00\n",
      "2020-10-02 11:56:54.472 | DEBUG    | vivarium.framework.engine:step:140 - 2020-08-01 00:00:00\n",
      "2020-10-02 11:57:06.136 | DEBUG    | vivarium.framework.engine:step:140 - 2020-08-02 00:00:00\n"
     ]
    }
   ],
   "source": [
    "#run for sim_mali\n",
    "\n",
    "NUM_STEPS = 32\n",
    "# 400 for 1 year\n",
    "\n",
    "# run time-steps  \\  \n",
    "for i in range(NUM_STEPS):\n",
    "    sim_mali.step()"
   ]
  },
  {
   "cell_type": "code",
   "execution_count": 19,
   "metadata": {
    "scrolled": true
   },
   "outputs": [
    {
     "name": "stderr",
     "output_type": "stream",
     "text": [
      "2020-10-02 11:57:17.640 | DEBUG    | vivarium.framework.engine:step:140 - 2020-07-02 00:00:00\n",
      "2020-10-02 11:57:26.970 | DEBUG    | vivarium.framework.engine:step:140 - 2020-07-03 00:00:00\n",
      "2020-10-02 11:57:36.339 | DEBUG    | vivarium.framework.engine:step:140 - 2020-07-04 00:00:00\n",
      "2020-10-02 11:57:45.840 | DEBUG    | vivarium.framework.engine:step:140 - 2020-07-05 00:00:00\n",
      "2020-10-02 11:57:55.732 | DEBUG    | vivarium.framework.engine:step:140 - 2020-07-06 00:00:00\n",
      "2020-10-02 11:58:06.083 | DEBUG    | vivarium.framework.engine:step:140 - 2020-07-07 00:00:00\n",
      "2020-10-02 11:58:16.602 | DEBUG    | vivarium.framework.engine:step:140 - 2020-07-08 00:00:00\n",
      "2020-10-02 11:58:26.918 | DEBUG    | vivarium.framework.engine:step:140 - 2020-07-09 00:00:00\n",
      "2020-10-02 11:58:37.400 | DEBUG    | vivarium.framework.engine:step:140 - 2020-07-10 00:00:00\n",
      "2020-10-02 11:58:47.664 | DEBUG    | vivarium.framework.engine:step:140 - 2020-07-11 00:00:00\n",
      "2020-10-02 11:58:57.485 | DEBUG    | vivarium.framework.engine:step:140 - 2020-07-12 00:00:00\n",
      "2020-10-02 11:59:07.690 | DEBUG    | vivarium.framework.engine:step:140 - 2020-07-13 00:00:00\n",
      "2020-10-02 11:59:17.465 | DEBUG    | vivarium.framework.engine:step:140 - 2020-07-14 00:00:00\n",
      "2020-10-02 11:59:27.769 | DEBUG    | vivarium.framework.engine:step:140 - 2020-07-15 00:00:00\n",
      "2020-10-02 11:59:38.132 | DEBUG    | vivarium.framework.engine:step:140 - 2020-07-16 00:00:00\n",
      "2020-10-02 11:59:48.534 | DEBUG    | vivarium.framework.engine:step:140 - 2020-07-17 00:00:00\n",
      "2020-10-02 11:59:59.192 | DEBUG    | vivarium.framework.engine:step:140 - 2020-07-18 00:00:00\n",
      "2020-10-02 12:00:09.529 | DEBUG    | vivarium.framework.engine:step:140 - 2020-07-19 00:00:00\n",
      "2020-10-02 12:00:19.985 | DEBUG    | vivarium.framework.engine:step:140 - 2020-07-20 00:00:00\n",
      "2020-10-02 12:00:30.376 | DEBUG    | vivarium.framework.engine:step:140 - 2020-07-21 00:00:00\n",
      "2020-10-02 12:00:40.975 | DEBUG    | vivarium.framework.engine:step:140 - 2020-07-22 00:00:00\n",
      "2020-10-02 12:00:51.618 | DEBUG    | vivarium.framework.engine:step:140 - 2020-07-23 00:00:00\n",
      "2020-10-02 12:01:02.439 | DEBUG    | vivarium.framework.engine:step:140 - 2020-07-24 00:00:00\n",
      "2020-10-02 12:01:13.087 | DEBUG    | vivarium.framework.engine:step:140 - 2020-07-25 00:00:00\n",
      "2020-10-02 12:01:24.046 | DEBUG    | vivarium.framework.engine:step:140 - 2020-07-26 00:00:00\n",
      "2020-10-02 12:01:35.337 | DEBUG    | vivarium.framework.engine:step:140 - 2020-07-27 00:00:00\n",
      "2020-10-02 12:01:46.370 | DEBUG    | vivarium.framework.engine:step:140 - 2020-07-28 00:00:00\n",
      "2020-10-02 12:01:57.844 | DEBUG    | vivarium.framework.engine:step:140 - 2020-07-29 00:00:00\n",
      "2020-10-02 12:02:09.136 | DEBUG    | vivarium.framework.engine:step:140 - 2020-07-30 00:00:00\n",
      "2020-10-02 12:02:20.564 | DEBUG    | vivarium.framework.engine:step:140 - 2020-07-31 00:00:00\n",
      "2020-10-02 12:02:32.468 | DEBUG    | vivarium.framework.engine:step:140 - 2020-08-01 00:00:00\n",
      "2020-10-02 12:02:43.990 | DEBUG    | vivarium.framework.engine:step:140 - 2020-08-02 00:00:00\n"
     ]
    }
   ],
   "source": [
    "#run for sim which is India\n",
    "\n",
    "NUM_STEPS = 32\n",
    "\n",
    "# run time-steps                            \n",
    "for i in range(NUM_STEPS):\n",
    "    sim_india.step()"
   ]
  },
  {
   "cell_type": "code",
   "execution_count": 20,
   "metadata": {},
   "outputs": [
    {
     "name": "stderr",
     "output_type": "stream",
     "text": [
      "2020-10-02 12:02:55.142 | DEBUG    | vivarium.framework.engine:step:140 - 2020-07-02 00:00:00\n",
      "2020-10-02 12:03:04.401 | DEBUG    | vivarium.framework.engine:step:140 - 2020-07-03 00:00:00\n",
      "2020-10-02 12:03:13.876 | DEBUG    | vivarium.framework.engine:step:140 - 2020-07-04 00:00:00\n",
      "2020-10-02 12:03:23.482 | DEBUG    | vivarium.framework.engine:step:140 - 2020-07-05 00:00:00\n",
      "2020-10-02 12:03:33.280 | DEBUG    | vivarium.framework.engine:step:140 - 2020-07-06 00:00:00\n",
      "2020-10-02 12:03:42.917 | DEBUG    | vivarium.framework.engine:step:140 - 2020-07-07 00:00:00\n",
      "2020-10-02 12:03:52.817 | DEBUG    | vivarium.framework.engine:step:140 - 2020-07-08 00:00:00\n",
      "2020-10-02 12:04:02.914 | DEBUG    | vivarium.framework.engine:step:140 - 2020-07-09 00:00:00\n",
      "2020-10-02 12:04:13.300 | DEBUG    | vivarium.framework.engine:step:140 - 2020-07-10 00:00:00\n",
      "2020-10-02 12:04:23.719 | DEBUG    | vivarium.framework.engine:step:140 - 2020-07-11 00:00:00\n",
      "2020-10-02 12:04:35.023 | DEBUG    | vivarium.framework.engine:step:140 - 2020-07-12 00:00:00\n",
      "2020-10-02 12:04:45.983 | DEBUG    | vivarium.framework.engine:step:140 - 2020-07-13 00:00:00\n",
      "2020-10-02 12:04:57.109 | DEBUG    | vivarium.framework.engine:step:140 - 2020-07-14 00:00:00\n",
      "2020-10-02 12:05:08.754 | DEBUG    | vivarium.framework.engine:step:140 - 2020-07-15 00:00:00\n",
      "2020-10-02 12:05:19.419 | DEBUG    | vivarium.framework.engine:step:140 - 2020-07-16 00:00:00\n",
      "2020-10-02 12:05:29.936 | DEBUG    | vivarium.framework.engine:step:140 - 2020-07-17 00:00:00\n",
      "2020-10-02 12:05:40.205 | DEBUG    | vivarium.framework.engine:step:140 - 2020-07-18 00:00:00\n",
      "2020-10-02 12:05:50.262 | DEBUG    | vivarium.framework.engine:step:140 - 2020-07-19 00:00:00\n",
      "2020-10-02 12:06:00.566 | DEBUG    | vivarium.framework.engine:step:140 - 2020-07-20 00:00:00\n",
      "2020-10-02 12:06:10.483 | DEBUG    | vivarium.framework.engine:step:140 - 2020-07-21 00:00:00\n",
      "2020-10-02 12:06:20.907 | DEBUG    | vivarium.framework.engine:step:140 - 2020-07-22 00:00:00\n",
      "2020-10-02 12:06:31.464 | DEBUG    | vivarium.framework.engine:step:140 - 2020-07-23 00:00:00\n",
      "2020-10-02 12:06:41.547 | DEBUG    | vivarium.framework.engine:step:140 - 2020-07-24 00:00:00\n",
      "2020-10-02 12:06:52.000 | DEBUG    | vivarium.framework.engine:step:140 - 2020-07-25 00:00:00\n",
      "2020-10-02 12:07:02.690 | DEBUG    | vivarium.framework.engine:step:140 - 2020-07-26 00:00:00\n",
      "2020-10-02 12:07:13.118 | DEBUG    | vivarium.framework.engine:step:140 - 2020-07-27 00:00:00\n",
      "2020-10-02 12:07:23.934 | DEBUG    | vivarium.framework.engine:step:140 - 2020-07-28 00:00:00\n",
      "2020-10-02 12:07:34.912 | DEBUG    | vivarium.framework.engine:step:140 - 2020-07-29 00:00:00\n",
      "2020-10-02 12:07:45.608 | DEBUG    | vivarium.framework.engine:step:140 - 2020-07-30 00:00:00\n",
      "2020-10-02 12:07:56.640 | DEBUG    | vivarium.framework.engine:step:140 - 2020-07-31 00:00:00\n",
      "2020-10-02 12:08:08.141 | DEBUG    | vivarium.framework.engine:step:140 - 2020-08-01 00:00:00\n",
      "2020-10-02 12:08:19.261 | DEBUG    | vivarium.framework.engine:step:140 - 2020-08-02 00:00:00\n"
     ]
    }
   ],
   "source": [
    "#run for sim_pakistan\n",
    "\n",
    "NUM_STEPS = 32\n",
    "\n",
    "# run time-steps  \\  \n",
    "for i in range(NUM_STEPS):\n",
    "    sim_pakistan.step()"
   ]
  },
  {
   "cell_type": "code",
   "execution_count": 21,
   "metadata": {},
   "outputs": [
    {
     "name": "stderr",
     "output_type": "stream",
     "text": [
      "2020-10-02 12:08:30.548 | DEBUG    | vivarium.framework.engine:step:140 - 2020-07-02 00:00:00\n",
      "2020-10-02 12:08:39.705 | DEBUG    | vivarium.framework.engine:step:140 - 2020-07-03 00:00:00\n",
      "2020-10-02 12:08:49.026 | DEBUG    | vivarium.framework.engine:step:140 - 2020-07-04 00:00:00\n",
      "2020-10-02 12:08:58.228 | DEBUG    | vivarium.framework.engine:step:140 - 2020-07-05 00:00:00\n",
      "2020-10-02 12:09:07.758 | DEBUG    | vivarium.framework.engine:step:140 - 2020-07-06 00:00:00\n",
      "2020-10-02 12:09:17.198 | DEBUG    | vivarium.framework.engine:step:140 - 2020-07-07 00:00:00\n",
      "2020-10-02 12:09:27.193 | DEBUG    | vivarium.framework.engine:step:140 - 2020-07-08 00:00:00\n",
      "2020-10-02 12:09:37.443 | DEBUG    | vivarium.framework.engine:step:140 - 2020-07-09 00:00:00\n",
      "2020-10-02 12:09:47.916 | DEBUG    | vivarium.framework.engine:step:140 - 2020-07-10 00:00:00\n",
      "2020-10-02 12:09:58.796 | DEBUG    | vivarium.framework.engine:step:140 - 2020-07-11 00:00:00\n",
      "2020-10-02 12:10:08.900 | DEBUG    | vivarium.framework.engine:step:140 - 2020-07-12 00:00:00\n",
      "2020-10-02 12:10:19.030 | DEBUG    | vivarium.framework.engine:step:140 - 2020-07-13 00:00:00\n",
      "2020-10-02 12:10:29.390 | DEBUG    | vivarium.framework.engine:step:140 - 2020-07-14 00:00:00\n",
      "2020-10-02 12:10:39.674 | DEBUG    | vivarium.framework.engine:step:140 - 2020-07-15 00:00:00\n",
      "2020-10-02 12:10:49.937 | DEBUG    | vivarium.framework.engine:step:140 - 2020-07-16 00:00:00\n",
      "2020-10-02 12:10:59.831 | DEBUG    | vivarium.framework.engine:step:140 - 2020-07-17 00:00:00\n",
      "2020-10-02 12:11:10.190 | DEBUG    | vivarium.framework.engine:step:140 - 2020-07-18 00:00:00\n",
      "2020-10-02 12:11:20.632 | DEBUG    | vivarium.framework.engine:step:140 - 2020-07-19 00:00:00\n",
      "2020-10-02 12:11:31.092 | DEBUG    | vivarium.framework.engine:step:140 - 2020-07-20 00:00:00\n",
      "2020-10-02 12:11:41.072 | DEBUG    | vivarium.framework.engine:step:140 - 2020-07-21 00:00:00\n",
      "2020-10-02 12:11:51.438 | DEBUG    | vivarium.framework.engine:step:140 - 2020-07-22 00:00:00\n",
      "2020-10-02 12:12:02.265 | DEBUG    | vivarium.framework.engine:step:140 - 2020-07-23 00:00:00\n",
      "2020-10-02 12:12:12.560 | DEBUG    | vivarium.framework.engine:step:140 - 2020-07-24 00:00:00\n",
      "2020-10-02 12:12:22.782 | DEBUG    | vivarium.framework.engine:step:140 - 2020-07-25 00:00:00\n",
      "2020-10-02 12:12:33.636 | DEBUG    | vivarium.framework.engine:step:140 - 2020-07-26 00:00:00\n",
      "2020-10-02 12:12:44.441 | DEBUG    | vivarium.framework.engine:step:140 - 2020-07-27 00:00:00\n",
      "2020-10-02 12:12:55.132 | DEBUG    | vivarium.framework.engine:step:140 - 2020-07-28 00:00:00\n",
      "2020-10-02 12:13:05.951 | DEBUG    | vivarium.framework.engine:step:140 - 2020-07-29 00:00:00\n",
      "2020-10-02 12:13:16.418 | DEBUG    | vivarium.framework.engine:step:140 - 2020-07-30 00:00:00\n",
      "2020-10-02 12:13:27.416 | DEBUG    | vivarium.framework.engine:step:140 - 2020-07-31 00:00:00\n",
      "2020-10-02 12:13:38.839 | DEBUG    | vivarium.framework.engine:step:140 - 2020-08-01 00:00:00\n",
      "2020-10-02 12:13:50.074 | DEBUG    | vivarium.framework.engine:step:140 - 2020-08-02 00:00:00\n"
     ]
    }
   ],
   "source": [
    "#run for sim_tanzania\n",
    "\n",
    "NUM_STEPS = 32\n",
    "\n",
    "# run time-steps  \\  \n",
    "for i in range(NUM_STEPS):\n",
    "    sim_tanzania.step()"
   ]
  },
  {
   "cell_type": "markdown",
   "metadata": {},
   "source": [
    "# 3. Get pop table after model has run the time-steps indicated in 2 above "
   ]
  },
  {
   "cell_type": "code",
   "execution_count": 68,
   "metadata": {},
   "outputs": [
    {
     "data": {
      "text/html": [
       "<div>\n",
       "<style scoped>\n",
       "    .dataframe tbody tr th:only-of-type {\n",
       "        vertical-align: middle;\n",
       "    }\n",
       "\n",
       "    .dataframe tbody tr th {\n",
       "        vertical-align: top;\n",
       "    }\n",
       "\n",
       "    .dataframe thead th {\n",
       "        text-align: right;\n",
       "    }\n",
       "</style>\n",
       "<table border=\"1\" class=\"dataframe\">\n",
       "  <thead>\n",
       "    <tr style=\"text-align: right;\">\n",
       "      <th></th>\n",
       "      <th>tracked</th>\n",
       "      <th>mother_malnourished</th>\n",
       "      <th>baseline_maternal_supplementation_type</th>\n",
       "      <th>scenario_maternal_supplementation_type</th>\n",
       "      <th>previous_protein_energy_malnutrition</th>\n",
       "      <th>previous_lower_respiratory_infections</th>\n",
       "      <th>previous_measles</th>\n",
       "      <th>previous_diarrheal_diseases</th>\n",
       "      <th>years_lived_with_disability</th>\n",
       "      <th>years_of_life_lost</th>\n",
       "      <th>...</th>\n",
       "      <th>recovered_from_measles_event_count</th>\n",
       "      <th>measles_event_count</th>\n",
       "      <th>measles_event_time</th>\n",
       "      <th>susceptible_to_measles_event_count</th>\n",
       "      <th>susceptible_to_measles_event_time</th>\n",
       "      <th>diarrheal_diseases</th>\n",
       "      <th>diarrheal_diseases_event_time</th>\n",
       "      <th>diarrheal_diseases_event_count</th>\n",
       "      <th>susceptible_to_diarrheal_diseases_event_count</th>\n",
       "      <th>susceptible_to_diarrheal_diseases_event_time</th>\n",
       "    </tr>\n",
       "  </thead>\n",
       "  <tbody>\n",
       "    <tr>\n",
       "      <th>0</th>\n",
       "      <td>True</td>\n",
       "      <td>normal</td>\n",
       "      <td>none</td>\n",
       "      <td>none</td>\n",
       "      <td>susceptible_to_protein_energy_malnutrition</td>\n",
       "      <td>susceptible_to_lower_respiratory_infections</td>\n",
       "      <td>susceptible_to_measles</td>\n",
       "      <td>susceptible_to_diarrheal_diseases</td>\n",
       "      <td>0.000000</td>\n",
       "      <td>87.841941</td>\n",
       "      <td>...</td>\n",
       "      <td>0</td>\n",
       "      <td>0</td>\n",
       "      <td>NaT</td>\n",
       "      <td>0</td>\n",
       "      <td>NaT</td>\n",
       "      <td>susceptible_to_diarrheal_diseases</td>\n",
       "      <td>NaT</td>\n",
       "      <td>0</td>\n",
       "      <td>0</td>\n",
       "      <td>NaT</td>\n",
       "    </tr>\n",
       "    <tr>\n",
       "      <th>1</th>\n",
       "      <td>True</td>\n",
       "      <td>normal</td>\n",
       "      <td>none</td>\n",
       "      <td>none</td>\n",
       "      <td>susceptible_to_protein_energy_malnutrition</td>\n",
       "      <td>susceptible_to_lower_respiratory_infections</td>\n",
       "      <td>susceptible_to_measles</td>\n",
       "      <td>susceptible_to_diarrheal_diseases</td>\n",
       "      <td>0.001036</td>\n",
       "      <td>0.000000</td>\n",
       "      <td>...</td>\n",
       "      <td>0</td>\n",
       "      <td>0</td>\n",
       "      <td>NaT</td>\n",
       "      <td>0</td>\n",
       "      <td>NaT</td>\n",
       "      <td>susceptible_to_diarrheal_diseases</td>\n",
       "      <td>NaT</td>\n",
       "      <td>0</td>\n",
       "      <td>0</td>\n",
       "      <td>NaT</td>\n",
       "    </tr>\n",
       "    <tr>\n",
       "      <th>2</th>\n",
       "      <td>True</td>\n",
       "      <td>normal</td>\n",
       "      <td>none</td>\n",
       "      <td>none</td>\n",
       "      <td>susceptible_to_protein_energy_malnutrition</td>\n",
       "      <td>susceptible_to_lower_respiratory_infections</td>\n",
       "      <td>susceptible_to_measles</td>\n",
       "      <td>susceptible_to_diarrheal_diseases</td>\n",
       "      <td>0.001038</td>\n",
       "      <td>0.000000</td>\n",
       "      <td>...</td>\n",
       "      <td>0</td>\n",
       "      <td>0</td>\n",
       "      <td>NaT</td>\n",
       "      <td>0</td>\n",
       "      <td>NaT</td>\n",
       "      <td>susceptible_to_diarrheal_diseases</td>\n",
       "      <td>NaT</td>\n",
       "      <td>0</td>\n",
       "      <td>0</td>\n",
       "      <td>NaT</td>\n",
       "    </tr>\n",
       "    <tr>\n",
       "      <th>3</th>\n",
       "      <td>True</td>\n",
       "      <td>normal</td>\n",
       "      <td>ifa</td>\n",
       "      <td>ifa</td>\n",
       "      <td>susceptible_to_protein_energy_malnutrition</td>\n",
       "      <td>susceptible_to_lower_respiratory_infections</td>\n",
       "      <td>susceptible_to_measles</td>\n",
       "      <td>susceptible_to_diarrheal_diseases</td>\n",
       "      <td>0.000000</td>\n",
       "      <td>0.000000</td>\n",
       "      <td>...</td>\n",
       "      <td>0</td>\n",
       "      <td>0</td>\n",
       "      <td>NaT</td>\n",
       "      <td>0</td>\n",
       "      <td>NaT</td>\n",
       "      <td>susceptible_to_diarrheal_diseases</td>\n",
       "      <td>NaT</td>\n",
       "      <td>0</td>\n",
       "      <td>0</td>\n",
       "      <td>NaT</td>\n",
       "    </tr>\n",
       "    <tr>\n",
       "      <th>4</th>\n",
       "      <td>True</td>\n",
       "      <td>normal</td>\n",
       "      <td>none</td>\n",
       "      <td>none</td>\n",
       "      <td>susceptible_to_protein_energy_malnutrition</td>\n",
       "      <td>susceptible_to_lower_respiratory_infections</td>\n",
       "      <td>susceptible_to_measles</td>\n",
       "      <td>susceptible_to_diarrheal_diseases</td>\n",
       "      <td>0.000000</td>\n",
       "      <td>0.000000</td>\n",
       "      <td>...</td>\n",
       "      <td>0</td>\n",
       "      <td>0</td>\n",
       "      <td>NaT</td>\n",
       "      <td>0</td>\n",
       "      <td>NaT</td>\n",
       "      <td>susceptible_to_diarrheal_diseases</td>\n",
       "      <td>NaT</td>\n",
       "      <td>0</td>\n",
       "      <td>0</td>\n",
       "      <td>NaT</td>\n",
       "    </tr>\n",
       "  </tbody>\n",
       "</table>\n",
       "<p>5 rows × 43 columns</p>\n",
       "</div>"
      ],
      "text/plain": [
       "   tracked mother_malnourished baseline_maternal_supplementation_type  \\\n",
       "0     True              normal                                   none   \n",
       "1     True              normal                                   none   \n",
       "2     True              normal                                   none   \n",
       "3     True              normal                                    ifa   \n",
       "4     True              normal                                   none   \n",
       "\n",
       "  scenario_maternal_supplementation_type  \\\n",
       "0                                   none   \n",
       "1                                   none   \n",
       "2                                   none   \n",
       "3                                    ifa   \n",
       "4                                   none   \n",
       "\n",
       "         previous_protein_energy_malnutrition  \\\n",
       "0  susceptible_to_protein_energy_malnutrition   \n",
       "1  susceptible_to_protein_energy_malnutrition   \n",
       "2  susceptible_to_protein_energy_malnutrition   \n",
       "3  susceptible_to_protein_energy_malnutrition   \n",
       "4  susceptible_to_protein_energy_malnutrition   \n",
       "\n",
       "         previous_lower_respiratory_infections        previous_measles  \\\n",
       "0  susceptible_to_lower_respiratory_infections  susceptible_to_measles   \n",
       "1  susceptible_to_lower_respiratory_infections  susceptible_to_measles   \n",
       "2  susceptible_to_lower_respiratory_infections  susceptible_to_measles   \n",
       "3  susceptible_to_lower_respiratory_infections  susceptible_to_measles   \n",
       "4  susceptible_to_lower_respiratory_infections  susceptible_to_measles   \n",
       "\n",
       "         previous_diarrheal_diseases  years_lived_with_disability  \\\n",
       "0  susceptible_to_diarrheal_diseases                     0.000000   \n",
       "1  susceptible_to_diarrheal_diseases                     0.001036   \n",
       "2  susceptible_to_diarrheal_diseases                     0.001038   \n",
       "3  susceptible_to_diarrheal_diseases                     0.000000   \n",
       "4  susceptible_to_diarrheal_diseases                     0.000000   \n",
       "\n",
       "   years_of_life_lost  ... recovered_from_measles_event_count  \\\n",
       "0           87.841941  ...                                  0   \n",
       "1            0.000000  ...                                  0   \n",
       "2            0.000000  ...                                  0   \n",
       "3            0.000000  ...                                  0   \n",
       "4            0.000000  ...                                  0   \n",
       "\n",
       "   measles_event_count measles_event_time  susceptible_to_measles_event_count  \\\n",
       "0                    0                NaT                                   0   \n",
       "1                    0                NaT                                   0   \n",
       "2                    0                NaT                                   0   \n",
       "3                    0                NaT                                   0   \n",
       "4                    0                NaT                                   0   \n",
       "\n",
       "  susceptible_to_measles_event_time                 diarrheal_diseases  \\\n",
       "0                               NaT  susceptible_to_diarrheal_diseases   \n",
       "1                               NaT  susceptible_to_diarrheal_diseases   \n",
       "2                               NaT  susceptible_to_diarrheal_diseases   \n",
       "3                               NaT  susceptible_to_diarrheal_diseases   \n",
       "4                               NaT  susceptible_to_diarrheal_diseases   \n",
       "\n",
       "  diarrheal_diseases_event_time diarrheal_diseases_event_count  \\\n",
       "0                           NaT                              0   \n",
       "1                           NaT                              0   \n",
       "2                           NaT                              0   \n",
       "3                           NaT                              0   \n",
       "4                           NaT                              0   \n",
       "\n",
       "   susceptible_to_diarrheal_diseases_event_count  \\\n",
       "0                                              0   \n",
       "1                                              0   \n",
       "2                                              0   \n",
       "3                                              0   \n",
       "4                                              0   \n",
       "\n",
       "   susceptible_to_diarrheal_diseases_event_time  \n",
       "0                                           NaT  \n",
       "1                                           NaT  \n",
       "2                                           NaT  \n",
       "3                                           NaT  \n",
       "4                                           NaT  \n",
       "\n",
       "[5 rows x 43 columns]"
      ]
     },
     "execution_count": 68,
     "metadata": {},
     "output_type": "execute_result"
    }
   ],
   "source": [
    "#co-variate population using get_population() method\n",
    "\n",
    "pop_india = sim_india.get_population()\n",
    "pop_pakistan = sim_pakistan.get_population()\n",
    "pop_mali = sim_mali.get_population()\n",
    "pop_tanzania = sim_tanzania.get_population()\n",
    "\n",
    "pop_mali.head()\n",
    "\n",
    "#10,000 original simulants were specified in the yaml file, some would have died during time-steps"
   ]
  },
  {
   "cell_type": "markdown",
   "metadata": {},
   "source": [
    "# explore pop columes alive (tells us whether the simulant has died or is still alive) This is an important column because we want to analyse the alive population only at 6 months\n",
    "\n",
    "pop.alive.head()"
   ]
  },
  {
   "cell_type": "code",
   "execution_count": 31,
   "metadata": {},
   "outputs": [
    {
     "data": {
      "text/plain": [
       "0    3251.607412\n",
       "1    2764.606407\n",
       "2    3157.065097\n",
       "3    3806.544096\n",
       "4    3329.265723\n",
       "Name: birth_weight, dtype: float64"
      ]
     },
     "execution_count": 31,
     "metadata": {},
     "output_type": "execute_result"
    }
   ],
   "source": [
    "#explore pop columes birthweight \n",
    "\n",
    "pop_mali.birth_weight.head()"
   ]
  },
  {
   "cell_type": "markdown",
   "metadata": {},
   "source": [
    "# 4. Get pipeline for interested variables (pipeline is a kind of method, so doesnt change in between sims. Only the values coming out of the pipeline changes)"
   ]
  },
  {
   "cell_type": "code",
   "execution_count": 32,
   "metadata": {},
   "outputs": [
    {
     "data": {
      "text/plain": [
       "['metrics',\n",
       " 'protein_energy_malnutrition.disability_weight',\n",
       " 'disability_weight',\n",
       " 'cause_specific_mortality_rate',\n",
       " 'protein_energy_malnutrition.excess_mortality_rate',\n",
       " 'protein_energy_malnutrition.excess_mortality_rate.population_attributable_fraction',\n",
       " 'mortality_rate',\n",
       " 'child_wasting.exposure',\n",
       " 'diarrheal_diseases.incidence_rate',\n",
       " 'diarrheal_diseases.incidence_rate.paf',\n",
       " 'measles.incidence_rate',\n",
       " 'measles.incidence_rate.paf',\n",
       " 'lower_respiratory_infections.incidence_rate',\n",
       " 'lower_respiratory_infections.incidence_rate.paf',\n",
       " 'child_stunting.exposure',\n",
       " 'affected_unmodeled.csmr',\n",
       " 'affected_unmodeled.csmr.population_attributable_fraction',\n",
       " 'all_causes.mortality_hazard',\n",
       " 'all_causes.mortality_hazard.population_attributable_fraction',\n",
       " 'diarrheal_diseases.dwell_time',\n",
       " 'diarrheal_diseases.disability_weight',\n",
       " 'diarrheal_diseases.excess_mortality_rate',\n",
       " 'diarrheal_diseases.excess_mortality_rate.population_attributable_fraction',\n",
       " 'diarrheal_diseases.remission_rate',\n",
       " 'diarrheal_diseases.remission_rate.paf',\n",
       " 'measles.dwell_time',\n",
       " 'measles.disability_weight',\n",
       " 'measles.excess_mortality_rate',\n",
       " 'measles.excess_mortality_rate.population_attributable_fraction',\n",
       " 'lower_respiratory_infections.dwell_time',\n",
       " 'lower_respiratory_infections.disability_weight',\n",
       " 'lower_respiratory_infections.excess_mortality_rate',\n",
       " 'lower_respiratory_infections.excess_mortality_rate.population_attributable_fraction',\n",
       " 'lower_respiratory_infections.remission_rate',\n",
       " 'lower_respiratory_infections.remission_rate.paf',\n",
       " 'child_wasting.propensity',\n",
       " 'child_stunting.propensity',\n",
       " 'low_birth_weight_and_short_gestation.raw_exposure',\n",
       " 'low_birth_weight_and_short_gestation.exposure']"
      ]
     },
     "execution_count": 32,
     "metadata": {},
     "output_type": "execute_result"
    }
   ],
   "source": [
    "#list the key names of the pipeline\n",
    "sim_mali.list_values()"
   ]
  },
  {
   "cell_type": "code",
   "execution_count": 69,
   "metadata": {},
   "outputs": [],
   "source": [
    "#interested pipelines : 'child_stunting.exposure', 'child_wasting.exposure'\n",
    "#this 'get_value' gets the wasting pipline values -not totall sure what this means! get some clarification\n",
    "# a pipeline is a 'python method thingie'\n",
    "\n",
    "#pipeline for india sim\n",
    "\n",
    "pipe_wasting_india = sim_india.get_value('child_wasting.exposure')\n",
    "pipe_stunting_india = sim_india.get_value('child_stunting.exposure')\n",
    "pipe_lbwsg_india = sim_india.get_value('low_birth_weight_and_short_gestation.exposure')"
   ]
  },
  {
   "cell_type": "code",
   "execution_count": 70,
   "metadata": {},
   "outputs": [],
   "source": [
    "#pipeline for pakistan sim\n",
    "\n",
    "pipe_wasting_pakistan = sim_pakistan.get_value('child_wasting.exposure')\n",
    "pipe_stunting_pakistan = sim_pakistan.get_value('child_stunting.exposure')\n",
    "pipe_lbwsg_pakistan = sim_pakistan.get_value('low_birth_weight_and_short_gestation.exposure')"
   ]
  },
  {
   "cell_type": "code",
   "execution_count": 71,
   "metadata": {},
   "outputs": [],
   "source": [
    "#pipeline for mali sim\n",
    "\n",
    "pipe_wasting_mali = sim_mali.get_value('child_wasting.exposure')\n",
    "pipe_stunting_mali = sim_mali.get_value('child_stunting.exposure')\n",
    "pipe_lbwsg_mali = sim_mali.get_value('low_birth_weight_and_short_gestation.exposure')"
   ]
  },
  {
   "cell_type": "code",
   "execution_count": 72,
   "metadata": {},
   "outputs": [],
   "source": [
    "#pipeline for tanzania sim\n",
    "\n",
    "pipe_wasting_tanzania = sim_tanzania.get_value('child_wasting.exposure')\n",
    "pipe_stunting_tanzania = sim_tanzania.get_value('child_stunting.exposure')\n",
    "pipe_lbwsg_tanzania = sim_tanzania.get_value('low_birth_weight_and_short_gestation.exposure')"
   ]
  },
  {
   "cell_type": "code",
   "execution_count": 73,
   "metadata": {
    "scrolled": true
   },
   "outputs": [
    {
     "data": {
      "text/plain": [
       "0    10.430442\n",
       "1     8.309048\n",
       "2     8.070477\n",
       "3    10.410576\n",
       "4    12.437383\n",
       "dtype: float64"
      ]
     },
     "execution_count": 73,
     "metadata": {},
     "output_type": "execute_result"
    }
   ],
   "source": [
    "#the skip_post_processor skips the conversion of the z-scores to cats 1-4 (this is a method, and shouldnt need to be re-run)\n",
    "\n",
    "type(pipe_wasting_mali(pop_mali.index, skip_post_processor=True))\n",
    "pipe_wasting_mali(pop_mali.index, skip_post_processor=True).head()"
   ]
  },
  {
   "cell_type": "code",
   "execution_count": 75,
   "metadata": {},
   "outputs": [
    {
     "data": {
      "text/plain": [
       "0     0.000000\n",
       "1     8.904662\n",
       "2    10.603994\n",
       "3     9.966765\n",
       "4     8.427693\n",
       "dtype: float64"
      ]
     },
     "execution_count": 75,
     "metadata": {},
     "output_type": "execute_result"
    }
   ],
   "source": [
    "#stunting pipeline\n",
    "\n",
    "pipe_stunting_mali(pop_mali.index, skip_post_processor=True).head()"
   ]
  },
  {
   "cell_type": "markdown",
   "metadata": {},
   "source": [
    "## Create mask to filter alive/dead population "
   ]
  },
  {
   "cell_type": "code",
   "execution_count": 76,
   "metadata": {},
   "outputs": [
    {
     "data": {
      "text/plain": [
       "0    False\n",
       "1     True\n",
       "2     True\n",
       "3     True\n",
       "4     True\n",
       "Name: alive, dtype: bool"
      ]
     },
     "execution_count": 76,
     "metadata": {},
     "output_type": "execute_result"
    }
   ],
   "source": [
    "# create mask; read more about masking here ->http://danielandreasen.github.io/:about/2015/01/19/masks-in-python/\n",
    "\n",
    "#(pop.alive == 'alive').all()\n",
    "\n",
    "mask_alive_india = pop_india.alive == 'alive'\n",
    "mask_alive_pakistan = pop_pakistan.alive == 'alive'\n",
    "mask_alive_mali = pop_mali.alive == 'alive'\n",
    "mask_alive_tanzania = pop_tanzania.alive == 'alive'\n",
    "\n",
    "#mask_alive[:5] = False\n",
    "mask_alive_mali.head()"
   ]
  },
  {
   "cell_type": "code",
   "execution_count": 38,
   "metadata": {},
   "outputs": [
    {
     "data": {
      "text/html": [
       "<div>\n",
       "<style scoped>\n",
       "    .dataframe tbody tr th:only-of-type {\n",
       "        vertical-align: middle;\n",
       "    }\n",
       "\n",
       "    .dataframe tbody tr th {\n",
       "        vertical-align: top;\n",
       "    }\n",
       "\n",
       "    .dataframe thead th {\n",
       "        text-align: right;\n",
       "    }\n",
       "</style>\n",
       "<table border=\"1\" class=\"dataframe\">\n",
       "  <thead>\n",
       "    <tr style=\"text-align: right;\">\n",
       "      <th></th>\n",
       "      <th>birth_weight</th>\n",
       "      <th>gestation_time</th>\n",
       "      <th>birth_weight_propensity</th>\n",
       "    </tr>\n",
       "  </thead>\n",
       "  <tbody>\n",
       "    <tr>\n",
       "      <th>0</th>\n",
       "      <td>3239.809190</td>\n",
       "      <td>38.696547</td>\n",
       "      <td>0.69112</td>\n",
       "    </tr>\n",
       "    <tr>\n",
       "      <th>1</th>\n",
       "      <td>2752.808185</td>\n",
       "      <td>40.506541</td>\n",
       "      <td>0.36478</td>\n",
       "    </tr>\n",
       "    <tr>\n",
       "      <th>2</th>\n",
       "      <td>3145.266875</td>\n",
       "      <td>38.588442</td>\n",
       "      <td>0.63237</td>\n",
       "    </tr>\n",
       "    <tr>\n",
       "      <th>3</th>\n",
       "      <td>3870.238480</td>\n",
       "      <td>37.822455</td>\n",
       "      <td>0.91681</td>\n",
       "    </tr>\n",
       "    <tr>\n",
       "      <th>4</th>\n",
       "      <td>3317.467500</td>\n",
       "      <td>41.709407</td>\n",
       "      <td>0.74020</td>\n",
       "    </tr>\n",
       "  </tbody>\n",
       "</table>\n",
       "</div>"
      ],
      "text/plain": [
       "   birth_weight  gestation_time  birth_weight_propensity\n",
       "0   3239.809190       38.696547                  0.69112\n",
       "1   2752.808185       40.506541                  0.36478\n",
       "2   3145.266875       38.588442                  0.63237\n",
       "3   3870.238480       37.822455                  0.91681\n",
       "4   3317.467500       41.709407                  0.74020"
      ]
     },
     "execution_count": 38,
     "metadata": {},
     "output_type": "execute_result"
    }
   ],
   "source": [
    "# birthweight\n",
    "\n",
    "#pipe_lbwsg(pd.Index(range(8)), skip_post_processor=True).head(10) #tells the pipeline to select the first 8 indexes\n",
    "pipe_lbwsg_mali(pop_mali.index, skip_post_processor=True).head()\n"
   ]
  },
  {
   "cell_type": "code",
   "execution_count": 77,
   "metadata": {},
   "outputs": [
    {
     "data": {
      "text/html": [
       "<div>\n",
       "<style scoped>\n",
       "    .dataframe tbody tr th:only-of-type {\n",
       "        vertical-align: middle;\n",
       "    }\n",
       "\n",
       "    .dataframe tbody tr th {\n",
       "        vertical-align: top;\n",
       "    }\n",
       "\n",
       "    .dataframe thead th {\n",
       "        text-align: right;\n",
       "    }\n",
       "</style>\n",
       "<table border=\"1\" class=\"dataframe\">\n",
       "  <thead>\n",
       "    <tr style=\"text-align: right;\">\n",
       "      <th></th>\n",
       "      <th>tracked</th>\n",
       "      <th>mother_malnourished</th>\n",
       "      <th>baseline_maternal_supplementation_type</th>\n",
       "      <th>scenario_maternal_supplementation_type</th>\n",
       "      <th>previous_protein_energy_malnutrition</th>\n",
       "      <th>previous_lower_respiratory_infections</th>\n",
       "      <th>previous_measles</th>\n",
       "      <th>previous_diarrheal_diseases</th>\n",
       "      <th>years_lived_with_disability</th>\n",
       "      <th>years_of_life_lost</th>\n",
       "      <th>...</th>\n",
       "      <th>recovered_from_measles_event_count</th>\n",
       "      <th>measles_event_count</th>\n",
       "      <th>measles_event_time</th>\n",
       "      <th>susceptible_to_measles_event_count</th>\n",
       "      <th>susceptible_to_measles_event_time</th>\n",
       "      <th>diarrheal_diseases</th>\n",
       "      <th>diarrheal_diseases_event_time</th>\n",
       "      <th>diarrheal_diseases_event_count</th>\n",
       "      <th>susceptible_to_diarrheal_diseases_event_count</th>\n",
       "      <th>susceptible_to_diarrheal_diseases_event_time</th>\n",
       "    </tr>\n",
       "  </thead>\n",
       "  <tbody>\n",
       "    <tr>\n",
       "      <th>1</th>\n",
       "      <td>True</td>\n",
       "      <td>normal</td>\n",
       "      <td>none</td>\n",
       "      <td>none</td>\n",
       "      <td>susceptible_to_protein_energy_malnutrition</td>\n",
       "      <td>susceptible_to_lower_respiratory_infections</td>\n",
       "      <td>susceptible_to_measles</td>\n",
       "      <td>susceptible_to_diarrheal_diseases</td>\n",
       "      <td>0.001036</td>\n",
       "      <td>0.0</td>\n",
       "      <td>...</td>\n",
       "      <td>0</td>\n",
       "      <td>0</td>\n",
       "      <td>NaT</td>\n",
       "      <td>0</td>\n",
       "      <td>NaT</td>\n",
       "      <td>susceptible_to_diarrheal_diseases</td>\n",
       "      <td>NaT</td>\n",
       "      <td>0</td>\n",
       "      <td>0</td>\n",
       "      <td>NaT</td>\n",
       "    </tr>\n",
       "    <tr>\n",
       "      <th>2</th>\n",
       "      <td>True</td>\n",
       "      <td>normal</td>\n",
       "      <td>none</td>\n",
       "      <td>none</td>\n",
       "      <td>susceptible_to_protein_energy_malnutrition</td>\n",
       "      <td>susceptible_to_lower_respiratory_infections</td>\n",
       "      <td>susceptible_to_measles</td>\n",
       "      <td>susceptible_to_diarrheal_diseases</td>\n",
       "      <td>0.001038</td>\n",
       "      <td>0.0</td>\n",
       "      <td>...</td>\n",
       "      <td>0</td>\n",
       "      <td>0</td>\n",
       "      <td>NaT</td>\n",
       "      <td>0</td>\n",
       "      <td>NaT</td>\n",
       "      <td>susceptible_to_diarrheal_diseases</td>\n",
       "      <td>NaT</td>\n",
       "      <td>0</td>\n",
       "      <td>0</td>\n",
       "      <td>NaT</td>\n",
       "    </tr>\n",
       "    <tr>\n",
       "      <th>3</th>\n",
       "      <td>True</td>\n",
       "      <td>normal</td>\n",
       "      <td>ifa</td>\n",
       "      <td>ifa</td>\n",
       "      <td>susceptible_to_protein_energy_malnutrition</td>\n",
       "      <td>susceptible_to_lower_respiratory_infections</td>\n",
       "      <td>susceptible_to_measles</td>\n",
       "      <td>susceptible_to_diarrheal_diseases</td>\n",
       "      <td>0.000000</td>\n",
       "      <td>0.0</td>\n",
       "      <td>...</td>\n",
       "      <td>0</td>\n",
       "      <td>0</td>\n",
       "      <td>NaT</td>\n",
       "      <td>0</td>\n",
       "      <td>NaT</td>\n",
       "      <td>susceptible_to_diarrheal_diseases</td>\n",
       "      <td>NaT</td>\n",
       "      <td>0</td>\n",
       "      <td>0</td>\n",
       "      <td>NaT</td>\n",
       "    </tr>\n",
       "    <tr>\n",
       "      <th>4</th>\n",
       "      <td>True</td>\n",
       "      <td>normal</td>\n",
       "      <td>none</td>\n",
       "      <td>none</td>\n",
       "      <td>susceptible_to_protein_energy_malnutrition</td>\n",
       "      <td>susceptible_to_lower_respiratory_infections</td>\n",
       "      <td>susceptible_to_measles</td>\n",
       "      <td>susceptible_to_diarrheal_diseases</td>\n",
       "      <td>0.000000</td>\n",
       "      <td>0.0</td>\n",
       "      <td>...</td>\n",
       "      <td>0</td>\n",
       "      <td>0</td>\n",
       "      <td>NaT</td>\n",
       "      <td>0</td>\n",
       "      <td>NaT</td>\n",
       "      <td>susceptible_to_diarrheal_diseases</td>\n",
       "      <td>NaT</td>\n",
       "      <td>0</td>\n",
       "      <td>0</td>\n",
       "      <td>NaT</td>\n",
       "    </tr>\n",
       "    <tr>\n",
       "      <th>5</th>\n",
       "      <td>True</td>\n",
       "      <td>normal</td>\n",
       "      <td>none</td>\n",
       "      <td>none</td>\n",
       "      <td>protein_energy_malnutrition</td>\n",
       "      <td>susceptible_to_lower_respiratory_infections</td>\n",
       "      <td>susceptible_to_measles</td>\n",
       "      <td>susceptible_to_diarrheal_diseases</td>\n",
       "      <td>0.002603</td>\n",
       "      <td>0.0</td>\n",
       "      <td>...</td>\n",
       "      <td>0</td>\n",
       "      <td>0</td>\n",
       "      <td>NaT</td>\n",
       "      <td>0</td>\n",
       "      <td>NaT</td>\n",
       "      <td>susceptible_to_diarrheal_diseases</td>\n",
       "      <td>NaT</td>\n",
       "      <td>0</td>\n",
       "      <td>0</td>\n",
       "      <td>NaT</td>\n",
       "    </tr>\n",
       "  </tbody>\n",
       "</table>\n",
       "<p>5 rows × 43 columns</p>\n",
       "</div>"
      ],
      "text/plain": [
       "   tracked mother_malnourished baseline_maternal_supplementation_type  \\\n",
       "1     True              normal                                   none   \n",
       "2     True              normal                                   none   \n",
       "3     True              normal                                    ifa   \n",
       "4     True              normal                                   none   \n",
       "5     True              normal                                   none   \n",
       "\n",
       "  scenario_maternal_supplementation_type  \\\n",
       "1                                   none   \n",
       "2                                   none   \n",
       "3                                    ifa   \n",
       "4                                   none   \n",
       "5                                   none   \n",
       "\n",
       "         previous_protein_energy_malnutrition  \\\n",
       "1  susceptible_to_protein_energy_malnutrition   \n",
       "2  susceptible_to_protein_energy_malnutrition   \n",
       "3  susceptible_to_protein_energy_malnutrition   \n",
       "4  susceptible_to_protein_energy_malnutrition   \n",
       "5                 protein_energy_malnutrition   \n",
       "\n",
       "         previous_lower_respiratory_infections        previous_measles  \\\n",
       "1  susceptible_to_lower_respiratory_infections  susceptible_to_measles   \n",
       "2  susceptible_to_lower_respiratory_infections  susceptible_to_measles   \n",
       "3  susceptible_to_lower_respiratory_infections  susceptible_to_measles   \n",
       "4  susceptible_to_lower_respiratory_infections  susceptible_to_measles   \n",
       "5  susceptible_to_lower_respiratory_infections  susceptible_to_measles   \n",
       "\n",
       "         previous_diarrheal_diseases  years_lived_with_disability  \\\n",
       "1  susceptible_to_diarrheal_diseases                     0.001036   \n",
       "2  susceptible_to_diarrheal_diseases                     0.001038   \n",
       "3  susceptible_to_diarrheal_diseases                     0.000000   \n",
       "4  susceptible_to_diarrheal_diseases                     0.000000   \n",
       "5  susceptible_to_diarrheal_diseases                     0.002603   \n",
       "\n",
       "   years_of_life_lost  ... recovered_from_measles_event_count  \\\n",
       "1                 0.0  ...                                  0   \n",
       "2                 0.0  ...                                  0   \n",
       "3                 0.0  ...                                  0   \n",
       "4                 0.0  ...                                  0   \n",
       "5                 0.0  ...                                  0   \n",
       "\n",
       "   measles_event_count measles_event_time  susceptible_to_measles_event_count  \\\n",
       "1                    0                NaT                                   0   \n",
       "2                    0                NaT                                   0   \n",
       "3                    0                NaT                                   0   \n",
       "4                    0                NaT                                   0   \n",
       "5                    0                NaT                                   0   \n",
       "\n",
       "  susceptible_to_measles_event_time                 diarrheal_diseases  \\\n",
       "1                               NaT  susceptible_to_diarrheal_diseases   \n",
       "2                               NaT  susceptible_to_diarrheal_diseases   \n",
       "3                               NaT  susceptible_to_diarrheal_diseases   \n",
       "4                               NaT  susceptible_to_diarrheal_diseases   \n",
       "5                               NaT  susceptible_to_diarrheal_diseases   \n",
       "\n",
       "  diarrheal_diseases_event_time diarrheal_diseases_event_count  \\\n",
       "1                           NaT                              0   \n",
       "2                           NaT                              0   \n",
       "3                           NaT                              0   \n",
       "4                           NaT                              0   \n",
       "5                           NaT                              0   \n",
       "\n",
       "   susceptible_to_diarrheal_diseases_event_count  \\\n",
       "1                                              0   \n",
       "2                                              0   \n",
       "3                                              0   \n",
       "4                                              0   \n",
       "5                                              0   \n",
       "\n",
       "   susceptible_to_diarrheal_diseases_event_time  \n",
       "1                                           NaT  \n",
       "2                                           NaT  \n",
       "3                                           NaT  \n",
       "4                                           NaT  \n",
       "5                                           NaT  \n",
       "\n",
       "[5 rows x 43 columns]"
      ]
     },
     "execution_count": 77,
     "metadata": {},
     "output_type": "execute_result"
    }
   ],
   "source": [
    "pop_mali[mask_alive_mali].head()\n",
    "\n",
    "#pop[bolean series] --> if you pass a bolean series inside square brackets of a data frame, you get a dataframe where bolean is true\n",
    "# the boleans series is a different object, so make sure they have matching indexes"
   ]
  },
  {
   "cell_type": "markdown",
   "metadata": {},
   "source": [
    "# create index for alive population and dead population "
   ]
  },
  {
   "cell_type": "code",
   "execution_count": 110,
   "metadata": {},
   "outputs": [],
   "source": [
    "#another way to do it\n",
    "\n",
    "alive_pop_mali = pop_mali.loc[mask_alive_mali, :]\n",
    "dead_pop_mali = pop_mali.loc[~mask_alive_mali, :]\n",
    "\n",
    "alive_pop_india = pop_india.loc[mask_alive_india, :]\n",
    "dead_pop_india = pop_india.loc[~mask_alive_india, :]\n",
    "\n",
    "alive_pop_tanzania = pop_tanzania.loc[mask_alive_tanzania, :]\n",
    "dead_pop_tanzania = pop_tanzania.loc[~mask_alive_tanzania, :]\n",
    "\n",
    "alive_pop_pakistan = pop_pakistan.loc[mask_alive_pakistan, :]\n",
    "dead_pop_pakistan = pop_pakistan.loc[~mask_alive_pakistan, :]\n",
    "\n",
    "# pop.loc[mask_alive, ['mother_malnourished', 'tracked']].head() \n",
    "\n",
    "# two dimensions of dataframe where loc[row,columns]\n",
    "# here I'm saying i only want the rows defined by my ask, and the colon means all columns \n",
    "# .loc makes it more clear which filters I am using for rows and columns"
   ]
  },
  {
   "cell_type": "code",
   "execution_count": 79,
   "metadata": {
    "scrolled": false
   },
   "outputs": [
    {
     "data": {
      "text/plain": [
       "Int64Index([   1,    2,    3,    4,    5,    6,    7,    8,    9,   10,\n",
       "            ...\n",
       "            9990, 9991, 9992, 9993, 9994, 9995, 9996, 9997, 9998, 9999],\n",
       "           dtype='int64', length=9515)"
      ]
     },
     "execution_count": 79,
     "metadata": {},
     "output_type": "execute_result"
    }
   ],
   "source": [
    "alive_pop_mali.index"
   ]
  },
  {
   "cell_type": "code",
   "execution_count": 80,
   "metadata": {},
   "outputs": [
    {
     "data": {
      "text/plain": [
       "Int64Index([   0,   20,   22,   43,   45,   49,  133,  142,  145,  154,\n",
       "            ...\n",
       "            9808, 9835, 9851, 9862, 9885, 9894, 9905, 9941, 9943, 9952],\n",
       "           dtype='int64', length=485)"
      ]
     },
     "execution_count": 80,
     "metadata": {},
     "output_type": "execute_result"
    }
   ],
   "source": [
    "dead_pop_mali.index"
   ]
  },
  {
   "cell_type": "code",
   "execution_count": 81,
   "metadata": {},
   "outputs": [
    {
     "data": {
      "text/plain": [
       "Int64Index([   1,    2,    3,    4,    5,    6,    7,    8,    9,   10,\n",
       "            ...\n",
       "            9990, 9991, 9992, 9993, 9994, 9995, 9996, 9997, 9998, 9999],\n",
       "           dtype='int64', length=9515)"
      ]
     },
     "execution_count": 81,
     "metadata": {},
     "output_type": "execute_result"
    }
   ],
   "source": [
    "pop_mali.index[mask_alive_mali]\n",
    "\n",
    "#by default, this is giving us a pd index data frame with all the values where mask_alive = alive is TRUE\n",
    "\n",
    "#pop.index[mask_alive[~mask_alive].index] # ~ means mask_alive= False (~ this is the complement operator)"
   ]
  },
  {
   "cell_type": "code",
   "execution_count": 82,
   "metadata": {},
   "outputs": [
    {
     "data": {
      "text/plain": [
       "Int64Index([   1,    2,    3,    4,    5,    6,    7,    8,    9,   10,\n",
       "            ...\n",
       "            9990, 9991, 9992, 9993, 9994, 9995, 9996, 9997, 9998, 9999],\n",
       "           dtype='int64', length=9515)"
      ]
     },
     "execution_count": 82,
     "metadata": {},
     "output_type": "execute_result"
    }
   ],
   "source": [
    "alive_index_mali = alive_pop_mali.index\n",
    "dead_index_mali = dead_pop_mali.index\n",
    "alive_index_mali"
   ]
  },
  {
   "cell_type": "code",
   "execution_count": 84,
   "metadata": {},
   "outputs": [],
   "source": [
    "#CREATE ALIVE INDEX\n",
    "\n",
    "alive_index_india = alive_pop_india.index\n",
    "alive_index_pakistan = alive_pop_pakistan.index\n",
    "alive_index_mali = alive_pop_mali.index\n",
    "alive_index_tanzania = alive_pop_tanzania.index"
   ]
  },
  {
   "cell_type": "markdown",
   "metadata": {},
   "source": [
    "# 5. Create dataframe with interested variables"
   ]
  },
  {
   "cell_type": "code",
   "execution_count": 103,
   "metadata": {},
   "outputs": [
    {
     "data": {
      "text/plain": [
       "9783"
      ]
     },
     "execution_count": 103,
     "metadata": {},
     "output_type": "execute_result"
    }
   ],
   "source": [
    "#get the dataframe with individual data to look at correlation between birthweight and wasting/stunting z scores\n",
    "\n",
    "india = pd.DataFrame({'stunting_india': pipe_stunting_india(alive_index_india, skip_post_processor=True),\n",
    "                    'wasting_india': pipe_wasting_india(alive_index_india, skip_post_processor=True),\n",
    "                    'lbwsg_india': pipe_lbwsg_india(alive_index_india, skip_post_processor=True).birth_weight,\n",
    "                    'birth_weight_india': pop_india.loc[alive_index_india].birth_weight,\n",
    "                    'mom_status_india': pop_india.loc[alive_index_india].mother_malnourished,\n",
    "                    'ifa_status_india': pop_india.loc[alive_index_india].baseline_maternal_supplementation_type,\n",
    "                    'alive_status_india': pop_india.loc[alive_index_india].alive })\n",
    "len(india)\n",
    "\n",
    "##note number who died is 10,000-len(df1)"
   ]
  },
  {
   "cell_type": "code",
   "execution_count": 104,
   "metadata": {},
   "outputs": [
    {
     "data": {
      "text/plain": [
       "9515"
      ]
     },
     "execution_count": 104,
     "metadata": {},
     "output_type": "execute_result"
    }
   ],
   "source": [
    "#get the dataframe with individual data to look at correlation between birthweight and wasting/stunting z scores\n",
    "\n",
    "mali = pd.DataFrame({'stunting_mali': pipe_stunting_mali(alive_index_mali, skip_post_processor=True),\n",
    "                    'wasting_mali': pipe_wasting_mali(alive_index_mali, skip_post_processor=True),\n",
    "                    'lbwsg_mali': pipe_lbwsg_mali(alive_index_mali, skip_post_processor=True).birth_weight,\n",
    "                    'birth_weight_mali': pop_mali.loc[alive_index_mali].birth_weight,\n",
    "                    'mom_status_mali': pop_mali.loc[alive_index_mali].mother_malnourished,\n",
    "                    'ifa_status_mali': pop_mali.loc[alive_index_mali].baseline_maternal_supplementation_type,\n",
    "                    'alive_status_mali': pop_mali.loc[alive_index_mali].alive })\n",
    "len(mali)\n",
    "\n",
    "##note number who died is 10,000-len(df1)"
   ]
  },
  {
   "cell_type": "code",
   "execution_count": 109,
   "metadata": {},
   "outputs": [
    {
     "data": {
      "text/html": [
       "<div>\n",
       "<style scoped>\n",
       "    .dataframe tbody tr th:only-of-type {\n",
       "        vertical-align: middle;\n",
       "    }\n",
       "\n",
       "    .dataframe tbody tr th {\n",
       "        vertical-align: top;\n",
       "    }\n",
       "\n",
       "    .dataframe thead th {\n",
       "        text-align: right;\n",
       "    }\n",
       "</style>\n",
       "<table border=\"1\" class=\"dataframe\">\n",
       "  <thead>\n",
       "    <tr style=\"text-align: right;\">\n",
       "      <th></th>\n",
       "      <th>stunting_pakistan</th>\n",
       "      <th>wasting_pakistan</th>\n",
       "      <th>lbwsg_pakistan</th>\n",
       "      <th>birth_weight_pakistan</th>\n",
       "      <th>mom_status_pakistan</th>\n",
       "      <th>ifa_status_pakistan</th>\n",
       "      <th>alive_status_pakistan</th>\n",
       "    </tr>\n",
       "  </thead>\n",
       "  <tbody>\n",
       "    <tr>\n",
       "      <th>0</th>\n",
       "      <td>8.693279</td>\n",
       "      <td>10.748636</td>\n",
       "      <td>3249.059779</td>\n",
       "      <td>3251.607412</td>\n",
       "      <td>normal</td>\n",
       "      <td>none</td>\n",
       "      <td>alive</td>\n",
       "    </tr>\n",
       "    <tr>\n",
       "      <th>1</th>\n",
       "      <td>9.028592</td>\n",
       "      <td>8.193794</td>\n",
       "      <td>2762.058774</td>\n",
       "      <td>2764.606407</td>\n",
       "      <td>normal</td>\n",
       "      <td>none</td>\n",
       "      <td>alive</td>\n",
       "    </tr>\n",
       "    <tr>\n",
       "      <th>2</th>\n",
       "      <td>11.161933</td>\n",
       "      <td>7.888475</td>\n",
       "      <td>3154.517464</td>\n",
       "      <td>3157.065097</td>\n",
       "      <td>normal</td>\n",
       "      <td>none</td>\n",
       "      <td>alive</td>\n",
       "    </tr>\n",
       "    <tr>\n",
       "      <th>3</th>\n",
       "      <td>10.062550</td>\n",
       "      <td>9.855725</td>\n",
       "      <td>2879.489069</td>\n",
       "      <td>2806.544096</td>\n",
       "      <td>normal</td>\n",
       "      <td>ifa</td>\n",
       "      <td>alive</td>\n",
       "    </tr>\n",
       "    <tr>\n",
       "      <th>4</th>\n",
       "      <td>8.241344</td>\n",
       "      <td>12.773957</td>\n",
       "      <td>3326.718090</td>\n",
       "      <td>3329.265723</td>\n",
       "      <td>normal</td>\n",
       "      <td>none</td>\n",
       "      <td>alive</td>\n",
       "    </tr>\n",
       "  </tbody>\n",
       "</table>\n",
       "</div>"
      ],
      "text/plain": [
       "   stunting_pakistan  wasting_pakistan  lbwsg_pakistan  birth_weight_pakistan  \\\n",
       "0           8.693279         10.748636     3249.059779            3251.607412   \n",
       "1           9.028592          8.193794     2762.058774            2764.606407   \n",
       "2          11.161933          7.888475     3154.517464            3157.065097   \n",
       "3          10.062550          9.855725     2879.489069            2806.544096   \n",
       "4           8.241344         12.773957     3326.718090            3329.265723   \n",
       "\n",
       "  mom_status_pakistan ifa_status_pakistan alive_status_pakistan  \n",
       "0              normal                none                 alive  \n",
       "1              normal                none                 alive  \n",
       "2              normal                none                 alive  \n",
       "3              normal                 ifa                 alive  \n",
       "4              normal                none                 alive  "
      ]
     },
     "execution_count": 109,
     "metadata": {},
     "output_type": "execute_result"
    }
   ],
   "source": [
    "#PAKSITAN\n",
    "\n",
    "#get the dataframe with individual data to look at correlation between birthweight and wasting/stunting z scores\n",
    "\n",
    "pakistan = pd.DataFrame({'stunting_pakistan': pipe_stunting_pakistan(alive_index_pakistan, skip_post_processor=True),\n",
    "                    'wasting_pakistan': pipe_wasting_pakistan(alive_index_pakistan, skip_post_processor=True),\n",
    "                    'lbwsg_pakistan': pipe_lbwsg_pakistan(alive_index_pakistan, skip_post_processor=True).birth_weight,\n",
    "                    'birth_weight_pakistan': pop_pakistan.loc[alive_index_pakistan].birth_weight,\n",
    "                    'mom_status_pakistan': pop_pakistan.loc[alive_index_pakistan].mother_malnourished,\n",
    "                    'ifa_status_pakistan': pop_pakistan.loc[alive_index_pakistan].baseline_maternal_supplementation_type,\n",
    "                    'alive_status_pakistan': pop_pakistan.loc[alive_index_pakistan].alive })\n",
    "len(pakistan)\n",
    "pakistan.head()\n",
    "##note number who died is 10,000-len(df1)"
   ]
  },
  {
   "cell_type": "code",
   "execution_count": 106,
   "metadata": {},
   "outputs": [
    {
     "data": {
      "text/plain": [
       "9825"
      ]
     },
     "execution_count": 106,
     "metadata": {},
     "output_type": "execute_result"
    }
   ],
   "source": [
    "#TANZANIA\n",
    "\n",
    "#get the dataframe with individual data to look at correlation between birthweight and wasting/stunting z scores\n",
    "\n",
    "tanzania = pd.DataFrame({'stunting_tanzania': pipe_stunting_tanzania(alive_index_tanzania, skip_post_processor=True),\n",
    "                    'wasting_tanzania': pipe_wasting_tanzania(alive_index_tanzania, skip_post_processor=True),\n",
    "                    'lbwsg_tanzania': pipe_lbwsg_tanzania(alive_index_tanzania, skip_post_processor=True).birth_weight,\n",
    "                    'birth_weight_tanzania': pop_tanzania.loc[alive_index_tanzania].birth_weight,\n",
    "                    'mom_status_tanzania': pop_tanzania.loc[alive_index_tanzania].mother_malnourished,\n",
    "                    'ifa_status_tanzania': pop_tanzania.loc[alive_index_tanzania].baseline_maternal_supplementation_type,\n",
    "                    'alive_status_tanzania': pop_tanzania.loc[alive_index_tanzania].alive })\n",
    "len(tanzania)\n",
    "\n",
    "##note number who died is 10,000-len(df1)"
   ]
  },
  {
   "cell_type": "markdown",
   "metadata": {},
   "source": [
    "# 6. Explore variables"
   ]
  },
  {
   "cell_type": "markdown",
   "metadata": {},
   "source": [
    "# ----------------------------------------------------------\n",
    "## MALI individual z-score at 32 days\n",
    "\n"
   ]
  },
  {
   "cell_type": "code",
   "execution_count": 107,
   "metadata": {
    "scrolled": true
   },
   "outputs": [
    {
     "data": {
      "text/html": [
       "<div>\n",
       "<style scoped>\n",
       "    .dataframe tbody tr th:only-of-type {\n",
       "        vertical-align: middle;\n",
       "    }\n",
       "\n",
       "    .dataframe tbody tr th {\n",
       "        vertical-align: top;\n",
       "    }\n",
       "\n",
       "    .dataframe thead th {\n",
       "        text-align: right;\n",
       "    }\n",
       "</style>\n",
       "<table border=\"1\" class=\"dataframe\">\n",
       "  <thead>\n",
       "    <tr style=\"text-align: right;\">\n",
       "      <th></th>\n",
       "      <th>stunting_tanzania</th>\n",
       "      <th>wasting_tanzania</th>\n",
       "      <th>lbwsg_tanzania</th>\n",
       "      <th>birth_weight_tanzania</th>\n",
       "      <th>mom_status_tanzania</th>\n",
       "      <th>ifa_status_tanzania</th>\n",
       "      <th>alive_status_tanzania</th>\n",
       "      <th>stunting_z_score_tanzania</th>\n",
       "      <th>wasting_z_score_tanzania</th>\n",
       "    </tr>\n",
       "  </thead>\n",
       "  <tbody>\n",
       "    <tr>\n",
       "      <th>0</th>\n",
       "      <td>9.143328</td>\n",
       "      <td>10.983194</td>\n",
       "      <td>3752.126793</td>\n",
       "      <td>3751.607412</td>\n",
       "      <td>normal</td>\n",
       "      <td>none</td>\n",
       "      <td>alive</td>\n",
       "      <td>-0.856672</td>\n",
       "      <td>0.983194</td>\n",
       "    </tr>\n",
       "    <tr>\n",
       "      <th>1</th>\n",
       "      <td>9.110462</td>\n",
       "      <td>8.531048</td>\n",
       "      <td>3265.125788</td>\n",
       "      <td>3264.606407</td>\n",
       "      <td>normal</td>\n",
       "      <td>none</td>\n",
       "      <td>alive</td>\n",
       "      <td>-0.889538</td>\n",
       "      <td>-1.468952</td>\n",
       "    </tr>\n",
       "    <tr>\n",
       "      <th>2</th>\n",
       "      <td>12.079320</td>\n",
       "      <td>8.786082</td>\n",
       "      <td>3657.584478</td>\n",
       "      <td>3657.065097</td>\n",
       "      <td>normal</td>\n",
       "      <td>none</td>\n",
       "      <td>alive</td>\n",
       "      <td>2.079320</td>\n",
       "      <td>-1.213918</td>\n",
       "    </tr>\n",
       "    <tr>\n",
       "      <th>3</th>\n",
       "      <td>9.958469</td>\n",
       "      <td>10.237540</td>\n",
       "      <td>3382.556083</td>\n",
       "      <td>3306.544096</td>\n",
       "      <td>normal</td>\n",
       "      <td>ifa</td>\n",
       "      <td>alive</td>\n",
       "      <td>-0.041531</td>\n",
       "      <td>0.237540</td>\n",
       "    </tr>\n",
       "    <tr>\n",
       "      <th>4</th>\n",
       "      <td>8.129709</td>\n",
       "      <td>12.120338</td>\n",
       "      <td>3329.785103</td>\n",
       "      <td>3329.265723</td>\n",
       "      <td>normal</td>\n",
       "      <td>none</td>\n",
       "      <td>alive</td>\n",
       "      <td>-1.870291</td>\n",
       "      <td>2.120338</td>\n",
       "    </tr>\n",
       "  </tbody>\n",
       "</table>\n",
       "</div>"
      ],
      "text/plain": [
       "   stunting_tanzania  wasting_tanzania  lbwsg_tanzania  birth_weight_tanzania  \\\n",
       "0           9.143328         10.983194     3752.126793            3751.607412   \n",
       "1           9.110462          8.531048     3265.125788            3264.606407   \n",
       "2          12.079320          8.786082     3657.584478            3657.065097   \n",
       "3           9.958469         10.237540     3382.556083            3306.544096   \n",
       "4           8.129709         12.120338     3329.785103            3329.265723   \n",
       "\n",
       "  mom_status_tanzania ifa_status_tanzania alive_status_tanzania  \\\n",
       "0              normal                none                 alive   \n",
       "1              normal                none                 alive   \n",
       "2              normal                none                 alive   \n",
       "3              normal                 ifa                 alive   \n",
       "4              normal                none                 alive   \n",
       "\n",
       "   stunting_z_score_tanzania  wasting_z_score_tanzania  \n",
       "0                  -0.856672                  0.983194  \n",
       "1                  -0.889538                 -1.468952  \n",
       "2                   2.079320                 -1.213918  \n",
       "3                  -0.041531                  0.237540  \n",
       "4                  -1.870291                  2.120338  "
      ]
     },
     "execution_count": 107,
     "metadata": {},
     "output_type": "execute_result"
    }
   ],
   "source": [
    "def getZscores(df):\n",
    "    name =[x for x in globals() if globals()[x] is df][0]\n",
    "    df['stunting_z_score_%s' % name] = df['stunting_%s' % name] - 10\n",
    "    df['wasting_z_score_%s' % name] = df['wasting_%s' % name] -  10\n",
    "    return df\n",
    "\n",
    "india = getZscores(india)\n",
    "pakistan = getZscores(pakistan)\n",
    "mali = getZscores(mali)\n",
    "tanzania = getZscores(tanzania)\n",
    "\n",
    "tanzania.head()\n",
    "# mali['stunting_z_score_mali'] = mali['stunting_mali'] -  10\n",
    "# mali['wasting_z_score_mali'] = mali['wasting_mali'] -  10\n",
    "# mali.head()"
   ]
  },
  {
   "cell_type": "code",
   "execution_count": 108,
   "metadata": {
    "scrolled": true
   },
   "outputs": [
    {
     "name": "stdout",
     "output_type": "stream",
     "text": [
      "stunting z-score in INDIA at 32 days =-0.35795112716030003\n",
      "wasting z-score in INDIA at 32 days =-0.28319117499210966\n",
      "\n",
      "\n",
      "\n",
      "stunting z-score in PAKISTAN at 32 days =-0.7527641482096223\n",
      "wasting z-score in PAKISTAN at 32 days =-0.486186805883914\n",
      "\n",
      "\n",
      "\n",
      "stunting z-score in MALI at 32 days =-0.9113338147652299\n",
      "wasting z-score in MALI at 32 days =-0.40330895597599714\n",
      "\n",
      "\n",
      "\n",
      "stunting z-score in TANZANIA at 32 days =-0.5948547658230866\n",
      "wasting z-score in TANZANIA at 32 days =-0.062087381950562286\n"
     ]
    }
   ],
   "source": [
    "\n",
    "print('stunting z-score in INDIA at 32 days =' + str(india.stunting_z_score_india.mean()))\n",
    "print('wasting z-score in INDIA at 32 days =' + str(india.wasting_z_score_india.mean()))\n",
    "print('\\n\\n')\n",
    "\n",
    "print('stunting z-score in PAKISTAN at 32 days =' + str(pakistan.stunting_z_score_pakistan.mean()))\n",
    "print('wasting z-score in PAKISTAN at 32 days =' + str(pakistan.wasting_z_score_pakistan.mean()))\n",
    "print('\\n\\n')\n",
    "\n",
    "print('stunting z-score in MALI at 32 days =' + str(mali.stunting_z_score_mali.mean()))\n",
    "print('wasting z-score in MALI at 32 days =' + str(mali.wasting_z_score_mali.mean()))\n",
    "print('\\n\\n')\n",
    "\n",
    "\n",
    "print('stunting z-score in TANZANIA at 32 days =' + str(tanzania.stunting_z_score_tanzania.mean()))\n",
    "print('wasting z-score in TANZANIA at 32 days =' + str(tanzania.wasting_z_score_tanzania.mean()))\n",
    "\n",
    "#print(mali.wasting_z_score_mali.mean())"
   ]
  },
  {
   "cell_type": "code",
   "execution_count": 55,
   "metadata": {
    "scrolled": true
   },
   "outputs": [
    {
     "name": "stdout",
     "output_type": "stream",
     "text": [
      "1     8.309048\n",
      "2     8.070477\n",
      "3    10.410576\n",
      "4    12.437383\n",
      "5     7.185488\n",
      "Name: wasting_mali, dtype: float64\n",
      "9.596691044024004\n"
     ]
    }
   ],
   "source": [
    "print(mali.wasting_mali.head())\n",
    "print(mali.wasting_mali.mean())"
   ]
  },
  {
   "cell_type": "markdown",
   "metadata": {},
   "source": [
    "## ==============================="
   ]
  },
  {
   "cell_type": "markdown",
   "metadata": {},
   "source": [
    "## birthweight by mom status"
   ]
  },
  {
   "cell_type": "code",
   "execution_count": null,
   "metadata": {
    "scrolled": false
   },
   "outputs": [],
   "source": [
    "gb = df1.groupby('mom_status')\n",
    "\n",
    "print('birthweight from malnourished mothers = ' + str(gb.get_group('malnourished').lbwsg.mean()))\n",
    "print('birthweight from normal mothers = ' + str(gb.get_group('normal').lbwsg.mean()))\n",
    "print('birthweight difference = ' + str(gb.get_group('normal').lbwsg.mean()-gb.get_group('malnourished').lbwsg.mean()))\n",
    "\n",
    "# we want to update this to new data where we got the delta birthweight shift in grams from the literature of 160g"
   ]
  },
  {
   "cell_type": "code",
   "execution_count": null,
   "metadata": {},
   "outputs": [],
   "source": [
    "gb2 = df2.groupby('mom_status_mali')\n",
    "\n",
    "print('birthweight from malnourished mothers = ' + str(gb2.get_group('malnourished').lbwsg_mali.mean()))\n",
    "print('birthweight from normal mothers = ' + str(gb2.get_group('normal').lbwsg_mali.mean()))\n",
    "print('birthweight difference = ' + str(gb2.get_group('normal').lbwsg_mali.mean()-gb2.get_group('malnourished').lbwsg_mali.mean()))\n",
    "\n",
    "# we want to update this to new data where we got the delta birthweight shift in grams from the literature of 160g"
   ]
  },
  {
   "cell_type": "code",
   "execution_count": null,
   "metadata": {
    "scrolled": false
   },
   "outputs": [],
   "source": [
    "pyplot.scatter(df1.mom_status, df1.lbwsg)"
   ]
  },
  {
   "cell_type": "markdown",
   "metadata": {},
   "source": [
    "## stunting z-score by mom status"
   ]
  },
  {
   "cell_type": "code",
   "execution_count": 51,
   "metadata": {},
   "outputs": [
    {
     "ename": "NameError",
     "evalue": "name 'mal_stunted' is not defined",
     "output_type": "error",
     "traceback": [
      "\u001b[0;31m-----------------------------------------------------------------------\u001b[0m",
      "\u001b[0;31mNameError\u001b[0m                             Traceback (most recent call last)",
      "\u001b[0;32m<ipython-input-51-bc4f308c50c0>\u001b[0m in \u001b[0;36m<module>\u001b[0;34m\u001b[0m\n\u001b[1;32m      3\u001b[0m \u001b[0mmal_stunted_mali\u001b[0m \u001b[0;34m=\u001b[0m \u001b[0mgb2\u001b[0m\u001b[0;34m.\u001b[0m\u001b[0mget_group\u001b[0m\u001b[0;34m(\u001b[0m\u001b[0;34m'malnourished'\u001b[0m\u001b[0;34m)\u001b[0m\u001b[0;34m.\u001b[0m\u001b[0mstunting_mali\u001b[0m\u001b[0;34m.\u001b[0m\u001b[0mmean\u001b[0m\u001b[0;34m(\u001b[0m\u001b[0;34m)\u001b[0m\u001b[0;34m-\u001b[0m\u001b[0;36m10\u001b[0m\u001b[0;34m\u001b[0m\u001b[0;34m\u001b[0m\u001b[0m\n\u001b[1;32m      4\u001b[0m \u001b[0mnorm_stunted_mali\u001b[0m \u001b[0;34m=\u001b[0m \u001b[0mgb2\u001b[0m\u001b[0;34m.\u001b[0m\u001b[0mget_group\u001b[0m\u001b[0;34m(\u001b[0m\u001b[0;34m'normal'\u001b[0m\u001b[0;34m)\u001b[0m\u001b[0;34m.\u001b[0m\u001b[0mstunting_mali\u001b[0m\u001b[0;34m.\u001b[0m\u001b[0mmean\u001b[0m\u001b[0;34m(\u001b[0m\u001b[0;34m)\u001b[0m\u001b[0;34m-\u001b[0m\u001b[0;36m10\u001b[0m\u001b[0;34m\u001b[0m\u001b[0;34m\u001b[0m\u001b[0m\n\u001b[0;32m----> 5\u001b[0;31m \u001b[0mstunted_diff_mali\u001b[0m \u001b[0;34m=\u001b[0m \u001b[0;34m(\u001b[0m\u001b[0mmal_stunted\u001b[0m\u001b[0;34m)\u001b[0m \u001b[0;34m-\u001b[0m \u001b[0;34m(\u001b[0m\u001b[0mnorm_stunted\u001b[0m\u001b[0;34m)\u001b[0m\u001b[0;34m\u001b[0m\u001b[0;34m\u001b[0m\u001b[0m\n\u001b[0m\u001b[1;32m      6\u001b[0m \u001b[0;34m\u001b[0m\u001b[0m\n\u001b[1;32m      7\u001b[0m \u001b[0;34m\u001b[0m\u001b[0m\n",
      "\u001b[0;31mNameError\u001b[0m: name 'mal_stunted' is not defined"
     ]
    }
   ],
   "source": [
    "gb2 = df2.groupby('mom_status_mali')\n",
    "\n",
    "mal_stunted_mali = gb2.get_group('malnourished').stunting_mali.mean()-10\n",
    "norm_stunted_mali = gb2.get_group('normal').stunting_mali.mean()-10\n",
    "stunted_diff_mali = (mal_stunted) - (norm_stunted)\n",
    "\n",
    "\n",
    "print('stunting z-score from malnourished mothers = ' + str(mal_stunted_mali))\n",
    "print('stunting z-score from normal mothers = ' + str(norm_stunted_mali))\n",
    "print('stunting z-score difference = ' + str(stunted_diff_mali))"
   ]
  },
  {
   "cell_type": "code",
   "execution_count": null,
   "metadata": {},
   "outputs": [],
   "source": [
    "gb = df1.groupby('mom_status')\n",
    "\n",
    "mal_stunted = gb.get_group('malnourished').stunting.mean()-10\n",
    "norm_stunted = gb.get_group('normal').stunting.mean()-10\n",
    "stunted_diff = (mal_stunted) - (norm_stunted)\n",
    "\n",
    "\n",
    "print('stunting z-score from malnourished mothers = ' + str(mal_stunted))\n",
    "print('stunting z-score from normal mothers = ' + str(norm_stunted))\n",
    "print('stunting z-score difference = ' + str(stunted_diff))"
   ]
  },
  {
   "cell_type": "code",
   "execution_count": null,
   "metadata": {
    "scrolled": true
   },
   "outputs": [],
   "source": [
    "#scatter plot of z scores for stunting by mom status\n",
    "\n",
    "pyplot.scatter(df1.mom_status, df1.stunting-10)"
   ]
  },
  {
   "cell_type": "markdown",
   "metadata": {},
   "source": [
    "## wasting z-score by mom status"
   ]
  },
  {
   "cell_type": "code",
   "execution_count": null,
   "metadata": {},
   "outputs": [],
   "source": [
    "gb = df1.groupby('mom_status')\n",
    "\n",
    "mal_wasted = gb.get_group('malnourished').wasting.mean() -10\n",
    "norm_wasted = gb.get_group('normal').wasting.mean() -10\n",
    "wasted_diff = (mal_wasted) - (norm_wasted)\n",
    "\n",
    "\n",
    "print('wasting z-score from malnourished mothers = ' + str(mal_wasted))\n",
    "print('wasting z-score from normal mothers = ' + str(norm_wasted))\n",
    "print('wasting z-score difference = ' + str(wasted_diff))"
   ]
  },
  {
   "cell_type": "code",
   "execution_count": null,
   "metadata": {
    "scrolled": false
   },
   "outputs": [],
   "source": [
    "pyplot.scatter(df1.mom_status, df1.wasting-10)"
   ]
  },
  {
   "cell_type": "markdown",
   "metadata": {},
   "source": [
    "## Make scatter plots to visually inspect correlation"
   ]
  },
  {
   "cell_type": "code",
   "execution_count": null,
   "metadata": {},
   "outputs": [],
   "source": [
    "pyplot.scatter(df2.lbwsg_mali, df2.wasting_mali-10)\n",
    "pyplot.show()"
   ]
  },
  {
   "cell_type": "code",
   "execution_count": null,
   "metadata": {
    "scrolled": false
   },
   "outputs": [],
   "source": [
    "#get individual birthweight and individual WLZ - overall\n",
    "\n",
    "pyplot.scatter(df1.lbwsg, df1.wasting-10)\n",
    "pyplot.show()"
   ]
  },
  {
   "cell_type": "code",
   "execution_count": null,
   "metadata": {},
   "outputs": [],
   "source": [
    "#get individual birthweight and individual LAZ - overall\n",
    "\n",
    "pyplot.scatter(df1.lbwsg, df1.stunting-10)\n",
    "pyplot.show()"
   ]
  },
  {
   "cell_type": "code",
   "execution_count": null,
   "metadata": {},
   "outputs": [],
   "source": [
    "mask_mommal = df1.mom_status == 'malnourished'"
   ]
  },
  {
   "cell_type": "code",
   "execution_count": null,
   "metadata": {},
   "outputs": [],
   "source": [
    "#lbw and wasting among normal mothers\n",
    "\n",
    "pyplot.scatter(df1.loc[~mask_mommal,['lbwsg']], df1.loc[~mask_mommal,['wasting']]-10)"
   ]
  },
  {
   "cell_type": "code",
   "execution_count": null,
   "metadata": {
    "scrolled": false
   },
   "outputs": [],
   "source": [
    "#lbw and wasting among malnourished \n",
    "\n",
    "pyplot.scatter(df1.loc[mask_mommal,['lbwsg']], df1.loc[mask_mommal,['wasting']]-10)"
   ]
  },
  {
   "cell_type": "markdown",
   "metadata": {},
   "source": [
    "# 7. Calulcate correlation and spearman co-efficient"
   ]
  },
  {
   "cell_type": "markdown",
   "metadata": {},
   "source": [
    "correlation formula\n",
    "\n",
    "cov(X, Y) = (sum (x - mean(X)) * (y - mean(Y)) ) * 1/(n-1)"
   ]
  },
  {
   "cell_type": "code",
   "execution_count": null,
   "metadata": {},
   "outputs": [],
   "source": [
    "bw_mali = df2.lbwsg_mali\n",
    "laz_mali = df2.stunting_mali-10\n",
    "wlz_mali = df2.wasting_mali-10\n",
    "n_mali = len(df2)\n"
   ]
  },
  {
   "cell_type": "code",
   "execution_count": null,
   "metadata": {},
   "outputs": [],
   "source": [
    "bw = df1.lbwsg\n",
    "laz = df1.stunting-10\n",
    "wlz = df1.wasting-10\n",
    "n = len(df1)\n"
   ]
  },
  {
   "cell_type": "code",
   "execution_count": null,
   "metadata": {},
   "outputs": [],
   "source": [
    "#Covariance\n",
    "\n",
    "covariance_laz = cov(bw, laz)\n",
    "print(covariance_laz)"
   ]
  },
  {
   "cell_type": "code",
   "execution_count": null,
   "metadata": {
    "scrolled": true
   },
   "outputs": [],
   "source": [
    "covariance_wlz = cov(bw, wlz)\n",
    "print(covariance_wlz)"
   ]
  },
  {
   "cell_type": "code",
   "execution_count": null,
   "metadata": {},
   "outputs": [],
   "source": [
    "print(stats.spearmanr(bw_mali, laz_mali))"
   ]
  },
  {
   "cell_type": "code",
   "execution_count": null,
   "metadata": {
    "scrolled": true
   },
   "outputs": [],
   "source": [
    "print('spearman correlation coefficient for birthweight and laz at 6 months:')\n",
    "print(stats.spearmanr(bw, laz))\n",
    "\n",
    "print('spearman correlation coefficient for birthweight and wlz at 6 months:')\n",
    "print(stats.spearmanr(bw, wlz))"
   ]
  },
  {
   "cell_type": "markdown",
   "metadata": {},
   "source": [
    "Pearson formula\n",
    "\t\n",
    "Pearson's correlation coefficient = covariance(X, Y) / (stdv(X) * stdv(Y))\n",
    "\n",
    "Spearman formula\n",
    "\n",
    "Spearman's correlation coefficient = covariance(rank(X), rank(Y)) / (stdv(rank(X)) * stdv(rank(Y)))"
   ]
  },
  {
   "cell_type": "markdown",
   "metadata": {},
   "source": [
    "# Abie's proposal\n",
    "\n",
    "0) intialize simulants attributes for birthweight and gestational age \n",
    "\n",
    "1) find a pseudo propensity for birthweight between 0-1 which says effectively where individul lies in the birthweight distribution \n",
    "\n",
    "- eg. if simulant 0 has birthweight 3371g, figure out where this simulant lies in the percentile in the distribution this simulants lie\n",
    "\n",
    "2) initliaze a laz score to be correlated with the birthweight with the spearman correlation of 0.4 (from the maled data) \n",
    "\n",
    "\n",
    "\n"
   ]
  }
 ],
 "metadata": {
  "kernelspec": {
   "display_name": "gates_bep",
   "language": "python",
   "name": "gates_bep"
  },
  "language_info": {
   "codemirror_mode": {
    "name": "ipython",
    "version": 3
   },
   "file_extension": ".py",
   "mimetype": "text/x-python",
   "name": "python",
   "nbconvert_exporter": "python",
   "pygments_lexer": "ipython3",
   "version": "3.6.10"
  }
 },
 "nbformat": 4,
 "nbformat_minor": 4
}
