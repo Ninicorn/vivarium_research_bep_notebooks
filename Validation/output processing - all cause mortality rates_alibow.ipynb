{
 "cells": [
  {
   "cell_type": "code",
   "execution_count": 6,
   "metadata": {},
   "outputs": [],
   "source": [
    "from vivarium import Artifact\n",
    "import pandas as pd\n",
    "import numpy as np\n",
    "#import seaborn as sns\n",
    "#import matplotlib.pyplot as plt\n",
    "from db_queries import get_ids, get_outputs\n",
    "import scipy.stats"
   ]
  },
  {
   "cell_type": "code",
   "execution_count": 2,
   "metadata": {},
   "outputs": [],
   "source": [
    "output_dirs = ['/ihme/costeffectiveness/results/vivarium_gates_bep/scenarios_fixed/india/2020_02_06_17_37_48/count_data/',\n",
    "                '/ihme/costeffectiveness/results/vivarium_gates_bep/scenarios_fixed/pakistan/2020_02_06_17_38_45/count_data/',\n",
    "              '/share/costeffectiveness/results/vivarium_gates_bep/scenarios_fixed/tanzania/2020_02_06_17_39_16/count_data/',\n",
    "              '/share/costeffectiveness/results/vivarium_gates_bep/scenarios_fixed/mali/2020_02_06_17_38_33/count_data/']\n",
    "\n",
    "locations = ['India',\n",
    "            'Pakistan',\n",
    "            'Tanzania',\n",
    "            'Mali']"
   ]
  },
  {
   "cell_type": "code",
   "execution_count": 46,
   "metadata": {},
   "outputs": [
    {
     "data": {
      "text/html": [
       "<div>\n",
       "<style scoped>\n",
       "    .dataframe tbody tr th:only-of-type {\n",
       "        vertical-align: middle;\n",
       "    }\n",
       "\n",
       "    .dataframe tbody tr th {\n",
       "        vertical-align: top;\n",
       "    }\n",
       "\n",
       "    .dataframe thead th {\n",
       "        text-align: right;\n",
       "    }\n",
       "</style>\n",
       "<table border=\"1\" class=\"dataframe\">\n",
       "  <thead>\n",
       "    <tr style=\"text-align: right;\">\n",
       "      <th></th>\n",
       "      <th>cause</th>\n",
       "      <th>age_group</th>\n",
       "      <th>deaths</th>\n",
       "      <th>input_draw</th>\n",
       "      <th>person_time</th>\n",
       "      <th>csmr</th>\n",
       "    </tr>\n",
       "  </thead>\n",
       "  <tbody>\n",
       "    <tr>\n",
       "      <th>0</th>\n",
       "      <td>all</td>\n",
       "      <td>1_to_4</td>\n",
       "      <td>135.36</td>\n",
       "      <td>469.44</td>\n",
       "      <td>97265.096372</td>\n",
       "      <td>0.001392</td>\n",
       "    </tr>\n",
       "    <tr>\n",
       "      <th>1</th>\n",
       "      <td>all</td>\n",
       "      <td>1mo_to_6mo</td>\n",
       "      <td>484.00</td>\n",
       "      <td>469.44</td>\n",
       "      <td>41600.107502</td>\n",
       "      <td>0.011635</td>\n",
       "    </tr>\n",
       "    <tr>\n",
       "      <th>2</th>\n",
       "      <td>all</td>\n",
       "      <td>6mo_to_1</td>\n",
       "      <td>570.12</td>\n",
       "      <td>469.44</td>\n",
       "      <td>48875.624476</td>\n",
       "      <td>0.011665</td>\n",
       "    </tr>\n",
       "    <tr>\n",
       "      <th>3</th>\n",
       "      <td>all</td>\n",
       "      <td>early_neonatal</td>\n",
       "      <td>1202.72</td>\n",
       "      <td>469.44</td>\n",
       "      <td>1905.649499</td>\n",
       "      <td>0.631157</td>\n",
       "    </tr>\n",
       "    <tr>\n",
       "      <th>4</th>\n",
       "      <td>all</td>\n",
       "      <td>late_neonatal</td>\n",
       "      <td>276.72</td>\n",
       "      <td>469.44</td>\n",
       "      <td>5676.634539</td>\n",
       "      <td>0.048749</td>\n",
       "    </tr>\n",
       "  </tbody>\n",
       "</table>\n",
       "</div>"
      ],
      "text/plain": [
       "  cause       age_group   deaths  input_draw   person_time      csmr\n",
       "0   all          1_to_4   135.36      469.44  97265.096372  0.001392\n",
       "1   all      1mo_to_6mo   484.00      469.44  41600.107502  0.011635\n",
       "2   all        6mo_to_1   570.12      469.44  48875.624476  0.011665\n",
       "3   all  early_neonatal  1202.72      469.44   1905.649499  0.631157\n",
       "4   all   late_neonatal   276.72      469.44   5676.634539  0.048749"
      ]
     },
     "execution_count": 46,
     "metadata": {},
     "output_type": "execute_result"
    }
   ],
   "source": [
    "deaths = pd.read_hdf('/ihme/costeffectiveness/results/vivarium_gates_bep/scenarios_fixed/india/2020_02_06_17_37_48/count_data/deaths.hdf')\n",
    "deaths = (deaths.where(deaths['scenario'] == 'baseline').dropna()\n",
    "          .groupby(['cause','input_draw','age_group'], as_index=False).sum()\n",
    "          .rename(columns={'value':'deaths'}))\n",
    "\n",
    "acmr = deaths.groupby(['input_draw','age_group'], as_index=False).sum()\n",
    "acmr['cause'] = 'all'\n",
    "\n",
    "deaths = deaths.append(acmr)\n",
    "\n",
    "pt = pd.read_hdf('/ihme/costeffectiveness/results/vivarium_gates_bep/scenarios_fixed/india/2020_02_06_17_37_48/count_data/person_time.hdf')\n",
    "pt = (pt.where(pt['scenario'] == 'baseline').dropna()\n",
    "      .groupby(['input_draw','age_group'], as_index=False).sum()\n",
    "      .rename(columns={'value':'person_time'}))\n",
    "deaths = deaths.merge(pt, right_on=['input_draw','age_group'],\n",
    "                   left_on=['input_draw','age_group'])\n",
    "deaths['csmr'] = deaths['deaths'] / deaths['person_time']\n",
    "deaths = deaths.groupby(['cause','age_group'], as_index=False).mean()\n",
    "deaths.head()"
   ]
  },
  {
   "cell_type": "code",
   "execution_count": 64,
   "metadata": {},
   "outputs": [
    {
     "data": {
      "text/plain": [
       "Text(0, 0.5, 'Proportion')"
      ]
     },
     "execution_count": 64,
     "metadata": {},
     "output_type": "execute_result"
    },
    {
     "data": {
      "image/png": "[encoded data removed]",
      "text/plain": [
       "<Figure size 432x288 with 1 Axes>"
      ]
     },
     "metadata": {
      "needs_background": "light"
     },
     "output_type": "display_data"
    }
   ],
   "source": [
    "data = deaths.where(deaths['cause'] == 'all').dropna().sort_values(by='age_group')\n",
    "data['order'] = [4,0,3,1,2]\n",
    "data = data.sort_values(by='order').where(data['order'] != 0).dropna()\n",
    "\n",
    "gbd = get_outputs(location_id=163, year_id=2017, gbd_round_id=5, \n",
    "                    topic='cause', cause_id=294, measure_id=1, metric_id=3,\n",
    "                    age_group_id=[2,3,4,5])\n",
    "\n",
    "# bar width\n",
    "barWidth = 0.2\n",
    "\n",
    "# bar heights\n",
    "model = data['csmr'].where(data['cause'] == 'all').dropna()\n",
    "gbd = gbd['val']\n",
    "\n",
    "# bar positions\n",
    "a = np.arange(len(model))\n",
    "b = [x + barWidth for x in a]\n",
    "\n",
    "\n",
    "# plot \n",
    "plt.bar(a, model, width=barWidth)\n",
    "plt.bar(b, gbd, width=barWidth)\n",
    "\n",
    "plt.xticks([r + barWidth for r in range(len(model))], ['Early NN','Late NN','1 Month - 1 Year','1-4 Years'])\n",
    "plt.legend(['Model','GBD'])\n",
    "plt.title('All Cause Mortality Rate - India')\n",
    "plt.ylabel('Proportion')"
   ]
  },
  {
   "cell_type": "code",
   "execution_count": 65,
   "metadata": {},
   "outputs": [
    {
     "data": {
      "text/plain": [
       "Text(0, 0.5, 'Proportion')"
      ]
     },
     "execution_count": 65,
     "metadata": {},
     "output_type": "execute_result"
    },
    {
     "data": {
      "image/png": "[encoded data removed]",
      "text/plain": [
       "<Figure size 432x288 with 1 Axes>"
      ]
     },
     "metadata": {
      "needs_background": "light"
     },
     "output_type": "display_data"
    }
   ],
   "source": [
    "data = deaths.where(deaths['cause'] == 'neonatal_disorders').dropna().sort_values(by='age_group')\n",
    "data['order'] = [4,0,3,1,2]\n",
    "data = data.sort_values(by='order').where(data['order'] != 0).dropna()\n",
    "\n",
    "gbd = get_outputs(location_id=163, year_id=2017, gbd_round_id=5, \n",
    "                    topic='cause', cause_id=380, measure_id=1, metric_id=3,\n",
    "                    age_group_id=[2,3,4,5])\n",
    "\n",
    "# bar width\n",
    "barWidth = 0.2\n",
    "\n",
    "# bar heights\n",
    "model = data['csmr']\n",
    "gbd = gbd['val']\n",
    "\n",
    "# bar positions\n",
    "a = np.arange(len(model))\n",
    "b = [x + barWidth for x in a]\n",
    "\n",
    "\n",
    "# plot \n",
    "plt.bar(a, model, width=barWidth)\n",
    "plt.bar(b, gbd, width=barWidth)\n",
    "\n",
    "plt.xticks([r + barWidth for r in range(len(model))], ['Early NN','Late NN','1 Month - 1 Year','1-4 Years'])\n",
    "plt.legend(['Model','GBD'])\n",
    "plt.title('All Cause Mortality Rate - India')\n",
    "plt.ylabel('Proportion')"
   ]
  },
  {
   "cell_type": "code",
   "execution_count": 70,
   "metadata": {},
   "outputs": [
    {
     "data": {
      "text/plain": [
       "Text(0, 0.5, 'Proportion')"
      ]
     },
     "execution_count": 70,
     "metadata": {},
     "output_type": "execute_result"
    },
    {
     "data": {
      "image/png": "[encoded data removed]",
      "text/plain": [
       "<Figure size 432x288 with 1 Axes>"
      ]
     },
     "metadata": {
      "needs_background": "light"
     },
     "output_type": "display_data"
    }
   ],
   "source": [
    "data = deaths.where(deaths['cause'] == 'diarrheal_diseases').dropna().sort_values(by='age_group')\n",
    "data['order'] = [4,0,3,1,2]\n",
    "data = data.sort_values(by='order').where(data['order'] != 0).dropna()\n",
    "\n",
    "gbd = get_outputs(location_id=163, year_id=2017, gbd_round_id=5, \n",
    "                    topic='cause', cause_id=302, measure_id=1, metric_id=3,\n",
    "                    age_group_id=[2,3,4,5])\n",
    "\n",
    "# bar width\n",
    "barWidth = 0.2\n",
    "\n",
    "# bar heights\n",
    "model = data['csmr']\n",
    "gbd = gbd['val']\n",
    "\n",
    "# bar positions\n",
    "a = np.arange(len(model))\n",
    "b = [x + barWidth for x in a]\n",
    "\n",
    "\n",
    "# plot \n",
    "plt.bar(a, model, width=barWidth)\n",
    "plt.bar(b, gbd, width=barWidth)\n",
    "\n",
    "plt.xticks([r + barWidth for r in range(len(model))], ['Early NN','Late NN','1 Month - 1 Year','1-4 Years'])\n",
    "plt.legend(['Model','GBD'])\n",
    "plt.title('All Cause Mortality Rate - India')\n",
    "plt.ylabel('Proportion')"
   ]
  },
  {
   "cell_type": "code",
   "execution_count": null,
   "metadata": {},
   "outputs": [],
   "source": []
  }
 ],
 "metadata": {
  "kernelspec": {
   "display_name": "Python 3",
   "language": "python",
   "name": "python3"
  },
  "language_info": {
   "codemirror_mode": {
    "name": "ipython",
    "version": 3
   },
   "file_extension": ".py",
   "mimetype": "text/x-python",
   "name": "python",
   "nbconvert_exporter": "python",
   "pygments_lexer": "ipython3",
   "version": "3.6.10"
  }
 },
 "nbformat": 4,
 "nbformat_minor": 2
}
