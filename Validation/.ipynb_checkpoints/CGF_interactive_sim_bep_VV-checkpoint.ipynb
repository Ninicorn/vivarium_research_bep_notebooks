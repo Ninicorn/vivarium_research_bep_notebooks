{
 "cells": [
  {
   "cell_type": "markdown",
   "metadata": {},
   "source": [
    "Interactive sim\n",
    "install environment in a terminal:\n",
    "\n",
    "1) conda activate gates_bep\n",
    "\n",
    "2) then type in this command: ipython kernel install --name gates_bep --user"
   ]
  },
  {
   "cell_type": "markdown",
   "metadata": {},
   "source": [
    "NOTE: it takes about 12 seconds per time-step"
   ]
  },
  {
   "cell_type": "code",
   "execution_count": 1,
   "metadata": {
    "scrolled": true
   },
   "outputs": [
    {
     "data": {
      "text/html": [
       "<style>.container { width:100% !important; }</style>"
      ],
      "text/plain": [
       "<IPython.core.display.HTML object>"
      ]
     },
     "metadata": {},
     "output_type": "display_data"
    }
   ],
   "source": [
    "from IPython.core.display import display, HTML\n",
    "display(HTML(\"<style>.container { width:100% !important; }</style>\")) #makes the display bars longer and spread out 100% across the screen width"
   ]
  },
  {
   "cell_type": "code",
   "execution_count": 2,
   "metadata": {},
   "outputs": [],
   "source": [
    "import pandas as pd\n",
    "from numpy.random import randn\n",
    "from numpy.random import seed\n",
    "from numpy import mean\n",
    "from numpy import std\n",
    "from numpy import cov\n",
    "from matplotlib import pyplot\n",
    "from scipy.stats import pearsonr\n",
    "from scipy.stats import spearmanr\n",
    "from scipy.stats import stats"
   ]
  },
  {
   "cell_type": "markdown",
   "metadata": {},
   "source": [
    "# 1. Set up interactive sim by first the InteractiveContext modules that runs interactive sims, and make specs "
   ]
  },
  {
   "cell_type": "code",
   "execution_count": 3,
   "metadata": {},
   "outputs": [],
   "source": [
    "#This is the interactive context module from vivarium that runs the simulation \n",
    "\n",
    "from vivarium import InteractiveContext"
   ]
  },
  {
   "cell_type": "code",
   "execution_count": 4,
   "metadata": {
    "scrolled": true
   },
   "outputs": [],
   "source": [
    "!make_specs #uses the model_spec.in to create the yaml files \n",
    "\n",
    "#india_nocorr.yaml does not have the correlation structure for wasting/stunting and birthweight.  "
   ]
  },
  {
   "cell_type": "code",
   "execution_count": 5,
   "metadata": {
    "scrolled": true
   },
   "outputs": [
    {
     "name": "stdout",
     "output_type": "stream",
     "text": [
      "/ihme/homes/nicoly/vivarium_gates_bep/src/vivarium_gates_bep/model_specifications\n",
      "\u001b[0m\u001b[01;34mbranches\u001b[0m/             india_nocorr.yaml  mali.yaml      pakistan.yaml\n",
      "bw_risk_corr_spec.in  india.yaml         model_spec.in  tanzania.yaml\n"
     ]
    }
   ],
   "source": [
    "#look for the file path of the yaml files (feb 2020 model)\n",
    "\n",
    "%pwd \n",
    "# %cd ..\n",
    "# %ls\n",
    "%cd /ihme/homes/nicoly/vivarium_gates_bep/src/vivarium_gates_bep/model_specifications\n",
    "%ls\n",
    "# %cd /ihme/homes/nicoly/vivarium_gates_bep/src/vivarium_gates_bep/src/vivarium_gates_bep/model_specifications\n",
    "# ! changes locally\n",
    "# % changes in python (the running interpreter)"
   ]
  },
  {
   "cell_type": "code",
   "execution_count": 6,
   "metadata": {},
   "outputs": [
    {
     "name": "stdout",
     "output_type": "stream",
     "text": [
      "\u001b[0m\u001b[01;34mbranches\u001b[0m/             india_nocorr.yaml  mali.yaml      pakistan.yaml\r\n",
      "bw_risk_corr_spec.in  india.yaml         model_spec.in  tanzania.yaml\r\n"
     ]
    }
   ],
   "source": [
    "%pwd\n",
    "%ls"
   ]
  },
  {
   "cell_type": "code",
   "execution_count": 11,
   "metadata": {},
   "outputs": [],
   "source": [
    "# can go into the branches folder, then can look at the specs; this will tell me change the scenario names\n",
    "# %less scenarios.yaml <--this doesnt work so need to manually overide with terminal and nano"
   ]
  },
  {
   "cell_type": "code",
   "execution_count": 12,
   "metadata": {},
   "outputs": [],
   "source": [
    "#lets me look into the contents of india.yaml file\n",
    "\n",
    "%less india.yaml\n",
    "#opens up the yaml file so we can look into the yaml file, look under maternal_supplementation to check what scenario this is. Currently at baseline. Can change it to run interactive sim on other scenarios"
   ]
  },
  {
   "cell_type": "markdown",
   "metadata": {},
   "source": [
    "Last git pull for vivarium_gates_bep repo: october 1 2020\n",
    "\n",
    "These are the specs for interactive sim (eg. India)\n",
    "\n",
    "    input_data:\n",
    "        location: India\n",
    "        input_draw_number: 0\n",
    "        artifact_path: /share/costeffectiveness/artifacts/vivarium_conic_lsff/india.hdf\n",
    "    interpolation:\n",
    "        order: 0\n",
    "        extrapolate: True\n",
    "    randomness:\n",
    "        map_size: 1_000_000\n",
    "        key_columns: ['entrance_time', 'age']\n",
    "        random_seed: 0\n",
    "        \n",
    "    population:\n",
    "        population_size: 10_000\n",
    "        age_start: 0\n",
    "        age_end: 0\n",
    "        \n",
    "    maternal_supplementation:\n",
    "        scenario: 'baseline'"
   ]
  },
  {
   "cell_type": "markdown",
   "metadata": {},
   "source": [
    "# 1. DEFINE SIM with InteractiveContext"
   ]
  },
  {
   "cell_type": "code",
   "execution_count": 8,
   "metadata": {
    "scrolled": true
   },
   "outputs": [
    {
     "name": "stderr",
     "output_type": "stream",
     "text": [
      "2020-10-03 13:58:07.974 | DEBUG    | vivarium.framework.values:register_value_modifier:373 - Registering metrics.1.population_manager.metrics as modifier to metrics\n",
      "2020-10-03 13:58:07.982 | DEBUG    | vivarium.framework.artifact.manager:_load_artifact:66 - Running simulation from artifact located at /share/costeffectiveness/artifacts/vivarium_gates_bep/india.hdf.\n",
      "2020-10-03 13:58:07.983 | DEBUG    | vivarium.framework.artifact.manager:_load_artifact:67 - Artifact base filter terms are ['draw == 0', \"location == 'India' | location == 'Global'\"].\n",
      "2020-10-03 13:58:07.984 | DEBUG    | vivarium.framework.artifact.manager:_load_artifact:68 - Artifact additional filter terms are None.\n",
      "2020-10-03 13:58:08.501 | DEBUG    | vivarium.framework.values:_register_value_producer:323 - Registering value pipeline protein_energy_malnutrition.disability_weight\n",
      "2020-10-03 13:58:08.502 | DEBUG    | vivarium.framework.values:register_value_modifier:373 - Registering disability_weight.1.protein_energy_malnutrition.disability_weight as modifier to disability_weight\n",
      "2020-10-03 13:58:08.979 | DEBUG    | vivarium.framework.values:register_value_modifier:373 - Registering cause_specific_mortality_rate.1.risk_attributable_disease.cause.protein_energy_malnutrition.risk_factor.child_wasting.adjust_cause_specific_mortality_rate as modifier to cause_specific_mortality_rate\n",
      "2020-10-03 13:58:09.449 | DEBUG    | vivarium.framework.values:_register_value_producer:323 - Registering value pipeline protein_energy_malnutrition.excess_mortality_rate\n",
      "2020-10-03 13:58:09.450 | DEBUG    | vivarium.framework.values:_register_value_producer:323 - Registering value pipeline protein_energy_malnutrition.excess_mortality_rate.population_attributable_fraction\n",
      "2020-10-03 13:58:09.451 | DEBUG    | vivarium.framework.values:register_value_modifier:373 - Registering mortality_rate.1.risk_attributable_disease.cause.protein_energy_malnutrition.risk_factor.child_wasting.adjust_mortality_rate as modifier to mortality_rate\n",
      "2020-10-03 13:58:09.457 | DEBUG    | vivarium.framework.values:_register_value_producer:323 - Registering value pipeline child_wasting.propensity\n",
      "2020-10-03 13:58:09.458 | DEBUG    | vivarium.framework.values:_register_value_producer:323 - Registering value pipeline child_wasting.exposure\n",
      "2020-10-03 13:58:18.126 | DEBUG    | vivarium.framework.values:register_value_modifier:373 - Registering diarrheal_diseases.incidence_rate.1.risk_effect.risk_factor.child_wasting.cause.diarrheal_diseases.incidence_rate.adjust_target as modifier to diarrheal_diseases.incidence_rate\n",
      "2020-10-03 13:58:18.130 | DEBUG    | vivarium.framework.values:register_value_modifier:373 - Registering diarrheal_diseases.incidence_rate.paf.1.lookup_table_18 as modifier to diarrheal_diseases.incidence_rate.paf\n",
      "2020-10-03 13:58:18.752 | DEBUG    | vivarium.framework.values:register_value_modifier:373 - Registering measles.incidence_rate.1.risk_effect.risk_factor.child_wasting.cause.measles.incidence_rate.adjust_target as modifier to measles.incidence_rate\n",
      "2020-10-03 13:58:18.756 | DEBUG    | vivarium.framework.values:register_value_modifier:373 - Registering measles.incidence_rate.paf.1.lookup_table_20 as modifier to measles.incidence_rate.paf\n",
      "2020-10-03 13:58:19.377 | DEBUG    | vivarium.framework.values:register_value_modifier:373 - Registering lower_respiratory_infections.incidence_rate.1.risk_effect.risk_factor.child_wasting.cause.lower_respiratory_infections.incidence_rate.adjust_target as modifier to lower_respiratory_infections.incidence_rate\n",
      "2020-10-03 13:58:19.379 | DEBUG    | vivarium.framework.values:register_value_modifier:373 - Registering lower_respiratory_infections.incidence_rate.paf.1.lookup_table_22 as modifier to lower_respiratory_infections.incidence_rate.paf\n",
      "2020-10-03 13:58:19.380 | DEBUG    | vivarium.framework.values:_register_value_producer:323 - Registering value pipeline child_stunting.propensity\n",
      "2020-10-03 13:58:19.381 | DEBUG    | vivarium.framework.values:_register_value_producer:323 - Registering value pipeline child_stunting.exposure\n",
      "2020-10-03 13:58:26.980 | DEBUG    | vivarium.framework.values:register_value_modifier:373 - Registering diarrheal_diseases.incidence_rate.2.risk_effect.risk_factor.child_stunting.cause.diarrheal_diseases.incidence_rate.adjust_target as modifier to diarrheal_diseases.incidence_rate\n",
      "2020-10-03 13:58:26.983 | DEBUG    | vivarium.framework.values:register_value_modifier:373 - Registering diarrheal_diseases.incidence_rate.paf.2.lookup_table_37 as modifier to diarrheal_diseases.incidence_rate.paf\n",
      "2020-10-03 13:58:27.601 | DEBUG    | vivarium.framework.values:register_value_modifier:373 - Registering measles.incidence_rate.2.risk_effect.risk_factor.child_stunting.cause.measles.incidence_rate.adjust_target as modifier to measles.incidence_rate\n",
      "2020-10-03 13:58:27.602 | DEBUG    | vivarium.framework.values:register_value_modifier:373 - Registering measles.incidence_rate.paf.2.lookup_table_39 as modifier to measles.incidence_rate.paf\n",
      "2020-10-03 13:58:28.206 | DEBUG    | vivarium.framework.values:register_value_modifier:373 - Registering lower_respiratory_infections.incidence_rate.2.risk_effect.risk_factor.child_stunting.cause.lower_respiratory_infections.incidence_rate.adjust_target as modifier to lower_respiratory_infections.incidence_rate\n",
      "2020-10-03 13:58:28.207 | DEBUG    | vivarium.framework.values:register_value_modifier:373 - Registering lower_respiratory_infections.incidence_rate.paf.2.lookup_table_41 as modifier to lower_respiratory_infections.incidence_rate.paf\n",
      "2020-10-03 13:58:28.753 | DEBUG    | vivarium.framework.values:_register_value_producer:323 - Registering value pipeline cause_specific_mortality_rate\n",
      "2020-10-03 13:58:31.159 | DEBUG    | vivarium.framework.values:_register_value_producer:323 - Registering value pipeline affected_unmodeled.csmr\n",
      "2020-10-03 13:58:31.161 | DEBUG    | vivarium.framework.values:_register_value_producer:323 - Registering value pipeline affected_unmodeled.csmr.population_attributable_fraction\n",
      "2020-10-03 13:58:31.162 | DEBUG    | vivarium.framework.values:_register_value_producer:323 - Registering value pipeline mortality_rate\n",
      "2020-10-03 13:58:31.163 | DEBUG    | vivarium.framework.values:_register_value_producer:323 - Registering value pipeline all_causes.mortality_hazard\n",
      "2020-10-03 13:58:31.164 | DEBUG    | vivarium.framework.values:_register_value_producer:323 - Registering value pipeline all_causes.mortality_hazard.population_attributable_fraction\n",
      "2020-10-03 13:58:31.926 | DEBUG    | vivarium.framework.values:register_value_modifier:373 - Registering cause_specific_mortality_rate.2.disease_model.diarrheal_diseases.adjust_cause_specific_mortality_rate as modifier to cause_specific_mortality_rate\n",
      "2020-10-03 13:58:31.928 | DEBUG    | vivarium.framework.values:register_value_modifier:373 - Registering metrics.2.disease_model.diarrheal_diseases.metrics as modifier to metrics\n",
      "2020-10-03 13:58:31.929 | DEBUG    | vivarium.framework.values:register_value_modifier:373 - Registering metrics.3.state.susceptible_to_diarrheal_diseases.metrics as modifier to metrics\n",
      "2020-10-03 13:58:32.422 | DEBUG    | vivarium.framework.values:_register_value_producer:323 - Registering value pipeline diarrheal_diseases.incidence_rate\n",
      "2020-10-03 13:58:32.423 | DEBUG    | vivarium.framework.values:_register_value_producer:323 - Registering value pipeline diarrheal_diseases.incidence_rate.paf\n",
      "2020-10-03 13:58:32.424 | DEBUG    | vivarium.framework.values:register_value_modifier:373 - Registering metrics.4.state.diarrheal_diseases.metrics as modifier to metrics\n",
      "2020-10-03 13:58:32.895 | DEBUG    | vivarium.framework.values:_register_value_producer:323 - Registering value pipeline diarrheal_diseases.dwell_time\n",
      "2020-10-03 13:58:33.368 | DEBUG    | vivarium.framework.values:_register_value_producer:323 - Registering value pipeline diarrheal_diseases.disability_weight\n",
      "2020-10-03 13:58:33.369 | DEBUG    | vivarium.framework.values:register_value_modifier:373 - Registering disability_weight.2.diarrheal_diseases.disability_weight as modifier to disability_weight\n",
      "2020-10-03 13:58:33.860 | DEBUG    | vivarium.framework.values:_register_value_producer:323 - Registering value pipeline diarrheal_diseases.excess_mortality_rate\n"
     ]
    },
    {
     "name": "stderr",
     "output_type": "stream",
     "text": [
      "2020-10-03 13:58:33.864 | DEBUG    | vivarium.framework.values:_register_value_producer:323 - Registering value pipeline diarrheal_diseases.excess_mortality_rate.population_attributable_fraction\n",
      "2020-10-03 13:58:33.865 | DEBUG    | vivarium.framework.values:register_value_modifier:373 - Registering mortality_rate.2.state.diarrheal_diseases.adjust_mortality_rate as modifier to mortality_rate\n",
      "2020-10-03 13:58:34.337 | DEBUG    | vivarium.framework.values:_register_value_producer:323 - Registering value pipeline diarrheal_diseases.remission_rate\n",
      "2020-10-03 13:58:34.338 | DEBUG    | vivarium.framework.values:_register_value_producer:323 - Registering value pipeline diarrheal_diseases.remission_rate.paf\n",
      "2020-10-03 13:58:34.807 | DEBUG    | vivarium.framework.values:register_value_modifier:373 - Registering cause_specific_mortality_rate.3.disease_model.measles.adjust_cause_specific_mortality_rate as modifier to cause_specific_mortality_rate\n",
      "2020-10-03 13:58:34.809 | DEBUG    | vivarium.framework.values:register_value_modifier:373 - Registering metrics.5.disease_model.measles.metrics as modifier to metrics\n",
      "2020-10-03 13:58:34.810 | DEBUG    | vivarium.framework.values:register_value_modifier:373 - Registering metrics.6.state.susceptible_to_measles.metrics as modifier to metrics\n",
      "2020-10-03 13:58:35.300 | DEBUG    | vivarium.framework.values:_register_value_producer:323 - Registering value pipeline measles.incidence_rate\n",
      "2020-10-03 13:58:35.302 | DEBUG    | vivarium.framework.values:_register_value_producer:323 - Registering value pipeline measles.incidence_rate.paf\n",
      "2020-10-03 13:58:35.304 | DEBUG    | vivarium.framework.values:register_value_modifier:373 - Registering metrics.7.state.measles.metrics as modifier to metrics\n",
      "2020-10-03 13:58:35.754 | DEBUG    | vivarium.framework.values:_register_value_producer:323 - Registering value pipeline measles.dwell_time\n",
      "2020-10-03 13:58:36.205 | DEBUG    | vivarium.framework.values:_register_value_producer:323 - Registering value pipeline measles.disability_weight\n",
      "2020-10-03 13:58:36.208 | DEBUG    | vivarium.framework.values:register_value_modifier:373 - Registering disability_weight.3.measles.disability_weight as modifier to disability_weight\n",
      "2020-10-03 13:58:36.669 | DEBUG    | vivarium.framework.values:_register_value_producer:323 - Registering value pipeline measles.excess_mortality_rate\n",
      "2020-10-03 13:58:36.671 | DEBUG    | vivarium.framework.values:_register_value_producer:323 - Registering value pipeline measles.excess_mortality_rate.population_attributable_fraction\n",
      "2020-10-03 13:58:36.672 | DEBUG    | vivarium.framework.values:register_value_modifier:373 - Registering mortality_rate.3.state.measles.adjust_mortality_rate as modifier to mortality_rate\n",
      "2020-10-03 13:58:36.673 | DEBUG    | vivarium.framework.values:register_value_modifier:373 - Registering metrics.8.state.recovered_from_measles.metrics as modifier to metrics\n",
      "2020-10-03 13:58:37.166 | DEBUG    | vivarium.framework.values:register_value_modifier:373 - Registering cause_specific_mortality_rate.4.disease_model.lower_respiratory_infections.adjust_cause_specific_mortality_rate as modifier to cause_specific_mortality_rate\n",
      "2020-10-03 13:58:37.167 | DEBUG    | vivarium.framework.values:register_value_modifier:373 - Registering metrics.9.disease_model.lower_respiratory_infections.metrics as modifier to metrics\n",
      "2020-10-03 13:58:37.168 | DEBUG    | vivarium.framework.values:register_value_modifier:373 - Registering metrics.10.state.susceptible_to_lower_respiratory_infections.metrics as modifier to metrics\n",
      "2020-10-03 13:58:37.650 | DEBUG    | vivarium.framework.values:_register_value_producer:323 - Registering value pipeline lower_respiratory_infections.incidence_rate\n",
      "2020-10-03 13:58:37.653 | DEBUG    | vivarium.framework.values:_register_value_producer:323 - Registering value pipeline lower_respiratory_infections.incidence_rate.paf\n",
      "2020-10-03 13:58:37.654 | DEBUG    | vivarium.framework.values:register_value_modifier:373 - Registering metrics.11.state.lower_respiratory_infections.metrics as modifier to metrics\n",
      "2020-10-03 13:58:38.222 | DEBUG    | vivarium.framework.values:_register_value_producer:323 - Registering value pipeline lower_respiratory_infections.dwell_time\n",
      "2020-10-03 13:58:38.699 | DEBUG    | vivarium.framework.values:_register_value_producer:323 - Registering value pipeline lower_respiratory_infections.disability_weight\n",
      "2020-10-03 13:58:38.701 | DEBUG    | vivarium.framework.values:register_value_modifier:373 - Registering disability_weight.4.lower_respiratory_infections.disability_weight as modifier to disability_weight\n",
      "2020-10-03 13:58:39.162 | DEBUG    | vivarium.framework.values:_register_value_producer:323 - Registering value pipeline lower_respiratory_infections.excess_mortality_rate\n",
      "2020-10-03 13:58:39.163 | DEBUG    | vivarium.framework.values:_register_value_producer:323 - Registering value pipeline lower_respiratory_infections.excess_mortality_rate.population_attributable_fraction\n",
      "2020-10-03 13:58:39.164 | DEBUG    | vivarium.framework.values:register_value_modifier:373 - Registering mortality_rate.4.state.lower_respiratory_infections.adjust_mortality_rate as modifier to mortality_rate\n",
      "2020-10-03 13:58:39.643 | DEBUG    | vivarium.framework.values:_register_value_producer:323 - Registering value pipeline lower_respiratory_infections.remission_rate\n",
      "2020-10-03 13:58:39.644 | DEBUG    | vivarium.framework.values:_register_value_producer:323 - Registering value pipeline lower_respiratory_infections.remission_rate.paf\n",
      "2020-10-03 13:58:42.159 | DEBUG    | vivarium.framework.values:_register_value_producer:323 - Registering value pipeline low_birth_weight_and_short_gestation.raw_exposure\n",
      "2020-10-03 13:58:42.162 | DEBUG    | vivarium.framework.values:_register_value_producer:323 - Registering value pipeline low_birth_weight_and_short_gestation.exposure\n",
      "2020-10-03 13:58:43.054 | DEBUG    | vivarium.framework.values:register_value_modifier:373 - Registering affected_unmodeled.csmr.1.risk_effect.risk_factor.low_birth_weight_and_short_gestation.cause.affected_unmodeled.csmr.adjust_target as modifier to affected_unmodeled.csmr\n",
      "2020-10-03 13:58:43.056 | DEBUG    | vivarium.framework.values:register_value_modifier:373 - Registering affected_unmodeled.csmr.population_attributable_fraction.1.lookup_table_81 as modifier to affected_unmodeled.csmr.population_attributable_fraction\n",
      "2020-10-03 13:58:43.940 | DEBUG    | vivarium.framework.values:register_value_modifier:373 - Registering lower_respiratory_infections.excess_mortality_rate.1.risk_effect.risk_factor.low_birth_weight_and_short_gestation.cause.lower_respiratory_infections.excess_mortality_rate.adjust_target as modifier to lower_respiratory_infections.excess_mortality_rate\n",
      "2020-10-03 13:58:43.942 | DEBUG    | vivarium.framework.values:register_value_modifier:373 - Registering lower_respiratory_infections.excess_mortality_rate.population_attributable_fraction.1.lookup_table_83 as modifier to lower_respiratory_infections.excess_mortality_rate.population_attributable_fraction\n",
      "2020-10-03 13:58:44.874 | DEBUG    | vivarium.framework.values:register_value_modifier:373 - Registering diarrheal_diseases.excess_mortality_rate.1.risk_effect.risk_factor.low_birth_weight_and_short_gestation.cause.diarrheal_diseases.excess_mortality_rate.adjust_target as modifier to diarrheal_diseases.excess_mortality_rate\n",
      "2020-10-03 13:58:44.876 | DEBUG    | vivarium.framework.values:register_value_modifier:373 - Registering diarrheal_diseases.excess_mortality_rate.population_attributable_fraction.1.lookup_table_85 as modifier to diarrheal_diseases.excess_mortality_rate.population_attributable_fraction\n",
      "2020-10-03 13:58:45.225 | DEBUG    | vivarium.framework.values:register_value_modifier:373 - Registering metrics.12.mortality_observer.metrics as modifier to metrics\n",
      "2020-10-03 13:58:45.289 | DEBUG    | vivarium.framework.values:_register_value_producer:323 - Registering value pipeline disability_weight\n",
      "2020-10-03 13:58:45.290 | DEBUG    | vivarium.framework.values:register_value_modifier:373 - Registering metrics.13.disability_observer.metrics as modifier to metrics\n",
      "2020-10-03 13:58:45.293 | DEBUG    | vivarium.framework.values:register_value_modifier:373 - Registering metrics.14.disease_observer.diarrheal_diseases.metrics as modifier to metrics\n"
     ]
    },
    {
     "name": "stderr",
     "output_type": "stream",
     "text": [
      "2020-10-03 13:58:45.294 | DEBUG    | vivarium.framework.values:register_value_modifier:373 - Registering metrics.15.disease_observer.measles.metrics as modifier to metrics\n",
      "2020-10-03 13:58:45.296 | DEBUG    | vivarium.framework.values:register_value_modifier:373 - Registering metrics.16.disease_observer.lower_respiratory_infections.metrics as modifier to metrics\n",
      "2020-10-03 13:58:45.297 | DEBUG    | vivarium.framework.values:register_value_modifier:373 - Registering metrics.17.disease_observer.protein_energy_malnutrition.metrics as modifier to metrics\n",
      "2020-10-03 13:58:45.298 | DEBUG    | vivarium.framework.values:register_value_modifier:373 - Registering metrics.18.risk_observer.child_growth_failure.metrics as modifier to metrics\n",
      "2020-10-03 13:58:45.299 | DEBUG    | vivarium.framework.values:register_value_modifier:373 - Registering metrics.19.risk_observer.low_birth_weight_and_short_gestation.metrics as modifier to metrics\n",
      "2020-10-03 13:58:45.309 | DEBUG    | vivarium.framework.values:register_value_modifier:373 - Registering metrics.20.risk.maternal_malnutrition.metrics as modifier to metrics\n",
      "2020-10-03 13:59:02.679 | DEBUG    | vivarium.framework.values:register_value_modifier:373 - Registering low_birth_weight_and_short_gestation.exposure.1.risk_effect.maternal_malnutrition.adjust_birth_weight as modifier to low_birth_weight_and_short_gestation.exposure\n",
      "2020-10-03 13:59:02.753 | DEBUG    | vivarium.framework.values:register_value_modifier:373 - Registering low_birth_weight_and_short_gestation.exposure.2.treatment_effect.maternal_supplementation.adjust_lbwsg as modifier to low_birth_weight_and_short_gestation.exposure\n",
      "2020-10-03 13:59:02.754 | DEBUG    | vivarium.framework.values:_register_value_producer:323 - Registering value pipeline metrics\n"
     ]
    }
   ],
   "source": [
    "#Define sim (use full filepath)\n",
    "#currently running on no correlation structures\n",
    "\n",
    "sim_india = InteractiveContext('/ihme/homes/nicoly/vivarium_gates_bep/src/vivarium_gates_bep/model_specifications/india.yaml') #gives model before time-steps"
   ]
  },
  {
   "cell_type": "code",
   "execution_count": 9,
   "metadata": {
    "scrolled": true
   },
   "outputs": [
    {
     "name": "stderr",
     "output_type": "stream",
     "text": [
      "2020-10-03 13:59:16.831 | DEBUG    | vivarium.framework.values:register_value_modifier:373 - Registering metrics.1.population_manager.metrics as modifier to metrics\n",
      "2020-10-03 13:59:16.838 | DEBUG    | vivarium.framework.artifact.manager:_load_artifact:66 - Running simulation from artifact located at /share/costeffectiveness/artifacts/vivarium_gates_bep/pakistan.hdf.\n",
      "2020-10-03 13:59:16.839 | DEBUG    | vivarium.framework.artifact.manager:_load_artifact:67 - Artifact base filter terms are ['draw == 0', \"location == 'Pakistan' | location == 'Global'\"].\n",
      "2020-10-03 13:59:16.840 | DEBUG    | vivarium.framework.artifact.manager:_load_artifact:68 - Artifact additional filter terms are None.\n",
      "2020-10-03 13:59:17.376 | DEBUG    | vivarium.framework.values:_register_value_producer:323 - Registering value pipeline protein_energy_malnutrition.disability_weight\n",
      "2020-10-03 13:59:17.377 | DEBUG    | vivarium.framework.values:register_value_modifier:373 - Registering disability_weight.1.protein_energy_malnutrition.disability_weight as modifier to disability_weight\n",
      "2020-10-03 13:59:17.865 | DEBUG    | vivarium.framework.values:register_value_modifier:373 - Registering cause_specific_mortality_rate.1.risk_attributable_disease.cause.protein_energy_malnutrition.risk_factor.child_wasting.adjust_cause_specific_mortality_rate as modifier to cause_specific_mortality_rate\n",
      "2020-10-03 13:59:18.357 | DEBUG    | vivarium.framework.values:_register_value_producer:323 - Registering value pipeline protein_energy_malnutrition.excess_mortality_rate\n",
      "2020-10-03 13:59:18.359 | DEBUG    | vivarium.framework.values:_register_value_producer:323 - Registering value pipeline protein_energy_malnutrition.excess_mortality_rate.population_attributable_fraction\n",
      "2020-10-03 13:59:18.360 | DEBUG    | vivarium.framework.values:register_value_modifier:373 - Registering mortality_rate.1.risk_attributable_disease.cause.protein_energy_malnutrition.risk_factor.child_wasting.adjust_mortality_rate as modifier to mortality_rate\n",
      "2020-10-03 13:59:18.366 | DEBUG    | vivarium.framework.values:_register_value_producer:323 - Registering value pipeline child_wasting.propensity\n",
      "2020-10-03 13:59:18.367 | DEBUG    | vivarium.framework.values:_register_value_producer:323 - Registering value pipeline child_wasting.exposure\n",
      "2020-10-03 13:59:27.023 | DEBUG    | vivarium.framework.values:register_value_modifier:373 - Registering diarrheal_diseases.incidence_rate.1.risk_effect.risk_factor.child_wasting.cause.diarrheal_diseases.incidence_rate.adjust_target as modifier to diarrheal_diseases.incidence_rate\n",
      "2020-10-03 13:59:27.029 | DEBUG    | vivarium.framework.values:register_value_modifier:373 - Registering diarrheal_diseases.incidence_rate.paf.1.lookup_table_18 as modifier to diarrheal_diseases.incidence_rate.paf\n",
      "2020-10-03 13:59:27.654 | DEBUG    | vivarium.framework.values:register_value_modifier:373 - Registering measles.incidence_rate.1.risk_effect.risk_factor.child_wasting.cause.measles.incidence_rate.adjust_target as modifier to measles.incidence_rate\n",
      "2020-10-03 13:59:27.655 | DEBUG    | vivarium.framework.values:register_value_modifier:373 - Registering measles.incidence_rate.paf.1.lookup_table_20 as modifier to measles.incidence_rate.paf\n",
      "2020-10-03 13:59:28.265 | DEBUG    | vivarium.framework.values:register_value_modifier:373 - Registering lower_respiratory_infections.incidence_rate.1.risk_effect.risk_factor.child_wasting.cause.lower_respiratory_infections.incidence_rate.adjust_target as modifier to lower_respiratory_infections.incidence_rate\n",
      "2020-10-03 13:59:28.266 | DEBUG    | vivarium.framework.values:register_value_modifier:373 - Registering lower_respiratory_infections.incidence_rate.paf.1.lookup_table_22 as modifier to lower_respiratory_infections.incidence_rate.paf\n",
      "2020-10-03 13:59:28.268 | DEBUG    | vivarium.framework.values:_register_value_producer:323 - Registering value pipeline child_stunting.propensity\n",
      "2020-10-03 13:59:28.269 | DEBUG    | vivarium.framework.values:_register_value_producer:323 - Registering value pipeline child_stunting.exposure\n",
      "/share/code/nicoly/miniconda/envs/gates_bep/lib/python3.6/site-packages/risk_distributions/risk_distributions.py:416: RuntimeWarning: overflow encountered in double_scalars\n",
      "  return (m - mean_guess) ** 2 + (s ** 2 - var_guess) ** 2\n",
      "2020-10-03 13:59:35.799 | DEBUG    | vivarium.framework.values:register_value_modifier:373 - Registering diarrheal_diseases.incidence_rate.2.risk_effect.risk_factor.child_stunting.cause.diarrheal_diseases.incidence_rate.adjust_target as modifier to diarrheal_diseases.incidence_rate\n",
      "2020-10-03 13:59:35.801 | DEBUG    | vivarium.framework.values:register_value_modifier:373 - Registering diarrheal_diseases.incidence_rate.paf.2.lookup_table_37 as modifier to diarrheal_diseases.incidence_rate.paf\n",
      "2020-10-03 13:59:36.472 | DEBUG    | vivarium.framework.values:register_value_modifier:373 - Registering measles.incidence_rate.2.risk_effect.risk_factor.child_stunting.cause.measles.incidence_rate.adjust_target as modifier to measles.incidence_rate\n",
      "2020-10-03 13:59:36.474 | DEBUG    | vivarium.framework.values:register_value_modifier:373 - Registering measles.incidence_rate.paf.2.lookup_table_39 as modifier to measles.incidence_rate.paf\n",
      "2020-10-03 13:59:37.084 | DEBUG    | vivarium.framework.values:register_value_modifier:373 - Registering lower_respiratory_infections.incidence_rate.2.risk_effect.risk_factor.child_stunting.cause.lower_respiratory_infections.incidence_rate.adjust_target as modifier to lower_respiratory_infections.incidence_rate\n",
      "2020-10-03 13:59:37.086 | DEBUG    | vivarium.framework.values:register_value_modifier:373 - Registering lower_respiratory_infections.incidence_rate.paf.2.lookup_table_41 as modifier to lower_respiratory_infections.incidence_rate.paf\n",
      "2020-10-03 13:59:37.643 | DEBUG    | vivarium.framework.values:_register_value_producer:323 - Registering value pipeline cause_specific_mortality_rate\n",
      "2020-10-03 13:59:40.155 | DEBUG    | vivarium.framework.values:_register_value_producer:323 - Registering value pipeline affected_unmodeled.csmr\n",
      "2020-10-03 13:59:40.157 | DEBUG    | vivarium.framework.values:_register_value_producer:323 - Registering value pipeline affected_unmodeled.csmr.population_attributable_fraction\n",
      "2020-10-03 13:59:40.158 | DEBUG    | vivarium.framework.values:_register_value_producer:323 - Registering value pipeline mortality_rate\n",
      "2020-10-03 13:59:40.159 | DEBUG    | vivarium.framework.values:_register_value_producer:323 - Registering value pipeline all_causes.mortality_hazard\n",
      "2020-10-03 13:59:40.161 | DEBUG    | vivarium.framework.values:_register_value_producer:323 - Registering value pipeline all_causes.mortality_hazard.population_attributable_fraction\n",
      "2020-10-03 13:59:40.992 | DEBUG    | vivarium.framework.values:register_value_modifier:373 - Registering cause_specific_mortality_rate.2.disease_model.diarrheal_diseases.adjust_cause_specific_mortality_rate as modifier to cause_specific_mortality_rate\n",
      "2020-10-03 13:59:40.994 | DEBUG    | vivarium.framework.values:register_value_modifier:373 - Registering metrics.2.disease_model.diarrheal_diseases.metrics as modifier to metrics\n",
      "2020-10-03 13:59:40.996 | DEBUG    | vivarium.framework.values:register_value_modifier:373 - Registering metrics.3.state.susceptible_to_diarrheal_diseases.metrics as modifier to metrics\n",
      "2020-10-03 13:59:41.470 | DEBUG    | vivarium.framework.values:_register_value_producer:323 - Registering value pipeline diarrheal_diseases.incidence_rate\n",
      "2020-10-03 13:59:41.472 | DEBUG    | vivarium.framework.values:_register_value_producer:323 - Registering value pipeline diarrheal_diseases.incidence_rate.paf\n",
      "2020-10-03 13:59:41.473 | DEBUG    | vivarium.framework.values:register_value_modifier:373 - Registering metrics.4.state.diarrheal_diseases.metrics as modifier to metrics\n",
      "2020-10-03 13:59:41.990 | DEBUG    | vivarium.framework.values:_register_value_producer:323 - Registering value pipeline diarrheal_diseases.dwell_time\n",
      "2020-10-03 13:59:42.477 | DEBUG    | vivarium.framework.values:_register_value_producer:323 - Registering value pipeline diarrheal_diseases.disability_weight\n",
      "2020-10-03 13:59:42.479 | DEBUG    | vivarium.framework.values:register_value_modifier:373 - Registering disability_weight.2.diarrheal_diseases.disability_weight as modifier to disability_weight\n"
     ]
    },
    {
     "name": "stderr",
     "output_type": "stream",
     "text": [
      "2020-10-03 13:59:42.990 | DEBUG    | vivarium.framework.values:_register_value_producer:323 - Registering value pipeline diarrheal_diseases.excess_mortality_rate\n",
      "2020-10-03 13:59:42.992 | DEBUG    | vivarium.framework.values:_register_value_producer:323 - Registering value pipeline diarrheal_diseases.excess_mortality_rate.population_attributable_fraction\n",
      "2020-10-03 13:59:42.994 | DEBUG    | vivarium.framework.values:register_value_modifier:373 - Registering mortality_rate.2.state.diarrheal_diseases.adjust_mortality_rate as modifier to mortality_rate\n",
      "2020-10-03 13:59:43.482 | DEBUG    | vivarium.framework.values:_register_value_producer:323 - Registering value pipeline diarrheal_diseases.remission_rate\n",
      "2020-10-03 13:59:43.483 | DEBUG    | vivarium.framework.values:_register_value_producer:323 - Registering value pipeline diarrheal_diseases.remission_rate.paf\n",
      "2020-10-03 13:59:43.948 | DEBUG    | vivarium.framework.values:register_value_modifier:373 - Registering cause_specific_mortality_rate.3.disease_model.measles.adjust_cause_specific_mortality_rate as modifier to cause_specific_mortality_rate\n",
      "2020-10-03 13:59:43.949 | DEBUG    | vivarium.framework.values:register_value_modifier:373 - Registering metrics.5.disease_model.measles.metrics as modifier to metrics\n",
      "2020-10-03 13:59:43.950 | DEBUG    | vivarium.framework.values:register_value_modifier:373 - Registering metrics.6.state.susceptible_to_measles.metrics as modifier to metrics\n",
      "2020-10-03 13:59:44.403 | DEBUG    | vivarium.framework.values:_register_value_producer:323 - Registering value pipeline measles.incidence_rate\n",
      "2020-10-03 13:59:44.404 | DEBUG    | vivarium.framework.values:_register_value_producer:323 - Registering value pipeline measles.incidence_rate.paf\n",
      "2020-10-03 13:59:44.405 | DEBUG    | vivarium.framework.values:register_value_modifier:373 - Registering metrics.7.state.measles.metrics as modifier to metrics\n",
      "2020-10-03 13:59:44.860 | DEBUG    | vivarium.framework.values:_register_value_producer:323 - Registering value pipeline measles.dwell_time\n",
      "2020-10-03 13:59:45.318 | DEBUG    | vivarium.framework.values:_register_value_producer:323 - Registering value pipeline measles.disability_weight\n",
      "2020-10-03 13:59:45.319 | DEBUG    | vivarium.framework.values:register_value_modifier:373 - Registering disability_weight.3.measles.disability_weight as modifier to disability_weight\n",
      "2020-10-03 13:59:45.800 | DEBUG    | vivarium.framework.values:_register_value_producer:323 - Registering value pipeline measles.excess_mortality_rate\n",
      "2020-10-03 13:59:45.802 | DEBUG    | vivarium.framework.values:_register_value_producer:323 - Registering value pipeline measles.excess_mortality_rate.population_attributable_fraction\n",
      "2020-10-03 13:59:45.803 | DEBUG    | vivarium.framework.values:register_value_modifier:373 - Registering mortality_rate.3.state.measles.adjust_mortality_rate as modifier to mortality_rate\n",
      "2020-10-03 13:59:45.804 | DEBUG    | vivarium.framework.values:register_value_modifier:373 - Registering metrics.8.state.recovered_from_measles.metrics as modifier to metrics\n",
      "2020-10-03 13:59:46.315 | DEBUG    | vivarium.framework.values:register_value_modifier:373 - Registering cause_specific_mortality_rate.4.disease_model.lower_respiratory_infections.adjust_cause_specific_mortality_rate as modifier to cause_specific_mortality_rate\n",
      "2020-10-03 13:59:46.317 | DEBUG    | vivarium.framework.values:register_value_modifier:373 - Registering metrics.9.disease_model.lower_respiratory_infections.metrics as modifier to metrics\n",
      "2020-10-03 13:59:46.319 | DEBUG    | vivarium.framework.values:register_value_modifier:373 - Registering metrics.10.state.susceptible_to_lower_respiratory_infections.metrics as modifier to metrics\n",
      "2020-10-03 13:59:46.831 | DEBUG    | vivarium.framework.values:_register_value_producer:323 - Registering value pipeline lower_respiratory_infections.incidence_rate\n",
      "2020-10-03 13:59:46.834 | DEBUG    | vivarium.framework.values:_register_value_producer:323 - Registering value pipeline lower_respiratory_infections.incidence_rate.paf\n",
      "2020-10-03 13:59:46.836 | DEBUG    | vivarium.framework.values:register_value_modifier:373 - Registering metrics.11.state.lower_respiratory_infections.metrics as modifier to metrics\n",
      "2020-10-03 13:59:47.410 | DEBUG    | vivarium.framework.values:_register_value_producer:323 - Registering value pipeline lower_respiratory_infections.dwell_time\n",
      "2020-10-03 13:59:47.870 | DEBUG    | vivarium.framework.values:_register_value_producer:323 - Registering value pipeline lower_respiratory_infections.disability_weight\n",
      "2020-10-03 13:59:47.872 | DEBUG    | vivarium.framework.values:register_value_modifier:373 - Registering disability_weight.4.lower_respiratory_infections.disability_weight as modifier to disability_weight\n",
      "2020-10-03 13:59:48.347 | DEBUG    | vivarium.framework.values:_register_value_producer:323 - Registering value pipeline lower_respiratory_infections.excess_mortality_rate\n",
      "2020-10-03 13:59:48.349 | DEBUG    | vivarium.framework.values:_register_value_producer:323 - Registering value pipeline lower_respiratory_infections.excess_mortality_rate.population_attributable_fraction\n",
      "2020-10-03 13:59:48.350 | DEBUG    | vivarium.framework.values:register_value_modifier:373 - Registering mortality_rate.4.state.lower_respiratory_infections.adjust_mortality_rate as modifier to mortality_rate\n",
      "2020-10-03 13:59:48.839 | DEBUG    | vivarium.framework.values:_register_value_producer:323 - Registering value pipeline lower_respiratory_infections.remission_rate\n",
      "2020-10-03 13:59:48.840 | DEBUG    | vivarium.framework.values:_register_value_producer:323 - Registering value pipeline lower_respiratory_infections.remission_rate.paf\n",
      "2020-10-03 13:59:51.512 | DEBUG    | vivarium.framework.values:_register_value_producer:323 - Registering value pipeline low_birth_weight_and_short_gestation.raw_exposure\n",
      "2020-10-03 13:59:51.516 | DEBUG    | vivarium.framework.values:_register_value_producer:323 - Registering value pipeline low_birth_weight_and_short_gestation.exposure\n",
      "2020-10-03 13:59:52.446 | DEBUG    | vivarium.framework.values:register_value_modifier:373 - Registering affected_unmodeled.csmr.1.risk_effect.risk_factor.low_birth_weight_and_short_gestation.cause.affected_unmodeled.csmr.adjust_target as modifier to affected_unmodeled.csmr\n",
      "2020-10-03 13:59:52.447 | DEBUG    | vivarium.framework.values:register_value_modifier:373 - Registering affected_unmodeled.csmr.population_attributable_fraction.1.lookup_table_81 as modifier to affected_unmodeled.csmr.population_attributable_fraction\n",
      "2020-10-03 13:59:53.310 | DEBUG    | vivarium.framework.values:register_value_modifier:373 - Registering lower_respiratory_infections.excess_mortality_rate.1.risk_effect.risk_factor.low_birth_weight_and_short_gestation.cause.lower_respiratory_infections.excess_mortality_rate.adjust_target as modifier to lower_respiratory_infections.excess_mortality_rate\n",
      "2020-10-03 13:59:53.313 | DEBUG    | vivarium.framework.values:register_value_modifier:373 - Registering lower_respiratory_infections.excess_mortality_rate.population_attributable_fraction.1.lookup_table_83 as modifier to lower_respiratory_infections.excess_mortality_rate.population_attributable_fraction\n",
      "2020-10-03 13:59:54.197 | DEBUG    | vivarium.framework.values:register_value_modifier:373 - Registering diarrheal_diseases.excess_mortality_rate.1.risk_effect.risk_factor.low_birth_weight_and_short_gestation.cause.diarrheal_diseases.excess_mortality_rate.adjust_target as modifier to diarrheal_diseases.excess_mortality_rate\n",
      "2020-10-03 13:59:54.199 | DEBUG    | vivarium.framework.values:register_value_modifier:373 - Registering diarrheal_diseases.excess_mortality_rate.population_attributable_fraction.1.lookup_table_85 as modifier to diarrheal_diseases.excess_mortality_rate.population_attributable_fraction\n",
      "2020-10-03 13:59:54.576 | DEBUG    | vivarium.framework.values:register_value_modifier:373 - Registering metrics.12.mortality_observer.metrics as modifier to metrics\n",
      "2020-10-03 13:59:54.832 | DEBUG    | vivarium.framework.values:_register_value_producer:323 - Registering value pipeline disability_weight\n",
      "2020-10-03 13:59:54.834 | DEBUG    | vivarium.framework.values:register_value_modifier:373 - Registering metrics.13.disability_observer.metrics as modifier to metrics\n"
     ]
    },
    {
     "name": "stderr",
     "output_type": "stream",
     "text": [
      "2020-10-03 13:59:54.837 | DEBUG    | vivarium.framework.values:register_value_modifier:373 - Registering metrics.14.disease_observer.diarrheal_diseases.metrics as modifier to metrics\n",
      "2020-10-03 13:59:54.838 | DEBUG    | vivarium.framework.values:register_value_modifier:373 - Registering metrics.15.disease_observer.measles.metrics as modifier to metrics\n",
      "2020-10-03 13:59:54.840 | DEBUG    | vivarium.framework.values:register_value_modifier:373 - Registering metrics.16.disease_observer.lower_respiratory_infections.metrics as modifier to metrics\n",
      "2020-10-03 13:59:54.841 | DEBUG    | vivarium.framework.values:register_value_modifier:373 - Registering metrics.17.disease_observer.protein_energy_malnutrition.metrics as modifier to metrics\n",
      "2020-10-03 13:59:54.843 | DEBUG    | vivarium.framework.values:register_value_modifier:373 - Registering metrics.18.risk_observer.child_growth_failure.metrics as modifier to metrics\n",
      "2020-10-03 13:59:54.843 | DEBUG    | vivarium.framework.values:register_value_modifier:373 - Registering metrics.19.risk_observer.low_birth_weight_and_short_gestation.metrics as modifier to metrics\n",
      "2020-10-03 13:59:54.845 | DEBUG    | vivarium.framework.values:register_value_modifier:373 - Registering metrics.20.risk.maternal_malnutrition.metrics as modifier to metrics\n",
      "2020-10-03 14:00:12.090 | DEBUG    | vivarium.framework.values:register_value_modifier:373 - Registering low_birth_weight_and_short_gestation.exposure.1.risk_effect.maternal_malnutrition.adjust_birth_weight as modifier to low_birth_weight_and_short_gestation.exposure\n",
      "2020-10-03 14:00:12.176 | DEBUG    | vivarium.framework.values:register_value_modifier:373 - Registering low_birth_weight_and_short_gestation.exposure.2.treatment_effect.maternal_supplementation.adjust_lbwsg as modifier to low_birth_weight_and_short_gestation.exposure\n",
      "2020-10-03 14:00:12.177 | DEBUG    | vivarium.framework.values:_register_value_producer:323 - Registering value pipeline metrics\n"
     ]
    }
   ],
   "source": [
    "#Define sim (use full filepath)\n",
    "\n",
    "sim_pakistan = InteractiveContext('/ihme/homes/nicoly/vivarium_gates_bep/src/vivarium_gates_bep/model_specifications/pakistan.yaml') #gives model before time-steps"
   ]
  },
  {
   "cell_type": "code",
   "execution_count": 7,
   "metadata": {
    "scrolled": true
   },
   "outputs": [
    {
     "name": "stderr",
     "output_type": "stream",
     "text": [
      "2020-10-03 13:56:58.971 | DEBUG    | vivarium.framework.values:register_value_modifier:373 - Registering metrics.1.population_manager.metrics as modifier to metrics\n",
      "2020-10-03 13:56:58.989 | DEBUG    | vivarium.framework.artifact.manager:_load_artifact:66 - Running simulation from artifact located at /share/costeffectiveness/artifacts/vivarium_gates_bep/mali.hdf.\n",
      "2020-10-03 13:56:58.991 | DEBUG    | vivarium.framework.artifact.manager:_load_artifact:67 - Artifact base filter terms are ['draw == 0', \"location == 'Mali' | location == 'Global'\"].\n",
      "2020-10-03 13:56:58.992 | DEBUG    | vivarium.framework.artifact.manager:_load_artifact:68 - Artifact additional filter terms are None.\n",
      "2020-10-03 13:56:59.572 | DEBUG    | vivarium.framework.values:_register_value_producer:323 - Registering value pipeline protein_energy_malnutrition.disability_weight\n",
      "2020-10-03 13:56:59.573 | DEBUG    | vivarium.framework.values:register_value_modifier:373 - Registering disability_weight.1.protein_energy_malnutrition.disability_weight as modifier to disability_weight\n",
      "2020-10-03 13:57:00.089 | DEBUG    | vivarium.framework.values:register_value_modifier:373 - Registering cause_specific_mortality_rate.1.risk_attributable_disease.cause.protein_energy_malnutrition.risk_factor.child_wasting.adjust_cause_specific_mortality_rate as modifier to cause_specific_mortality_rate\n",
      "2020-10-03 13:57:00.594 | DEBUG    | vivarium.framework.values:_register_value_producer:323 - Registering value pipeline protein_energy_malnutrition.excess_mortality_rate\n",
      "2020-10-03 13:57:00.596 | DEBUG    | vivarium.framework.values:_register_value_producer:323 - Registering value pipeline protein_energy_malnutrition.excess_mortality_rate.population_attributable_fraction\n",
      "2020-10-03 13:57:00.597 | DEBUG    | vivarium.framework.values:register_value_modifier:373 - Registering mortality_rate.1.risk_attributable_disease.cause.protein_energy_malnutrition.risk_factor.child_wasting.adjust_mortality_rate as modifier to mortality_rate\n",
      "2020-10-03 13:57:00.607 | DEBUG    | vivarium.framework.values:_register_value_producer:323 - Registering value pipeline child_wasting.propensity\n",
      "2020-10-03 13:57:00.608 | DEBUG    | vivarium.framework.values:_register_value_producer:323 - Registering value pipeline child_wasting.exposure\n",
      "2020-10-03 13:57:09.233 | DEBUG    | vivarium.framework.values:register_value_modifier:373 - Registering diarrheal_diseases.incidence_rate.1.risk_effect.risk_factor.child_wasting.cause.diarrheal_diseases.incidence_rate.adjust_target as modifier to diarrheal_diseases.incidence_rate\n",
      "2020-10-03 13:57:09.238 | DEBUG    | vivarium.framework.values:register_value_modifier:373 - Registering diarrheal_diseases.incidence_rate.paf.1.lookup_table_18 as modifier to diarrheal_diseases.incidence_rate.paf\n",
      "2020-10-03 13:57:09.857 | DEBUG    | vivarium.framework.values:register_value_modifier:373 - Registering measles.incidence_rate.1.risk_effect.risk_factor.child_wasting.cause.measles.incidence_rate.adjust_target as modifier to measles.incidence_rate\n",
      "2020-10-03 13:57:09.859 | DEBUG    | vivarium.framework.values:register_value_modifier:373 - Registering measles.incidence_rate.paf.1.lookup_table_20 as modifier to measles.incidence_rate.paf\n",
      "2020-10-03 13:57:10.488 | DEBUG    | vivarium.framework.values:register_value_modifier:373 - Registering lower_respiratory_infections.incidence_rate.1.risk_effect.risk_factor.child_wasting.cause.lower_respiratory_infections.incidence_rate.adjust_target as modifier to lower_respiratory_infections.incidence_rate\n",
      "2020-10-03 13:57:10.489 | DEBUG    | vivarium.framework.values:register_value_modifier:373 - Registering lower_respiratory_infections.incidence_rate.paf.1.lookup_table_22 as modifier to lower_respiratory_infections.incidence_rate.paf\n",
      "2020-10-03 13:57:10.489 | DEBUG    | vivarium.framework.values:_register_value_producer:323 - Registering value pipeline child_stunting.propensity\n",
      "2020-10-03 13:57:10.490 | DEBUG    | vivarium.framework.values:_register_value_producer:323 - Registering value pipeline child_stunting.exposure\n",
      "2020-10-03 13:57:18.042 | DEBUG    | vivarium.framework.values:register_value_modifier:373 - Registering diarrheal_diseases.incidence_rate.2.risk_effect.risk_factor.child_stunting.cause.diarrheal_diseases.incidence_rate.adjust_target as modifier to diarrheal_diseases.incidence_rate\n",
      "2020-10-03 13:57:18.046 | DEBUG    | vivarium.framework.values:register_value_modifier:373 - Registering diarrheal_diseases.incidence_rate.paf.2.lookup_table_37 as modifier to diarrheal_diseases.incidence_rate.paf\n",
      "2020-10-03 13:57:18.681 | DEBUG    | vivarium.framework.values:register_value_modifier:373 - Registering measles.incidence_rate.2.risk_effect.risk_factor.child_stunting.cause.measles.incidence_rate.adjust_target as modifier to measles.incidence_rate\n",
      "2020-10-03 13:57:18.683 | DEBUG    | vivarium.framework.values:register_value_modifier:373 - Registering measles.incidence_rate.paf.2.lookup_table_39 as modifier to measles.incidence_rate.paf\n",
      "2020-10-03 13:57:19.291 | DEBUG    | vivarium.framework.values:register_value_modifier:373 - Registering lower_respiratory_infections.incidence_rate.2.risk_effect.risk_factor.child_stunting.cause.lower_respiratory_infections.incidence_rate.adjust_target as modifier to lower_respiratory_infections.incidence_rate\n",
      "2020-10-03 13:57:19.293 | DEBUG    | vivarium.framework.values:register_value_modifier:373 - Registering lower_respiratory_infections.incidence_rate.paf.2.lookup_table_41 as modifier to lower_respiratory_infections.incidence_rate.paf\n",
      "2020-10-03 13:57:19.838 | DEBUG    | vivarium.framework.values:_register_value_producer:323 - Registering value pipeline cause_specific_mortality_rate\n",
      "2020-10-03 13:57:22.240 | DEBUG    | vivarium.framework.values:_register_value_producer:323 - Registering value pipeline affected_unmodeled.csmr\n",
      "2020-10-03 13:57:22.243 | DEBUG    | vivarium.framework.values:_register_value_producer:323 - Registering value pipeline affected_unmodeled.csmr.population_attributable_fraction\n",
      "2020-10-03 13:57:22.244 | DEBUG    | vivarium.framework.values:_register_value_producer:323 - Registering value pipeline mortality_rate\n",
      "2020-10-03 13:57:22.245 | DEBUG    | vivarium.framework.values:_register_value_producer:323 - Registering value pipeline all_causes.mortality_hazard\n",
      "2020-10-03 13:57:22.246 | DEBUG    | vivarium.framework.values:_register_value_producer:323 - Registering value pipeline all_causes.mortality_hazard.population_attributable_fraction\n",
      "2020-10-03 13:57:23.085 | DEBUG    | vivarium.framework.values:register_value_modifier:373 - Registering cause_specific_mortality_rate.2.disease_model.diarrheal_diseases.adjust_cause_specific_mortality_rate as modifier to cause_specific_mortality_rate\n",
      "2020-10-03 13:57:23.086 | DEBUG    | vivarium.framework.values:register_value_modifier:373 - Registering metrics.2.disease_model.diarrheal_diseases.metrics as modifier to metrics\n",
      "2020-10-03 13:57:23.088 | DEBUG    | vivarium.framework.values:register_value_modifier:373 - Registering metrics.3.state.susceptible_to_diarrheal_diseases.metrics as modifier to metrics\n",
      "2020-10-03 13:57:23.592 | DEBUG    | vivarium.framework.values:_register_value_producer:323 - Registering value pipeline diarrheal_diseases.incidence_rate\n",
      "2020-10-03 13:57:23.594 | DEBUG    | vivarium.framework.values:_register_value_producer:323 - Registering value pipeline diarrheal_diseases.incidence_rate.paf\n",
      "2020-10-03 13:57:23.597 | DEBUG    | vivarium.framework.values:register_value_modifier:373 - Registering metrics.4.state.diarrheal_diseases.metrics as modifier to metrics\n",
      "2020-10-03 13:57:24.105 | DEBUG    | vivarium.framework.values:_register_value_producer:323 - Registering value pipeline diarrheal_diseases.dwell_time\n",
      "2020-10-03 13:57:24.580 | DEBUG    | vivarium.framework.values:_register_value_producer:323 - Registering value pipeline diarrheal_diseases.disability_weight\n",
      "2020-10-03 13:57:24.581 | DEBUG    | vivarium.framework.values:register_value_modifier:373 - Registering disability_weight.2.diarrheal_diseases.disability_weight as modifier to disability_weight\n",
      "2020-10-03 13:57:25.081 | DEBUG    | vivarium.framework.values:_register_value_producer:323 - Registering value pipeline diarrheal_diseases.excess_mortality_rate\n"
     ]
    },
    {
     "name": "stderr",
     "output_type": "stream",
     "text": [
      "2020-10-03 13:57:25.083 | DEBUG    | vivarium.framework.values:_register_value_producer:323 - Registering value pipeline diarrheal_diseases.excess_mortality_rate.population_attributable_fraction\n",
      "2020-10-03 13:57:25.084 | DEBUG    | vivarium.framework.values:register_value_modifier:373 - Registering mortality_rate.2.state.diarrheal_diseases.adjust_mortality_rate as modifier to mortality_rate\n",
      "2020-10-03 13:57:25.618 | DEBUG    | vivarium.framework.values:_register_value_producer:323 - Registering value pipeline diarrheal_diseases.remission_rate\n",
      "2020-10-03 13:57:25.620 | DEBUG    | vivarium.framework.values:_register_value_producer:323 - Registering value pipeline diarrheal_diseases.remission_rate.paf\n",
      "2020-10-03 13:57:26.099 | DEBUG    | vivarium.framework.values:register_value_modifier:373 - Registering cause_specific_mortality_rate.3.disease_model.measles.adjust_cause_specific_mortality_rate as modifier to cause_specific_mortality_rate\n",
      "2020-10-03 13:57:26.101 | DEBUG    | vivarium.framework.values:register_value_modifier:373 - Registering metrics.5.disease_model.measles.metrics as modifier to metrics\n",
      "2020-10-03 13:57:26.102 | DEBUG    | vivarium.framework.values:register_value_modifier:373 - Registering metrics.6.state.susceptible_to_measles.metrics as modifier to metrics\n",
      "2020-10-03 13:57:26.596 | DEBUG    | vivarium.framework.values:_register_value_producer:323 - Registering value pipeline measles.incidence_rate\n",
      "2020-10-03 13:57:26.598 | DEBUG    | vivarium.framework.values:_register_value_producer:323 - Registering value pipeline measles.incidence_rate.paf\n",
      "2020-10-03 13:57:26.599 | DEBUG    | vivarium.framework.values:register_value_modifier:373 - Registering metrics.7.state.measles.metrics as modifier to metrics\n",
      "2020-10-03 13:57:27.083 | DEBUG    | vivarium.framework.values:_register_value_producer:323 - Registering value pipeline measles.dwell_time\n",
      "2020-10-03 13:57:27.526 | DEBUG    | vivarium.framework.values:_register_value_producer:323 - Registering value pipeline measles.disability_weight\n",
      "2020-10-03 13:57:27.528 | DEBUG    | vivarium.framework.values:register_value_modifier:373 - Registering disability_weight.3.measles.disability_weight as modifier to disability_weight\n",
      "2020-10-03 13:57:27.978 | DEBUG    | vivarium.framework.values:_register_value_producer:323 - Registering value pipeline measles.excess_mortality_rate\n",
      "2020-10-03 13:57:27.979 | DEBUG    | vivarium.framework.values:_register_value_producer:323 - Registering value pipeline measles.excess_mortality_rate.population_attributable_fraction\n",
      "2020-10-03 13:57:27.981 | DEBUG    | vivarium.framework.values:register_value_modifier:373 - Registering mortality_rate.3.state.measles.adjust_mortality_rate as modifier to mortality_rate\n",
      "2020-10-03 13:57:27.982 | DEBUG    | vivarium.framework.values:register_value_modifier:373 - Registering metrics.8.state.recovered_from_measles.metrics as modifier to metrics\n",
      "2020-10-03 13:57:28.470 | DEBUG    | vivarium.framework.values:register_value_modifier:373 - Registering cause_specific_mortality_rate.4.disease_model.lower_respiratory_infections.adjust_cause_specific_mortality_rate as modifier to cause_specific_mortality_rate\n",
      "2020-10-03 13:57:28.471 | DEBUG    | vivarium.framework.values:register_value_modifier:373 - Registering metrics.9.disease_model.lower_respiratory_infections.metrics as modifier to metrics\n",
      "2020-10-03 13:57:28.472 | DEBUG    | vivarium.framework.values:register_value_modifier:373 - Registering metrics.10.state.susceptible_to_lower_respiratory_infections.metrics as modifier to metrics\n",
      "2020-10-03 13:57:28.968 | DEBUG    | vivarium.framework.values:_register_value_producer:323 - Registering value pipeline lower_respiratory_infections.incidence_rate\n",
      "2020-10-03 13:57:28.969 | DEBUG    | vivarium.framework.values:_register_value_producer:323 - Registering value pipeline lower_respiratory_infections.incidence_rate.paf\n",
      "2020-10-03 13:57:28.971 | DEBUG    | vivarium.framework.values:register_value_modifier:373 - Registering metrics.11.state.lower_respiratory_infections.metrics as modifier to metrics\n",
      "2020-10-03 13:57:29.511 | DEBUG    | vivarium.framework.values:_register_value_producer:323 - Registering value pipeline lower_respiratory_infections.dwell_time\n",
      "2020-10-03 13:57:30.023 | DEBUG    | vivarium.framework.values:_register_value_producer:323 - Registering value pipeline lower_respiratory_infections.disability_weight\n",
      "2020-10-03 13:57:30.024 | DEBUG    | vivarium.framework.values:register_value_modifier:373 - Registering disability_weight.4.lower_respiratory_infections.disability_weight as modifier to disability_weight\n",
      "2020-10-03 13:57:30.510 | DEBUG    | vivarium.framework.values:_register_value_producer:323 - Registering value pipeline lower_respiratory_infections.excess_mortality_rate\n",
      "2020-10-03 13:57:30.513 | DEBUG    | vivarium.framework.values:_register_value_producer:323 - Registering value pipeline lower_respiratory_infections.excess_mortality_rate.population_attributable_fraction\n",
      "2020-10-03 13:57:30.514 | DEBUG    | vivarium.framework.values:register_value_modifier:373 - Registering mortality_rate.4.state.lower_respiratory_infections.adjust_mortality_rate as modifier to mortality_rate\n",
      "2020-10-03 13:57:31.004 | DEBUG    | vivarium.framework.values:_register_value_producer:323 - Registering value pipeline lower_respiratory_infections.remission_rate\n",
      "2020-10-03 13:57:31.005 | DEBUG    | vivarium.framework.values:_register_value_producer:323 - Registering value pipeline lower_respiratory_infections.remission_rate.paf\n",
      "2020-10-03 13:57:33.853 | DEBUG    | vivarium.framework.values:_register_value_producer:323 - Registering value pipeline low_birth_weight_and_short_gestation.raw_exposure\n",
      "2020-10-03 13:57:33.856 | DEBUG    | vivarium.framework.values:_register_value_producer:323 - Registering value pipeline low_birth_weight_and_short_gestation.exposure\n",
      "2020-10-03 13:57:34.757 | DEBUG    | vivarium.framework.values:register_value_modifier:373 - Registering affected_unmodeled.csmr.1.risk_effect.risk_factor.low_birth_weight_and_short_gestation.cause.affected_unmodeled.csmr.adjust_target as modifier to affected_unmodeled.csmr\n",
      "2020-10-03 13:57:34.759 | DEBUG    | vivarium.framework.values:register_value_modifier:373 - Registering affected_unmodeled.csmr.population_attributable_fraction.1.lookup_table_81 as modifier to affected_unmodeled.csmr.population_attributable_fraction\n",
      "2020-10-03 13:57:35.648 | DEBUG    | vivarium.framework.values:register_value_modifier:373 - Registering lower_respiratory_infections.excess_mortality_rate.1.risk_effect.risk_factor.low_birth_weight_and_short_gestation.cause.lower_respiratory_infections.excess_mortality_rate.adjust_target as modifier to lower_respiratory_infections.excess_mortality_rate\n",
      "2020-10-03 13:57:35.651 | DEBUG    | vivarium.framework.values:register_value_modifier:373 - Registering lower_respiratory_infections.excess_mortality_rate.population_attributable_fraction.1.lookup_table_83 as modifier to lower_respiratory_infections.excess_mortality_rate.population_attributable_fraction\n",
      "2020-10-03 13:57:36.571 | DEBUG    | vivarium.framework.values:register_value_modifier:373 - Registering diarrheal_diseases.excess_mortality_rate.1.risk_effect.risk_factor.low_birth_weight_and_short_gestation.cause.diarrheal_diseases.excess_mortality_rate.adjust_target as modifier to diarrheal_diseases.excess_mortality_rate\n",
      "2020-10-03 13:57:36.573 | DEBUG    | vivarium.framework.values:register_value_modifier:373 - Registering diarrheal_diseases.excess_mortality_rate.population_attributable_fraction.1.lookup_table_85 as modifier to diarrheal_diseases.excess_mortality_rate.population_attributable_fraction\n",
      "2020-10-03 13:57:36.930 | DEBUG    | vivarium.framework.values:register_value_modifier:373 - Registering metrics.12.mortality_observer.metrics as modifier to metrics\n",
      "2020-10-03 13:57:36.979 | DEBUG    | vivarium.framework.values:_register_value_producer:323 - Registering value pipeline disability_weight\n",
      "2020-10-03 13:57:36.980 | DEBUG    | vivarium.framework.values:register_value_modifier:373 - Registering metrics.13.disability_observer.metrics as modifier to metrics\n",
      "2020-10-03 13:57:36.982 | DEBUG    | vivarium.framework.values:register_value_modifier:373 - Registering metrics.14.disease_observer.diarrheal_diseases.metrics as modifier to metrics\n"
     ]
    },
    {
     "name": "stderr",
     "output_type": "stream",
     "text": [
      "2020-10-03 13:57:36.984 | DEBUG    | vivarium.framework.values:register_value_modifier:373 - Registering metrics.15.disease_observer.measles.metrics as modifier to metrics\n",
      "2020-10-03 13:57:36.985 | DEBUG    | vivarium.framework.values:register_value_modifier:373 - Registering metrics.16.disease_observer.lower_respiratory_infections.metrics as modifier to metrics\n",
      "2020-10-03 13:57:36.987 | DEBUG    | vivarium.framework.values:register_value_modifier:373 - Registering metrics.17.disease_observer.protein_energy_malnutrition.metrics as modifier to metrics\n",
      "2020-10-03 13:57:36.988 | DEBUG    | vivarium.framework.values:register_value_modifier:373 - Registering metrics.18.risk_observer.child_growth_failure.metrics as modifier to metrics\n",
      "2020-10-03 13:57:36.989 | DEBUG    | vivarium.framework.values:register_value_modifier:373 - Registering metrics.19.risk_observer.low_birth_weight_and_short_gestation.metrics as modifier to metrics\n",
      "2020-10-03 13:57:36.990 | DEBUG    | vivarium.framework.values:register_value_modifier:373 - Registering metrics.20.risk.maternal_malnutrition.metrics as modifier to metrics\n",
      "2020-10-03 13:57:54.132 | DEBUG    | vivarium.framework.values:register_value_modifier:373 - Registering low_birth_weight_and_short_gestation.exposure.1.risk_effect.maternal_malnutrition.adjust_birth_weight as modifier to low_birth_weight_and_short_gestation.exposure\n",
      "2020-10-03 13:57:54.208 | DEBUG    | vivarium.framework.values:register_value_modifier:373 - Registering low_birth_weight_and_short_gestation.exposure.2.treatment_effect.maternal_supplementation.adjust_lbwsg as modifier to low_birth_weight_and_short_gestation.exposure\n",
      "2020-10-03 13:57:54.209 | DEBUG    | vivarium.framework.values:_register_value_producer:323 - Registering value pipeline metrics\n"
     ]
    }
   ],
   "source": [
    "#Define sim (use full filepath)\n",
    "\n",
    "sim_mali = InteractiveContext('/ihme/homes/nicoly/vivarium_gates_bep/src/vivarium_gates_bep/model_specifications/mali.yaml')"
   ]
  },
  {
   "cell_type": "code",
   "execution_count": 10,
   "metadata": {},
   "outputs": [
    {
     "name": "stderr",
     "output_type": "stream",
     "text": [
      "2020-10-03 14:00:25.764 | DEBUG    | vivarium.framework.values:register_value_modifier:373 - Registering metrics.1.population_manager.metrics as modifier to metrics\n",
      "2020-10-03 14:00:25.771 | DEBUG    | vivarium.framework.artifact.manager:_load_artifact:66 - Running simulation from artifact located at /share/costeffectiveness/artifacts/vivarium_gates_bep/tanzania.hdf.\n",
      "2020-10-03 14:00:25.772 | DEBUG    | vivarium.framework.artifact.manager:_load_artifact:67 - Artifact base filter terms are ['draw == 0', \"location == 'Tanzania' | location == 'Global'\"].\n",
      "2020-10-03 14:00:25.773 | DEBUG    | vivarium.framework.artifact.manager:_load_artifact:68 - Artifact additional filter terms are None.\n",
      "2020-10-03 14:00:26.312 | DEBUG    | vivarium.framework.values:_register_value_producer:323 - Registering value pipeline protein_energy_malnutrition.disability_weight\n",
      "2020-10-03 14:00:26.314 | DEBUG    | vivarium.framework.values:register_value_modifier:373 - Registering disability_weight.1.protein_energy_malnutrition.disability_weight as modifier to disability_weight\n",
      "2020-10-03 14:00:26.786 | DEBUG    | vivarium.framework.values:register_value_modifier:373 - Registering cause_specific_mortality_rate.1.risk_attributable_disease.cause.protein_energy_malnutrition.risk_factor.child_wasting.adjust_cause_specific_mortality_rate as modifier to cause_specific_mortality_rate\n",
      "2020-10-03 14:00:27.262 | DEBUG    | vivarium.framework.values:_register_value_producer:323 - Registering value pipeline protein_energy_malnutrition.excess_mortality_rate\n",
      "2020-10-03 14:00:27.264 | DEBUG    | vivarium.framework.values:_register_value_producer:323 - Registering value pipeline protein_energy_malnutrition.excess_mortality_rate.population_attributable_fraction\n",
      "2020-10-03 14:00:27.265 | DEBUG    | vivarium.framework.values:register_value_modifier:373 - Registering mortality_rate.1.risk_attributable_disease.cause.protein_energy_malnutrition.risk_factor.child_wasting.adjust_mortality_rate as modifier to mortality_rate\n",
      "2020-10-03 14:00:27.275 | DEBUG    | vivarium.framework.values:_register_value_producer:323 - Registering value pipeline child_wasting.propensity\n",
      "2020-10-03 14:00:27.276 | DEBUG    | vivarium.framework.values:_register_value_producer:323 - Registering value pipeline child_wasting.exposure\n",
      "2020-10-03 14:00:36.221 | DEBUG    | vivarium.framework.values:register_value_modifier:373 - Registering diarrheal_diseases.incidence_rate.1.risk_effect.risk_factor.child_wasting.cause.diarrheal_diseases.incidence_rate.adjust_target as modifier to diarrheal_diseases.incidence_rate\n",
      "2020-10-03 14:00:36.223 | DEBUG    | vivarium.framework.values:register_value_modifier:373 - Registering diarrheal_diseases.incidence_rate.paf.1.lookup_table_18 as modifier to diarrheal_diseases.incidence_rate.paf\n",
      "2020-10-03 14:00:36.849 | DEBUG    | vivarium.framework.values:register_value_modifier:373 - Registering measles.incidence_rate.1.risk_effect.risk_factor.child_wasting.cause.measles.incidence_rate.adjust_target as modifier to measles.incidence_rate\n",
      "2020-10-03 14:00:36.851 | DEBUG    | vivarium.framework.values:register_value_modifier:373 - Registering measles.incidence_rate.paf.1.lookup_table_20 as modifier to measles.incidence_rate.paf\n",
      "2020-10-03 14:00:37.502 | DEBUG    | vivarium.framework.values:register_value_modifier:373 - Registering lower_respiratory_infections.incidence_rate.1.risk_effect.risk_factor.child_wasting.cause.lower_respiratory_infections.incidence_rate.adjust_target as modifier to lower_respiratory_infections.incidence_rate\n",
      "2020-10-03 14:00:37.503 | DEBUG    | vivarium.framework.values:register_value_modifier:373 - Registering lower_respiratory_infections.incidence_rate.paf.1.lookup_table_22 as modifier to lower_respiratory_infections.incidence_rate.paf\n",
      "2020-10-03 14:00:37.504 | DEBUG    | vivarium.framework.values:_register_value_producer:323 - Registering value pipeline child_stunting.propensity\n",
      "2020-10-03 14:00:37.505 | DEBUG    | vivarium.framework.values:_register_value_producer:323 - Registering value pipeline child_stunting.exposure\n",
      "2020-10-03 14:00:44.827 | DEBUG    | vivarium.framework.values:register_value_modifier:373 - Registering diarrheal_diseases.incidence_rate.2.risk_effect.risk_factor.child_stunting.cause.diarrheal_diseases.incidence_rate.adjust_target as modifier to diarrheal_diseases.incidence_rate\n",
      "2020-10-03 14:00:44.829 | DEBUG    | vivarium.framework.values:register_value_modifier:373 - Registering diarrheal_diseases.incidence_rate.paf.2.lookup_table_37 as modifier to diarrheal_diseases.incidence_rate.paf\n",
      "2020-10-03 14:00:45.442 | DEBUG    | vivarium.framework.values:register_value_modifier:373 - Registering measles.incidence_rate.2.risk_effect.risk_factor.child_stunting.cause.measles.incidence_rate.adjust_target as modifier to measles.incidence_rate\n",
      "2020-10-03 14:00:45.444 | DEBUG    | vivarium.framework.values:register_value_modifier:373 - Registering measles.incidence_rate.paf.2.lookup_table_39 as modifier to measles.incidence_rate.paf\n",
      "2020-10-03 14:00:46.046 | DEBUG    | vivarium.framework.values:register_value_modifier:373 - Registering lower_respiratory_infections.incidence_rate.2.risk_effect.risk_factor.child_stunting.cause.lower_respiratory_infections.incidence_rate.adjust_target as modifier to lower_respiratory_infections.incidence_rate\n",
      "2020-10-03 14:00:46.049 | DEBUG    | vivarium.framework.values:register_value_modifier:373 - Registering lower_respiratory_infections.incidence_rate.paf.2.lookup_table_41 as modifier to lower_respiratory_infections.incidence_rate.paf\n",
      "2020-10-03 14:00:46.590 | DEBUG    | vivarium.framework.values:_register_value_producer:323 - Registering value pipeline cause_specific_mortality_rate\n",
      "2020-10-03 14:00:49.037 | DEBUG    | vivarium.framework.values:_register_value_producer:323 - Registering value pipeline affected_unmodeled.csmr\n",
      "2020-10-03 14:00:49.040 | DEBUG    | vivarium.framework.values:_register_value_producer:323 - Registering value pipeline affected_unmodeled.csmr.population_attributable_fraction\n",
      "2020-10-03 14:00:49.042 | DEBUG    | vivarium.framework.values:_register_value_producer:323 - Registering value pipeline mortality_rate\n",
      "2020-10-03 14:00:49.043 | DEBUG    | vivarium.framework.values:_register_value_producer:323 - Registering value pipeline all_causes.mortality_hazard\n",
      "2020-10-03 14:00:49.044 | DEBUG    | vivarium.framework.values:_register_value_producer:323 - Registering value pipeline all_causes.mortality_hazard.population_attributable_fraction\n",
      "2020-10-03 14:00:49.875 | DEBUG    | vivarium.framework.values:register_value_modifier:373 - Registering cause_specific_mortality_rate.2.disease_model.diarrheal_diseases.adjust_cause_specific_mortality_rate as modifier to cause_specific_mortality_rate\n",
      "2020-10-03 14:00:49.878 | DEBUG    | vivarium.framework.values:register_value_modifier:373 - Registering metrics.2.disease_model.diarrheal_diseases.metrics as modifier to metrics\n",
      "2020-10-03 14:00:49.879 | DEBUG    | vivarium.framework.values:register_value_modifier:373 - Registering metrics.3.state.susceptible_to_diarrheal_diseases.metrics as modifier to metrics\n",
      "2020-10-03 14:00:50.351 | DEBUG    | vivarium.framework.values:_register_value_producer:323 - Registering value pipeline diarrheal_diseases.incidence_rate\n",
      "2020-10-03 14:00:50.352 | DEBUG    | vivarium.framework.values:_register_value_producer:323 - Registering value pipeline diarrheal_diseases.incidence_rate.paf\n",
      "2020-10-03 14:00:50.353 | DEBUG    | vivarium.framework.values:register_value_modifier:373 - Registering metrics.4.state.diarrheal_diseases.metrics as modifier to metrics\n",
      "2020-10-03 14:00:50.827 | DEBUG    | vivarium.framework.values:_register_value_producer:323 - Registering value pipeline diarrheal_diseases.dwell_time\n",
      "2020-10-03 14:00:51.291 | DEBUG    | vivarium.framework.values:_register_value_producer:323 - Registering value pipeline diarrheal_diseases.disability_weight\n",
      "2020-10-03 14:00:51.293 | DEBUG    | vivarium.framework.values:register_value_modifier:373 - Registering disability_weight.2.diarrheal_diseases.disability_weight as modifier to disability_weight\n",
      "2020-10-03 14:00:51.779 | DEBUG    | vivarium.framework.values:_register_value_producer:323 - Registering value pipeline diarrheal_diseases.excess_mortality_rate\n"
     ]
    },
    {
     "name": "stderr",
     "output_type": "stream",
     "text": [
      "2020-10-03 14:00:51.781 | DEBUG    | vivarium.framework.values:_register_value_producer:323 - Registering value pipeline diarrheal_diseases.excess_mortality_rate.population_attributable_fraction\n",
      "2020-10-03 14:00:51.782 | DEBUG    | vivarium.framework.values:register_value_modifier:373 - Registering mortality_rate.2.state.diarrheal_diseases.adjust_mortality_rate as modifier to mortality_rate\n",
      "2020-10-03 14:00:52.265 | DEBUG    | vivarium.framework.values:_register_value_producer:323 - Registering value pipeline diarrheal_diseases.remission_rate\n",
      "2020-10-03 14:00:52.266 | DEBUG    | vivarium.framework.values:_register_value_producer:323 - Registering value pipeline diarrheal_diseases.remission_rate.paf\n",
      "2020-10-03 14:00:52.750 | DEBUG    | vivarium.framework.values:register_value_modifier:373 - Registering cause_specific_mortality_rate.3.disease_model.measles.adjust_cause_specific_mortality_rate as modifier to cause_specific_mortality_rate\n",
      "2020-10-03 14:00:52.752 | DEBUG    | vivarium.framework.values:register_value_modifier:373 - Registering metrics.5.disease_model.measles.metrics as modifier to metrics\n",
      "2020-10-03 14:00:52.753 | DEBUG    | vivarium.framework.values:register_value_modifier:373 - Registering metrics.6.state.susceptible_to_measles.metrics as modifier to metrics\n",
      "2020-10-03 14:00:53.223 | DEBUG    | vivarium.framework.values:_register_value_producer:323 - Registering value pipeline measles.incidence_rate\n",
      "2020-10-03 14:00:53.226 | DEBUG    | vivarium.framework.values:_register_value_producer:323 - Registering value pipeline measles.incidence_rate.paf\n",
      "2020-10-03 14:00:53.227 | DEBUG    | vivarium.framework.values:register_value_modifier:373 - Registering metrics.7.state.measles.metrics as modifier to metrics\n",
      "2020-10-03 14:00:53.687 | DEBUG    | vivarium.framework.values:_register_value_producer:323 - Registering value pipeline measles.dwell_time\n",
      "2020-10-03 14:00:54.161 | DEBUG    | vivarium.framework.values:_register_value_producer:323 - Registering value pipeline measles.disability_weight\n",
      "2020-10-03 14:00:54.163 | DEBUG    | vivarium.framework.values:register_value_modifier:373 - Registering disability_weight.3.measles.disability_weight as modifier to disability_weight\n",
      "2020-10-03 14:00:54.627 | DEBUG    | vivarium.framework.values:_register_value_producer:323 - Registering value pipeline measles.excess_mortality_rate\n",
      "2020-10-03 14:00:54.629 | DEBUG    | vivarium.framework.values:_register_value_producer:323 - Registering value pipeline measles.excess_mortality_rate.population_attributable_fraction\n",
      "2020-10-03 14:00:54.631 | DEBUG    | vivarium.framework.values:register_value_modifier:373 - Registering mortality_rate.3.state.measles.adjust_mortality_rate as modifier to mortality_rate\n",
      "2020-10-03 14:00:54.634 | DEBUG    | vivarium.framework.values:register_value_modifier:373 - Registering metrics.8.state.recovered_from_measles.metrics as modifier to metrics\n",
      "2020-10-03 14:00:55.129 | DEBUG    | vivarium.framework.values:register_value_modifier:373 - Registering cause_specific_mortality_rate.4.disease_model.lower_respiratory_infections.adjust_cause_specific_mortality_rate as modifier to cause_specific_mortality_rate\n",
      "2020-10-03 14:00:55.131 | DEBUG    | vivarium.framework.values:register_value_modifier:373 - Registering metrics.9.disease_model.lower_respiratory_infections.metrics as modifier to metrics\n",
      "2020-10-03 14:00:55.132 | DEBUG    | vivarium.framework.values:register_value_modifier:373 - Registering metrics.10.state.susceptible_to_lower_respiratory_infections.metrics as modifier to metrics\n",
      "2020-10-03 14:00:55.607 | DEBUG    | vivarium.framework.values:_register_value_producer:323 - Registering value pipeline lower_respiratory_infections.incidence_rate\n",
      "2020-10-03 14:00:55.609 | DEBUG    | vivarium.framework.values:_register_value_producer:323 - Registering value pipeline lower_respiratory_infections.incidence_rate.paf\n",
      "2020-10-03 14:00:55.610 | DEBUG    | vivarium.framework.values:register_value_modifier:373 - Registering metrics.11.state.lower_respiratory_infections.metrics as modifier to metrics\n",
      "2020-10-03 14:00:56.148 | DEBUG    | vivarium.framework.values:_register_value_producer:323 - Registering value pipeline lower_respiratory_infections.dwell_time\n",
      "2020-10-03 14:00:56.615 | DEBUG    | vivarium.framework.values:_register_value_producer:323 - Registering value pipeline lower_respiratory_infections.disability_weight\n",
      "2020-10-03 14:00:56.618 | DEBUG    | vivarium.framework.values:register_value_modifier:373 - Registering disability_weight.4.lower_respiratory_infections.disability_weight as modifier to disability_weight\n",
      "2020-10-03 14:00:57.102 | DEBUG    | vivarium.framework.values:_register_value_producer:323 - Registering value pipeline lower_respiratory_infections.excess_mortality_rate\n",
      "2020-10-03 14:00:57.103 | DEBUG    | vivarium.framework.values:_register_value_producer:323 - Registering value pipeline lower_respiratory_infections.excess_mortality_rate.population_attributable_fraction\n",
      "2020-10-03 14:00:57.104 | DEBUG    | vivarium.framework.values:register_value_modifier:373 - Registering mortality_rate.4.state.lower_respiratory_infections.adjust_mortality_rate as modifier to mortality_rate\n",
      "2020-10-03 14:00:57.588 | DEBUG    | vivarium.framework.values:_register_value_producer:323 - Registering value pipeline lower_respiratory_infections.remission_rate\n",
      "2020-10-03 14:00:57.590 | DEBUG    | vivarium.framework.values:_register_value_producer:323 - Registering value pipeline lower_respiratory_infections.remission_rate.paf\n",
      "2020-10-03 14:01:00.287 | DEBUG    | vivarium.framework.values:_register_value_producer:323 - Registering value pipeline low_birth_weight_and_short_gestation.raw_exposure\n",
      "2020-10-03 14:01:00.288 | DEBUG    | vivarium.framework.values:_register_value_producer:323 - Registering value pipeline low_birth_weight_and_short_gestation.exposure\n",
      "2020-10-03 14:01:01.208 | DEBUG    | vivarium.framework.values:register_value_modifier:373 - Registering affected_unmodeled.csmr.1.risk_effect.risk_factor.low_birth_weight_and_short_gestation.cause.affected_unmodeled.csmr.adjust_target as modifier to affected_unmodeled.csmr\n",
      "2020-10-03 14:01:01.210 | DEBUG    | vivarium.framework.values:register_value_modifier:373 - Registering affected_unmodeled.csmr.population_attributable_fraction.1.lookup_table_81 as modifier to affected_unmodeled.csmr.population_attributable_fraction\n",
      "2020-10-03 14:01:02.108 | DEBUG    | vivarium.framework.values:register_value_modifier:373 - Registering lower_respiratory_infections.excess_mortality_rate.1.risk_effect.risk_factor.low_birth_weight_and_short_gestation.cause.lower_respiratory_infections.excess_mortality_rate.adjust_target as modifier to lower_respiratory_infections.excess_mortality_rate\n",
      "2020-10-03 14:01:02.109 | DEBUG    | vivarium.framework.values:register_value_modifier:373 - Registering lower_respiratory_infections.excess_mortality_rate.population_attributable_fraction.1.lookup_table_83 as modifier to lower_respiratory_infections.excess_mortality_rate.population_attributable_fraction\n",
      "2020-10-03 14:01:02.993 | DEBUG    | vivarium.framework.values:register_value_modifier:373 - Registering diarrheal_diseases.excess_mortality_rate.1.risk_effect.risk_factor.low_birth_weight_and_short_gestation.cause.diarrheal_diseases.excess_mortality_rate.adjust_target as modifier to diarrheal_diseases.excess_mortality_rate\n",
      "2020-10-03 14:01:02.995 | DEBUG    | vivarium.framework.values:register_value_modifier:373 - Registering diarrheal_diseases.excess_mortality_rate.population_attributable_fraction.1.lookup_table_85 as modifier to diarrheal_diseases.excess_mortality_rate.population_attributable_fraction\n",
      "2020-10-03 14:01:03.378 | DEBUG    | vivarium.framework.values:register_value_modifier:373 - Registering metrics.12.mortality_observer.metrics as modifier to metrics\n",
      "2020-10-03 14:01:03.480 | DEBUG    | vivarium.framework.values:_register_value_producer:323 - Registering value pipeline disability_weight\n",
      "2020-10-03 14:01:03.482 | DEBUG    | vivarium.framework.values:register_value_modifier:373 - Registering metrics.13.disability_observer.metrics as modifier to metrics\n",
      "2020-10-03 14:01:03.484 | DEBUG    | vivarium.framework.values:register_value_modifier:373 - Registering metrics.14.disease_observer.diarrheal_diseases.metrics as modifier to metrics\n"
     ]
    },
    {
     "name": "stderr",
     "output_type": "stream",
     "text": [
      "2020-10-03 14:01:03.486 | DEBUG    | vivarium.framework.values:register_value_modifier:373 - Registering metrics.15.disease_observer.measles.metrics as modifier to metrics\n",
      "2020-10-03 14:01:03.487 | DEBUG    | vivarium.framework.values:register_value_modifier:373 - Registering metrics.16.disease_observer.lower_respiratory_infections.metrics as modifier to metrics\n",
      "2020-10-03 14:01:03.489 | DEBUG    | vivarium.framework.values:register_value_modifier:373 - Registering metrics.17.disease_observer.protein_energy_malnutrition.metrics as modifier to metrics\n",
      "2020-10-03 14:01:03.490 | DEBUG    | vivarium.framework.values:register_value_modifier:373 - Registering metrics.18.risk_observer.child_growth_failure.metrics as modifier to metrics\n",
      "2020-10-03 14:01:03.491 | DEBUG    | vivarium.framework.values:register_value_modifier:373 - Registering metrics.19.risk_observer.low_birth_weight_and_short_gestation.metrics as modifier to metrics\n",
      "2020-10-03 14:01:03.492 | DEBUG    | vivarium.framework.values:register_value_modifier:373 - Registering metrics.20.risk.maternal_malnutrition.metrics as modifier to metrics\n",
      "2020-10-03 14:01:20.467 | DEBUG    | vivarium.framework.values:register_value_modifier:373 - Registering low_birth_weight_and_short_gestation.exposure.1.risk_effect.maternal_malnutrition.adjust_birth_weight as modifier to low_birth_weight_and_short_gestation.exposure\n",
      "2020-10-03 14:01:20.544 | DEBUG    | vivarium.framework.values:register_value_modifier:373 - Registering low_birth_weight_and_short_gestation.exposure.2.treatment_effect.maternal_supplementation.adjust_lbwsg as modifier to low_birth_weight_and_short_gestation.exposure\n",
      "2020-10-03 14:01:20.546 | DEBUG    | vivarium.framework.values:_register_value_producer:323 - Registering value pipeline metrics\n"
     ]
    }
   ],
   "source": [
    "#Define sim (use full filepath)\n",
    "\n",
    "sim_tanzania = InteractiveContext('/ihme/homes/nicoly/vivarium_gates_bep/src/vivarium_gates_bep/model_specifications/tanzania.yaml') #gives model before time-steps"
   ]
  },
  {
   "cell_type": "markdown",
   "metadata": {},
   "source": [
    "# 2. Now can run the sim using TIME-STEPS"
   ]
  },
  {
   "cell_type": "markdown",
   "metadata": {},
   "source": [
    "## India"
   ]
  },
  {
   "cell_type": "code",
   "execution_count": null,
   "metadata": {
    "scrolled": true
   },
   "outputs": [
    {
     "name": "stderr",
     "output_type": "stream",
     "text": [
      "2020-10-03 14:02:40.316 | DEBUG    | vivarium.framework.engine:step:140 - 2020-07-02 00:00:00\n",
      "2020-10-03 14:02:49.061 | DEBUG    | vivarium.framework.engine:step:140 - 2020-07-03 00:00:00\n",
      "2020-10-03 14:02:58.249 | DEBUG    | vivarium.framework.engine:step:140 - 2020-07-04 00:00:00\n",
      "2020-10-03 14:03:07.280 | DEBUG    | vivarium.framework.engine:step:140 - 2020-07-05 00:00:00\n",
      "2020-10-03 14:03:16.113 | DEBUG    | vivarium.framework.engine:step:140 - 2020-07-06 00:00:00\n",
      "2020-10-03 14:03:24.930 | DEBUG    | vivarium.framework.engine:step:140 - 2020-07-07 00:00:00\n",
      "2020-10-03 14:03:33.947 | DEBUG    | vivarium.framework.engine:step:140 - 2020-07-08 00:00:00\n",
      "2020-10-03 14:03:43.103 | DEBUG    | vivarium.framework.engine:step:140 - 2020-07-09 00:00:00\n",
      "2020-10-03 14:03:52.236 | DEBUG    | vivarium.framework.engine:step:140 - 2020-07-10 00:00:00\n",
      "2020-10-03 14:04:01.363 | DEBUG    | vivarium.framework.engine:step:140 - 2020-07-11 00:00:00\n",
      "2020-10-03 14:04:09.886 | DEBUG    | vivarium.framework.engine:step:140 - 2020-07-12 00:00:00\n",
      "2020-10-03 14:04:18.789 | DEBUG    | vivarium.framework.engine:step:140 - 2020-07-13 00:00:00\n",
      "2020-10-03 14:04:27.271 | DEBUG    | vivarium.framework.engine:step:140 - 2020-07-14 00:00:00\n",
      "2020-10-03 14:04:36.408 | DEBUG    | vivarium.framework.engine:step:140 - 2020-07-15 00:00:00\n",
      "2020-10-03 14:04:45.566 | DEBUG    | vivarium.framework.engine:step:140 - 2020-07-16 00:00:00\n",
      "2020-10-03 14:04:54.455 | DEBUG    | vivarium.framework.engine:step:140 - 2020-07-17 00:00:00\n",
      "2020-10-03 14:05:03.267 | DEBUG    | vivarium.framework.engine:step:140 - 2020-07-18 00:00:00\n",
      "2020-10-03 14:05:12.177 | DEBUG    | vivarium.framework.engine:step:140 - 2020-07-19 00:00:00\n",
      "2020-10-03 14:05:21.101 | DEBUG    | vivarium.framework.engine:step:140 - 2020-07-20 00:00:00\n",
      "2020-10-03 14:05:29.523 | DEBUG    | vivarium.framework.engine:step:140 - 2020-07-21 00:00:00\n",
      "2020-10-03 14:05:38.576 | DEBUG    | vivarium.framework.engine:step:140 - 2020-07-22 00:00:00\n",
      "2020-10-03 14:05:47.433 | DEBUG    | vivarium.framework.engine:step:140 - 2020-07-23 00:00:00\n",
      "2020-10-03 14:05:56.455 | DEBUG    | vivarium.framework.engine:step:140 - 2020-07-24 00:00:00\n",
      "2020-10-03 14:06:06.834 | DEBUG    | vivarium.framework.engine:step:140 - 2020-07-25 00:00:00\n",
      "2020-10-03 14:06:16.629 | DEBUG    | vivarium.framework.engine:step:140 - 2020-07-26 00:00:00\n",
      "2020-10-03 14:06:31.142 | DEBUG    | vivarium.framework.engine:step:140 - 2020-07-27 00:00:00\n",
      "2020-10-03 14:06:40.169 | DEBUG    | vivarium.framework.engine:step:140 - 2020-07-28 00:00:00\n",
      "2020-10-03 14:06:49.119 | DEBUG    | vivarium.framework.engine:step:140 - 2020-07-29 00:00:00\n",
      "2020-10-03 14:06:57.929 | DEBUG    | vivarium.framework.engine:step:140 - 2020-07-30 00:00:00\n",
      "2020-10-03 14:07:06.741 | DEBUG    | vivarium.framework.engine:step:140 - 2020-07-31 00:00:00\n",
      "2020-10-03 14:07:15.832 | DEBUG    | vivarium.framework.engine:step:140 - 2020-08-01 00:00:00\n",
      "2020-10-03 14:07:24.905 | DEBUG    | vivarium.framework.engine:step:140 - 2020-08-02 00:00:00\n",
      "2020-10-03 14:07:33.925 | DEBUG    | vivarium.framework.engine:step:140 - 2020-08-03 00:00:00\n",
      "2020-10-03 14:07:43.122 | DEBUG    | vivarium.framework.engine:step:140 - 2020-08-04 00:00:00\n"
     ]
    }
   ],
   "source": [
    "#run for sim which is India\n",
    "\n",
    "NUM_STEPS = 400\n",
    "\n",
    "# run time-steps                            \n",
    "for i in range(NUM_STEPS):\n",
    "    sim_india.step()"
   ]
  },
  {
   "cell_type": "markdown",
   "metadata": {},
   "source": [
    "## Pakistan"
   ]
  },
  {
   "cell_type": "code",
   "execution_count": null,
   "metadata": {
    "scrolled": true
   },
   "outputs": [],
   "source": [
    "#run for sim_pakistan\n",
    "\n",
    "NUM_STEPS = 400\n",
    "\n",
    "# run time-steps  \\  \n",
    "for i in range(NUM_STEPS):\n",
    "    sim_pakistan.step()"
   ]
  },
  {
   "cell_type": "markdown",
   "metadata": {},
   "source": [
    "## Mali"
   ]
  },
  {
   "cell_type": "code",
   "execution_count": null,
   "metadata": {
    "scrolled": true
   },
   "outputs": [],
   "source": [
    "#run for sim_mali\n",
    "\n",
    "NUM_STEPS = 400\n",
    "# 400 for 1 year\n",
    "# 32 for 1 month\n",
    "\n",
    "# run time-steps  \\  \n",
    "for i in range(NUM_STEPS):\n",
    "    sim_mali.step()"
   ]
  },
  {
   "cell_type": "markdown",
   "metadata": {},
   "source": [
    "## Tanzania"
   ]
  },
  {
   "cell_type": "code",
   "execution_count": null,
   "metadata": {
    "scrolled": true
   },
   "outputs": [],
   "source": [
    "#run for sim_tanzania\n",
    "\n",
    "NUM_STEPS = 400\n",
    "\n",
    "# run time-steps  \\  \n",
    "for i in range(NUM_STEPS):\n",
    "    sim_tanzania.step()"
   ]
  },
  {
   "cell_type": "markdown",
   "metadata": {},
   "source": [
    "# 3. Get pop df after model has run the time-steps indicated in 2 above "
   ]
  },
  {
   "cell_type": "code",
   "execution_count": null,
   "metadata": {},
   "outputs": [],
   "source": [
    "#co-variate population using get_population() method\n",
    "\n",
    "pop_india = sim_india.get_population()\n",
    "pop_pakistan = sim_pakistan.get_population()\n",
    "pop_mali = sim_mali.get_population()\n",
    "pop_tanzania = sim_tanzania.get_population()\n",
    "\n",
    "#check columns for one country\n",
    "pop_mali.head()\n",
    "\n",
    "#10,000 original simulants were specified in the yaml file, some would have died during time-steps (this is draw 0)"
   ]
  },
  {
   "cell_type": "markdown",
   "metadata": {},
   "source": [
    "# Explore pop df\n",
    "## note: explore pop columes alive (tells us whether the simulant has died or is still alive) This is an important column because we want to analyse the alive population only at 6 months\n",
    "\n",
    "pop_countryname.alive.head()"
   ]
  },
  {
   "cell_type": "code",
   "execution_count": null,
   "metadata": {},
   "outputs": [],
   "source": [
    "pop_india.alive.head()"
   ]
  },
  {
   "cell_type": "code",
   "execution_count": null,
   "metadata": {},
   "outputs": [],
   "source": [
    "#explore pop columes birthweight \n",
    "\n",
    "pop_india.birth_weight.head()"
   ]
  },
  {
   "cell_type": "markdown",
   "metadata": {},
   "source": [
    "# 4. Get pipeline for interested variables (pipeline is a kind of method, so doesnt change in between sims. Only the values coming out of the pipeline changes)"
   ]
  },
  {
   "cell_type": "code",
   "execution_count": 11,
   "metadata": {
    "scrolled": false
   },
   "outputs": [
    {
     "data": {
      "text/plain": [
       "['metrics',\n",
       " 'protein_energy_malnutrition.disability_weight',\n",
       " 'disability_weight',\n",
       " 'cause_specific_mortality_rate',\n",
       " 'protein_energy_malnutrition.excess_mortality_rate',\n",
       " 'protein_energy_malnutrition.excess_mortality_rate.population_attributable_fraction',\n",
       " 'mortality_rate',\n",
       " 'child_wasting.exposure',\n",
       " 'child_wasting.propensity',\n",
       " 'diarrheal_diseases.incidence_rate',\n",
       " 'diarrheal_diseases.incidence_rate.paf',\n",
       " 'measles.incidence_rate',\n",
       " 'measles.incidence_rate.paf',\n",
       " 'lower_respiratory_infections.incidence_rate',\n",
       " 'lower_respiratory_infections.incidence_rate.paf',\n",
       " 'child_stunting.propensity',\n",
       " 'child_stunting.exposure',\n",
       " 'affected_unmodeled.csmr',\n",
       " 'affected_unmodeled.csmr.population_attributable_fraction',\n",
       " 'all_causes.mortality_hazard',\n",
       " 'all_causes.mortality_hazard.population_attributable_fraction',\n",
       " 'diarrheal_diseases.dwell_time',\n",
       " 'diarrheal_diseases.disability_weight',\n",
       " 'diarrheal_diseases.excess_mortality_rate',\n",
       " 'diarrheal_diseases.excess_mortality_rate.population_attributable_fraction',\n",
       " 'diarrheal_diseases.remission_rate',\n",
       " 'diarrheal_diseases.remission_rate.paf',\n",
       " 'measles.dwell_time',\n",
       " 'measles.disability_weight',\n",
       " 'measles.excess_mortality_rate',\n",
       " 'measles.excess_mortality_rate.population_attributable_fraction',\n",
       " 'lower_respiratory_infections.dwell_time',\n",
       " 'lower_respiratory_infections.disability_weight',\n",
       " 'lower_respiratory_infections.excess_mortality_rate',\n",
       " 'lower_respiratory_infections.excess_mortality_rate.population_attributable_fraction',\n",
       " 'lower_respiratory_infections.remission_rate',\n",
       " 'lower_respiratory_infections.remission_rate.paf',\n",
       " 'low_birth_weight_and_short_gestation.raw_exposure',\n",
       " 'low_birth_weight_and_short_gestation.exposure']"
      ]
     },
     "execution_count": 11,
     "metadata": {},
     "output_type": "execute_result"
    }
   ],
   "source": [
    "#list the key names of the pipeline\n",
    "\n",
    "sim_india.list_values()"
   ]
  },
  {
   "cell_type": "code",
   "execution_count": null,
   "metadata": {},
   "outputs": [],
   "source": [
    "#interested pipelines : 'child_stunting.exposure', 'child_wasting.exposure'\n",
    "#this 'get_value' gets the wasting pipline values -not totall sure what this means! get some clarification\n",
    "# a pipeline is a 'python method thingie'\n",
    "\n",
    "#pipeline for india sim\n",
    "\n",
    "pipe_wasting_india = sim_india.get_value('child_wasting.exposure')\n",
    "pipe_stunting_india = sim_india.get_value('child_stunting.exposure')\n",
    "pipe_lbwsg_india = sim_india.get_value('low_birth_weight_and_short_gestation.exposure')"
   ]
  },
  {
   "cell_type": "code",
   "execution_count": null,
   "metadata": {},
   "outputs": [],
   "source": [
    "#pipeline for pakistan sim\n",
    "\n",
    "pipe_wasting_pakistan = sim_pakistan.get_value('child_wasting.exposure')\n",
    "pipe_stunting_pakistan = sim_pakistan.get_value('child_stunting.exposure')\n",
    "pipe_lbwsg_pakistan = sim_pakistan.get_value('low_birth_weight_and_short_gestation.exposure')"
   ]
  },
  {
   "cell_type": "code",
   "execution_count": null,
   "metadata": {},
   "outputs": [],
   "source": [
    "#pipeline for mali sim\n",
    "\n",
    "pipe_wasting_mali = sim_mali.get_value('child_wasting.exposure')\n",
    "pipe_stunting_mali = sim_mali.get_value('child_stunting.exposure')\n",
    "pipe_lbwsg_mali = sim_mali.get_value('low_birth_weight_and_short_gestation.exposure')"
   ]
  },
  {
   "cell_type": "code",
   "execution_count": null,
   "metadata": {},
   "outputs": [],
   "source": [
    "#pipeline for tanzania sim\n",
    "\n",
    "pipe_wasting_tanzania = sim_tanzania.get_value('child_wasting.exposure')\n",
    "pipe_stunting_tanzania = sim_tanzania.get_value('child_stunting.exposure')\n",
    "pipe_lbwsg_tanzania = sim_tanzania.get_value('low_birth_weight_and_short_gestation.exposure')"
   ]
  },
  {
   "cell_type": "code",
   "execution_count": null,
   "metadata": {
    "scrolled": true
   },
   "outputs": [],
   "source": [
    "#the skip_post_processor skips the conversion of the z-scores to cats 1-4 (this is a method, and shouldnt need to be re-run)\n",
    "\n",
    "#explore\n",
    "\n",
    "pipe_wasting_india(pop_india.index, skip_post_processor=True).head()"
   ]
  },
  {
   "cell_type": "code",
   "execution_count": null,
   "metadata": {
    "scrolled": true
   },
   "outputs": [],
   "source": [
    "#stunting pipeline\n",
    "\n",
    "pipe_stunting_india(pop_india.index, skip_post_processor=True).head()"
   ]
  },
  {
   "cell_type": "markdown",
   "metadata": {},
   "source": [
    "# 5a. Create mask to filter alive/dead population "
   ]
  },
  {
   "cell_type": "code",
   "execution_count": null,
   "metadata": {},
   "outputs": [],
   "source": [
    "# create mask; read more about masking here ->http://danielandreasen.github.io/:about/2015/01/19/masks-in-python/\n",
    "\n",
    "#(pop.alive == 'alive').all()\n",
    "\n",
    "mask_alive_india = pop_india.alive == 'alive'\n",
    "mask_alive_pakistan = pop_pakistan.alive == 'alive'\n",
    "mask_alive_mali = pop_mali.alive == 'alive'\n",
    "mask_alive_tanzania = pop_tanzania.alive == 'alive'\n",
    "\n",
    "#mask_alive[:5] = False\n",
    "mask_alive_india.head()"
   ]
  },
  {
   "cell_type": "code",
   "execution_count": null,
   "metadata": {},
   "outputs": [],
   "source": [
    "#test mask alive\n",
    "\n",
    "pop_india[mask_alive_india].head()\n",
    "\n",
    "#pop[bolean series] --> if you pass a bolean series inside square brackets of a data frame, you get a dataframe where bolean is true\n",
    "# the boleans series is a different object, so make sure they have matching indexes"
   ]
  },
  {
   "cell_type": "markdown",
   "metadata": {},
   "source": [
    "# 5b. create index for alive population and dead population "
   ]
  },
  {
   "cell_type": "code",
   "execution_count": null,
   "metadata": {},
   "outputs": [],
   "source": [
    "#another way to do it\n",
    "\n",
    "alive_pop_india = pop_india.loc[mask_alive_india, :]\n",
    "dead_pop_india = pop_india.loc[~mask_alive_india, :]\n",
    "\n",
    "alive_pop_pakistan = pop_pakistan.loc[mask_alive_pakistan, :]\n",
    "dead_pop_pakistan = pop_pakistan.loc[~mask_alive_pakistan, :]\n",
    "\n",
    "alive_pop_mali = pop_mali.loc[mask_alive_mali, :]\n",
    "dead_pop_mali = pop_mali.loc[~mask_alive_mali, :]\n",
    "\n",
    "alive_pop_tanzania = pop_tanzania.loc[mask_alive_tanzania, :]\n",
    "dead_pop_tanzania = pop_tanzania.loc[~mask_alive_tanzania, :]\n",
    "\n",
    "\n",
    "#----------------notes------------------------------------------------\n",
    "# pop.loc[mask_alive, ['mother_malnourished', 'tracked']].head() \n",
    "# two dimensions of dataframe where loc[row,columns]\n",
    "# here I'm saying i only want the rows defined by my ask, and the colon means all columns \n",
    "# .loc makes it more clear which filters I am using for rows and columns"
   ]
  },
  {
   "cell_type": "code",
   "execution_count": null,
   "metadata": {
    "scrolled": false
   },
   "outputs": [],
   "source": [
    "alive_pop_india.index"
   ]
  },
  {
   "cell_type": "code",
   "execution_count": null,
   "metadata": {},
   "outputs": [],
   "source": [
    "dead_pop_india.index"
   ]
  },
  {
   "cell_type": "code",
   "execution_count": null,
   "metadata": {
    "scrolled": true
   },
   "outputs": [],
   "source": [
    "pop_india.index[mask_alive_india]\n",
    "\n",
    "#by default, this is giving us a pd index data frame with all the values where mask_alive = alive is TRUE\n",
    "#pop.index[mask_alive[~mask_alive].index] # ~ means mask_alive= False (~ this is the complement operator)"
   ]
  },
  {
   "cell_type": "markdown",
   "metadata": {},
   "source": [
    "# 5c. CREATE alive index to filter out the alive population only at time step"
   ]
  },
  {
   "cell_type": "code",
   "execution_count": null,
   "metadata": {},
   "outputs": [],
   "source": [
    "#CREATE ALIVE INDEX\n",
    "\n",
    "alive_index_india = alive_pop_india.index\n",
    "alive_index_pakistan = alive_pop_pakistan.index\n",
    "alive_index_mali = alive_pop_mali.index\n",
    "alive_index_tanzania = alive_pop_tanzania.index"
   ]
  },
  {
   "cell_type": "markdown",
   "metadata": {},
   "source": [
    "# 6. Create dataframe with interested variables"
   ]
  },
  {
   "cell_type": "code",
   "execution_count": null,
   "metadata": {},
   "outputs": [],
   "source": [
    "#get the dataframe with individual data to look at correlation between birthweight and wasting/stunting z scores\n",
    "\n",
    "india = pd.DataFrame({'stunting_india': pipe_stunting_india(alive_index_india, skip_post_processor=True),\n",
    "                    'wasting_india': pipe_wasting_india(alive_index_india, skip_post_processor=True),\n",
    "                    'lbwsg_india': pipe_lbwsg_india(alive_index_india, skip_post_processor=True).birth_weight,\n",
    "                    'birth_weight_india': pop_india.loc[alive_index_india].birth_weight,\n",
    "                    'mom_status_india': pop_india.loc[alive_index_india].mother_malnourished,\n",
    "                    'ifa_status_india': pop_india.loc[alive_index_india].baseline_maternal_supplementation_type,\n",
    "                    'alive_status_india': pop_india.loc[alive_index_india].alive })\n",
    "len(india)\n",
    "\n",
    "##note number who died is 10,000-len(df1)"
   ]
  },
  {
   "cell_type": "code",
   "execution_count": null,
   "metadata": {},
   "outputs": [],
   "source": [
    "#get the dataframe with individual data to look at correlation between birthweight and wasting/stunting z scores\n",
    "\n",
    "mali = pd.DataFrame({'stunting_mali': pipe_stunting_mali(alive_index_mali, skip_post_processor=True),\n",
    "                    'wasting_mali': pipe_wasting_mali(alive_index_mali, skip_post_processor=True),\n",
    "                    'lbwsg_mali': pipe_lbwsg_mali(alive_index_mali, skip_post_processor=True).birth_weight,\n",
    "                    'birth_weight_mali': pop_mali.loc[alive_index_mali].birth_weight,\n",
    "                    'mom_status_mali': pop_mali.loc[alive_index_mali].mother_malnourished,\n",
    "                    'ifa_status_mali': pop_mali.loc[alive_index_mali].baseline_maternal_supplementation_type,\n",
    "                    'alive_status_mali': pop_mali.loc[alive_index_mali].alive })\n",
    "len(mali)\n",
    "\n",
    "##note number who died is 10,000-len(df1)"
   ]
  },
  {
   "cell_type": "code",
   "execution_count": null,
   "metadata": {},
   "outputs": [],
   "source": [
    "#PAKSITAN\n",
    "\n",
    "#get the dataframe with individual data to look at correlation between birthweight and wasting/stunting z scores\n",
    "\n",
    "pakistan = pd.DataFrame({'stunting_pakistan': pipe_stunting_pakistan(alive_index_pakistan, skip_post_processor=True),\n",
    "                    'wasting_pakistan': pipe_wasting_pakistan(alive_index_pakistan, skip_post_processor=True),\n",
    "                    'lbwsg_pakistan': pipe_lbwsg_pakistan(alive_index_pakistan, skip_post_processor=True).birth_weight,\n",
    "                    'birth_weight_pakistan': pop_pakistan.loc[alive_index_pakistan].birth_weight,\n",
    "                    'mom_status_pakistan': pop_pakistan.loc[alive_index_pakistan].mother_malnourished,\n",
    "                    'ifa_status_pakistan': pop_pakistan.loc[alive_index_pakistan].baseline_maternal_supplementation_type,\n",
    "                    'alive_status_pakistan': pop_pakistan.loc[alive_index_pakistan].alive })\n",
    "len(pakistan)\n",
    "\n",
    "\n",
    "##note number who died is 10,000-len(df1)"
   ]
  },
  {
   "cell_type": "code",
   "execution_count": null,
   "metadata": {},
   "outputs": [],
   "source": [
    "#TANZANIA\n",
    "\n",
    "#get the dataframe with individual data to look at correlation between birthweight and wasting/stunting z scores\n",
    "\n",
    "tanzania = pd.DataFrame({'stunting_tanzania': pipe_stunting_tanzania(alive_index_tanzania, skip_post_processor=True),\n",
    "                    'wasting_tanzania': pipe_wasting_tanzania(alive_index_tanzania, skip_post_processor=True),\n",
    "                    'lbwsg_tanzania': pipe_lbwsg_tanzania(alive_index_tanzania, skip_post_processor=True).birth_weight,\n",
    "                    'birth_weight_tanzania': pop_tanzania.loc[alive_index_tanzania].birth_weight,\n",
    "                    'mom_status_tanzania': pop_tanzania.loc[alive_index_tanzania].mother_malnourished,\n",
    "                    'ifa_status_tanzania': pop_tanzania.loc[alive_index_tanzania].baseline_maternal_supplementation_type,\n",
    "                    'alive_status_tanzania': pop_tanzania.loc[alive_index_tanzania].alive })\n",
    "len(tanzania)\n",
    "\n",
    "##note number who died is 10,000-len(df1)"
   ]
  },
  {
   "cell_type": "code",
   "execution_count": null,
   "metadata": {
    "scrolled": true
   },
   "outputs": [],
   "source": [
    "india.head()"
   ]
  },
  {
   "cell_type": "markdown",
   "metadata": {},
   "source": [
    "# 7. Z-SCORES for stunting and wasting for each country"
   ]
  },
  {
   "cell_type": "markdown",
   "metadata": {},
   "source": [
    "# ----------------------------------------------------------\n",
    "## Individual z-score at 32 days\n",
    "\n"
   ]
  },
  {
   "cell_type": "code",
   "execution_count": null,
   "metadata": {
    "scrolled": true
   },
   "outputs": [],
   "source": [
    "def getZscores(df):\n",
    "    name =[x for x in globals() if globals()[x] is df][0]\n",
    "    df['stunting_z_score_%s' % name] = df['stunting_%s' % name] - 10\n",
    "    df['wasting_z_score_%s' % name] = df['wasting_%s' % name] -  10\n",
    "    return df\n",
    "\n",
    "india = getZscores(india)\n",
    "pakistan = getZscores(pakistan)\n",
    "mali = getZscores(mali)\n",
    "tanzania = getZscores(tanzania)\n",
    "\n",
    "india.head()\n",
    "# mali['stunting_z_score_mali'] = mali['stunting_mali'] -  10\n",
    "# mali['wasting_z_score_mali'] = mali['wasting_mali'] -  10\n",
    "# mali.head()"
   ]
  },
  {
   "cell_type": "markdown",
   "metadata": {},
   "source": [
    "# These are z-scores between 27 days and 1 year (32 days)"
   ]
  },
  {
   "cell_type": "code",
   "execution_count": null,
   "metadata": {},
   "outputs": [],
   "source": [
    "# print('INTERACTIVE SIM Z-SCORES -no correlation ')\n",
    "\n",
    "# print('\\n\\n')\n",
    "\n",
    "# print('stunting z-score in INDIA at 32 days =' + str(india.stunting_z_score_india.mean()))\n",
    "# #print('stunting z-score in PAKISTAN at 32 days =' + str(pakistan.stunting_z_score_pakistan.mean()))\n",
    "# #print('stunting z-score in MALI at 32 days =' + str(mali.stunting_z_score_mali.mean()))\n",
    "# #print('stunting z-score in TANZANIA at 32 days =' + str(tanzania.stunting_z_score_tanzania.mean()))\n",
    "\n",
    "# print('\\n\\n')\n",
    "\n",
    "# print('wasting z-score in INDIA at 32 days =' + str(india.wasting_z_score_india.mean()))\n",
    "# #print('wasting z-score in PAKISTAN at 32 days =' + str(pakistan.wasting_z_score_pakistan.mean()))\n",
    "# #print('wasting z-score in MALI at 32 days =' + str(mali.wasting_z_score_mali.mean()))\n",
    "# #print('wasting z-score in TANZANIA at 32 days =' + str(tanzania.wasting_z_score_tanzania.mean()))\n",
    "\n",
    "#print(mali.wasting_z_score_mali.mean())"
   ]
  },
  {
   "cell_type": "markdown",
   "metadata": {},
   "source": [
    "# These are z-scores between 1 and 2 years (400 days)"
   ]
  },
  {
   "cell_type": "code",
   "execution_count": null,
   "metadata": {},
   "outputs": [],
   "source": [
    "!whoami\n",
    "!date"
   ]
  },
  {
   "cell_type": "code",
   "execution_count": null,
   "metadata": {},
   "outputs": [],
   "source": [
    "print('INTERACTIVE SIM Z-SCORES at 400 days')\n",
    "\n",
    "print('\\n\\n')\n",
    "\n",
    "print('stunting z-score in INDIA at 400 days =' + str(india.stunting_z_score_india.mean()))\n",
    "print('stunting z-score in PAKISTAN at 400 days =' + str(pakistan.stunting_z_score_pakistan.mean()))\n",
    "print('stunting z-score in MALI at 400 days =' + str(mali.stunting_z_score_mali.mean()))\n",
    "print('stunting z-score in TANZANIA at 400 days =' + str(tanzania.stunting_z_score_tanzania.mean()))\n",
    "\n",
    "print('\\n\\n')\n",
    "\n",
    "print('wasting z-score in INDIA at 400 days =' + str(india.wasting_z_score_india.mean()))\n",
    "print('wasting z-score in PAKISTAN at 400 days =' + str(pakistan.wasting_z_score_pakistan.mean()))\n",
    "print('wasting z-score in MALI at 400 days =' + str(mali.wasting_z_score_mali.mean()))\n",
    "print('wasting z-score in TANZANIA at 400 days =' + str(tanzania.wasting_z_score_tanzania.mean()))\n",
    "\n",
    "#print(mali.wasting_z_score_mali.mean())"
   ]
  },
  {
   "cell_type": "code",
   "execution_count": null,
   "metadata": {
    "scrolled": true
   },
   "outputs": [],
   "source": [
    "print(mali.wasting_mali.head())\n",
    "print(mali.wasting_mali.mean())"
   ]
  },
  {
   "cell_type": "markdown",
   "metadata": {},
   "source": [
    "## =============================== CGF ends here ================================================"
   ]
  },
  {
   "cell_type": "markdown",
   "metadata": {},
   "source": [
    "## birthweight by mom status"
   ]
  },
  {
   "cell_type": "code",
   "execution_count": null,
   "metadata": {
    "scrolled": false
   },
   "outputs": [],
   "source": [
    "gb = df1.groupby('mom_status')\n",
    "\n",
    "print('birthweight from malnourished mothers = ' + str(gb.get_group('malnourished').lbwsg.mean()))\n",
    "print('birthweight from normal mothers = ' + str(gb.get_group('normal').lbwsg.mean()))\n",
    "print('birthweight difference = ' + str(gb.get_group('normal').lbwsg.mean()-gb.get_group('malnourished').lbwsg.mean()))\n",
    "\n",
    "# we want to update this to new data where we got the delta birthweight shift in grams from the literature of 160g"
   ]
  },
  {
   "cell_type": "code",
   "execution_count": null,
   "metadata": {},
   "outputs": [],
   "source": [
    "gb2 = df2.groupby('mom_status_mali')\n",
    "\n",
    "print('birthweight from malnourished mothers = ' + str(gb2.get_group('malnourished').lbwsg_mali.mean()))\n",
    "print('birthweight from normal mothers = ' + str(gb2.get_group('normal').lbwsg_mali.mean()))\n",
    "print('birthweight difference = ' + str(gb2.get_group('normal').lbwsg_mali.mean()-gb2.get_group('malnourished').lbwsg_mali.mean()))\n",
    "\n",
    "# we want to update this to new data where we got the delta birthweight shift in grams from the literature of 160g"
   ]
  },
  {
   "cell_type": "code",
   "execution_count": null,
   "metadata": {
    "scrolled": false
   },
   "outputs": [],
   "source": [
    "pyplot.scatter(df1.mom_status, df1.lbwsg)"
   ]
  },
  {
   "cell_type": "markdown",
   "metadata": {},
   "source": [
    "## stunting z-score by mom status"
   ]
  },
  {
   "cell_type": "code",
   "execution_count": null,
   "metadata": {},
   "outputs": [],
   "source": [
    "gb2 = df2.groupby('mom_status_mali')\n",
    "\n",
    "mal_stunted_mali = gb2.get_group('malnourished').stunting_mali.mean()-10\n",
    "norm_stunted_mali = gb2.get_group('normal').stunting_mali.mean()-10\n",
    "stunted_diff_mali = (mal_stunted) - (norm_stunted)\n",
    "\n",
    "\n",
    "print('stunting z-score from malnourished mothers = ' + str(mal_stunted_mali))\n",
    "print('stunting z-score from normal mothers = ' + str(norm_stunted_mali))\n",
    "print('stunting z-score difference = ' + str(stunted_diff_mali))"
   ]
  },
  {
   "cell_type": "code",
   "execution_count": null,
   "metadata": {},
   "outputs": [],
   "source": [
    "gb = df1.groupby('mom_status')\n",
    "\n",
    "mal_stunted = gb.get_group('malnourished').stunting.mean()-10\n",
    "norm_stunted = gb.get_group('normal').stunting.mean()-10\n",
    "stunted_diff = (mal_stunted) - (norm_stunted)\n",
    "\n",
    "\n",
    "print('stunting z-score from malnourished mothers = ' + str(mal_stunted))\n",
    "print('stunting z-score from normal mothers = ' + str(norm_stunted))\n",
    "print('stunting z-score difference = ' + str(stunted_diff))"
   ]
  },
  {
   "cell_type": "code",
   "execution_count": null,
   "metadata": {
    "scrolled": true
   },
   "outputs": [],
   "source": [
    "#scatter plot of z scores for stunting by mom status\n",
    "\n",
    "pyplot.scatter(df1.mom_status, df1.stunting-10)"
   ]
  },
  {
   "cell_type": "markdown",
   "metadata": {},
   "source": [
    "## wasting z-score by mom status"
   ]
  },
  {
   "cell_type": "code",
   "execution_count": null,
   "metadata": {},
   "outputs": [],
   "source": [
    "gb = df1.groupby('mom_status')\n",
    "\n",
    "mal_wasted = gb.get_group('malnourished').wasting.mean() -10\n",
    "norm_wasted = gb.get_group('normal').wasting.mean() -10\n",
    "wasted_diff = (mal_wasted) - (norm_wasted)\n",
    "\n",
    "\n",
    "print('wasting z-score from malnourished mothers = ' + str(mal_wasted))\n",
    "print('wasting z-score from normal mothers = ' + str(norm_wasted))\n",
    "print('wasting z-score difference = ' + str(wasted_diff))"
   ]
  },
  {
   "cell_type": "code",
   "execution_count": null,
   "metadata": {
    "scrolled": false
   },
   "outputs": [],
   "source": [
    "pyplot.scatter(df1.mom_status, df1.wasting-10)"
   ]
  },
  {
   "cell_type": "markdown",
   "metadata": {},
   "source": [
    "## Make scatter plots to visually inspect correlation"
   ]
  },
  {
   "cell_type": "code",
   "execution_count": null,
   "metadata": {},
   "outputs": [],
   "source": [
    "pyplot.scatter(df2.lbwsg_mali, df2.wasting_mali-10)\n",
    "pyplot.show()"
   ]
  },
  {
   "cell_type": "code",
   "execution_count": null,
   "metadata": {
    "scrolled": false
   },
   "outputs": [],
   "source": [
    "#get individual birthweight and individual WLZ - overall\n",
    "\n",
    "pyplot.scatter(df1.lbwsg, df1.wasting-10)\n",
    "pyplot.show()"
   ]
  },
  {
   "cell_type": "code",
   "execution_count": null,
   "metadata": {},
   "outputs": [],
   "source": [
    "#get individual birthweight and individual LAZ - overall\n",
    "\n",
    "pyplot.scatter(df1.lbwsg, df1.stunting-10)\n",
    "pyplot.show()"
   ]
  },
  {
   "cell_type": "code",
   "execution_count": null,
   "metadata": {},
   "outputs": [],
   "source": [
    "mask_mommal = df1.mom_status == 'malnourished'"
   ]
  },
  {
   "cell_type": "code",
   "execution_count": null,
   "metadata": {},
   "outputs": [],
   "source": [
    "#lbw and wasting among normal mothers\n",
    "\n",
    "pyplot.scatter(df1.loc[~mask_mommal,['lbwsg']], df1.loc[~mask_mommal,['wasting']]-10)"
   ]
  },
  {
   "cell_type": "code",
   "execution_count": null,
   "metadata": {
    "scrolled": false
   },
   "outputs": [],
   "source": [
    "#lbw and wasting among malnourished \n",
    "\n",
    "pyplot.scatter(df1.loc[mask_mommal,['lbwsg']], df1.loc[mask_mommal,['wasting']]-10)"
   ]
  },
  {
   "cell_type": "markdown",
   "metadata": {},
   "source": [
    "# 7. Calulcate correlation and spearman co-efficient"
   ]
  },
  {
   "cell_type": "markdown",
   "metadata": {},
   "source": [
    "correlation formula\n",
    "\n",
    "cov(X, Y) = (sum (x - mean(X)) * (y - mean(Y)) ) * 1/(n-1)"
   ]
  },
  {
   "cell_type": "code",
   "execution_count": null,
   "metadata": {},
   "outputs": [],
   "source": [
    "bw_mali = df2.lbwsg_mali\n",
    "laz_mali = df2.stunting_mali-10\n",
    "wlz_mali = df2.wasting_mali-10\n",
    "n_mali = len(df2)\n"
   ]
  },
  {
   "cell_type": "code",
   "execution_count": null,
   "metadata": {},
   "outputs": [],
   "source": [
    "bw = df1.lbwsg\n",
    "laz = df1.stunting-10\n",
    "wlz = df1.wasting-10\n",
    "n = len(df1)\n"
   ]
  },
  {
   "cell_type": "code",
   "execution_count": null,
   "metadata": {},
   "outputs": [],
   "source": [
    "#Covariance\n",
    "\n",
    "covariance_laz = cov(bw, laz)\n",
    "print(covariance_laz)"
   ]
  },
  {
   "cell_type": "code",
   "execution_count": null,
   "metadata": {
    "scrolled": true
   },
   "outputs": [],
   "source": [
    "covariance_wlz = cov(bw, wlz)\n",
    "print(covariance_wlz)"
   ]
  },
  {
   "cell_type": "code",
   "execution_count": null,
   "metadata": {},
   "outputs": [],
   "source": [
    "print(stats.spearmanr(bw_mali, laz_mali))"
   ]
  },
  {
   "cell_type": "code",
   "execution_count": null,
   "metadata": {
    "scrolled": true
   },
   "outputs": [],
   "source": [
    "print('spearman correlation coefficient for birthweight and laz at 6 months:')\n",
    "print(stats.spearmanr(bw, laz))\n",
    "\n",
    "print('spearman correlation coefficient for birthweight and wlz at 6 months:')\n",
    "print(stats.spearmanr(bw, wlz))"
   ]
  },
  {
   "cell_type": "markdown",
   "metadata": {},
   "source": [
    "Pearson formula\n",
    "\t\n",
    "Pearson's correlation coefficient = covariance(X, Y) / (stdv(X) * stdv(Y))\n",
    "\n",
    "Spearman formula\n",
    "\n",
    "Spearman's correlation coefficient = covariance(rank(X), rank(Y)) / (stdv(rank(X)) * stdv(rank(Y)))"
   ]
  },
  {
   "cell_type": "markdown",
   "metadata": {},
   "source": [
    "# Abie's proposal\n",
    "\n",
    "0) intialize simulants attributes for birthweight and gestational age \n",
    "\n",
    "1) find a pseudo propensity for birthweight between 0-1 which says effectively where individul lies in the birthweight distribution \n",
    "\n",
    "- eg. if simulant 0 has birthweight 3371g, figure out where this simulant lies in the percentile in the distribution this simulants lie\n",
    "\n",
    "2) initliaze a laz score to be correlated with the birthweight with the spearman correlation of 0.4 (from the maled data) \n",
    "\n",
    "\n",
    "\n"
   ]
  }
 ],
 "metadata": {
  "kernelspec": {
   "display_name": "gates_bep",
   "language": "python",
   "name": "gates_bep"
  },
  "language_info": {
   "codemirror_mode": {
    "name": "ipython",
    "version": 3
   },
   "file_extension": ".py",
   "mimetype": "text/x-python",
   "name": "python",
   "nbconvert_exporter": "python",
   "pygments_lexer": "ipython3",
   "version": "3.6.10"
  }
 },
 "nbformat": 4,
 "nbformat_minor": 4
}
