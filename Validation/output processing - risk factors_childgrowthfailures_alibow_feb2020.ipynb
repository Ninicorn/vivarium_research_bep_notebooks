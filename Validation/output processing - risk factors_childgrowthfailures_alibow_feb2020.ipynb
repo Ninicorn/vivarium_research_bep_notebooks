{
 "cells": [
  {
   "cell_type": "code",
   "execution_count": 7,
   "metadata": {},
   "outputs": [
    {
     "data": {
      "text/html": [
       "<style>.container { width:100% !important; }</style>"
      ],
      "text/plain": [
       "<IPython.core.display.HTML object>"
      ]
     },
     "metadata": {},
     "output_type": "display_data"
    }
   ],
   "source": [
    "from IPython.core.display import display, HTML\n",
    "display(HTML(\"<style>.container { width:100% !important; }</style>\")) #makes the display bars longer and spread out 100% across the screen width"
   ]
  },
  {
   "cell_type": "code",
   "execution_count": 1,
   "metadata": {},
   "outputs": [],
   "source": [
    "from vivarium import Artifact\n",
    "import pandas as pd\n",
    "import numpy as np\n",
    "import seaborn as sns\n",
    "import matplotlib.pyplot as plt\n",
    "from db_queries import get_ids, get_outputs\n",
    "import scipy.stats"
   ]
  },
  {
   "cell_type": "code",
   "execution_count": 2,
   "metadata": {},
   "outputs": [
    {
     "name": "stdout",
     "output_type": "stream",
     "text": [
      "/ihme/costeffectiveness/results/vivarium_gates_bep/malnutrition/pakistan/2020_02_05_03_05_43\n",
      "total 12K\r\n",
      "drwxrwxr-x 3 collijk Domain Users 512 Feb  5 18:00 .\r\n",
      "drwxr-xr-x 2 collijk Domain Users 512 Feb  5 03:19 __pycache__\r\n",
      "drwxrwxr-x 3 collijk Domain Users 512 Feb  5 03:07 ..\r\n"
     ]
    }
   ],
   "source": [
    "#find file paths\n",
    "%cd /share/costeffectiveness/results/vivarium_gates_bep/malnutrition/pakistan/2020_02_05_03_05_43\n",
    "!ls -halt"
   ]
  },
  {
   "cell_type": "code",
   "execution_count": 3,
   "metadata": {},
   "outputs": [],
   "source": [
    "output_dirs = ['/share/costeffectiveness/results/vivarium_gates_bep/malnutrition/india/2020_02_05_03_02_13/count_space/',\n",
    "              '/share/costeffectiveness/results/vivarium_gates_bep/malnutrition/mali/2020_02_05_03_02_02/count_space/',\n",
    "              '/share/costeffectiveness/results/vivarium_gates_bep/malnutrition/tanzania/2020_02_05_03_07_37/count_space/']\n",
    "\n",
    "locations = ['India','Mali','Tanzania']"
   ]
  },
  {
   "cell_type": "code",
   "execution_count": 4,
   "metadata": {},
   "outputs": [
    {
     "name": "stderr",
     "output_type": "stream",
     "text": [
      "/share/code/nicoly/miniconda/envs/gates_bep/lib/python3.6/site-packages/pandas/core/frame.py:6692: FutureWarning: Sorting because non-concatenation axis is not aligned. A future version\n",
      "of pandas will change to not sort by default.\n",
      "\n",
      "To accept the future behavior, pass 'sort=False'.\n",
      "\n",
      "To retain the current behavior and silence the warning, pass 'sort=True'.\n",
      "\n",
      "  sort=sort)\n"
     ]
    }
   ],
   "source": [
    "master_stunting = pd.DataFrame()\n",
    "master_wasting = pd.DataFrame()\n",
    "\n",
    "for i in list(range(len(output_dirs))):\n",
    "    cgf = pd.read_hdf(output_dirs[i] + 'category_counts.hdf').reset_index()\n",
    "    cgf = (cgf.where(cgf['sex'] == 'male').dropna()\n",
    "           .groupby(['input_draw','cgf_risk','risk_category','malnourishment_category']).sum()\n",
    "           .reset_index())\n",
    "    pop = (cgf.where(cgf['cgf_risk'] == 'stunting').dropna()\n",
    "          .groupby(['input_draw','malnourishment_category'], as_index=False).sum()\n",
    "          .rename(columns={'category_counts':'population'}))\n",
    "    cgf = cgf.where(cgf['risk_category'] == ('cat1' or 'cat2'))\n",
    "    data = cgf.merge(pop, right_on=['input_draw','malnourishment_category'], \n",
    "                     left_on=['input_draw','malnourishment_category'])\n",
    "    stratified = data.groupby(['input_draw','malnourishment_category','cgf_risk']).sum().reset_index()\n",
    "    overall = data.groupby(['input_draw','cgf_risk']).sum().reset_index()\n",
    "    overall['malnourishment_category'] = 'all'\n",
    "    data = stratified.append(overall)  \n",
    "    \n",
    "    stunted = (data.where(data['cgf_risk'] == 'stunting').dropna())\n",
    "    stunted['percent'] = stunted['category_counts'] / stunted['population']\n",
    "    stunted = (stunted.groupby(['malnourishment_category']).mean()\n",
    "              .drop(columns=['input_draw','category_counts','population'])\n",
    "               .reset_index()) \n",
    "    stunted['location'] = locations[i]\n",
    "    master_stunting = master_stunting.append(stunted)   \n",
    "    \n",
    "    wasted = (data.where(data['cgf_risk'] == 'wasting').dropna())\n",
    "    wasted['percent'] = wasted['category_counts'] / wasted['population']\n",
    "    wasted = (wasted.groupby(['malnourishment_category']).mean()\n",
    "              .drop(columns=['input_draw','category_counts','population'])\n",
    "               .reset_index()) \n",
    "    wasted['location'] = locations[i]\n",
    "    master_wasting = master_wasting.append(wasted)\n",
    "    master_wasting"
   ]
  },
  {
   "cell_type": "code",
   "execution_count": 5,
   "metadata": {},
   "outputs": [
    {
     "data": {
      "text/html": [
       "<div>\n",
       "<style scoped>\n",
       "    .dataframe tbody tr th:only-of-type {\n",
       "        vertical-align: middle;\n",
       "    }\n",
       "\n",
       "    .dataframe tbody tr th {\n",
       "        vertical-align: top;\n",
       "    }\n",
       "\n",
       "    .dataframe thead th {\n",
       "        text-align: right;\n",
       "    }\n",
       "</style>\n",
       "<table border=\"1\" class=\"dataframe\">\n",
       "  <thead>\n",
       "    <tr style=\"text-align: right;\">\n",
       "      <th></th>\n",
       "      <th>malnourishment_category</th>\n",
       "      <th>percent</th>\n",
       "      <th>location</th>\n",
       "    </tr>\n",
       "  </thead>\n",
       "  <tbody>\n",
       "    <tr>\n",
       "      <th>0</th>\n",
       "      <td>all</td>\n",
       "      <td>0.055677</td>\n",
       "      <td>India</td>\n",
       "    </tr>\n",
       "    <tr>\n",
       "      <th>1</th>\n",
       "      <td>malnourished</td>\n",
       "      <td>0.142786</td>\n",
       "      <td>India</td>\n",
       "    </tr>\n",
       "    <tr>\n",
       "      <th>2</th>\n",
       "      <td>not_malnourished</td>\n",
       "      <td>0.038791</td>\n",
       "      <td>India</td>\n",
       "    </tr>\n",
       "    <tr>\n",
       "      <th>0</th>\n",
       "      <td>all</td>\n",
       "      <td>0.030601</td>\n",
       "      <td>Mali</td>\n",
       "    </tr>\n",
       "    <tr>\n",
       "      <th>1</th>\n",
       "      <td>malnourished</td>\n",
       "      <td>0.090116</td>\n",
       "      <td>Mali</td>\n",
       "    </tr>\n",
       "    <tr>\n",
       "      <th>2</th>\n",
       "      <td>not_malnourished</td>\n",
       "      <td>0.024041</td>\n",
       "      <td>Mali</td>\n",
       "    </tr>\n",
       "    <tr>\n",
       "      <th>0</th>\n",
       "      <td>all</td>\n",
       "      <td>0.014787</td>\n",
       "      <td>Tanzania</td>\n",
       "    </tr>\n",
       "    <tr>\n",
       "      <th>1</th>\n",
       "      <td>malnourished</td>\n",
       "      <td>0.041370</td>\n",
       "      <td>Tanzania</td>\n",
       "    </tr>\n",
       "    <tr>\n",
       "      <th>2</th>\n",
       "      <td>not_malnourished</td>\n",
       "      <td>0.012091</td>\n",
       "      <td>Tanzania</td>\n",
       "    </tr>\n",
       "  </tbody>\n",
       "</table>\n",
       "</div>"
      ],
      "text/plain": [
       "  malnourishment_category   percent  location\n",
       "0                     all  0.055677     India\n",
       "1            malnourished  0.142786     India\n",
       "2        not_malnourished  0.038791     India\n",
       "0                     all  0.030601      Mali\n",
       "1            malnourished  0.090116      Mali\n",
       "2        not_malnourished  0.024041      Mali\n",
       "0                     all  0.014787  Tanzania\n",
       "1            malnourished  0.041370  Tanzania\n",
       "2        not_malnourished  0.012091  Tanzania"
      ]
     },
     "execution_count": 5,
     "metadata": {},
     "output_type": "execute_result"
    }
   ],
   "source": [
    "master_wasting"
   ]
  },
  {
   "cell_type": "code",
   "execution_count": 6,
   "metadata": {},
   "outputs": [
    {
     "data": {
      "text/html": [
       "<div>\n",
       "<style scoped>\n",
       "    .dataframe tbody tr th:only-of-type {\n",
       "        vertical-align: middle;\n",
       "    }\n",
       "\n",
       "    .dataframe tbody tr th {\n",
       "        vertical-align: top;\n",
       "    }\n",
       "\n",
       "    .dataframe thead th {\n",
       "        text-align: right;\n",
       "    }\n",
       "</style>\n",
       "<table border=\"1\" class=\"dataframe\">\n",
       "  <thead>\n",
       "    <tr style=\"text-align: right;\">\n",
       "      <th></th>\n",
       "      <th>malnourishment_category</th>\n",
       "      <th>percent</th>\n",
       "      <th>location</th>\n",
       "    </tr>\n",
       "  </thead>\n",
       "  <tbody>\n",
       "    <tr>\n",
       "      <th>0</th>\n",
       "      <td>all</td>\n",
       "      <td>0.091158</td>\n",
       "      <td>India</td>\n",
       "    </tr>\n",
       "    <tr>\n",
       "      <th>1</th>\n",
       "      <td>malnourished</td>\n",
       "      <td>0.200051</td>\n",
       "      <td>India</td>\n",
       "    </tr>\n",
       "    <tr>\n",
       "      <th>2</th>\n",
       "      <td>not_malnourished</td>\n",
       "      <td>0.069993</td>\n",
       "      <td>India</td>\n",
       "    </tr>\n",
       "    <tr>\n",
       "      <th>0</th>\n",
       "      <td>all</td>\n",
       "      <td>0.038440</td>\n",
       "      <td>Mali</td>\n",
       "    </tr>\n",
       "    <tr>\n",
       "      <th>1</th>\n",
       "      <td>malnourished</td>\n",
       "      <td>0.131865</td>\n",
       "      <td>Mali</td>\n",
       "    </tr>\n",
       "    <tr>\n",
       "      <th>2</th>\n",
       "      <td>not_malnourished</td>\n",
       "      <td>0.028073</td>\n",
       "      <td>Mali</td>\n",
       "    </tr>\n",
       "    <tr>\n",
       "      <th>0</th>\n",
       "      <td>all</td>\n",
       "      <td>0.059996</td>\n",
       "      <td>Tanzania</td>\n",
       "    </tr>\n",
       "    <tr>\n",
       "      <th>1</th>\n",
       "      <td>malnourished</td>\n",
       "      <td>0.138289</td>\n",
       "      <td>Tanzania</td>\n",
       "    </tr>\n",
       "    <tr>\n",
       "      <th>2</th>\n",
       "      <td>not_malnourished</td>\n",
       "      <td>0.052009</td>\n",
       "      <td>Tanzania</td>\n",
       "    </tr>\n",
       "  </tbody>\n",
       "</table>\n",
       "</div>"
      ],
      "text/plain": [
       "  malnourishment_category   percent  location\n",
       "0                     all  0.091158     India\n",
       "1            malnourished  0.200051     India\n",
       "2        not_malnourished  0.069993     India\n",
       "0                     all  0.038440      Mali\n",
       "1            malnourished  0.131865      Mali\n",
       "2        not_malnourished  0.028073      Mali\n",
       "0                     all  0.059996  Tanzania\n",
       "1            malnourished  0.138289  Tanzania\n",
       "2        not_malnourished  0.052009  Tanzania"
      ]
     },
     "execution_count": 6,
     "metadata": {},
     "output_type": "execute_result"
    }
   ],
   "source": [
    "master_stunting"
   ]
  },
  {
   "cell_type": "code",
   "execution_count": null,
   "metadata": {},
   "outputs": [],
   "source": []
  }
 ],
 "metadata": {
  "kernelspec": {
   "display_name": "Python 3",
   "language": "python",
   "name": "python3"
  },
  "language_info": {
   "codemirror_mode": {
    "name": "ipython",
    "version": 3
   },
   "file_extension": ".py",
   "mimetype": "text/x-python",
   "name": "python",
   "nbconvert_exporter": "python",
   "pygments_lexer": "ipython3",
   "version": "3.6.10"
  }
 },
 "nbformat": 4,
 "nbformat_minor": 4
}
