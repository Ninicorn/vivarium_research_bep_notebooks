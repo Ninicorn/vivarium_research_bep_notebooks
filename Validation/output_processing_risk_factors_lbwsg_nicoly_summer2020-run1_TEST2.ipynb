{
 "cells": [
  {
   "cell_type": "code",
   "execution_count": 1,
   "metadata": {},
   "outputs": [
    {
     "data": {
      "text/html": [
       "<style>.container { width:100% !important; }</style>"
      ],
      "text/plain": [
       "<IPython.core.display.HTML object>"
      ]
     },
     "metadata": {},
     "output_type": "display_data"
    }
   ],
   "source": [
    "from IPython.core.display import display, HTML\n",
    "display(HTML(\"<style>.container { width:100% !important; }</style>\")) #makes the display bars longer and spread out 100% across the screen width"
   ]
  },
  {
   "cell_type": "code",
   "execution_count": 2,
   "metadata": {},
   "outputs": [],
   "source": [
    "from vivarium import Artifact\n",
    "import pandas as pd\n",
    "import numpy as np\n",
    "import seaborn as sns\n",
    "import matplotlib.pyplot as plt\n",
    "from db_queries import get_ids, get_outputs\n",
    "import scipy.stats"
   ]
  },
  {
   "cell_type": "markdown",
   "metadata": {},
   "source": [
    "# This is runs from 2020 summer--run2-TEST (India ony) \n",
    "- we identified some errors in run1 test1, so we did run1 test2 to fix them. Here we validate if those errors were fixed.  "
   ]
  },
  {
   "cell_type": "markdown",
   "metadata": {},
   "source": [
    "This is the summer 2020 BEP model 001, test run updated from feb 2020 ORIGINAL version with \n",
    "\n",
    "\n",
    "1) LRI birth prevalence has been added\n",
    " \n",
    "2) LBWSG affects all cause mortality instead of individual causes\n",
    " \n",
    "3) updated MMN effect size on birthweight: +45.16 (32.31 to 58.02; lower 0; upper 75) from +22.4g (8.3 to 36.4g)\n",
    " \n",
    "4) updated BMI effect size on birthweight: -142.93g (-232.68 to -53.18) from RR = 2 (1.5-5) which translates to about-\n",
    " \n",
    "  ~ birthweight from malnourished mothers = 2743.7256193373473\n",
    " \n",
    "  ~ birthweight from normal mothers = 3017.6385859634224\n",
    " \n",
    "  ~ birthweight difference = 273.9129666260751\n",
    "\n",
    "5) IFA baseline coverage (this was left out from feb 2020 original version runs)\n",
    "\n",
    "6) additve effect sizes for supplementation groups (this was left out from  feb 2020 original version runs)\n",
    "\n",
    " \n",
    "file location: /share/costeffectiveness/results/vivarium_gates_bep/sample_runs/bep-run1-test"
   ]
  },
  {
   "cell_type": "markdown",
   "metadata": {},
   "source": [
    "Lexion: \n",
    "\n",
    "coutry: Indian only\n",
    "\n",
    "BMI groups: mal and norm\n"
   ]
  },
  {
   "cell_type": "code",
   "execution_count": 3,
   "metadata": {},
   "outputs": [
    {
     "name": "stdout",
     "output_type": "stream",
     "text": [
      "/ihme/costeffectiveness/results/vivarium_gates_bep/sample_runs/bep-run1-test/india/2020_09_04_09_11_49/count_data\n",
      "birth_weight.csv    deaths.csv           population.csv         ylds.csv\r\n",
      "birth_weight.hdf    deaths.hdf           population.hdf         ylds.hdf\r\n",
      "cgf_categories.csv  gestational_age.csv  state_person_time.csv  ylls.csv\r\n",
      "cgf_categories.hdf  gestational_age.hdf  state_person_time.hdf  ylls.hdf\r\n",
      "cgf_z_scores.csv    person_time.csv      transition_count.csv\r\n",
      "cgf_z_scores.hdf    person_time.hdf      transition_count.hdf\r\n"
     ]
    }
   ],
   "source": [
    "#from SEPTEMBER 4th 2020; 09:11:49\n",
    "\n",
    "%cd /share/costeffectiveness/results/vivarium_gates_bep/sample_runs/bep-run1-test/india/2020_09_04_09_11_49/count_data\n",
    "\n",
    "%ls"
   ]
  },
  {
   "cell_type": "code",
   "execution_count": 4,
   "metadata": {},
   "outputs": [],
   "source": [
    "#run 001 \n",
    "\n",
    "output_dirs001 = ['/share/costeffectiveness/results/vivarium_gates_bep/sample_runs/bep-run1-test/india/2020_09_04_09_11_49/count_data/']\n",
    "\n",
    "#location labels\n",
    "locations = ['India']\n",
    "\n",
    "#use in sort_values to make custum sort list. I sorted by region. \n",
    "sorter = ['India']\n",
    "sorterIndex = dict(zip(sorter,range(len(sorter))))\n",
    "\n",
    "\n"
   ]
  },
  {
   "cell_type": "markdown",
   "metadata": {},
   "source": [
    "# INDIA by scenario and treatment groups"
   ]
  },
  {
   "cell_type": "code",
   "execution_count": 13,
   "metadata": {
    "scrolled": false
   },
   "outputs": [
    {
     "data": {
      "text/html": [
       "<div>\n",
       "<style scoped>\n",
       "    .dataframe tbody tr th:only-of-type {\n",
       "        vertical-align: middle;\n",
       "    }\n",
       "\n",
       "    .dataframe tbody tr th {\n",
       "        vertical-align: top;\n",
       "    }\n",
       "\n",
       "    .dataframe thead th {\n",
       "        text-align: right;\n",
       "    }\n",
       "</style>\n",
       "<table border=\"1\" class=\"dataframe\">\n",
       "  <thead>\n",
       "    <tr style=\"text-align: right;\">\n",
       "      <th></th>\n",
       "      <th>risk</th>\n",
       "      <th>measure</th>\n",
       "      <th>scenario</th>\n",
       "      <th>treatment_group</th>\n",
       "      <th>mother_status</th>\n",
       "      <th>birthweight</th>\n",
       "      <th>total_population</th>\n",
       "      <th>pop_x_birthweight</th>\n",
       "      <th>location</th>\n",
       "    </tr>\n",
       "  </thead>\n",
       "  <tbody>\n",
       "    <tr>\n",
       "      <th>0</th>\n",
       "      <td>birth_weight</td>\n",
       "      <td>mean</td>\n",
       "      <td>baseline</td>\n",
       "      <td>bep</td>\n",
       "      <td>malnourished</td>\n",
       "      <td>0.000000</td>\n",
       "      <td>0.00</td>\n",
       "      <td>0.000000e+00</td>\n",
       "      <td>India</td>\n",
       "    </tr>\n",
       "    <tr>\n",
       "      <th>1</th>\n",
       "      <td>birth_weight</td>\n",
       "      <td>mean</td>\n",
       "      <td>baseline</td>\n",
       "      <td>bep</td>\n",
       "      <td>normal</td>\n",
       "      <td>0.000000</td>\n",
       "      <td>0.00</td>\n",
       "      <td>0.000000e+00</td>\n",
       "      <td>India</td>\n",
       "    </tr>\n",
       "    <tr>\n",
       "      <th>2</th>\n",
       "      <td>birth_weight</td>\n",
       "      <td>mean</td>\n",
       "      <td>baseline</td>\n",
       "      <td>ifa</td>\n",
       "      <td>malnourished</td>\n",
       "      <td>2801.592157</td>\n",
       "      <td>2864.72</td>\n",
       "      <td>8.025777e+06</td>\n",
       "      <td>India</td>\n",
       "    </tr>\n",
       "    <tr>\n",
       "      <th>3</th>\n",
       "      <td>birth_weight</td>\n",
       "      <td>mean</td>\n",
       "      <td>baseline</td>\n",
       "      <td>ifa</td>\n",
       "      <td>normal</td>\n",
       "      <td>2951.652181</td>\n",
       "      <td>14087.24</td>\n",
       "      <td>4.158063e+07</td>\n",
       "      <td>India</td>\n",
       "    </tr>\n",
       "    <tr>\n",
       "      <th>4</th>\n",
       "      <td>birth_weight</td>\n",
       "      <td>mean</td>\n",
       "      <td>baseline</td>\n",
       "      <td>mmn</td>\n",
       "      <td>malnourished</td>\n",
       "      <td>0.000000</td>\n",
       "      <td>0.00</td>\n",
       "      <td>0.000000e+00</td>\n",
       "      <td>India</td>\n",
       "    </tr>\n",
       "  </tbody>\n",
       "</table>\n",
       "</div>"
      ],
      "text/plain": [
       "           risk measure  scenario treatment_group mother_status  birthweight  \\\n",
       "0  birth_weight    mean  baseline             bep  malnourished     0.000000   \n",
       "1  birth_weight    mean  baseline             bep        normal     0.000000   \n",
       "2  birth_weight    mean  baseline             ifa  malnourished  2801.592157   \n",
       "3  birth_weight    mean  baseline             ifa        normal  2951.652181   \n",
       "4  birth_weight    mean  baseline             mmn  malnourished     0.000000   \n",
       "\n",
       "   total_population  pop_x_birthweight location  \n",
       "0              0.00       0.000000e+00    India  \n",
       "1              0.00       0.000000e+00    India  \n",
       "2           2864.72       8.025777e+06    India  \n",
       "3          14087.24       4.158063e+07    India  \n",
       "4              0.00       0.000000e+00    India  "
      ]
     },
     "execution_count": 13,
     "metadata": {},
     "output_type": "execute_result"
    }
   ],
   "source": [
    "#RUN 001 (baseline, mmn, bep_hd_scale_up and bep_hd_targeted)\n",
    "\n",
    "master_bw_001 = pd.DataFrame()\n",
    "\n",
    "for i in list(range(len(output_dirs001))):\n",
    "    #birthweight\n",
    "    bw = pd.read_hdf(output_dirs001[i] + 'birth_weight.hdf').reset_index().sort_values(by=['risk','measure','scenario','treatment_group','mother_status'])\n",
    "    bw = bw.rename(columns={'value':'birthweight'})\n",
    "    \n",
    "    #population\n",
    "    pop = pd.read_hdf(output_dirs001[i] + 'population.hdf').reset_index()\n",
    "    pop = pop.where(pop['measure'] == 'total_population').dropna().rename(columns={'value':'total_population'}).drop(columns=['index','measure'])\n",
    "    \n",
    "    data = bw.merge(pop, right_on=['scenario','treatment_group','mother_status','input_draw'], left_on=['scenario','treatment_group','mother_status','input_draw'])\n",
    "    data = data.groupby(['risk','measure','scenario','treatment_group','mother_status']).mean().drop(columns=['input_draw','index']).reset_index() #average over input draws\n",
    "    data['pop_x_birthweight'] = data['birthweight'] * data['total_population']\n",
    "    data['location'] = locations[i]\n",
    "    master_bw_001 = master_bw_001.append(data)\n",
    "    \n",
    "master_bw_001.head()\n"
   ]
  },
  {
   "cell_type": "code",
   "execution_count": 6,
   "metadata": {},
   "outputs": [
    {
     "data": {
      "text/plain": [
       "array(['baseline', 'bep_hd_scale_up', 'bep_hd_targeted_scale_up',\n",
       "       'mmn_scale_up'], dtype=object)"
      ]
     },
     "execution_count": 6,
     "metadata": {},
     "output_type": "execute_result"
    }
   ],
   "source": [
    "master_bw_001['scenario'].unique()"
   ]
  },
  {
   "cell_type": "code",
   "execution_count": 7,
   "metadata": {
    "scrolled": false
   },
   "outputs": [
    {
     "data": {
      "text/plain": [
       "array(['bep', 'ifa', 'mmn', 'none'], dtype=object)"
      ]
     },
     "execution_count": 7,
     "metadata": {},
     "output_type": "execute_result"
    }
   ],
   "source": [
    "master_bw_001['treatment_group'].unique()"
   ]
  },
  {
   "cell_type": "code",
   "execution_count": 8,
   "metadata": {},
   "outputs": [
    {
     "data": {
      "text/plain": [
       "array(['mean', 'proportion_below_2500g', 'sd'], dtype=object)"
      ]
     },
     "execution_count": 8,
     "metadata": {},
     "output_type": "execute_result"
    }
   ],
   "source": [
    "master_bw_001['measure'].unique()"
   ]
  },
  {
   "cell_type": "markdown",
   "metadata": {},
   "source": [
    "# ****** CHECK birthweight shift - comparison table for INDIA******\n",
    "\n",
    "\n",
    "***************************************************************************************************\n"
   ]
  },
  {
   "cell_type": "markdown",
   "metadata": {},
   "source": [
    "# *BASELINE"
   ]
  },
  {
   "cell_type": "code",
   "execution_count": 9,
   "metadata": {},
   "outputs": [
    {
     "data": {
      "text/html": [
       "<div>\n",
       "<style scoped>\n",
       "    .dataframe tbody tr th:only-of-type {\n",
       "        vertical-align: middle;\n",
       "    }\n",
       "\n",
       "    .dataframe tbody tr th {\n",
       "        vertical-align: top;\n",
       "    }\n",
       "\n",
       "    .dataframe thead th {\n",
       "        text-align: right;\n",
       "    }\n",
       "</style>\n",
       "<table border=\"1\" class=\"dataframe\">\n",
       "  <thead>\n",
       "    <tr style=\"text-align: right;\">\n",
       "      <th></th>\n",
       "      <th>risk</th>\n",
       "      <th>measure</th>\n",
       "      <th>scenario</th>\n",
       "      <th>treatment_group</th>\n",
       "      <th>mother_status</th>\n",
       "      <th>birthweight</th>\n",
       "      <th>total_population</th>\n",
       "      <th>pop_x_birthweight</th>\n",
       "      <th>location</th>\n",
       "    </tr>\n",
       "  </thead>\n",
       "  <tbody>\n",
       "    <tr>\n",
       "      <th>2</th>\n",
       "      <td>birth_weight</td>\n",
       "      <td>mean</td>\n",
       "      <td>baseline</td>\n",
       "      <td>ifa</td>\n",
       "      <td>malnourished</td>\n",
       "      <td>2801.592157</td>\n",
       "      <td>2864.72</td>\n",
       "      <td>8.025777e+06</td>\n",
       "      <td>India</td>\n",
       "    </tr>\n",
       "    <tr>\n",
       "      <th>3</th>\n",
       "      <td>birth_weight</td>\n",
       "      <td>mean</td>\n",
       "      <td>baseline</td>\n",
       "      <td>ifa</td>\n",
       "      <td>normal</td>\n",
       "      <td>2951.652181</td>\n",
       "      <td>14087.24</td>\n",
       "      <td>4.158063e+07</td>\n",
       "      <td>India</td>\n",
       "    </tr>\n",
       "    <tr>\n",
       "      <th>6</th>\n",
       "      <td>birth_weight</td>\n",
       "      <td>mean</td>\n",
       "      <td>baseline</td>\n",
       "      <td>none</td>\n",
       "      <td>malnourished</td>\n",
       "      <td>2741.874627</td>\n",
       "      <td>5609.92</td>\n",
       "      <td>1.538170e+07</td>\n",
       "      <td>India</td>\n",
       "    </tr>\n",
       "    <tr>\n",
       "      <th>7</th>\n",
       "      <td>birth_weight</td>\n",
       "      <td>mean</td>\n",
       "      <td>baseline</td>\n",
       "      <td>none</td>\n",
       "      <td>normal</td>\n",
       "      <td>2891.942096</td>\n",
       "      <td>27438.12</td>\n",
       "      <td>7.934945e+07</td>\n",
       "      <td>India</td>\n",
       "    </tr>\n",
       "  </tbody>\n",
       "</table>\n",
       "</div>"
      ],
      "text/plain": [
       "           risk measure  scenario treatment_group mother_status  birthweight  \\\n",
       "2  birth_weight    mean  baseline             ifa  malnourished  2801.592157   \n",
       "3  birth_weight    mean  baseline             ifa        normal  2951.652181   \n",
       "6  birth_weight    mean  baseline            none  malnourished  2741.874627   \n",
       "7  birth_weight    mean  baseline            none        normal  2891.942096   \n",
       "\n",
       "   total_population  pop_x_birthweight location  \n",
       "2           2864.72       8.025777e+06    India  \n",
       "3          14087.24       4.158063e+07    India  \n",
       "6           5609.92       1.538170e+07    India  \n",
       "7          27438.12       7.934945e+07    India  "
      ]
     },
     "execution_count": 9,
     "metadata": {},
     "output_type": "execute_result"
    }
   ],
   "source": [
    "#to get the dataframe we want from run1-TEST (BASELINE):\n",
    "\n",
    "india_bw_baseline = master_bw_001[master_bw_001['location'].isin(['India']) & master_bw_001['measure'].isin(['mean']) & master_bw_001['scenario'].isin(['baseline']) & master_bw_001['treatment_group'].isin(['ifa','none'])]\n",
    "india_bw_baseline \n"
   ]
  },
  {
   "cell_type": "markdown",
   "metadata": {},
   "source": [
    "# MMN SCALE-UP"
   ]
  },
  {
   "cell_type": "code",
   "execution_count": 10,
   "metadata": {
    "scrolled": true
   },
   "outputs": [
    {
     "data": {
      "text/html": [
       "<div>\n",
       "<style scoped>\n",
       "    .dataframe tbody tr th:only-of-type {\n",
       "        vertical-align: middle;\n",
       "    }\n",
       "\n",
       "    .dataframe tbody tr th {\n",
       "        vertical-align: top;\n",
       "    }\n",
       "\n",
       "    .dataframe thead th {\n",
       "        text-align: right;\n",
       "    }\n",
       "</style>\n",
       "<table border=\"1\" class=\"dataframe\">\n",
       "  <thead>\n",
       "    <tr style=\"text-align: right;\">\n",
       "      <th></th>\n",
       "      <th>risk</th>\n",
       "      <th>measure</th>\n",
       "      <th>scenario</th>\n",
       "      <th>treatment_group</th>\n",
       "      <th>mother_status</th>\n",
       "      <th>birthweight</th>\n",
       "      <th>total_population</th>\n",
       "      <th>pop_x_birthweight</th>\n",
       "      <th>location</th>\n",
       "    </tr>\n",
       "  </thead>\n",
       "  <tbody>\n",
       "    <tr>\n",
       "      <th>28</th>\n",
       "      <td>birth_weight</td>\n",
       "      <td>mean</td>\n",
       "      <td>mmn_scale_up</td>\n",
       "      <td>mmn</td>\n",
       "      <td>malnourished</td>\n",
       "      <td>2845.563286</td>\n",
       "      <td>6732.08</td>\n",
       "      <td>1.915656e+07</td>\n",
       "      <td>India</td>\n",
       "    </tr>\n",
       "    <tr>\n",
       "      <th>29</th>\n",
       "      <td>birth_weight</td>\n",
       "      <td>mean</td>\n",
       "      <td>mmn_scale_up</td>\n",
       "      <td>mmn</td>\n",
       "      <td>normal</td>\n",
       "      <td>2996.467911</td>\n",
       "      <td>32992.80</td>\n",
       "      <td>9.886187e+07</td>\n",
       "      <td>India</td>\n",
       "    </tr>\n",
       "    <tr>\n",
       "      <th>30</th>\n",
       "      <td>birth_weight</td>\n",
       "      <td>mean</td>\n",
       "      <td>mmn_scale_up</td>\n",
       "      <td>none</td>\n",
       "      <td>malnourished</td>\n",
       "      <td>2745.444400</td>\n",
       "      <td>1742.56</td>\n",
       "      <td>4.784102e+06</td>\n",
       "      <td>India</td>\n",
       "    </tr>\n",
       "    <tr>\n",
       "      <th>31</th>\n",
       "      <td>birth_weight</td>\n",
       "      <td>mean</td>\n",
       "      <td>mmn_scale_up</td>\n",
       "      <td>none</td>\n",
       "      <td>normal</td>\n",
       "      <td>2891.848792</td>\n",
       "      <td>8532.56</td>\n",
       "      <td>2.467487e+07</td>\n",
       "      <td>India</td>\n",
       "    </tr>\n",
       "  </tbody>\n",
       "</table>\n",
       "</div>"
      ],
      "text/plain": [
       "            risk measure      scenario treatment_group mother_status  \\\n",
       "28  birth_weight    mean  mmn_scale_up             mmn  malnourished   \n",
       "29  birth_weight    mean  mmn_scale_up             mmn        normal   \n",
       "30  birth_weight    mean  mmn_scale_up            none  malnourished   \n",
       "31  birth_weight    mean  mmn_scale_up            none        normal   \n",
       "\n",
       "    birthweight  total_population  pop_x_birthweight location  \n",
       "28  2845.563286           6732.08       1.915656e+07    India  \n",
       "29  2996.467911          32992.80       9.886187e+07    India  \n",
       "30  2745.444400           1742.56       4.784102e+06    India  \n",
       "31  2891.848792           8532.56       2.467487e+07    India  "
      ]
     },
     "execution_count": 10,
     "metadata": {},
     "output_type": "execute_result"
    }
   ],
   "source": [
    "#to get the dataframe we want from run1-TEST(MMN_SCALE_UP):\n",
    "\n",
    "india_bw_mmn = master_bw_001[master_bw_001['location'].isin(['India']) & master_bw_001['measure'].isin(['mean']) & master_bw_001['scenario'].isin(['mmn_scale_up']) & master_bw_001['treatment_group'].isin(['mmn','none'])]\n",
    "india_bw_mmn\n"
   ]
  },
  {
   "cell_type": "markdown",
   "metadata": {},
   "source": [
    "# BEP HD SCALE-UP UNIVERSAL"
   ]
  },
  {
   "cell_type": "code",
   "execution_count": 11,
   "metadata": {},
   "outputs": [
    {
     "data": {
      "text/html": [
       "<div>\n",
       "<style scoped>\n",
       "    .dataframe tbody tr th:only-of-type {\n",
       "        vertical-align: middle;\n",
       "    }\n",
       "\n",
       "    .dataframe tbody tr th {\n",
       "        vertical-align: top;\n",
       "    }\n",
       "\n",
       "    .dataframe thead th {\n",
       "        text-align: right;\n",
       "    }\n",
       "</style>\n",
       "<table border=\"1\" class=\"dataframe\">\n",
       "  <thead>\n",
       "    <tr style=\"text-align: right;\">\n",
       "      <th></th>\n",
       "      <th>risk</th>\n",
       "      <th>measure</th>\n",
       "      <th>scenario</th>\n",
       "      <th>treatment_group</th>\n",
       "      <th>mother_status</th>\n",
       "      <th>birthweight</th>\n",
       "      <th>total_population</th>\n",
       "      <th>pop_x_birthweight</th>\n",
       "      <th>location</th>\n",
       "    </tr>\n",
       "  </thead>\n",
       "  <tbody>\n",
       "    <tr>\n",
       "      <th>8</th>\n",
       "      <td>birth_weight</td>\n",
       "      <td>mean</td>\n",
       "      <td>bep_hd_scale_up</td>\n",
       "      <td>bep</td>\n",
       "      <td>malnourished</td>\n",
       "      <td>2945.803991</td>\n",
       "      <td>6732.08</td>\n",
       "      <td>1.983139e+07</td>\n",
       "      <td>India</td>\n",
       "    </tr>\n",
       "    <tr>\n",
       "      <th>9</th>\n",
       "      <td>birth_weight</td>\n",
       "      <td>mean</td>\n",
       "      <td>bep_hd_scale_up</td>\n",
       "      <td>bep</td>\n",
       "      <td>normal</td>\n",
       "      <td>3071.708616</td>\n",
       "      <td>32992.80</td>\n",
       "      <td>1.013443e+08</td>\n",
       "      <td>India</td>\n",
       "    </tr>\n",
       "    <tr>\n",
       "      <th>14</th>\n",
       "      <td>birth_weight</td>\n",
       "      <td>mean</td>\n",
       "      <td>bep_hd_scale_up</td>\n",
       "      <td>none</td>\n",
       "      <td>malnourished</td>\n",
       "      <td>2745.444400</td>\n",
       "      <td>1742.56</td>\n",
       "      <td>4.784102e+06</td>\n",
       "      <td>India</td>\n",
       "    </tr>\n",
       "    <tr>\n",
       "      <th>15</th>\n",
       "      <td>birth_weight</td>\n",
       "      <td>mean</td>\n",
       "      <td>bep_hd_scale_up</td>\n",
       "      <td>none</td>\n",
       "      <td>normal</td>\n",
       "      <td>2891.848792</td>\n",
       "      <td>8532.56</td>\n",
       "      <td>2.467487e+07</td>\n",
       "      <td>India</td>\n",
       "    </tr>\n",
       "  </tbody>\n",
       "</table>\n",
       "</div>"
      ],
      "text/plain": [
       "            risk measure         scenario treatment_group mother_status  \\\n",
       "8   birth_weight    mean  bep_hd_scale_up             bep  malnourished   \n",
       "9   birth_weight    mean  bep_hd_scale_up             bep        normal   \n",
       "14  birth_weight    mean  bep_hd_scale_up            none  malnourished   \n",
       "15  birth_weight    mean  bep_hd_scale_up            none        normal   \n",
       "\n",
       "    birthweight  total_population  pop_x_birthweight location  \n",
       "8   2945.803991           6732.08       1.983139e+07    India  \n",
       "9   3071.708616          32992.80       1.013443e+08    India  \n",
       "14  2745.444400           1742.56       4.784102e+06    India  \n",
       "15  2891.848792           8532.56       2.467487e+07    India  "
      ]
     },
     "execution_count": 11,
     "metadata": {},
     "output_type": "execute_result"
    }
   ],
   "source": [
    "#to get the dataframe we want from run1-TEST (BEP_HD_SCALE_UP):\n",
    "\n",
    "india_bw_bep_hd_universal = master_bw_001[master_bw_001['location'].isin(['India']) & master_bw_001['measure'].isin(['mean']) & master_bw_001['scenario'].isin(['bep_hd_scale_up']) & master_bw_001['treatment_group'].isin(['bep','none'])]\n",
    "india_bw_bep_hd_universal"
   ]
  },
  {
   "cell_type": "markdown",
   "metadata": {},
   "source": [
    "# BEP HD TARGETED SCALE UP"
   ]
  },
  {
   "cell_type": "code",
   "execution_count": 12,
   "metadata": {},
   "outputs": [
    {
     "data": {
      "text/html": [
       "<div>\n",
       "<style scoped>\n",
       "    .dataframe tbody tr th:only-of-type {\n",
       "        vertical-align: middle;\n",
       "    }\n",
       "\n",
       "    .dataframe tbody tr th {\n",
       "        vertical-align: top;\n",
       "    }\n",
       "\n",
       "    .dataframe thead th {\n",
       "        text-align: right;\n",
       "    }\n",
       "</style>\n",
       "<table border=\"1\" class=\"dataframe\">\n",
       "  <thead>\n",
       "    <tr style=\"text-align: right;\">\n",
       "      <th></th>\n",
       "      <th>risk</th>\n",
       "      <th>measure</th>\n",
       "      <th>scenario</th>\n",
       "      <th>treatment_group</th>\n",
       "      <th>mother_status</th>\n",
       "      <th>birthweight</th>\n",
       "      <th>total_population</th>\n",
       "      <th>pop_x_birthweight</th>\n",
       "      <th>location</th>\n",
       "    </tr>\n",
       "  </thead>\n",
       "  <tbody>\n",
       "    <tr>\n",
       "      <th>16</th>\n",
       "      <td>birth_weight</td>\n",
       "      <td>mean</td>\n",
       "      <td>bep_hd_targeted_scale_up</td>\n",
       "      <td>bep</td>\n",
       "      <td>malnourished</td>\n",
       "      <td>2945.803991</td>\n",
       "      <td>6732.08</td>\n",
       "      <td>1.983139e+07</td>\n",
       "      <td>India</td>\n",
       "    </tr>\n",
       "    <tr>\n",
       "      <th>17</th>\n",
       "      <td>birth_weight</td>\n",
       "      <td>mean</td>\n",
       "      <td>bep_hd_targeted_scale_up</td>\n",
       "      <td>bep</td>\n",
       "      <td>normal</td>\n",
       "      <td>0.000000</td>\n",
       "      <td>0.00</td>\n",
       "      <td>0.000000e+00</td>\n",
       "      <td>India</td>\n",
       "    </tr>\n",
       "    <tr>\n",
       "      <th>20</th>\n",
       "      <td>birth_weight</td>\n",
       "      <td>mean</td>\n",
       "      <td>bep_hd_targeted_scale_up</td>\n",
       "      <td>mmn</td>\n",
       "      <td>malnourished</td>\n",
       "      <td>0.000000</td>\n",
       "      <td>0.00</td>\n",
       "      <td>0.000000e+00</td>\n",
       "      <td>India</td>\n",
       "    </tr>\n",
       "    <tr>\n",
       "      <th>21</th>\n",
       "      <td>birth_weight</td>\n",
       "      <td>mean</td>\n",
       "      <td>bep_hd_targeted_scale_up</td>\n",
       "      <td>mmn</td>\n",
       "      <td>normal</td>\n",
       "      <td>2996.467911</td>\n",
       "      <td>32992.80</td>\n",
       "      <td>9.886187e+07</td>\n",
       "      <td>India</td>\n",
       "    </tr>\n",
       "    <tr>\n",
       "      <th>22</th>\n",
       "      <td>birth_weight</td>\n",
       "      <td>mean</td>\n",
       "      <td>bep_hd_targeted_scale_up</td>\n",
       "      <td>none</td>\n",
       "      <td>malnourished</td>\n",
       "      <td>2745.444400</td>\n",
       "      <td>1742.56</td>\n",
       "      <td>4.784102e+06</td>\n",
       "      <td>India</td>\n",
       "    </tr>\n",
       "    <tr>\n",
       "      <th>23</th>\n",
       "      <td>birth_weight</td>\n",
       "      <td>mean</td>\n",
       "      <td>bep_hd_targeted_scale_up</td>\n",
       "      <td>none</td>\n",
       "      <td>normal</td>\n",
       "      <td>2891.848792</td>\n",
       "      <td>8532.56</td>\n",
       "      <td>2.467487e+07</td>\n",
       "      <td>India</td>\n",
       "    </tr>\n",
       "  </tbody>\n",
       "</table>\n",
       "</div>"
      ],
      "text/plain": [
       "            risk measure                  scenario treatment_group  \\\n",
       "16  birth_weight    mean  bep_hd_targeted_scale_up             bep   \n",
       "17  birth_weight    mean  bep_hd_targeted_scale_up             bep   \n",
       "20  birth_weight    mean  bep_hd_targeted_scale_up             mmn   \n",
       "21  birth_weight    mean  bep_hd_targeted_scale_up             mmn   \n",
       "22  birth_weight    mean  bep_hd_targeted_scale_up            none   \n",
       "23  birth_weight    mean  bep_hd_targeted_scale_up            none   \n",
       "\n",
       "   mother_status  birthweight  total_population  pop_x_birthweight location  \n",
       "16  malnourished  2945.803991           6732.08       1.983139e+07    India  \n",
       "17        normal     0.000000              0.00       0.000000e+00    India  \n",
       "20  malnourished     0.000000              0.00       0.000000e+00    India  \n",
       "21        normal  2996.467911          32992.80       9.886187e+07    India  \n",
       "22  malnourished  2745.444400           1742.56       4.784102e+06    India  \n",
       "23        normal  2891.848792           8532.56       2.467487e+07    India  "
      ]
     },
     "execution_count": 12,
     "metadata": {},
     "output_type": "execute_result"
    }
   ],
   "source": [
    "#to get the dataframe we want from run1-TEST (BEP_HD_TARGETED_SCALE_UP):\n",
    "\n",
    "india_bw_bep_hd_targeted= master_bw_001[master_bw_001['location'].isin(['India']) & master_bw_001['measure'].isin(['mean']) & master_bw_001['scenario'].isin(['bep_hd_targeted_scale_up']) & master_bw_001['treatment_group'].isin(['bep','mmn','none'])]\n",
    "india_bw_bep_hd_targeted"
   ]
  }
 ],
 "metadata": {
  "kernelspec": {
   "display_name": "Python 3",
   "language": "python",
   "name": "python3"
  },
  "language_info": {
   "codemirror_mode": {
    "name": "ipython",
    "version": 3
   },
   "file_extension": ".py",
   "mimetype": "text/x-python",
   "name": "python",
   "nbconvert_exporter": "python",
   "pygments_lexer": "ipython3",
   "version": "3.6.10"
  }
 },
 "nbformat": 4,
 "nbformat_minor": 2
}
