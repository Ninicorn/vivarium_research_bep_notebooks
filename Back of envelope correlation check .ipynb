{
 "cells": [
  {
   "cell_type": "code",
   "execution_count": 1,
   "metadata": {},
   "outputs": [],
   "source": [
    "import numpy as np\n",
    "import matplotlib.pyplot as plt\n",
    "import seaborn as sns\n",
    "import pandas as pd\n"
   ]
  },
  {
   "cell_type": "code",
   "execution_count": null,
   "metadata": {},
   "outputs": [],
   "source": [
    "def check_correlation1(sample_size=10000, \n",
    "                      p_malnourished=0.1,\n",
    "                      mm_bw_effect=250,\n",
    "                      mm_cgf_effect=0.5):\n",
    "    \n",
    "    mom_malnourished = np.random.choice([1, 0], \n",
    "                                        size=sample_size, \n",
    "                                        p=[p_malnourished, 1-p_malnourished]).astype(bool)\n",
    "    \n",
    "    cgf_mean = 7\n",
    "    cgf_sd = 2\n",
    "    cgf_no_effect = np.random.normal(loc=cgf_mean, \n",
    "                                     scale=cgf_sd, \n",
    "                                     size=sample_size)\n",
    "    \n",
    "    cgf_effect = np.random.normal(loc=cgf_mean + mm_cgf_effect, \n",
    "                                  scale=cgf_sd, \n",
    "                                  size=sample_size)\n",
    "    \n",
    "    cgf = np.where(mom_malnourished, cgf_effect, cgf_no_effect)\n",
    "    \n",
    "    bw_mean = 3500\n",
    "    \n",
    "    bw_sd = 500\n",
    "    \n",
    "    bw_no_effect = np.random.normal(loc=bw_mean, \n",
    "                                    scale=bw_sd, \n",
    "                                    size=sample_size)\n",
    "    bw_effect = np.random.normal(loc=bw_mean + mm_bw_effect, \n",
    "                                 scale=bw_sd, \n",
    "                                 size=sample_size)\n",
    "    \n",
    "    bw = np.where(mom_malnourished, bw_effect, bw_no_effect)\n",
    "    \n",
    "    df = pd.DataFrame({'cgf': cgf, 'bw': bw, 'mom_malnourished': mom_malnourished})\n",
    "    \n",
    "    print('Correlation: ', np.corrcoef(cgf, bw)[0][1])\n",
    "    \n",
    "    sns.jointplot(x='cgf', y='bw', alpha=0.05, data=df)\n",
    "    \n",
    "    plt.show()"
   ]
  },
  {
   "cell_type": "code",
   "execution_count": null,
   "metadata": {
    "scrolled": true
   },
   "outputs": [],
   "source": [
    "check_correlation1()"
   ]
  },
  {
   "cell_type": "code",
   "execution_count": null,
   "metadata": {},
   "outputs": [],
   "source": [
    "def check_correlation2(sample_size=10000, \n",
    "                       p_malnourished=0.1,\n",
    "                       mm_bw_effect=250):\n",
    "    mom_malnourished = np.random.choice([1, 0], \n",
    "                                        size=sample_size, \n",
    "                                        p=[p_malnourished, 1-p_malnourished]).astype(bool)\n",
    "    bw_mean = 3500\n",
    "    bw_mean_with_effect = bw_mean + mm_bw_effect\n",
    "    bw_var = 500**2\n",
    "    cgf_mean = 10\n",
    "    cgf_var = 2**2\n",
    "    correlation = 0.5\n",
    "    covariance = correlation * np.sqrt(bw_var) * np.sqrt(cgf_var)\n",
    "    mu_no_effect = [bw_mean, cgf_mean]\n",
    "    mu_effect = [bw_mean_with_effect, cgf_mean]\n",
    "    sigma = [[bw_var, covariance], \n",
    "             [covariance, cgf_var]]\n",
    "    no_effect = np.random.multivariate_normal(mu_no_effect, sigma, size=sample_size)\n",
    "    effect = np.random.multivariate_normal(mu_effect, sigma, size=sample_size)    \n",
    "    data = np.where(np.array([mom_malnourished, mom_malnourished]).T, effect, no_effect)\n",
    "    data = pd.DataFrame(data, columns=['bw', 'cgf'])\n",
    "    data['mm'] = mom_malnourished\n",
    "    print('Correlation: ', np.corrcoef(data['cgf'], data['bw'])[0][1])\n",
    "    sns.jointplot(x='cgf', y='bw', alpha=0.05, data=data)\n",
    "    plt.show()\n",
    "    return data"
   ]
  },
  {
   "cell_type": "code",
   "execution_count": null,
   "metadata": {},
   "outputs": [],
   "source": [
    "check_correlation2()"
   ]
  },
  {
   "cell_type": "code",
   "execution_count": null,
   "metadata": {},
   "outputs": [],
   "source": [
    "df.groupby('mm').describe().stack()"
   ]
  }
 ],
 "metadata": {
  "kernelspec": {
   "display_name": "Python 3",
   "language": "python",
   "name": "python3"
  },
  "language_info": {
   "codemirror_mode": {
    "name": "ipython",
    "version": 3
   },
   "file_extension": ".py",
   "mimetype": "text/x-python",
   "name": "python",
   "nbconvert_exporter": "python",
   "pygments_lexer": "ipython3",
   "version": "3.6.10"
  }
 },
 "nbformat": 4,
 "nbformat_minor": 4
}
