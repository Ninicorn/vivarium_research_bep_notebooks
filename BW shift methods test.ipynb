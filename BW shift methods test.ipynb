{
 "cells": [
  {
   "cell_type": "code",
   "execution_count": 1,
   "metadata": {},
   "outputs": [],
   "source": [
    "import pandas as pd\n",
    "import numpy as np\n",
    "import scipy.stats\n",
    "from db_queries import get_covariate_estimates"
   ]
  },
  {
   "cell_type": "code",
   "execution_count": 2,
   "metadata": {},
   "outputs": [
    {
     "data": {
      "text/html": [
       "<div>\n",
       "<style scoped>\n",
       "    .dataframe tbody tr th:only-of-type {\n",
       "        vertical-align: middle;\n",
       "    }\n",
       "\n",
       "    .dataframe tbody tr th {\n",
       "        vertical-align: top;\n",
       "    }\n",
       "\n",
       "    .dataframe thead th {\n",
       "        text-align: right;\n",
       "    }\n",
       "</style>\n",
       "<table border=\"1\" class=\"dataframe\">\n",
       "  <thead>\n",
       "    <tr style=\"text-align: right;\">\n",
       "      <th></th>\n",
       "      <th>model_version_id</th>\n",
       "      <th>covariate_id</th>\n",
       "      <th>covariate_name_short</th>\n",
       "      <th>location_id</th>\n",
       "      <th>location_name</th>\n",
       "      <th>year_id</th>\n",
       "      <th>age_group_id</th>\n",
       "      <th>age_group_name</th>\n",
       "      <th>sex_id</th>\n",
       "      <th>sex</th>\n",
       "      <th>mean_value</th>\n",
       "      <th>lower_value</th>\n",
       "      <th>upper_value</th>\n",
       "    </tr>\n",
       "  </thead>\n",
       "  <tbody>\n",
       "    <tr>\n",
       "      <th>0</th>\n",
       "      <td>21269</td>\n",
       "      <td>1136</td>\n",
       "      <td>mean_birthweight</td>\n",
       "      <td>163</td>\n",
       "      <td>India</td>\n",
       "      <td>2017</td>\n",
       "      <td>22</td>\n",
       "      <td>All Ages</td>\n",
       "      <td>1</td>\n",
       "      <td>Male</td>\n",
       "      <td>3079.753121</td>\n",
       "      <td>3054.992529</td>\n",
       "      <td>3104.522096</td>\n",
       "    </tr>\n",
       "    <tr>\n",
       "      <th>1</th>\n",
       "      <td>21269</td>\n",
       "      <td>1136</td>\n",
       "      <td>mean_birthweight</td>\n",
       "      <td>163</td>\n",
       "      <td>India</td>\n",
       "      <td>2017</td>\n",
       "      <td>22</td>\n",
       "      <td>All Ages</td>\n",
       "      <td>2</td>\n",
       "      <td>Female</td>\n",
       "      <td>3044.228645</td>\n",
       "      <td>3016.321826</td>\n",
       "      <td>3072.567596</td>\n",
       "    </tr>\n",
       "  </tbody>\n",
       "</table>\n",
       "</div>"
      ],
      "text/plain": [
       "   model_version_id  covariate_id covariate_name_short  location_id  \\\n",
       "0             21269          1136     mean_birthweight          163   \n",
       "1             21269          1136     mean_birthweight          163   \n",
       "\n",
       "  location_name  year_id  age_group_id age_group_name  sex_id     sex  \\\n",
       "0         India     2017            22       All Ages       1    Male   \n",
       "1         India     2017            22       All Ages       2  Female   \n",
       "\n",
       "    mean_value  lower_value  upper_value  \n",
       "0  3079.753121  3054.992529  3104.522096  \n",
       "1  3044.228645  3016.321826  3072.567596  "
      ]
     },
     "execution_count": 2,
     "metadata": {},
     "output_type": "execute_result"
    }
   ],
   "source": [
    "bw = get_covariate_estimates(covariate_id=1136, location_id=163, gbd_round_id=5, year_id=2017)\n",
    "bw"
   ]
  },
  {
   "cell_type": "code",
   "execution_count": 3,
   "metadata": {},
   "outputs": [
    {
     "data": {
      "text/html": [
       "<div>\n",
       "<style scoped>\n",
       "    .dataframe tbody tr th:only-of-type {\n",
       "        vertical-align: middle;\n",
       "    }\n",
       "\n",
       "    .dataframe tbody tr th {\n",
       "        vertical-align: top;\n",
       "    }\n",
       "\n",
       "    .dataframe thead th {\n",
       "        text-align: right;\n",
       "    }\n",
       "</style>\n",
       "<table border=\"1\" class=\"dataframe\">\n",
       "  <thead>\n",
       "    <tr style=\"text-align: right;\">\n",
       "      <th></th>\n",
       "      <th>model_version_id</th>\n",
       "      <th>covariate_id</th>\n",
       "      <th>covariate_name_short</th>\n",
       "      <th>location_id</th>\n",
       "      <th>location_name</th>\n",
       "      <th>year_id</th>\n",
       "      <th>age_group_id</th>\n",
       "      <th>age_group_name</th>\n",
       "      <th>sex_id</th>\n",
       "      <th>sex</th>\n",
       "      <th>mean_value</th>\n",
       "      <th>lower_value</th>\n",
       "      <th>upper_value</th>\n",
       "    </tr>\n",
       "  </thead>\n",
       "  <tbody>\n",
       "    <tr>\n",
       "      <th>0</th>\n",
       "      <td>22484</td>\n",
       "      <td>1252</td>\n",
       "      <td>females_underweight_reproageagestd</td>\n",
       "      <td>163</td>\n",
       "      <td>India</td>\n",
       "      <td>2017</td>\n",
       "      <td>27</td>\n",
       "      <td>Age-standardized</td>\n",
       "      <td>1</td>\n",
       "      <td>Male</td>\n",
       "      <td>0.000000</td>\n",
       "      <td>0.000000</td>\n",
       "      <td>0.00000</td>\n",
       "    </tr>\n",
       "    <tr>\n",
       "      <th>1</th>\n",
       "      <td>22484</td>\n",
       "      <td>1252</td>\n",
       "      <td>females_underweight_reproageagestd</td>\n",
       "      <td>163</td>\n",
       "      <td>India</td>\n",
       "      <td>2017</td>\n",
       "      <td>27</td>\n",
       "      <td>Age-standardized</td>\n",
       "      <td>2</td>\n",
       "      <td>Female</td>\n",
       "      <td>0.197732</td>\n",
       "      <td>0.188499</td>\n",
       "      <td>0.20788</td>\n",
       "    </tr>\n",
       "  </tbody>\n",
       "</table>\n",
       "</div>"
      ],
      "text/plain": [
       "   model_version_id  covariate_id                covariate_name_short  \\\n",
       "0             22484          1252  females_underweight_reproageagestd   \n",
       "1             22484          1252  females_underweight_reproageagestd   \n",
       "\n",
       "   location_id location_name  year_id  age_group_id    age_group_name  sex_id  \\\n",
       "0          163         India     2017            27  Age-standardized       1   \n",
       "1          163         India     2017            27  Age-standardized       2   \n",
       "\n",
       "      sex  mean_value  lower_value  upper_value  \n",
       "0    Male    0.000000     0.000000      0.00000  \n",
       "1  Female    0.197732     0.188499      0.20788  "
      ]
     },
     "execution_count": 3,
     "metadata": {},
     "output_type": "execute_result"
    }
   ],
   "source": [
    "low_bmi = get_covariate_estimates(covariate_id=1252, location_id=163, gbd_round_id=5, year_id=2017)\n",
    "low_bmi"
   ]
  },
  {
   "cell_type": "code",
   "execution_count": 4,
   "metadata": {},
   "outputs": [],
   "source": [
    "# set hypothetical population parameters\n",
    "mean = 3061.5\n",
    "sd = 550\n",
    "rr_bw = 2\n",
    "p_low_bmi = 0.2"
   ]
  },
  {
   "cell_type": "code",
   "execution_count": 5,
   "metadata": {},
   "outputs": [],
   "source": [
    "# guess and check values so that: \n",
    "    # weighted p(LBW) = overall p(LBW)\n",
    "    # low BMI p(LBW) / adequate BMI p(LBW) = 2\n",
    "mean_low = 2862\n",
    "mean_high = 3124"
   ]
  },
  {
   "cell_type": "code",
   "execution_count": 6,
   "metadata": {},
   "outputs": [
    {
     "data": {
      "text/plain": [
       "0.12804062984822007"
      ]
     },
     "execution_count": 6,
     "metadata": {},
     "output_type": "execute_result"
    }
   ],
   "source": [
    "# risk-deleted overall prevalence of LBW\n",
    "scipy.stats.norm(mean,sd).cdf(2500) * (1 - (rr_bw * p_low_bmi - p_low_bmi)/(rr_bw * p_low_bmi + 1 - p_low_bmi))"
   ]
  },
  {
   "cell_type": "code",
   "execution_count": 7,
   "metadata": {},
   "outputs": [
    {
     "data": {
      "text/plain": [
       "0.12828290916989527"
      ]
     },
     "execution_count": 7,
     "metadata": {},
     "output_type": "execute_result"
    }
   ],
   "source": [
    "# adequate BMI prevalence of LBW\n",
    "scipy.stats.norm(mean_high,sd).cdf(2500)"
   ]
  },
  {
   "cell_type": "code",
   "execution_count": 8,
   "metadata": {},
   "outputs": [
    {
     "data": {
      "text/plain": [
       "0.15364875581786408"
      ]
     },
     "execution_count": 8,
     "metadata": {},
     "output_type": "execute_result"
    }
   ],
   "source": [
    "# population probability of LBW\n",
    "scipy.stats.norm(mean,sd).cdf(2500)"
   ]
  },
  {
   "cell_type": "code",
   "execution_count": 9,
   "metadata": {},
   "outputs": [
    {
     "data": {
      "text/plain": [
       "0.15366845798732537"
      ]
     },
     "execution_count": 9,
     "metadata": {},
     "output_type": "execute_result"
    }
   ],
   "source": [
    "# weighted probability of LBW\n",
    "p_low_bmi * scipy.stats.norm(mean_low,sd).cdf(2500) + (1 - p_low_bmi) * scipy.stats.norm(mean_high,sd).cdf(2500)"
   ]
  },
  {
   "cell_type": "code",
   "execution_count": 10,
   "metadata": {},
   "outputs": [
    {
     "data": {
      "text/plain": [
       "1.9894361213702287"
      ]
     },
     "execution_count": 10,
     "metadata": {},
     "output_type": "execute_result"
    }
   ],
   "source": [
    "# low BMI p(LBW) / adequate BMI p(LBW)\n",
    "scipy.stats.norm(mean_low,sd).cdf(2500) / scipy.stats.norm(mean_high,sd).cdf(2500)"
   ]
  },
  {
   "cell_type": "code",
   "execution_count": 11,
   "metadata": {},
   "outputs": [
    {
     "data": {
      "text/plain": [
       "-262"
      ]
     },
     "execution_count": 11,
     "metadata": {},
     "output_type": "execute_result"
    }
   ],
   "source": [
    "# calculate shift of low BMI relative to high BMI \n",
    "shift = mean_low - mean_high\n",
    "shift"
   ]
  },
  {
   "cell_type": "code",
   "execution_count": 12,
   "metadata": {},
   "outputs": [
    {
     "data": {
      "text/plain": [
       "52.400000000000006"
      ]
     },
     "execution_count": 12,
     "metadata": {},
     "output_type": "execute_result"
    }
   ],
   "source": [
    "# calculate shift of adequate BMI relative to population mean \n",
    "adequate_bmi_shift = -p_low_bmi * shift\n",
    "adequate_bmi_shift"
   ]
  },
  {
   "cell_type": "code",
   "execution_count": 13,
   "metadata": {},
   "outputs": [
    {
     "data": {
      "text/plain": [
       "-209.60000000000002"
      ]
     },
     "execution_count": 13,
     "metadata": {},
     "output_type": "execute_result"
    }
   ],
   "source": [
    "# calculate shift of low BMI relative to population mean\n",
    "low_bmi_shift = (1 - p_low_bmi) * shift\n",
    "low_bmi_shift"
   ]
  },
  {
   "cell_type": "code",
   "execution_count": 14,
   "metadata": {},
   "outputs": [],
   "source": [
    "# make \"population\" of 10,000 based on population parameters\n",
    "pop = pd.DataFrame(columns=['simulant','low_bmi','bw_0','bw_1'])\n",
    "pop['simulant'] = list(range(0,10_000))\n",
    "pop['low_bmi'] = np.random.binomial(1, 0.2, 10_000)\n",
    "pop['bw_0'] = np.random.normal(mean, sd, 10_000)\n",
    "pop['bw_1'] = np.where(pop['low_bmi'] == 0, pop['bw_0'] + adequate_bmi_shift,\n",
    "                      pop['bw_0'] + low_bmi_shift)\n",
    "pop['lbw_0'] = np.where(pop['bw_0'] < 2500, 1, 0)\n",
    "pop['lbw_1'] = np.where(pop['bw_1'] < 2500, 1, 0)"
   ]
  },
  {
   "cell_type": "code",
   "execution_count": 15,
   "metadata": {},
   "outputs": [
    {
     "data": {
      "text/html": [
       "<div>\n",
       "<style scoped>\n",
       "    .dataframe tbody tr th:only-of-type {\n",
       "        vertical-align: middle;\n",
       "    }\n",
       "\n",
       "    .dataframe tbody tr th {\n",
       "        vertical-align: top;\n",
       "    }\n",
       "\n",
       "    .dataframe thead th {\n",
       "        text-align: right;\n",
       "    }\n",
       "</style>\n",
       "<table border=\"1\" class=\"dataframe\">\n",
       "  <thead>\n",
       "    <tr style=\"text-align: right;\">\n",
       "      <th></th>\n",
       "      <th>0</th>\n",
       "    </tr>\n",
       "  </thead>\n",
       "  <tbody>\n",
       "    <tr>\n",
       "      <th>baseline_overall_bw_mean</th>\n",
       "      <td>3063.511558</td>\n",
       "    </tr>\n",
       "    <tr>\n",
       "      <th>shifted_overall_bw_mean</th>\n",
       "      <td>3061.074958</td>\n",
       "    </tr>\n",
       "    <tr>\n",
       "      <th>baseline_overall_bw_sd</th>\n",
       "      <td>546.847188</td>\n",
       "    </tr>\n",
       "    <tr>\n",
       "      <th>shifted_overall_bw_sd</th>\n",
       "      <td>555.117787</td>\n",
       "    </tr>\n",
       "    <tr>\n",
       "      <th>baseline_overall_lbw_prob</th>\n",
       "      <td>0.149200</td>\n",
       "    </tr>\n",
       "    <tr>\n",
       "      <th>shifted_overall_lbw_prob</th>\n",
       "      <td>0.156500</td>\n",
       "    </tr>\n",
       "    <tr>\n",
       "      <th>shifted_low_bmi_bw</th>\n",
       "      <td>2874.400948</td>\n",
       "    </tr>\n",
       "    <tr>\n",
       "      <th>shifted_high_bmi_bw</th>\n",
       "      <td>3110.487972</td>\n",
       "    </tr>\n",
       "    <tr>\n",
       "      <th>shifted_low_bmi_lbw_prob</th>\n",
       "      <td>0.248925</td>\n",
       "    </tr>\n",
       "    <tr>\n",
       "      <th>shifted_high_bmi_lbw_prob</th>\n",
       "      <td>0.132035</td>\n",
       "    </tr>\n",
       "    <tr>\n",
       "      <th>shifted_rr</th>\n",
       "      <td>1.885297</td>\n",
       "    </tr>\n",
       "    <tr>\n",
       "      <th>shifted_shift</th>\n",
       "      <td>-236.087024</td>\n",
       "    </tr>\n",
       "  </tbody>\n",
       "</table>\n",
       "</div>"
      ],
      "text/plain": [
       "                                     0\n",
       "baseline_overall_bw_mean   3063.511558\n",
       "shifted_overall_bw_mean    3061.074958\n",
       "baseline_overall_bw_sd      546.847188\n",
       "shifted_overall_bw_sd       555.117787\n",
       "baseline_overall_lbw_prob     0.149200\n",
       "shifted_overall_lbw_prob      0.156500\n",
       "shifted_low_bmi_bw         2874.400948\n",
       "shifted_high_bmi_bw        3110.487972\n",
       "shifted_low_bmi_lbw_prob      0.248925\n",
       "shifted_high_bmi_lbw_prob     0.132035\n",
       "shifted_rr                    1.885297\n",
       "shifted_shift              -236.087024"
      ]
     },
     "execution_count": 15,
     "metadata": {},
     "output_type": "execute_result"
    }
   ],
   "source": [
    "results = pd.DataFrame()\n",
    "results['baseline_overall_bw_mean'] = [float(pop['bw_0'].mean())]\n",
    "results['shifted_overall_bw_mean'] = float(pop['bw_1'].mean())\n",
    "results['baseline_overall_bw_sd'] = float(pop['bw_0'].std())\n",
    "results['shifted_overall_bw_sd'] = float(pop['bw_1'].std())\n",
    "results['baseline_overall_lbw_prob'] = float(pop['lbw_0'].mean())\n",
    "results['shifted_overall_lbw_prob'] = float(pop['lbw_1'].mean())\n",
    "\n",
    "results['shifted_low_bmi_bw'] = float(pop['bw_1'].where(pop['low_bmi'] == 1).dropna().mean())\n",
    "results['shifted_high_bmi_bw'] = float(pop['bw_1'].where(pop['low_bmi'] == 0).dropna().mean())\n",
    "\n",
    "results['shifted_low_bmi_lbw_prob'] = float(pop['lbw_1'].where(pop['low_bmi'] == 1).dropna().mean())\n",
    "results['shifted_high_bmi_lbw_prob'] = float(pop['lbw_1'].where(pop['low_bmi'] == 0).dropna().mean())\n",
    "\n",
    "results['shifted_rr'] = float(pop['lbw_1'].where(pop['low_bmi'] == 1).dropna().mean()) / float(pop['lbw_1'].where(pop['low_bmi'] == 0).dropna().mean())\n",
    "results['shifted_shift'] = float(pop['bw_1'].where(pop['low_bmi'] == 1).dropna().mean()) - float(pop['bw_1'].where(pop['low_bmi'] == 0).dropna().mean())\n",
    "\n",
    "results.transpose()"
   ]
  },
  {
   "cell_type": "markdown",
   "metadata": {},
   "source": [
    "# Second iteration with lower population mean"
   ]
  },
  {
   "cell_type": "code",
   "execution_count": 16,
   "metadata": {},
   "outputs": [
    {
     "data": {
      "text/html": [
       "<div>\n",
       "<style scoped>\n",
       "    .dataframe tbody tr th:only-of-type {\n",
       "        vertical-align: middle;\n",
       "    }\n",
       "\n",
       "    .dataframe tbody tr th {\n",
       "        vertical-align: top;\n",
       "    }\n",
       "\n",
       "    .dataframe thead th {\n",
       "        text-align: right;\n",
       "    }\n",
       "</style>\n",
       "<table border=\"1\" class=\"dataframe\">\n",
       "  <thead>\n",
       "    <tr style=\"text-align: right;\">\n",
       "      <th></th>\n",
       "      <th>model_version_id</th>\n",
       "      <th>covariate_id</th>\n",
       "      <th>covariate_name_short</th>\n",
       "      <th>location_id</th>\n",
       "      <th>location_name</th>\n",
       "      <th>year_id</th>\n",
       "      <th>age_group_id</th>\n",
       "      <th>age_group_name</th>\n",
       "      <th>sex_id</th>\n",
       "      <th>sex</th>\n",
       "      <th>mean_value</th>\n",
       "      <th>lower_value</th>\n",
       "      <th>upper_value</th>\n",
       "    </tr>\n",
       "  </thead>\n",
       "  <tbody>\n",
       "    <tr>\n",
       "      <th>0</th>\n",
       "      <td>21269</td>\n",
       "      <td>1136</td>\n",
       "      <td>mean_birthweight</td>\n",
       "      <td>211</td>\n",
       "      <td>Mali</td>\n",
       "      <td>2017</td>\n",
       "      <td>22</td>\n",
       "      <td>All Ages</td>\n",
       "      <td>1</td>\n",
       "      <td>Male</td>\n",
       "      <td>3074.124714</td>\n",
       "      <td>3044.216380</td>\n",
       "      <td>3104.097951</td>\n",
       "    </tr>\n",
       "    <tr>\n",
       "      <th>1</th>\n",
       "      <td>21269</td>\n",
       "      <td>1136</td>\n",
       "      <td>mean_birthweight</td>\n",
       "      <td>211</td>\n",
       "      <td>Mali</td>\n",
       "      <td>2017</td>\n",
       "      <td>22</td>\n",
       "      <td>All Ages</td>\n",
       "      <td>2</td>\n",
       "      <td>Female</td>\n",
       "      <td>2999.596071</td>\n",
       "      <td>2958.331001</td>\n",
       "      <td>3035.668356</td>\n",
       "    </tr>\n",
       "  </tbody>\n",
       "</table>\n",
       "</div>"
      ],
      "text/plain": [
       "   model_version_id  covariate_id covariate_name_short  location_id  \\\n",
       "0             21269          1136     mean_birthweight          211   \n",
       "1             21269          1136     mean_birthweight          211   \n",
       "\n",
       "  location_name  year_id  age_group_id age_group_name  sex_id     sex  \\\n",
       "0          Mali     2017            22       All Ages       1    Male   \n",
       "1          Mali     2017            22       All Ages       2  Female   \n",
       "\n",
       "    mean_value  lower_value  upper_value  \n",
       "0  3074.124714  3044.216380  3104.097951  \n",
       "1  2999.596071  2958.331001  3035.668356  "
      ]
     },
     "execution_count": 16,
     "metadata": {},
     "output_type": "execute_result"
    }
   ],
   "source": [
    "bw = get_covariate_estimates(covariate_id=1136, location_id=211, gbd_round_id=5, year_id=2017)\n",
    "bw"
   ]
  },
  {
   "cell_type": "code",
   "execution_count": 17,
   "metadata": {},
   "outputs": [
    {
     "data": {
      "text/html": [
       "<div>\n",
       "<style scoped>\n",
       "    .dataframe tbody tr th:only-of-type {\n",
       "        vertical-align: middle;\n",
       "    }\n",
       "\n",
       "    .dataframe tbody tr th {\n",
       "        vertical-align: top;\n",
       "    }\n",
       "\n",
       "    .dataframe thead th {\n",
       "        text-align: right;\n",
       "    }\n",
       "</style>\n",
       "<table border=\"1\" class=\"dataframe\">\n",
       "  <thead>\n",
       "    <tr style=\"text-align: right;\">\n",
       "      <th></th>\n",
       "      <th>model_version_id</th>\n",
       "      <th>covariate_id</th>\n",
       "      <th>covariate_name_short</th>\n",
       "      <th>location_id</th>\n",
       "      <th>location_name</th>\n",
       "      <th>year_id</th>\n",
       "      <th>age_group_id</th>\n",
       "      <th>age_group_name</th>\n",
       "      <th>sex_id</th>\n",
       "      <th>sex</th>\n",
       "      <th>mean_value</th>\n",
       "      <th>lower_value</th>\n",
       "      <th>upper_value</th>\n",
       "    </tr>\n",
       "  </thead>\n",
       "  <tbody>\n",
       "    <tr>\n",
       "      <th>0</th>\n",
       "      <td>22484</td>\n",
       "      <td>1252</td>\n",
       "      <td>females_underweight_reproageagestd</td>\n",
       "      <td>211</td>\n",
       "      <td>Mali</td>\n",
       "      <td>2017</td>\n",
       "      <td>27</td>\n",
       "      <td>Age-standardized</td>\n",
       "      <td>1</td>\n",
       "      <td>Male</td>\n",
       "      <td>0.000000</td>\n",
       "      <td>0.000000</td>\n",
       "      <td>0.000000</td>\n",
       "    </tr>\n",
       "    <tr>\n",
       "      <th>1</th>\n",
       "      <td>22484</td>\n",
       "      <td>1252</td>\n",
       "      <td>females_underweight_reproageagestd</td>\n",
       "      <td>211</td>\n",
       "      <td>Mali</td>\n",
       "      <td>2017</td>\n",
       "      <td>27</td>\n",
       "      <td>Age-standardized</td>\n",
       "      <td>2</td>\n",
       "      <td>Female</td>\n",
       "      <td>0.110791</td>\n",
       "      <td>0.048098</td>\n",
       "      <td>0.197023</td>\n",
       "    </tr>\n",
       "  </tbody>\n",
       "</table>\n",
       "</div>"
      ],
      "text/plain": [
       "   model_version_id  covariate_id                covariate_name_short  \\\n",
       "0             22484          1252  females_underweight_reproageagestd   \n",
       "1             22484          1252  females_underweight_reproageagestd   \n",
       "\n",
       "   location_id location_name  year_id  age_group_id    age_group_name  sex_id  \\\n",
       "0          211          Mali     2017            27  Age-standardized       1   \n",
       "1          211          Mali     2017            27  Age-standardized       2   \n",
       "\n",
       "      sex  mean_value  lower_value  upper_value  \n",
       "0    Male    0.000000     0.000000     0.000000  \n",
       "1  Female    0.110791     0.048098     0.197023  "
      ]
     },
     "execution_count": 17,
     "metadata": {},
     "output_type": "execute_result"
    }
   ],
   "source": [
    "low_bmi = get_covariate_estimates(covariate_id=1252, location_id=211, gbd_round_id=5, year_id=2017)\n",
    "low_bmi"
   ]
  },
  {
   "cell_type": "code",
   "execution_count": 18,
   "metadata": {},
   "outputs": [],
   "source": [
    "# set hypothetical population parameters\n",
    "mean = 3030 \n",
    "sd = 448\n",
    "rr_bw = 2\n",
    "p_low_bmi = 0.11\n",
    "\n",
    "# guess and check values so that: \n",
    "    # weighted p(LBW) = overall p(LBW)\n",
    "    # low BMI p(LBW) / adequate BMI p(LBW) = 2\n",
    "mean_low = 2860\n",
    "mean_high = 3057"
   ]
  },
  {
   "cell_type": "code",
   "execution_count": 19,
   "metadata": {},
   "outputs": [
    {
     "data": {
      "text/plain": [
       "0.10666441147062775"
      ]
     },
     "execution_count": 19,
     "metadata": {},
     "output_type": "execute_result"
    }
   ],
   "source": [
    "# risk deleted probability of LBW\n",
    "scipy.stats.norm(mean,sd).cdf(2500) * (1 - (rr_bw * p_low_bmi - p_low_bmi) /(rr_bw * p_low_bmi + 1 - p_low_bmi))"
   ]
  },
  {
   "cell_type": "code",
   "execution_count": 20,
   "metadata": {},
   "outputs": [
    {
     "data": {
      "text/plain": [
       "0.10687799432175404"
      ]
     },
     "execution_count": 20,
     "metadata": {},
     "output_type": "execute_result"
    }
   ],
   "source": [
    "# adequate BMI prob(LBW)\n",
    "scipy.stats.norm(mean_high,sd).cdf(2500)"
   ]
  },
  {
   "cell_type": "code",
   "execution_count": 21,
   "metadata": {},
   "outputs": [
    {
     "data": {
      "text/plain": [
       "0.1183974967323968"
      ]
     },
     "execution_count": 21,
     "metadata": {},
     "output_type": "execute_result"
    }
   ],
   "source": [
    "# population probability of LBW\n",
    "scipy.stats.norm(mean,sd).cdf(2500)"
   ]
  },
  {
   "cell_type": "code",
   "execution_count": 22,
   "metadata": {},
   "outputs": [
    {
     "data": {
      "text/plain": [
       "0.11831186406349063"
      ]
     },
     "execution_count": 22,
     "metadata": {},
     "output_type": "execute_result"
    }
   ],
   "source": [
    "# weighted probability of LBW\n",
    "p_low_bmi * scipy.stats.norm(mean_low,sd).cdf(2500) + (1 - p_low_bmi) * scipy.stats.norm(mean_high,sd).cdf(2500)"
   ]
  },
  {
   "cell_type": "code",
   "execution_count": 23,
   "metadata": {},
   "outputs": [
    {
     "data": {
      "text/plain": [
       "1.972550720464508"
      ]
     },
     "execution_count": 23,
     "metadata": {},
     "output_type": "execute_result"
    }
   ],
   "source": [
    "# low BMI p(LBW) / adequate BMI p(LBW)\n",
    "scipy.stats.norm(mean_low,sd).cdf(2500) / scipy.stats.norm(mean_high,sd).cdf(2500)"
   ]
  },
  {
   "cell_type": "code",
   "execution_count": 24,
   "metadata": {},
   "outputs": [
    {
     "data": {
      "text/plain": [
       "-197"
      ]
     },
     "execution_count": 24,
     "metadata": {},
     "output_type": "execute_result"
    }
   ],
   "source": [
    "# calculate shift of low BMI relative to high BMI \n",
    "shift = mean_low - mean_high\n",
    "shift"
   ]
  },
  {
   "cell_type": "code",
   "execution_count": 25,
   "metadata": {},
   "outputs": [
    {
     "data": {
      "text/plain": [
       "21.67"
      ]
     },
     "execution_count": 25,
     "metadata": {},
     "output_type": "execute_result"
    }
   ],
   "source": [
    "# calculate shift of adequate BMI relative to population mean \n",
    "adequate_bmi_shift = -p_low_bmi * shift\n",
    "adequate_bmi_shift"
   ]
  },
  {
   "cell_type": "code",
   "execution_count": 26,
   "metadata": {},
   "outputs": [
    {
     "data": {
      "text/plain": [
       "-175.33"
      ]
     },
     "execution_count": 26,
     "metadata": {},
     "output_type": "execute_result"
    }
   ],
   "source": [
    "# calculate shift of low BMI relative to population mean\n",
    "low_bmi_shift = (1 - p_low_bmi) * shift\n",
    "low_bmi_shift"
   ]
  },
  {
   "cell_type": "code",
   "execution_count": 27,
   "metadata": {},
   "outputs": [
    {
     "data": {
      "text/plain": [
       "-197.0"
      ]
     },
     "execution_count": 27,
     "metadata": {},
     "output_type": "execute_result"
    }
   ],
   "source": [
    "low_bmi_shift - adequate_bmi_shift"
   ]
  },
  {
   "cell_type": "code",
   "execution_count": 30,
   "metadata": {},
   "outputs": [],
   "source": [
    "# make \"population\" of 10,000 based on population parameters\n",
    "pop = pd.DataFrame(columns=['simulant','low_bmi','bw_0','bw_1'])\n",
    "pop['simulant'] = list(range(0,10_000))\n",
    "pop['low_bmi'] = np.random.binomial(1, p_low_bmi, 10_000)\n",
    "pop['bw_0'] = np.random.normal(mean, sd, 10_000)\n",
    "pop['bw_1'] = np.where(pop['low_bmi'] == 0, pop['bw_0'] + adequate_bmi_shift,\n",
    "                      pop['bw_0'] + low_bmi_shift)\n",
    "pop['lbw_0'] = np.where(pop['bw_0'] < 2500, 1, 0)\n",
    "pop['lbw_1'] = np.where(pop['bw_1'] < 2500, 1, 0)"
   ]
  },
  {
   "cell_type": "code",
   "execution_count": 31,
   "metadata": {},
   "outputs": [
    {
     "data": {
      "text/html": [
       "<div>\n",
       "<style scoped>\n",
       "    .dataframe tbody tr th:only-of-type {\n",
       "        vertical-align: middle;\n",
       "    }\n",
       "\n",
       "    .dataframe tbody tr th {\n",
       "        vertical-align: top;\n",
       "    }\n",
       "\n",
       "    .dataframe thead th {\n",
       "        text-align: right;\n",
       "    }\n",
       "</style>\n",
       "<table border=\"1\" class=\"dataframe\">\n",
       "  <thead>\n",
       "    <tr style=\"text-align: right;\">\n",
       "      <th></th>\n",
       "      <th>0</th>\n",
       "    </tr>\n",
       "  </thead>\n",
       "  <tbody>\n",
       "    <tr>\n",
       "      <th>baseline_overall_bw_mean</th>\n",
       "      <td>3034.678717</td>\n",
       "    </tr>\n",
       "    <tr>\n",
       "      <th>shifted_overall_bw_mean</th>\n",
       "      <td>3034.915117</td>\n",
       "    </tr>\n",
       "    <tr>\n",
       "      <th>baseline_overall_bw_sd</th>\n",
       "      <td>448.314076</td>\n",
       "    </tr>\n",
       "    <tr>\n",
       "      <th>shifted_overall_bw_sd</th>\n",
       "      <td>452.308085</td>\n",
       "    </tr>\n",
       "    <tr>\n",
       "      <th>baseline_overall_lbw_prob</th>\n",
       "      <td>0.112900</td>\n",
       "    </tr>\n",
       "    <tr>\n",
       "      <th>shifted_overall_lbw_prob</th>\n",
       "      <td>0.114600</td>\n",
       "    </tr>\n",
       "    <tr>\n",
       "      <th>shifted_low_bmi_bw</th>\n",
       "      <td>2863.227816</td>\n",
       "    </tr>\n",
       "    <tr>\n",
       "      <th>shifted_high_bmi_bw</th>\n",
       "      <td>3055.875146</td>\n",
       "    </tr>\n",
       "    <tr>\n",
       "      <th>shifted_low_bmi_lbw_prob</th>\n",
       "      <td>0.206801</td>\n",
       "    </tr>\n",
       "    <tr>\n",
       "      <th>shifted_high_bmi_lbw_prob</th>\n",
       "      <td>0.103344</td>\n",
       "    </tr>\n",
       "    <tr>\n",
       "      <th>shifted_rr</th>\n",
       "      <td>2.001102</td>\n",
       "    </tr>\n",
       "    <tr>\n",
       "      <th>shifted_shift</th>\n",
       "      <td>-192.647330</td>\n",
       "    </tr>\n",
       "  </tbody>\n",
       "</table>\n",
       "</div>"
      ],
      "text/plain": [
       "                                     0\n",
       "baseline_overall_bw_mean   3034.678717\n",
       "shifted_overall_bw_mean    3034.915117\n",
       "baseline_overall_bw_sd      448.314076\n",
       "shifted_overall_bw_sd       452.308085\n",
       "baseline_overall_lbw_prob     0.112900\n",
       "shifted_overall_lbw_prob      0.114600\n",
       "shifted_low_bmi_bw         2863.227816\n",
       "shifted_high_bmi_bw        3055.875146\n",
       "shifted_low_bmi_lbw_prob      0.206801\n",
       "shifted_high_bmi_lbw_prob     0.103344\n",
       "shifted_rr                    2.001102\n",
       "shifted_shift              -192.647330"
      ]
     },
     "execution_count": 31,
     "metadata": {},
     "output_type": "execute_result"
    }
   ],
   "source": [
    "results = pd.DataFrame()\n",
    "results['baseline_overall_bw_mean'] = [float(pop['bw_0'].mean())]\n",
    "results['shifted_overall_bw_mean'] = float(pop['bw_1'].mean())\n",
    "results['baseline_overall_bw_sd'] = float(pop['bw_0'].std())\n",
    "results['shifted_overall_bw_sd'] = float(pop['bw_1'].std())\n",
    "results['baseline_overall_lbw_prob'] = float(pop['lbw_0'].mean())\n",
    "results['shifted_overall_lbw_prob'] = float(pop['lbw_1'].mean())\n",
    "\n",
    "results['shifted_low_bmi_bw'] = float(pop['bw_1'].where(pop['low_bmi'] == 1).dropna().mean())\n",
    "results['shifted_high_bmi_bw'] = float(pop['bw_1'].where(pop['low_bmi'] == 0).dropna().mean())\n",
    "\n",
    "results['shifted_low_bmi_lbw_prob'] = float(pop['lbw_1'].where(pop['low_bmi'] == 1).dropna().mean())\n",
    "results['shifted_high_bmi_lbw_prob'] = float(pop['lbw_1'].where(pop['low_bmi'] == 0).dropna().mean())\n",
    "\n",
    "results['shifted_rr'] = float(pop['lbw_1'].where(pop['low_bmi'] == 1).dropna().mean()) / float(pop['lbw_1'].where(pop['low_bmi'] == 0).dropna().mean())\n",
    "results['shifted_shift'] = float(pop['bw_1'].where(pop['low_bmi'] == 1).dropna().mean()) - float(pop['bw_1'].where(pop['low_bmi'] == 0).dropna().mean())\n",
    "\n",
    "results.transpose()"
   ]
  },
  {
   "cell_type": "code",
   "execution_count": null,
   "metadata": {},
   "outputs": [],
   "source": []
  }
 ],
 "metadata": {
  "kernelspec": {
   "display_name": "Python 3",
   "language": "python",
   "name": "python3"
  },
  "language_info": {
   "codemirror_mode": {
    "name": "ipython",
    "version": 3
   },
   "file_extension": ".py",
   "mimetype": "text/x-python",
   "name": "python",
   "nbconvert_exporter": "python",
   "pygments_lexer": "ipython3",
   "version": "3.6.9"
  }
 },
 "nbformat": 4,
 "nbformat_minor": 2
}
