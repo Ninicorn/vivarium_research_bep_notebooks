{
 "cells": [
  {
   "cell_type": "code",
   "execution_count": 39,
   "metadata": {},
   "outputs": [
    {
     "name": "stdout",
     "output_type": "stream",
     "text": [
      "Tue Feb  4 20:20:03 PST 2020\n",
      "The autoreload extension is already loaded. To reload it, use:\n",
      "  %reload_ext autoreload\n"
     ]
    }
   ],
   "source": [
    "import numpy as np, matplotlib.pyplot as plt, pandas as pd\n",
    "pd.set_option('display.max_rows', 8)\n",
    "!date\n",
    "\n",
    "%load_ext autoreload\n",
    "%autoreload 2"
   ]
  },
  {
   "cell_type": "markdown",
   "metadata": {},
   "source": [
    "# Test loading of BEP Artifact\n",
    "\n",
    "From /share/costeffectiveness/artifacts/vivarium_gates_bep/"
   ]
  },
  {
   "cell_type": "code",
   "execution_count": 25,
   "metadata": {},
   "outputs": [
    {
     "name": "stdout",
     "output_type": "stream",
     "text": [
      "/ihme/costeffectiveness/artifacts/vivarium_gates_bep\n",
      "total 1.4G\n",
      "-rw-rw-r--  1 collijk Domain Users        336M Feb  3 21:34 pakistan.hdf\n",
      "-rw-rw-r--  1 collijk Domain Users        336M Feb  3 21:34 tanzania.hdf\n",
      "-rw-rw-r--  1 collijk Domain Users        335M Feb  3 21:30 mali.hdf\n",
      "drwxrwxr-x  3 kjells  Domain Users        2.5K Feb  3 21:23 .\n",
      "-rw-rw-r--  1 collijk Domain Users        336M Feb  3 17:57 india.hdf\n",
      "drwxr-xr-x  2 collijk Domain Users        2.0K Feb  3 17:17 logs\n",
      "drwxrwxr-x 25 collijk ihme-cost-eff-micro  12K Jan 20 18:40 ..\n"
     ]
    }
   ],
   "source": [
    "%cd /share/costeffectiveness/artifacts/vivarium_gates_bep/\n",
    "!ls -halt"
   ]
  },
  {
   "cell_type": "code",
   "execution_count": 28,
   "metadata": {},
   "outputs": [
    {
     "ename": "ImportError",
     "evalue": "cannot import name 'Artifact'",
     "output_type": "error",
     "traceback": [
      "\u001b[0;31m---------------------------------------------------------------------------\u001b[0m",
      "\u001b[0;31mImportError\u001b[0m                               Traceback (most recent call last)",
      "\u001b[0;32m<ipython-input-28-53cfcfc01602>\u001b[0m in \u001b[0;36m<module>\u001b[0;34m\u001b[0m\n\u001b[0;32m----> 1\u001b[0;31m \u001b[0;32mfrom\u001b[0m \u001b[0mvivarium\u001b[0m \u001b[0;32mimport\u001b[0m \u001b[0mArtifact\u001b[0m\u001b[0;34m\u001b[0m\u001b[0;34m\u001b[0m\u001b[0m\n\u001b[0m",
      "\u001b[0;31mImportError\u001b[0m: cannot import name 'Artifact'"
     ]
    }
   ],
   "source": [
    "#from vivarium import Artifact"
   ]
  },
  {
   "cell_type": "code",
   "execution_count": 50,
   "metadata": {},
   "outputs": [],
   "source": [
    "from vivarium_public_health.dataset_manager import Artifact"
   ]
  },
  {
   "cell_type": "code",
   "execution_count": 62,
   "metadata": {},
   "outputs": [],
   "source": [
    "tanart_u2 = Artifact('tanzania.hdf',\n",
    "               filter_terms=['draw == 0', 'year_start > 2005', 'age_start <= 2'])"
   ]
  },
  {
   "cell_type": "code",
   "execution_count": 52,
   "metadata": {},
   "outputs": [],
   "source": [
    "tanart_u1 = Artifact('tanzania.hdf',\n",
    "               filter_terms=['draw == 0', 'year_start > 2005', 'age_start <= 1'])"
   ]
  },
  {
   "cell_type": "code",
   "execution_count": 53,
   "metadata": {},
   "outputs": [],
   "source": [
    "tanart_u6mn = Artifact('tanzania.hdf',\n",
    "               filter_terms=['draw == 0', 'year_start > 2005', 'age_start <= 0.5'])"
   ]
  },
  {
   "cell_type": "code",
   "execution_count": 65,
   "metadata": {},
   "outputs": [],
   "source": [
    "tanart_u1mn = Artifact('tanzania.hdf',\n",
    "               filter_terms=['draw == 0', 'year_start > 2005', 'age_start <= 0.0833'])"
   ]
  },
  {
   "cell_type": "code",
   "execution_count": 66,
   "metadata": {},
   "outputs": [],
   "source": [
    "tanart_u7dy = Artifact('tanzania.hdf',\n",
    "               filter_terms=['draw == 0', 'year_start > 2005', 'age_start <= 0.02'])"
   ]
  },
  {
   "cell_type": "code",
   "execution_count": 58,
   "metadata": {},
   "outputs": [
    {
     "name": "stdout",
     "output_type": "stream",
     "text": [
      "Artifact containing the following keys:\n",
      "metadata\n",
      "\tkeyspace\n",
      "\tlocations\n",
      "population\n",
      "\tstructure\n",
      "\tage_bins\n",
      "\tdemographic_dimensions\n",
      "\ttheoretical_minimum_risk_life_expectancy\n",
      "cause\n",
      "\tall_causes\n",
      "\t\tcause_specific_mortality_rate\n",
      "\tdiarrheal_diseases\n",
      "\t\tprevalence\n",
      "\t\tincidence_rate\n",
      "\t\tremission_rate\n",
      "\t\tcause_specific_mortality_rate\n",
      "\t\texcess_mortality_rate\n",
      "\t\tdisability_weight\n",
      "\t\trestrictions\n",
      "\tmeasles\n",
      "\t\tprevalence\n",
      "\t\tincidence_rate\n",
      "\t\tcause_specific_mortality_rate\n",
      "\t\texcess_mortality_rate\n",
      "\t\tdisability_weight\n",
      "\t\trestrictions\n",
      "\tlower_respiratory_infections\n",
      "\t\tprevalence\n",
      "\t\tincidence_rate\n",
      "\t\tremission_rate\n",
      "\t\tcause_specific_mortality_rate\n",
      "\t\texcess_mortality_rate\n",
      "\t\tdisability_weight\n",
      "\t\trestrictions\n",
      "\tmeningitis\n",
      "\t\tprevalence\n",
      "\t\tincidence_rate\n",
      "\t\tremission_rate\n",
      "\t\tcause_specific_mortality_rate\n",
      "\t\texcess_mortality_rate\n",
      "\t\tdisability_weight\n",
      "\t\trestrictions\n",
      "\tprotein_energy_malnutrition\n",
      "\t\tcause_specific_mortality_rate\n",
      "\t\texcess_mortality_rate\n",
      "\t\tdisability_weight\n",
      "\t\trestrictions\n",
      "\tneonatal_disorders\n",
      "\t\tcause_specific_mortality_rate\n",
      "\t\tprevalence\n",
      "\t\tbirth_prevalence\n",
      "\t\texcess_mortality_rate\n",
      "\t\tdisability_weight\n",
      "\t\trestrictions\n",
      "risk_factor\n",
      "\tchild_wasting\n",
      "\t\tdistribution\n",
      "\t\tcategories\n",
      "\t\trelative_risk\n",
      "\t\tpopulation_attributable_fraction\n",
      "\tchild_stunting\n",
      "\t\tdistribution\n",
      "\t\tcategories\n",
      "\t\trelative_risk\n",
      "\t\tpopulation_attributable_fraction\n",
      "\tlow_birth_weight_and_short_gestation\n",
      "\t\tdistribution\n",
      "\t\tcategories\n",
      "alternative_risk_factor\n",
      "\tchild_wasting\n",
      "\t\tdistribution\n",
      "\t\texposure\n",
      "\t\texposure_standard_deviation\n",
      "\t\texposure_distribution_weights\n",
      "\tchild_stunting\n",
      "\t\tdistribution\n",
      "\t\texposure\n",
      "\t\texposure_standard_deviation\n",
      "\t\texposure_distribution_weights\n",
      "\n"
     ]
    }
   ],
   "source": [
    "print(tanart_u5)"
   ]
  },
  {
   "cell_type": "code",
   "execution_count": 33,
   "metadata": {},
   "outputs": [
    {
     "data": {
      "text/plain": [
       "[EntityKey(metadata.keyspace),\n",
       " EntityKey(metadata.locations),\n",
       " EntityKey(population.structure),\n",
       " EntityKey(population.age_bins),\n",
       " EntityKey(population.demographic_dimensions),\n",
       " EntityKey(population.theoretical_minimum_risk_life_expectancy),\n",
       " EntityKey(cause.all_causes.cause_specific_mortality_rate),\n",
       " EntityKey(cause.diarrheal_diseases.prevalence),\n",
       " EntityKey(cause.diarrheal_diseases.incidence_rate),\n",
       " EntityKey(cause.diarrheal_diseases.remission_rate),\n",
       " EntityKey(cause.diarrheal_diseases.cause_specific_mortality_rate),\n",
       " EntityKey(cause.diarrheal_diseases.excess_mortality_rate),\n",
       " EntityKey(cause.diarrheal_diseases.disability_weight),\n",
       " EntityKey(cause.diarrheal_diseases.restrictions),\n",
       " EntityKey(cause.measles.prevalence),\n",
       " EntityKey(cause.measles.incidence_rate),\n",
       " EntityKey(cause.measles.cause_specific_mortality_rate),\n",
       " EntityKey(cause.measles.excess_mortality_rate),\n",
       " EntityKey(cause.measles.disability_weight),\n",
       " EntityKey(cause.measles.restrictions),\n",
       " EntityKey(cause.lower_respiratory_infections.prevalence),\n",
       " EntityKey(cause.lower_respiratory_infections.incidence_rate),\n",
       " EntityKey(cause.lower_respiratory_infections.remission_rate),\n",
       " EntityKey(cause.lower_respiratory_infections.cause_specific_mortality_rate),\n",
       " EntityKey(cause.lower_respiratory_infections.excess_mortality_rate),\n",
       " EntityKey(cause.lower_respiratory_infections.disability_weight),\n",
       " EntityKey(cause.lower_respiratory_infections.restrictions),\n",
       " EntityKey(cause.meningitis.prevalence),\n",
       " EntityKey(cause.meningitis.incidence_rate),\n",
       " EntityKey(cause.meningitis.remission_rate),\n",
       " EntityKey(cause.meningitis.cause_specific_mortality_rate),\n",
       " EntityKey(cause.meningitis.excess_mortality_rate),\n",
       " EntityKey(cause.meningitis.disability_weight),\n",
       " EntityKey(cause.meningitis.restrictions),\n",
       " EntityKey(cause.protein_energy_malnutrition.cause_specific_mortality_rate),\n",
       " EntityKey(cause.protein_energy_malnutrition.excess_mortality_rate),\n",
       " EntityKey(cause.protein_energy_malnutrition.disability_weight),\n",
       " EntityKey(cause.protein_energy_malnutrition.restrictions),\n",
       " EntityKey(cause.neonatal_disorders.cause_specific_mortality_rate),\n",
       " EntityKey(cause.neonatal_disorders.prevalence),\n",
       " EntityKey(cause.neonatal_disorders.birth_prevalence),\n",
       " EntityKey(cause.neonatal_disorders.excess_mortality_rate),\n",
       " EntityKey(cause.neonatal_disorders.disability_weight),\n",
       " EntityKey(cause.neonatal_disorders.restrictions),\n",
       " EntityKey(risk_factor.child_wasting.distribution),\n",
       " EntityKey(alternative_risk_factor.child_wasting.distribution),\n",
       " EntityKey(risk_factor.child_wasting.categories),\n",
       " EntityKey(alternative_risk_factor.child_wasting.exposure),\n",
       " EntityKey(alternative_risk_factor.child_wasting.exposure_standard_deviation),\n",
       " EntityKey(alternative_risk_factor.child_wasting.exposure_distribution_weights),\n",
       " EntityKey(risk_factor.child_wasting.relative_risk),\n",
       " EntityKey(risk_factor.child_wasting.population_attributable_fraction),\n",
       " EntityKey(risk_factor.child_stunting.distribution),\n",
       " EntityKey(alternative_risk_factor.child_stunting.distribution),\n",
       " EntityKey(risk_factor.child_stunting.categories),\n",
       " EntityKey(alternative_risk_factor.child_stunting.exposure),\n",
       " EntityKey(alternative_risk_factor.child_stunting.exposure_standard_deviation),\n",
       " EntityKey(alternative_risk_factor.child_stunting.exposure_distribution_weights),\n",
       " EntityKey(risk_factor.child_stunting.relative_risk),\n",
       " EntityKey(risk_factor.child_stunting.population_attributable_fraction),\n",
       " EntityKey(risk_factor.low_birth_weight_and_short_gestation.distribution),\n",
       " EntityKey(risk_factor.low_birth_weight_and_short_gestation.categories)]"
      ]
     },
     "execution_count": 33,
     "metadata": {},
     "output_type": "execute_result"
    }
   ],
   "source": [
    "art.keys"
   ]
  },
  {
   "cell_type": "code",
   "execution_count": 59,
   "metadata": {},
   "outputs": [
    {
     "name": "stdout",
     "output_type": "stream",
     "text": [
      "                                                               value\n",
      "location sex    age_start age_end  year_start year_end              \n",
      "Tanzania Female 0.0       0.019178 2006       2007      15721.847628\n",
      "                                   2007       2008      16077.666461\n",
      "                                   2008       2009      16445.882966\n",
      "                                   2009       2010      16803.275543\n",
      "                                   2010       2011      17160.589920\n"
     ]
    }
   ],
   "source": [
    "pop_u5 = tanart_u5.load('population.structure')\n",
    "print(pop_u5.head())"
   ]
  },
  {
   "cell_type": "code",
   "execution_count": 63,
   "metadata": {},
   "outputs": [
    {
     "name": "stdout",
     "output_type": "stream",
     "text": [
      "                                                         draw_0\n",
      "location sex    age_start age_end  year_start year_end         \n",
      "Tanzania Female 0.0       0.019178 2006       2007      0.13950\n",
      "                                   2007       2008      0.14035\n",
      "                                   2008       2009      0.14450\n",
      "                                   2009       2010      0.14060\n",
      "                                   2010       2011      0.14110\n"
     ]
    }
   ],
   "source": [
    "neonateprev_u5 = art_u5.load('cause.neonatal_disorders.prevalence')\n",
    "print(neonateprev_u5.head())"
   ]
  },
  {
   "cell_type": "code",
   "execution_count": 60,
   "metadata": {},
   "outputs": [
    {
     "name": "stdout",
     "output_type": "stream",
     "text": [
      "                                                         draw_0\n",
      "location sex    age_start age_end  year_start year_end         \n",
      "Tanzania Female 0.0       0.019178 2006       2007      0.13950\n",
      "                                   2007       2008      0.14035\n",
      "                                   2008       2009      0.14450\n",
      "                                   2009       2010      0.14060\n",
      "                                   2010       2011      0.14110\n"
     ]
    }
   ],
   "source": [
    "neonateprev_u1mn = tanart_u1mn.load('cause.neonatal_disorders.prevalence')\n",
    "print(neonateprev_u1mn.head())"
   ]
  },
  {
   "cell_type": "code",
   "execution_count": null,
   "metadata": {},
   "outputs": [],
   "source": []
  },
  {
   "cell_type": "code",
   "execution_count": 64,
   "metadata": {},
   "outputs": [
    {
     "name": "stdout",
     "output_type": "stream",
     "text": [
      "                                       draw_0\n",
      "location sex    year_start year_end          \n",
      "Tanzania Female 2006       2007      0.164998\n",
      "                2007       2008      0.165507\n",
      "                2008       2009      0.166142\n",
      "                2009       2010      0.166646\n",
      "                2010       2011      0.166753\n"
     ]
    }
   ],
   "source": [
    "neonatebirthprev_u5 = art_u5.load('cause.neonatal_disorders.birth_prevalence')\n",
    "print(neonatebirthprev_u5.head())"
   ]
  },
  {
   "cell_type": "code",
   "execution_count": null,
   "metadata": {},
   "outputs": [],
   "source": [
    "neonatebirthprev_u2 = tanart_u2 .load('risk_factor.child_wasting.distribution')\n",
    "print(neonatebirthprev_u5.head())"
   ]
  },
  {
   "cell_type": "code",
   "execution_count": null,
   "metadata": {},
   "outputs": [],
   "source": []
  },
  {
   "cell_type": "code",
   "execution_count": null,
   "metadata": {},
   "outputs": [],
   "source": []
  },
  {
   "cell_type": "code",
   "execution_count": 40,
   "metadata": {},
   "outputs": [],
   "source": [
    "import seaborn as sns"
   ]
  },
  {
   "cell_type": "code",
   "execution_count": 41,
   "metadata": {
    "scrolled": false
   },
   "outputs": [
    {
     "data": {
      "text/plain": [
       "Text(-5.949999999999996, 0.5, 'Birth Prevalence (per 1.0)')"
      ]
     },
     "execution_count": 41,
     "metadata": {},
     "output_type": "execute_result"
    },
    {
     "data": {
      "image/png": "[encoded data removed]",
      "text/plain": [
       "<Figure size 432x216 with 1 Axes>"
      ]
     },
     "metadata": {
      "needs_background": "light"
     },
     "output_type": "display_data"
    }
   ],
   "source": [
    "df = art_u5.load('cause.neonatal_disorders.birth_prevalence').reset_index()\n",
    "g = sns.FacetGrid(df, hue='sex', aspect=2)\n",
    "g.map(plt.plot, 'year_start', 'draw_0')\n",
    "plt.legend()\n",
    "plt.axis(ymin=0)\n",
    "plt.ylabel('Birth Prevalence (per 1.0)')"
   ]
  },
  {
   "cell_type": "code",
   "execution_count": 44,
   "metadata": {},
   "outputs": [
    {
     "name": "stdout",
     "output_type": "stream",
     "text": [
      "                                                        draw_0\n",
      "location sex    age_start age_end  year_start year_end        \n",
      "Tanzania Female 0.0       0.019178 2006       2007         0.0\n",
      "                                   2007       2008         0.0\n",
      "                                   2008       2009         0.0\n",
      "                                   2009       2010         0.0\n",
      "                                   2010       2011         0.0\n"
     ]
    }
   ],
   "source": [
    "csmr_pem_u5 = art.load('cause.protein_energy_malnutrition.cause_specific_mortality_rate')\n",
    "print(csmr_pem_u5.head())"
   ]
  },
  {
   "cell_type": "code",
   "execution_count": null,
   "metadata": {},
   "outputs": [],
   "source": [
    "csmr_pem_u5 = art.load('cause.protein_energy_malnutrition.cause_specific_mortality_rate')\n",
    "print(csmr_pem_u5.head())"
   ]
  },
  {
   "cell_type": "code",
   "execution_count": 23,
   "metadata": {},
   "outputs": [
    {
     "name": "stdout",
     "output_type": "stream",
     "text": [
      "total 12K\r\n",
      "drwxr-xr-x 2 kjells Domain Users 3.5K Jan  7 12:38 2019_12_31_16_22_19\r\n",
      "drwxr-xr-x 3 kjells Domain Users  512 Jan  2 09:52 .\r\n",
      "drwxrwxr-x 3 kjells Domain Users  512 Jan  2 09:52 ..\r\n"
     ]
    }
   ],
   "source": [
    "!ls -halt /share/costeffectiveness/results/vivarium_gates_bep/model_1_v_and_v/india/"
   ]
  },
  {
   "cell_type": "code",
   "execution_count": 25,
   "metadata": {},
   "outputs": [
    {
     "name": "stdout",
     "output_type": "stream",
     "text": [
      "total 72M\n",
      "drwxr-xr-x  5 collijk  Domain Users 2.0K Feb  2 12:53 data\n",
      "drwxr-xr-x  9 collijk  Domain Users 4.0K Feb  2 11:30 .\n",
      "drwxr-xr-x  4 collijk  Domain Users 3.0K Feb  2 11:26 lbwsg_controller\n",
      "drwxr-xr-x  3 collijk  Domain Users 196K Feb  2 02:58 old_tables_pickles\n",
      "drwxr-xr-x  3 collijk  Domain Users 196K Feb  2 02:40 new_tables_pickles\n",
      "drwxr-xr-x 52 collijk  Domain Users  26K Feb  1 17:51 miniconda3\n",
      "drwxr-xr-x  4 collijk  Domain Users 2.5K Feb  1 16:45 lbwsg\n",
      "drwx------  2 collijk  Domain Users  512 Feb  1 16:35 .cph_tmp9pswq00m\n",
      "-rwxr-x---  1 collijk  Domain Users  72M Feb  1 16:23 Miniconda3-latest-Linux-x86_64.sh\n",
      "drwxrwxrwx 18 emumford Domain Users 9.0K Feb  1 16:23 ..\n"
     ]
    }
   ],
   "source": [
    "!ls -halt /share/costeffectiveness/lbwsg_new"
   ]
  },
  {
   "cell_type": "code",
   "execution_count": null,
   "metadata": {},
   "outputs": [],
   "source": []
  },
  {
   "cell_type": "code",
   "execution_count": null,
   "metadata": {},
   "outputs": [],
   "source": []
  },
  {
   "cell_type": "code",
   "execution_count": null,
   "metadata": {},
   "outputs": [],
   "source": []
  },
  {
   "cell_type": "code",
   "execution_count": null,
   "metadata": {},
   "outputs": [],
   "source": []
  },
  {
   "cell_type": "code",
   "execution_count": null,
   "metadata": {},
   "outputs": [],
   "source": []
  },
  {
   "cell_type": "code",
   "execution_count": null,
   "metadata": {},
   "outputs": [],
   "source": []
  },
  {
   "cell_type": "code",
   "execution_count": null,
   "metadata": {},
   "outputs": [],
   "source": []
  },
  {
   "cell_type": "code",
   "execution_count": null,
   "metadata": {},
   "outputs": [],
   "source": []
  },
  {
   "cell_type": "code",
   "execution_count": null,
   "metadata": {},
   "outputs": [],
   "source": []
  },
  {
   "cell_type": "code",
   "execution_count": null,
   "metadata": {},
   "outputs": [],
   "source": []
  },
  {
   "cell_type": "code",
   "execution_count": null,
   "metadata": {},
   "outputs": [],
   "source": []
  },
  {
   "cell_type": "code",
   "execution_count": null,
   "metadata": {},
   "outputs": [],
   "source": []
  },
  {
   "cell_type": "code",
   "execution_count": null,
   "metadata": {},
   "outputs": [],
   "source": []
  },
  {
   "cell_type": "code",
   "execution_count": null,
   "metadata": {},
   "outputs": [],
   "source": []
  }
 ],
 "metadata": {
  "kernelspec": {
   "display_name": "Python 3",
   "language": "python",
   "name": "python3"
  },
  "language_info": {
   "codemirror_mode": {
    "name": "ipython",
    "version": 3
   },
   "file_extension": ".py",
   "mimetype": "text/x-python",
   "name": "python",
   "nbconvert_exporter": "python",
   "pygments_lexer": "ipython3",
   "version": "3.6.9"
  }
 },
 "nbformat": 4,
 "nbformat_minor": 2
}
