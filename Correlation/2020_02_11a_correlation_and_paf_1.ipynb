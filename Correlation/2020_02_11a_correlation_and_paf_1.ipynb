{
 "cells": [
  {
   "cell_type": "code",
   "execution_count": 1,
   "metadata": {},
   "outputs": [
    {
     "name": "stdout",
     "output_type": "stream",
     "text": [
      "Tue Feb 11 11:13:42 PST 2020\r\n"
     ]
    }
   ],
   "source": [
    "import numpy as np, matplotlib.pyplot as plt, pandas as pd\n",
    "pd.set_option('display.max_rows', 8)\n",
    "!date\n",
    "\n",
    "%load_ext autoreload\n",
    "%autoreload 2"
   ]
  },
  {
   "cell_type": "code",
   "execution_count": 2,
   "metadata": {},
   "outputs": [],
   "source": [
    "import seaborn as sns\n",
    "import scipy.stats"
   ]
  },
  {
   "cell_type": "markdown",
   "metadata": {},
   "source": [
    "# Gaussian copula to correlation two risk factor exposures\n",
    "\n",
    "And then some investigation of how much error this introduces in the PAF."
   ]
  },
  {
   "cell_type": "code",
   "execution_count": 4,
   "metadata": {
    "scrolled": true
   },
   "outputs": [
    {
     "data": {
      "text/html": [
       "<div>\n",
       "<style scoped>\n",
       "    .dataframe tbody tr th:only-of-type {\n",
       "        vertical-align: middle;\n",
       "    }\n",
       "\n",
       "    .dataframe tbody tr th {\n",
       "        vertical-align: top;\n",
       "    }\n",
       "\n",
       "    .dataframe thead th {\n",
       "        text-align: right;\n",
       "    }\n",
       "</style>\n",
       "<table border=\"1\" class=\"dataframe\">\n",
       "  <thead>\n",
       "    <tr style=\"text-align: right;\">\n",
       "      <th></th>\n",
       "      <th>SBP</th>\n",
       "      <th>LDL-C</th>\n",
       "    </tr>\n",
       "  </thead>\n",
       "  <tbody>\n",
       "    <tr>\n",
       "      <th>0</th>\n",
       "      <td>125.905847</td>\n",
       "      <td>5.723323</td>\n",
       "    </tr>\n",
       "    <tr>\n",
       "      <th>1</th>\n",
       "      <td>139.578867</td>\n",
       "      <td>3.322323</td>\n",
       "    </tr>\n",
       "    <tr>\n",
       "      <th>2</th>\n",
       "      <td>119.611226</td>\n",
       "      <td>3.089911</td>\n",
       "    </tr>\n",
       "    <tr>\n",
       "      <th>3</th>\n",
       "      <td>118.885394</td>\n",
       "      <td>3.845074</td>\n",
       "    </tr>\n",
       "    <tr>\n",
       "      <th>...</th>\n",
       "      <td>...</td>\n",
       "      <td>...</td>\n",
       "    </tr>\n",
       "    <tr>\n",
       "      <th>9996</th>\n",
       "      <td>173.045882</td>\n",
       "      <td>8.809667</td>\n",
       "    </tr>\n",
       "    <tr>\n",
       "      <th>9997</th>\n",
       "      <td>129.865889</td>\n",
       "      <td>5.465636</td>\n",
       "    </tr>\n",
       "    <tr>\n",
       "      <th>9998</th>\n",
       "      <td>105.705538</td>\n",
       "      <td>3.818431</td>\n",
       "    </tr>\n",
       "    <tr>\n",
       "      <th>9999</th>\n",
       "      <td>143.099773</td>\n",
       "      <td>7.605454</td>\n",
       "    </tr>\n",
       "  </tbody>\n",
       "</table>\n",
       "<p>10000 rows × 2 columns</p>\n",
       "</div>"
      ],
      "text/plain": [
       "             SBP     LDL-C\n",
       "0     125.905847  5.723323\n",
       "1     139.578867  3.322323\n",
       "2     119.611226  3.089911\n",
       "3     118.885394  3.845074\n",
       "...          ...       ...\n",
       "9996  173.045882  8.809667\n",
       "9997  129.865889  5.465636\n",
       "9998  105.705538  3.818431\n",
       "9999  143.099773  7.605454\n",
       "\n",
       "[10000 rows x 2 columns]"
      ]
     },
     "execution_count": 4,
     "metadata": {},
     "output_type": "execute_result"
    }
   ],
   "source": [
    "# Simulate for testing purposes\n",
    "\n",
    "N = 10_000  # number of individuals\n",
    "\n",
    "# set random seed for reproducibility\n",
    "np.random.seed(12345)\n",
    "\n",
    "# simulate data (to be replaced with real data, e.g. from NHANES, eventually)\n",
    "df = pd.DataFrame(index=range(N))\n",
    "df['SBP'] = np.random.normal(130, 20, size=N)\n",
    "df['LDL-C'] = np.random.normal(4+(df.SBP-130)/20, 1, size=N)  # intentionally include correlation between SBP and LDL-C\n",
    "df"
   ]
  },
  {
   "cell_type": "code",
   "execution_count": 6,
   "metadata": {
    "scrolled": false
   },
   "outputs": [
    {
     "data": {
      "text/plain": [
       "<seaborn.axisgrid.JointGrid at 0x7f0fd8228f98>"
      ]
     },
     "execution_count": 6,
     "metadata": {},
     "output_type": "execute_result"
    },
    {
     "data": {
      "image/png": "[encoded data removed]",
      "text/plain": [
       "<Figure size 432x432 with 3 Axes>"
      ]
     },
     "metadata": {
      "needs_background": "light"
     },
     "output_type": "display_data"
    }
   ],
   "source": [
    "sns.jointplot(df['SBP'], df['LDL-C'])"
   ]
  },
  {
   "cell_type": "markdown",
   "metadata": {},
   "source": [
    "# What we want from the microdata is simply the Spearman R value, which captures the correlation of birthweight and WHZ as continuous variables"
   ]
  },
  {
   "cell_type": "code",
   "execution_count": 7,
   "metadata": {},
   "outputs": [
    {
     "data": {
      "text/plain": [
       "0.6942625526106255"
      ]
     },
     "execution_count": 7,
     "metadata": {},
     "output_type": "execute_result"
    }
   ],
   "source": [
    "rho, p_val = scipy.stats.spearmanr(df['SBP'], df['LDL-C'])\n",
    "rho"
   ]
  },
  {
   "cell_type": "markdown",
   "metadata": {},
   "source": [
    "# What will we use that for?\n",
    "\n",
    "We will generate a multivariate normal with that rho, and then use that to generate a distribution that is marginally uniform, but with that rho, and then use that to generate a distribution that in its margins matches the SPB and LDL-C from GBD, but also has Spearman correlation rho:"
   ]
  },
  {
   "cell_type": "code",
   "execution_count": 8,
   "metadata": {},
   "outputs": [
    {
     "data": {
      "text/plain": [
       "0.6797538355495384"
      ]
     },
     "execution_count": 8,
     "metadata": {},
     "output_type": "execute_result"
    },
    {
     "data": {
      "image/png": "[encoded data removed]",
      "text/plain": [
       "<Figure size 432x432 with 3 Axes>"
      ]
     },
     "metadata": {
      "needs_background": "light"
     },
     "output_type": "display_data"
    }
   ],
   "source": [
    "probit_propensity = np.random.multivariate_normal([0,0], [[1, rho],\n",
    "                                                         [rho, 1]], size=N)\n",
    "sns.jointplot(probit_propensity[:,0], probit_propensity[:,1])\n",
    "rho, p_val = scipy.stats.spearmanr(probit_propensity[:,0], probit_propensity[:,1])\n",
    "rho"
   ]
  },
  {
   "cell_type": "code",
   "execution_count": 9,
   "metadata": {},
   "outputs": [
    {
     "data": {
      "text/plain": [
       "0.6797538355495384"
      ]
     },
     "execution_count": 9,
     "metadata": {},
     "output_type": "execute_result"
    },
    {
     "data": {
      "image/png": "[encoded data removed]",
      "text/plain": [
       "<Figure size 432x432 with 3 Axes>"
      ]
     },
     "metadata": {
      "needs_background": "light"
     },
     "output_type": "display_data"
    }
   ],
   "source": [
    "propensity = scipy.stats.norm().cdf(probit_propensity)\n",
    "sns.jointplot(propensity[:,0], propensity[:,1])\n",
    "rho, p_val = scipy.stats.spearmanr(propensity[:,0], propensity[:,1])\n",
    "rho"
   ]
  },
  {
   "cell_type": "code",
   "execution_count": 10,
   "metadata": {},
   "outputs": [],
   "source": [
    "# HACK: instead of loading marginals from GBD, I'm going to re-use the ones\n",
    "# I synthesized above\n",
    "\n",
    "exposure1_vals = df['SBP'].sort_values().values\n",
    "exposure2_vals = df['LDL-C'].sort_values().values\n",
    "\n",
    "def exposure1_from_propensity(p):\n",
    "    p = np.array(p)\n",
    "    i = np.array(np.floor(p*len(exposure1_vals)), dtype=int)\n",
    "    return exposure1_vals[i]\n",
    "\n",
    "def exposure2_from_propensity(p):\n",
    "    p = np.array(p)\n",
    "    i = np.array(np.floor(p*len(exposure2_vals)), dtype=int)\n",
    "    return exposure2_vals[i]\n"
   ]
  },
  {
   "cell_type": "code",
   "execution_count": 11,
   "metadata": {},
   "outputs": [
    {
     "data": {
      "text/html": [
       "<div>\n",
       "<style scoped>\n",
       "    .dataframe tbody tr th:only-of-type {\n",
       "        vertical-align: middle;\n",
       "    }\n",
       "\n",
       "    .dataframe tbody tr th {\n",
       "        vertical-align: top;\n",
       "    }\n",
       "\n",
       "    .dataframe thead th {\n",
       "        text-align: right;\n",
       "    }\n",
       "</style>\n",
       "<table border=\"1\" class=\"dataframe\">\n",
       "  <thead>\n",
       "    <tr style=\"text-align: right;\">\n",
       "      <th></th>\n",
       "      <th>SBP</th>\n",
       "      <th>LDL-C</th>\n",
       "    </tr>\n",
       "  </thead>\n",
       "  <tbody>\n",
       "    <tr>\n",
       "      <th>0</th>\n",
       "      <td>134.011378</td>\n",
       "      <td>5.192848</td>\n",
       "    </tr>\n",
       "    <tr>\n",
       "      <th>1</th>\n",
       "      <td>116.002529</td>\n",
       "      <td>3.155872</td>\n",
       "    </tr>\n",
       "    <tr>\n",
       "      <th>2</th>\n",
       "      <td>120.862054</td>\n",
       "      <td>1.630903</td>\n",
       "    </tr>\n",
       "    <tr>\n",
       "      <th>3</th>\n",
       "      <td>110.848538</td>\n",
       "      <td>2.214022</td>\n",
       "    </tr>\n",
       "    <tr>\n",
       "      <th>...</th>\n",
       "      <td>...</td>\n",
       "      <td>...</td>\n",
       "    </tr>\n",
       "    <tr>\n",
       "      <th>9996</th>\n",
       "      <td>91.988864</td>\n",
       "      <td>3.282778</td>\n",
       "    </tr>\n",
       "    <tr>\n",
       "      <th>9997</th>\n",
       "      <td>90.701909</td>\n",
       "      <td>1.307473</td>\n",
       "    </tr>\n",
       "    <tr>\n",
       "      <th>9998</th>\n",
       "      <td>122.352818</td>\n",
       "      <td>4.338779</td>\n",
       "    </tr>\n",
       "    <tr>\n",
       "      <th>9999</th>\n",
       "      <td>136.862764</td>\n",
       "      <td>3.626774</td>\n",
       "    </tr>\n",
       "  </tbody>\n",
       "</table>\n",
       "<p>10000 rows × 2 columns</p>\n",
       "</div>"
      ],
      "text/plain": [
       "             SBP     LDL-C\n",
       "0     134.011378  5.192848\n",
       "1     116.002529  3.155872\n",
       "2     120.862054  1.630903\n",
       "3     110.848538  2.214022\n",
       "...          ...       ...\n",
       "9996   91.988864  3.282778\n",
       "9997   90.701909  1.307473\n",
       "9998  122.352818  4.338779\n",
       "9999  136.862764  3.626774\n",
       "\n",
       "[10000 rows x 2 columns]"
      ]
     },
     "execution_count": 11,
     "metadata": {},
     "output_type": "execute_result"
    }
   ],
   "source": [
    "# now map from propensity to value\n",
    "df_synthetic = pd.DataFrame(index=range(N))\n",
    "df_synthetic['SBP'] = exposure1_from_propensity(propensity[:,0])\n",
    "df_synthetic['LDL-C'] = exposure2_from_propensity(propensity[:,1])\n",
    "df_synthetic"
   ]
  },
  {
   "cell_type": "code",
   "execution_count": 12,
   "metadata": {},
   "outputs": [
    {
     "data": {
      "text/plain": [
       "0.6797565466113832"
      ]
     },
     "execution_count": 12,
     "metadata": {},
     "output_type": "execute_result"
    },
    {
     "data": {
      "image/png": "[encoded data removed]",
      "text/plain": [
       "<Figure size 432x432 with 3 Axes>"
      ]
     },
     "metadata": {
      "needs_background": "light"
     },
     "output_type": "display_data"
    }
   ],
   "source": [
    "sns.jointplot(df_synthetic['SBP'], df_synthetic['LDL-C'])\n",
    "rho, p_val = scipy.stats.spearmanr(df_synthetic['SBP'], df_synthetic['LDL-C'])\n",
    "rho"
   ]
  },
  {
   "cell_type": "markdown",
   "metadata": {},
   "source": [
    "# The anticipated problem with this approach: how does correlation affect the joint PAF?\n",
    "\n",
    "This is not relevant to the material above---using the Gaussian Copula to capture the correlation between risk-factor exposure will be fine.  The problem is when we then layer at RiskEffect component into our model, to make the risk have a effect on the incidence or mortality rate of our cause model.  Without loss of generality, suppose the risk effect will change the incidence of first MI.\n",
    "\n",
    "We have traditionally handled this by calculating a risk-deleted incidence:\n",
    "$$\n",
    "i_0 = \\left(1-\\text{PAF}\\right) \\cdot i_{\\text{GBD}}\n",
    "$$\n",
    "\n",
    "If we _just_ include one risk effect, I think we're still ok, even with correlation.  But if we have two risk effects, we have previously used assumption\n",
    "$$\n",
    "1 - \\text{PAF}_{\\text{joint}} = \\left(1 - \\text{PAF}_{\\text{SBP}}\\right)\\cdot\\left(1 - \\text{PAF}_{\\text{LDL-C}}\\right).\n",
    "$$\n",
    "\n",
    "The more correlated the risk exposure, the more wrong this assumption.\n",
    "\n",
    "I propose we continue to assume that the relative risks have a \"log linear\" relationship with incidence:\n",
    "$$\n",
    "i_{e_1, e_2} = i_0 \\cdot \\left(\\text{RR}_1\\right)^{e_1}\\cdot \\left(\\text{RR}_2\\right)^{e_2},\n",
    "$$\n",
    "where I have written $e_1$ and $e_2$ as \"standardized\" exposures, after scaling and shifting so that the TMREL is 0.0 and a one unit increment gives the relative increase in disease burden reported by GBD.\n"
   ]
  },
  {
   "cell_type": "markdown",
   "metadata": {},
   "source": [
    "With the log-linear assumption, we can calculate the PAF from first principles as a double integral (below $p_{e_1,e_2}$ denotes the joint probability density of exposure level $(e_1,e_2)$ in the population:\n",
    "\n",
    "\\begin{align*}\n",
    "i_{\\text{GBD}} &= \\int_{e_1} \\int_{e_2} i_{e_1, e_2} p_{e_1,e_2} de_1 de_2\\\\\n",
    "&= \\int_{e_1} \\int_{e_2} i_0 \\cdot \\left(\\text{RR}_1\\right)^{e_1}\\cdot \\left(\\text{RR}_2\\right)^{e_2}\n",
    "p_{e_1,e_2} de_1 de_2\\\\\n",
    "&= \\int_{e_1} \\int_{e_2} \\left(1-\\text{PAF}\\right) \\cdot i_{\\text{GBD}} \\cdot \\left(\\text{RR}_1\\right)^{e_1}\\cdot \\left(\\text{RR}_2\\right)^{e_2}\n",
    "p_{e_1,e_2} de_1 de_2\\\\\n",
    "\\end{align*}\n",
    "\n",
    "Dividing through and cancelling terms yields a solution:\n",
    "$$\n",
    "\\frac{1}{1-\\text{PAF}} = \\int_{e_1} \\int_{e_2} \\left(\\text{RR}_1\\right)^{e_1}\\cdot \\left(\\text{RR}_2\\right)^{e_2}\n",
    "p_{e_1,e_2} de_1 de_2,\n",
    "$$"
   ]
  },
  {
   "cell_type": "code",
   "execution_count": 17,
   "metadata": {},
   "outputs": [
    {
     "data": {
      "text/plain": [
       "0.2876599133890043"
      ]
     },
     "execution_count": 17,
     "metadata": {},
     "output_type": "execute_result"
    }
   ],
   "source": [
    "# there are lots of ways to approximate this integral, but here is a cool one:\n",
    "rr_1 = 1.1\n",
    "rr_2 = 1.3\n",
    "\n",
    "e1 = np.clip((df['SBP'] - 120)/10, 0, np.inf)  # rescale exposures \n",
    "e2 = np.clip((df['LDL-C'] - 4), 0, np.inf)\n",
    "\n",
    "one_over_one_minus_paf = np.mean(rr_1**e1 * rr_2**e2)\n",
    "paf = 1 - 1/(one_over_one_minus_paf)\n",
    "paf"
   ]
  },
  {
   "cell_type": "code",
   "execution_count": 20,
   "metadata": {},
   "outputs": [
    {
     "data": {
      "text/plain": [
       "0.26991555474806306"
      ]
     },
     "execution_count": 20,
     "metadata": {},
     "output_type": "execute_result"
    }
   ],
   "source": [
    "# how does this compare to multiplicative approx of paf?\n",
    "ooomp_1 = np.mean(rr_1**e1)\n",
    "paf_1 = 1 - 1/ooomp_1\n",
    "\n",
    "ooomp_2 = np.mean(rr_2**e2)\n",
    "paf_2 = 1 - 1/ooomp_2\n",
    "\n",
    "1 - (1 - paf_1) * (1 - paf_2)"
   ]
  },
  {
   "cell_type": "code",
   "execution_count": null,
   "metadata": {},
   "outputs": [],
   "source": []
  },
  {
   "cell_type": "code",
   "execution_count": null,
   "metadata": {},
   "outputs": [],
   "source": []
  },
  {
   "cell_type": "code",
   "execution_count": null,
   "metadata": {},
   "outputs": [],
   "source": []
  },
  {
   "cell_type": "code",
   "execution_count": null,
   "metadata": {},
   "outputs": [],
   "source": []
  },
  {
   "cell_type": "code",
   "execution_count": null,
   "metadata": {},
   "outputs": [],
   "source": []
  },
  {
   "cell_type": "code",
   "execution_count": null,
   "metadata": {},
   "outputs": [],
   "source": []
  }
 ],
 "metadata": {
  "kernelspec": {
   "display_name": "vivarium_conic_sqlns",
   "language": "python",
   "name": "vivarium_conic_sqlns"
  },
  "language_info": {
   "codemirror_mode": {
    "name": "ipython",
    "version": 3
   },
   "file_extension": ".py",
   "mimetype": "text/x-python",
   "name": "python",
   "nbconvert_exporter": "python",
   "pygments_lexer": "ipython3",
   "version": "3.6.8"
  }
 },
 "nbformat": 4,
 "nbformat_minor": 2
}
