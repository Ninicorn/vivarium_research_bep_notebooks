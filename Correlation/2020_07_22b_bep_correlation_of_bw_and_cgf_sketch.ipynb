{
 "cells": [
  {
   "cell_type": "code",
   "execution_count": 1,
   "metadata": {},
   "outputs": [
    {
     "data": {
      "text/html": [
       "<style>.container { width:100% !important; }</style>"
      ],
      "text/plain": [
       "<IPython.core.display.HTML object>"
      ]
     },
     "metadata": {},
     "output_type": "display_data"
    }
   ],
   "source": [
    "from IPython.core.display import display, HTML\n",
    "display(HTML(\"<style>.container { width:100% !important; }</style>\")) #makes the display bars longer and spread out 100% across the screen width"
   ]
  },
  {
   "cell_type": "code",
   "execution_count": 1,
   "metadata": {},
   "outputs": [
    {
     "name": "stdout",
     "output_type": "stream",
     "text": [
      "Wed Jul 22 20:58:50 PDT 2020\r\n"
     ]
    }
   ],
   "source": [
    "import numpy as np, matplotlib.pyplot as plt, pandas as pd\n",
    "pd.set_option('display.max_rows', 8)\n",
    "!date\n",
    "\n",
    "%load_ext autoreload\n",
    "%autoreload 2"
   ]
  },
  {
   "cell_type": "markdown",
   "metadata": {},
   "source": [
    "# Sketch of approach to producing correlation between birth weight and child growth failure\n",
    "\n",
    "\n",
    "1. Initialize BW/GA risk factor exposure\n",
    "2. Find BW percentile\n",
    "3. Use BW percentile and specified correlation to find HAZ and WHZ percentiles\n",
    "3. Initialize HAZ and WHZ risk factor exposures"
   ]
  },
  {
   "cell_type": "code",
   "execution_count": 2,
   "metadata": {},
   "outputs": [
    {
     "data": {
      "text/html": [
       "<div>\n",
       "<style scoped>\n",
       "    .dataframe tbody tr th:only-of-type {\n",
       "        vertical-align: middle;\n",
       "    }\n",
       "\n",
       "    .dataframe tbody tr th {\n",
       "        vertical-align: top;\n",
       "    }\n",
       "\n",
       "    .dataframe thead th {\n",
       "        text-align: right;\n",
       "    }\n",
       "</style>\n",
       "<table border=\"1\" class=\"dataframe\">\n",
       "  <thead>\n",
       "    <tr style=\"text-align: right;\">\n",
       "      <th></th>\n",
       "      <th>birth_weight</th>\n",
       "      <th>gestation_time</th>\n",
       "    </tr>\n",
       "  </thead>\n",
       "  <tbody>\n",
       "    <tr>\n",
       "      <th>0</th>\n",
       "      <td>3441.168127</td>\n",
       "      <td>38.378658</td>\n",
       "    </tr>\n",
       "    <tr>\n",
       "      <th>1</th>\n",
       "      <td>3269.610372</td>\n",
       "      <td>39.669186</td>\n",
       "    </tr>\n",
       "    <tr>\n",
       "      <th>2</th>\n",
       "      <td>2523.499470</td>\n",
       "      <td>37.572474</td>\n",
       "    </tr>\n",
       "    <tr>\n",
       "      <th>3</th>\n",
       "      <td>2863.118663</td>\n",
       "      <td>38.259862</td>\n",
       "    </tr>\n",
       "    <tr>\n",
       "      <th>...</th>\n",
       "      <td>...</td>\n",
       "      <td>...</td>\n",
       "    </tr>\n",
       "    <tr>\n",
       "      <th>996</th>\n",
       "      <td>2913.313801</td>\n",
       "      <td>38.899077</td>\n",
       "    </tr>\n",
       "    <tr>\n",
       "      <th>997</th>\n",
       "      <td>3482.568591</td>\n",
       "      <td>35.230923</td>\n",
       "    </tr>\n",
       "    <tr>\n",
       "      <th>998</th>\n",
       "      <td>3049.066484</td>\n",
       "      <td>35.379259</td>\n",
       "    </tr>\n",
       "    <tr>\n",
       "      <th>999</th>\n",
       "      <td>2733.068280</td>\n",
       "      <td>38.497349</td>\n",
       "    </tr>\n",
       "  </tbody>\n",
       "</table>\n",
       "<p>1000 rows × 2 columns</p>\n",
       "</div>"
      ],
      "text/plain": [
       "     birth_weight  gestation_time\n",
       "0     3441.168127       38.378658\n",
       "1     3269.610372       39.669186\n",
       "2     2523.499470       37.572474\n",
       "3     2863.118663       38.259862\n",
       "..            ...             ...\n",
       "996   2913.313801       38.899077\n",
       "997   3482.568591       35.230923\n",
       "998   3049.066484       35.379259\n",
       "999   2733.068280       38.497349\n",
       "\n",
       "[1000 rows x 2 columns]"
      ]
     },
     "execution_count": 2,
     "metadata": {},
     "output_type": "execute_result"
    }
   ],
   "source": [
    "### 1. Initialize birth weight and gestational age attributes for a new simulant\n",
    "###\n",
    "### This is already done acceptably, although we are supposed to document how it\n",
    "### works more clearly.\n",
    "###\n",
    "### For this notebook, I'll just simulate something close enough\n",
    "\n",
    "def initialize_bwga(size):\n",
    "    return pd.DataFrame({\n",
    "                'birth_weight':np.random.uniform(2500, 3500, size),\n",
    "                'gestation_time': np.random.uniform(35, 40, size)\n",
    "                   })\n",
    "pop = initialize_bwga(1_000)\n",
    "pop"
   ]
  },
  {
   "cell_type": "code",
   "execution_count": 3,
   "metadata": {},
   "outputs": [],
   "source": [
    "### 2. Find the percentile of birth_weight\n",
    "###\n",
    "### I propose that we do this empirically, although I am open to\n",
    "### alternatives, so please let me know if there is a better way\n",
    "\n",
    "bw_samples = initialize_bwga(100_000).birth_weight  # generate many samples from the birth_weight distribution\n",
    "def empirical_percentile(x, samples):\n",
    "    return np.mean(x >= samples)\n",
    "\n",
    "pop['birth_weight_percentile'] = pop.birth_weight.apply(empirical_percentile, samples=bw_samples)"
   ]
  },
  {
   "cell_type": "code",
   "execution_count": 4,
   "metadata": {},
   "outputs": [
    {
     "data": {
      "image/png": "[encoded data removed]",
      "text/plain": [
       "<Figure size 432x288 with 1 Axes>"
      ]
     },
     "metadata": {
      "needs_background": "light"
     },
     "output_type": "display_data"
    }
   ],
   "source": [
    "pop.birth_weight_percentile.hist();"
   ]
  },
  {
   "cell_type": "code",
   "execution_count": 5,
   "metadata": {},
   "outputs": [
    {
     "data": {
      "image/png": "[encoded data removed]",
      "text/plain": [
       "<Figure size 432x288 with 1 Axes>"
      ]
     },
     "metadata": {
      "needs_background": "light"
     },
     "output_type": "display_data"
    }
   ],
   "source": [
    "### pop.birth_weight_percentile should be uniformly distributed between 0 and 1\n",
    "### and perfectly correlated with pop.birth_weight\n",
    "plt.plot(pop.birth_weight_percentile, pop.birth_weight, 'o')\n",
    "plt.xlabel('Birth weight percentile (per 1.0)')\n",
    "plt.ylabel('Birth weight (g)');"
   ]
  },
  {
   "cell_type": "markdown",
   "metadata": {},
   "source": [
    "## Use BW percentile and specified correlation to find HAZ and WHZ percentiles\n",
    "\n",
    "1. probit transform birth weight percentile to get birth weight normal\n",
    "2. sample conditional bivariate normal for HAZ normal (conditional on BW normal, with specified correlation\n",
    "3. inverse probit transform HAZ normal to get HAZ percentile (aka \"propensity\")\n",
    "\n",
    "Repeat (2) and (3) for WHZ."
   ]
  },
  {
   "cell_type": "code",
   "execution_count": 6,
   "metadata": {},
   "outputs": [],
   "source": [
    "import scipy.stats"
   ]
  },
  {
   "cell_type": "code",
   "execution_count": 7,
   "metadata": {},
   "outputs": [],
   "source": [
    "pop['birth_weight_probit'] = scipy.stats.norm.ppf(pop.birth_weight_percentile)"
   ]
  },
  {
   "cell_type": "code",
   "execution_count": 8,
   "metadata": {},
   "outputs": [],
   "source": [
    "def conditional_bivariate_normal(a, rho):\n",
    "    # https://en.wikipedia.org/wiki/Multivariate_normal_distribution#Bivariate_case_2    # with mu1 = mu2 = 0 and sigma1 = sigma2 = 1\n",
    "    return np.random.normal(rho*a, np.sqrt((1-rho**2)))\n",
    "pop['haz_probit'] = conditional_bivariate_normal(pop.birth_weight_probit, 0.3)\n",
    "pop['haz_percentile'] = scipy.stats.norm.cdf(pop.haz_probit)"
   ]
  },
  {
   "cell_type": "code",
   "execution_count": 9,
   "metadata": {},
   "outputs": [
    {
     "data": {
      "image/png": "[encoded data removed]",
      "text/plain": [
       "<Figure size 432x288 with 1 Axes>"
      ]
     },
     "metadata": {
      "needs_background": "light"
     },
     "output_type": "display_data"
    }
   ],
   "source": [
    "### pop.birth_weight_probit and pop.haz_probit should be obviously correlated\n",
    "plt.plot(pop.birth_weight_probit, pop.haz_probit, 'o')\n",
    "plt.xlabel('Birth weight probit')\n",
    "plt.ylabel('HAZ probit');"
   ]
  },
  {
   "cell_type": "code",
   "execution_count": 10,
   "metadata": {},
   "outputs": [
    {
     "data": {
      "image/png": "[encoded data removed]",
      "text/plain": [
       "<Figure size 432x288 with 1 Axes>"
      ]
     },
     "metadata": {
      "needs_background": "light"
     },
     "output_type": "display_data"
    }
   ],
   "source": [
    "### pop.birth_weight_percentile and pop.haz_percentile should be correlated, too,\n",
    "### although perhaps harder to see\n",
    "plt.plot(pop.birth_weight_percentile, pop.haz_percentile, 'o')\n",
    "plt.xlabel('Birth weight percentile (per 1.0)')\n",
    "plt.ylabel('HAZ percentile (per 1.0)');"
   ]
  },
  {
   "cell_type": "code",
   "execution_count": 11,
   "metadata": {},
   "outputs": [
    {
     "data": {
      "text/plain": [
       "SpearmanrResult(correlation=0.3247255123123373, pvalue=5.478417183757087e-26)"
      ]
     },
     "execution_count": 11,
     "metadata": {},
     "output_type": "execute_result"
    }
   ],
   "source": [
    "# recall that our goal was to produce correlation of 0.3\n",
    "\n",
    "import scipy.stats\n",
    "scipy.stats.spearmanr(pop.birth_weight_percentile, pop.haz_percentile)"
   ]
  },
  {
   "cell_type": "code",
   "execution_count": 12,
   "metadata": {},
   "outputs": [],
   "source": [
    "pop['whz_probit'] = conditional_bivariate_normal(pop.birth_weight_probit, 0.4)  # check with Nicole to get the correct values\n",
    "pop['whz_percentile'] = scipy.stats.norm.cdf(pop.whz_probit)"
   ]
  },
  {
   "cell_type": "code",
   "execution_count": 13,
   "metadata": {},
   "outputs": [
    {
     "data": {
      "text/plain": [
       "SpearmanrResult(correlation=0.3930543279209362, pvalue=2.737075244861103e-38)"
      ]
     },
     "execution_count": 13,
     "metadata": {},
     "output_type": "execute_result"
    }
   ],
   "source": [
    "scipy.stats.spearmanr(pop.birth_weight_percentile, pop.whz_percentile)"
   ]
  },
  {
   "cell_type": "code",
   "execution_count": 14,
   "metadata": {},
   "outputs": [
    {
     "data": {
      "text/plain": [
       "SpearmanrResult(correlation=0.13094599094599096, pvalue=3.272945649516962e-05)"
      ]
     },
     "execution_count": 14,
     "metadata": {},
     "output_type": "execute_result"
    }
   ],
   "source": [
    "### note: correlation of haz and whz both with birth_weight\n",
    "### induces correlation between haz and whz\n",
    "scipy.stats.spearmanr(pop.whz_percentile, pop.haz_percentile)"
   ]
  },
  {
   "cell_type": "code",
   "execution_count": 15,
   "metadata": {},
   "outputs": [],
   "source": [
    "# 3. Initialize HAZ and WHZ risk factor exposures\n",
    "\n",
    "# since we have come up with percentiles for them, this can\n",
    "# proceed as it is already implemented in vivarium_public_health"
   ]
  },
  {
   "cell_type": "code",
   "execution_count": null,
   "metadata": {},
   "outputs": [],
   "source": []
  }
 ],
 "metadata": {
  "kernelspec": {
   "display_name": "gates_bep",
   "language": "python",
   "name": "gates_bep"
  },
  "language_info": {
   "codemirror_mode": {
    "name": "ipython",
    "version": 3
   },
   "file_extension": ".py",
   "mimetype": "text/x-python",
   "name": "python",
   "nbconvert_exporter": "python",
   "pygments_lexer": "ipython3",
   "version": "3.6.10"
  }
 },
 "nbformat": 4,
 "nbformat_minor": 2
}
