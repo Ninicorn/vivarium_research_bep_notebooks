{
 "cells": [
  {
   "cell_type": "markdown",
   "metadata": {},
   "source": [
    "Interactive sim\n",
    "install environment in a terminal:\n",
    "\n",
    "1) conda activate gates_bep\n",
    "\n",
    "2) then type in this command: ipython kernel install --name gates_bep --user"
   ]
  },
  {
   "cell_type": "code",
   "execution_count": 3,
   "metadata": {},
   "outputs": [
    {
     "data": {
      "text/html": [
       "<style>.container { width:100% !important; }</style>"
      ],
      "text/plain": [
       "<IPython.core.display.HTML object>"
      ]
     },
     "metadata": {},
     "output_type": "display_data"
    }
   ],
   "source": [
    "from IPython.core.display import display, HTML\n",
    "display(HTML(\"<style>.container { width:100% !important; }</style>\")) #makes the display bars longer and spread out 100% across the screen width"
   ]
  },
  {
   "cell_type": "code",
   "execution_count": 2,
   "metadata": {},
   "outputs": [],
   "source": [
    "import pandas as pd\n",
    "from numpy.random import randn\n",
    "from numpy.random import seed\n",
    "from numpy import mean\n",
    "from numpy import std\n",
    "from numpy import cov\n",
    "from matplotlib import pyplot\n",
    "from scipy.stats import pearsonr\n",
    "from scipy.stats import spearmanr\n",
    "from scipy.stats import stats"
   ]
  },
  {
   "cell_type": "markdown",
   "metadata": {},
   "source": [
    "# 1. Set up interactive sim by first the InteractiveContext modules that runs interactive sims, and make specs "
   ]
  },
  {
   "cell_type": "code",
   "execution_count": 4,
   "metadata": {},
   "outputs": [],
   "source": [
    "#This is the interactive context module from vivarium that runs the simulation \n",
    "\n",
    "from vivarium import InteractiveContext"
   ]
  },
  {
   "cell_type": "code",
   "execution_count": 37,
   "metadata": {
    "scrolled": true
   },
   "outputs": [],
   "source": [
    "!make_specs #uses the model_spec.in to create the yaml files \n"
   ]
  },
  {
   "cell_type": "code",
   "execution_count": 52,
   "metadata": {
    "scrolled": false
   },
   "outputs": [
    {
     "name": "stdout",
     "output_type": "stream",
     "text": [
      "/ihme/homes/nicoly/vivarium_gates_bep/src/vivarium_gates_bep/model_specifications\n",
      "\u001b[0m\u001b[01;34mbranches\u001b[0m/  india.yaml  mali.yaml  model_spec.in  pakistan.yaml  tanzania.yaml\r\n"
     ]
    }
   ],
   "source": [
    "#look for the file path of the yaml files\n",
    "\n",
    "%pwd \n",
    "# %cd ..\n",
    "# %ls\n",
    "%cd /ihme/homes/nicoly/vivarium_gates_bep/src/vivarium_gates_bep/model_specifications/\n",
    "%ls\n",
    "# %cd /ihme/homes/nicoly/vivarium_gates_bep/src/vivarium_gates_bep/src/vivarium_gates_bep/model_specifications\n",
    "# ! changes locally\n",
    "# % changes in python (the running interpreter)"
   ]
  },
  {
   "cell_type": "code",
   "execution_count": 53,
   "metadata": {},
   "outputs": [
    {
     "name": "stderr",
     "output_type": "stream",
     "text": [
      "2020-07-22 13:40:13.774 | DEBUG    | vivarium.framework.values:register_value_modifier:373 - Registering metrics.1.population_manager.metrics as modifier to metrics\n",
      "2020-07-22 13:40:13.787 | DEBUG    | vivarium.framework.artifact.manager:_load_artifact:66 - Running simulation from artifact located at /share/costeffectiveness/artifacts/vivarium_gates_bep/india.hdf.\n",
      "2020-07-22 13:40:13.788 | DEBUG    | vivarium.framework.artifact.manager:_load_artifact:67 - Artifact base filter terms are ['draw == 0', \"location == 'India' | location == 'Global'\"].\n",
      "2020-07-22 13:40:13.789 | DEBUG    | vivarium.framework.artifact.manager:_load_artifact:68 - Artifact additional filter terms are None.\n",
      "2020-07-22 13:40:14.493 | DEBUG    | vivarium.framework.values:_register_value_producer:323 - Registering value pipeline protein_energy_malnutrition.disability_weight\n",
      "2020-07-22 13:40:14.496 | DEBUG    | vivarium.framework.values:register_value_modifier:373 - Registering disability_weight.1.protein_energy_malnutrition.disability_weight as modifier to disability_weight\n",
      "2020-07-22 13:40:15.381 | DEBUG    | vivarium.framework.values:register_value_modifier:373 - Registering cause_specific_mortality_rate.1.risk_attributable_disease.cause.protein_energy_malnutrition.risk_factor.child_wasting.adjust_cause_specific_mortality_rate as modifier to cause_specific_mortality_rate\n",
      "2020-07-22 13:40:16.097 | DEBUG    | vivarium.framework.values:_register_value_producer:323 - Registering value pipeline protein_energy_malnutrition.excess_mortality_rate\n",
      "2020-07-22 13:40:16.099 | DEBUG    | vivarium.framework.values:_register_value_producer:323 - Registering value pipeline protein_energy_malnutrition.excess_mortality_rate.population_attributable_fraction\n",
      "2020-07-22 13:40:16.100 | DEBUG    | vivarium.framework.values:register_value_modifier:373 - Registering mortality_rate.1.risk_attributable_disease.cause.protein_energy_malnutrition.risk_factor.child_wasting.adjust_mortality_rate as modifier to mortality_rate\n",
      "2020-07-22 13:40:16.104 | DEBUG    | vivarium.framework.values:_register_value_producer:323 - Registering value pipeline child_wasting.propensity\n",
      "2020-07-22 13:40:16.105 | DEBUG    | vivarium.framework.values:_register_value_producer:323 - Registering value pipeline child_wasting.exposure\n",
      "2020-07-22 13:40:28.559 | DEBUG    | vivarium.framework.values:register_value_modifier:373 - Registering diarrheal_diseases.incidence_rate.1.risk_effect.risk_factor.child_wasting.cause.diarrheal_diseases.incidence_rate.adjust_target as modifier to diarrheal_diseases.incidence_rate\n",
      "2020-07-22 13:40:28.561 | DEBUG    | vivarium.framework.values:register_value_modifier:373 - Registering diarrheal_diseases.incidence_rate.paf.1.lookup_table_18 as modifier to diarrheal_diseases.incidence_rate.paf\n",
      "2020-07-22 13:40:29.250 | DEBUG    | vivarium.framework.values:register_value_modifier:373 - Registering measles.incidence_rate.1.risk_effect.risk_factor.child_wasting.cause.measles.incidence_rate.adjust_target as modifier to measles.incidence_rate\n",
      "2020-07-22 13:40:29.251 | DEBUG    | vivarium.framework.values:register_value_modifier:373 - Registering measles.incidence_rate.paf.1.lookup_table_20 as modifier to measles.incidence_rate.paf\n",
      "2020-07-22 13:40:29.937 | DEBUG    | vivarium.framework.values:register_value_modifier:373 - Registering lower_respiratory_infections.incidence_rate.1.risk_effect.risk_factor.child_wasting.cause.lower_respiratory_infections.incidence_rate.adjust_target as modifier to lower_respiratory_infections.incidence_rate\n",
      "2020-07-22 13:40:29.938 | DEBUG    | vivarium.framework.values:register_value_modifier:373 - Registering lower_respiratory_infections.incidence_rate.paf.1.lookup_table_22 as modifier to lower_respiratory_infections.incidence_rate.paf\n",
      "2020-07-22 13:40:29.939 | DEBUG    | vivarium.framework.values:_register_value_producer:323 - Registering value pipeline child_stunting.propensity\n",
      "2020-07-22 13:40:29.940 | DEBUG    | vivarium.framework.values:_register_value_producer:323 - Registering value pipeline child_stunting.exposure\n",
      "2020-07-22 13:40:39.704 | DEBUG    | vivarium.framework.values:register_value_modifier:373 - Registering diarrheal_diseases.incidence_rate.2.risk_effect.risk_factor.child_stunting.cause.diarrheal_diseases.incidence_rate.adjust_target as modifier to diarrheal_diseases.incidence_rate\n",
      "2020-07-22 13:40:39.706 | DEBUG    | vivarium.framework.values:register_value_modifier:373 - Registering diarrheal_diseases.incidence_rate.paf.2.lookup_table_37 as modifier to diarrheal_diseases.incidence_rate.paf\n",
      "2020-07-22 13:40:40.390 | DEBUG    | vivarium.framework.values:register_value_modifier:373 - Registering measles.incidence_rate.2.risk_effect.risk_factor.child_stunting.cause.measles.incidence_rate.adjust_target as modifier to measles.incidence_rate\n",
      "2020-07-22 13:40:40.391 | DEBUG    | vivarium.framework.values:register_value_modifier:373 - Registering measles.incidence_rate.paf.2.lookup_table_39 as modifier to measles.incidence_rate.paf\n",
      "2020-07-22 13:40:41.161 | DEBUG    | vivarium.framework.values:register_value_modifier:373 - Registering lower_respiratory_infections.incidence_rate.2.risk_effect.risk_factor.child_stunting.cause.lower_respiratory_infections.incidence_rate.adjust_target as modifier to lower_respiratory_infections.incidence_rate\n",
      "2020-07-22 13:40:41.162 | DEBUG    | vivarium.framework.values:register_value_modifier:373 - Registering lower_respiratory_infections.incidence_rate.paf.2.lookup_table_41 as modifier to lower_respiratory_infections.incidence_rate.paf\n",
      "2020-07-22 13:40:41.795 | DEBUG    | vivarium.framework.values:_register_value_producer:323 - Registering value pipeline cause_specific_mortality_rate\n",
      "2020-07-22 13:40:44.645 | DEBUG    | vivarium.framework.values:_register_value_producer:323 - Registering value pipeline affected_unmodeled.csmr\n",
      "2020-07-22 13:40:44.646 | DEBUG    | vivarium.framework.values:_register_value_producer:323 - Registering value pipeline affected_unmodeled.csmr.population_attributable_fraction\n",
      "2020-07-22 13:40:44.647 | DEBUG    | vivarium.framework.values:_register_value_producer:323 - Registering value pipeline mortality_rate\n",
      "2020-07-22 13:40:44.648 | DEBUG    | vivarium.framework.values:_register_value_producer:323 - Registering value pipeline all_causes.mortality_hazard\n",
      "2020-07-22 13:40:44.649 | DEBUG    | vivarium.framework.values:_register_value_producer:323 - Registering value pipeline all_causes.mortality_hazard.population_attributable_fraction\n",
      "2020-07-22 13:40:45.703 | DEBUG    | vivarium.framework.values:register_value_modifier:373 - Registering cause_specific_mortality_rate.2.disease_model.diarrheal_diseases.adjust_cause_specific_mortality_rate as modifier to cause_specific_mortality_rate\n",
      "2020-07-22 13:40:45.704 | DEBUG    | vivarium.framework.values:register_value_modifier:373 - Registering metrics.2.disease_model.diarrheal_diseases.metrics as modifier to metrics\n",
      "2020-07-22 13:40:45.704 | DEBUG    | vivarium.framework.values:register_value_modifier:373 - Registering metrics.3.state.susceptible_to_diarrheal_diseases.metrics as modifier to metrics\n",
      "2020-07-22 13:40:46.255 | DEBUG    | vivarium.framework.values:_register_value_producer:323 - Registering value pipeline diarrheal_diseases.incidence_rate\n",
      "2020-07-22 13:40:46.256 | DEBUG    | vivarium.framework.values:_register_value_producer:323 - Registering value pipeline diarrheal_diseases.incidence_rate.paf\n",
      "2020-07-22 13:40:46.257 | DEBUG    | vivarium.framework.values:register_value_modifier:373 - Registering metrics.4.state.diarrheal_diseases.metrics as modifier to metrics\n",
      "2020-07-22 13:40:46.816 | DEBUG    | vivarium.framework.values:_register_value_producer:323 - Registering value pipeline diarrheal_diseases.dwell_time\n",
      "2020-07-22 13:40:47.348 | DEBUG    | vivarium.framework.values:_register_value_producer:323 - Registering value pipeline diarrheal_diseases.disability_weight\n",
      "2020-07-22 13:40:47.348 | DEBUG    | vivarium.framework.values:register_value_modifier:373 - Registering disability_weight.2.diarrheal_diseases.disability_weight as modifier to disability_weight\n",
      "2020-07-22 13:40:47.889 | DEBUG    | vivarium.framework.values:_register_value_producer:323 - Registering value pipeline diarrheal_diseases.excess_mortality_rate\n"
     ]
    },
    {
     "name": "stderr",
     "output_type": "stream",
     "text": [
      "2020-07-22 13:40:47.890 | DEBUG    | vivarium.framework.values:_register_value_producer:323 - Registering value pipeline diarrheal_diseases.excess_mortality_rate.population_attributable_fraction\n",
      "2020-07-22 13:40:47.891 | DEBUG    | vivarium.framework.values:register_value_modifier:373 - Registering mortality_rate.2.state.diarrheal_diseases.adjust_mortality_rate as modifier to mortality_rate\n",
      "2020-07-22 13:40:48.424 | DEBUG    | vivarium.framework.values:_register_value_producer:323 - Registering value pipeline diarrheal_diseases.remission_rate\n",
      "2020-07-22 13:40:48.425 | DEBUG    | vivarium.framework.values:_register_value_producer:323 - Registering value pipeline diarrheal_diseases.remission_rate.paf\n",
      "2020-07-22 13:40:48.944 | DEBUG    | vivarium.framework.values:register_value_modifier:373 - Registering cause_specific_mortality_rate.3.disease_model.measles.adjust_cause_specific_mortality_rate as modifier to cause_specific_mortality_rate\n",
      "2020-07-22 13:40:48.945 | DEBUG    | vivarium.framework.values:register_value_modifier:373 - Registering metrics.5.disease_model.measles.metrics as modifier to metrics\n",
      "2020-07-22 13:40:48.946 | DEBUG    | vivarium.framework.values:register_value_modifier:373 - Registering metrics.6.state.susceptible_to_measles.metrics as modifier to metrics\n",
      "2020-07-22 13:40:49.470 | DEBUG    | vivarium.framework.values:_register_value_producer:323 - Registering value pipeline measles.incidence_rate\n",
      "2020-07-22 13:40:49.471 | DEBUG    | vivarium.framework.values:_register_value_producer:323 - Registering value pipeline measles.incidence_rate.paf\n",
      "2020-07-22 13:40:49.472 | DEBUG    | vivarium.framework.values:register_value_modifier:373 - Registering metrics.7.state.measles.metrics as modifier to metrics\n",
      "2020-07-22 13:40:49.997 | DEBUG    | vivarium.framework.values:_register_value_producer:323 - Registering value pipeline measles.dwell_time\n",
      "2020-07-22 13:40:50.516 | DEBUG    | vivarium.framework.values:_register_value_producer:323 - Registering value pipeline measles.disability_weight\n",
      "2020-07-22 13:40:50.517 | DEBUG    | vivarium.framework.values:register_value_modifier:373 - Registering disability_weight.3.measles.disability_weight as modifier to disability_weight\n",
      "2020-07-22 13:40:51.052 | DEBUG    | vivarium.framework.values:_register_value_producer:323 - Registering value pipeline measles.excess_mortality_rate\n",
      "2020-07-22 13:40:51.053 | DEBUG    | vivarium.framework.values:_register_value_producer:323 - Registering value pipeline measles.excess_mortality_rate.population_attributable_fraction\n",
      "2020-07-22 13:40:51.054 | DEBUG    | vivarium.framework.values:register_value_modifier:373 - Registering mortality_rate.3.state.measles.adjust_mortality_rate as modifier to mortality_rate\n",
      "2020-07-22 13:40:51.055 | DEBUG    | vivarium.framework.values:register_value_modifier:373 - Registering metrics.8.state.recovered_from_measles.metrics as modifier to metrics\n",
      "2020-07-22 13:40:51.603 | DEBUG    | vivarium.framework.values:register_value_modifier:373 - Registering cause_specific_mortality_rate.4.disease_model.lower_respiratory_infections.adjust_cause_specific_mortality_rate as modifier to cause_specific_mortality_rate\n",
      "2020-07-22 13:40:51.604 | DEBUG    | vivarium.framework.values:register_value_modifier:373 - Registering metrics.9.disease_model.lower_respiratory_infections.metrics as modifier to metrics\n",
      "2020-07-22 13:40:51.604 | DEBUG    | vivarium.framework.values:register_value_modifier:373 - Registering metrics.10.state.susceptible_to_lower_respiratory_infections.metrics as modifier to metrics\n",
      "2020-07-22 13:40:52.150 | DEBUG    | vivarium.framework.values:_register_value_producer:323 - Registering value pipeline lower_respiratory_infections.incidence_rate\n",
      "2020-07-22 13:40:52.151 | DEBUG    | vivarium.framework.values:_register_value_producer:323 - Registering value pipeline lower_respiratory_infections.incidence_rate.paf\n",
      "2020-07-22 13:40:52.152 | DEBUG    | vivarium.framework.values:register_value_modifier:373 - Registering metrics.11.state.lower_respiratory_infections.metrics as modifier to metrics\n",
      "2020-07-22 13:40:52.785 | DEBUG    | vivarium.framework.values:_register_value_producer:323 - Registering value pipeline lower_respiratory_infections.dwell_time\n",
      "2020-07-22 13:40:53.312 | DEBUG    | vivarium.framework.values:_register_value_producer:323 - Registering value pipeline lower_respiratory_infections.disability_weight\n",
      "2020-07-22 13:40:53.313 | DEBUG    | vivarium.framework.values:register_value_modifier:373 - Registering disability_weight.4.lower_respiratory_infections.disability_weight as modifier to disability_weight\n",
      "2020-07-22 13:40:53.857 | DEBUG    | vivarium.framework.values:_register_value_producer:323 - Registering value pipeline lower_respiratory_infections.excess_mortality_rate\n",
      "2020-07-22 13:40:53.858 | DEBUG    | vivarium.framework.values:_register_value_producer:323 - Registering value pipeline lower_respiratory_infections.excess_mortality_rate.population_attributable_fraction\n",
      "2020-07-22 13:40:53.859 | DEBUG    | vivarium.framework.values:register_value_modifier:373 - Registering mortality_rate.4.state.lower_respiratory_infections.adjust_mortality_rate as modifier to mortality_rate\n",
      "2020-07-22 13:40:54.394 | DEBUG    | vivarium.framework.values:_register_value_producer:323 - Registering value pipeline lower_respiratory_infections.remission_rate\n",
      "2020-07-22 13:40:54.395 | DEBUG    | vivarium.framework.values:_register_value_producer:323 - Registering value pipeline lower_respiratory_infections.remission_rate.paf\n",
      "2020-07-22 13:40:54.983 | DEBUG    | vivarium.framework.values:_register_value_producer:323 - Registering value pipeline low_birth_weight_and_short_gestation.raw_exposure\n",
      "2020-07-22 13:40:54.984 | DEBUG    | vivarium.framework.values:_register_value_producer:323 - Registering value pipeline low_birth_weight_and_short_gestation.exposure\n",
      "2020-07-22 13:40:56.007 | DEBUG    | vivarium.framework.values:register_value_modifier:373 - Registering affected_unmodeled.csmr.1.risk_effect.risk_factor.low_birth_weight_and_short_gestation.cause.affected_unmodeled.csmr.adjust_target as modifier to affected_unmodeled.csmr\n",
      "2020-07-22 13:40:56.008 | DEBUG    | vivarium.framework.values:register_value_modifier:373 - Registering affected_unmodeled.csmr.population_attributable_fraction.1.lookup_table_80 as modifier to affected_unmodeled.csmr.population_attributable_fraction\n",
      "2020-07-22 13:40:57.010 | DEBUG    | vivarium.framework.values:register_value_modifier:373 - Registering lower_respiratory_infections.excess_mortality_rate.1.risk_effect.risk_factor.low_birth_weight_and_short_gestation.cause.lower_respiratory_infections.excess_mortality_rate.adjust_target as modifier to lower_respiratory_infections.excess_mortality_rate\n",
      "2020-07-22 13:40:57.011 | DEBUG    | vivarium.framework.values:register_value_modifier:373 - Registering lower_respiratory_infections.excess_mortality_rate.population_attributable_fraction.1.lookup_table_82 as modifier to lower_respiratory_infections.excess_mortality_rate.population_attributable_fraction\n",
      "2020-07-22 13:40:58.034 | DEBUG    | vivarium.framework.values:register_value_modifier:373 - Registering diarrheal_diseases.excess_mortality_rate.1.risk_effect.risk_factor.low_birth_weight_and_short_gestation.cause.diarrheal_diseases.excess_mortality_rate.adjust_target as modifier to diarrheal_diseases.excess_mortality_rate\n",
      "2020-07-22 13:40:58.034 | DEBUG    | vivarium.framework.values:register_value_modifier:373 - Registering diarrheal_diseases.excess_mortality_rate.population_attributable_fraction.1.lookup_table_84 as modifier to diarrheal_diseases.excess_mortality_rate.population_attributable_fraction\n",
      "2020-07-22 13:40:58.734 | DEBUG    | vivarium.framework.values:register_value_modifier:373 - Registering metrics.12.mortality_observer.metrics as modifier to metrics\n",
      "2020-07-22 13:40:58.804 | DEBUG    | vivarium.framework.values:_register_value_producer:323 - Registering value pipeline disability_weight\n",
      "2020-07-22 13:40:58.805 | DEBUG    | vivarium.framework.values:register_value_modifier:373 - Registering metrics.13.disability_observer.metrics as modifier to metrics\n",
      "2020-07-22 13:40:58.808 | DEBUG    | vivarium.framework.values:register_value_modifier:373 - Registering metrics.14.disease_observer.diarrheal_diseases.metrics as modifier to metrics\n"
     ]
    },
    {
     "name": "stderr",
     "output_type": "stream",
     "text": [
      "2020-07-22 13:40:58.809 | DEBUG    | vivarium.framework.values:register_value_modifier:373 - Registering metrics.15.disease_observer.measles.metrics as modifier to metrics\n",
      "2020-07-22 13:40:58.811 | DEBUG    | vivarium.framework.values:register_value_modifier:373 - Registering metrics.16.disease_observer.lower_respiratory_infections.metrics as modifier to metrics\n",
      "2020-07-22 13:40:58.812 | DEBUG    | vivarium.framework.values:register_value_modifier:373 - Registering metrics.17.disease_observer.protein_energy_malnutrition.metrics as modifier to metrics\n",
      "2020-07-22 13:40:58.813 | DEBUG    | vivarium.framework.values:register_value_modifier:373 - Registering metrics.18.risk_observer.child_growth_failure.metrics as modifier to metrics\n",
      "2020-07-22 13:40:58.813 | DEBUG    | vivarium.framework.values:register_value_modifier:373 - Registering metrics.19.risk_observer.low_birth_weight_and_short_gestation.metrics as modifier to metrics\n",
      "2020-07-22 13:40:58.815 | DEBUG    | vivarium.framework.values:register_value_modifier:373 - Registering metrics.20.risk.maternal_malnutrition.metrics as modifier to metrics\n",
      "2020-07-22 13:41:21.808 | DEBUG    | vivarium.framework.values:register_value_modifier:373 - Registering low_birth_weight_and_short_gestation.exposure.1.risk_effect.maternal_malnutrition.adjust_birth_weight as modifier to low_birth_weight_and_short_gestation.exposure\n",
      "2020-07-22 13:41:21.809 | DEBUG    | vivarium.framework.values:register_value_modifier:373 - Registering child_wasting.exposure.1.risk_effect.maternal_malnutrition.adjust_wasting as modifier to child_wasting.exposure\n",
      "2020-07-22 13:41:21.810 | DEBUG    | vivarium.framework.values:register_value_modifier:373 - Registering child_stunting.exposure.1.risk_effect.maternal_malnutrition.adjust_stunting as modifier to child_stunting.exposure\n",
      "2020-07-22 13:41:21.909 | DEBUG    | vivarium.framework.values:register_value_modifier:373 - Registering low_birth_weight_and_short_gestation.exposure.2.treatment_effect.maternal_supplementation.adjust_lbwsg as modifier to low_birth_weight_and_short_gestation.exposure\n",
      "2020-07-22 13:41:21.909 | DEBUG    | vivarium.framework.values:register_value_modifier:373 - Registering child_stunting.exposure.2.treatment_effect.maternal_supplementation.adjust_cgf as modifier to child_stunting.exposure\n",
      "2020-07-22 13:41:21.910 | DEBUG    | vivarium.framework.values:register_value_modifier:373 - Registering child_wasting.exposure.2.treatment_effect.maternal_supplementation.adjust_cgf as modifier to child_wasting.exposure\n",
      "2020-07-22 13:41:21.910 | DEBUG    | vivarium.framework.values:_register_value_producer:323 - Registering value pipeline metrics\n"
     ]
    }
   ],
   "source": [
    "#Define sim (use full filepath)\n",
    "\n",
    "sim = InteractiveContext('/ihme/homes/nicoly/vivarium_gates_bep/src/vivarium_gates_bep/model_specifications/india.yaml') #gives model before time-steps"
   ]
  },
  {
   "cell_type": "markdown",
   "metadata": {},
   "source": [
    "# 2. Now can run the sim using time-steps"
   ]
  },
  {
   "cell_type": "code",
   "execution_count": 9,
   "metadata": {
    "scrolled": false
   },
   "outputs": [
    {
     "name": "stderr",
     "output_type": "stream",
     "text": [
      "2020-07-22 11:00:01.452 | DEBUG    | vivarium.framework.engine:step:140 - 2020-07-02 00:00:00\n",
      "2020-07-22 11:00:14.259 | DEBUG    | vivarium.framework.engine:step:140 - 2020-07-03 00:00:00\n",
      "2020-07-22 11:00:26.779 | DEBUG    | vivarium.framework.engine:step:140 - 2020-07-04 00:00:00\n",
      "2020-07-22 11:00:39.857 | DEBUG    | vivarium.framework.engine:step:140 - 2020-07-05 00:00:00\n",
      "2020-07-22 11:00:52.880 | DEBUG    | vivarium.framework.engine:step:140 - 2020-07-06 00:00:00\n",
      "2020-07-22 11:01:05.478 | DEBUG    | vivarium.framework.engine:step:140 - 2020-07-07 00:00:00\n",
      "2020-07-22 11:01:18.518 | DEBUG    | vivarium.framework.engine:step:140 - 2020-07-08 00:00:00\n",
      "2020-07-22 11:01:31.611 | DEBUG    | vivarium.framework.engine:step:140 - 2020-07-09 00:00:00\n",
      "2020-07-22 11:01:44.760 | DEBUG    | vivarium.framework.engine:step:140 - 2020-07-10 00:00:00\n",
      "2020-07-22 11:01:57.856 | DEBUG    | vivarium.framework.engine:step:140 - 2020-07-11 00:00:00\n",
      "2020-07-22 11:02:10.347 | DEBUG    | vivarium.framework.engine:step:140 - 2020-07-12 00:00:00\n",
      "2020-07-22 11:02:24.078 | DEBUG    | vivarium.framework.engine:step:140 - 2020-07-13 00:00:00\n",
      "2020-07-22 11:02:37.884 | DEBUG    | vivarium.framework.engine:step:140 - 2020-07-14 00:00:00\n",
      "2020-07-22 11:02:51.430 | DEBUG    | vivarium.framework.engine:step:140 - 2020-07-15 00:00:00\n",
      "2020-07-22 11:03:04.973 | DEBUG    | vivarium.framework.engine:step:140 - 2020-07-16 00:00:00\n",
      "2020-07-22 11:03:18.694 | DEBUG    | vivarium.framework.engine:step:140 - 2020-07-17 00:00:00\n",
      "2020-07-22 11:03:32.720 | DEBUG    | vivarium.framework.engine:step:140 - 2020-07-18 00:00:00\n",
      "2020-07-22 11:03:46.852 | DEBUG    | vivarium.framework.engine:step:140 - 2020-07-19 00:00:00\n",
      "2020-07-22 11:04:01.076 | DEBUG    | vivarium.framework.engine:step:140 - 2020-07-20 00:00:00\n",
      "2020-07-22 11:04:14.784 | DEBUG    | vivarium.framework.engine:step:140 - 2020-07-21 00:00:00\n",
      "2020-07-22 11:04:28.728 | DEBUG    | vivarium.framework.engine:step:140 - 2020-07-22 00:00:00\n",
      "2020-07-22 11:04:42.075 | DEBUG    | vivarium.framework.engine:step:140 - 2020-07-23 00:00:00\n",
      "2020-07-22 11:04:55.989 | DEBUG    | vivarium.framework.engine:step:140 - 2020-07-24 00:00:00\n",
      "2020-07-22 11:05:10.330 | DEBUG    | vivarium.framework.engine:step:140 - 2020-07-25 00:00:00\n",
      "2020-07-22 11:05:24.132 | DEBUG    | vivarium.framework.engine:step:140 - 2020-07-26 00:00:00\n",
      "2020-07-22 11:05:38.277 | DEBUG    | vivarium.framework.engine:step:140 - 2020-07-27 00:00:00\n",
      "2020-07-22 11:05:51.907 | DEBUG    | vivarium.framework.engine:step:140 - 2020-07-28 00:00:00\n",
      "2020-07-22 11:06:05.965 | DEBUG    | vivarium.framework.engine:step:140 - 2020-07-29 00:00:00\n",
      "2020-07-22 11:06:20.856 | DEBUG    | vivarium.framework.engine:step:140 - 2020-07-30 00:00:00\n",
      "2020-07-22 11:06:35.555 | DEBUG    | vivarium.framework.engine:step:140 - 2020-07-31 00:00:00\n",
      "2020-07-22 11:06:49.709 | DEBUG    | vivarium.framework.engine:step:140 - 2020-08-01 00:00:00\n",
      "2020-07-22 11:07:04.798 | DEBUG    | vivarium.framework.engine:step:140 - 2020-08-02 00:00:00\n",
      "2020-07-22 11:07:19.035 | DEBUG    | vivarium.framework.engine:step:140 - 2020-08-03 00:00:00\n",
      "2020-07-22 11:07:34.327 | DEBUG    | vivarium.framework.engine:step:140 - 2020-08-04 00:00:00\n",
      "2020-07-22 11:07:49.614 | DEBUG    | vivarium.framework.engine:step:140 - 2020-08-05 00:00:00\n",
      "2020-07-22 11:08:04.694 | DEBUG    | vivarium.framework.engine:step:140 - 2020-08-06 00:00:00\n",
      "2020-07-22 11:08:20.386 | DEBUG    | vivarium.framework.engine:step:140 - 2020-08-07 00:00:00\n",
      "2020-07-22 11:08:35.212 | DEBUG    | vivarium.framework.engine:step:140 - 2020-08-08 00:00:00\n",
      "2020-07-22 11:08:49.566 | DEBUG    | vivarium.framework.engine:step:140 - 2020-08-09 00:00:00\n",
      "2020-07-22 11:09:04.666 | DEBUG    | vivarium.framework.engine:step:140 - 2020-08-10 00:00:00\n",
      "2020-07-22 11:09:19.712 | DEBUG    | vivarium.framework.engine:step:140 - 2020-08-11 00:00:00\n",
      "2020-07-22 11:09:35.586 | DEBUG    | vivarium.framework.engine:step:140 - 2020-08-12 00:00:00\n",
      "2020-07-22 11:09:51.491 | DEBUG    | vivarium.framework.engine:step:140 - 2020-08-13 00:00:00\n",
      "2020-07-22 11:10:06.729 | DEBUG    | vivarium.framework.engine:step:140 - 2020-08-14 00:00:00\n",
      "2020-07-22 11:10:22.269 | DEBUG    | vivarium.framework.engine:step:140 - 2020-08-15 00:00:00\n",
      "2020-07-22 11:10:38.340 | DEBUG    | vivarium.framework.engine:step:140 - 2020-08-16 00:00:00\n",
      "2020-07-22 11:10:53.360 | DEBUG    | vivarium.framework.engine:step:140 - 2020-08-17 00:00:00\n",
      "2020-07-22 11:11:08.180 | DEBUG    | vivarium.framework.engine:step:140 - 2020-08-18 00:00:00\n",
      "2020-07-22 11:11:23.505 | DEBUG    | vivarium.framework.engine:step:140 - 2020-08-19 00:00:00\n",
      "2020-07-22 11:11:38.136 | DEBUG    | vivarium.framework.engine:step:140 - 2020-08-20 00:00:00\n",
      "2020-07-22 11:11:53.774 | DEBUG    | vivarium.framework.engine:step:140 - 2020-08-21 00:00:00\n",
      "2020-07-22 11:12:08.826 | DEBUG    | vivarium.framework.engine:step:140 - 2020-08-22 00:00:00\n",
      "2020-07-22 11:12:24.479 | DEBUG    | vivarium.framework.engine:step:140 - 2020-08-23 00:00:00\n",
      "2020-07-22 11:12:39.905 | DEBUG    | vivarium.framework.engine:step:140 - 2020-08-24 00:00:00\n",
      "2020-07-22 11:12:55.389 | DEBUG    | vivarium.framework.engine:step:140 - 2020-08-25 00:00:00\n",
      "2020-07-22 11:13:11.315 | DEBUG    | vivarium.framework.engine:step:140 - 2020-08-26 00:00:00\n",
      "2020-07-22 11:13:27.180 | DEBUG    | vivarium.framework.engine:step:140 - 2020-08-27 00:00:00\n",
      "2020-07-22 11:13:42.486 | DEBUG    | vivarium.framework.engine:step:140 - 2020-08-28 00:00:00\n",
      "2020-07-22 11:13:58.398 | DEBUG    | vivarium.framework.engine:step:140 - 2020-08-29 00:00:00\n",
      "2020-07-22 11:14:14.215 | DEBUG    | vivarium.framework.engine:step:140 - 2020-08-30 00:00:00\n",
      "2020-07-22 11:14:29.287 | DEBUG    | vivarium.framework.engine:step:140 - 2020-08-31 00:00:00\n",
      "2020-07-22 11:14:45.021 | DEBUG    | vivarium.framework.engine:step:140 - 2020-09-01 00:00:00\n",
      "2020-07-22 11:15:00.771 | DEBUG    | vivarium.framework.engine:step:140 - 2020-09-02 00:00:00\n",
      "2020-07-22 11:15:16.580 | DEBUG    | vivarium.framework.engine:step:140 - 2020-09-03 00:00:00\n",
      "2020-07-22 11:15:32.737 | DEBUG    | vivarium.framework.engine:step:140 - 2020-09-04 00:00:00\n",
      "2020-07-22 11:15:48.069 | DEBUG    | vivarium.framework.engine:step:140 - 2020-09-05 00:00:00\n",
      "2020-07-22 11:16:03.930 | DEBUG    | vivarium.framework.engine:step:140 - 2020-09-06 00:00:00\n",
      "2020-07-22 11:16:20.414 | DEBUG    | vivarium.framework.engine:step:140 - 2020-09-07 00:00:00\n",
      "2020-07-22 11:16:36.764 | DEBUG    | vivarium.framework.engine:step:140 - 2020-09-08 00:00:00\n",
      "2020-07-22 11:16:52.583 | DEBUG    | vivarium.framework.engine:step:140 - 2020-09-09 00:00:00\n",
      "2020-07-22 11:17:08.335 | DEBUG    | vivarium.framework.engine:step:140 - 2020-09-10 00:00:00\n",
      "2020-07-22 11:17:24.544 | DEBUG    | vivarium.framework.engine:step:140 - 2020-09-11 00:00:00\n",
      "2020-07-22 11:17:40.018 | DEBUG    | vivarium.framework.engine:step:140 - 2020-09-12 00:00:00\n",
      "2020-07-22 11:17:56.388 | DEBUG    | vivarium.framework.engine:step:140 - 2020-09-13 00:00:00\n",
      "2020-07-22 11:18:12.843 | DEBUG    | vivarium.framework.engine:step:140 - 2020-09-14 00:00:00\n",
      "2020-07-22 11:18:28.214 | DEBUG    | vivarium.framework.engine:step:140 - 2020-09-15 00:00:00\n",
      "2020-07-22 11:18:44.192 | DEBUG    | vivarium.framework.engine:step:140 - 2020-09-16 00:00:00\n",
      "2020-07-22 11:18:59.826 | DEBUG    | vivarium.framework.engine:step:140 - 2020-09-17 00:00:00\n",
      "2020-07-22 11:19:15.050 | DEBUG    | vivarium.framework.engine:step:140 - 2020-09-18 00:00:00\n",
      "2020-07-22 11:19:30.284 | DEBUG    | vivarium.framework.engine:step:140 - 2020-09-19 00:00:00\n",
      "2020-07-22 11:19:46.507 | DEBUG    | vivarium.framework.engine:step:140 - 2020-09-20 00:00:00\n",
      "2020-07-22 11:20:02.359 | DEBUG    | vivarium.framework.engine:step:140 - 2020-09-21 00:00:00\n",
      "2020-07-22 11:20:18.395 | DEBUG    | vivarium.framework.engine:step:140 - 2020-09-22 00:00:00\n",
      "2020-07-22 11:20:34.281 | DEBUG    | vivarium.framework.engine:step:140 - 2020-09-23 00:00:00\n",
      "2020-07-22 11:20:50.364 | DEBUG    | vivarium.framework.engine:step:140 - 2020-09-24 00:00:00\n",
      "2020-07-22 11:21:06.711 | DEBUG    | vivarium.framework.engine:step:140 - 2020-09-25 00:00:00\n",
      "2020-07-22 11:21:23.308 | DEBUG    | vivarium.framework.engine:step:140 - 2020-09-26 00:00:00\n",
      "2020-07-22 11:21:38.812 | DEBUG    | vivarium.framework.engine:step:140 - 2020-09-27 00:00:00\n"
     ]
    },
    {
     "name": "stderr",
     "output_type": "stream",
     "text": [
      "2020-07-22 11:21:54.893 | DEBUG    | vivarium.framework.engine:step:140 - 2020-09-28 00:00:00\n",
      "2020-07-22 11:22:10.935 | DEBUG    | vivarium.framework.engine:step:140 - 2020-09-29 00:00:00\n",
      "2020-07-22 11:22:26.742 | DEBUG    | vivarium.framework.engine:step:140 - 2020-09-30 00:00:00\n",
      "2020-07-22 11:22:42.485 | DEBUG    | vivarium.framework.engine:step:140 - 2020-10-01 00:00:00\n",
      "2020-07-22 11:22:58.509 | DEBUG    | vivarium.framework.engine:step:140 - 2020-10-02 00:00:00\n",
      "2020-07-22 11:23:14.114 | DEBUG    | vivarium.framework.engine:step:140 - 2020-10-03 00:00:00\n",
      "2020-07-22 11:23:30.527 | DEBUG    | vivarium.framework.engine:step:140 - 2020-10-04 00:00:00\n",
      "2020-07-22 11:23:47.131 | DEBUG    | vivarium.framework.engine:step:140 - 2020-10-05 00:00:00\n",
      "2020-07-22 11:24:03.361 | DEBUG    | vivarium.framework.engine:step:140 - 2020-10-06 00:00:00\n",
      "2020-07-22 11:24:19.229 | DEBUG    | vivarium.framework.engine:step:140 - 2020-10-07 00:00:00\n",
      "2020-07-22 11:24:35.040 | DEBUG    | vivarium.framework.engine:step:140 - 2020-10-08 00:00:00\n",
      "2020-07-22 11:24:51.086 | DEBUG    | vivarium.framework.engine:step:140 - 2020-10-09 00:00:00\n",
      "2020-07-22 11:25:06.953 | DEBUG    | vivarium.framework.engine:step:140 - 2020-10-10 00:00:00\n",
      "2020-07-22 11:25:23.081 | DEBUG    | vivarium.framework.engine:step:140 - 2020-10-11 00:00:00\n",
      "2020-07-22 11:25:38.858 | DEBUG    | vivarium.framework.engine:step:140 - 2020-10-12 00:00:00\n",
      "2020-07-22 11:25:55.210 | DEBUG    | vivarium.framework.engine:step:140 - 2020-10-13 00:00:00\n",
      "2020-07-22 11:26:11.272 | DEBUG    | vivarium.framework.engine:step:140 - 2020-10-14 00:00:00\n",
      "2020-07-22 11:26:28.116 | DEBUG    | vivarium.framework.engine:step:140 - 2020-10-15 00:00:00\n",
      "2020-07-22 11:26:44.319 | DEBUG    | vivarium.framework.engine:step:140 - 2020-10-16 00:00:00\n",
      "2020-07-22 11:27:00.921 | DEBUG    | vivarium.framework.engine:step:140 - 2020-10-17 00:00:00\n",
      "2020-07-22 11:27:17.598 | DEBUG    | vivarium.framework.engine:step:140 - 2020-10-18 00:00:00\n",
      "2020-07-22 11:27:34.089 | DEBUG    | vivarium.framework.engine:step:140 - 2020-10-19 00:00:00\n",
      "2020-07-22 11:27:50.389 | DEBUG    | vivarium.framework.engine:step:140 - 2020-10-20 00:00:00\n",
      "2020-07-22 11:28:07.041 | DEBUG    | vivarium.framework.engine:step:140 - 2020-10-21 00:00:00\n",
      "2020-07-22 11:28:23.200 | DEBUG    | vivarium.framework.engine:step:140 - 2020-10-22 00:00:00\n",
      "2020-07-22 11:28:38.989 | DEBUG    | vivarium.framework.engine:step:140 - 2020-10-23 00:00:00\n",
      "2020-07-22 11:28:55.661 | DEBUG    | vivarium.framework.engine:step:140 - 2020-10-24 00:00:00\n",
      "2020-07-22 11:29:12.269 | DEBUG    | vivarium.framework.engine:step:140 - 2020-10-25 00:00:00\n",
      "2020-07-22 11:29:29.043 | DEBUG    | vivarium.framework.engine:step:140 - 2020-10-26 00:00:00\n",
      "2020-07-22 11:29:46.145 | DEBUG    | vivarium.framework.engine:step:140 - 2020-10-27 00:00:00\n",
      "2020-07-22 11:30:03.082 | DEBUG    | vivarium.framework.engine:step:140 - 2020-10-28 00:00:00\n",
      "2020-07-22 11:30:19.773 | DEBUG    | vivarium.framework.engine:step:140 - 2020-10-29 00:00:00\n",
      "2020-07-22 11:30:36.533 | DEBUG    | vivarium.framework.engine:step:140 - 2020-10-30 00:00:00\n",
      "2020-07-22 11:30:53.038 | DEBUG    | vivarium.framework.engine:step:140 - 2020-10-31 00:00:00\n",
      "2020-07-22 11:31:09.828 | DEBUG    | vivarium.framework.engine:step:140 - 2020-11-01 00:00:00\n",
      "2020-07-22 11:31:26.816 | DEBUG    | vivarium.framework.engine:step:140 - 2020-11-02 00:00:00\n",
      "2020-07-22 11:31:44.603 | DEBUG    | vivarium.framework.engine:step:140 - 2020-11-03 00:00:00\n",
      "2020-07-22 11:32:02.118 | DEBUG    | vivarium.framework.engine:step:140 - 2020-11-04 00:00:00\n",
      "2020-07-22 11:32:19.390 | DEBUG    | vivarium.framework.engine:step:140 - 2020-11-05 00:00:00\n",
      "2020-07-22 11:32:35.917 | DEBUG    | vivarium.framework.engine:step:140 - 2020-11-06 00:00:00\n",
      "2020-07-22 11:32:53.101 | DEBUG    | vivarium.framework.engine:step:140 - 2020-11-07 00:00:00\n",
      "2020-07-22 11:33:10.344 | DEBUG    | vivarium.framework.engine:step:140 - 2020-11-08 00:00:00\n",
      "2020-07-22 11:33:27.051 | DEBUG    | vivarium.framework.engine:step:140 - 2020-11-09 00:00:00\n",
      "2020-07-22 11:33:43.741 | DEBUG    | vivarium.framework.engine:step:140 - 2020-11-10 00:00:00\n",
      "2020-07-22 11:34:01.100 | DEBUG    | vivarium.framework.engine:step:140 - 2020-11-11 00:00:00\n",
      "2020-07-22 11:34:18.194 | DEBUG    | vivarium.framework.engine:step:140 - 2020-11-12 00:00:00\n",
      "2020-07-22 11:34:34.857 | DEBUG    | vivarium.framework.engine:step:140 - 2020-11-13 00:00:00\n",
      "2020-07-22 11:34:51.976 | DEBUG    | vivarium.framework.engine:step:140 - 2020-11-14 00:00:00\n",
      "2020-07-22 11:35:08.632 | DEBUG    | vivarium.framework.engine:step:140 - 2020-11-15 00:00:00\n",
      "2020-07-22 11:35:25.405 | DEBUG    | vivarium.framework.engine:step:140 - 2020-11-16 00:00:00\n",
      "2020-07-22 11:35:43.251 | DEBUG    | vivarium.framework.engine:step:140 - 2020-11-17 00:00:00\n",
      "2020-07-22 11:36:00.461 | DEBUG    | vivarium.framework.engine:step:140 - 2020-11-18 00:00:00\n",
      "2020-07-22 11:36:18.516 | DEBUG    | vivarium.framework.engine:step:140 - 2020-11-19 00:00:00\n",
      "2020-07-22 11:36:36.024 | DEBUG    | vivarium.framework.engine:step:140 - 2020-11-20 00:00:00\n",
      "2020-07-22 11:36:53.096 | DEBUG    | vivarium.framework.engine:step:140 - 2020-11-21 00:00:00\n",
      "2020-07-22 11:37:10.379 | DEBUG    | vivarium.framework.engine:step:140 - 2020-11-22 00:00:00\n",
      "2020-07-22 11:37:28.869 | DEBUG    | vivarium.framework.engine:step:140 - 2020-11-23 00:00:00\n",
      "2020-07-22 11:37:46.513 | DEBUG    | vivarium.framework.engine:step:140 - 2020-11-24 00:00:00\n",
      "2020-07-22 11:38:04.528 | DEBUG    | vivarium.framework.engine:step:140 - 2020-11-25 00:00:00\n",
      "2020-07-22 11:38:22.361 | DEBUG    | vivarium.framework.engine:step:140 - 2020-11-26 00:00:00\n",
      "2020-07-22 11:38:39.556 | DEBUG    | vivarium.framework.engine:step:140 - 2020-11-27 00:00:00\n",
      "2020-07-22 11:38:57.486 | DEBUG    | vivarium.framework.engine:step:140 - 2020-11-28 00:00:00\n",
      "2020-07-22 11:39:15.282 | DEBUG    | vivarium.framework.engine:step:140 - 2020-11-29 00:00:00\n",
      "2020-07-22 11:39:32.632 | DEBUG    | vivarium.framework.engine:step:140 - 2020-11-30 00:00:00\n",
      "2020-07-22 11:39:49.823 | DEBUG    | vivarium.framework.engine:step:140 - 2020-12-01 00:00:00\n",
      "2020-07-22 11:40:07.735 | DEBUG    | vivarium.framework.engine:step:140 - 2020-12-02 00:00:00\n",
      "2020-07-22 11:40:26.268 | DEBUG    | vivarium.framework.engine:step:140 - 2020-12-03 00:00:00\n",
      "2020-07-22 11:40:44.698 | DEBUG    | vivarium.framework.engine:step:140 - 2020-12-04 00:00:00\n",
      "2020-07-22 11:41:03.019 | DEBUG    | vivarium.framework.engine:step:140 - 2020-12-05 00:00:00\n",
      "2020-07-22 11:41:21.549 | DEBUG    | vivarium.framework.engine:step:140 - 2020-12-06 00:00:00\n",
      "2020-07-22 11:41:39.576 | DEBUG    | vivarium.framework.engine:step:140 - 2020-12-07 00:00:00\n",
      "2020-07-22 11:41:57.608 | DEBUG    | vivarium.framework.engine:step:140 - 2020-12-08 00:00:00\n",
      "2020-07-22 11:42:15.601 | DEBUG    | vivarium.framework.engine:step:140 - 2020-12-09 00:00:00\n",
      "2020-07-22 11:42:34.097 | DEBUG    | vivarium.framework.engine:step:140 - 2020-12-10 00:00:00\n",
      "2020-07-22 11:42:52.452 | DEBUG    | vivarium.framework.engine:step:140 - 2020-12-11 00:00:00\n",
      "2020-07-22 11:43:10.872 | DEBUG    | vivarium.framework.engine:step:140 - 2020-12-12 00:00:00\n",
      "2020-07-22 11:43:29.327 | DEBUG    | vivarium.framework.engine:step:140 - 2020-12-13 00:00:00\n",
      "2020-07-22 11:43:48.356 | DEBUG    | vivarium.framework.engine:step:140 - 2020-12-14 00:00:00\n",
      "2020-07-22 11:44:06.490 | DEBUG    | vivarium.framework.engine:step:140 - 2020-12-15 00:00:00\n",
      "2020-07-22 11:44:23.705 | DEBUG    | vivarium.framework.engine:step:140 - 2020-12-16 00:00:00\n",
      "2020-07-22 11:44:41.179 | DEBUG    | vivarium.framework.engine:step:140 - 2020-12-17 00:00:00\n",
      "2020-07-22 11:44:58.952 | DEBUG    | vivarium.framework.engine:step:140 - 2020-12-18 00:00:00\n",
      "2020-07-22 11:45:16.231 | DEBUG    | vivarium.framework.engine:step:140 - 2020-12-19 00:00:00\n",
      "2020-07-22 11:45:33.207 | DEBUG    | vivarium.framework.engine:step:140 - 2020-12-20 00:00:00\n",
      "2020-07-22 11:45:51.091 | DEBUG    | vivarium.framework.engine:step:140 - 2020-12-21 00:00:00\n",
      "2020-07-22 11:46:08.327 | DEBUG    | vivarium.framework.engine:step:140 - 2020-12-22 00:00:00\n",
      "2020-07-22 11:46:26.002 | DEBUG    | vivarium.framework.engine:step:140 - 2020-12-23 00:00:00\n",
      "2020-07-22 11:46:43.819 | DEBUG    | vivarium.framework.engine:step:140 - 2020-12-24 00:00:00\n"
     ]
    },
    {
     "name": "stderr",
     "output_type": "stream",
     "text": [
      "2020-07-22 11:47:01.704 | DEBUG    | vivarium.framework.engine:step:140 - 2020-12-25 00:00:00\n",
      "2020-07-22 11:47:19.935 | DEBUG    | vivarium.framework.engine:step:140 - 2020-12-26 00:00:00\n",
      "2020-07-22 11:47:37.350 | DEBUG    | vivarium.framework.engine:step:140 - 2020-12-27 00:00:00\n",
      "2020-07-22 11:47:55.020 | DEBUG    | vivarium.framework.engine:step:140 - 2020-12-28 00:00:00\n",
      "2020-07-22 11:48:13.189 | DEBUG    | vivarium.framework.engine:step:140 - 2020-12-29 00:00:00\n",
      "2020-07-22 11:48:30.886 | DEBUG    | vivarium.framework.engine:step:140 - 2020-12-30 00:00:00\n"
     ]
    }
   ],
   "source": [
    "NUM_STEPS = 182\n",
    "\n",
    "# run time-steps                            \n",
    "for i in range(NUM_STEPS):\n",
    "    sim.step()"
   ]
  },
  {
   "cell_type": "markdown",
   "metadata": {},
   "source": [
    "# 3. Get pop table after model has run the time-steps indicated in 2 above "
   ]
  },
  {
   "cell_type": "code",
   "execution_count": 10,
   "metadata": {},
   "outputs": [
    {
     "data": {
      "text/html": [
       "<div>\n",
       "<style scoped>\n",
       "    .dataframe tbody tr th:only-of-type {\n",
       "        vertical-align: middle;\n",
       "    }\n",
       "\n",
       "    .dataframe tbody tr th {\n",
       "        vertical-align: top;\n",
       "    }\n",
       "\n",
       "    .dataframe thead th {\n",
       "        text-align: right;\n",
       "    }\n",
       "</style>\n",
       "<table border=\"1\" class=\"dataframe\">\n",
       "  <thead>\n",
       "    <tr style=\"text-align: right;\">\n",
       "      <th></th>\n",
       "      <th>tracked</th>\n",
       "      <th>mother_malnourished</th>\n",
       "      <th>scenario_maternal_supplementation_type</th>\n",
       "      <th>baseline_maternal_supplementation_type</th>\n",
       "      <th>previous_protein_energy_malnutrition</th>\n",
       "      <th>previous_lower_respiratory_infections</th>\n",
       "      <th>previous_measles</th>\n",
       "      <th>previous_diarrheal_diseases</th>\n",
       "      <th>years_lived_with_disability</th>\n",
       "      <th>cause_of_death</th>\n",
       "      <th>...</th>\n",
       "      <th>diarrheal_diseases</th>\n",
       "      <th>diarrheal_diseases_event_time</th>\n",
       "      <th>diarrheal_diseases_event_count</th>\n",
       "      <th>susceptible_to_diarrheal_diseases_event_count</th>\n",
       "      <th>susceptible_to_diarrheal_diseases_event_time</th>\n",
       "      <th>child_stunting_propensity</th>\n",
       "      <th>child_wasting_propensity</th>\n",
       "      <th>protein_energy_malnutrition_event_time</th>\n",
       "      <th>susceptible_to_protein_energy_malnutrition_event_time</th>\n",
       "      <th>protein_energy_malnutrition</th>\n",
       "    </tr>\n",
       "  </thead>\n",
       "  <tbody>\n",
       "    <tr>\n",
       "      <th>0</th>\n",
       "      <td>True</td>\n",
       "      <td>normal</td>\n",
       "      <td>none</td>\n",
       "      <td>none</td>\n",
       "      <td>susceptible_to_protein_energy_malnutrition</td>\n",
       "      <td>susceptible_to_lower_respiratory_infections</td>\n",
       "      <td>susceptible_to_measles</td>\n",
       "      <td>susceptible_to_diarrheal_diseases</td>\n",
       "      <td>0.013717</td>\n",
       "      <td>not_dead</td>\n",
       "      <td>...</td>\n",
       "      <td>susceptible_to_diarrheal_diseases</td>\n",
       "      <td>2020-10-09</td>\n",
       "      <td>2</td>\n",
       "      <td>2</td>\n",
       "      <td>2020-10-15</td>\n",
       "      <td>0.332496</td>\n",
       "      <td>0.773213</td>\n",
       "      <td>NaT</td>\n",
       "      <td>NaT</td>\n",
       "      <td>susceptible_to_protein_energy_malnutrition</td>\n",
       "    </tr>\n",
       "    <tr>\n",
       "      <th>1</th>\n",
       "      <td>True</td>\n",
       "      <td>normal</td>\n",
       "      <td>none</td>\n",
       "      <td>none</td>\n",
       "      <td>protein_energy_malnutrition</td>\n",
       "      <td>susceptible_to_lower_respiratory_infections</td>\n",
       "      <td>susceptible_to_measles</td>\n",
       "      <td>susceptible_to_diarrheal_diseases</td>\n",
       "      <td>0.024688</td>\n",
       "      <td>not_dead</td>\n",
       "      <td>...</td>\n",
       "      <td>susceptible_to_diarrheal_diseases</td>\n",
       "      <td>NaT</td>\n",
       "      <td>0</td>\n",
       "      <td>0</td>\n",
       "      <td>NaT</td>\n",
       "      <td>0.393300</td>\n",
       "      <td>0.123403</td>\n",
       "      <td>2020-07-01</td>\n",
       "      <td>NaT</td>\n",
       "      <td>protein_energy_malnutrition</td>\n",
       "    </tr>\n",
       "    <tr>\n",
       "      <th>2</th>\n",
       "      <td>True</td>\n",
       "      <td>malnourished</td>\n",
       "      <td>none</td>\n",
       "      <td>none</td>\n",
       "      <td>protein_energy_malnutrition</td>\n",
       "      <td>susceptible_to_lower_respiratory_infections</td>\n",
       "      <td>susceptible_to_measles</td>\n",
       "      <td>susceptible_to_diarrheal_diseases</td>\n",
       "      <td>0.030691</td>\n",
       "      <td>not_dead</td>\n",
       "      <td>...</td>\n",
       "      <td>susceptible_to_diarrheal_diseases</td>\n",
       "      <td>2020-11-25</td>\n",
       "      <td>3</td>\n",
       "      <td>3</td>\n",
       "      <td>2020-11-28</td>\n",
       "      <td>0.938984</td>\n",
       "      <td>0.100728</td>\n",
       "      <td>2020-07-01</td>\n",
       "      <td>NaT</td>\n",
       "      <td>protein_energy_malnutrition</td>\n",
       "    </tr>\n",
       "    <tr>\n",
       "      <th>3</th>\n",
       "      <td>True</td>\n",
       "      <td>malnourished</td>\n",
       "      <td>ifa</td>\n",
       "      <td>ifa</td>\n",
       "      <td>susceptible_to_protein_energy_malnutrition</td>\n",
       "      <td>susceptible_to_lower_respiratory_infections</td>\n",
       "      <td>susceptible_to_measles</td>\n",
       "      <td>susceptible_to_diarrheal_diseases</td>\n",
       "      <td>0.000000</td>\n",
       "      <td>not_dead</td>\n",
       "      <td>...</td>\n",
       "      <td>susceptible_to_diarrheal_diseases</td>\n",
       "      <td>NaT</td>\n",
       "      <td>0</td>\n",
       "      <td>0</td>\n",
       "      <td>NaT</td>\n",
       "      <td>0.609167</td>\n",
       "      <td>0.578352</td>\n",
       "      <td>NaT</td>\n",
       "      <td>NaT</td>\n",
       "      <td>susceptible_to_protein_energy_malnutrition</td>\n",
       "    </tr>\n",
       "    <tr>\n",
       "      <th>4</th>\n",
       "      <td>True</td>\n",
       "      <td>normal</td>\n",
       "      <td>none</td>\n",
       "      <td>none</td>\n",
       "      <td>susceptible_to_protein_energy_malnutrition</td>\n",
       "      <td>susceptible_to_lower_respiratory_infections</td>\n",
       "      <td>susceptible_to_measles</td>\n",
       "      <td>susceptible_to_diarrheal_diseases</td>\n",
       "      <td>0.000000</td>\n",
       "      <td>not_dead</td>\n",
       "      <td>...</td>\n",
       "      <td>susceptible_to_diarrheal_diseases</td>\n",
       "      <td>NaT</td>\n",
       "      <td>0</td>\n",
       "      <td>0</td>\n",
       "      <td>NaT</td>\n",
       "      <td>0.193016</td>\n",
       "      <td>0.973632</td>\n",
       "      <td>NaT</td>\n",
       "      <td>NaT</td>\n",
       "      <td>susceptible_to_protein_energy_malnutrition</td>\n",
       "    </tr>\n",
       "  </tbody>\n",
       "</table>\n",
       "<p>5 rows × 42 columns</p>\n",
       "</div>"
      ],
      "text/plain": [
       "   tracked mother_malnourished scenario_maternal_supplementation_type  \\\n",
       "0     True              normal                                   none   \n",
       "1     True              normal                                   none   \n",
       "2     True        malnourished                                   none   \n",
       "3     True        malnourished                                    ifa   \n",
       "4     True              normal                                   none   \n",
       "\n",
       "  baseline_maternal_supplementation_type  \\\n",
       "0                                   none   \n",
       "1                                   none   \n",
       "2                                   none   \n",
       "3                                    ifa   \n",
       "4                                   none   \n",
       "\n",
       "         previous_protein_energy_malnutrition  \\\n",
       "0  susceptible_to_protein_energy_malnutrition   \n",
       "1                 protein_energy_malnutrition   \n",
       "2                 protein_energy_malnutrition   \n",
       "3  susceptible_to_protein_energy_malnutrition   \n",
       "4  susceptible_to_protein_energy_malnutrition   \n",
       "\n",
       "         previous_lower_respiratory_infections        previous_measles  \\\n",
       "0  susceptible_to_lower_respiratory_infections  susceptible_to_measles   \n",
       "1  susceptible_to_lower_respiratory_infections  susceptible_to_measles   \n",
       "2  susceptible_to_lower_respiratory_infections  susceptible_to_measles   \n",
       "3  susceptible_to_lower_respiratory_infections  susceptible_to_measles   \n",
       "4  susceptible_to_lower_respiratory_infections  susceptible_to_measles   \n",
       "\n",
       "         previous_diarrheal_diseases  years_lived_with_disability  \\\n",
       "0  susceptible_to_diarrheal_diseases                     0.013717   \n",
       "1  susceptible_to_diarrheal_diseases                     0.024688   \n",
       "2  susceptible_to_diarrheal_diseases                     0.030691   \n",
       "3  susceptible_to_diarrheal_diseases                     0.000000   \n",
       "4  susceptible_to_diarrheal_diseases                     0.000000   \n",
       "\n",
       "  cause_of_death  ...                 diarrheal_diseases  \\\n",
       "0       not_dead  ...  susceptible_to_diarrheal_diseases   \n",
       "1       not_dead  ...  susceptible_to_diarrheal_diseases   \n",
       "2       not_dead  ...  susceptible_to_diarrheal_diseases   \n",
       "3       not_dead  ...  susceptible_to_diarrheal_diseases   \n",
       "4       not_dead  ...  susceptible_to_diarrheal_diseases   \n",
       "\n",
       "  diarrheal_diseases_event_time  diarrheal_diseases_event_count  \\\n",
       "0                    2020-10-09                               2   \n",
       "1                           NaT                               0   \n",
       "2                    2020-11-25                               3   \n",
       "3                           NaT                               0   \n",
       "4                           NaT                               0   \n",
       "\n",
       "   susceptible_to_diarrheal_diseases_event_count  \\\n",
       "0                                              2   \n",
       "1                                              0   \n",
       "2                                              3   \n",
       "3                                              0   \n",
       "4                                              0   \n",
       "\n",
       "  susceptible_to_diarrheal_diseases_event_time child_stunting_propensity  \\\n",
       "0                                   2020-10-15                  0.332496   \n",
       "1                                          NaT                  0.393300   \n",
       "2                                   2020-11-28                  0.938984   \n",
       "3                                          NaT                  0.609167   \n",
       "4                                          NaT                  0.193016   \n",
       "\n",
       "  child_wasting_propensity protein_energy_malnutrition_event_time  \\\n",
       "0                 0.773213                                    NaT   \n",
       "1                 0.123403                             2020-07-01   \n",
       "2                 0.100728                             2020-07-01   \n",
       "3                 0.578352                                    NaT   \n",
       "4                 0.973632                                    NaT   \n",
       "\n",
       "   susceptible_to_protein_energy_malnutrition_event_time  \\\n",
       "0                                                NaT       \n",
       "1                                                NaT       \n",
       "2                                                NaT       \n",
       "3                                                NaT       \n",
       "4                                                NaT       \n",
       "\n",
       "                  protein_energy_malnutrition  \n",
       "0  susceptible_to_protein_energy_malnutrition  \n",
       "1                 protein_energy_malnutrition  \n",
       "2                 protein_energy_malnutrition  \n",
       "3  susceptible_to_protein_energy_malnutrition  \n",
       "4  susceptible_to_protein_energy_malnutrition  \n",
       "\n",
       "[5 rows x 42 columns]"
      ]
     },
     "execution_count": 10,
     "metadata": {},
     "output_type": "execute_result"
    }
   ],
   "source": [
    "#co-variate population using get_population() method\n",
    "\n",
    "pop = sim.get_population()\n",
    "pop.head()\n",
    "\n",
    "#10,000 original simulants were specified in the yaml file, some would have died during time-steps"
   ]
  },
  {
   "cell_type": "markdown",
   "metadata": {},
   "source": [
    "# explore pop columes alive (tells us whether the simulant has died or is still alive) This is an important column because we want to analyse the alive population only at 6 months\n",
    "\n",
    "pop.alive.head()"
   ]
  },
  {
   "cell_type": "code",
   "execution_count": 12,
   "metadata": {},
   "outputs": [
    {
     "data": {
      "text/plain": [
       "0    3251.607412\n",
       "1    2764.606407\n",
       "2    3157.065097\n",
       "3    3306.544096\n",
       "4    4329.265723\n",
       "Name: birth_weight, dtype: float64"
      ]
     },
     "execution_count": 12,
     "metadata": {},
     "output_type": "execute_result"
    }
   ],
   "source": [
    "#explore pop columes birthweight \n",
    "\n",
    "\n",
    "pop.birth_weight.head()"
   ]
  },
  {
   "cell_type": "markdown",
   "metadata": {},
   "source": [
    "# 4. Get pipeline for interested variables (pipeline is a kind of method, so doesnt change in between sims. Only the values coming out of the pipeline changes)"
   ]
  },
  {
   "cell_type": "code",
   "execution_count": 54,
   "metadata": {},
   "outputs": [
    {
     "data": {
      "text/plain": [
       "['metrics',\n",
       " 'protein_energy_malnutrition.disability_weight',\n",
       " 'disability_weight',\n",
       " 'cause_specific_mortality_rate',\n",
       " 'protein_energy_malnutrition.excess_mortality_rate',\n",
       " 'protein_energy_malnutrition.excess_mortality_rate.population_attributable_fraction',\n",
       " 'mortality_rate',\n",
       " 'child_wasting.exposure',\n",
       " 'child_wasting.propensity',\n",
       " 'diarrheal_diseases.incidence_rate',\n",
       " 'diarrheal_diseases.incidence_rate.paf',\n",
       " 'measles.incidence_rate',\n",
       " 'measles.incidence_rate.paf',\n",
       " 'lower_respiratory_infections.incidence_rate',\n",
       " 'lower_respiratory_infections.incidence_rate.paf',\n",
       " 'child_stunting.propensity',\n",
       " 'child_stunting.exposure',\n",
       " 'affected_unmodeled.csmr',\n",
       " 'affected_unmodeled.csmr.population_attributable_fraction',\n",
       " 'all_causes.mortality_hazard',\n",
       " 'all_causes.mortality_hazard.population_attributable_fraction',\n",
       " 'diarrheal_diseases.dwell_time',\n",
       " 'diarrheal_diseases.disability_weight',\n",
       " 'diarrheal_diseases.excess_mortality_rate',\n",
       " 'diarrheal_diseases.excess_mortality_rate.population_attributable_fraction',\n",
       " 'diarrheal_diseases.remission_rate',\n",
       " 'diarrheal_diseases.remission_rate.paf',\n",
       " 'measles.dwell_time',\n",
       " 'measles.disability_weight',\n",
       " 'measles.excess_mortality_rate',\n",
       " 'measles.excess_mortality_rate.population_attributable_fraction',\n",
       " 'lower_respiratory_infections.dwell_time',\n",
       " 'lower_respiratory_infections.disability_weight',\n",
       " 'lower_respiratory_infections.excess_mortality_rate',\n",
       " 'lower_respiratory_infections.excess_mortality_rate.population_attributable_fraction',\n",
       " 'lower_respiratory_infections.remission_rate',\n",
       " 'lower_respiratory_infections.remission_rate.paf',\n",
       " 'low_birth_weight_and_short_gestation.raw_exposure',\n",
       " 'low_birth_weight_and_short_gestation.exposure']"
      ]
     },
     "execution_count": 54,
     "metadata": {},
     "output_type": "execute_result"
    }
   ],
   "source": [
    "#list the key names of the pipeline\n",
    "sim.list_values()"
   ]
  },
  {
   "cell_type": "code",
   "execution_count": 14,
   "metadata": {},
   "outputs": [],
   "source": [
    "#interested pipelines : 'child_stunting.exposure', 'child_wasting.exposure'\n",
    "#this 'get_value' gets the wasting pipline values -not totall sure what this means! get some clarification\n",
    "# a pipeline is a 'python method thingie'\n",
    "\n",
    "pipe_wasting = sim.get_value('child_wasting.exposure')\n",
    "pipe_stunting = sim.get_value('child_stunting.exposure')\n",
    "pipe_lbwsg = sim.get_value('low_birth_weight_and_short_gestation.exposure')"
   ]
  },
  {
   "cell_type": "code",
   "execution_count": 15,
   "metadata": {
    "scrolled": true
   },
   "outputs": [
    {
     "data": {
      "text/plain": [
       "0    10.990586\n",
       "1     7.905348\n",
       "2     7.051595\n",
       "3     9.493579\n",
       "4    13.244393\n",
       "dtype: float64"
      ]
     },
     "execution_count": 15,
     "metadata": {},
     "output_type": "execute_result"
    }
   ],
   "source": [
    "#the skip_post_processor skips the conversion of the z-scores to cats 1-4 (this is a method, and shouldnt need to be re-run)\n",
    "\n",
    "type(pipe_wasting(pop.index, skip_post_processor=True))\n",
    "pipe_wasting(pop.index, skip_post_processor=True).head()"
   ]
  },
  {
   "cell_type": "code",
   "execution_count": 16,
   "metadata": {},
   "outputs": [
    {
     "data": {
      "text/plain": [
       "0     8.828346\n",
       "1     9.205418\n",
       "2    12.057564\n",
       "3     9.456805\n",
       "4     8.013094\n",
       "dtype: float64"
      ]
     },
     "execution_count": 16,
     "metadata": {},
     "output_type": "execute_result"
    }
   ],
   "source": [
    "#stunting pipeline\n",
    "\n",
    "pipe_stunting(pop.index, skip_post_processor=True).head()"
   ]
  },
  {
   "cell_type": "markdown",
   "metadata": {},
   "source": [
    "## Create mask to filter alive/dead population "
   ]
  },
  {
   "cell_type": "code",
   "execution_count": 18,
   "metadata": {},
   "outputs": [
    {
     "data": {
      "text/plain": [
       "0    True\n",
       "1    True\n",
       "2    True\n",
       "3    True\n",
       "4    True\n",
       "Name: alive, dtype: bool"
      ]
     },
     "execution_count": 18,
     "metadata": {},
     "output_type": "execute_result"
    }
   ],
   "source": [
    "# create mask; read more about masking here ->http://danielandreasen.github.io/:about/2015/01/19/masks-in-python/\n",
    "\n",
    "#(pop.alive == 'alive').all()\n",
    "\n",
    "mask_alive = pop.alive == 'alive'\n",
    "\n",
    "#mask_alive[:5] = False\n",
    "mask_alive.head()"
   ]
  },
  {
   "cell_type": "code",
   "execution_count": 17,
   "metadata": {},
   "outputs": [
    {
     "data": {
      "text/html": [
       "<div>\n",
       "<style scoped>\n",
       "    .dataframe tbody tr th:only-of-type {\n",
       "        vertical-align: middle;\n",
       "    }\n",
       "\n",
       "    .dataframe tbody tr th {\n",
       "        vertical-align: top;\n",
       "    }\n",
       "\n",
       "    .dataframe thead th {\n",
       "        text-align: right;\n",
       "    }\n",
       "</style>\n",
       "<table border=\"1\" class=\"dataframe\">\n",
       "  <thead>\n",
       "    <tr style=\"text-align: right;\">\n",
       "      <th></th>\n",
       "      <th>birth_weight</th>\n",
       "      <th>gestation_time</th>\n",
       "    </tr>\n",
       "  </thead>\n",
       "  <tbody>\n",
       "    <tr>\n",
       "      <th>0</th>\n",
       "      <td>3357.876944</td>\n",
       "      <td>38.696547</td>\n",
       "    </tr>\n",
       "    <tr>\n",
       "      <th>1</th>\n",
       "      <td>2876.793907</td>\n",
       "      <td>40.506541</td>\n",
       "    </tr>\n",
       "    <tr>\n",
       "      <th>2</th>\n",
       "      <td>2996.381503</td>\n",
       "      <td>38.588442</td>\n",
       "    </tr>\n",
       "    <tr>\n",
       "      <th>3</th>\n",
       "      <td>3171.544096</td>\n",
       "      <td>37.822455</td>\n",
       "    </tr>\n",
       "    <tr>\n",
       "      <th>4</th>\n",
       "      <td>4435.535254</td>\n",
       "      <td>37.854704</td>\n",
       "    </tr>\n",
       "  </tbody>\n",
       "</table>\n",
       "</div>"
      ],
      "text/plain": [
       "   birth_weight  gestation_time\n",
       "0   3357.876944       38.696547\n",
       "1   2876.793907       40.506541\n",
       "2   2996.381503       38.588442\n",
       "3   3171.544096       37.822455\n",
       "4   4435.535254       37.854704"
      ]
     },
     "execution_count": 17,
     "metadata": {},
     "output_type": "execute_result"
    }
   ],
   "source": [
    "# birthweight\n",
    "\n",
    "#pipe_lbwsg(pd.Index(range(8)), skip_post_processor=True).head(10) #tells the pipeline to select the first 8 indexes\n",
    "pipe_lbwsg(pop.index, skip_post_processor=True).head()\n"
   ]
  },
  {
   "cell_type": "code",
   "execution_count": 19,
   "metadata": {},
   "outputs": [
    {
     "data": {
      "text/html": [
       "<div>\n",
       "<style scoped>\n",
       "    .dataframe tbody tr th:only-of-type {\n",
       "        vertical-align: middle;\n",
       "    }\n",
       "\n",
       "    .dataframe tbody tr th {\n",
       "        vertical-align: top;\n",
       "    }\n",
       "\n",
       "    .dataframe thead th {\n",
       "        text-align: right;\n",
       "    }\n",
       "</style>\n",
       "<table border=\"1\" class=\"dataframe\">\n",
       "  <thead>\n",
       "    <tr style=\"text-align: right;\">\n",
       "      <th></th>\n",
       "      <th>tracked</th>\n",
       "      <th>mother_malnourished</th>\n",
       "      <th>scenario_maternal_supplementation_type</th>\n",
       "      <th>baseline_maternal_supplementation_type</th>\n",
       "      <th>previous_protein_energy_malnutrition</th>\n",
       "      <th>previous_lower_respiratory_infections</th>\n",
       "      <th>previous_measles</th>\n",
       "      <th>previous_diarrheal_diseases</th>\n",
       "      <th>years_lived_with_disability</th>\n",
       "      <th>cause_of_death</th>\n",
       "      <th>...</th>\n",
       "      <th>diarrheal_diseases</th>\n",
       "      <th>diarrheal_diseases_event_time</th>\n",
       "      <th>diarrheal_diseases_event_count</th>\n",
       "      <th>susceptible_to_diarrheal_diseases_event_count</th>\n",
       "      <th>susceptible_to_diarrheal_diseases_event_time</th>\n",
       "      <th>child_stunting_propensity</th>\n",
       "      <th>child_wasting_propensity</th>\n",
       "      <th>protein_energy_malnutrition_event_time</th>\n",
       "      <th>susceptible_to_protein_energy_malnutrition_event_time</th>\n",
       "      <th>protein_energy_malnutrition</th>\n",
       "    </tr>\n",
       "  </thead>\n",
       "  <tbody>\n",
       "    <tr>\n",
       "      <th>0</th>\n",
       "      <td>True</td>\n",
       "      <td>normal</td>\n",
       "      <td>none</td>\n",
       "      <td>none</td>\n",
       "      <td>susceptible_to_protein_energy_malnutrition</td>\n",
       "      <td>susceptible_to_lower_respiratory_infections</td>\n",
       "      <td>susceptible_to_measles</td>\n",
       "      <td>susceptible_to_diarrheal_diseases</td>\n",
       "      <td>0.013717</td>\n",
       "      <td>not_dead</td>\n",
       "      <td>...</td>\n",
       "      <td>susceptible_to_diarrheal_diseases</td>\n",
       "      <td>2020-10-09</td>\n",
       "      <td>2</td>\n",
       "      <td>2</td>\n",
       "      <td>2020-10-15</td>\n",
       "      <td>0.332496</td>\n",
       "      <td>0.773213</td>\n",
       "      <td>NaT</td>\n",
       "      <td>NaT</td>\n",
       "      <td>susceptible_to_protein_energy_malnutrition</td>\n",
       "    </tr>\n",
       "    <tr>\n",
       "      <th>1</th>\n",
       "      <td>True</td>\n",
       "      <td>normal</td>\n",
       "      <td>none</td>\n",
       "      <td>none</td>\n",
       "      <td>protein_energy_malnutrition</td>\n",
       "      <td>susceptible_to_lower_respiratory_infections</td>\n",
       "      <td>susceptible_to_measles</td>\n",
       "      <td>susceptible_to_diarrheal_diseases</td>\n",
       "      <td>0.024688</td>\n",
       "      <td>not_dead</td>\n",
       "      <td>...</td>\n",
       "      <td>susceptible_to_diarrheal_diseases</td>\n",
       "      <td>NaT</td>\n",
       "      <td>0</td>\n",
       "      <td>0</td>\n",
       "      <td>NaT</td>\n",
       "      <td>0.393300</td>\n",
       "      <td>0.123403</td>\n",
       "      <td>2020-07-01</td>\n",
       "      <td>NaT</td>\n",
       "      <td>protein_energy_malnutrition</td>\n",
       "    </tr>\n",
       "    <tr>\n",
       "      <th>2</th>\n",
       "      <td>True</td>\n",
       "      <td>malnourished</td>\n",
       "      <td>none</td>\n",
       "      <td>none</td>\n",
       "      <td>protein_energy_malnutrition</td>\n",
       "      <td>susceptible_to_lower_respiratory_infections</td>\n",
       "      <td>susceptible_to_measles</td>\n",
       "      <td>susceptible_to_diarrheal_diseases</td>\n",
       "      <td>0.030691</td>\n",
       "      <td>not_dead</td>\n",
       "      <td>...</td>\n",
       "      <td>susceptible_to_diarrheal_diseases</td>\n",
       "      <td>2020-11-25</td>\n",
       "      <td>3</td>\n",
       "      <td>3</td>\n",
       "      <td>2020-11-28</td>\n",
       "      <td>0.938984</td>\n",
       "      <td>0.100728</td>\n",
       "      <td>2020-07-01</td>\n",
       "      <td>NaT</td>\n",
       "      <td>protein_energy_malnutrition</td>\n",
       "    </tr>\n",
       "    <tr>\n",
       "      <th>3</th>\n",
       "      <td>True</td>\n",
       "      <td>malnourished</td>\n",
       "      <td>ifa</td>\n",
       "      <td>ifa</td>\n",
       "      <td>susceptible_to_protein_energy_malnutrition</td>\n",
       "      <td>susceptible_to_lower_respiratory_infections</td>\n",
       "      <td>susceptible_to_measles</td>\n",
       "      <td>susceptible_to_diarrheal_diseases</td>\n",
       "      <td>0.000000</td>\n",
       "      <td>not_dead</td>\n",
       "      <td>...</td>\n",
       "      <td>susceptible_to_diarrheal_diseases</td>\n",
       "      <td>NaT</td>\n",
       "      <td>0</td>\n",
       "      <td>0</td>\n",
       "      <td>NaT</td>\n",
       "      <td>0.609167</td>\n",
       "      <td>0.578352</td>\n",
       "      <td>NaT</td>\n",
       "      <td>NaT</td>\n",
       "      <td>susceptible_to_protein_energy_malnutrition</td>\n",
       "    </tr>\n",
       "    <tr>\n",
       "      <th>4</th>\n",
       "      <td>True</td>\n",
       "      <td>normal</td>\n",
       "      <td>none</td>\n",
       "      <td>none</td>\n",
       "      <td>susceptible_to_protein_energy_malnutrition</td>\n",
       "      <td>susceptible_to_lower_respiratory_infections</td>\n",
       "      <td>susceptible_to_measles</td>\n",
       "      <td>susceptible_to_diarrheal_diseases</td>\n",
       "      <td>0.000000</td>\n",
       "      <td>not_dead</td>\n",
       "      <td>...</td>\n",
       "      <td>susceptible_to_diarrheal_diseases</td>\n",
       "      <td>NaT</td>\n",
       "      <td>0</td>\n",
       "      <td>0</td>\n",
       "      <td>NaT</td>\n",
       "      <td>0.193016</td>\n",
       "      <td>0.973632</td>\n",
       "      <td>NaT</td>\n",
       "      <td>NaT</td>\n",
       "      <td>susceptible_to_protein_energy_malnutrition</td>\n",
       "    </tr>\n",
       "  </tbody>\n",
       "</table>\n",
       "<p>5 rows × 42 columns</p>\n",
       "</div>"
      ],
      "text/plain": [
       "   tracked mother_malnourished scenario_maternal_supplementation_type  \\\n",
       "0     True              normal                                   none   \n",
       "1     True              normal                                   none   \n",
       "2     True        malnourished                                   none   \n",
       "3     True        malnourished                                    ifa   \n",
       "4     True              normal                                   none   \n",
       "\n",
       "  baseline_maternal_supplementation_type  \\\n",
       "0                                   none   \n",
       "1                                   none   \n",
       "2                                   none   \n",
       "3                                    ifa   \n",
       "4                                   none   \n",
       "\n",
       "         previous_protein_energy_malnutrition  \\\n",
       "0  susceptible_to_protein_energy_malnutrition   \n",
       "1                 protein_energy_malnutrition   \n",
       "2                 protein_energy_malnutrition   \n",
       "3  susceptible_to_protein_energy_malnutrition   \n",
       "4  susceptible_to_protein_energy_malnutrition   \n",
       "\n",
       "         previous_lower_respiratory_infections        previous_measles  \\\n",
       "0  susceptible_to_lower_respiratory_infections  susceptible_to_measles   \n",
       "1  susceptible_to_lower_respiratory_infections  susceptible_to_measles   \n",
       "2  susceptible_to_lower_respiratory_infections  susceptible_to_measles   \n",
       "3  susceptible_to_lower_respiratory_infections  susceptible_to_measles   \n",
       "4  susceptible_to_lower_respiratory_infections  susceptible_to_measles   \n",
       "\n",
       "         previous_diarrheal_diseases  years_lived_with_disability  \\\n",
       "0  susceptible_to_diarrheal_diseases                     0.013717   \n",
       "1  susceptible_to_diarrheal_diseases                     0.024688   \n",
       "2  susceptible_to_diarrheal_diseases                     0.030691   \n",
       "3  susceptible_to_diarrheal_diseases                     0.000000   \n",
       "4  susceptible_to_diarrheal_diseases                     0.000000   \n",
       "\n",
       "  cause_of_death  ...                 diarrheal_diseases  \\\n",
       "0       not_dead  ...  susceptible_to_diarrheal_diseases   \n",
       "1       not_dead  ...  susceptible_to_diarrheal_diseases   \n",
       "2       not_dead  ...  susceptible_to_diarrheal_diseases   \n",
       "3       not_dead  ...  susceptible_to_diarrheal_diseases   \n",
       "4       not_dead  ...  susceptible_to_diarrheal_diseases   \n",
       "\n",
       "  diarrheal_diseases_event_time  diarrheal_diseases_event_count  \\\n",
       "0                    2020-10-09                               2   \n",
       "1                           NaT                               0   \n",
       "2                    2020-11-25                               3   \n",
       "3                           NaT                               0   \n",
       "4                           NaT                               0   \n",
       "\n",
       "   susceptible_to_diarrheal_diseases_event_count  \\\n",
       "0                                              2   \n",
       "1                                              0   \n",
       "2                                              3   \n",
       "3                                              0   \n",
       "4                                              0   \n",
       "\n",
       "  susceptible_to_diarrheal_diseases_event_time child_stunting_propensity  \\\n",
       "0                                   2020-10-15                  0.332496   \n",
       "1                                          NaT                  0.393300   \n",
       "2                                   2020-11-28                  0.938984   \n",
       "3                                          NaT                  0.609167   \n",
       "4                                          NaT                  0.193016   \n",
       "\n",
       "  child_wasting_propensity protein_energy_malnutrition_event_time  \\\n",
       "0                 0.773213                                    NaT   \n",
       "1                 0.123403                             2020-07-01   \n",
       "2                 0.100728                             2020-07-01   \n",
       "3                 0.578352                                    NaT   \n",
       "4                 0.973632                                    NaT   \n",
       "\n",
       "   susceptible_to_protein_energy_malnutrition_event_time  \\\n",
       "0                                                NaT       \n",
       "1                                                NaT       \n",
       "2                                                NaT       \n",
       "3                                                NaT       \n",
       "4                                                NaT       \n",
       "\n",
       "                  protein_energy_malnutrition  \n",
       "0  susceptible_to_protein_energy_malnutrition  \n",
       "1                 protein_energy_malnutrition  \n",
       "2                 protein_energy_malnutrition  \n",
       "3  susceptible_to_protein_energy_malnutrition  \n",
       "4  susceptible_to_protein_energy_malnutrition  \n",
       "\n",
       "[5 rows x 42 columns]"
      ]
     },
     "execution_count": 19,
     "metadata": {},
     "output_type": "execute_result"
    }
   ],
   "source": [
    "pop[mask_alive].head()\n",
    "\n",
    "#pop[bolean series] --> if you pass a bolean series inside square brackets of a data frame, you get a dataframe where bolean is true\n",
    "# the boleans series is a different object, so make sure they have matching indexes"
   ]
  },
  {
   "cell_type": "markdown",
   "metadata": {},
   "source": [
    "# create index for alive population and dead population "
   ]
  },
  {
   "cell_type": "code",
   "execution_count": 20,
   "metadata": {},
   "outputs": [],
   "source": [
    "#another way to do it\n",
    "alive_pop = pop.loc[mask_alive, :]\n",
    "dead_pop = pop.loc[~mask_alive, :]\n",
    "\n",
    "# pop.loc[mask_alive, ['mother_malnourished', 'tracked']].head() \n",
    "\n",
    "# two dimensions of dataframe where loc[row,columns]\n",
    "# here I'm saying i only want the rows defined by my ask, and the colon means all columns \n",
    "# .loc makes it more clear which filters I am using for rows and columns"
   ]
  },
  {
   "cell_type": "code",
   "execution_count": 21,
   "metadata": {
    "scrolled": true
   },
   "outputs": [
    {
     "data": {
      "text/plain": [
       "Int64Index([   0,    1,    2,    3,    4,    5,    6,    7,    8,    9,\n",
       "            ...\n",
       "            9990, 9991, 9992, 9993, 9994, 9995, 9996, 9997, 9998, 9999],\n",
       "           dtype='int64', length=9743)"
      ]
     },
     "execution_count": 21,
     "metadata": {},
     "output_type": "execute_result"
    }
   ],
   "source": [
    "alive_pop.index"
   ]
  },
  {
   "cell_type": "code",
   "execution_count": 22,
   "metadata": {},
   "outputs": [
    {
     "data": {
      "text/plain": [
       "Int64Index([  50,  120,  167,  202,  231,  278,  421,  494,  509,  671,\n",
       "            ...\n",
       "            9613, 9666, 9677, 9690, 9712, 9786, 9851, 9862, 9941, 9943],\n",
       "           dtype='int64', length=257)"
      ]
     },
     "execution_count": 22,
     "metadata": {},
     "output_type": "execute_result"
    }
   ],
   "source": [
    "dead_pop.index"
   ]
  },
  {
   "cell_type": "code",
   "execution_count": 23,
   "metadata": {},
   "outputs": [
    {
     "data": {
      "text/plain": [
       "Int64Index([   0,    1,    2,    3,    4,    5,    6,    7,    8,    9,\n",
       "            ...\n",
       "            9990, 9991, 9992, 9993, 9994, 9995, 9996, 9997, 9998, 9999],\n",
       "           dtype='int64', length=9743)"
      ]
     },
     "execution_count": 23,
     "metadata": {},
     "output_type": "execute_result"
    }
   ],
   "source": [
    "pop.index[mask_alive]\n",
    "\n",
    "#by default, this is giving us a pd index data frame with all the values where mask_alive = alive is TRUE\n",
    "\n",
    "#pop.index[mask_alive[~mask_alive].index] # ~ means mask_alive= False (~ this is the complement operator)"
   ]
  },
  {
   "cell_type": "code",
   "execution_count": 24,
   "metadata": {},
   "outputs": [
    {
     "data": {
      "text/plain": [
       "Int64Index([   0,    1,    2,    3,    4,    5,    6,    7,    8,    9,\n",
       "            ...\n",
       "            9990, 9991, 9992, 9993, 9994, 9995, 9996, 9997, 9998, 9999],\n",
       "           dtype='int64', length=9743)"
      ]
     },
     "execution_count": 24,
     "metadata": {},
     "output_type": "execute_result"
    }
   ],
   "source": [
    "alive_index = alive_pop.index\n",
    "dead_index = dead_pop.index\n",
    "alive_index"
   ]
  },
  {
   "cell_type": "markdown",
   "metadata": {},
   "source": [
    "# 5. Create dataframe with interested variables"
   ]
  },
  {
   "cell_type": "code",
   "execution_count": 56,
   "metadata": {},
   "outputs": [
    {
     "data": {
      "text/plain": [
       "9743"
      ]
     },
     "execution_count": 56,
     "metadata": {},
     "output_type": "execute_result"
    }
   ],
   "source": [
    "#get the dataframe with individual data to look at correlation between birthweight and wasting/stunting z scores\n",
    "\n",
    "df1 = pd.DataFrame({'stunting': pipe_stunting(alive_index, skip_post_processor=True),\n",
    "                    'wasting': pipe_wasting(alive_index, skip_post_processor=True),\n",
    "                    'lbwsg': pipe_lbwsg(alive_index, skip_post_processor=True).birth_weight,\n",
    "                    'birth_weight': pop.loc[alive_index].birth_weight,\n",
    "                    'mom_status': pop.loc[alive_index].mother_malnourished,\n",
    "                    'ifa_status': pop.loc[alive_index].baseline_maternal_supplementation_type,\n",
    "                    'alive_status': pop.loc[alive_index].alive })\n",
    "len(df1)\n",
    "\n",
    "##note number who died is 10,000-len(df1)"
   ]
  },
  {
   "cell_type": "markdown",
   "metadata": {},
   "source": [
    "# 6. Explore variables"
   ]
  },
  {
   "cell_type": "code",
   "execution_count": 26,
   "metadata": {
    "scrolled": true
   },
   "outputs": [
    {
     "name": "stdout",
     "output_type": "stream",
     "text": [
      "0    10.990586\n",
      "1     7.905348\n",
      "2     7.051595\n",
      "3     9.493579\n",
      "4    13.244393\n",
      "Name: wasting, dtype: float64\n",
      "9.705611759862128\n"
     ]
    }
   ],
   "source": [
    "print(df1.wasting.head())\n",
    "print(df1.wasting.mean())"
   ]
  },
  {
   "cell_type": "markdown",
   "metadata": {},
   "source": [
    "## birthweight by mom status"
   ]
  },
  {
   "cell_type": "code",
   "execution_count": 74,
   "metadata": {
    "scrolled": true
   },
   "outputs": [
    {
     "name": "stdout",
     "output_type": "stream",
     "text": [
      "birthweight from malnourished mothers = 2743.7256193373473\n",
      "birthweight from normal mothers = 3017.6385859634224\n",
      "birthweight difference = 273.9129666260751\n"
     ]
    }
   ],
   "source": [
    "gb = df1.groupby('mom_status')\n",
    "\n",
    "print('birthweight from malnourished mothers = ' + str(gb.get_group('malnourished').lbwsg.mean()))\n",
    "print('birthweight from normal mothers = ' + str(gb.get_group('normal').lbwsg.mean()))\n",
    "print('birthweight difference = ' + str(gb.get_group('normal').lbwsg.mean()-gb.get_group('malnourished').lbwsg.mean()))\n",
    "\n",
    "# we want to update this to new data where we got the delta birthweight shift in grams from the literature of 160g"
   ]
  },
  {
   "cell_type": "code",
   "execution_count": 66,
   "metadata": {
    "scrolled": false
   },
   "outputs": [
    {
     "data": {
      "text/plain": [
       "<matplotlib.collections.PathCollection at 0x2b37f0ae0a58>"
      ]
     },
     "execution_count": 66,
     "metadata": {},
     "output_type": "execute_result"
    },
    {
     "data": {
      "image/png": "[encoded data removed]",
      "text/plain": [
       "<Figure size 432x288 with 1 Axes>"
      ]
     },
     "metadata": {
      "needs_background": "light"
     },
     "output_type": "display_data"
    }
   ],
   "source": [
    "pyplot.scatter(df1.mom_status, df1.lbwsg)"
   ]
  },
  {
   "cell_type": "markdown",
   "metadata": {},
   "source": [
    "## stunting z-score by mom status"
   ]
  },
  {
   "cell_type": "code",
   "execution_count": 84,
   "metadata": {},
   "outputs": [
    {
     "name": "stdout",
     "output_type": "stream",
     "text": [
      "stunting z-score from malnourished mothers = -1.0438657096475303\n",
      "stunting z-score from normal mothers = -0.2681537046333258\n",
      "stunting z-score difference = -0.7757120050142046\n"
     ]
    }
   ],
   "source": [
    "gb = df1.groupby('mom_status')\n",
    "\n",
    "mal_stunted = gb.get_group('malnourished').stunting.mean()-10\n",
    "norm_stunted = gb.get_group('normal').stunting.mean()-10\n",
    "stunted_diff = (mal_stunted) - (norm_stunted)\n",
    "\n",
    "\n",
    "print('stunting z-score from malnourished mothers = ' + str(mal_stunted))\n",
    "print('stunting z-score from normal mothers = ' + str(norm_stunted))\n",
    "print('stunting z-score difference = ' + str(stunted_diff))"
   ]
  },
  {
   "cell_type": "code",
   "execution_count": 78,
   "metadata": {
    "scrolled": true
   },
   "outputs": [
    {
     "data": {
      "text/plain": [
       "<matplotlib.collections.PathCollection at 0x2b1ebeb5c7b8>"
      ]
     },
     "execution_count": 78,
     "metadata": {},
     "output_type": "execute_result"
    },
    {
     "data": {
      "image/png": "[encoded data removed]",
      "text/plain": [
       "<Figure size 432x288 with 1 Axes>"
      ]
     },
     "metadata": {
      "needs_background": "light"
     },
     "output_type": "display_data"
    }
   ],
   "source": [
    "#scatter plot of z scores for stunting by mom status\n",
    "\n",
    "pyplot.scatter(df1.mom_status, df1.stunting-10)"
   ]
  },
  {
   "cell_type": "markdown",
   "metadata": {},
   "source": [
    "## wasting z-score by mom status"
   ]
  },
  {
   "cell_type": "code",
   "execution_count": 101,
   "metadata": {},
   "outputs": [
    {
     "name": "stdout",
     "output_type": "stream",
     "text": [
      "wasting z-score from malnourished mothers = -0.8256149058353088\n",
      "wasting z-score from normal mothers = -0.19665131318855522\n",
      "wasting z-score difference = -0.6289635926467536\n"
     ]
    }
   ],
   "source": [
    "gb = df1.groupby('mom_status')\n",
    "\n",
    "mal_wasted = gb.get_group('malnourished').wasting.mean() -10\n",
    "norm_wasted = gb.get_group('normal').wasting.mean() -10\n",
    "wasted_diff = (mal_wasted) - (norm_wasted)\n",
    "\n",
    "\n",
    "print('wasting z-score from malnourished mothers = ' + str(mal_wasted))\n",
    "print('wasting z-score from normal mothers = ' + str(norm_wasted))\n",
    "print('wasting z-score difference = ' + str(wasted_diff))"
   ]
  },
  {
   "cell_type": "code",
   "execution_count": 86,
   "metadata": {
    "scrolled": false
   },
   "outputs": [
    {
     "data": {
      "text/plain": [
       "<matplotlib.collections.PathCollection at 0x2b1ec71fb390>"
      ]
     },
     "execution_count": 86,
     "metadata": {},
     "output_type": "execute_result"
    },
    {
     "data": {
      "image/png": "[encoded data removed]",
      "text/plain": [
       "<Figure size 432x288 with 1 Axes>"
      ]
     },
     "metadata": {
      "needs_background": "light"
     },
     "output_type": "display_data"
    }
   ],
   "source": [
    "pyplot.scatter(df1.mom_status, df1.wasting-10)"
   ]
  },
  {
   "cell_type": "markdown",
   "metadata": {},
   "source": [
    "## Make scatter plots to visually inspect correlation"
   ]
  },
  {
   "cell_type": "code",
   "execution_count": 88,
   "metadata": {
    "scrolled": true
   },
   "outputs": [
    {
     "data": {
      "image/png": "[encoded data removed]",
      "text/plain": [
       "<Figure size 432x288 with 1 Axes>"
      ]
     },
     "metadata": {
      "needs_background": "light"
     },
     "output_type": "display_data"
    }
   ],
   "source": [
    "#get individual birthweight and individual WLZ - overall\n",
    "\n",
    "pyplot.scatter(df1.lbwsg, df1.wasting-10)\n",
    "pyplot.show()"
   ]
  },
  {
   "cell_type": "code",
   "execution_count": 93,
   "metadata": {},
   "outputs": [
    {
     "data": {
      "image/png": "[encoded data removed]",
      "text/plain": [
       "<Figure size 432x288 with 1 Axes>"
      ]
     },
     "metadata": {
      "needs_background": "light"
     },
     "output_type": "display_data"
    }
   ],
   "source": [
    "#get individual birthweight and individual LAZ - overall\n",
    "\n",
    "pyplot.scatter(df1.lbwsg, df1.stunting-10)\n",
    "pyplot.show()"
   ]
  },
  {
   "cell_type": "code",
   "execution_count": 90,
   "metadata": {},
   "outputs": [],
   "source": [
    "mask_mommal = df1.mom_status == 'malnourished'"
   ]
  },
  {
   "cell_type": "code",
   "execution_count": 94,
   "metadata": {},
   "outputs": [
    {
     "data": {
      "text/plain": [
       "<matplotlib.collections.PathCollection at 0x2b1ee097d898>"
      ]
     },
     "execution_count": 94,
     "metadata": {},
     "output_type": "execute_result"
    },
    {
     "data": {
      "image/png": "[encoded data removed]",
      "text/plain": [
       "<Figure size 432x288 with 1 Axes>"
      ]
     },
     "metadata": {
      "needs_background": "light"
     },
     "output_type": "display_data"
    }
   ],
   "source": [
    "#lbw and wasting among normal mothers\n",
    "\n",
    "pyplot.scatter(df1.loc[~mask_mommal,['lbwsg']], df1.loc[~mask_mommal,['wasting']]-10)"
   ]
  },
  {
   "cell_type": "code",
   "execution_count": 95,
   "metadata": {
    "scrolled": false
   },
   "outputs": [
    {
     "data": {
      "text/plain": [
       "<matplotlib.collections.PathCollection at 0x2b1ee09d7da0>"
      ]
     },
     "execution_count": 95,
     "metadata": {},
     "output_type": "execute_result"
    },
    {
     "data": {
      "image/png": "[encoded data removed]",
      "text/plain": [
       "<Figure size 432x288 with 1 Axes>"
      ]
     },
     "metadata": {
      "needs_background": "light"
     },
     "output_type": "display_data"
    }
   ],
   "source": [
    "#lbw and wasting among malnourished \n",
    "\n",
    "pyplot.scatter(df1.loc[mask_mommal,['lbwsg']], df1.loc[mask_mommal,['wasting']]-10)"
   ]
  },
  {
   "cell_type": "markdown",
   "metadata": {},
   "source": [
    "# 7. Calulcate correlation and spearman co-efficient"
   ]
  },
  {
   "cell_type": "markdown",
   "metadata": {},
   "source": [
    "correlation formula\n",
    "\n",
    "cov(X, Y) = (sum (x - mean(X)) * (y - mean(Y)) ) * 1/(n-1)"
   ]
  },
  {
   "cell_type": "code",
   "execution_count": 97,
   "metadata": {},
   "outputs": [],
   "source": [
    "bw = df1.lbwsg\n",
    "laz = df1.stunting-10\n",
    "wlz = df1.wasting-10\n",
    "n = len(df1)\n"
   ]
  },
  {
   "cell_type": "code",
   "execution_count": 98,
   "metadata": {},
   "outputs": [
    {
     "name": "stdout",
     "output_type": "stream",
     "text": [
      "[[4.57458053e+05 4.55356701e+01]\n",
      " [4.55356701e+01 4.19402341e+00]]\n"
     ]
    }
   ],
   "source": [
    "#Covariance\n",
    "\n",
    "covariance_laz = cov(bw, laz)\n",
    "print(covariance_laz)"
   ]
  },
  {
   "cell_type": "code",
   "execution_count": 99,
   "metadata": {
    "scrolled": true
   },
   "outputs": [
    {
     "name": "stdout",
     "output_type": "stream",
     "text": [
      "[[4.57458053e+05 1.93528958e+01]\n",
      " [1.93528958e+01 2.98191236e+00]]\n"
     ]
    }
   ],
   "source": [
    "covariance_wlz = cov(bw, wlz)\n",
    "print(covariance_wlz)"
   ]
  },
  {
   "cell_type": "code",
   "execution_count": 100,
   "metadata": {
    "scrolled": true
   },
   "outputs": [
    {
     "name": "stdout",
     "output_type": "stream",
     "text": [
      "spearman correlation coefficient for birthweight and laz at 6 months:\n",
      "SpearmanrResult(correlation=0.035159954846081386, pvalue=0.0005182368239762315)\n",
      "spearman correlation coefficient for birthweight and wlz at 6 months:\n",
      "SpearmanrResult(correlation=0.01507213608012537, pvalue=0.13685286161821597)\n"
     ]
    }
   ],
   "source": [
    "print('spearman correlation coefficient for birthweight and laz at 6 months:')\n",
    "print(stats.spearmanr(bw, laz))\n",
    "\n",
    "print('spearman correlation coefficient for birthweight and wlz at 6 months:')\n",
    "print(stats.spearmanr(bw, wlz))"
   ]
  },
  {
   "cell_type": "markdown",
   "metadata": {},
   "source": [
    "Pearson formula\n",
    "\t\n",
    "Pearson's correlation coefficient = covariance(X, Y) / (stdv(X) * stdv(Y))\n",
    "\n",
    "Spearman formula\n",
    "\n",
    "Spearman's correlation coefficient = covariance(rank(X), rank(Y)) / (stdv(rank(X)) * stdv(rank(Y)))"
   ]
  },
  {
   "cell_type": "markdown",
   "metadata": {},
   "source": [
    "# Abie's proposal\n",
    "\n",
    "0) intialize simulants attributes for birthweight and gestational age \n",
    "\n",
    "1) find a pseudo propensity for birthweight between 0-1 which says effectively where individul lies in the birthweight distribution \n",
    "\n",
    "- eg. if simulant 0 has birthweight 3371g, figure out where this simulant lies in the percentile in the distribution this simulants lie\n",
    "\n",
    "2) initliaze a laz score to be correlated with the birthweight with the spearman correlation of 0.4 (from the maled data) \n",
    "\n",
    "\n",
    "\n"
   ]
  }
 ],
 "metadata": {
  "kernelspec": {
   "display_name": "gates_bep",
   "language": "python",
   "name": "gates_bep"
  },
  "language_info": {
   "codemirror_mode": {
    "name": "ipython",
    "version": 3
   },
   "file_extension": ".py",
   "mimetype": "text/x-python",
   "name": "python",
   "nbconvert_exporter": "python",
   "pygments_lexer": "ipython3",
   "version": "3.6.10"
  }
 },
 "nbformat": 4,
 "nbformat_minor": 4
}
