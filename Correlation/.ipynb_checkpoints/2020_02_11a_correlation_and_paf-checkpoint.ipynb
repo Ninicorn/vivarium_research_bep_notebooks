{
 "cells": [
  {
   "cell_type": "markdown",
   "metadata": {},
   "source": [
    "# This file is a practical example and test of approaches to change the population attributable fraction (PAF) for risk factors in Vivarium such that they account for observed correlation in exposure between risks.\n",
    "\n",
    "This file will investigate the approach that Vivarium currently uses to calculate the PAF for multiple risk factors, which we will call the *multiplicative* approach. In comparison, Abie and Chris and proposing a *joint* approach. \n",
    "\n",
    "The first part of the file looks at how we will jointly estimate exposure probabilities from copulae. The second part of the file proposes our alternative formulation of a *joint* PAF. The last part of the file tests our assumptions in a very simple step by step model. "
   ]
  },
  {
   "cell_type": "code",
   "execution_count": 1,
   "metadata": {},
   "outputs": [],
   "source": [
    "#import numpy as np, matplotlib.pyplot as plt, pandas as pd\n",
    "#pd.set_option('display.max_rows', 8)\n",
    "#!date\n",
    "\n",
    "#%load_ext autoreload\n",
    "#%autoreload 2"
   ]
  },
  {
   "cell_type": "code",
   "execution_count": 2,
   "metadata": {},
   "outputs": [],
   "source": [
    "import numpy as np\n",
    "import matplotlib as matplot\n",
    "import pandas as pd"
   ]
  },
  {
   "cell_type": "code",
   "execution_count": 3,
   "metadata": {},
   "outputs": [],
   "source": [
    "import seaborn as sns\n",
    "import scipy.stats"
   ]
  },
  {
   "cell_type": "markdown",
   "metadata": {},
   "source": [
    "# Gaussian copula to correlation two risk factor exposures\n",
    "\n",
    "And then some investigation of how much error this introduces in the PAF.\n",
    "\n",
    "This part of our file shows how we can introduce correlation from a multivariate normal distribution. All we need is correlation (variance/covariance) in our exposures."
   ]
  },
  {
   "cell_type": "code",
   "execution_count": 4,
   "metadata": {
    "scrolled": true
   },
   "outputs": [
    {
     "data": {
      "text/html": [
       "<div>\n",
       "<style scoped>\n",
       "    .dataframe tbody tr th:only-of-type {\n",
       "        vertical-align: middle;\n",
       "    }\n",
       "\n",
       "    .dataframe tbody tr th {\n",
       "        vertical-align: top;\n",
       "    }\n",
       "\n",
       "    .dataframe thead th {\n",
       "        text-align: right;\n",
       "    }\n",
       "</style>\n",
       "<table border=\"1\" class=\"dataframe\">\n",
       "  <thead>\n",
       "    <tr style=\"text-align: right;\">\n",
       "      <th></th>\n",
       "      <th>SBP</th>\n",
       "      <th>LDL-C</th>\n",
       "    </tr>\n",
       "  </thead>\n",
       "  <tbody>\n",
       "    <tr>\n",
       "      <th>0</th>\n",
       "      <td>125.905847</td>\n",
       "      <td>5.723323</td>\n",
       "    </tr>\n",
       "    <tr>\n",
       "      <th>1</th>\n",
       "      <td>139.578867</td>\n",
       "      <td>3.322323</td>\n",
       "    </tr>\n",
       "    <tr>\n",
       "      <th>2</th>\n",
       "      <td>119.611226</td>\n",
       "      <td>3.089911</td>\n",
       "    </tr>\n",
       "    <tr>\n",
       "      <th>3</th>\n",
       "      <td>118.885394</td>\n",
       "      <td>3.845074</td>\n",
       "    </tr>\n",
       "    <tr>\n",
       "      <th>4</th>\n",
       "      <td>169.315611</td>\n",
       "      <td>5.091290</td>\n",
       "    </tr>\n",
       "    <tr>\n",
       "      <th>...</th>\n",
       "      <td>...</td>\n",
       "      <td>...</td>\n",
       "    </tr>\n",
       "    <tr>\n",
       "      <th>9995</th>\n",
       "      <td>112.742931</td>\n",
       "      <td>3.499870</td>\n",
       "    </tr>\n",
       "    <tr>\n",
       "      <th>9996</th>\n",
       "      <td>173.045882</td>\n",
       "      <td>8.809667</td>\n",
       "    </tr>\n",
       "    <tr>\n",
       "      <th>9997</th>\n",
       "      <td>129.865889</td>\n",
       "      <td>5.465636</td>\n",
       "    </tr>\n",
       "    <tr>\n",
       "      <th>9998</th>\n",
       "      <td>105.705538</td>\n",
       "      <td>3.818431</td>\n",
       "    </tr>\n",
       "    <tr>\n",
       "      <th>9999</th>\n",
       "      <td>143.099773</td>\n",
       "      <td>7.605454</td>\n",
       "    </tr>\n",
       "  </tbody>\n",
       "</table>\n",
       "<p>10000 rows × 2 columns</p>\n",
       "</div>"
      ],
      "text/plain": [
       "             SBP     LDL-C\n",
       "0     125.905847  5.723323\n",
       "1     139.578867  3.322323\n",
       "2     119.611226  3.089911\n",
       "3     118.885394  3.845074\n",
       "4     169.315611  5.091290\n",
       "...          ...       ...\n",
       "9995  112.742931  3.499870\n",
       "9996  173.045882  8.809667\n",
       "9997  129.865889  5.465636\n",
       "9998  105.705538  3.818431\n",
       "9999  143.099773  7.605454\n",
       "\n",
       "[10000 rows x 2 columns]"
      ]
     },
     "execution_count": 4,
     "metadata": {},
     "output_type": "execute_result"
    }
   ],
   "source": [
    "# Simulate for testing purposes\n",
    "\n",
    "N = 10_000  # number of individuals\n",
    "\n",
    "# set random seed for reproducibility\n",
    "np.random.seed(12345)\n",
    "\n",
    "# simulate data (to be replaced with real data, e.g. from NHANES, eventually)\n",
    "df = pd.DataFrame(index=range(N))\n",
    "df['SBP'] = np.random.normal(130, 20, size=N)\n",
    "df['LDL-C'] = np.random.normal(4+(df.SBP-130)/20, 1, size=N)  # intentionally include correlation between SBP and LDL-C\n",
    "df"
   ]
  },
  {
   "cell_type": "code",
   "execution_count": 5,
   "metadata": {
    "scrolled": false
   },
   "outputs": [
    {
     "data": {
      "text/plain": [
       "<seaborn.axisgrid.JointGrid at 0x1c8a1169188>"
      ]
     },
     "execution_count": 5,
     "metadata": {},
     "output_type": "execute_result"
    },
    {
     "data": {
      "image/png": "[encoded data removed]",
      "text/plain": [
       "<Figure size 432x432 with 3 Axes>"
      ]
     },
     "metadata": {
      "needs_background": "light"
     },
     "output_type": "display_data"
    }
   ],
   "source": [
    "sns.jointplot(df['SBP'], df['LDL-C'])"
   ]
  },
  {
   "cell_type": "markdown",
   "metadata": {},
   "source": [
    "# What we want from the microdata is simply the Spearman R value, which captures the correlation of SBP and LDL-C as continuous variables"
   ]
  },
  {
   "cell_type": "code",
   "execution_count": 6,
   "metadata": {},
   "outputs": [
    {
     "data": {
      "text/plain": [
       "0.6942625526106255"
      ]
     },
     "execution_count": 6,
     "metadata": {},
     "output_type": "execute_result"
    }
   ],
   "source": [
    "rho, p_val = scipy.stats.spearmanr(df['SBP'], df['LDL-C'])\n",
    "rho"
   ]
  },
  {
   "cell_type": "markdown",
   "metadata": {},
   "source": [
    "# What will we use that for?\n",
    "\n",
    "We will generate a multivariate normal with that rho, and then use that to generate a distribution that is marginally uniform, but with that rho, and then use that to generate a distribution that in its margins matches the SPB and LDL-C from GBD, but also has Spearman correlation rho:"
   ]
  },
  {
   "cell_type": "code",
   "execution_count": 7,
   "metadata": {},
   "outputs": [
    {
     "data": {
      "text/plain": [
       "0.6797538355495384"
      ]
     },
     "execution_count": 7,
     "metadata": {},
     "output_type": "execute_result"
    },
    {
     "data": {
      "image/png": "[encoded data removed]",
      "text/plain": [
       "<Figure size 432x432 with 3 Axes>"
      ]
     },
     "metadata": {
      "needs_background": "light"
     },
     "output_type": "display_data"
    }
   ],
   "source": [
    "probit_propensity = np.random.multivariate_normal([0,0], [[1, rho],\n",
    "                                                         [rho, 1]], size=N)\n",
    "sns.jointplot(probit_propensity[:,0], probit_propensity[:,1])\n",
    "rho, p_val = scipy.stats.spearmanr(probit_propensity[:,0], probit_propensity[:,1])\n",
    "rho"
   ]
  },
  {
   "cell_type": "code",
   "execution_count": 8,
   "metadata": {},
   "outputs": [
    {
     "data": {
      "text/plain": [
       "0.6797538355495384"
      ]
     },
     "execution_count": 8,
     "metadata": {},
     "output_type": "execute_result"
    },
    {
     "data": {
      "image/png": "[encoded data removed]",
      "text/plain": [
       "<Figure size 432x432 with 3 Axes>"
      ]
     },
     "metadata": {
      "needs_background": "light"
     },
     "output_type": "display_data"
    }
   ],
   "source": [
    "propensity = scipy.stats.norm().cdf(probit_propensity)\n",
    "sns.jointplot(propensity[:,0], propensity[:,1])\n",
    "rho, p_val = scipy.stats.spearmanr(propensity[:,0], propensity[:,1])\n",
    "rho"
   ]
  },
  {
   "cell_type": "code",
   "execution_count": 9,
   "metadata": {},
   "outputs": [],
   "source": [
    "# HACK: instead of loading marginals from GBD, I'm going to re-use the ones\n",
    "# I synthesized above\n",
    "\n",
    "exposure1_vals = df['SBP'].sort_values().values\n",
    "exposure2_vals = df['LDL-C'].sort_values().values\n",
    "\n",
    "def exposure1_from_propensity(p):\n",
    "    p = np.array(p)\n",
    "    i = np.array(np.floor(p*len(exposure1_vals)), dtype=int)\n",
    "    return exposure1_vals[i]\n",
    "\n",
    "def exposure2_from_propensity(p):\n",
    "    p = np.array(p)\n",
    "    i = np.array(np.floor(p*len(exposure2_vals)), dtype=int)\n",
    "    return exposure2_vals[i]\n"
   ]
  },
  {
   "cell_type": "code",
   "execution_count": 10,
   "metadata": {},
   "outputs": [
    {
     "data": {
      "text/html": [
       "<div>\n",
       "<style scoped>\n",
       "    .dataframe tbody tr th:only-of-type {\n",
       "        vertical-align: middle;\n",
       "    }\n",
       "\n",
       "    .dataframe tbody tr th {\n",
       "        vertical-align: top;\n",
       "    }\n",
       "\n",
       "    .dataframe thead th {\n",
       "        text-align: right;\n",
       "    }\n",
       "</style>\n",
       "<table border=\"1\" class=\"dataframe\">\n",
       "  <thead>\n",
       "    <tr style=\"text-align: right;\">\n",
       "      <th></th>\n",
       "      <th>SBP</th>\n",
       "      <th>LDL-C</th>\n",
       "    </tr>\n",
       "  </thead>\n",
       "  <tbody>\n",
       "    <tr>\n",
       "      <th>0</th>\n",
       "      <td>134.011378</td>\n",
       "      <td>5.192848</td>\n",
       "    </tr>\n",
       "    <tr>\n",
       "      <th>1</th>\n",
       "      <td>116.002529</td>\n",
       "      <td>3.155872</td>\n",
       "    </tr>\n",
       "    <tr>\n",
       "      <th>2</th>\n",
       "      <td>120.862054</td>\n",
       "      <td>1.630903</td>\n",
       "    </tr>\n",
       "    <tr>\n",
       "      <th>3</th>\n",
       "      <td>110.848538</td>\n",
       "      <td>2.214022</td>\n",
       "    </tr>\n",
       "    <tr>\n",
       "      <th>4</th>\n",
       "      <td>133.763781</td>\n",
       "      <td>4.926610</td>\n",
       "    </tr>\n",
       "    <tr>\n",
       "      <th>...</th>\n",
       "      <td>...</td>\n",
       "      <td>...</td>\n",
       "    </tr>\n",
       "    <tr>\n",
       "      <th>9995</th>\n",
       "      <td>135.609528</td>\n",
       "      <td>5.082792</td>\n",
       "    </tr>\n",
       "    <tr>\n",
       "      <th>9996</th>\n",
       "      <td>91.988864</td>\n",
       "      <td>3.282778</td>\n",
       "    </tr>\n",
       "    <tr>\n",
       "      <th>9997</th>\n",
       "      <td>90.701909</td>\n",
       "      <td>1.307473</td>\n",
       "    </tr>\n",
       "    <tr>\n",
       "      <th>9998</th>\n",
       "      <td>122.352818</td>\n",
       "      <td>4.338779</td>\n",
       "    </tr>\n",
       "    <tr>\n",
       "      <th>9999</th>\n",
       "      <td>136.862764</td>\n",
       "      <td>3.626774</td>\n",
       "    </tr>\n",
       "  </tbody>\n",
       "</table>\n",
       "<p>10000 rows × 2 columns</p>\n",
       "</div>"
      ],
      "text/plain": [
       "             SBP     LDL-C\n",
       "0     134.011378  5.192848\n",
       "1     116.002529  3.155872\n",
       "2     120.862054  1.630903\n",
       "3     110.848538  2.214022\n",
       "4     133.763781  4.926610\n",
       "...          ...       ...\n",
       "9995  135.609528  5.082792\n",
       "9996   91.988864  3.282778\n",
       "9997   90.701909  1.307473\n",
       "9998  122.352818  4.338779\n",
       "9999  136.862764  3.626774\n",
       "\n",
       "[10000 rows x 2 columns]"
      ]
     },
     "execution_count": 10,
     "metadata": {},
     "output_type": "execute_result"
    }
   ],
   "source": [
    "# now map from propensity to value\n",
    "df_synthetic = pd.DataFrame(index=range(N))\n",
    "df_synthetic['SBP'] = exposure1_from_propensity(propensity[:,0])\n",
    "df_synthetic['LDL-C'] = exposure2_from_propensity(propensity[:,1])\n",
    "df_synthetic"
   ]
  },
  {
   "cell_type": "code",
   "execution_count": 11,
   "metadata": {},
   "outputs": [
    {
     "data": {
      "text/plain": [
       "0.6797565466113832"
      ]
     },
     "execution_count": 11,
     "metadata": {},
     "output_type": "execute_result"
    },
    {
     "data": {
      "image/png": "[encoded data removed]",
      "text/plain": [
       "<Figure size 432x432 with 3 Axes>"
      ]
     },
     "metadata": {
      "needs_background": "light"
     },
     "output_type": "display_data"
    }
   ],
   "source": [
    "sns.jointplot(df_synthetic['SBP'], df_synthetic['LDL-C'])\n",
    "rho, p_val = scipy.stats.spearmanr(df_synthetic['SBP'], df_synthetic['LDL-C'])\n",
    "rho"
   ]
  },
  {
   "cell_type": "markdown",
   "metadata": {},
   "source": [
    "# The anticipated problem with this approach: how does correlation affect the joint PAF?\n",
    "\n",
    "This is not relevant to the material above---using the Gaussian Copula to capture the correlation between risk-factor exposure will be fine.  The problem is when we then layer at RiskEffect component into our model, to make the risk have a effect on the incidence or mortality rate of our cause model.  Without loss of generality, suppose the risk effect will change the incidence of first MI.\n",
    "\n",
    "We have traditionally handled this by calculating a risk-deleted incidence:\n",
    "$$\n",
    "i_0 = \\left(1-\\text{PAF}\\right) \\cdot i_{\\text{GBD}}\n",
    "$$\n",
    "\n",
    "If we _just_ include one risk effect, I think we're still ok, even with correlation.  But if we have two risk effects, we have previously used assumption\n",
    "$$\n",
    "1 - \\text{PAF}_{\\text{joint}} = \\left(1 - \\text{PAF}_{\\text{SBP}}\\right)\\cdot\\left(1 - \\text{PAF}_{\\text{LDL-C}}\\right).\n",
    "$$\n",
    "\n",
    "The more correlated the risk exposure, the more wrong this assumption.\n",
    "\n",
    "I propose we continue to assume that the relative risks have a \"log linear\" relationship with incidence:\n",
    "$$\n",
    "i_{e_1, e_2} = i_0 \\cdot \\left(\\text{RR}_1\\right)^{e_1}\\cdot \\left(\\text{RR}_2\\right)^{e_2},\n",
    "$$\n",
    "where I have written $e_1$ and $e_2$ as \"standardized\" exposures, after scaling and shifting so that the TMREL is 0.0 and a one unit increment gives the relative increase in disease burden reported by GBD.\n"
   ]
  },
  {
   "cell_type": "markdown",
   "metadata": {},
   "source": [
    "With the log-linear assumption, we can calculate the PAF from first principles as a double integral (below $p_{e_1,e_2}$ denotes the joint probability density of exposure level $(e_1,e_2)$ in the population:\n",
    "\n",
    "\\begin{align*}\n",
    "i_{\\text{GBD}} &= \\int_{e_1} \\int_{e_2} i_{e_1, e_2} p_{e_1,e_2} de_1 de_2\\\\\n",
    "&= \\int_{e_1} \\int_{e_2} i_0 \\cdot \\left(\\text{RR}_1\\right)^{e_1}\\cdot \\left(\\text{RR}_2\\right)^{e_2}\n",
    "p_{e_1,e_2} de_1 de_2\\\\\n",
    "&= \\int_{e_1} \\int_{e_2} \\left(1-\\text{PAF}\\right) \\cdot i_{\\text{GBD}} \\cdot \\left(\\text{RR}_1\\right)^{e_1}\\cdot \\left(\\text{RR}_2\\right)^{e_2}\n",
    "p_{e_1,e_2} de_1 de_2\\\\\n",
    "\\end{align*}\n",
    "\n",
    "Dividing through and cancelling terms yields a solution:\n",
    "$$\n",
    "\\frac{1}{1-\\text{PAF}} = \\int_{e_1} \\int_{e_2} \\left(\\text{RR}_1\\right)^{e_1}\\cdot \\left(\\text{RR}_2\\right)^{e_2}\n",
    "p_{e_1,e_2} de_1 de_2,\n",
    "$$"
   ]
  },
  {
   "cell_type": "code",
   "execution_count": 12,
   "metadata": {},
   "outputs": [
    {
     "data": {
      "text/plain": [
       "0.936944660107624"
      ]
     },
     "execution_count": 12,
     "metadata": {},
     "output_type": "execute_result"
    }
   ],
   "source": [
    "# there are lots of ways to approximate this integral, but here is a cool one:\n",
    "rr_1 = 1.5\n",
    "rr_2 = 3\n",
    "\n",
    "e1 = np.clip((df['SBP'] - 120)/10, 0, np.inf)  # rescale exposures \n",
    "e2 = np.clip((df['LDL-C'] - 4), 0, np.inf)\n",
    "\n",
    "one_over_one_minus_paf = np.mean(rr_1**e1 * rr_2**e2)\n",
    "paf = 1 - 1/(one_over_one_minus_paf)\n",
    "paf"
   ]
  },
  {
   "cell_type": "code",
   "execution_count": 13,
   "metadata": {},
   "outputs": [
    {
     "data": {
      "text/plain": [
       "0.8708098034918508"
      ]
     },
     "execution_count": 13,
     "metadata": {},
     "output_type": "execute_result"
    }
   ],
   "source": [
    "# how does this compare to multiplicative approx of paf?\n",
    "ooomp_1 = np.mean(rr_1**e1)\n",
    "paf_1 = 1 - 1/ooomp_1\n",
    "\n",
    "ooomp_2 = np.mean(rr_2**e2)\n",
    "paf_2 = 1 - 1/ooomp_2\n",
    "\n",
    "1 - (1 - paf_1) * (1 - paf_2)"
   ]
  },
  {
   "cell_type": "markdown",
   "metadata": {},
   "source": [
    "These values are somewhat different, reflecting the impact of the correlation in SBP and LDL-C in our simulated data. If we used the *multiplicative* PAF, our estimated rate would be quite different. Let's look at a simpler model of categorical risks."
   ]
  },
  {
   "cell_type": "markdown",
   "metadata": {},
   "source": [
    "# Chris is adding an example of categorial risk exposures"
   ]
  },
  {
   "cell_type": "code",
   "execution_count": 14,
   "metadata": {},
   "outputs": [],
   "source": [
    "# simulate categorical data (to be replaced with real data, e.g. from MALED/Surveys, eventually)\n",
    "df = pd.DataFrame(index=range(N))\n",
    "# Uncorrelated, binomial \n",
    "df['bin_a'] = np.random.binomial(1, 0.3, size=N)\n",
    "df['bin_b'] = np.random.binomial(1, 0.1, size=N)  \n",
    "\n",
    "rr_1 = 2.5\n",
    "rr_2 = 5\n",
    "\n"
   ]
  },
  {
   "cell_type": "markdown",
   "metadata": {},
   "source": [
    "Define what I will call a joint PAF:\n",
    "\n",
    "$$\n",
    "PAF_{joint} = 1 - \\frac{1}{RR_1^{e_1} \\cdot RR_2^{e_2}}\n",
    "$$\n",
    "   \n",
    "And also what I will call a multiplicative PAF:\n",
    "\n",
    "$$\n",
    "PAF_{multiplicative} = 1 - (1 - \\frac{1}{RR_1^{e_1}}) \\cdot (1 - \\frac{1}{RR_2^{e_2}})\n",
    "$$"
   ]
  },
  {
   "cell_type": "code",
   "execution_count": 15,
   "metadata": {},
   "outputs": [
    {
     "data": {
      "text/plain": [
       "0.5127418018808165"
      ]
     },
     "execution_count": 15,
     "metadata": {},
     "output_type": "execute_result"
    }
   ],
   "source": [
    "one_over_one_minus_paf = np.mean(rr_1**df['bin_a'] * rr_2**df['bin_b'])\n",
    "paf = 1 - 1/(one_over_one_minus_paf)\n",
    "paf"
   ]
  },
  {
   "cell_type": "code",
   "execution_count": 16,
   "metadata": {},
   "outputs": [
    {
     "data": {
      "text/plain": [
       "0.5145153501895934"
      ]
     },
     "execution_count": 16,
     "metadata": {},
     "output_type": "execute_result"
    }
   ],
   "source": [
    "# how does this compare to multiplicative approx of paf?\n",
    "ooomp_1 = np.mean(rr_1**df['bin_a'])\n",
    "paf_1 = 1 - 1/ooomp_1\n",
    "\n",
    "ooomp_2 = np.mean(rr_2**df['bin_b'])\n",
    "paf_2 = 1 - 1/ooomp_2\n",
    "\n",
    "1 - (1 - paf_1) * (1 - paf_2)"
   ]
  },
  {
   "cell_type": "markdown",
   "metadata": {},
   "source": [
    "The approaches give nearly the same estimate of the combined PAF when the exposures are independent."
   ]
  },
  {
   "cell_type": "markdown",
   "metadata": {},
   "source": [
    "## Now I am making it a bit more complicated, sim some data for continuous exposures"
   ]
  },
  {
   "cell_type": "markdown",
   "metadata": {},
   "source": [
    "I have made two pairs of random distributions with the same means and standard deviations. First, I sim without correlation (nml_a, nml_b). Next, I sim with some correlation (cor_a, cor_b). I have continuous distributions at this point so I create four new variables that are binary if they are below -2. The variables \"exp_na\" and \"exp_nb\" are for the normal uncorrelated distributions while \"exp_ca\" and \"exp_cb\" are for the correlated distributions. This is just intended as an exercise based on the height-for-age z-score definitions of stunting (stunted is <= -2 SD). "
   ]
  },
  {
   "cell_type": "code",
   "execution_count": 17,
   "metadata": {},
   "outputs": [
    {
     "name": "stderr",
     "output_type": "stream",
     "text": [
      "C:\\Users\\ctroeger\\AppData\\Local\\Continuum\\miniconda3\\lib\\site-packages\\ipykernel_launcher.py:25: SettingWithCopyWarning: \n",
      "A value is trying to be set on a copy of a slice from a DataFrame\n",
      "\n",
      "See the caveats in the documentation: https://pandas.pydata.org/pandas-docs/stable/user_guide/indexing.html#returning-a-view-versus-a-copy\n",
      "C:\\Users\\ctroeger\\AppData\\Local\\Continuum\\miniconda3\\lib\\site-packages\\ipykernel_launcher.py:32: SettingWithCopyWarning: \n",
      "A value is trying to be set on a copy of a slice from a DataFrame\n",
      "\n",
      "See the caveats in the documentation: https://pandas.pydata.org/pandas-docs/stable/user_guide/indexing.html#returning-a-view-versus-a-copy\n",
      "C:\\Users\\ctroeger\\AppData\\Local\\Continuum\\miniconda3\\lib\\site-packages\\ipykernel_launcher.py:30: SettingWithCopyWarning: \n",
      "A value is trying to be set on a copy of a slice from a DataFrame\n",
      "\n",
      "See the caveats in the documentation: https://pandas.pydata.org/pandas-docs/stable/user_guide/indexing.html#returning-a-view-versus-a-copy\n",
      "C:\\Users\\ctroeger\\AppData\\Local\\Continuum\\miniconda3\\lib\\site-packages\\ipykernel_launcher.py:28: SettingWithCopyWarning: \n",
      "A value is trying to be set on a copy of a slice from a DataFrame\n",
      "\n",
      "See the caveats in the documentation: https://pandas.pydata.org/pandas-docs/stable/user_guide/indexing.html#returning-a-view-versus-a-copy\n"
     ]
    },
    {
     "data": {
      "text/html": [
       "<div>\n",
       "<style scoped>\n",
       "    .dataframe tbody tr th:only-of-type {\n",
       "        vertical-align: middle;\n",
       "    }\n",
       "\n",
       "    .dataframe tbody tr th {\n",
       "        vertical-align: top;\n",
       "    }\n",
       "\n",
       "    .dataframe thead th {\n",
       "        text-align: right;\n",
       "    }\n",
       "</style>\n",
       "<table border=\"1\" class=\"dataframe\">\n",
       "  <thead>\n",
       "    <tr style=\"text-align: right;\">\n",
       "      <th></th>\n",
       "      <th>bin_a</th>\n",
       "      <th>bin_b</th>\n",
       "      <th>nml_a</th>\n",
       "      <th>nml_b</th>\n",
       "      <th>cor_a</th>\n",
       "      <th>cor_b</th>\n",
       "      <th>exp_na</th>\n",
       "      <th>exp_nb</th>\n",
       "      <th>exp_ca</th>\n",
       "      <th>exp_cb</th>\n",
       "    </tr>\n",
       "  </thead>\n",
       "  <tbody>\n",
       "    <tr>\n",
       "      <th>0</th>\n",
       "      <td>0</td>\n",
       "      <td>1</td>\n",
       "      <td>-0.057584</td>\n",
       "      <td>-0.950021</td>\n",
       "      <td>-1.818019</td>\n",
       "      <td>-0.826437</td>\n",
       "      <td>0</td>\n",
       "      <td>0</td>\n",
       "      <td>0</td>\n",
       "      <td>0</td>\n",
       "    </tr>\n",
       "    <tr>\n",
       "      <th>1</th>\n",
       "      <td>1</td>\n",
       "      <td>0</td>\n",
       "      <td>0.382862</td>\n",
       "      <td>0.206593</td>\n",
       "      <td>0.126023</td>\n",
       "      <td>-1.564974</td>\n",
       "      <td>0</td>\n",
       "      <td>0</td>\n",
       "      <td>0</td>\n",
       "      <td>0</td>\n",
       "    </tr>\n",
       "    <tr>\n",
       "      <th>2</th>\n",
       "      <td>0</td>\n",
       "      <td>0</td>\n",
       "      <td>0.287244</td>\n",
       "      <td>-0.582161</td>\n",
       "      <td>1.631291</td>\n",
       "      <td>-0.496486</td>\n",
       "      <td>0</td>\n",
       "      <td>0</td>\n",
       "      <td>0</td>\n",
       "      <td>0</td>\n",
       "    </tr>\n",
       "    <tr>\n",
       "      <th>3</th>\n",
       "      <td>0</td>\n",
       "      <td>0</td>\n",
       "      <td>-2.595732</td>\n",
       "      <td>-0.208823</td>\n",
       "      <td>0.671197</td>\n",
       "      <td>0.529351</td>\n",
       "      <td>1</td>\n",
       "      <td>0</td>\n",
       "      <td>0</td>\n",
       "      <td>0</td>\n",
       "    </tr>\n",
       "    <tr>\n",
       "      <th>4</th>\n",
       "      <td>0</td>\n",
       "      <td>0</td>\n",
       "      <td>-0.603832</td>\n",
       "      <td>-0.572606</td>\n",
       "      <td>0.681999</td>\n",
       "      <td>-0.739108</td>\n",
       "      <td>0</td>\n",
       "      <td>0</td>\n",
       "      <td>0</td>\n",
       "      <td>0</td>\n",
       "    </tr>\n",
       "    <tr>\n",
       "      <th>...</th>\n",
       "      <td>...</td>\n",
       "      <td>...</td>\n",
       "      <td>...</td>\n",
       "      <td>...</td>\n",
       "      <td>...</td>\n",
       "      <td>...</td>\n",
       "      <td>...</td>\n",
       "      <td>...</td>\n",
       "      <td>...</td>\n",
       "      <td>...</td>\n",
       "    </tr>\n",
       "    <tr>\n",
       "      <th>9995</th>\n",
       "      <td>0</td>\n",
       "      <td>0</td>\n",
       "      <td>1.413890</td>\n",
       "      <td>0.426929</td>\n",
       "      <td>-0.502449</td>\n",
       "      <td>-1.987269</td>\n",
       "      <td>0</td>\n",
       "      <td>0</td>\n",
       "      <td>0</td>\n",
       "      <td>0</td>\n",
       "    </tr>\n",
       "    <tr>\n",
       "      <th>9996</th>\n",
       "      <td>0</td>\n",
       "      <td>0</td>\n",
       "      <td>0.182369</td>\n",
       "      <td>-0.633904</td>\n",
       "      <td>0.503280</td>\n",
       "      <td>-1.297071</td>\n",
       "      <td>0</td>\n",
       "      <td>0</td>\n",
       "      <td>0</td>\n",
       "      <td>0</td>\n",
       "    </tr>\n",
       "    <tr>\n",
       "      <th>9997</th>\n",
       "      <td>0</td>\n",
       "      <td>0</td>\n",
       "      <td>-0.937989</td>\n",
       "      <td>-0.543358</td>\n",
       "      <td>0.014530</td>\n",
       "      <td>-1.185948</td>\n",
       "      <td>0</td>\n",
       "      <td>0</td>\n",
       "      <td>0</td>\n",
       "      <td>0</td>\n",
       "    </tr>\n",
       "    <tr>\n",
       "      <th>9998</th>\n",
       "      <td>0</td>\n",
       "      <td>1</td>\n",
       "      <td>1.806999</td>\n",
       "      <td>0.142196</td>\n",
       "      <td>-0.099585</td>\n",
       "      <td>-0.248132</td>\n",
       "      <td>0</td>\n",
       "      <td>0</td>\n",
       "      <td>0</td>\n",
       "      <td>0</td>\n",
       "    </tr>\n",
       "    <tr>\n",
       "      <th>9999</th>\n",
       "      <td>0</td>\n",
       "      <td>0</td>\n",
       "      <td>-1.193765</td>\n",
       "      <td>0.860961</td>\n",
       "      <td>-0.972553</td>\n",
       "      <td>-1.269407</td>\n",
       "      <td>0</td>\n",
       "      <td>0</td>\n",
       "      <td>0</td>\n",
       "      <td>0</td>\n",
       "    </tr>\n",
       "  </tbody>\n",
       "</table>\n",
       "<p>10000 rows × 10 columns</p>\n",
       "</div>"
      ],
      "text/plain": [
       "      bin_a  bin_b     nml_a     nml_b     cor_a     cor_b  exp_na  exp_nb  \\\n",
       "0         0      1 -0.057584 -0.950021 -1.818019 -0.826437       0       0   \n",
       "1         1      0  0.382862  0.206593  0.126023 -1.564974       0       0   \n",
       "2         0      0  0.287244 -0.582161  1.631291 -0.496486       0       0   \n",
       "3         0      0 -2.595732 -0.208823  0.671197  0.529351       1       0   \n",
       "4         0      0 -0.603832 -0.572606  0.681999 -0.739108       0       0   \n",
       "...     ...    ...       ...       ...       ...       ...     ...     ...   \n",
       "9995      0      0  1.413890  0.426929 -0.502449 -1.987269       0       0   \n",
       "9996      0      0  0.182369 -0.633904  0.503280 -1.297071       0       0   \n",
       "9997      0      0 -0.937989 -0.543358  0.014530 -1.185948       0       0   \n",
       "9998      0      1  1.806999  0.142196 -0.099585 -0.248132       0       0   \n",
       "9999      0      0 -1.193765  0.860961 -0.972553 -1.269407       0       0   \n",
       "\n",
       "      exp_ca  exp_cb  \n",
       "0          0       0  \n",
       "1          0       0  \n",
       "2          0       0  \n",
       "3          0       0  \n",
       "4          0       0  \n",
       "...      ...     ...  \n",
       "9995       0       0  \n",
       "9996       0       0  \n",
       "9997       0       0  \n",
       "9998       0       0  \n",
       "9999       0       0  \n",
       "\n",
       "[10000 rows x 10 columns]"
      ]
     },
     "execution_count": 17,
     "metadata": {},
     "output_type": "execute_result"
    }
   ],
   "source": [
    "# Uncorrelated, continuous normal\n",
    "mean_a = 0\n",
    "sd_a = 1.3\n",
    "\n",
    "mean_b = -0.5\n",
    "sd_b = 1\n",
    "\n",
    "rho = 0.8\n",
    "\n",
    "df['nml_a'] = np.random.normal(mean_a, sd_a, size=N)\n",
    "df['nml_b'] = np.random.normal(mean_b, sd_b, size=N)\n",
    "\n",
    "# Correlated continuous normal\n",
    "cor_nml = np.random.multivariate_normal([mean_a,mean_b], [[sd_a**2, rho],[rho, sd_b**2]], size=N)\n",
    "#cor_nml\n",
    "df['cor_a'] = cor_nml[:,0]\n",
    "df['cor_b'] = cor_nml[:,1]\n",
    "\n",
    "# For this example, I am thinking about HAZ, so I will set 'exposed' to less than -2\n",
    "\n",
    "## Does this work how I am expecting it to in Python?!\n",
    "df['exp_na'] = 0\n",
    "df['exp_nb'] = 0\n",
    "df['exp_ca'] = 0\n",
    "df['exp_cb'] = 0\n",
    "for i in range(0,N):\n",
    "    if (df['nml_a'][i] < (-2)):\n",
    "        df['exp_na'][i] = 1\n",
    "for i in range(0,N):\n",
    "    if(df['nml_b'][i] < (-2)):\n",
    "        df['exp_nb'][i] = 1\n",
    "    if(df['cor_a'][i] < (-2)):\n",
    "        df['exp_ca'][i] = 1\n",
    "    if(df['cor_b'][i] < (-2)):\n",
    "        df['exp_cb'][i] = 1\n",
    "df\n"
   ]
  },
  {
   "cell_type": "code",
   "execution_count": 18,
   "metadata": {},
   "outputs": [
    {
     "name": "stdout",
     "output_type": "stream",
     "text": [
      "0.0573 0.069 0.0611 0.0721\n"
     ]
    }
   ],
   "source": [
    "# Does this do what I expected it to?\n",
    "print(np.mean(df['exp_na']), np.mean(df['exp_nb']),\n",
    "      np.mean(df['exp_ca']), np.mean(df['exp_cb']))"
   ]
  },
  {
   "cell_type": "code",
   "execution_count": 36,
   "metadata": {},
   "outputs": [
    {
     "data": {
      "text/plain": [
       "Text(0.5, 0.98, 'Uncorrelated exposures')"
      ]
     },
     "execution_count": 36,
     "metadata": {},
     "output_type": "execute_result"
    },
    {
     "data": {
      "image/png": "[encoded data removed]",
      "text/plain": [
       "<Figure size 432x432 with 3 Axes>"
      ]
     },
     "metadata": {
      "needs_background": "light"
     },
     "output_type": "display_data"
    }
   ],
   "source": [
    "# Compare just to make sure I got what I expected\n",
    "sns.jointplot(df['nml_a'], df['nml_b'])\n"
   ]
  },
  {
   "cell_type": "code",
   "execution_count": 20,
   "metadata": {},
   "outputs": [
    {
     "data": {
      "text/plain": [
       "<seaborn.axisgrid.JointGrid at 0x1c8a2698848>"
      ]
     },
     "execution_count": 20,
     "metadata": {},
     "output_type": "execute_result"
    },
    {
     "data": {
      "image/png": "[encoded data removed]",
      "text/plain": [
       "<Figure size 432x432 with 3 Axes>"
      ]
     },
     "metadata": {
      "needs_background": "light"
     },
     "output_type": "display_data"
    }
   ],
   "source": [
    "sns.jointplot(df['cor_a'], df['cor_b'])"
   ]
  },
  {
   "cell_type": "markdown",
   "metadata": {},
   "source": [
    "## When the exposures are independent, it seems that the PAFs from the multiplicative and joint risk approaches are similar."
   ]
  },
  {
   "cell_type": "code",
   "execution_count": 21,
   "metadata": {},
   "outputs": [
    {
     "data": {
      "text/plain": [
       "0.2772216399840989"
      ]
     },
     "execution_count": 21,
     "metadata": {},
     "output_type": "execute_result"
    }
   ],
   "source": [
    "# What is the value of the joint risk approach?\n",
    "one_over_one_minus_paf = np.mean(rr_1**df['exp_na'] * rr_2**df['exp_nb'])\n",
    "paf_j_ind = 1 - 1/(one_over_one_minus_paf)\n",
    "paf_j_ind"
   ]
  },
  {
   "cell_type": "code",
   "execution_count": 22,
   "metadata": {},
   "outputs": [
    {
     "data": {
      "text/plain": [
       "0.2783285974850329"
      ]
     },
     "execution_count": 22,
     "metadata": {},
     "output_type": "execute_result"
    }
   ],
   "source": [
    "# how does this compare to multiplicative approx of paf?\n",
    "ooomp_1 = np.mean(rr_1**df['exp_na'])\n",
    "paf_1 = 1 - 1/ooomp_1\n",
    "\n",
    "ooomp_2 = np.mean(rr_2**df['exp_nb'])\n",
    "paf_2 = 1 - 1/ooomp_2\n",
    "\n",
    "paf_m_ind = 1 - (1 - paf_1) * (1 - paf_2)\n",
    "paf_m_ind"
   ]
  },
  {
   "cell_type": "markdown",
   "metadata": {},
   "source": [
    "## However, when the exposures are correlated, it seems that the PAFs from the the joint risk approach are higher than the multiplicative approach which returns similar values to the independent exposures. "
   ]
  },
  {
   "cell_type": "code",
   "execution_count": 23,
   "metadata": {},
   "outputs": [
    {
     "data": {
      "text/plain": [
       "0.3420403329275915"
      ]
     },
     "execution_count": 23,
     "metadata": {},
     "output_type": "execute_result"
    }
   ],
   "source": [
    "# What is the value of the joint risk approach?\n",
    "one_over_one_minus_paf = np.mean(rr_1**df['exp_ca'] * rr_2**df['exp_cb'])\n",
    "paf_j_cor = 1 - 1/(one_over_one_minus_paf)\n",
    "paf_j_cor"
   ]
  },
  {
   "cell_type": "code",
   "execution_count": 24,
   "metadata": {},
   "outputs": [
    {
     "data": {
      "text/plain": [
       "0.2890061162964448"
      ]
     },
     "execution_count": 24,
     "metadata": {},
     "output_type": "execute_result"
    }
   ],
   "source": [
    "# how does this compare to multiplicative approx of paf?\n",
    "ooomp_1 = np.mean(rr_1**df['exp_ca'])\n",
    "paf_1 = 1 - 1/ooomp_1\n",
    "\n",
    "ooomp_2 = np.mean(rr_2**df['exp_cb'])\n",
    "paf_2 = 1 - 1/ooomp_2\n",
    "\n",
    "paf_m_cor = 1 - (1 - paf_1) * (1 - paf_2)\n",
    "paf_m_cor"
   ]
  },
  {
   "cell_type": "markdown",
   "metadata": {},
   "source": [
    "# Now, calculate individual incidences for the individuals in our simulated data"
   ]
  },
  {
   "cell_type": "markdown",
   "metadata": {},
   "source": [
    "I am proposing that we leave the general approach to risk deleted incidence the same:\n",
    "\n",
    "$$\n",
    "i_0 = \\left(1-\\text{PAF}\\right) \\cdot i_{\\text{GBD}}\n",
    "$$\n",
    "\n",
    "But now we can compare two different approaches to calculating this PAF, multiplicative and joint:\n",
    "\n",
    "$$\n",
    "i_{multi,0} = (1-{PAF_{multi}}) \\cdot i_{{GBD}}  \n",
    "$$\n",
    "$$\n",
    "i_{joint,0} = (1-{PAF_{joint}}) \\cdot i_{{GBD}}\n",
    "$$\n",
    "\n",
    "\n",
    "And we can continue to find an individual's rate the same way:\n",
    "\n",
    "$$\n",
    "i_{e_1, e_2} = i_0 \\cdot \\left(\\text{RR}_1\\right)^{e_1}\\cdot \\left(\\text{RR}_2\\right)^{e_2},\n",
    "$$\n"
   ]
  },
  {
   "cell_type": "code",
   "execution_count": 25,
   "metadata": {},
   "outputs": [],
   "source": [
    "rate = 0.8\n",
    "\n",
    "# Independent draws\n",
    "multi_rate0 = (1-paf_m_ind) * rate\n",
    "joint_rate0 = (1-paf_j_ind) * rate\n",
    "df['ind_multi_rate'] = multi_rate0 * rr_1**df['exp_na'] * rr_2**df['exp_nb']\n",
    "df['ind_joint_rate'] = joint_rate0 * rr_1**df['exp_na'] * rr_2**df['exp_nb']\n",
    "\n",
    "# Correlated draws\n",
    "multi_rate0 = (1-paf_m_cor) * rate\n",
    "joint_rate0 = (1-paf_j_cor) * rate\n",
    "df['cor_multi_rate'] = multi_rate0 * rr_1**df['exp_ca'] * rr_2**df['exp_cb']\n",
    "df['cor_joint_rate'] = joint_rate0 * rr_1**df['exp_ca'] * rr_2**df['exp_cb']\n"
   ]
  },
  {
   "cell_type": "code",
   "execution_count": 26,
   "metadata": {},
   "outputs": [
    {
     "data": {
      "text/plain": [
       "0.7987747751596663"
      ]
     },
     "execution_count": 26,
     "metadata": {},
     "output_type": "execute_result"
    }
   ],
   "source": [
    "np.mean(df['ind_multi_rate'])"
   ]
  },
  {
   "cell_type": "code",
   "execution_count": 27,
   "metadata": {},
   "outputs": [
    {
     "data": {
      "text/plain": [
       "0.8"
      ]
     },
     "execution_count": 27,
     "metadata": {},
     "output_type": "execute_result"
    }
   ],
   "source": [
    "np.mean(df['ind_joint_rate'])"
   ]
  },
  {
   "cell_type": "code",
   "execution_count": 28,
   "metadata": {},
   "outputs": [
    {
     "data": {
      "text/plain": [
       "0.8644832433174788"
      ]
     },
     "execution_count": 28,
     "metadata": {},
     "output_type": "execute_result"
    }
   ],
   "source": [
    "np.mean(df['cor_multi_rate'])"
   ]
  },
  {
   "cell_type": "code",
   "execution_count": 29,
   "metadata": {},
   "outputs": [
    {
     "data": {
      "text/plain": [
       "0.7999999999999998"
      ]
     },
     "execution_count": 29,
     "metadata": {},
     "output_type": "execute_result"
    }
   ],
   "source": [
    "np.mean(df['cor_joint_rate'])"
   ]
  },
  {
   "cell_type": "markdown",
   "metadata": {},
   "source": [
    "### My interpretation of these results is that the _Joint PAF_ approach produces (near) exact matches for both independent and correlated exposures. When the exposures are independent, the _Multiplicative PAF_ approach seems to be very close. However, when the exposures are correlated, the _Multiplicative PAF_ returns a rate that is too high."
   ]
  },
  {
   "cell_type": "code",
   "execution_count": null,
   "metadata": {},
   "outputs": [],
   "source": []
  }
 ],
 "metadata": {
  "kernelspec": {
   "display_name": "Python 3",
   "language": "python",
   "name": "python3"
  },
  "language_info": {
   "codemirror_mode": {
    "name": "ipython",
    "version": 3
   },
   "file_extension": ".py",
   "mimetype": "text/x-python",
   "name": "python",
   "nbconvert_exporter": "python",
   "pygments_lexer": "ipython3",
   "version": "3.6.10"
  }
 },
 "nbformat": 4,
 "nbformat_minor": 2
}
