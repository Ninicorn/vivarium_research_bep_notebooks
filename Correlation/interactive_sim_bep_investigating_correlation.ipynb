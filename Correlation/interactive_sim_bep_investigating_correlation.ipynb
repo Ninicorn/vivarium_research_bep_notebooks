{
 "cells": [
  {
   "cell_type": "markdown",
   "metadata": {},
   "source": [
    "Interactive sim\n",
    "install environment in a terminal:\n",
    "\n",
    "1) conda activate gates_bep\n",
    "\n",
    "2) then type in this command: ipython kernel install --name gates_bep --user"
   ]
  },
  {
   "cell_type": "code",
   "execution_count": 1,
   "metadata": {},
   "outputs": [
    {
     "data": {
      "text/html": [
       "<style>.container { width:100% !important; }</style>"
      ],
      "text/plain": [
       "<IPython.core.display.HTML object>"
      ]
     },
     "metadata": {},
     "output_type": "display_data"
    }
   ],
   "source": [
    "from IPython.core.display import display, HTML\n",
    "display(HTML(\"<style>.container { width:100% !important; }</style>\")) #makes the display bars longer and spread out 100% across the screen width"
   ]
  },
  {
   "cell_type": "code",
   "execution_count": 2,
   "metadata": {},
   "outputs": [],
   "source": [
    "import pandas as pd\n",
    "from numpy.random import randn\n",
    "from numpy.random import seed\n",
    "from numpy import mean\n",
    "from numpy import std\n",
    "from numpy import cov\n",
    "from matplotlib import pyplot\n",
    "from scipy.stats import pearsonr\n",
    "from scipy.stats import spearmanr\n",
    "from scipy.stats import stats"
   ]
  },
  {
   "cell_type": "markdown",
   "metadata": {},
   "source": [
    "# 1. Set up interactive sim by first the InteractiveContext modules that runs interactive sims, and make specs "
   ]
  },
  {
   "cell_type": "code",
   "execution_count": 3,
   "metadata": {},
   "outputs": [],
   "source": [
    "#This is the interactive context module from vivarium that runs the simulation \n",
    "\n",
    "from vivarium import InteractiveContext"
   ]
  },
  {
   "cell_type": "code",
   "execution_count": 4,
   "metadata": {
    "scrolled": true
   },
   "outputs": [],
   "source": [
    "!make_specs #uses the model_spec.in to create the yaml files \n"
   ]
  },
  {
   "cell_type": "code",
   "execution_count": 5,
   "metadata": {
    "scrolled": false
   },
   "outputs": [
    {
     "name": "stdout",
     "output_type": "stream",
     "text": [
      "/ihme/homes/nicoly/vivarium_gates_bep/src/vivarium_gates_bep/model_specifications\n",
      "\u001b[0m\u001b[01;34mbranches\u001b[0m/  india.yaml  mali.yaml  model_spec.in  pakistan.yaml  tanzania.yaml\r\n"
     ]
    }
   ],
   "source": [
    "#look for the file path of the yaml files (feb 2020 model)\n",
    "\n",
    "%pwd \n",
    "# %cd ..\n",
    "# %ls\n",
    "%cd /ihme/homes/nicoly/vivarium_gates_bep/src/vivarium_gates_bep/model_specifications/\n",
    "%ls\n",
    "# %cd /ihme/homes/nicoly/vivarium_gates_bep/src/vivarium_gates_bep/src/vivarium_gates_bep/model_specifications\n",
    "# ! changes locally\n",
    "# % changes in python (the running interpreter)"
   ]
  },
  {
   "cell_type": "code",
   "execution_count": 6,
   "metadata": {},
   "outputs": [
    {
     "name": "stderr",
     "output_type": "stream",
     "text": [
      "2020-09-10 16:00:56.475 | DEBUG    | vivarium.framework.values:register_value_modifier:373 - Registering metrics.1.population_manager.metrics as modifier to metrics\n",
      "2020-09-10 16:00:56.491 | DEBUG    | vivarium.framework.artifact.manager:_load_artifact:66 - Running simulation from artifact located at /share/costeffectiveness/artifacts/vivarium_gates_bep/mali.hdf.\n",
      "2020-09-10 16:00:56.493 | DEBUG    | vivarium.framework.artifact.manager:_load_artifact:67 - Artifact base filter terms are ['draw == 0', \"location == 'Mali' | location == 'Global'\"].\n",
      "2020-09-10 16:00:56.494 | DEBUG    | vivarium.framework.artifact.manager:_load_artifact:68 - Artifact additional filter terms are None.\n",
      "2020-09-10 16:00:57.481 | DEBUG    | vivarium.framework.values:_register_value_producer:323 - Registering value pipeline protein_energy_malnutrition.disability_weight\n",
      "2020-09-10 16:00:57.482 | DEBUG    | vivarium.framework.values:register_value_modifier:373 - Registering disability_weight.1.protein_energy_malnutrition.disability_weight as modifier to disability_weight\n",
      "2020-09-10 16:00:58.211 | DEBUG    | vivarium.framework.values:register_value_modifier:373 - Registering cause_specific_mortality_rate.1.risk_attributable_disease.cause.protein_energy_malnutrition.risk_factor.child_wasting.adjust_cause_specific_mortality_rate as modifier to cause_specific_mortality_rate\n",
      "2020-09-10 16:00:58.858 | DEBUG    | vivarium.framework.values:_register_value_producer:323 - Registering value pipeline protein_energy_malnutrition.excess_mortality_rate\n",
      "2020-09-10 16:00:58.859 | DEBUG    | vivarium.framework.values:_register_value_producer:323 - Registering value pipeline protein_energy_malnutrition.excess_mortality_rate.population_attributable_fraction\n",
      "2020-09-10 16:00:58.860 | DEBUG    | vivarium.framework.values:register_value_modifier:373 - Registering mortality_rate.1.risk_attributable_disease.cause.protein_energy_malnutrition.risk_factor.child_wasting.adjust_mortality_rate as modifier to mortality_rate\n",
      "2020-09-10 16:00:58.903 | DEBUG    | vivarium.framework.values:_register_value_producer:323 - Registering value pipeline child_wasting.propensity\n",
      "2020-09-10 16:00:58.903 | DEBUG    | vivarium.framework.values:_register_value_producer:323 - Registering value pipeline child_wasting.exposure\n",
      "2020-09-10 16:01:13.105 | DEBUG    | vivarium.framework.values:register_value_modifier:373 - Registering diarrheal_diseases.incidence_rate.1.risk_effect.risk_factor.child_wasting.cause.diarrheal_diseases.incidence_rate.adjust_target as modifier to diarrheal_diseases.incidence_rate\n",
      "2020-09-10 16:01:13.107 | DEBUG    | vivarium.framework.values:register_value_modifier:373 - Registering diarrheal_diseases.incidence_rate.paf.1.lookup_table_18 as modifier to diarrheal_diseases.incidence_rate.paf\n",
      "2020-09-10 16:01:14.033 | DEBUG    | vivarium.framework.values:register_value_modifier:373 - Registering measles.incidence_rate.1.risk_effect.risk_factor.child_wasting.cause.measles.incidence_rate.adjust_target as modifier to measles.incidence_rate\n",
      "2020-09-10 16:01:14.034 | DEBUG    | vivarium.framework.values:register_value_modifier:373 - Registering measles.incidence_rate.paf.1.lookup_table_20 as modifier to measles.incidence_rate.paf\n",
      "2020-09-10 16:01:14.837 | DEBUG    | vivarium.framework.values:register_value_modifier:373 - Registering lower_respiratory_infections.incidence_rate.1.risk_effect.risk_factor.child_wasting.cause.lower_respiratory_infections.incidence_rate.adjust_target as modifier to lower_respiratory_infections.incidence_rate\n",
      "2020-09-10 16:01:14.839 | DEBUG    | vivarium.framework.values:register_value_modifier:373 - Registering lower_respiratory_infections.incidence_rate.paf.1.lookup_table_22 as modifier to lower_respiratory_infections.incidence_rate.paf\n",
      "2020-09-10 16:01:14.841 | DEBUG    | vivarium.framework.values:_register_value_producer:323 - Registering value pipeline child_stunting.propensity\n",
      "2020-09-10 16:01:14.842 | DEBUG    | vivarium.framework.values:_register_value_producer:323 - Registering value pipeline child_stunting.exposure\n",
      "2020-09-10 16:01:27.000 | DEBUG    | vivarium.framework.values:register_value_modifier:373 - Registering diarrheal_diseases.incidence_rate.2.risk_effect.risk_factor.child_stunting.cause.diarrheal_diseases.incidence_rate.adjust_target as modifier to diarrheal_diseases.incidence_rate\n",
      "2020-09-10 16:01:27.003 | DEBUG    | vivarium.framework.values:register_value_modifier:373 - Registering diarrheal_diseases.incidence_rate.paf.2.lookup_table_37 as modifier to diarrheal_diseases.incidence_rate.paf\n",
      "2020-09-10 16:01:27.922 | DEBUG    | vivarium.framework.values:register_value_modifier:373 - Registering measles.incidence_rate.2.risk_effect.risk_factor.child_stunting.cause.measles.incidence_rate.adjust_target as modifier to measles.incidence_rate\n",
      "2020-09-10 16:01:27.924 | DEBUG    | vivarium.framework.values:register_value_modifier:373 - Registering measles.incidence_rate.paf.2.lookup_table_39 as modifier to measles.incidence_rate.paf\n",
      "2020-09-10 16:01:28.714 | DEBUG    | vivarium.framework.values:register_value_modifier:373 - Registering lower_respiratory_infections.incidence_rate.2.risk_effect.risk_factor.child_stunting.cause.lower_respiratory_infections.incidence_rate.adjust_target as modifier to lower_respiratory_infections.incidence_rate\n",
      "2020-09-10 16:01:28.715 | DEBUG    | vivarium.framework.values:register_value_modifier:373 - Registering lower_respiratory_infections.incidence_rate.paf.2.lookup_table_41 as modifier to lower_respiratory_infections.incidence_rate.paf\n",
      "2020-09-10 16:01:29.593 | DEBUG    | vivarium.framework.values:_register_value_producer:323 - Registering value pipeline cause_specific_mortality_rate\n",
      "2020-09-10 16:01:32.880 | DEBUG    | vivarium.framework.values:_register_value_producer:323 - Registering value pipeline affected_unmodeled.csmr\n",
      "2020-09-10 16:01:32.884 | DEBUG    | vivarium.framework.values:_register_value_producer:323 - Registering value pipeline affected_unmodeled.csmr.population_attributable_fraction\n",
      "2020-09-10 16:01:32.886 | DEBUG    | vivarium.framework.values:_register_value_producer:323 - Registering value pipeline mortality_rate\n",
      "2020-09-10 16:01:32.887 | DEBUG    | vivarium.framework.values:_register_value_producer:323 - Registering value pipeline all_causes.mortality_hazard\n",
      "2020-09-10 16:01:32.888 | DEBUG    | vivarium.framework.values:_register_value_producer:323 - Registering value pipeline all_causes.mortality_hazard.population_attributable_fraction\n",
      "2020-09-10 16:01:34.230 | DEBUG    | vivarium.framework.values:register_value_modifier:373 - Registering cause_specific_mortality_rate.2.disease_model.diarrheal_diseases.adjust_cause_specific_mortality_rate as modifier to cause_specific_mortality_rate\n",
      "2020-09-10 16:01:34.232 | DEBUG    | vivarium.framework.values:register_value_modifier:373 - Registering metrics.2.disease_model.diarrheal_diseases.metrics as modifier to metrics\n",
      "2020-09-10 16:01:34.233 | DEBUG    | vivarium.framework.values:register_value_modifier:373 - Registering metrics.3.state.susceptible_to_diarrheal_diseases.metrics as modifier to metrics\n",
      "2020-09-10 16:01:34.895 | DEBUG    | vivarium.framework.values:_register_value_producer:323 - Registering value pipeline diarrheal_diseases.incidence_rate\n",
      "2020-09-10 16:01:34.901 | DEBUG    | vivarium.framework.values:_register_value_producer:323 - Registering value pipeline diarrheal_diseases.incidence_rate.paf\n",
      "2020-09-10 16:01:34.902 | DEBUG    | vivarium.framework.values:register_value_modifier:373 - Registering metrics.4.state.diarrheal_diseases.metrics as modifier to metrics\n",
      "2020-09-10 16:01:35.604 | DEBUG    | vivarium.framework.values:_register_value_producer:323 - Registering value pipeline diarrheal_diseases.dwell_time\n",
      "2020-09-10 16:01:36.393 | DEBUG    | vivarium.framework.values:_register_value_producer:323 - Registering value pipeline diarrheal_diseases.disability_weight\n",
      "2020-09-10 16:01:36.394 | DEBUG    | vivarium.framework.values:register_value_modifier:373 - Registering disability_weight.2.diarrheal_diseases.disability_weight as modifier to disability_weight\n",
      "2020-09-10 16:01:37.257 | DEBUG    | vivarium.framework.values:_register_value_producer:323 - Registering value pipeline diarrheal_diseases.excess_mortality_rate\n"
     ]
    },
    {
     "name": "stderr",
     "output_type": "stream",
     "text": [
      "2020-09-10 16:01:37.258 | DEBUG    | vivarium.framework.values:_register_value_producer:323 - Registering value pipeline diarrheal_diseases.excess_mortality_rate.population_attributable_fraction\n",
      "2020-09-10 16:01:37.259 | DEBUG    | vivarium.framework.values:register_value_modifier:373 - Registering mortality_rate.2.state.diarrheal_diseases.adjust_mortality_rate as modifier to mortality_rate\n",
      "2020-09-10 16:01:37.913 | DEBUG    | vivarium.framework.values:_register_value_producer:323 - Registering value pipeline diarrheal_diseases.remission_rate\n",
      "2020-09-10 16:01:37.917 | DEBUG    | vivarium.framework.values:_register_value_producer:323 - Registering value pipeline diarrheal_diseases.remission_rate.paf\n",
      "2020-09-10 16:01:38.566 | DEBUG    | vivarium.framework.values:register_value_modifier:373 - Registering cause_specific_mortality_rate.3.disease_model.measles.adjust_cause_specific_mortality_rate as modifier to cause_specific_mortality_rate\n",
      "2020-09-10 16:01:38.567 | DEBUG    | vivarium.framework.values:register_value_modifier:373 - Registering metrics.5.disease_model.measles.metrics as modifier to metrics\n",
      "2020-09-10 16:01:38.568 | DEBUG    | vivarium.framework.values:register_value_modifier:373 - Registering metrics.6.state.susceptible_to_measles.metrics as modifier to metrics\n",
      "2020-09-10 16:01:39.214 | DEBUG    | vivarium.framework.values:_register_value_producer:323 - Registering value pipeline measles.incidence_rate\n",
      "2020-09-10 16:01:39.215 | DEBUG    | vivarium.framework.values:_register_value_producer:323 - Registering value pipeline measles.incidence_rate.paf\n",
      "2020-09-10 16:01:39.216 | DEBUG    | vivarium.framework.values:register_value_modifier:373 - Registering metrics.7.state.measles.metrics as modifier to metrics\n",
      "2020-09-10 16:01:39.824 | DEBUG    | vivarium.framework.values:_register_value_producer:323 - Registering value pipeline measles.dwell_time\n",
      "2020-09-10 16:01:40.426 | DEBUG    | vivarium.framework.values:_register_value_producer:323 - Registering value pipeline measles.disability_weight\n",
      "2020-09-10 16:01:40.427 | DEBUG    | vivarium.framework.values:register_value_modifier:373 - Registering disability_weight.3.measles.disability_weight as modifier to disability_weight\n",
      "2020-09-10 16:01:41.034 | DEBUG    | vivarium.framework.values:_register_value_producer:323 - Registering value pipeline measles.excess_mortality_rate\n",
      "2020-09-10 16:01:41.035 | DEBUG    | vivarium.framework.values:_register_value_producer:323 - Registering value pipeline measles.excess_mortality_rate.population_attributable_fraction\n",
      "2020-09-10 16:01:41.036 | DEBUG    | vivarium.framework.values:register_value_modifier:373 - Registering mortality_rate.3.state.measles.adjust_mortality_rate as modifier to mortality_rate\n",
      "2020-09-10 16:01:41.037 | DEBUG    | vivarium.framework.values:register_value_modifier:373 - Registering metrics.8.state.recovered_from_measles.metrics as modifier to metrics\n",
      "2020-09-10 16:01:41.828 | DEBUG    | vivarium.framework.values:register_value_modifier:373 - Registering cause_specific_mortality_rate.4.disease_model.lower_respiratory_infections.adjust_cause_specific_mortality_rate as modifier to cause_specific_mortality_rate\n",
      "2020-09-10 16:01:41.829 | DEBUG    | vivarium.framework.values:register_value_modifier:373 - Registering metrics.9.disease_model.lower_respiratory_infections.metrics as modifier to metrics\n",
      "2020-09-10 16:01:41.830 | DEBUG    | vivarium.framework.values:register_value_modifier:373 - Registering metrics.10.state.susceptible_to_lower_respiratory_infections.metrics as modifier to metrics\n",
      "2020-09-10 16:01:42.494 | DEBUG    | vivarium.framework.values:_register_value_producer:323 - Registering value pipeline lower_respiratory_infections.incidence_rate\n",
      "2020-09-10 16:01:42.495 | DEBUG    | vivarium.framework.values:_register_value_producer:323 - Registering value pipeline lower_respiratory_infections.incidence_rate.paf\n",
      "2020-09-10 16:01:42.496 | DEBUG    | vivarium.framework.values:register_value_modifier:373 - Registering metrics.11.state.lower_respiratory_infections.metrics as modifier to metrics\n",
      "2020-09-10 16:01:43.231 | DEBUG    | vivarium.framework.values:_register_value_producer:323 - Registering value pipeline lower_respiratory_infections.dwell_time\n",
      "2020-09-10 16:01:43.857 | DEBUG    | vivarium.framework.values:_register_value_producer:323 - Registering value pipeline lower_respiratory_infections.disability_weight\n",
      "2020-09-10 16:01:43.858 | DEBUG    | vivarium.framework.values:register_value_modifier:373 - Registering disability_weight.4.lower_respiratory_infections.disability_weight as modifier to disability_weight\n",
      "2020-09-10 16:01:44.487 | DEBUG    | vivarium.framework.values:_register_value_producer:323 - Registering value pipeline lower_respiratory_infections.excess_mortality_rate\n",
      "2020-09-10 16:01:44.488 | DEBUG    | vivarium.framework.values:_register_value_producer:323 - Registering value pipeline lower_respiratory_infections.excess_mortality_rate.population_attributable_fraction\n",
      "2020-09-10 16:01:44.489 | DEBUG    | vivarium.framework.values:register_value_modifier:373 - Registering mortality_rate.4.state.lower_respiratory_infections.adjust_mortality_rate as modifier to mortality_rate\n",
      "2020-09-10 16:01:45.135 | DEBUG    | vivarium.framework.values:_register_value_producer:323 - Registering value pipeline lower_respiratory_infections.remission_rate\n",
      "2020-09-10 16:01:45.137 | DEBUG    | vivarium.framework.values:_register_value_producer:323 - Registering value pipeline lower_respiratory_infections.remission_rate.paf\n",
      "2020-09-10 16:01:45.706 | DEBUG    | vivarium.framework.values:_register_value_producer:323 - Registering value pipeline low_birth_weight_and_short_gestation.raw_exposure\n",
      "2020-09-10 16:01:45.707 | DEBUG    | vivarium.framework.values:_register_value_producer:323 - Registering value pipeline low_birth_weight_and_short_gestation.exposure\n",
      "2020-09-10 16:01:46.919 | DEBUG    | vivarium.framework.values:register_value_modifier:373 - Registering affected_unmodeled.csmr.1.risk_effect.risk_factor.low_birth_weight_and_short_gestation.cause.affected_unmodeled.csmr.adjust_target as modifier to affected_unmodeled.csmr\n",
      "2020-09-10 16:01:46.920 | DEBUG    | vivarium.framework.values:register_value_modifier:373 - Registering affected_unmodeled.csmr.population_attributable_fraction.1.lookup_table_80 as modifier to affected_unmodeled.csmr.population_attributable_fraction\n",
      "2020-09-10 16:01:48.131 | DEBUG    | vivarium.framework.values:register_value_modifier:373 - Registering lower_respiratory_infections.excess_mortality_rate.1.risk_effect.risk_factor.low_birth_weight_and_short_gestation.cause.lower_respiratory_infections.excess_mortality_rate.adjust_target as modifier to lower_respiratory_infections.excess_mortality_rate\n",
      "2020-09-10 16:01:48.133 | DEBUG    | vivarium.framework.values:register_value_modifier:373 - Registering lower_respiratory_infections.excess_mortality_rate.population_attributable_fraction.1.lookup_table_82 as modifier to lower_respiratory_infections.excess_mortality_rate.population_attributable_fraction\n",
      "2020-09-10 16:01:49.542 | DEBUG    | vivarium.framework.values:register_value_modifier:373 - Registering diarrheal_diseases.excess_mortality_rate.1.risk_effect.risk_factor.low_birth_weight_and_short_gestation.cause.diarrheal_diseases.excess_mortality_rate.adjust_target as modifier to diarrheal_diseases.excess_mortality_rate\n",
      "2020-09-10 16:01:49.543 | DEBUG    | vivarium.framework.values:register_value_modifier:373 - Registering diarrheal_diseases.excess_mortality_rate.population_attributable_fraction.1.lookup_table_84 as modifier to diarrheal_diseases.excess_mortality_rate.population_attributable_fraction\n",
      "2020-09-10 16:01:50.190 | DEBUG    | vivarium.framework.values:register_value_modifier:373 - Registering metrics.12.mortality_observer.metrics as modifier to metrics\n",
      "2020-09-10 16:01:50.257 | DEBUG    | vivarium.framework.values:_register_value_producer:323 - Registering value pipeline disability_weight\n",
      "2020-09-10 16:01:50.258 | DEBUG    | vivarium.framework.values:register_value_modifier:373 - Registering metrics.13.disability_observer.metrics as modifier to metrics\n",
      "2020-09-10 16:01:50.261 | DEBUG    | vivarium.framework.values:register_value_modifier:373 - Registering metrics.14.disease_observer.diarrheal_diseases.metrics as modifier to metrics\n"
     ]
    },
    {
     "name": "stderr",
     "output_type": "stream",
     "text": [
      "2020-09-10 16:01:50.263 | DEBUG    | vivarium.framework.values:register_value_modifier:373 - Registering metrics.15.disease_observer.measles.metrics as modifier to metrics\n",
      "2020-09-10 16:01:50.272 | DEBUG    | vivarium.framework.values:register_value_modifier:373 - Registering metrics.16.disease_observer.lower_respiratory_infections.metrics as modifier to metrics\n",
      "2020-09-10 16:01:50.274 | DEBUG    | vivarium.framework.values:register_value_modifier:373 - Registering metrics.17.disease_observer.protein_energy_malnutrition.metrics as modifier to metrics\n",
      "2020-09-10 16:01:50.275 | DEBUG    | vivarium.framework.values:register_value_modifier:373 - Registering metrics.18.risk_observer.child_growth_failure.metrics as modifier to metrics\n",
      "2020-09-10 16:01:50.275 | DEBUG    | vivarium.framework.values:register_value_modifier:373 - Registering metrics.19.risk_observer.low_birth_weight_and_short_gestation.metrics as modifier to metrics\n",
      "2020-09-10 16:01:50.276 | DEBUG    | vivarium.framework.values:register_value_modifier:373 - Registering metrics.20.risk.maternal_malnutrition.metrics as modifier to metrics\n",
      "2020-09-10 16:02:15.042 | DEBUG    | vivarium.framework.values:register_value_modifier:373 - Registering low_birth_weight_and_short_gestation.exposure.1.risk_effect.maternal_malnutrition.adjust_birth_weight as modifier to low_birth_weight_and_short_gestation.exposure\n",
      "2020-09-10 16:02:15.043 | DEBUG    | vivarium.framework.values:register_value_modifier:373 - Registering child_wasting.exposure.1.risk_effect.maternal_malnutrition.adjust_wasting as modifier to child_wasting.exposure\n",
      "2020-09-10 16:02:15.044 | DEBUG    | vivarium.framework.values:register_value_modifier:373 - Registering child_stunting.exposure.1.risk_effect.maternal_malnutrition.adjust_stunting as modifier to child_stunting.exposure\n",
      "2020-09-10 16:02:15.152 | DEBUG    | vivarium.framework.values:register_value_modifier:373 - Registering low_birth_weight_and_short_gestation.exposure.2.treatment_effect.maternal_supplementation.adjust_lbwsg as modifier to low_birth_weight_and_short_gestation.exposure\n",
      "2020-09-10 16:02:15.153 | DEBUG    | vivarium.framework.values:register_value_modifier:373 - Registering child_stunting.exposure.2.treatment_effect.maternal_supplementation.adjust_cgf as modifier to child_stunting.exposure\n",
      "2020-09-10 16:02:15.153 | DEBUG    | vivarium.framework.values:register_value_modifier:373 - Registering child_wasting.exposure.2.treatment_effect.maternal_supplementation.adjust_cgf as modifier to child_wasting.exposure\n",
      "2020-09-10 16:02:15.154 | DEBUG    | vivarium.framework.values:_register_value_producer:323 - Registering value pipeline metrics\n"
     ]
    }
   ],
   "source": [
    "#Define sim (use full filepath)\n",
    "sim_mali = InteractiveContext('/ihme/homes/nicoly/vivarium_gates_bep/src/vivarium_gates_bep/model_specifications/mali.yaml')"
   ]
  },
  {
   "cell_type": "code",
   "execution_count": 7,
   "metadata": {},
   "outputs": [
    {
     "name": "stderr",
     "output_type": "stream",
     "text": [
      "2020-09-10 16:02:38.414 | DEBUG    | vivarium.framework.values:register_value_modifier:373 - Registering metrics.1.population_manager.metrics as modifier to metrics\n",
      "2020-09-10 16:02:38.421 | DEBUG    | vivarium.framework.artifact.manager:_load_artifact:66 - Running simulation from artifact located at /share/costeffectiveness/artifacts/vivarium_gates_bep/india.hdf.\n",
      "2020-09-10 16:02:38.422 | DEBUG    | vivarium.framework.artifact.manager:_load_artifact:67 - Artifact base filter terms are ['draw == 0', \"location == 'India' | location == 'Global'\"].\n",
      "2020-09-10 16:02:38.422 | DEBUG    | vivarium.framework.artifact.manager:_load_artifact:68 - Artifact additional filter terms are None.\n",
      "2020-09-10 16:02:39.193 | DEBUG    | vivarium.framework.values:_register_value_producer:323 - Registering value pipeline protein_energy_malnutrition.disability_weight\n",
      "2020-09-10 16:02:39.195 | DEBUG    | vivarium.framework.values:register_value_modifier:373 - Registering disability_weight.1.protein_energy_malnutrition.disability_weight as modifier to disability_weight\n",
      "2020-09-10 16:02:39.877 | DEBUG    | vivarium.framework.values:register_value_modifier:373 - Registering cause_specific_mortality_rate.1.risk_attributable_disease.cause.protein_energy_malnutrition.risk_factor.child_wasting.adjust_cause_specific_mortality_rate as modifier to cause_specific_mortality_rate\n",
      "2020-09-10 16:02:40.508 | DEBUG    | vivarium.framework.values:_register_value_producer:323 - Registering value pipeline protein_energy_malnutrition.excess_mortality_rate\n",
      "2020-09-10 16:02:40.510 | DEBUG    | vivarium.framework.values:_register_value_producer:323 - Registering value pipeline protein_energy_malnutrition.excess_mortality_rate.population_attributable_fraction\n",
      "2020-09-10 16:02:40.511 | DEBUG    | vivarium.framework.values:register_value_modifier:373 - Registering mortality_rate.1.risk_attributable_disease.cause.protein_energy_malnutrition.risk_factor.child_wasting.adjust_mortality_rate as modifier to mortality_rate\n",
      "2020-09-10 16:02:40.523 | DEBUG    | vivarium.framework.values:_register_value_producer:323 - Registering value pipeline child_wasting.propensity\n",
      "2020-09-10 16:02:40.523 | DEBUG    | vivarium.framework.values:_register_value_producer:323 - Registering value pipeline child_wasting.exposure\n",
      "2020-09-10 16:02:54.397 | DEBUG    | vivarium.framework.values:register_value_modifier:373 - Registering diarrheal_diseases.incidence_rate.1.risk_effect.risk_factor.child_wasting.cause.diarrheal_diseases.incidence_rate.adjust_target as modifier to diarrheal_diseases.incidence_rate\n",
      "2020-09-10 16:02:54.401 | DEBUG    | vivarium.framework.values:register_value_modifier:373 - Registering diarrheal_diseases.incidence_rate.paf.1.lookup_table_18 as modifier to diarrheal_diseases.incidence_rate.paf\n",
      "2020-09-10 16:02:55.285 | DEBUG    | vivarium.framework.values:register_value_modifier:373 - Registering measles.incidence_rate.1.risk_effect.risk_factor.child_wasting.cause.measles.incidence_rate.adjust_target as modifier to measles.incidence_rate\n",
      "2020-09-10 16:02:55.286 | DEBUG    | vivarium.framework.values:register_value_modifier:373 - Registering measles.incidence_rate.paf.1.lookup_table_20 as modifier to measles.incidence_rate.paf\n",
      "2020-09-10 16:02:56.095 | DEBUG    | vivarium.framework.values:register_value_modifier:373 - Registering lower_respiratory_infections.incidence_rate.1.risk_effect.risk_factor.child_wasting.cause.lower_respiratory_infections.incidence_rate.adjust_target as modifier to lower_respiratory_infections.incidence_rate\n",
      "2020-09-10 16:02:56.097 | DEBUG    | vivarium.framework.values:register_value_modifier:373 - Registering lower_respiratory_infections.incidence_rate.paf.1.lookup_table_22 as modifier to lower_respiratory_infections.incidence_rate.paf\n",
      "2020-09-10 16:02:56.098 | DEBUG    | vivarium.framework.values:_register_value_producer:323 - Registering value pipeline child_stunting.propensity\n",
      "2020-09-10 16:02:56.099 | DEBUG    | vivarium.framework.values:_register_value_producer:323 - Registering value pipeline child_stunting.exposure\n",
      "2020-09-10 16:03:07.397 | DEBUG    | vivarium.framework.values:register_value_modifier:373 - Registering diarrheal_diseases.incidence_rate.2.risk_effect.risk_factor.child_stunting.cause.diarrheal_diseases.incidence_rate.adjust_target as modifier to diarrheal_diseases.incidence_rate\n",
      "2020-09-10 16:03:07.399 | DEBUG    | vivarium.framework.values:register_value_modifier:373 - Registering diarrheal_diseases.incidence_rate.paf.2.lookup_table_37 as modifier to diarrheal_diseases.incidence_rate.paf\n",
      "2020-09-10 16:03:08.200 | DEBUG    | vivarium.framework.values:register_value_modifier:373 - Registering measles.incidence_rate.2.risk_effect.risk_factor.child_stunting.cause.measles.incidence_rate.adjust_target as modifier to measles.incidence_rate\n",
      "2020-09-10 16:03:08.201 | DEBUG    | vivarium.framework.values:register_value_modifier:373 - Registering measles.incidence_rate.paf.2.lookup_table_39 as modifier to measles.incidence_rate.paf\n",
      "2020-09-10 16:03:09.006 | DEBUG    | vivarium.framework.values:register_value_modifier:373 - Registering lower_respiratory_infections.incidence_rate.2.risk_effect.risk_factor.child_stunting.cause.lower_respiratory_infections.incidence_rate.adjust_target as modifier to lower_respiratory_infections.incidence_rate\n",
      "2020-09-10 16:03:09.008 | DEBUG    | vivarium.framework.values:register_value_modifier:373 - Registering lower_respiratory_infections.incidence_rate.paf.2.lookup_table_41 as modifier to lower_respiratory_infections.incidence_rate.paf\n",
      "2020-09-10 16:03:09.751 | DEBUG    | vivarium.framework.values:_register_value_producer:323 - Registering value pipeline cause_specific_mortality_rate\n",
      "2020-09-10 16:03:12.986 | DEBUG    | vivarium.framework.values:_register_value_producer:323 - Registering value pipeline affected_unmodeled.csmr\n",
      "2020-09-10 16:03:12.987 | DEBUG    | vivarium.framework.values:_register_value_producer:323 - Registering value pipeline affected_unmodeled.csmr.population_attributable_fraction\n",
      "2020-09-10 16:03:12.987 | DEBUG    | vivarium.framework.values:_register_value_producer:323 - Registering value pipeline mortality_rate\n",
      "2020-09-10 16:03:12.988 | DEBUG    | vivarium.framework.values:_register_value_producer:323 - Registering value pipeline all_causes.mortality_hazard\n",
      "2020-09-10 16:03:12.989 | DEBUG    | vivarium.framework.values:_register_value_producer:323 - Registering value pipeline all_causes.mortality_hazard.population_attributable_fraction\n",
      "2020-09-10 16:03:14.139 | DEBUG    | vivarium.framework.values:register_value_modifier:373 - Registering cause_specific_mortality_rate.2.disease_model.diarrheal_diseases.adjust_cause_specific_mortality_rate as modifier to cause_specific_mortality_rate\n",
      "2020-09-10 16:03:14.140 | DEBUG    | vivarium.framework.values:register_value_modifier:373 - Registering metrics.2.disease_model.diarrheal_diseases.metrics as modifier to metrics\n",
      "2020-09-10 16:03:14.141 | DEBUG    | vivarium.framework.values:register_value_modifier:373 - Registering metrics.3.state.susceptible_to_diarrheal_diseases.metrics as modifier to metrics\n",
      "2020-09-10 16:03:14.755 | DEBUG    | vivarium.framework.values:_register_value_producer:323 - Registering value pipeline diarrheal_diseases.incidence_rate\n",
      "2020-09-10 16:03:14.757 | DEBUG    | vivarium.framework.values:_register_value_producer:323 - Registering value pipeline diarrheal_diseases.incidence_rate.paf\n",
      "2020-09-10 16:03:14.758 | DEBUG    | vivarium.framework.values:register_value_modifier:373 - Registering metrics.4.state.diarrheal_diseases.metrics as modifier to metrics\n",
      "2020-09-10 16:03:15.387 | DEBUG    | vivarium.framework.values:_register_value_producer:323 - Registering value pipeline diarrheal_diseases.dwell_time\n",
      "2020-09-10 16:03:16.005 | DEBUG    | vivarium.framework.values:_register_value_producer:323 - Registering value pipeline diarrheal_diseases.disability_weight\n",
      "2020-09-10 16:03:16.006 | DEBUG    | vivarium.framework.values:register_value_modifier:373 - Registering disability_weight.2.diarrheal_diseases.disability_weight as modifier to disability_weight\n",
      "2020-09-10 16:03:16.644 | DEBUG    | vivarium.framework.values:_register_value_producer:323 - Registering value pipeline diarrheal_diseases.excess_mortality_rate\n"
     ]
    },
    {
     "name": "stderr",
     "output_type": "stream",
     "text": [
      "2020-09-10 16:03:16.645 | DEBUG    | vivarium.framework.values:_register_value_producer:323 - Registering value pipeline diarrheal_diseases.excess_mortality_rate.population_attributable_fraction\n",
      "2020-09-10 16:03:16.645 | DEBUG    | vivarium.framework.values:register_value_modifier:373 - Registering mortality_rate.2.state.diarrheal_diseases.adjust_mortality_rate as modifier to mortality_rate\n",
      "2020-09-10 16:03:17.268 | DEBUG    | vivarium.framework.values:_register_value_producer:323 - Registering value pipeline diarrheal_diseases.remission_rate\n",
      "2020-09-10 16:03:17.269 | DEBUG    | vivarium.framework.values:_register_value_producer:323 - Registering value pipeline diarrheal_diseases.remission_rate.paf\n",
      "2020-09-10 16:03:17.857 | DEBUG    | vivarium.framework.values:register_value_modifier:373 - Registering cause_specific_mortality_rate.3.disease_model.measles.adjust_cause_specific_mortality_rate as modifier to cause_specific_mortality_rate\n",
      "2020-09-10 16:03:17.858 | DEBUG    | vivarium.framework.values:register_value_modifier:373 - Registering metrics.5.disease_model.measles.metrics as modifier to metrics\n",
      "2020-09-10 16:03:17.859 | DEBUG    | vivarium.framework.values:register_value_modifier:373 - Registering metrics.6.state.susceptible_to_measles.metrics as modifier to metrics\n",
      "2020-09-10 16:03:18.450 | DEBUG    | vivarium.framework.values:_register_value_producer:323 - Registering value pipeline measles.incidence_rate\n",
      "2020-09-10 16:03:18.451 | DEBUG    | vivarium.framework.values:_register_value_producer:323 - Registering value pipeline measles.incidence_rate.paf\n",
      "2020-09-10 16:03:18.451 | DEBUG    | vivarium.framework.values:register_value_modifier:373 - Registering metrics.7.state.measles.metrics as modifier to metrics\n",
      "2020-09-10 16:03:19.040 | DEBUG    | vivarium.framework.values:_register_value_producer:323 - Registering value pipeline measles.dwell_time\n",
      "2020-09-10 16:03:19.642 | DEBUG    | vivarium.framework.values:_register_value_producer:323 - Registering value pipeline measles.disability_weight\n",
      "2020-09-10 16:03:19.643 | DEBUG    | vivarium.framework.values:register_value_modifier:373 - Registering disability_weight.3.measles.disability_weight as modifier to disability_weight\n",
      "2020-09-10 16:03:20.233 | DEBUG    | vivarium.framework.values:_register_value_producer:323 - Registering value pipeline measles.excess_mortality_rate\n",
      "2020-09-10 16:03:20.234 | DEBUG    | vivarium.framework.values:_register_value_producer:323 - Registering value pipeline measles.excess_mortality_rate.population_attributable_fraction\n",
      "2020-09-10 16:03:20.235 | DEBUG    | vivarium.framework.values:register_value_modifier:373 - Registering mortality_rate.3.state.measles.adjust_mortality_rate as modifier to mortality_rate\n",
      "2020-09-10 16:03:20.236 | DEBUG    | vivarium.framework.values:register_value_modifier:373 - Registering metrics.8.state.recovered_from_measles.metrics as modifier to metrics\n",
      "2020-09-10 16:03:20.871 | DEBUG    | vivarium.framework.values:register_value_modifier:373 - Registering cause_specific_mortality_rate.4.disease_model.lower_respiratory_infections.adjust_cause_specific_mortality_rate as modifier to cause_specific_mortality_rate\n",
      "2020-09-10 16:03:20.872 | DEBUG    | vivarium.framework.values:register_value_modifier:373 - Registering metrics.9.disease_model.lower_respiratory_infections.metrics as modifier to metrics\n",
      "2020-09-10 16:03:20.873 | DEBUG    | vivarium.framework.values:register_value_modifier:373 - Registering metrics.10.state.susceptible_to_lower_respiratory_infections.metrics as modifier to metrics\n",
      "2020-09-10 16:03:21.506 | DEBUG    | vivarium.framework.values:_register_value_producer:323 - Registering value pipeline lower_respiratory_infections.incidence_rate\n",
      "2020-09-10 16:03:21.507 | DEBUG    | vivarium.framework.values:_register_value_producer:323 - Registering value pipeline lower_respiratory_infections.incidence_rate.paf\n",
      "2020-09-10 16:03:21.508 | DEBUG    | vivarium.framework.values:register_value_modifier:373 - Registering metrics.11.state.lower_respiratory_infections.metrics as modifier to metrics\n",
      "2020-09-10 16:03:22.227 | DEBUG    | vivarium.framework.values:_register_value_producer:323 - Registering value pipeline lower_respiratory_infections.dwell_time\n",
      "2020-09-10 16:03:22.826 | DEBUG    | vivarium.framework.values:_register_value_producer:323 - Registering value pipeline lower_respiratory_infections.disability_weight\n",
      "2020-09-10 16:03:22.828 | DEBUG    | vivarium.framework.values:register_value_modifier:373 - Registering disability_weight.4.lower_respiratory_infections.disability_weight as modifier to disability_weight\n",
      "2020-09-10 16:03:23.436 | DEBUG    | vivarium.framework.values:_register_value_producer:323 - Registering value pipeline lower_respiratory_infections.excess_mortality_rate\n",
      "2020-09-10 16:03:23.437 | DEBUG    | vivarium.framework.values:_register_value_producer:323 - Registering value pipeline lower_respiratory_infections.excess_mortality_rate.population_attributable_fraction\n",
      "2020-09-10 16:03:23.438 | DEBUG    | vivarium.framework.values:register_value_modifier:373 - Registering mortality_rate.4.state.lower_respiratory_infections.adjust_mortality_rate as modifier to mortality_rate\n",
      "2020-09-10 16:03:24.044 | DEBUG    | vivarium.framework.values:_register_value_producer:323 - Registering value pipeline lower_respiratory_infections.remission_rate\n",
      "2020-09-10 16:03:24.045 | DEBUG    | vivarium.framework.values:_register_value_producer:323 - Registering value pipeline lower_respiratory_infections.remission_rate.paf\n",
      "2020-09-10 16:03:24.586 | DEBUG    | vivarium.framework.values:_register_value_producer:323 - Registering value pipeline low_birth_weight_and_short_gestation.raw_exposure\n",
      "2020-09-10 16:03:24.587 | DEBUG    | vivarium.framework.values:_register_value_producer:323 - Registering value pipeline low_birth_weight_and_short_gestation.exposure\n",
      "2020-09-10 16:03:25.765 | DEBUG    | vivarium.framework.values:register_value_modifier:373 - Registering affected_unmodeled.csmr.1.risk_effect.risk_factor.low_birth_weight_and_short_gestation.cause.affected_unmodeled.csmr.adjust_target as modifier to affected_unmodeled.csmr\n",
      "2020-09-10 16:03:25.767 | DEBUG    | vivarium.framework.values:register_value_modifier:373 - Registering affected_unmodeled.csmr.population_attributable_fraction.1.lookup_table_80 as modifier to affected_unmodeled.csmr.population_attributable_fraction\n",
      "2020-09-10 16:03:26.936 | DEBUG    | vivarium.framework.values:register_value_modifier:373 - Registering lower_respiratory_infections.excess_mortality_rate.1.risk_effect.risk_factor.low_birth_weight_and_short_gestation.cause.lower_respiratory_infections.excess_mortality_rate.adjust_target as modifier to lower_respiratory_infections.excess_mortality_rate\n",
      "2020-09-10 16:03:26.938 | DEBUG    | vivarium.framework.values:register_value_modifier:373 - Registering lower_respiratory_infections.excess_mortality_rate.population_attributable_fraction.1.lookup_table_82 as modifier to lower_respiratory_infections.excess_mortality_rate.population_attributable_fraction\n",
      "2020-09-10 16:03:28.067 | DEBUG    | vivarium.framework.values:register_value_modifier:373 - Registering diarrheal_diseases.excess_mortality_rate.1.risk_effect.risk_factor.low_birth_weight_and_short_gestation.cause.diarrheal_diseases.excess_mortality_rate.adjust_target as modifier to diarrheal_diseases.excess_mortality_rate\n",
      "2020-09-10 16:03:28.068 | DEBUG    | vivarium.framework.values:register_value_modifier:373 - Registering diarrheal_diseases.excess_mortality_rate.population_attributable_fraction.1.lookup_table_84 as modifier to diarrheal_diseases.excess_mortality_rate.population_attributable_fraction\n",
      "2020-09-10 16:03:28.695 | DEBUG    | vivarium.framework.values:register_value_modifier:373 - Registering metrics.12.mortality_observer.metrics as modifier to metrics\n",
      "2020-09-10 16:03:28.773 | DEBUG    | vivarium.framework.values:_register_value_producer:323 - Registering value pipeline disability_weight\n",
      "2020-09-10 16:03:28.774 | DEBUG    | vivarium.framework.values:register_value_modifier:373 - Registering metrics.13.disability_observer.metrics as modifier to metrics\n",
      "2020-09-10 16:03:28.777 | DEBUG    | vivarium.framework.values:register_value_modifier:373 - Registering metrics.14.disease_observer.diarrheal_diseases.metrics as modifier to metrics\n"
     ]
    },
    {
     "name": "stderr",
     "output_type": "stream",
     "text": [
      "2020-09-10 16:03:28.778 | DEBUG    | vivarium.framework.values:register_value_modifier:373 - Registering metrics.15.disease_observer.measles.metrics as modifier to metrics\n",
      "2020-09-10 16:03:28.780 | DEBUG    | vivarium.framework.values:register_value_modifier:373 - Registering metrics.16.disease_observer.lower_respiratory_infections.metrics as modifier to metrics\n",
      "2020-09-10 16:03:28.781 | DEBUG    | vivarium.framework.values:register_value_modifier:373 - Registering metrics.17.disease_observer.protein_energy_malnutrition.metrics as modifier to metrics\n",
      "2020-09-10 16:03:28.782 | DEBUG    | vivarium.framework.values:register_value_modifier:373 - Registering metrics.18.risk_observer.child_growth_failure.metrics as modifier to metrics\n",
      "2020-09-10 16:03:28.783 | DEBUG    | vivarium.framework.values:register_value_modifier:373 - Registering metrics.19.risk_observer.low_birth_weight_and_short_gestation.metrics as modifier to metrics\n",
      "2020-09-10 16:03:28.784 | DEBUG    | vivarium.framework.values:register_value_modifier:373 - Registering metrics.20.risk.maternal_malnutrition.metrics as modifier to metrics\n",
      "2020-09-10 16:03:54.781 | DEBUG    | vivarium.framework.values:register_value_modifier:373 - Registering low_birth_weight_and_short_gestation.exposure.1.risk_effect.maternal_malnutrition.adjust_birth_weight as modifier to low_birth_weight_and_short_gestation.exposure\n",
      "2020-09-10 16:03:54.785 | DEBUG    | vivarium.framework.values:register_value_modifier:373 - Registering child_wasting.exposure.1.risk_effect.maternal_malnutrition.adjust_wasting as modifier to child_wasting.exposure\n",
      "2020-09-10 16:03:54.786 | DEBUG    | vivarium.framework.values:register_value_modifier:373 - Registering child_stunting.exposure.1.risk_effect.maternal_malnutrition.adjust_stunting as modifier to child_stunting.exposure\n",
      "2020-09-10 16:03:54.955 | DEBUG    | vivarium.framework.values:register_value_modifier:373 - Registering low_birth_weight_and_short_gestation.exposure.2.treatment_effect.maternal_supplementation.adjust_lbwsg as modifier to low_birth_weight_and_short_gestation.exposure\n",
      "2020-09-10 16:03:54.956 | DEBUG    | vivarium.framework.values:register_value_modifier:373 - Registering child_stunting.exposure.2.treatment_effect.maternal_supplementation.adjust_cgf as modifier to child_stunting.exposure\n",
      "2020-09-10 16:03:54.957 | DEBUG    | vivarium.framework.values:register_value_modifier:373 - Registering child_wasting.exposure.2.treatment_effect.maternal_supplementation.adjust_cgf as modifier to child_wasting.exposure\n",
      "2020-09-10 16:03:54.958 | DEBUG    | vivarium.framework.values:_register_value_producer:323 - Registering value pipeline metrics\n"
     ]
    }
   ],
   "source": [
    "#Define sim (use full filepath)\n",
    "\n",
    "sim = InteractiveContext('/ihme/homes/nicoly/vivarium_gates_bep/src/vivarium_gates_bep/model_specifications/india.yaml') #gives model before time-steps"
   ]
  },
  {
   "cell_type": "markdown",
   "metadata": {},
   "source": [
    "# 2. Now can run the sim using time-steps "
   ]
  },
  {
   "cell_type": "code",
   "execution_count": 8,
   "metadata": {},
   "outputs": [
    {
     "name": "stderr",
     "output_type": "stream",
     "text": [
      "2020-09-10 16:04:17.050 | DEBUG    | vivarium.framework.engine:step:140 - 2020-07-02 00:00:00\n",
      "2020-09-10 16:04:29.750 | DEBUG    | vivarium.framework.engine:step:140 - 2020-07-03 00:00:00\n",
      "2020-09-10 16:04:42.811 | DEBUG    | vivarium.framework.engine:step:140 - 2020-07-04 00:00:00\n",
      "2020-09-10 16:04:55.861 | DEBUG    | vivarium.framework.engine:step:140 - 2020-07-05 00:00:00\n",
      "2020-09-10 16:05:08.854 | DEBUG    | vivarium.framework.engine:step:140 - 2020-07-06 00:00:00\n",
      "2020-09-10 16:05:21.485 | DEBUG    | vivarium.framework.engine:step:140 - 2020-07-07 00:00:00\n",
      "2020-09-10 16:05:34.616 | DEBUG    | vivarium.framework.engine:step:140 - 2020-07-08 00:00:00\n",
      "2020-09-10 16:05:48.702 | DEBUG    | vivarium.framework.engine:step:140 - 2020-07-09 00:00:00\n",
      "2020-09-10 16:06:02.220 | DEBUG    | vivarium.framework.engine:step:140 - 2020-07-10 00:00:00\n",
      "2020-09-10 16:06:14.803 | DEBUG    | vivarium.framework.engine:step:140 - 2020-07-11 00:00:00\n",
      "2020-09-10 16:06:27.718 | DEBUG    | vivarium.framework.engine:step:140 - 2020-07-12 00:00:00\n",
      "2020-09-10 16:06:41.221 | DEBUG    | vivarium.framework.engine:step:140 - 2020-07-13 00:00:00\n",
      "2020-09-10 16:06:54.571 | DEBUG    | vivarium.framework.engine:step:140 - 2020-07-14 00:00:00\n",
      "2020-09-10 16:07:07.887 | DEBUG    | vivarium.framework.engine:step:140 - 2020-07-15 00:00:00\n",
      "2020-09-10 16:07:22.051 | DEBUG    | vivarium.framework.engine:step:140 - 2020-07-16 00:00:00\n",
      "2020-09-10 16:07:35.422 | DEBUG    | vivarium.framework.engine:step:140 - 2020-07-17 00:00:00\n",
      "2020-09-10 16:07:48.673 | DEBUG    | vivarium.framework.engine:step:140 - 2020-07-18 00:00:00\n",
      "2020-09-10 16:08:02.095 | DEBUG    | vivarium.framework.engine:step:140 - 2020-07-19 00:00:00\n",
      "2020-09-10 16:08:15.699 | DEBUG    | vivarium.framework.engine:step:140 - 2020-07-20 00:00:00\n",
      "2020-09-10 16:08:29.654 | DEBUG    | vivarium.framework.engine:step:140 - 2020-07-21 00:00:00\n",
      "2020-09-10 16:08:43.631 | DEBUG    | vivarium.framework.engine:step:140 - 2020-07-22 00:00:00\n",
      "2020-09-10 16:08:57.878 | DEBUG    | vivarium.framework.engine:step:140 - 2020-07-23 00:00:00\n",
      "2020-09-10 16:09:11.886 | DEBUG    | vivarium.framework.engine:step:140 - 2020-07-24 00:00:00\n",
      "2020-09-10 16:09:26.673 | DEBUG    | vivarium.framework.engine:step:140 - 2020-07-25 00:00:00\n",
      "2020-09-10 16:09:41.432 | DEBUG    | vivarium.framework.engine:step:140 - 2020-07-26 00:00:00\n",
      "2020-09-10 16:09:56.297 | DEBUG    | vivarium.framework.engine:step:140 - 2020-07-27 00:00:00\n",
      "2020-09-10 16:10:10.893 | DEBUG    | vivarium.framework.engine:step:140 - 2020-07-28 00:00:00\n",
      "2020-09-10 16:10:25.807 | DEBUG    | vivarium.framework.engine:step:140 - 2020-07-29 00:00:00\n",
      "2020-09-10 16:10:40.791 | DEBUG    | vivarium.framework.engine:step:140 - 2020-07-30 00:00:00\n",
      "2020-09-10 16:10:55.884 | DEBUG    | vivarium.framework.engine:step:140 - 2020-07-31 00:00:00\n",
      "2020-09-10 16:11:11.572 | DEBUG    | vivarium.framework.engine:step:140 - 2020-08-01 00:00:00\n",
      "2020-09-10 16:11:27.361 | DEBUG    | vivarium.framework.engine:step:140 - 2020-08-02 00:00:00\n"
     ]
    }
   ],
   "source": [
    "#run for sim_mali\n",
    "\n",
    "NUM_STEPS = 32\n",
    "\n",
    "# run time-steps                            \n",
    "for i in range(NUM_STEPS):\n",
    "    sim_mali.step()"
   ]
  },
  {
   "cell_type": "code",
   "execution_count": 9,
   "metadata": {
    "scrolled": true
   },
   "outputs": [
    {
     "name": "stderr",
     "output_type": "stream",
     "text": [
      "2020-09-10 16:11:42.816 | DEBUG    | vivarium.framework.engine:step:140 - 2020-07-02 00:00:00\n",
      "2020-09-10 16:11:55.122 | DEBUG    | vivarium.framework.engine:step:140 - 2020-07-03 00:00:00\n",
      "2020-09-10 16:12:07.488 | DEBUG    | vivarium.framework.engine:step:140 - 2020-07-04 00:00:00\n",
      "2020-09-10 16:12:20.737 | DEBUG    | vivarium.framework.engine:step:140 - 2020-07-05 00:00:00\n",
      "2020-09-10 16:12:34.053 | DEBUG    | vivarium.framework.engine:step:140 - 2020-07-06 00:00:00\n",
      "2020-09-10 16:12:46.940 | DEBUG    | vivarium.framework.engine:step:140 - 2020-07-07 00:00:00\n",
      "2020-09-10 16:12:59.701 | DEBUG    | vivarium.framework.engine:step:140 - 2020-07-08 00:00:00\n",
      "2020-09-10 16:13:12.707 | DEBUG    | vivarium.framework.engine:step:140 - 2020-07-09 00:00:00\n",
      "2020-09-10 16:13:25.553 | DEBUG    | vivarium.framework.engine:step:140 - 2020-07-10 00:00:00\n",
      "2020-09-10 16:13:38.597 | DEBUG    | vivarium.framework.engine:step:140 - 2020-07-11 00:00:00\n",
      "2020-09-10 16:13:51.816 | DEBUG    | vivarium.framework.engine:step:140 - 2020-07-12 00:00:00\n",
      "2020-09-10 16:14:05.829 | DEBUG    | vivarium.framework.engine:step:140 - 2020-07-13 00:00:00\n",
      "2020-09-10 16:14:18.608 | DEBUG    | vivarium.framework.engine:step:140 - 2020-07-14 00:00:00\n",
      "2020-09-10 16:14:32.265 | DEBUG    | vivarium.framework.engine:step:140 - 2020-07-15 00:00:00\n",
      "2020-09-10 16:14:46.649 | DEBUG    | vivarium.framework.engine:step:140 - 2020-07-16 00:00:00\n",
      "2020-09-10 16:15:00.603 | DEBUG    | vivarium.framework.engine:step:140 - 2020-07-17 00:00:00\n",
      "2020-09-10 16:15:14.372 | DEBUG    | vivarium.framework.engine:step:140 - 2020-07-18 00:00:00\n",
      "2020-09-10 16:15:28.057 | DEBUG    | vivarium.framework.engine:step:140 - 2020-07-19 00:00:00\n",
      "2020-09-10 16:15:42.150 | DEBUG    | vivarium.framework.engine:step:140 - 2020-07-20 00:00:00\n",
      "2020-09-10 16:15:56.576 | DEBUG    | vivarium.framework.engine:step:140 - 2020-07-21 00:00:00\n",
      "2020-09-10 16:16:10.583 | DEBUG    | vivarium.framework.engine:step:140 - 2020-07-22 00:00:00\n",
      "2020-09-10 16:16:24.750 | DEBUG    | vivarium.framework.engine:step:140 - 2020-07-23 00:00:00\n",
      "2020-09-10 16:16:38.492 | DEBUG    | vivarium.framework.engine:step:140 - 2020-07-24 00:00:00\n",
      "2020-09-10 16:16:52.804 | DEBUG    | vivarium.framework.engine:step:140 - 2020-07-25 00:00:00\n",
      "2020-09-10 16:17:07.817 | DEBUG    | vivarium.framework.engine:step:140 - 2020-07-26 00:00:00\n",
      "2020-09-10 16:17:22.896 | DEBUG    | vivarium.framework.engine:step:140 - 2020-07-27 00:00:00\n",
      "2020-09-10 16:17:38.490 | DEBUG    | vivarium.framework.engine:step:140 - 2020-07-28 00:00:00\n",
      "2020-09-10 16:17:52.821 | DEBUG    | vivarium.framework.engine:step:140 - 2020-07-29 00:00:00\n",
      "2020-09-10 16:18:08.189 | DEBUG    | vivarium.framework.engine:step:140 - 2020-07-30 00:00:00\n",
      "2020-09-10 16:18:24.709 | DEBUG    | vivarium.framework.engine:step:140 - 2020-07-31 00:00:00\n",
      "2020-09-10 16:18:40.475 | DEBUG    | vivarium.framework.engine:step:140 - 2020-08-01 00:00:00\n",
      "2020-09-10 16:18:55.554 | DEBUG    | vivarium.framework.engine:step:140 - 2020-08-02 00:00:00\n"
     ]
    }
   ],
   "source": [
    "#run for sim which is India\n",
    "\n",
    "NUM_STEPS = 32\n",
    "\n",
    "# run time-steps                            \n",
    "for i in range(NUM_STEPS):\n",
    "    sim.step()"
   ]
  },
  {
   "cell_type": "markdown",
   "metadata": {},
   "source": [
    "# 3. Get pop table after model has run the time-steps indicated in 2 above "
   ]
  },
  {
   "cell_type": "code",
   "execution_count": 10,
   "metadata": {},
   "outputs": [],
   "source": [
    "pop_mali = sim_mali.get_population()\n"
   ]
  },
  {
   "cell_type": "code",
   "execution_count": 11,
   "metadata": {},
   "outputs": [
    {
     "data": {
      "text/html": [
       "<div>\n",
       "<style scoped>\n",
       "    .dataframe tbody tr th:only-of-type {\n",
       "        vertical-align: middle;\n",
       "    }\n",
       "\n",
       "    .dataframe tbody tr th {\n",
       "        vertical-align: top;\n",
       "    }\n",
       "\n",
       "    .dataframe thead th {\n",
       "        text-align: right;\n",
       "    }\n",
       "</style>\n",
       "<table border=\"1\" class=\"dataframe\">\n",
       "  <thead>\n",
       "    <tr style=\"text-align: right;\">\n",
       "      <th></th>\n",
       "      <th>tracked</th>\n",
       "      <th>mother_malnourished</th>\n",
       "      <th>scenario_maternal_supplementation_type</th>\n",
       "      <th>baseline_maternal_supplementation_type</th>\n",
       "      <th>previous_protein_energy_malnutrition</th>\n",
       "      <th>previous_lower_respiratory_infections</th>\n",
       "      <th>previous_measles</th>\n",
       "      <th>previous_diarrheal_diseases</th>\n",
       "      <th>years_lived_with_disability</th>\n",
       "      <th>cause_of_death</th>\n",
       "      <th>...</th>\n",
       "      <th>diarrheal_diseases</th>\n",
       "      <th>diarrheal_diseases_event_count</th>\n",
       "      <th>diarrheal_diseases_event_time</th>\n",
       "      <th>susceptible_to_diarrheal_diseases_event_count</th>\n",
       "      <th>susceptible_to_diarrheal_diseases_event_time</th>\n",
       "      <th>child_stunting_propensity</th>\n",
       "      <th>child_wasting_propensity</th>\n",
       "      <th>protein_energy_malnutrition</th>\n",
       "      <th>protein_energy_malnutrition_event_time</th>\n",
       "      <th>susceptible_to_protein_energy_malnutrition_event_time</th>\n",
       "    </tr>\n",
       "  </thead>\n",
       "  <tbody>\n",
       "    <tr>\n",
       "      <th>0</th>\n",
       "      <td>True</td>\n",
       "      <td>normal</td>\n",
       "      <td>none</td>\n",
       "      <td>none</td>\n",
       "      <td>susceptible_to_protein_energy_malnutrition</td>\n",
       "      <td>susceptible_to_lower_respiratory_infections</td>\n",
       "      <td>susceptible_to_measles</td>\n",
       "      <td>diarrheal_diseases</td>\n",
       "      <td>0.003540</td>\n",
       "      <td>not_dead</td>\n",
       "      <td>...</td>\n",
       "      <td>diarrheal_diseases</td>\n",
       "      <td>1</td>\n",
       "      <td>2020-07-26</td>\n",
       "      <td>0</td>\n",
       "      <td>NaT</td>\n",
       "      <td>0.332496</td>\n",
       "      <td>0.773213</td>\n",
       "      <td>susceptible_to_protein_energy_malnutrition</td>\n",
       "      <td>NaT</td>\n",
       "      <td>NaT</td>\n",
       "    </tr>\n",
       "    <tr>\n",
       "      <th>1</th>\n",
       "      <td>True</td>\n",
       "      <td>normal</td>\n",
       "      <td>none</td>\n",
       "      <td>none</td>\n",
       "      <td>protein_energy_malnutrition</td>\n",
       "      <td>susceptible_to_lower_respiratory_infections</td>\n",
       "      <td>susceptible_to_measles</td>\n",
       "      <td>susceptible_to_diarrheal_diseases</td>\n",
       "      <td>0.005231</td>\n",
       "      <td>not_dead</td>\n",
       "      <td>...</td>\n",
       "      <td>susceptible_to_diarrheal_diseases</td>\n",
       "      <td>0</td>\n",
       "      <td>NaT</td>\n",
       "      <td>0</td>\n",
       "      <td>NaT</td>\n",
       "      <td>0.393300</td>\n",
       "      <td>0.123403</td>\n",
       "      <td>protein_energy_malnutrition</td>\n",
       "      <td>2020-07-01</td>\n",
       "      <td>NaT</td>\n",
       "    </tr>\n",
       "    <tr>\n",
       "      <th>2</th>\n",
       "      <td>True</td>\n",
       "      <td>malnourished</td>\n",
       "      <td>none</td>\n",
       "      <td>none</td>\n",
       "      <td>protein_energy_malnutrition</td>\n",
       "      <td>susceptible_to_lower_respiratory_infections</td>\n",
       "      <td>susceptible_to_measles</td>\n",
       "      <td>susceptible_to_diarrheal_diseases</td>\n",
       "      <td>0.005306</td>\n",
       "      <td>not_dead</td>\n",
       "      <td>...</td>\n",
       "      <td>susceptible_to_diarrheal_diseases</td>\n",
       "      <td>0</td>\n",
       "      <td>NaT</td>\n",
       "      <td>0</td>\n",
       "      <td>NaT</td>\n",
       "      <td>0.938984</td>\n",
       "      <td>0.100728</td>\n",
       "      <td>protein_energy_malnutrition</td>\n",
       "      <td>2020-07-01</td>\n",
       "      <td>NaT</td>\n",
       "    </tr>\n",
       "    <tr>\n",
       "      <th>3</th>\n",
       "      <td>True</td>\n",
       "      <td>malnourished</td>\n",
       "      <td>ifa</td>\n",
       "      <td>ifa</td>\n",
       "      <td>susceptible_to_protein_energy_malnutrition</td>\n",
       "      <td>susceptible_to_lower_respiratory_infections</td>\n",
       "      <td>susceptible_to_measles</td>\n",
       "      <td>susceptible_to_diarrheal_diseases</td>\n",
       "      <td>0.000000</td>\n",
       "      <td>not_dead</td>\n",
       "      <td>...</td>\n",
       "      <td>susceptible_to_diarrheal_diseases</td>\n",
       "      <td>0</td>\n",
       "      <td>NaT</td>\n",
       "      <td>0</td>\n",
       "      <td>NaT</td>\n",
       "      <td>0.609167</td>\n",
       "      <td>0.578352</td>\n",
       "      <td>susceptible_to_protein_energy_malnutrition</td>\n",
       "      <td>NaT</td>\n",
       "      <td>NaT</td>\n",
       "    </tr>\n",
       "    <tr>\n",
       "      <th>4</th>\n",
       "      <td>True</td>\n",
       "      <td>normal</td>\n",
       "      <td>none</td>\n",
       "      <td>none</td>\n",
       "      <td>susceptible_to_protein_energy_malnutrition</td>\n",
       "      <td>susceptible_to_lower_respiratory_infections</td>\n",
       "      <td>susceptible_to_measles</td>\n",
       "      <td>susceptible_to_diarrheal_diseases</td>\n",
       "      <td>0.000000</td>\n",
       "      <td>not_dead</td>\n",
       "      <td>...</td>\n",
       "      <td>susceptible_to_diarrheal_diseases</td>\n",
       "      <td>0</td>\n",
       "      <td>NaT</td>\n",
       "      <td>0</td>\n",
       "      <td>NaT</td>\n",
       "      <td>0.193016</td>\n",
       "      <td>0.973632</td>\n",
       "      <td>susceptible_to_protein_energy_malnutrition</td>\n",
       "      <td>NaT</td>\n",
       "      <td>NaT</td>\n",
       "    </tr>\n",
       "  </tbody>\n",
       "</table>\n",
       "<p>5 rows × 42 columns</p>\n",
       "</div>"
      ],
      "text/plain": [
       "   tracked mother_malnourished scenario_maternal_supplementation_type  \\\n",
       "0     True              normal                                   none   \n",
       "1     True              normal                                   none   \n",
       "2     True        malnourished                                   none   \n",
       "3     True        malnourished                                    ifa   \n",
       "4     True              normal                                   none   \n",
       "\n",
       "  baseline_maternal_supplementation_type  \\\n",
       "0                                   none   \n",
       "1                                   none   \n",
       "2                                   none   \n",
       "3                                    ifa   \n",
       "4                                   none   \n",
       "\n",
       "         previous_protein_energy_malnutrition  \\\n",
       "0  susceptible_to_protein_energy_malnutrition   \n",
       "1                 protein_energy_malnutrition   \n",
       "2                 protein_energy_malnutrition   \n",
       "3  susceptible_to_protein_energy_malnutrition   \n",
       "4  susceptible_to_protein_energy_malnutrition   \n",
       "\n",
       "         previous_lower_respiratory_infections        previous_measles  \\\n",
       "0  susceptible_to_lower_respiratory_infections  susceptible_to_measles   \n",
       "1  susceptible_to_lower_respiratory_infections  susceptible_to_measles   \n",
       "2  susceptible_to_lower_respiratory_infections  susceptible_to_measles   \n",
       "3  susceptible_to_lower_respiratory_infections  susceptible_to_measles   \n",
       "4  susceptible_to_lower_respiratory_infections  susceptible_to_measles   \n",
       "\n",
       "         previous_diarrheal_diseases  years_lived_with_disability  \\\n",
       "0                 diarrheal_diseases                     0.003540   \n",
       "1  susceptible_to_diarrheal_diseases                     0.005231   \n",
       "2  susceptible_to_diarrheal_diseases                     0.005306   \n",
       "3  susceptible_to_diarrheal_diseases                     0.000000   \n",
       "4  susceptible_to_diarrheal_diseases                     0.000000   \n",
       "\n",
       "  cause_of_death  ...                 diarrheal_diseases  \\\n",
       "0       not_dead  ...                 diarrheal_diseases   \n",
       "1       not_dead  ...  susceptible_to_diarrheal_diseases   \n",
       "2       not_dead  ...  susceptible_to_diarrheal_diseases   \n",
       "3       not_dead  ...  susceptible_to_diarrheal_diseases   \n",
       "4       not_dead  ...  susceptible_to_diarrheal_diseases   \n",
       "\n",
       "   diarrheal_diseases_event_count diarrheal_diseases_event_time  \\\n",
       "0                               1                    2020-07-26   \n",
       "1                               0                           NaT   \n",
       "2                               0                           NaT   \n",
       "3                               0                           NaT   \n",
       "4                               0                           NaT   \n",
       "\n",
       "   susceptible_to_diarrheal_diseases_event_count  \\\n",
       "0                                              0   \n",
       "1                                              0   \n",
       "2                                              0   \n",
       "3                                              0   \n",
       "4                                              0   \n",
       "\n",
       "  susceptible_to_diarrheal_diseases_event_time child_stunting_propensity  \\\n",
       "0                                          NaT                  0.332496   \n",
       "1                                          NaT                  0.393300   \n",
       "2                                          NaT                  0.938984   \n",
       "3                                          NaT                  0.609167   \n",
       "4                                          NaT                  0.193016   \n",
       "\n",
       "  child_wasting_propensity                 protein_energy_malnutrition  \\\n",
       "0                 0.773213  susceptible_to_protein_energy_malnutrition   \n",
       "1                 0.123403                 protein_energy_malnutrition   \n",
       "2                 0.100728                 protein_energy_malnutrition   \n",
       "3                 0.578352  susceptible_to_protein_energy_malnutrition   \n",
       "4                 0.973632  susceptible_to_protein_energy_malnutrition   \n",
       "\n",
       "   protein_energy_malnutrition_event_time  \\\n",
       "0                                     NaT   \n",
       "1                              2020-07-01   \n",
       "2                              2020-07-01   \n",
       "3                                     NaT   \n",
       "4                                     NaT   \n",
       "\n",
       "   susceptible_to_protein_energy_malnutrition_event_time  \n",
       "0                                                NaT      \n",
       "1                                                NaT      \n",
       "2                                                NaT      \n",
       "3                                                NaT      \n",
       "4                                                NaT      \n",
       "\n",
       "[5 rows x 42 columns]"
      ]
     },
     "execution_count": 11,
     "metadata": {},
     "output_type": "execute_result"
    }
   ],
   "source": [
    "#co-variate population using get_population() method\n",
    "\n",
    "pop = sim.get_population()\n",
    "\n",
    "pop.head()\n",
    "\n",
    "#10,000 original simulants were specified in the yaml file, some would have died during time-steps"
   ]
  },
  {
   "cell_type": "markdown",
   "metadata": {},
   "source": [
    "# explore pop columes alive (tells us whether the simulant has died or is still alive) This is an important column because we want to analyse the alive population only at 6 months\n",
    "\n",
    "pop.alive.head()"
   ]
  },
  {
   "cell_type": "code",
   "execution_count": 12,
   "metadata": {},
   "outputs": [
    {
     "data": {
      "text/plain": [
       "0    3251.607412\n",
       "1    2764.606407\n",
       "2    3157.065097\n",
       "3    3306.544096\n",
       "4    4329.265723\n",
       "Name: birth_weight, dtype: float64"
      ]
     },
     "execution_count": 12,
     "metadata": {},
     "output_type": "execute_result"
    }
   ],
   "source": [
    "#explore pop columes birthweight \n",
    "\n",
    "\n",
    "pop.birth_weight.head()"
   ]
  },
  {
   "cell_type": "markdown",
   "metadata": {},
   "source": [
    "# 4. Get pipeline for interested variables (pipeline is a kind of method, so doesnt change in between sims. Only the values coming out of the pipeline changes)"
   ]
  },
  {
   "cell_type": "code",
   "execution_count": 13,
   "metadata": {},
   "outputs": [
    {
     "data": {
      "text/plain": [
       "['metrics',\n",
       " 'protein_energy_malnutrition.disability_weight',\n",
       " 'disability_weight',\n",
       " 'cause_specific_mortality_rate',\n",
       " 'protein_energy_malnutrition.excess_mortality_rate',\n",
       " 'protein_energy_malnutrition.excess_mortality_rate.population_attributable_fraction',\n",
       " 'mortality_rate',\n",
       " 'child_wasting.exposure',\n",
       " 'child_wasting.propensity',\n",
       " 'diarrheal_diseases.incidence_rate',\n",
       " 'diarrheal_diseases.incidence_rate.paf',\n",
       " 'measles.incidence_rate',\n",
       " 'measles.incidence_rate.paf',\n",
       " 'lower_respiratory_infections.incidence_rate',\n",
       " 'lower_respiratory_infections.incidence_rate.paf',\n",
       " 'child_stunting.propensity',\n",
       " 'child_stunting.exposure',\n",
       " 'affected_unmodeled.csmr',\n",
       " 'affected_unmodeled.csmr.population_attributable_fraction',\n",
       " 'all_causes.mortality_hazard',\n",
       " 'all_causes.mortality_hazard.population_attributable_fraction',\n",
       " 'diarrheal_diseases.dwell_time',\n",
       " 'diarrheal_diseases.disability_weight',\n",
       " 'diarrheal_diseases.excess_mortality_rate',\n",
       " 'diarrheal_diseases.excess_mortality_rate.population_attributable_fraction',\n",
       " 'diarrheal_diseases.remission_rate',\n",
       " 'diarrheal_diseases.remission_rate.paf',\n",
       " 'measles.dwell_time',\n",
       " 'measles.disability_weight',\n",
       " 'measles.excess_mortality_rate',\n",
       " 'measles.excess_mortality_rate.population_attributable_fraction',\n",
       " 'lower_respiratory_infections.dwell_time',\n",
       " 'lower_respiratory_infections.disability_weight',\n",
       " 'lower_respiratory_infections.excess_mortality_rate',\n",
       " 'lower_respiratory_infections.excess_mortality_rate.population_attributable_fraction',\n",
       " 'lower_respiratory_infections.remission_rate',\n",
       " 'lower_respiratory_infections.remission_rate.paf',\n",
       " 'low_birth_weight_and_short_gestation.raw_exposure',\n",
       " 'low_birth_weight_and_short_gestation.exposure']"
      ]
     },
     "execution_count": 13,
     "metadata": {},
     "output_type": "execute_result"
    }
   ],
   "source": [
    "#list the key names of the pipeline\n",
    "sim.list_values()"
   ]
  },
  {
   "cell_type": "code",
   "execution_count": 14,
   "metadata": {},
   "outputs": [],
   "source": [
    "#interested pipelines : 'child_stunting.exposure', 'child_wasting.exposure'\n",
    "#this 'get_value' gets the wasting pipline values -not totall sure what this means! get some clarification\n",
    "# a pipeline is a 'python method thingie'\n",
    "\n",
    "pipe_wasting = sim.get_value('child_wasting.exposure')\n",
    "pipe_stunting = sim.get_value('child_stunting.exposure')\n",
    "pipe_lbwsg = sim.get_value('low_birth_weight_and_short_gestation.exposure')"
   ]
  },
  {
   "cell_type": "code",
   "execution_count": 15,
   "metadata": {},
   "outputs": [],
   "source": [
    "#pipeline for mali sim\n",
    "\n",
    "pipe_wasting_mali = sim_mali.get_value('child_wasting.exposure')\n",
    "pipe_stunting_mali = sim_mali.get_value('child_stunting.exposure')\n",
    "pipe_lbwsg_mali = sim_mali.get_value('low_birth_weight_and_short_gestation.exposure')"
   ]
  },
  {
   "cell_type": "code",
   "execution_count": 16,
   "metadata": {
    "scrolled": true
   },
   "outputs": [
    {
     "data": {
      "text/plain": [
       "0    10.990586\n",
       "1     7.905348\n",
       "2     7.051595\n",
       "3     9.493579\n",
       "4    13.244393\n",
       "dtype: float64"
      ]
     },
     "execution_count": 16,
     "metadata": {},
     "output_type": "execute_result"
    }
   ],
   "source": [
    "#the skip_post_processor skips the conversion of the z-scores to cats 1-4 (this is a method, and shouldnt need to be re-run)\n",
    "\n",
    "type(pipe_wasting(pop.index, skip_post_processor=True))\n",
    "pipe_wasting(pop.index, skip_post_processor=True).head()"
   ]
  },
  {
   "cell_type": "code",
   "execution_count": 17,
   "metadata": {},
   "outputs": [
    {
     "data": {
      "text/plain": [
       "0     8.828346\n",
       "1     9.205418\n",
       "2    12.057564\n",
       "3     9.456805\n",
       "4     8.013094\n",
       "dtype: float64"
      ]
     },
     "execution_count": 17,
     "metadata": {},
     "output_type": "execute_result"
    }
   ],
   "source": [
    "#stunting pipeline\n",
    "\n",
    "pipe_stunting(pop.index, skip_post_processor=True).head()"
   ]
  },
  {
   "cell_type": "markdown",
   "metadata": {},
   "source": [
    "## Create mask to filter alive/dead population "
   ]
  },
  {
   "cell_type": "code",
   "execution_count": 18,
   "metadata": {},
   "outputs": [
    {
     "data": {
      "text/plain": [
       "0    True\n",
       "1    True\n",
       "2    True\n",
       "3    True\n",
       "4    True\n",
       "Name: alive, dtype: bool"
      ]
     },
     "execution_count": 18,
     "metadata": {},
     "output_type": "execute_result"
    }
   ],
   "source": [
    "# create mask; read more about masking here ->http://danielandreasen.github.io/:about/2015/01/19/masks-in-python/\n",
    "\n",
    "#(pop.alive == 'alive').all()\n",
    "\n",
    "mask_alive = pop.alive == 'alive'\n",
    "\n",
    "#mask_alive[:5] = False\n",
    "mask_alive.head()"
   ]
  },
  {
   "cell_type": "code",
   "execution_count": 19,
   "metadata": {},
   "outputs": [
    {
     "data": {
      "text/html": [
       "<div>\n",
       "<style scoped>\n",
       "    .dataframe tbody tr th:only-of-type {\n",
       "        vertical-align: middle;\n",
       "    }\n",
       "\n",
       "    .dataframe tbody tr th {\n",
       "        vertical-align: top;\n",
       "    }\n",
       "\n",
       "    .dataframe thead th {\n",
       "        text-align: right;\n",
       "    }\n",
       "</style>\n",
       "<table border=\"1\" class=\"dataframe\">\n",
       "  <thead>\n",
       "    <tr style=\"text-align: right;\">\n",
       "      <th></th>\n",
       "      <th>birth_weight</th>\n",
       "      <th>gestation_time</th>\n",
       "    </tr>\n",
       "  </thead>\n",
       "  <tbody>\n",
       "    <tr>\n",
       "      <th>0</th>\n",
       "      <td>3357.876944</td>\n",
       "      <td>38.696547</td>\n",
       "    </tr>\n",
       "    <tr>\n",
       "      <th>1</th>\n",
       "      <td>2876.793907</td>\n",
       "      <td>40.506541</td>\n",
       "    </tr>\n",
       "    <tr>\n",
       "      <th>2</th>\n",
       "      <td>2996.381503</td>\n",
       "      <td>38.588442</td>\n",
       "    </tr>\n",
       "    <tr>\n",
       "      <th>3</th>\n",
       "      <td>3171.544096</td>\n",
       "      <td>37.822455</td>\n",
       "    </tr>\n",
       "    <tr>\n",
       "      <th>4</th>\n",
       "      <td>4435.535254</td>\n",
       "      <td>37.854704</td>\n",
       "    </tr>\n",
       "  </tbody>\n",
       "</table>\n",
       "</div>"
      ],
      "text/plain": [
       "   birth_weight  gestation_time\n",
       "0   3357.876944       38.696547\n",
       "1   2876.793907       40.506541\n",
       "2   2996.381503       38.588442\n",
       "3   3171.544096       37.822455\n",
       "4   4435.535254       37.854704"
      ]
     },
     "execution_count": 19,
     "metadata": {},
     "output_type": "execute_result"
    }
   ],
   "source": [
    "# birthweight\n",
    "\n",
    "#pipe_lbwsg(pd.Index(range(8)), skip_post_processor=True).head(10) #tells the pipeline to select the first 8 indexes\n",
    "pipe_lbwsg(pop.index, skip_post_processor=True).head()\n"
   ]
  },
  {
   "cell_type": "code",
   "execution_count": 20,
   "metadata": {},
   "outputs": [
    {
     "data": {
      "text/html": [
       "<div>\n",
       "<style scoped>\n",
       "    .dataframe tbody tr th:only-of-type {\n",
       "        vertical-align: middle;\n",
       "    }\n",
       "\n",
       "    .dataframe tbody tr th {\n",
       "        vertical-align: top;\n",
       "    }\n",
       "\n",
       "    .dataframe thead th {\n",
       "        text-align: right;\n",
       "    }\n",
       "</style>\n",
       "<table border=\"1\" class=\"dataframe\">\n",
       "  <thead>\n",
       "    <tr style=\"text-align: right;\">\n",
       "      <th></th>\n",
       "      <th>tracked</th>\n",
       "      <th>mother_malnourished</th>\n",
       "      <th>scenario_maternal_supplementation_type</th>\n",
       "      <th>baseline_maternal_supplementation_type</th>\n",
       "      <th>previous_protein_energy_malnutrition</th>\n",
       "      <th>previous_lower_respiratory_infections</th>\n",
       "      <th>previous_measles</th>\n",
       "      <th>previous_diarrheal_diseases</th>\n",
       "      <th>years_lived_with_disability</th>\n",
       "      <th>cause_of_death</th>\n",
       "      <th>...</th>\n",
       "      <th>diarrheal_diseases</th>\n",
       "      <th>diarrheal_diseases_event_count</th>\n",
       "      <th>diarrheal_diseases_event_time</th>\n",
       "      <th>susceptible_to_diarrheal_diseases_event_count</th>\n",
       "      <th>susceptible_to_diarrheal_diseases_event_time</th>\n",
       "      <th>child_stunting_propensity</th>\n",
       "      <th>child_wasting_propensity</th>\n",
       "      <th>protein_energy_malnutrition</th>\n",
       "      <th>protein_energy_malnutrition_event_time</th>\n",
       "      <th>susceptible_to_protein_energy_malnutrition_event_time</th>\n",
       "    </tr>\n",
       "  </thead>\n",
       "  <tbody>\n",
       "    <tr>\n",
       "      <th>0</th>\n",
       "      <td>True</td>\n",
       "      <td>normal</td>\n",
       "      <td>none</td>\n",
       "      <td>none</td>\n",
       "      <td>susceptible_to_protein_energy_malnutrition</td>\n",
       "      <td>susceptible_to_lower_respiratory_infections</td>\n",
       "      <td>susceptible_to_measles</td>\n",
       "      <td>diarrheal_diseases</td>\n",
       "      <td>0.003540</td>\n",
       "      <td>not_dead</td>\n",
       "      <td>...</td>\n",
       "      <td>diarrheal_diseases</td>\n",
       "      <td>1</td>\n",
       "      <td>2020-07-26</td>\n",
       "      <td>0</td>\n",
       "      <td>NaT</td>\n",
       "      <td>0.332496</td>\n",
       "      <td>0.773213</td>\n",
       "      <td>susceptible_to_protein_energy_malnutrition</td>\n",
       "      <td>NaT</td>\n",
       "      <td>NaT</td>\n",
       "    </tr>\n",
       "    <tr>\n",
       "      <th>1</th>\n",
       "      <td>True</td>\n",
       "      <td>normal</td>\n",
       "      <td>none</td>\n",
       "      <td>none</td>\n",
       "      <td>protein_energy_malnutrition</td>\n",
       "      <td>susceptible_to_lower_respiratory_infections</td>\n",
       "      <td>susceptible_to_measles</td>\n",
       "      <td>susceptible_to_diarrheal_diseases</td>\n",
       "      <td>0.005231</td>\n",
       "      <td>not_dead</td>\n",
       "      <td>...</td>\n",
       "      <td>susceptible_to_diarrheal_diseases</td>\n",
       "      <td>0</td>\n",
       "      <td>NaT</td>\n",
       "      <td>0</td>\n",
       "      <td>NaT</td>\n",
       "      <td>0.393300</td>\n",
       "      <td>0.123403</td>\n",
       "      <td>protein_energy_malnutrition</td>\n",
       "      <td>2020-07-01</td>\n",
       "      <td>NaT</td>\n",
       "    </tr>\n",
       "    <tr>\n",
       "      <th>2</th>\n",
       "      <td>True</td>\n",
       "      <td>malnourished</td>\n",
       "      <td>none</td>\n",
       "      <td>none</td>\n",
       "      <td>protein_energy_malnutrition</td>\n",
       "      <td>susceptible_to_lower_respiratory_infections</td>\n",
       "      <td>susceptible_to_measles</td>\n",
       "      <td>susceptible_to_diarrheal_diseases</td>\n",
       "      <td>0.005306</td>\n",
       "      <td>not_dead</td>\n",
       "      <td>...</td>\n",
       "      <td>susceptible_to_diarrheal_diseases</td>\n",
       "      <td>0</td>\n",
       "      <td>NaT</td>\n",
       "      <td>0</td>\n",
       "      <td>NaT</td>\n",
       "      <td>0.938984</td>\n",
       "      <td>0.100728</td>\n",
       "      <td>protein_energy_malnutrition</td>\n",
       "      <td>2020-07-01</td>\n",
       "      <td>NaT</td>\n",
       "    </tr>\n",
       "    <tr>\n",
       "      <th>3</th>\n",
       "      <td>True</td>\n",
       "      <td>malnourished</td>\n",
       "      <td>ifa</td>\n",
       "      <td>ifa</td>\n",
       "      <td>susceptible_to_protein_energy_malnutrition</td>\n",
       "      <td>susceptible_to_lower_respiratory_infections</td>\n",
       "      <td>susceptible_to_measles</td>\n",
       "      <td>susceptible_to_diarrheal_diseases</td>\n",
       "      <td>0.000000</td>\n",
       "      <td>not_dead</td>\n",
       "      <td>...</td>\n",
       "      <td>susceptible_to_diarrheal_diseases</td>\n",
       "      <td>0</td>\n",
       "      <td>NaT</td>\n",
       "      <td>0</td>\n",
       "      <td>NaT</td>\n",
       "      <td>0.609167</td>\n",
       "      <td>0.578352</td>\n",
       "      <td>susceptible_to_protein_energy_malnutrition</td>\n",
       "      <td>NaT</td>\n",
       "      <td>NaT</td>\n",
       "    </tr>\n",
       "    <tr>\n",
       "      <th>4</th>\n",
       "      <td>True</td>\n",
       "      <td>normal</td>\n",
       "      <td>none</td>\n",
       "      <td>none</td>\n",
       "      <td>susceptible_to_protein_energy_malnutrition</td>\n",
       "      <td>susceptible_to_lower_respiratory_infections</td>\n",
       "      <td>susceptible_to_measles</td>\n",
       "      <td>susceptible_to_diarrheal_diseases</td>\n",
       "      <td>0.000000</td>\n",
       "      <td>not_dead</td>\n",
       "      <td>...</td>\n",
       "      <td>susceptible_to_diarrheal_diseases</td>\n",
       "      <td>0</td>\n",
       "      <td>NaT</td>\n",
       "      <td>0</td>\n",
       "      <td>NaT</td>\n",
       "      <td>0.193016</td>\n",
       "      <td>0.973632</td>\n",
       "      <td>susceptible_to_protein_energy_malnutrition</td>\n",
       "      <td>NaT</td>\n",
       "      <td>NaT</td>\n",
       "    </tr>\n",
       "  </tbody>\n",
       "</table>\n",
       "<p>5 rows × 42 columns</p>\n",
       "</div>"
      ],
      "text/plain": [
       "   tracked mother_malnourished scenario_maternal_supplementation_type  \\\n",
       "0     True              normal                                   none   \n",
       "1     True              normal                                   none   \n",
       "2     True        malnourished                                   none   \n",
       "3     True        malnourished                                    ifa   \n",
       "4     True              normal                                   none   \n",
       "\n",
       "  baseline_maternal_supplementation_type  \\\n",
       "0                                   none   \n",
       "1                                   none   \n",
       "2                                   none   \n",
       "3                                    ifa   \n",
       "4                                   none   \n",
       "\n",
       "         previous_protein_energy_malnutrition  \\\n",
       "0  susceptible_to_protein_energy_malnutrition   \n",
       "1                 protein_energy_malnutrition   \n",
       "2                 protein_energy_malnutrition   \n",
       "3  susceptible_to_protein_energy_malnutrition   \n",
       "4  susceptible_to_protein_energy_malnutrition   \n",
       "\n",
       "         previous_lower_respiratory_infections        previous_measles  \\\n",
       "0  susceptible_to_lower_respiratory_infections  susceptible_to_measles   \n",
       "1  susceptible_to_lower_respiratory_infections  susceptible_to_measles   \n",
       "2  susceptible_to_lower_respiratory_infections  susceptible_to_measles   \n",
       "3  susceptible_to_lower_respiratory_infections  susceptible_to_measles   \n",
       "4  susceptible_to_lower_respiratory_infections  susceptible_to_measles   \n",
       "\n",
       "         previous_diarrheal_diseases  years_lived_with_disability  \\\n",
       "0                 diarrheal_diseases                     0.003540   \n",
       "1  susceptible_to_diarrheal_diseases                     0.005231   \n",
       "2  susceptible_to_diarrheal_diseases                     0.005306   \n",
       "3  susceptible_to_diarrheal_diseases                     0.000000   \n",
       "4  susceptible_to_diarrheal_diseases                     0.000000   \n",
       "\n",
       "  cause_of_death  ...                 diarrheal_diseases  \\\n",
       "0       not_dead  ...                 diarrheal_diseases   \n",
       "1       not_dead  ...  susceptible_to_diarrheal_diseases   \n",
       "2       not_dead  ...  susceptible_to_diarrheal_diseases   \n",
       "3       not_dead  ...  susceptible_to_diarrheal_diseases   \n",
       "4       not_dead  ...  susceptible_to_diarrheal_diseases   \n",
       "\n",
       "   diarrheal_diseases_event_count diarrheal_diseases_event_time  \\\n",
       "0                               1                    2020-07-26   \n",
       "1                               0                           NaT   \n",
       "2                               0                           NaT   \n",
       "3                               0                           NaT   \n",
       "4                               0                           NaT   \n",
       "\n",
       "   susceptible_to_diarrheal_diseases_event_count  \\\n",
       "0                                              0   \n",
       "1                                              0   \n",
       "2                                              0   \n",
       "3                                              0   \n",
       "4                                              0   \n",
       "\n",
       "  susceptible_to_diarrheal_diseases_event_time child_stunting_propensity  \\\n",
       "0                                          NaT                  0.332496   \n",
       "1                                          NaT                  0.393300   \n",
       "2                                          NaT                  0.938984   \n",
       "3                                          NaT                  0.609167   \n",
       "4                                          NaT                  0.193016   \n",
       "\n",
       "  child_wasting_propensity                 protein_energy_malnutrition  \\\n",
       "0                 0.773213  susceptible_to_protein_energy_malnutrition   \n",
       "1                 0.123403                 protein_energy_malnutrition   \n",
       "2                 0.100728                 protein_energy_malnutrition   \n",
       "3                 0.578352  susceptible_to_protein_energy_malnutrition   \n",
       "4                 0.973632  susceptible_to_protein_energy_malnutrition   \n",
       "\n",
       "   protein_energy_malnutrition_event_time  \\\n",
       "0                                     NaT   \n",
       "1                              2020-07-01   \n",
       "2                              2020-07-01   \n",
       "3                                     NaT   \n",
       "4                                     NaT   \n",
       "\n",
       "   susceptible_to_protein_energy_malnutrition_event_time  \n",
       "0                                                NaT      \n",
       "1                                                NaT      \n",
       "2                                                NaT      \n",
       "3                                                NaT      \n",
       "4                                                NaT      \n",
       "\n",
       "[5 rows x 42 columns]"
      ]
     },
     "execution_count": 20,
     "metadata": {},
     "output_type": "execute_result"
    }
   ],
   "source": [
    "pop[mask_alive].head()\n",
    "\n",
    "#pop[bolean series] --> if you pass a bolean series inside square brackets of a data frame, you get a dataframe where bolean is true\n",
    "# the boleans series is a different object, so make sure they have matching indexes"
   ]
  },
  {
   "cell_type": "markdown",
   "metadata": {},
   "source": [
    "# create index for alive population and dead population "
   ]
  },
  {
   "cell_type": "code",
   "execution_count": 21,
   "metadata": {},
   "outputs": [],
   "source": [
    "#another way to do it\n",
    "alive_pop = pop.loc[mask_alive, :]\n",
    "dead_pop = pop.loc[~mask_alive, :]\n",
    "\n",
    "# pop.loc[mask_alive, ['mother_malnourished', 'tracked']].head() \n",
    "\n",
    "# two dimensions of dataframe where loc[row,columns]\n",
    "# here I'm saying i only want the rows defined by my ask, and the colon means all columns \n",
    "# .loc makes it more clear which filters I am using for rows and columns"
   ]
  },
  {
   "cell_type": "code",
   "execution_count": 22,
   "metadata": {
    "scrolled": true
   },
   "outputs": [
    {
     "data": {
      "text/plain": [
       "Int64Index([   0,    1,    2,    3,    4,    5,    6,    7,    8,    9,\n",
       "            ...\n",
       "            9990, 9991, 9992, 9993, 9994, 9995, 9996, 9997, 9998, 9999],\n",
       "           dtype='int64', length=9789)"
      ]
     },
     "execution_count": 22,
     "metadata": {},
     "output_type": "execute_result"
    }
   ],
   "source": [
    "alive_pop.index"
   ]
  },
  {
   "cell_type": "code",
   "execution_count": 23,
   "metadata": {},
   "outputs": [
    {
     "data": {
      "text/plain": [
       "Int64Index([ 167,  202,  231,  278,  421,  494,  509,  671,  702,  764,\n",
       "            ...\n",
       "            9613, 9666, 9677, 9690, 9712, 9786, 9851, 9862, 9941, 9943],\n",
       "           dtype='int64', length=211)"
      ]
     },
     "execution_count": 23,
     "metadata": {},
     "output_type": "execute_result"
    }
   ],
   "source": [
    "dead_pop.index"
   ]
  },
  {
   "cell_type": "code",
   "execution_count": 24,
   "metadata": {},
   "outputs": [
    {
     "data": {
      "text/plain": [
       "Int64Index([   0,    1,    2,    3,    4,    5,    6,    7,    8,    9,\n",
       "            ...\n",
       "            9990, 9991, 9992, 9993, 9994, 9995, 9996, 9997, 9998, 9999],\n",
       "           dtype='int64', length=9789)"
      ]
     },
     "execution_count": 24,
     "metadata": {},
     "output_type": "execute_result"
    }
   ],
   "source": [
    "pop.index[mask_alive]\n",
    "\n",
    "#by default, this is giving us a pd index data frame with all the values where mask_alive = alive is TRUE\n",
    "\n",
    "#pop.index[mask_alive[~mask_alive].index] # ~ means mask_alive= False (~ this is the complement operator)"
   ]
  },
  {
   "cell_type": "code",
   "execution_count": 25,
   "metadata": {},
   "outputs": [
    {
     "data": {
      "text/plain": [
       "Int64Index([   0,    1,    2,    3,    4,    5,    6,    7,    8,    9,\n",
       "            ...\n",
       "            9990, 9991, 9992, 9993, 9994, 9995, 9996, 9997, 9998, 9999],\n",
       "           dtype='int64', length=9789)"
      ]
     },
     "execution_count": 25,
     "metadata": {},
     "output_type": "execute_result"
    }
   ],
   "source": [
    "alive_index = alive_pop.index\n",
    "dead_index = dead_pop.index\n",
    "alive_index"
   ]
  },
  {
   "cell_type": "markdown",
   "metadata": {},
   "source": [
    "# 5. Create dataframe with interested variables"
   ]
  },
  {
   "cell_type": "code",
   "execution_count": 26,
   "metadata": {},
   "outputs": [
    {
     "data": {
      "text/plain": [
       "9789"
      ]
     },
     "execution_count": 26,
     "metadata": {},
     "output_type": "execute_result"
    }
   ],
   "source": [
    "#get the dataframe with individual data to look at correlation between birthweight and wasting/stunting z scores\n",
    "\n",
    "df1 = pd.DataFrame({'stunting': pipe_stunting(alive_index, skip_post_processor=True),\n",
    "                    'wasting': pipe_wasting(alive_index, skip_post_processor=True),\n",
    "                    'lbwsg': pipe_lbwsg(alive_index, skip_post_processor=True).birth_weight,\n",
    "                    'birth_weight': pop.loc[alive_index].birth_weight,\n",
    "                    'mom_status': pop.loc[alive_index].mother_malnourished,\n",
    "                    'ifa_status': pop.loc[alive_index].baseline_maternal_supplementation_type,\n",
    "                    'alive_status': pop.loc[alive_index].alive })\n",
    "len(df1)\n",
    "\n",
    "##note number who died is 10,000-len(df1)"
   ]
  },
  {
   "cell_type": "code",
   "execution_count": 27,
   "metadata": {},
   "outputs": [
    {
     "data": {
      "text/plain": [
       "9789"
      ]
     },
     "execution_count": 27,
     "metadata": {},
     "output_type": "execute_result"
    }
   ],
   "source": [
    "#get the dataframe with individual data to look at correlation between birthweight and wasting/stunting z scores\n",
    "\n",
    "df2 = pd.DataFrame({'stunting_mali': pipe_stunting_mali(alive_index, skip_post_processor=True),\n",
    "                    'wasting_mali': pipe_wasting_mali(alive_index, skip_post_processor=True),\n",
    "                    'lbwsg_mali': pipe_lbwsg_mali(alive_index, skip_post_processor=True).birth_weight,\n",
    "                    'birth_weight_mali': pop_mali.loc[alive_index].birth_weight,\n",
    "                    'mom_status_mali': pop_mali.loc[alive_index].mother_malnourished,\n",
    "                    'ifa_status_mali': pop_mali.loc[alive_index].baseline_maternal_supplementation_type,\n",
    "                    'alive_status_mali': pop_mali.loc[alive_index].alive })\n",
    "len(df2)\n",
    "\n",
    "##note number who died is 10,000-len(df1)"
   ]
  },
  {
   "cell_type": "markdown",
   "metadata": {},
   "source": [
    "# 6. Explore variables"
   ]
  },
  {
   "cell_type": "code",
   "execution_count": 28,
   "metadata": {
    "scrolled": true
   },
   "outputs": [
    {
     "name": "stdout",
     "output_type": "stream",
     "text": [
      "0    10.990586\n",
      "1     7.905348\n",
      "2     7.051595\n",
      "3     9.493579\n",
      "4    13.244393\n",
      "Name: wasting, dtype: float64\n",
      "9.69801910423953\n"
     ]
    }
   ],
   "source": [
    "print(df1.wasting.head())\n",
    "print(df1.wasting.mean())"
   ]
  },
  {
   "cell_type": "markdown",
   "metadata": {},
   "source": [
    "## birthweight by mom status"
   ]
  },
  {
   "cell_type": "code",
   "execution_count": 29,
   "metadata": {
    "scrolled": false
   },
   "outputs": [
    {
     "name": "stdout",
     "output_type": "stream",
     "text": [
      "birthweight from malnourished mothers = 2746.148244427282\n",
      "birthweight from normal mothers = 3018.1268533151165\n",
      "birthweight difference = 271.9786088878345\n"
     ]
    }
   ],
   "source": [
    "gb = df1.groupby('mom_status')\n",
    "\n",
    "print('birthweight from malnourished mothers = ' + str(gb.get_group('malnourished').lbwsg.mean()))\n",
    "print('birthweight from normal mothers = ' + str(gb.get_group('normal').lbwsg.mean()))\n",
    "print('birthweight difference = ' + str(gb.get_group('normal').lbwsg.mean()-gb.get_group('malnourished').lbwsg.mean()))\n",
    "\n",
    "# we want to update this to new data where we got the delta birthweight shift in grams from the literature of 160g"
   ]
  },
  {
   "cell_type": "code",
   "execution_count": 30,
   "metadata": {},
   "outputs": [
    {
     "name": "stdout",
     "output_type": "stream",
     "text": [
      "birthweight from malnourished mothers = 2794.586841699748\n",
      "birthweight from normal mothers = 3014.4989778569407\n",
      "birthweight difference = 219.91213615719244\n"
     ]
    }
   ],
   "source": [
    "gb2 = df2.groupby('mom_status_mali')\n",
    "\n",
    "print('birthweight from malnourished mothers = ' + str(gb2.get_group('malnourished').lbwsg_mali.mean()))\n",
    "print('birthweight from normal mothers = ' + str(gb2.get_group('normal').lbwsg_mali.mean()))\n",
    "print('birthweight difference = ' + str(gb2.get_group('normal').lbwsg_mali.mean()-gb2.get_group('malnourished').lbwsg_mali.mean()))\n",
    "\n",
    "# we want to update this to new data where we got the delta birthweight shift in grams from the literature of 160g"
   ]
  },
  {
   "cell_type": "code",
   "execution_count": 31,
   "metadata": {
    "scrolled": false
   },
   "outputs": [
    {
     "data": {
      "text/plain": [
       "<matplotlib.collections.PathCollection at 0x2b7e83b89d30>"
      ]
     },
     "execution_count": 31,
     "metadata": {},
     "output_type": "execute_result"
    },
    {
     "data": {
      "image/png": "[encoded data removed]",
      "text/plain": [
       "<Figure size 432x288 with 1 Axes>"
      ]
     },
     "metadata": {
      "needs_background": "light"
     },
     "output_type": "display_data"
    }
   ],
   "source": [
    "pyplot.scatter(df1.mom_status, df1.lbwsg)"
   ]
  },
  {
   "cell_type": "markdown",
   "metadata": {},
   "source": [
    "## stunting z-score by mom status"
   ]
  },
  {
   "cell_type": "code",
   "execution_count": 32,
   "metadata": {},
   "outputs": [
    {
     "ename": "NameError",
     "evalue": "name 'mal_stunted' is not defined",
     "output_type": "error",
     "traceback": [
      "\u001b[0;31m---------------------------------------------------------------------------\u001b[0m",
      "\u001b[0;31mNameError\u001b[0m                                 Traceback (most recent call last)",
      "\u001b[0;32m<ipython-input-32-bc4f308c50c0>\u001b[0m in \u001b[0;36m<module>\u001b[0;34m\u001b[0m\n\u001b[1;32m      3\u001b[0m \u001b[0mmal_stunted_mali\u001b[0m \u001b[0;34m=\u001b[0m \u001b[0mgb2\u001b[0m\u001b[0;34m.\u001b[0m\u001b[0mget_group\u001b[0m\u001b[0;34m(\u001b[0m\u001b[0;34m'malnourished'\u001b[0m\u001b[0;34m)\u001b[0m\u001b[0;34m.\u001b[0m\u001b[0mstunting_mali\u001b[0m\u001b[0;34m.\u001b[0m\u001b[0mmean\u001b[0m\u001b[0;34m(\u001b[0m\u001b[0;34m)\u001b[0m\u001b[0;34m-\u001b[0m\u001b[0;36m10\u001b[0m\u001b[0;34m\u001b[0m\u001b[0;34m\u001b[0m\u001b[0m\n\u001b[1;32m      4\u001b[0m \u001b[0mnorm_stunted_mali\u001b[0m \u001b[0;34m=\u001b[0m \u001b[0mgb2\u001b[0m\u001b[0;34m.\u001b[0m\u001b[0mget_group\u001b[0m\u001b[0;34m(\u001b[0m\u001b[0;34m'normal'\u001b[0m\u001b[0;34m)\u001b[0m\u001b[0;34m.\u001b[0m\u001b[0mstunting_mali\u001b[0m\u001b[0;34m.\u001b[0m\u001b[0mmean\u001b[0m\u001b[0;34m(\u001b[0m\u001b[0;34m)\u001b[0m\u001b[0;34m-\u001b[0m\u001b[0;36m10\u001b[0m\u001b[0;34m\u001b[0m\u001b[0;34m\u001b[0m\u001b[0m\n\u001b[0;32m----> 5\u001b[0;31m \u001b[0mstunted_diff_mali\u001b[0m \u001b[0;34m=\u001b[0m \u001b[0;34m(\u001b[0m\u001b[0mmal_stunted\u001b[0m\u001b[0;34m)\u001b[0m \u001b[0;34m-\u001b[0m \u001b[0;34m(\u001b[0m\u001b[0mnorm_stunted\u001b[0m\u001b[0;34m)\u001b[0m\u001b[0;34m\u001b[0m\u001b[0;34m\u001b[0m\u001b[0m\n\u001b[0m\u001b[1;32m      6\u001b[0m \u001b[0;34m\u001b[0m\u001b[0m\n\u001b[1;32m      7\u001b[0m \u001b[0;34m\u001b[0m\u001b[0m\n",
      "\u001b[0;31mNameError\u001b[0m: name 'mal_stunted' is not defined"
     ]
    }
   ],
   "source": [
    "gb2 = df2.groupby('mom_status_mali')\n",
    "\n",
    "mal_stunted_mali = gb2.get_group('malnourished').stunting_mali.mean()-10\n",
    "norm_stunted_mali = gb2.get_group('normal').stunting_mali.mean()-10\n",
    "stunted_diff_mali = (mal_stunted) - (norm_stunted)\n",
    "\n",
    "\n",
    "print('stunting z-score from malnourished mothers = ' + str(mal_stunted_mali))\n",
    "print('stunting z-score from normal mothers = ' + str(norm_stunted_mali))\n",
    "print('stunting z-score difference = ' + str(stunted_diff_mali))"
   ]
  },
  {
   "cell_type": "code",
   "execution_count": null,
   "metadata": {},
   "outputs": [],
   "source": [
    "gb = df1.groupby('mom_status')\n",
    "\n",
    "mal_stunted = gb.get_group('malnourished').stunting.mean()-10\n",
    "norm_stunted = gb.get_group('normal').stunting.mean()-10\n",
    "stunted_diff = (mal_stunted) - (norm_stunted)\n",
    "\n",
    "\n",
    "print('stunting z-score from malnourished mothers = ' + str(mal_stunted))\n",
    "print('stunting z-score from normal mothers = ' + str(norm_stunted))\n",
    "print('stunting z-score difference = ' + str(stunted_diff))"
   ]
  },
  {
   "cell_type": "code",
   "execution_count": null,
   "metadata": {
    "scrolled": true
   },
   "outputs": [],
   "source": [
    "#scatter plot of z scores for stunting by mom status\n",
    "\n",
    "pyplot.scatter(df1.mom_status, df1.stunting-10)"
   ]
  },
  {
   "cell_type": "markdown",
   "metadata": {},
   "source": [
    "## wasting z-score by mom status"
   ]
  },
  {
   "cell_type": "code",
   "execution_count": null,
   "metadata": {},
   "outputs": [],
   "source": [
    "gb = df1.groupby('mom_status')\n",
    "\n",
    "mal_wasted = gb.get_group('malnourished').wasting.mean() -10\n",
    "norm_wasted = gb.get_group('normal').wasting.mean() -10\n",
    "wasted_diff = (mal_wasted) - (norm_wasted)\n",
    "\n",
    "\n",
    "print('wasting z-score from malnourished mothers = ' + str(mal_wasted))\n",
    "print('wasting z-score from normal mothers = ' + str(norm_wasted))\n",
    "print('wasting z-score difference = ' + str(wasted_diff))"
   ]
  },
  {
   "cell_type": "code",
   "execution_count": null,
   "metadata": {
    "scrolled": false
   },
   "outputs": [],
   "source": [
    "pyplot.scatter(df1.mom_status, df1.wasting-10)"
   ]
  },
  {
   "cell_type": "markdown",
   "metadata": {},
   "source": [
    "## Make scatter plots to visually inspect correlation"
   ]
  },
  {
   "cell_type": "code",
   "execution_count": null,
   "metadata": {},
   "outputs": [],
   "source": [
    "pyplot.scatter(df2.lbwsg_mali, df2.wasting_mali-10)\n",
    "pyplot.show()"
   ]
  },
  {
   "cell_type": "code",
   "execution_count": null,
   "metadata": {
    "scrolled": false
   },
   "outputs": [],
   "source": [
    "#get individual birthweight and individual WLZ - overall\n",
    "\n",
    "pyplot.scatter(df1.lbwsg, df1.wasting-10)\n",
    "pyplot.show()"
   ]
  },
  {
   "cell_type": "code",
   "execution_count": null,
   "metadata": {},
   "outputs": [],
   "source": [
    "#get individual birthweight and individual LAZ - overall\n",
    "\n",
    "pyplot.scatter(df1.lbwsg, df1.stunting-10)\n",
    "pyplot.show()"
   ]
  },
  {
   "cell_type": "code",
   "execution_count": null,
   "metadata": {},
   "outputs": [],
   "source": [
    "mask_mommal = df1.mom_status == 'malnourished'"
   ]
  },
  {
   "cell_type": "code",
   "execution_count": null,
   "metadata": {},
   "outputs": [],
   "source": [
    "#lbw and wasting among normal mothers\n",
    "\n",
    "pyplot.scatter(df1.loc[~mask_mommal,['lbwsg']], df1.loc[~mask_mommal,['wasting']]-10)"
   ]
  },
  {
   "cell_type": "code",
   "execution_count": null,
   "metadata": {
    "scrolled": false
   },
   "outputs": [],
   "source": [
    "#lbw and wasting among malnourished \n",
    "\n",
    "pyplot.scatter(df1.loc[mask_mommal,['lbwsg']], df1.loc[mask_mommal,['wasting']]-10)"
   ]
  },
  {
   "cell_type": "markdown",
   "metadata": {},
   "source": [
    "# 7. Calulcate correlation and spearman co-efficient"
   ]
  },
  {
   "cell_type": "markdown",
   "metadata": {},
   "source": [
    "correlation formula\n",
    "\n",
    "cov(X, Y) = (sum (x - mean(X)) * (y - mean(Y)) ) * 1/(n-1)"
   ]
  },
  {
   "cell_type": "code",
   "execution_count": null,
   "metadata": {},
   "outputs": [],
   "source": [
    "bw_mali = df2.lbwsg_mali\n",
    "laz_mali = df2.stunting_mali-10\n",
    "wlz_mali = df2.wasting_mali-10\n",
    "n_mali = len(df2)\n"
   ]
  },
  {
   "cell_type": "code",
   "execution_count": null,
   "metadata": {},
   "outputs": [],
   "source": [
    "bw = df1.lbwsg\n",
    "laz = df1.stunting-10\n",
    "wlz = df1.wasting-10\n",
    "n = len(df1)\n"
   ]
  },
  {
   "cell_type": "code",
   "execution_count": null,
   "metadata": {},
   "outputs": [],
   "source": [
    "#Covariance\n",
    "\n",
    "covariance_laz = cov(bw, laz)\n",
    "print(covariance_laz)"
   ]
  },
  {
   "cell_type": "code",
   "execution_count": null,
   "metadata": {
    "scrolled": true
   },
   "outputs": [],
   "source": [
    "covariance_wlz = cov(bw, wlz)\n",
    "print(covariance_wlz)"
   ]
  },
  {
   "cell_type": "code",
   "execution_count": null,
   "metadata": {},
   "outputs": [],
   "source": [
    "print(stats.spearmanr(bw_mali, laz_mali))"
   ]
  },
  {
   "cell_type": "code",
   "execution_count": null,
   "metadata": {
    "scrolled": true
   },
   "outputs": [],
   "source": [
    "print('spearman correlation coefficient for birthweight and laz at 6 months:')\n",
    "print(stats.spearmanr(bw, laz))\n",
    "\n",
    "print('spearman correlation coefficient for birthweight and wlz at 6 months:')\n",
    "print(stats.spearmanr(bw, wlz))"
   ]
  },
  {
   "cell_type": "markdown",
   "metadata": {},
   "source": [
    "Pearson formula\n",
    "\t\n",
    "Pearson's correlation coefficient = covariance(X, Y) / (stdv(X) * stdv(Y))\n",
    "\n",
    "Spearman formula\n",
    "\n",
    "Spearman's correlation coefficient = covariance(rank(X), rank(Y)) / (stdv(rank(X)) * stdv(rank(Y)))"
   ]
  },
  {
   "cell_type": "markdown",
   "metadata": {},
   "source": [
    "# Abie's proposal\n",
    "\n",
    "0) intialize simulants attributes for birthweight and gestational age \n",
    "\n",
    "1) find a pseudo propensity for birthweight between 0-1 which says effectively where individul lies in the birthweight distribution \n",
    "\n",
    "- eg. if simulant 0 has birthweight 3371g, figure out where this simulant lies in the percentile in the distribution this simulants lie\n",
    "\n",
    "2) initliaze a laz score to be correlated with the birthweight with the spearman correlation of 0.4 (from the maled data) \n",
    "\n",
    "\n",
    "\n"
   ]
  }
 ],
 "metadata": {
  "kernelspec": {
   "display_name": "gates_bep",
   "language": "python",
   "name": "gates_bep"
  },
  "language_info": {
   "codemirror_mode": {
    "name": "ipython",
    "version": 3
   },
   "file_extension": ".py",
   "mimetype": "text/x-python",
   "name": "python",
   "nbconvert_exporter": "python",
   "pygments_lexer": "ipython3",
   "version": "3.6.10"
  }
 },
 "nbformat": 4,
 "nbformat_minor": 4
}
